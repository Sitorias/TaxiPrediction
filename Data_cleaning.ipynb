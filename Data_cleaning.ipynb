{
 "cells": [
  {
   "cell_type": "markdown",
   "metadata": {},
   "source": [
    "# Clean train Data"
   ]
  },
  {
   "cell_type": "code",
   "execution_count": 2,
   "metadata": {},
   "outputs": [],
   "source": [
    "# Manage imports\n",
    "import numpy as np\n",
    "import pandas as pd\n",
    "import seaborn as sns  \n",
    "import matplotlib.pyplot as plt"
   ]
  },
  {
   "cell_type": "code",
   "execution_count": null,
   "metadata": {},
   "outputs": [],
   "source": [
    "# read data in memory\n",
    "data = pd.read_csv(\"train.csv\")"
   ]
  },
  {
   "cell_type": "code",
   "execution_count": null,
   "metadata": {},
   "outputs": [],
   "source": [
    "data.RatecodeID.value_counts()"
   ]
  },
  {
   "cell_type": "markdown",
   "metadata": {},
   "source": [
    "## Obvious invalid values"
   ]
  },
  {
   "cell_type": "markdown",
   "metadata": {},
   "source": [
    "Clean the data.\n",
    "Remove all obvious outliers:\n",
    "* Invalid Ratecoded (must be in range 1,2,3,4,5,6)\n",
    "* Invalid improvement_surcharge (only .5 is valid!)\n",
    "* Invalid mta_tax (either 0 or .5)\n",
    "* Invalid extra (0,0.5,1,1.5,4.5)\n",
    "* All negative values (costs can't be negative!)\n",
    "* Drop useless information\n",
    "    * store_and_fwd_flag (Useless)\n",
    "    * Vendor ID (Useless)\n",
    "    * Improvement surcharge (Fixed value!)\n",
    "* Calculate total amount, drop outliers (values which doesnt equal to the total amount must be wrong!)\n",
    "* Save pickup and dropoff time as datetime object"
   ]
  },
  {
   "cell_type": "code",
   "execution_count": null,
   "metadata": {},
   "outputs": [],
   "source": [
    "# Drop all data with invalid extra, improvement_surcharge, RatecodeID, mta_tax -> Invalid!\n",
    "df = data.drop(data[data.extra.isin([0,0.5,1,1.5,4.5]) == False].index)\n",
    "df = df.drop(df[df.improvement_surcharge!=0.3].index)\n",
    "# Also drop 6 -> No group rides in test data!\n",
    "df = df.drop(df[df.RatecodeID.isin([1,2,3,4,5]) == False].index)\n",
    "df = df.drop(df[df.mta_tax.isin([0,0.5]) == False].index)\n",
    "\n",
    "df = df.drop(df[df.tip_amount < 0].index)\n",
    "df = df.drop(df[df.fare_amount <= 0].index)\n",
    "df = df.drop(df[df.total_amount <= 0].index)\n",
    "df = df.drop(df[df.tolls_amount < 0].index)\n",
    "df = df.drop(df[df.pickup_latitude == 0].index)\n",
    "df = df.drop(df[df.pickup_longitude == 0].index)\n",
    "df = df.drop(df[df.dropoff_latitude == 0].index)\n",
    "df = df.drop(df[df.dropoff_longitude == 0].index)"
   ]
  },
  {
   "cell_type": "code",
   "execution_count": null,
   "metadata": {},
   "outputs": [],
   "source": [
    "df.RatecodeID.value_counts()"
   ]
  },
  {
   "cell_type": "code",
   "execution_count": null,
   "metadata": {},
   "outputs": [],
   "source": [
    "# Drop useless columns\n",
    "df = df.drop(['VendorID','store_and_fwd_flag','improvement_surcharge'],axis=1)"
   ]
  },
  {
   "cell_type": "code",
   "execution_count": null,
   "metadata": {},
   "outputs": [],
   "source": [
    "# drop invalid rush hour surtaxes\n",
    "df = df.drop(df[(df.RatecodeID !=2) & ((df.extra.isin([0,0.5,1,1.5]))==False)].index)\n",
    "df = df.drop(df[(df.RatecodeID ==2) & ((df.extra.isin([0,4.5]))==False)].index)\n",
    "df = df.drop(df[(df.RatecodeID ==3) & (df.mta_tax == .5)].index)\n",
    "df = df.drop(df[(df.RatecodeID.isin([2,4])) & (df.mta_tax == 0)].index)\n",
    "\n",
    "# Rush Hour on Weekends\n",
    "df = df.drop(df[(df.extra.isin([1,4.5])) & (pd.to_datetime(df.tpep_pickup_datetime).dt.weekday>=5)].index)\n",
    "# Rush Hour picked up after 20\n",
    "df = df.drop(df[(df.extra.isin([1,4.5])) & (pd.to_datetime(df.tpep_pickup_datetime).dt.hour >= 20)].index)\n",
    "# Rush Hour dropped before 16\n",
    "df = df.drop(df[(df.extra.isin([1,4.5])) & (pd.to_datetime(df.tpep_dropoff_datetime).dt.hour < 16)].index)\n",
    "# Overnight picked up after 6 and dropped before 20\n",
    "df = df.drop(df[(df.extra == 0.5) & \\\n",
    "    ((pd.to_datetime(df.tpep_pickup_datetime).dt.hour >= 6) & \\\n",
    "    (pd.to_datetime(df.tpep_dropoff_datetime).dt.hour < 20))].index)\n",
    "\n",
    "# Remove Dependant on Ratecode invalid data\n",
    "# All price steps are in 0.5! (excluding negotiated)\n",
    "df = df.drop(df[(df.RatecodeID !=5) & ((df.fare_amount%0.5)!=0)].index)\n",
    "df = df.drop(df[(df.RatecodeID ==2) & ((df.fare_amount!=52))].index)\n",
    "df = df.drop(df[(df.RatecodeID.isin([1,4,5])) & ((df.fare_amount<3))].index)\n",
    "\n",
    "# Remove values where total isnt the sum of all\n",
    "total = df.extra+df.tip_amount+df.tolls_amount+df.mta_tax+df.fare_amount + 0.3\n",
    "df = df.drop(df[df.total_amount != total].index)"
   ]
  },
  {
   "cell_type": "code",
   "execution_count": null,
   "metadata": {},
   "outputs": [],
   "source": [
    "df = df.drop(df[df.tip_amount > 100].index)\n",
    "df = df.drop(df[df.fare_amount > 200].index)\n",
    "df = df.drop(df[df.tolls_amount > 30].index)\n",
    "df = df.drop(df[(df.passenger_count < 1) | (df.passenger_count > 6)].index)"
   ]
  },
  {
   "cell_type": "code",
   "execution_count": null,
   "metadata": {},
   "outputs": [],
   "source": [
    "#removing outliers (far away from manhattan)\n",
    "manLat = 40.756716\n",
    "manLong = -73.985368\n",
    "margin = 1\n",
    "\n",
    "print(\"With outliers:\",np.shape(df))\n",
    "df = df.loc[(abs(df[\"dropoff_latitude\"]-manLat)<margin) \n",
    "                   &(abs(df[\"pickup_latitude\"]-manLat)<margin) \n",
    "                   &(abs(df[\"dropoff_longitude\"]-manLong)<margin) \n",
    "                   &(abs(df[\"pickup_longitude\"]-manLong)<margin)]\n",
    "print(\"Without outliers:\",np.shape(df))"
   ]
  },
  {
   "cell_type": "markdown",
   "metadata": {},
   "source": [
    "Transform datetime in datetime objects"
   ]
  },
  {
   "cell_type": "code",
   "execution_count": null,
   "metadata": {},
   "outputs": [],
   "source": [
    "df[\"tpep_pickup_datetime\"] = pd.to_datetime(df.tpep_pickup_datetime)\n",
    "df['tpep_dropoff_datetime'] = pd.to_datetime(df.tpep_dropoff_datetime)"
   ]
  },
  {
   "cell_type": "code",
   "execution_count": null,
   "metadata": {},
   "outputs": [],
   "source": [
    "# Get duration\n",
    "df['duration'] = pd.to_datetime(df[\"tpep_dropoff_datetime\"])-pd.to_datetime(df[\"tpep_pickup_datetime\"])"
   ]
  },
  {
   "cell_type": "code",
   "execution_count": null,
   "metadata": {},
   "outputs": [],
   "source": [
    "#drop all negative and too short rides  (< 30s , 40s is lowest in test data!)\n",
    "df = df.drop(df[df.duration < pd.Timedelta(\"30 seconds\")].index)\n",
    "\n",
    "# drop all > 3h (unreasonable long, 2:30 is longest in test data)\n",
    "df = df.drop(df[df.duration > pd.Timedelta(\"3 hours\")].index)"
   ]
  },
  {
   "cell_type": "markdown",
   "metadata": {},
   "source": [
    "Obvious wrong labeld extras!"
   ]
  },
  {
   "cell_type": "code",
   "execution_count": null,
   "metadata": {},
   "outputs": [],
   "source": [
    "df.info()"
   ]
  },
  {
   "cell_type": "code",
   "execution_count": null,
   "metadata": {},
   "outputs": [],
   "source": [
    "df.RatecodeID.value_counts()"
   ]
  },
  {
   "cell_type": "code",
   "execution_count": null,
   "metadata": {},
   "outputs": [],
   "source": [
    "df.head()"
   ]
  },
  {
   "cell_type": "markdown",
   "metadata": {},
   "source": [
    "# Check if data makes sense now"
   ]
  },
  {
   "cell_type": "code",
   "execution_count": null,
   "metadata": {},
   "outputs": [],
   "source": [
    "df.describe()"
   ]
  },
  {
   "cell_type": "code",
   "execution_count": null,
   "metadata": {},
   "outputs": [],
   "source": [
    "df.trip_distance.max()"
   ]
  },
  {
   "cell_type": "markdown",
   "metadata": {},
   "source": [
    "# Check Test Data"
   ]
  },
  {
   "cell_type": "code",
   "execution_count": 3,
   "metadata": {},
   "outputs": [],
   "source": [
    "test = pd.read_csv(\"test.csv\")"
   ]
  },
  {
   "cell_type": "code",
   "execution_count": 6,
   "metadata": {},
   "outputs": [
    {
     "data": {
      "text/plain": [
       "1    42950\n",
       "2    20635\n",
       "3      310\n",
       "4      105\n",
       "Name: payment_type, dtype: int64"
      ]
     },
     "execution_count": 6,
     "metadata": {},
     "output_type": "execute_result"
    }
   ],
   "source": [
    "test.payment_type.value_counts()"
   ]
  },
  {
   "cell_type": "code",
   "execution_count": 5,
   "metadata": {},
   "outputs": [
    {
     "data": {
      "text/plain": [
       "5    217\n",
       "4    109\n",
       "3    100\n",
       "2     13\n",
       "1      3\n",
       "Name: RatecodeID, dtype: int64"
      ]
     },
     "execution_count": 5,
     "metadata": {},
     "output_type": "execute_result"
    }
   ],
   "source": [
    "test[test.trip_distance > 30].RatecodeID.value_counts()"
   ]
  },
  {
   "cell_type": "code",
   "execution_count": null,
   "metadata": {},
   "outputs": [],
   "source": [
    "test.improvement_surcharge.value_counts()"
   ]
  },
  {
   "cell_type": "code",
   "execution_count": null,
   "metadata": {},
   "outputs": [],
   "source": [
    "test.passenger_count.value_counts()"
   ]
  },
  {
   "cell_type": "code",
   "execution_count": null,
   "metadata": {},
   "outputs": [],
   "source": [
    "test.pickup_latitude.value_counts()"
   ]
  },
  {
   "cell_type": "code",
   "execution_count": null,
   "metadata": {},
   "outputs": [],
   "source": [
    "#removing outliers (far away from manhattan)\n",
    "manLat = 40.756716\n",
    "manLong = -73.985368\n",
    "margin = 1.0\n",
    "\n",
    "print(\"With outliers:\",np.shape(test))\n",
    "test2 = test.loc[(abs(test[\"dropoff_latitude\"]-manLat)<margin) \n",
    "                   &(abs(test[\"pickup_latitude\"]-manLat)<margin) \n",
    "                   &(abs(test[\"dropoff_longitude\"]-manLong)<margin) \n",
    "                   &(abs(test[\"pickup_longitude\"]-manLong)<margin)]\n",
    "print(\"Without outliers:\",np.shape(test2))"
   ]
  },
  {
   "cell_type": "code",
   "execution_count": null,
   "metadata": {},
   "outputs": [],
   "source": [
    "test.loc[(abs(test[\"dropoff_latitude\"]-manLat)<margin) \n",
    "                   &(abs(test[\"pickup_latitude\"]-manLat)<margin) \n",
    "                   &(abs(test[\"dropoff_longitude\"]-manLong)>margin) \n",
    "                   &(abs(test[\"pickup_longitude\"]-manLong)<margin)]"
   ]
  },
  {
   "cell_type": "markdown",
   "metadata": {},
   "source": [
    "# Save"
   ]
  },
  {
   "cell_type": "code",
   "execution_count": null,
   "metadata": {},
   "outputs": [],
   "source": [
    "df.to_csv('clean.csv', index=True)"
   ]
  }
 ],
 "metadata": {
  "kernelspec": {
   "display_name": "Python 3",
   "language": "python",
   "name": "python3"
  },
  "language_info": {
   "codemirror_mode": {
    "name": "ipython",
    "version": 3
   },
   "file_extension": ".py",
   "mimetype": "text/x-python",
   "name": "python",
   "nbconvert_exporter": "python",
   "pygments_lexer": "ipython3",
   "version": "3.6.4"
  }
 },
 "nbformat": 4,
 "nbformat_minor": 2
}
