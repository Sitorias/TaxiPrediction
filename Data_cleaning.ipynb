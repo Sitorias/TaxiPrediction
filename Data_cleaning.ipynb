{
 "cells": [
  {
   "cell_type": "markdown",
   "metadata": {},
   "source": [
    "# Clean train Data"
   ]
  },
  {
   "cell_type": "code",
   "execution_count": 2,
   "metadata": {},
   "outputs": [],
   "source": [
    "# Manage imports\n",
    "import numpy as np\n",
    "import pandas as pd\n",
    "import seaborn as sns  \n",
    "import matplotlib.pyplot as plt"
   ]
  },
  {
   "cell_type": "code",
   "execution_count": 34,
   "metadata": {},
   "outputs": [],
   "source": [
    "# read data in memory\n",
    "data = pd.read_csv(\"C:\\\\Users\\\\Leo\\\\TaxiData\\\\train.csv\",index_col=0)"
   ]
  },
  {
   "cell_type": "code",
   "execution_count": 18,
   "metadata": {},
   "outputs": [
    {
     "data": {
      "text/plain": [
       "1     10815797\n",
       "2       255270\n",
       "5        36270\n",
       "3        22195\n",
       "4         5549\n",
       "99         272\n",
       "6          117\n",
       "Name: RatecodeID, dtype: int64"
      ]
     },
     "execution_count": 18,
     "metadata": {},
     "output_type": "execute_result"
    }
   ],
   "source": [
    "data.RatecodeID.value_counts()"
   ]
  },
  {
   "cell_type": "markdown",
   "metadata": {},
   "source": [
    "## Obvious invalid values"
   ]
  },
  {
   "cell_type": "markdown",
   "metadata": {},
   "source": [
    "Clean the data.\n",
    "Remove all obvious outliers:\n",
    "* Invalid Ratecoded (must be in range 1,2,3,4,5,6)\n",
    "* Invalid improvement_surcharge (only .5 is valid!)\n",
    "* Invalid mta_tax (either 0 or .5)\n",
    "* Invalid extra (0,0.5,1,1.5,4.5)\n",
    "* All negative values (costs can't be negative!)\n",
    "* Drop useless information\n",
    "    * store_and_fwd_flag (Useless)\n",
    "    * Vendor ID (Useless)\n",
    "    * Improvement surcharge (Fixed value!)\n",
    "* Calculate total amount, drop outliers (values which doesnt equal to the total amount must be wrong!)\n",
    "* Save pickup and dropoff time as datetime object"
   ]
  },
  {
   "cell_type": "code",
   "execution_count": 35,
   "metadata": {},
   "outputs": [],
   "source": [
    "# Drop all data with invalid extra, improvement_surcharge, RatecodeID, mta_tax -> Invalid!\n",
    "df = data.drop(data[data.extra.isin([0,0.5,1,1.5,4.5]) == False].index)\n",
    "df = df.drop(df[df.improvement_surcharge!=0.3].index)\n",
    "# Also drop 6 -> No group rides in test data!\n",
    "df = df.drop(df[df.RatecodeID.isin([1,2,3,4,5]) == False].index)\n",
    "df = df.drop(df[df.mta_tax.isin([0,0.5]) == False].index)\n",
    "\n",
    "df = df.drop(df[df.tip_amount < 0].index)\n",
    "df = df.drop(df[df.fare_amount <= 0].index)\n",
    "df = df.drop(df[df.total_amount <= 0].index)\n",
    "df = df.drop(df[df.tolls_amount < 0].index)\n",
    "df = df.drop(df[df.pickup_latitude == 0].index)\n",
    "df = df.drop(df[df.pickup_longitude == 0].index)\n",
    "df = df.drop(df[df.dropoff_latitude == 0].index)\n",
    "df = df.drop(df[df.dropoff_longitude == 0].index)"
   ]
  },
  {
   "cell_type": "code",
   "execution_count": 36,
   "metadata": {},
   "outputs": [
    {
     "data": {
      "text/plain": [
       "1    10670060\n",
       "2      249517\n",
       "5       26576\n",
       "3       21660\n",
       "4        5443\n",
       "Name: RatecodeID, dtype: int64"
      ]
     },
     "execution_count": 36,
     "metadata": {},
     "output_type": "execute_result"
    }
   ],
   "source": [
    "df.RatecodeID.value_counts()"
   ]
  },
  {
   "cell_type": "code",
   "execution_count": 37,
   "metadata": {},
   "outputs": [],
   "source": [
    "# Drop useless columns\n",
    "df = df.drop(['VendorID','store_and_fwd_flag','improvement_surcharge'],axis=1)"
   ]
  },
  {
   "cell_type": "code",
   "execution_count": 38,
   "metadata": {},
   "outputs": [],
   "source": [
    "# drop invalid rush hour surtaxes\n",
    "df = df.drop(df[(df.RatecodeID !=2) & ((df.extra.isin([0,0.5,1,1.5]))==False)].index)\n",
    "df = df.drop(df[(df.RatecodeID ==2) & ((df.extra.isin([0,4.5]))==False)].index)\n",
    "df = df.drop(df[(df.RatecodeID ==3) & (df.mta_tax == .5)].index)\n",
    "df = df.drop(df[(df.RatecodeID.isin([2,4])) & (df.mta_tax == 0)].index)\n",
    "\n",
    "# Rush Hour on Weekends\n",
    "df = df.drop(df[(df.extra.isin([1,4.5])) & (pd.to_datetime(df.tpep_pickup_datetime).dt.weekday>=5)].index)\n",
    "# Rush Hour picked up after 20\n",
    "df = df.drop(df[(df.extra.isin([1,4.5])) & (pd.to_datetime(df.tpep_pickup_datetime).dt.hour >= 20)].index)\n",
    "# Rush Hour dropped before 16\n",
    "df = df.drop(df[(df.extra.isin([1,4.5])) & (pd.to_datetime(df.tpep_dropoff_datetime).dt.hour < 16)].index)\n",
    "# Overnight picked up after 6 and dropped before 20\n",
    "df = df.drop(df[(df.extra == 0.5) & \\\n",
    "    ((pd.to_datetime(df.tpep_pickup_datetime).dt.hour >= 6) & \\\n",
    "    (pd.to_datetime(df.tpep_dropoff_datetime).dt.hour < 20))].index)\n",
    "\n",
    "# Remove Dependant on Ratecode invalid data\n",
    "# All price steps are in 0.5! (excluding negotiated)\n",
    "df = df.drop(df[(df.RatecodeID !=5) & ((df.fare_amount%0.5)!=0)].index)\n",
    "df = df.drop(df[(df.RatecodeID ==2) & ((df.fare_amount!=52))].index)\n",
    "df = df.drop(df[(df.RatecodeID.isin([1,4,5])) & ((df.fare_amount<3))].index)\n",
    "\n",
    "# Remove values where total isnt the sum of all\n",
    "total = df.extra+df.tip_amount+df.tolls_amount+df.mta_tax+df.fare_amount + 0.3\n",
    "df = df.drop(df[df.total_amount != total].index)"
   ]
  },
  {
   "cell_type": "code",
   "execution_count": 39,
   "metadata": {},
   "outputs": [],
   "source": [
    "df = df.drop(df[df.tip_amount > 100].index)\n",
    "df = df.drop(df[df.fare_amount > 200].index)\n",
    "df = df.drop(df[df.tolls_amount > 30].index)\n",
    "df = df.drop(df[(df.passenger_count < 1) | (df.passenger_count > 6)].index)"
   ]
  },
  {
   "cell_type": "code",
   "execution_count": 40,
   "metadata": {},
   "outputs": [
    {
     "name": "stdout",
     "output_type": "stream",
     "text": [
      "With outliers: (9115258, 16)\n",
      "Without outliers: (9115008, 16)\n"
     ]
    }
   ],
   "source": [
    "#removing outliers (far away from manhattan)\n",
    "manLat = 40.756716\n",
    "manLong = -73.985368\n",
    "margin = 1\n",
    "\n",
    "print(\"With outliers:\",np.shape(df))\n",
    "df = df.loc[(abs(df[\"dropoff_latitude\"]-manLat)<margin) \n",
    "                   &(abs(df[\"pickup_latitude\"]-manLat)<margin) \n",
    "                   &(abs(df[\"dropoff_longitude\"]-manLong)<margin) \n",
    "                   &(abs(df[\"pickup_longitude\"]-manLong)<margin)]\n",
    "print(\"Without outliers:\",np.shape(df))"
   ]
  },
  {
   "cell_type": "markdown",
   "metadata": {},
   "source": [
    "Transform datetime in datetime objects"
   ]
  },
  {
   "cell_type": "code",
   "execution_count": 41,
   "metadata": {},
   "outputs": [],
   "source": [
    "df[\"tpep_pickup_datetime\"] = pd.to_datetime(df.tpep_pickup_datetime)\n",
    "df['tpep_dropoff_datetime'] = pd.to_datetime(df.tpep_dropoff_datetime)"
   ]
  },
  {
   "cell_type": "code",
   "execution_count": 42,
   "metadata": {},
   "outputs": [],
   "source": [
    "# Get duration\n",
    "df['duration'] = pd.to_datetime(df[\"tpep_dropoff_datetime\"])-pd.to_datetime(df[\"tpep_pickup_datetime\"])"
   ]
  },
  {
   "cell_type": "code",
   "execution_count": 43,
   "metadata": {},
   "outputs": [],
   "source": [
    "#drop all negative and too short rides  (< 30s , 40s is lowest in test data!)\n",
    "df = df.drop(df[df.duration < pd.Timedelta(\"30 seconds\")].index)\n",
    "\n",
    "# drop all > 3h (unreasonable long, 2:30 is longest in test data)\n",
    "df = df.drop(df[df.duration > pd.Timedelta(\"3 hours\")].index)"
   ]
  },
  {
   "cell_type": "markdown",
   "metadata": {},
   "source": [
    "Obvious wrong labeld extras!"
   ]
  },
  {
   "cell_type": "code",
   "execution_count": 44,
   "metadata": {},
   "outputs": [
    {
     "name": "stdout",
     "output_type": "stream",
     "text": [
      "<class 'pandas.core.frame.DataFrame'>\n",
      "Int64Index: 9089862 entries, 0 to 11135469\n",
      "Data columns (total 17 columns):\n",
      "tpep_pickup_datetime     datetime64[ns]\n",
      "tpep_dropoff_datetime    datetime64[ns]\n",
      "passenger_count          int64\n",
      "trip_distance            float64\n",
      "pickup_longitude         float64\n",
      "pickup_latitude          float64\n",
      "RatecodeID               int64\n",
      "dropoff_longitude        float64\n",
      "dropoff_latitude         float64\n",
      "payment_type             int64\n",
      "fare_amount              float64\n",
      "extra                    float64\n",
      "mta_tax                  float64\n",
      "tip_amount               float64\n",
      "tolls_amount             float64\n",
      "total_amount             float64\n",
      "duration                 timedelta64[ns]\n",
      "dtypes: datetime64[ns](2), float64(11), int64(3), timedelta64[ns](1)\n",
      "memory usage: 1.2 GB\n"
     ]
    }
   ],
   "source": [
    "df.info()"
   ]
  },
  {
   "cell_type": "code",
   "execution_count": 45,
   "metadata": {},
   "outputs": [
    {
     "data": {
      "text/plain": [
       "1    8923775\n",
       "2     128728\n",
       "3      18132\n",
       "5      15006\n",
       "4       4221\n",
       "Name: RatecodeID, dtype: int64"
      ]
     },
     "execution_count": 45,
     "metadata": {},
     "output_type": "execute_result"
    }
   ],
   "source": [
    "df.RatecodeID.value_counts()"
   ]
  },
  {
   "cell_type": "code",
   "execution_count": 46,
   "metadata": {},
   "outputs": [
    {
     "data": {
      "text/html": [
       "<div>\n",
       "<style scoped>\n",
       "    .dataframe tbody tr th:only-of-type {\n",
       "        vertical-align: middle;\n",
       "    }\n",
       "\n",
       "    .dataframe tbody tr th {\n",
       "        vertical-align: top;\n",
       "    }\n",
       "\n",
       "    .dataframe thead th {\n",
       "        text-align: right;\n",
       "    }\n",
       "</style>\n",
       "<table border=\"1\" class=\"dataframe\">\n",
       "  <thead>\n",
       "    <tr style=\"text-align: right;\">\n",
       "      <th></th>\n",
       "      <th>tpep_pickup_datetime</th>\n",
       "      <th>tpep_dropoff_datetime</th>\n",
       "      <th>passenger_count</th>\n",
       "      <th>trip_distance</th>\n",
       "      <th>pickup_longitude</th>\n",
       "      <th>pickup_latitude</th>\n",
       "      <th>RatecodeID</th>\n",
       "      <th>dropoff_longitude</th>\n",
       "      <th>dropoff_latitude</th>\n",
       "      <th>payment_type</th>\n",
       "      <th>fare_amount</th>\n",
       "      <th>extra</th>\n",
       "      <th>mta_tax</th>\n",
       "      <th>tip_amount</th>\n",
       "      <th>tolls_amount</th>\n",
       "      <th>total_amount</th>\n",
       "      <th>duration</th>\n",
       "    </tr>\n",
       "  </thead>\n",
       "  <tbody>\n",
       "    <tr>\n",
       "      <th>0</th>\n",
       "      <td>2016-06-09 21:06:36</td>\n",
       "      <td>2016-06-09 21:13:08</td>\n",
       "      <td>2</td>\n",
       "      <td>0.79</td>\n",
       "      <td>-73.983360</td>\n",
       "      <td>40.760937</td>\n",
       "      <td>1</td>\n",
       "      <td>-73.977463</td>\n",
       "      <td>40.753979</td>\n",
       "      <td>2</td>\n",
       "      <td>6.0</td>\n",
       "      <td>0.5</td>\n",
       "      <td>0.5</td>\n",
       "      <td>0.00</td>\n",
       "      <td>0.0</td>\n",
       "      <td>7.30</td>\n",
       "      <td>00:06:32</td>\n",
       "    </tr>\n",
       "    <tr>\n",
       "      <th>1</th>\n",
       "      <td>2016-06-09 21:06:36</td>\n",
       "      <td>2016-06-09 21:35:11</td>\n",
       "      <td>1</td>\n",
       "      <td>5.22</td>\n",
       "      <td>-73.981720</td>\n",
       "      <td>40.736668</td>\n",
       "      <td>1</td>\n",
       "      <td>-73.981636</td>\n",
       "      <td>40.670242</td>\n",
       "      <td>1</td>\n",
       "      <td>22.0</td>\n",
       "      <td>0.5</td>\n",
       "      <td>0.5</td>\n",
       "      <td>4.00</td>\n",
       "      <td>0.0</td>\n",
       "      <td>27.30</td>\n",
       "      <td>00:28:35</td>\n",
       "    </tr>\n",
       "    <tr>\n",
       "      <th>3</th>\n",
       "      <td>2016-06-09 21:06:36</td>\n",
       "      <td>2016-06-09 21:36:10</td>\n",
       "      <td>1</td>\n",
       "      <td>7.39</td>\n",
       "      <td>-73.982361</td>\n",
       "      <td>40.773891</td>\n",
       "      <td>1</td>\n",
       "      <td>-73.929466</td>\n",
       "      <td>40.851540</td>\n",
       "      <td>1</td>\n",
       "      <td>26.0</td>\n",
       "      <td>0.5</td>\n",
       "      <td>0.5</td>\n",
       "      <td>1.00</td>\n",
       "      <td>0.0</td>\n",
       "      <td>28.30</td>\n",
       "      <td>00:29:34</td>\n",
       "    </tr>\n",
       "    <tr>\n",
       "      <th>4</th>\n",
       "      <td>2016-06-09 21:06:36</td>\n",
       "      <td>2016-06-09 21:23:23</td>\n",
       "      <td>1</td>\n",
       "      <td>3.10</td>\n",
       "      <td>-73.987106</td>\n",
       "      <td>40.733173</td>\n",
       "      <td>1</td>\n",
       "      <td>-73.985909</td>\n",
       "      <td>40.766445</td>\n",
       "      <td>1</td>\n",
       "      <td>13.5</td>\n",
       "      <td>0.5</td>\n",
       "      <td>0.5</td>\n",
       "      <td>2.96</td>\n",
       "      <td>0.0</td>\n",
       "      <td>17.76</td>\n",
       "      <td>00:16:47</td>\n",
       "    </tr>\n",
       "    <tr>\n",
       "      <th>5</th>\n",
       "      <td>2016-06-09 21:06:36</td>\n",
       "      <td>2016-06-09 21:19:21</td>\n",
       "      <td>1</td>\n",
       "      <td>2.17</td>\n",
       "      <td>-73.995201</td>\n",
       "      <td>40.739491</td>\n",
       "      <td>1</td>\n",
       "      <td>-73.993202</td>\n",
       "      <td>40.762642</td>\n",
       "      <td>1</td>\n",
       "      <td>10.5</td>\n",
       "      <td>0.5</td>\n",
       "      <td>0.5</td>\n",
       "      <td>2.36</td>\n",
       "      <td>0.0</td>\n",
       "      <td>14.16</td>\n",
       "      <td>00:12:45</td>\n",
       "    </tr>\n",
       "  </tbody>\n",
       "</table>\n",
       "</div>"
      ],
      "text/plain": [
       "  tpep_pickup_datetime tpep_dropoff_datetime  passenger_count  trip_distance  \\\n",
       "0  2016-06-09 21:06:36   2016-06-09 21:13:08                2           0.79   \n",
       "1  2016-06-09 21:06:36   2016-06-09 21:35:11                1           5.22   \n",
       "3  2016-06-09 21:06:36   2016-06-09 21:36:10                1           7.39   \n",
       "4  2016-06-09 21:06:36   2016-06-09 21:23:23                1           3.10   \n",
       "5  2016-06-09 21:06:36   2016-06-09 21:19:21                1           2.17   \n",
       "\n",
       "   pickup_longitude  pickup_latitude  RatecodeID  dropoff_longitude  \\\n",
       "0        -73.983360        40.760937           1         -73.977463   \n",
       "1        -73.981720        40.736668           1         -73.981636   \n",
       "3        -73.982361        40.773891           1         -73.929466   \n",
       "4        -73.987106        40.733173           1         -73.985909   \n",
       "5        -73.995201        40.739491           1         -73.993202   \n",
       "\n",
       "   dropoff_latitude  payment_type  fare_amount  extra  mta_tax  tip_amount  \\\n",
       "0         40.753979             2          6.0    0.5      0.5        0.00   \n",
       "1         40.670242             1         22.0    0.5      0.5        4.00   \n",
       "3         40.851540             1         26.0    0.5      0.5        1.00   \n",
       "4         40.766445             1         13.5    0.5      0.5        2.96   \n",
       "5         40.762642             1         10.5    0.5      0.5        2.36   \n",
       "\n",
       "   tolls_amount  total_amount duration  \n",
       "0           0.0          7.30 00:06:32  \n",
       "1           0.0         27.30 00:28:35  \n",
       "3           0.0         28.30 00:29:34  \n",
       "4           0.0         17.76 00:16:47  \n",
       "5           0.0         14.16 00:12:45  "
      ]
     },
     "execution_count": 46,
     "metadata": {},
     "output_type": "execute_result"
    }
   ],
   "source": [
    "df.head()"
   ]
  },
  {
   "cell_type": "markdown",
   "metadata": {},
   "source": [
    "# Check if data makes sense now"
   ]
  },
  {
   "cell_type": "code",
   "execution_count": null,
   "metadata": {},
   "outputs": [],
   "source": [
    "df.describe()"
   ]
  },
  {
   "cell_type": "code",
   "execution_count": null,
   "metadata": {},
   "outputs": [],
   "source": [
    "df.trip_distance.max()"
   ]
  },
  {
   "cell_type": "markdown",
   "metadata": {},
   "source": [
    "# Check Test Data"
   ]
  },
  {
   "cell_type": "code",
   "execution_count": 3,
   "metadata": {},
   "outputs": [],
   "source": [
    "test = pd.read_csv(\"test.csv\")"
   ]
  },
  {
   "cell_type": "code",
   "execution_count": 6,
   "metadata": {},
   "outputs": [
    {
     "data": {
      "text/plain": [
       "1    42950\n",
       "2    20635\n",
       "3      310\n",
       "4      105\n",
       "Name: payment_type, dtype: int64"
      ]
     },
     "execution_count": 6,
     "metadata": {},
     "output_type": "execute_result"
    }
   ],
   "source": [
    "test.payment_type.value_counts()"
   ]
  },
  {
   "cell_type": "code",
   "execution_count": 5,
   "metadata": {},
   "outputs": [
    {
     "data": {
      "text/plain": [
       "5    217\n",
       "4    109\n",
       "3    100\n",
       "2     13\n",
       "1      3\n",
       "Name: RatecodeID, dtype: int64"
      ]
     },
     "execution_count": 5,
     "metadata": {},
     "output_type": "execute_result"
    }
   ],
   "source": [
    "test[test.trip_distance > 30].RatecodeID.value_counts()"
   ]
  },
  {
   "cell_type": "code",
   "execution_count": null,
   "metadata": {},
   "outputs": [],
   "source": [
    "test.improvement_surcharge.value_counts()"
   ]
  },
  {
   "cell_type": "code",
   "execution_count": null,
   "metadata": {},
   "outputs": [],
   "source": [
    "test.passenger_count.value_counts()"
   ]
  },
  {
   "cell_type": "code",
   "execution_count": null,
   "metadata": {},
   "outputs": [],
   "source": [
    "test.pickup_latitude.value_counts()"
   ]
  },
  {
   "cell_type": "code",
   "execution_count": 47,
   "metadata": {
    "scrolled": true
   },
   "outputs": [
    {
     "ename": "NameError",
     "evalue": "name 'test' is not defined",
     "output_type": "error",
     "traceback": [
      "\u001b[1;31m---------------------------------------------------------------------------\u001b[0m",
      "\u001b[1;31mNameError\u001b[0m                                 Traceback (most recent call last)",
      "\u001b[1;32m<ipython-input-47-d8ed9f0a90c2>\u001b[0m in \u001b[0;36m<module>\u001b[1;34m()\u001b[0m\n\u001b[0;32m      4\u001b[0m \u001b[0mmargin\u001b[0m \u001b[1;33m=\u001b[0m \u001b[1;36m1.0\u001b[0m\u001b[1;33m\u001b[0m\u001b[0m\n\u001b[0;32m      5\u001b[0m \u001b[1;33m\u001b[0m\u001b[0m\n\u001b[1;32m----> 6\u001b[1;33m \u001b[0mprint\u001b[0m\u001b[1;33m(\u001b[0m\u001b[1;34m\"With outliers:\"\u001b[0m\u001b[1;33m,\u001b[0m\u001b[0mnp\u001b[0m\u001b[1;33m.\u001b[0m\u001b[0mshape\u001b[0m\u001b[1;33m(\u001b[0m\u001b[0mtest\u001b[0m\u001b[1;33m)\u001b[0m\u001b[1;33m)\u001b[0m\u001b[1;33m\u001b[0m\u001b[0m\n\u001b[0m\u001b[0;32m      7\u001b[0m test2 = test.loc[(abs(test[\"dropoff_latitude\"]-manLat)<margin) \n\u001b[0;32m      8\u001b[0m                    \u001b[1;33m&\u001b[0m\u001b[1;33m(\u001b[0m\u001b[0mabs\u001b[0m\u001b[1;33m(\u001b[0m\u001b[0mtest\u001b[0m\u001b[1;33m[\u001b[0m\u001b[1;34m\"pickup_latitude\"\u001b[0m\u001b[1;33m]\u001b[0m\u001b[1;33m-\u001b[0m\u001b[0mmanLat\u001b[0m\u001b[1;33m)\u001b[0m\u001b[1;33m<\u001b[0m\u001b[0mmargin\u001b[0m\u001b[1;33m)\u001b[0m\u001b[1;33m\u001b[0m\u001b[0m\n",
      "\u001b[1;31mNameError\u001b[0m: name 'test' is not defined"
     ]
    }
   ],
   "source": [
    "#removing outliers (far away from manhattan)\n",
    "manLat = 40.756716\n",
    "manLong = -73.985368\n",
    "margin = 1.0\n",
    "\n",
    "print(\"With outliers:\",np.shape(test))\n",
    "test2 = test.loc[(abs(test[\"dropoff_latitude\"]-manLat)<margin) \n",
    "                   &(abs(test[\"pickup_latitude\"]-manLat)<margin) \n",
    "                   &(abs(test[\"dropoff_longitude\"]-manLong)<margin) \n",
    "                   &(abs(test[\"pickup_longitude\"]-manLong)<margin)]\n",
    "print(\"Without outliers:\",np.shape(test2))"
   ]
  },
  {
   "cell_type": "code",
   "execution_count": null,
   "metadata": {},
   "outputs": [],
   "source": [
    "test.loc[(abs(test[\"dropoff_latitude\"]-manLat)<margin) \n",
    "                   &(abs(test[\"pickup_latitude\"]-manLat)<margin) \n",
    "                   &(abs(test[\"dropoff_longitude\"]-manLong)>margin) \n",
    "                   &(abs(test[\"pickup_longitude\"]-manLong)<margin)]"
   ]
  },
  {
   "cell_type": "markdown",
   "metadata": {},
   "source": [
    "# Save"
   ]
  },
  {
   "cell_type": "code",
   "execution_count": 32,
   "metadata": {},
   "outputs": [],
   "source": [
    "df.to_csv('C:\\\\Users\\\\Leo\\\\TaxiData\\\\clean.csv', index=True)"
   ]
  },
  {
   "cell_type": "code",
   "execution_count": null,
   "metadata": {},
   "outputs": [],
   "source": []
  }
 ],
 "metadata": {
  "kernelspec": {
   "display_name": "Python 3",
   "language": "python",
   "name": "python3"
  },
  "language_info": {
   "codemirror_mode": {
    "name": "ipython",
    "version": 3
   },
   "file_extension": ".py",
   "mimetype": "text/x-python",
   "name": "python",
   "nbconvert_exporter": "python",
   "pygments_lexer": "ipython3",
   "version": "3.6.4"
  }
 },
 "nbformat": 4,
 "nbformat_minor": 2
}
