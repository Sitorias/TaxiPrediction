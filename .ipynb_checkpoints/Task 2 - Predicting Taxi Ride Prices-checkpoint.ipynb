{
 "cells": [
  {
   "cell_type": "markdown",
   "metadata": {},
   "source": [
    "# Setup"
   ]
  },
  {
   "cell_type": "code",
   "execution_count": 22,
   "metadata": {},
   "outputs": [
    {
     "name": "stdout",
     "output_type": "stream",
     "text": [
      "C:\\Users\\Leo\\Dropbox\\Info Göttingen\\Practical Course Data Science\\Task2\n"
     ]
    }
   ],
   "source": [
    "%cd \"C:\\\\Users\\\\Leo\\\\Dropbox\\\\Info Göttingen\\\\Practical Course Data Science\\\\Task2\""
   ]
  },
  {
   "cell_type": "code",
   "execution_count": 23,
   "metadata": {},
   "outputs": [],
   "source": [
    "import pandas as pd\n",
    "import seaborn as sns\n",
    "import numpy as np\n",
    "import matplotlib.pyplot as plt\n",
    "\n",
    "train = pd.read_csv(\"C:\\\\Users\\\\Leo\\\\TaxiData\\\\train.csv\")"
   ]
  },
  {
   "cell_type": "code",
   "execution_count": 24,
   "metadata": {},
   "outputs": [],
   "source": [
    "test = pd.read_csv(\"data\\\\test.csv\")"
   ]
  },
  {
   "cell_type": "markdown",
   "metadata": {},
   "source": [
    "# Exploratory Data Analysis"
   ]
  },
  {
   "cell_type": "markdown",
   "metadata": {},
   "source": [
    "## Where the data is from?\n",
    "\n",
    "We are looking at record data of taxi trips which happened in June 2016 around Manhattan, New York. The data is provided by the Taxi and Limousine Commision (TLC). For more information, see http://www.nyc.gov/html/tlc/html/about/trip_record_data.shtml."
   ]
  },
  {
   "cell_type": "markdown",
   "metadata": {},
   "source": [
    "## Features\n",
    "\n",
    "Here I will list the features given in the data set and discuss their influence on the outcome.\n",
    "\n",
    "- **VendorID**: *A code indicating the TPEP provider that provided that record.*\n",
    "\n",
    "Explanation: TPEP (short for Technology Passenger Enhancements Project) introduced new technologies into the cabs, that should enhance the experience for the passenger. These systems automatically collect and send data about the trip, incoporate electronic message transmission capability, provide additional information to the passenger (e.g. a map) and enable the acceptance of credit/debit cards (see http://www.nyc.gov/html/tlc/html/industry/taxicab_serv_enh_archive.shtml).\n",
    "\n",
    "Comment: If the TPEP system is used to calculate the fare in the end, then there might be a biased based on the system or the provider of the system in use. It should be further investigated if such a bias exists.\n",
    "\n",
    "\n",
    "- **tpep_pickup_datetime:** *The date and time when the meter was enganged.*\n",
    "\n",
    "Comment: It should be checked if all data points use the same date format since data most likely comes from different TPEP systems. This can be used to define relevant time frames for rushhour and overnight charges. Also duration of the ride (tpep_pickup_datetime - tpep_dropoff_datetime) probably has a direct influence on the total price.\n",
    "\n",
    "- **tpep_dropoff_datetime:** *The date and time when the meter was disengaged.*\n",
    "\n",
    "Comment: See tpep_pickup_datetime.\n",
    "\n",
    "- **Passenger_count:** *The number of passengers in the vehicle. This is a driver-entered value.*\n",
    "\n",
    "Comment: Not sure if affecting outcome. Since it is driver-entered, there might be some data points missing or have a default value when it was not relevant.\n",
    "\n",
    "- **Trip_distance:** *The elapsed trip distance in miles reported by the taximeter.*\n",
    "\n",
    "Comment: One of the most important variables, linear influence on the total price expected.\n",
    "\n",
    "- **Pickup_longitude:** *Longitude where the meter was engaged.*\n",
    "\n",
    "Comment: Can be used together with Pickup_latitude and Dropoff_longitude/Dropoff_latitude, to find geographical clusters of more expensive areas. If those do not exist, could be irrelevant as distance travel is stored in trip_distance.\n",
    "\n",
    "- **Pickup_latitude:** *Latitude where the meter was engaged.*\n",
    "\n",
    "Comment: See Pickup_latitude.\n",
    "\n",
    "- **RateCodeID:** *The final rate code in effect at the end of the trip. 1=Standard rate, 2=JFK, 3=Newark, 4=Nassau or Westchester, 5=Negotiated fare, 6=Group ride*\n",
    "\n",
    "Comment: Possible point to introduce outside data. What are the rates for the mentioned options? Is passenger count only with option 6 relevant?\n",
    "\n",
    "- **Store_and_fwd_flag:** *This flag indicates whether the trip record was held in vehicle memory before sending to the vendor, aka “store and forward,” because the vehicle did not have a connection to the server.*\n",
    "\n",
    "Comment: Most likely not relevant as it should not impact the total price.\n",
    "\n",
    "- **Dropoff_longitude:** *Longitude where the meter was disengaged.*\n",
    "\n",
    "Comment: See Pickup_latitude.\n",
    "\n",
    "- **Dropoff_latitude:** *Latitude where the meter was disengaged.*\n",
    "\n",
    "Comment: See Pickup_latitude.\n",
    "\n",
    "- **Payment_type:** *A numeric code signifying how the passenger paid for this trip. 1= Credit card, 2= Cash, 3= No charge, 4= Dispute, 5= Unknown, 6= Voided trip*\n",
    "\n",
    "Additional information: Payment with cash (type 2) do not record tips_amount. It is always 0 and is not included in the total_amount.\n",
    "\n",
    "Comment: Similar to geographical clusters (see Pickup_latitude), this could help identify different types of areas or type of customers as wealthier people might tend to pay buy credit card more often. Effect on total price is unknown.\n",
    "\n",
    "- **Fare_amount:** *The time-and-distance fare calculated by the meter.*\n",
    "\n",
    "Comment: together with fare_amount a possible candidate for the outcome variable.\n",
    "\n",
    "- **Extra:** *Miscellaneous extra and surcharges. Currently, this only includes the \\$0.50 and \\$1 rush hour and overnight charges.*\n",
    "\n",
    "Comment: if using fare_amount as the outcome variable, these values should be added to the outcome.\n",
    "\n",
    "- **MTA_tax:** *\\$0.50 MTA tax that is automatically triggered based on the metered rate in use.*\n",
    "\n",
    "Comment: similar to the extras, this should be added to the fare_amount.\n",
    "\n",
    "- **Improvement_surcharge:** *\\$0.30 improvement surcharge assessed trips at the flag drop. The improvement surcharge began being levied in 2015.*\n",
    "\n",
    "Comment: similar to the extras, this should be added to the fare_amount.\n",
    "\n",
    "- **Tip_amount:** *Tip amount - This field is automatically populated for credit card tips. Cash tips are not included.*\n",
    "\n",
    "Comment: This may help to identify customer groups. However it is disputable whether it has an effect on the fare_amount.\n",
    "\n",
    "- **Tolls_amount:** *Total amount of all tolls paid in trip.*\n",
    "\n",
    "Comment: This most likely will correlate with trip distance and therefore with the fare amount. However as it can just be added to the fare_amount, no processing should be necessary here.\n",
    "\n",
    "- **Total_amount:** *The total amount charged to passengers. Does not include cash tips.*\n",
    "\n",
    "Comment: together with fare_amount a possible candidate for the outcome variable.\n",
    " "
   ]
  },
  {
   "cell_type": "code",
   "execution_count": 25,
   "metadata": {
    "scrolled": true
   },
   "outputs": [
    {
     "data": {
      "text/html": [
       "<div>\n",
       "<style scoped>\n",
       "    .dataframe tbody tr th:only-of-type {\n",
       "        vertical-align: middle;\n",
       "    }\n",
       "\n",
       "    .dataframe tbody tr th {\n",
       "        vertical-align: top;\n",
       "    }\n",
       "\n",
       "    .dataframe thead th {\n",
       "        text-align: right;\n",
       "    }\n",
       "</style>\n",
       "<table border=\"1\" class=\"dataframe\">\n",
       "  <thead>\n",
       "    <tr style=\"text-align: right;\">\n",
       "      <th></th>\n",
       "      <th>VendorID</th>\n",
       "      <th>tpep_pickup_datetime</th>\n",
       "      <th>tpep_dropoff_datetime</th>\n",
       "      <th>passenger_count</th>\n",
       "      <th>trip_distance</th>\n",
       "      <th>pickup_longitude</th>\n",
       "      <th>pickup_latitude</th>\n",
       "      <th>RatecodeID</th>\n",
       "      <th>store_and_fwd_flag</th>\n",
       "      <th>dropoff_longitude</th>\n",
       "      <th>dropoff_latitude</th>\n",
       "      <th>payment_type</th>\n",
       "      <th>fare_amount</th>\n",
       "      <th>extra</th>\n",
       "      <th>mta_tax</th>\n",
       "      <th>tip_amount</th>\n",
       "      <th>tolls_amount</th>\n",
       "      <th>improvement_surcharge</th>\n",
       "      <th>total_amount</th>\n",
       "    </tr>\n",
       "  </thead>\n",
       "  <tbody>\n",
       "    <tr>\n",
       "      <th>0</th>\n",
       "      <td>2</td>\n",
       "      <td>2016-06-09 21:06:36</td>\n",
       "      <td>2016-06-09 21:13:08</td>\n",
       "      <td>2</td>\n",
       "      <td>0.79</td>\n",
       "      <td>-73.983360</td>\n",
       "      <td>40.760937</td>\n",
       "      <td>1</td>\n",
       "      <td>N</td>\n",
       "      <td>-73.977463</td>\n",
       "      <td>40.753979</td>\n",
       "      <td>2</td>\n",
       "      <td>6.0</td>\n",
       "      <td>0.5</td>\n",
       "      <td>0.5</td>\n",
       "      <td>0.00</td>\n",
       "      <td>0.0</td>\n",
       "      <td>0.3</td>\n",
       "      <td>7.30</td>\n",
       "    </tr>\n",
       "    <tr>\n",
       "      <th>1</th>\n",
       "      <td>2</td>\n",
       "      <td>2016-06-09 21:06:36</td>\n",
       "      <td>2016-06-09 21:35:11</td>\n",
       "      <td>1</td>\n",
       "      <td>5.22</td>\n",
       "      <td>-73.981720</td>\n",
       "      <td>40.736668</td>\n",
       "      <td>1</td>\n",
       "      <td>N</td>\n",
       "      <td>-73.981636</td>\n",
       "      <td>40.670242</td>\n",
       "      <td>1</td>\n",
       "      <td>22.0</td>\n",
       "      <td>0.5</td>\n",
       "      <td>0.5</td>\n",
       "      <td>4.00</td>\n",
       "      <td>0.0</td>\n",
       "      <td>0.3</td>\n",
       "      <td>27.30</td>\n",
       "    </tr>\n",
       "    <tr>\n",
       "      <th>2</th>\n",
       "      <td>2</td>\n",
       "      <td>2016-06-09 21:06:36</td>\n",
       "      <td>2016-06-09 21:13:10</td>\n",
       "      <td>1</td>\n",
       "      <td>1.26</td>\n",
       "      <td>-73.994316</td>\n",
       "      <td>40.751072</td>\n",
       "      <td>1</td>\n",
       "      <td>N</td>\n",
       "      <td>-74.004234</td>\n",
       "      <td>40.742168</td>\n",
       "      <td>1</td>\n",
       "      <td>6.5</td>\n",
       "      <td>0.5</td>\n",
       "      <td>0.5</td>\n",
       "      <td>1.56</td>\n",
       "      <td>0.0</td>\n",
       "      <td>0.3</td>\n",
       "      <td>9.36</td>\n",
       "    </tr>\n",
       "    <tr>\n",
       "      <th>3</th>\n",
       "      <td>2</td>\n",
       "      <td>2016-06-09 21:06:36</td>\n",
       "      <td>2016-06-09 21:36:10</td>\n",
       "      <td>1</td>\n",
       "      <td>7.39</td>\n",
       "      <td>-73.982361</td>\n",
       "      <td>40.773891</td>\n",
       "      <td>1</td>\n",
       "      <td>N</td>\n",
       "      <td>-73.929466</td>\n",
       "      <td>40.851540</td>\n",
       "      <td>1</td>\n",
       "      <td>26.0</td>\n",
       "      <td>0.5</td>\n",
       "      <td>0.5</td>\n",
       "      <td>1.00</td>\n",
       "      <td>0.0</td>\n",
       "      <td>0.3</td>\n",
       "      <td>28.30</td>\n",
       "    </tr>\n",
       "    <tr>\n",
       "      <th>4</th>\n",
       "      <td>2</td>\n",
       "      <td>2016-06-09 21:06:36</td>\n",
       "      <td>2016-06-09 21:23:23</td>\n",
       "      <td>1</td>\n",
       "      <td>3.10</td>\n",
       "      <td>-73.987106</td>\n",
       "      <td>40.733173</td>\n",
       "      <td>1</td>\n",
       "      <td>N</td>\n",
       "      <td>-73.985909</td>\n",
       "      <td>40.766445</td>\n",
       "      <td>1</td>\n",
       "      <td>13.5</td>\n",
       "      <td>0.5</td>\n",
       "      <td>0.5</td>\n",
       "      <td>2.96</td>\n",
       "      <td>0.0</td>\n",
       "      <td>0.3</td>\n",
       "      <td>17.76</td>\n",
       "    </tr>\n",
       "  </tbody>\n",
       "</table>\n",
       "</div>"
      ],
      "text/plain": [
       "   VendorID tpep_pickup_datetime tpep_dropoff_datetime  passenger_count  \\\n",
       "0         2  2016-06-09 21:06:36   2016-06-09 21:13:08                2   \n",
       "1         2  2016-06-09 21:06:36   2016-06-09 21:35:11                1   \n",
       "2         2  2016-06-09 21:06:36   2016-06-09 21:13:10                1   \n",
       "3         2  2016-06-09 21:06:36   2016-06-09 21:36:10                1   \n",
       "4         2  2016-06-09 21:06:36   2016-06-09 21:23:23                1   \n",
       "\n",
       "   trip_distance  pickup_longitude  pickup_latitude  RatecodeID  \\\n",
       "0           0.79        -73.983360        40.760937           1   \n",
       "1           5.22        -73.981720        40.736668           1   \n",
       "2           1.26        -73.994316        40.751072           1   \n",
       "3           7.39        -73.982361        40.773891           1   \n",
       "4           3.10        -73.987106        40.733173           1   \n",
       "\n",
       "  store_and_fwd_flag  dropoff_longitude  dropoff_latitude  payment_type  \\\n",
       "0                  N         -73.977463         40.753979             2   \n",
       "1                  N         -73.981636         40.670242             1   \n",
       "2                  N         -74.004234         40.742168             1   \n",
       "3                  N         -73.929466         40.851540             1   \n",
       "4                  N         -73.985909         40.766445             1   \n",
       "\n",
       "   fare_amount  extra  mta_tax  tip_amount  tolls_amount  \\\n",
       "0          6.0    0.5      0.5        0.00           0.0   \n",
       "1         22.0    0.5      0.5        4.00           0.0   \n",
       "2          6.5    0.5      0.5        1.56           0.0   \n",
       "3         26.0    0.5      0.5        1.00           0.0   \n",
       "4         13.5    0.5      0.5        2.96           0.0   \n",
       "\n",
       "   improvement_surcharge  total_amount  \n",
       "0                    0.3          7.30  \n",
       "1                    0.3         27.30  \n",
       "2                    0.3          9.36  \n",
       "3                    0.3         28.30  \n",
       "4                    0.3         17.76  "
      ]
     },
     "execution_count": 25,
     "metadata": {},
     "output_type": "execute_result"
    }
   ],
   "source": [
    "train.head()"
   ]
  },
  {
   "cell_type": "code",
   "execution_count": 26,
   "metadata": {
    "scrolled": true
   },
   "outputs": [
    {
     "data": {
      "text/html": [
       "<div>\n",
       "<style scoped>\n",
       "    .dataframe tbody tr th:only-of-type {\n",
       "        vertical-align: middle;\n",
       "    }\n",
       "\n",
       "    .dataframe tbody tr th {\n",
       "        vertical-align: top;\n",
       "    }\n",
       "\n",
       "    .dataframe thead th {\n",
       "        text-align: right;\n",
       "    }\n",
       "</style>\n",
       "<table border=\"1\" class=\"dataframe\">\n",
       "  <thead>\n",
       "    <tr style=\"text-align: right;\">\n",
       "      <th></th>\n",
       "      <th>ID</th>\n",
       "      <th>VendorID</th>\n",
       "      <th>tpep_pickup_datetime</th>\n",
       "      <th>tpep_dropoff_datetime</th>\n",
       "      <th>passenger_count</th>\n",
       "      <th>trip_distance</th>\n",
       "      <th>pickup_longitude</th>\n",
       "      <th>pickup_latitude</th>\n",
       "      <th>RatecodeID</th>\n",
       "      <th>store_and_fwd_flag</th>\n",
       "      <th>dropoff_longitude</th>\n",
       "      <th>dropoff_latitude</th>\n",
       "      <th>payment_type</th>\n",
       "      <th>tolls_amount</th>\n",
       "      <th>improvement_surcharge</th>\n",
       "    </tr>\n",
       "  </thead>\n",
       "  <tbody>\n",
       "    <tr>\n",
       "      <th>0</th>\n",
       "      <td>1</td>\n",
       "      <td>2</td>\n",
       "      <td>2016-05-12 23:43:20</td>\n",
       "      <td>2016-05-12 23:51:33</td>\n",
       "      <td>1</td>\n",
       "      <td>1.96</td>\n",
       "      <td>-73.981407</td>\n",
       "      <td>40.689770</td>\n",
       "      <td>1</td>\n",
       "      <td>N</td>\n",
       "      <td>-73.954033</td>\n",
       "      <td>40.693680</td>\n",
       "      <td>2</td>\n",
       "      <td>0.0</td>\n",
       "      <td>0.3</td>\n",
       "    </tr>\n",
       "    <tr>\n",
       "      <th>1</th>\n",
       "      <td>2</td>\n",
       "      <td>1</td>\n",
       "      <td>2016-05-29 19:10:42</td>\n",
       "      <td>2016-05-29 19:28:12</td>\n",
       "      <td>1</td>\n",
       "      <td>2.40</td>\n",
       "      <td>-74.005554</td>\n",
       "      <td>40.727451</td>\n",
       "      <td>1</td>\n",
       "      <td>N</td>\n",
       "      <td>-73.988388</td>\n",
       "      <td>40.759075</td>\n",
       "      <td>2</td>\n",
       "      <td>0.0</td>\n",
       "      <td>0.3</td>\n",
       "    </tr>\n",
       "    <tr>\n",
       "      <th>2</th>\n",
       "      <td>3</td>\n",
       "      <td>1</td>\n",
       "      <td>2016-05-19 08:00:00</td>\n",
       "      <td>2016-05-19 08:16:04</td>\n",
       "      <td>1</td>\n",
       "      <td>2.60</td>\n",
       "      <td>-74.006737</td>\n",
       "      <td>40.713718</td>\n",
       "      <td>1</td>\n",
       "      <td>N</td>\n",
       "      <td>-74.002869</td>\n",
       "      <td>40.739910</td>\n",
       "      <td>2</td>\n",
       "      <td>0.0</td>\n",
       "      <td>0.3</td>\n",
       "    </tr>\n",
       "    <tr>\n",
       "      <th>3</th>\n",
       "      <td>4</td>\n",
       "      <td>2</td>\n",
       "      <td>2016-05-26 12:27:01</td>\n",
       "      <td>2016-05-26 12:30:53</td>\n",
       "      <td>1</td>\n",
       "      <td>0.51</td>\n",
       "      <td>-73.980888</td>\n",
       "      <td>40.713291</td>\n",
       "      <td>1</td>\n",
       "      <td>N</td>\n",
       "      <td>-73.990349</td>\n",
       "      <td>40.712681</td>\n",
       "      <td>1</td>\n",
       "      <td>0.0</td>\n",
       "      <td>0.3</td>\n",
       "    </tr>\n",
       "    <tr>\n",
       "      <th>4</th>\n",
       "      <td>5</td>\n",
       "      <td>1</td>\n",
       "      <td>2016-05-04 09:47:15</td>\n",
       "      <td>2016-05-04 10:04:57</td>\n",
       "      <td>2</td>\n",
       "      <td>1.60</td>\n",
       "      <td>-73.962326</td>\n",
       "      <td>40.763794</td>\n",
       "      <td>1</td>\n",
       "      <td>N</td>\n",
       "      <td>-73.985870</td>\n",
       "      <td>40.767780</td>\n",
       "      <td>2</td>\n",
       "      <td>0.0</td>\n",
       "      <td>0.3</td>\n",
       "    </tr>\n",
       "  </tbody>\n",
       "</table>\n",
       "</div>"
      ],
      "text/plain": [
       "   ID  VendorID   tpep_pickup_datetime  tpep_dropoff_datetime  \\\n",
       "0   1         2   2016-05-12 23:43:20    2016-05-12 23:51:33    \n",
       "1   2         1   2016-05-29 19:10:42    2016-05-29 19:28:12    \n",
       "2   3         1   2016-05-19 08:00:00    2016-05-19 08:16:04    \n",
       "3   4         2   2016-05-26 12:27:01    2016-05-26 12:30:53    \n",
       "4   5         1   2016-05-04 09:47:15    2016-05-04 10:04:57    \n",
       "\n",
       "   passenger_count  trip_distance  pickup_longitude  pickup_latitude  \\\n",
       "0                1           1.96        -73.981407        40.689770   \n",
       "1                1           2.40        -74.005554        40.727451   \n",
       "2                1           2.60        -74.006737        40.713718   \n",
       "3                1           0.51        -73.980888        40.713291   \n",
       "4                2           1.60        -73.962326        40.763794   \n",
       "\n",
       "   RatecodeID store_and_fwd_flag  dropoff_longitude  dropoff_latitude  \\\n",
       "0           1                 N          -73.954033         40.693680   \n",
       "1           1                 N          -73.988388         40.759075   \n",
       "2           1                 N          -74.002869         40.739910   \n",
       "3           1                 N          -73.990349         40.712681   \n",
       "4           1                 N          -73.985870         40.767780   \n",
       "\n",
       "   payment_type  tolls_amount  improvement_surcharge  \n",
       "0             2           0.0                    0.3  \n",
       "1             2           0.0                    0.3  \n",
       "2             2           0.0                    0.3  \n",
       "3             1           0.0                    0.3  \n",
       "4             2           0.0                    0.3  "
      ]
     },
     "execution_count": 26,
     "metadata": {},
     "output_type": "execute_result"
    }
   ],
   "source": [
    "test.head()"
   ]
  },
  {
   "cell_type": "code",
   "execution_count": 27,
   "metadata": {
    "scrolled": false
   },
   "outputs": [
    {
     "data": {
      "text/html": [
       "<div>\n",
       "<style scoped>\n",
       "    .dataframe tbody tr th:only-of-type {\n",
       "        vertical-align: middle;\n",
       "    }\n",
       "\n",
       "    .dataframe tbody tr th {\n",
       "        vertical-align: top;\n",
       "    }\n",
       "\n",
       "    .dataframe thead th {\n",
       "        text-align: right;\n",
       "    }\n",
       "</style>\n",
       "<table border=\"1\" class=\"dataframe\">\n",
       "  <thead>\n",
       "    <tr style=\"text-align: right;\">\n",
       "      <th></th>\n",
       "      <th>VendorID</th>\n",
       "      <th>passenger_count</th>\n",
       "      <th>trip_distance</th>\n",
       "      <th>pickup_longitude</th>\n",
       "      <th>pickup_latitude</th>\n",
       "      <th>RatecodeID</th>\n",
       "      <th>dropoff_longitude</th>\n",
       "      <th>dropoff_latitude</th>\n",
       "      <th>payment_type</th>\n",
       "      <th>fare_amount</th>\n",
       "      <th>extra</th>\n",
       "      <th>mta_tax</th>\n",
       "      <th>tip_amount</th>\n",
       "      <th>tolls_amount</th>\n",
       "      <th>improvement_surcharge</th>\n",
       "      <th>total_amount</th>\n",
       "    </tr>\n",
       "  </thead>\n",
       "  <tbody>\n",
       "    <tr>\n",
       "      <th>count</th>\n",
       "      <td>1.113547e+07</td>\n",
       "      <td>1.113547e+07</td>\n",
       "      <td>1.113547e+07</td>\n",
       "      <td>1.113547e+07</td>\n",
       "      <td>1.113547e+07</td>\n",
       "      <td>1.113547e+07</td>\n",
       "      <td>1.113547e+07</td>\n",
       "      <td>1.113547e+07</td>\n",
       "      <td>1.113547e+07</td>\n",
       "      <td>1.113547e+07</td>\n",
       "      <td>1.113547e+07</td>\n",
       "      <td>1.113547e+07</td>\n",
       "      <td>1.113547e+07</td>\n",
       "      <td>1.113547e+07</td>\n",
       "      <td>1.113547e+07</td>\n",
       "      <td>1.113547e+07</td>\n",
       "    </tr>\n",
       "    <tr>\n",
       "      <th>mean</th>\n",
       "      <td>1.529817e+00</td>\n",
       "      <td>1.657273e+00</td>\n",
       "      <td>3.044006e+00</td>\n",
       "      <td>-7.305081e+01</td>\n",
       "      <td>4.024282e+01</td>\n",
       "      <td>1.043880e+00</td>\n",
       "      <td>-7.312388e+01</td>\n",
       "      <td>4.028391e+01</td>\n",
       "      <td>1.349718e+00</td>\n",
       "      <td>1.350708e+01</td>\n",
       "      <td>3.407188e-01</td>\n",
       "      <td>4.973046e-01</td>\n",
       "      <td>1.842121e+00</td>\n",
       "      <td>3.402089e-01</td>\n",
       "      <td>2.996818e-01</td>\n",
       "      <td>1.683016e+01</td>\n",
       "    </tr>\n",
       "    <tr>\n",
       "      <th>std</th>\n",
       "      <td>4.991102e-01</td>\n",
       "      <td>1.302489e+00</td>\n",
       "      <td>2.183019e+01</td>\n",
       "      <td>8.208047e+00</td>\n",
       "      <td>4.521673e+00</td>\n",
       "      <td>5.660610e-01</td>\n",
       "      <td>7.880313e+00</td>\n",
       "      <td>4.341196e+00</td>\n",
       "      <td>4.944984e-01</td>\n",
       "      <td>2.755358e+02</td>\n",
       "      <td>5.339716e-01</td>\n",
       "      <td>4.451916e-02</td>\n",
       "      <td>2.713585e+00</td>\n",
       "      <td>1.719710e+00</td>\n",
       "      <td>1.358086e-02</td>\n",
       "      <td>2.758608e+02</td>\n",
       "    </tr>\n",
       "    <tr>\n",
       "      <th>min</th>\n",
       "      <td>1.000000e+00</td>\n",
       "      <td>0.000000e+00</td>\n",
       "      <td>0.000000e+00</td>\n",
       "      <td>-1.181863e+02</td>\n",
       "      <td>0.000000e+00</td>\n",
       "      <td>1.000000e+00</td>\n",
       "      <td>-1.181863e+02</td>\n",
       "      <td>0.000000e+00</td>\n",
       "      <td>1.000000e+00</td>\n",
       "      <td>-4.500000e+02</td>\n",
       "      <td>-4.123000e+01</td>\n",
       "      <td>-2.700000e+00</td>\n",
       "      <td>-6.770000e+01</td>\n",
       "      <td>-1.250000e+01</td>\n",
       "      <td>-3.000000e-01</td>\n",
       "      <td>-4.508000e+02</td>\n",
       "    </tr>\n",
       "    <tr>\n",
       "      <th>25%</th>\n",
       "      <td>1.000000e+00</td>\n",
       "      <td>1.000000e+00</td>\n",
       "      <td>1.000000e+00</td>\n",
       "      <td>-7.399178e+01</td>\n",
       "      <td>4.073653e+01</td>\n",
       "      <td>1.000000e+00</td>\n",
       "      <td>-7.399123e+01</td>\n",
       "      <td>4.073492e+01</td>\n",
       "      <td>1.000000e+00</td>\n",
       "      <td>6.500000e+00</td>\n",
       "      <td>0.000000e+00</td>\n",
       "      <td>5.000000e-01</td>\n",
       "      <td>0.000000e+00</td>\n",
       "      <td>0.000000e+00</td>\n",
       "      <td>3.000000e-01</td>\n",
       "      <td>8.800000e+00</td>\n",
       "    </tr>\n",
       "    <tr>\n",
       "      <th>50%</th>\n",
       "      <td>2.000000e+00</td>\n",
       "      <td>1.000000e+00</td>\n",
       "      <td>1.710000e+00</td>\n",
       "      <td>-7.398135e+01</td>\n",
       "      <td>4.075358e+01</td>\n",
       "      <td>1.000000e+00</td>\n",
       "      <td>-7.397935e+01</td>\n",
       "      <td>4.075412e+01</td>\n",
       "      <td>1.000000e+00</td>\n",
       "      <td>1.000000e+01</td>\n",
       "      <td>0.000000e+00</td>\n",
       "      <td>5.000000e-01</td>\n",
       "      <td>1.350000e+00</td>\n",
       "      <td>0.000000e+00</td>\n",
       "      <td>3.000000e-01</td>\n",
       "      <td>1.230000e+01</td>\n",
       "    </tr>\n",
       "    <tr>\n",
       "      <th>75%</th>\n",
       "      <td>2.000000e+00</td>\n",
       "      <td>2.000000e+00</td>\n",
       "      <td>3.230000e+00</td>\n",
       "      <td>-7.396617e+01</td>\n",
       "      <td>4.076831e+01</td>\n",
       "      <td>1.000000e+00</td>\n",
       "      <td>-7.396202e+01</td>\n",
       "      <td>4.076954e+01</td>\n",
       "      <td>2.000000e+00</td>\n",
       "      <td>1.550000e+01</td>\n",
       "      <td>5.000000e-01</td>\n",
       "      <td>5.000000e-01</td>\n",
       "      <td>2.460000e+00</td>\n",
       "      <td>0.000000e+00</td>\n",
       "      <td>3.000000e-01</td>\n",
       "      <td>1.836000e+01</td>\n",
       "    </tr>\n",
       "    <tr>\n",
       "      <th>max</th>\n",
       "      <td>2.000000e+00</td>\n",
       "      <td>9.000000e+00</td>\n",
       "      <td>7.173270e+04</td>\n",
       "      <td>0.000000e+00</td>\n",
       "      <td>6.409648e+01</td>\n",
       "      <td>9.900000e+01</td>\n",
       "      <td>1.062469e+02</td>\n",
       "      <td>6.004071e+01</td>\n",
       "      <td>5.000000e+00</td>\n",
       "      <td>6.285447e+05</td>\n",
       "      <td>5.979200e+02</td>\n",
       "      <td>6.035000e+01</td>\n",
       "      <td>8.548500e+02</td>\n",
       "      <td>9.700000e+02</td>\n",
       "      <td>1.164000e+01</td>\n",
       "      <td>6.290338e+05</td>\n",
       "    </tr>\n",
       "  </tbody>\n",
       "</table>\n",
       "</div>"
      ],
      "text/plain": [
       "           VendorID  passenger_count  trip_distance  pickup_longitude  \\\n",
       "count  1.113547e+07     1.113547e+07   1.113547e+07      1.113547e+07   \n",
       "mean   1.529817e+00     1.657273e+00   3.044006e+00     -7.305081e+01   \n",
       "std    4.991102e-01     1.302489e+00   2.183019e+01      8.208047e+00   \n",
       "min    1.000000e+00     0.000000e+00   0.000000e+00     -1.181863e+02   \n",
       "25%    1.000000e+00     1.000000e+00   1.000000e+00     -7.399178e+01   \n",
       "50%    2.000000e+00     1.000000e+00   1.710000e+00     -7.398135e+01   \n",
       "75%    2.000000e+00     2.000000e+00   3.230000e+00     -7.396617e+01   \n",
       "max    2.000000e+00     9.000000e+00   7.173270e+04      0.000000e+00   \n",
       "\n",
       "       pickup_latitude    RatecodeID  dropoff_longitude  dropoff_latitude  \\\n",
       "count     1.113547e+07  1.113547e+07       1.113547e+07      1.113547e+07   \n",
       "mean      4.024282e+01  1.043880e+00      -7.312388e+01      4.028391e+01   \n",
       "std       4.521673e+00  5.660610e-01       7.880313e+00      4.341196e+00   \n",
       "min       0.000000e+00  1.000000e+00      -1.181863e+02      0.000000e+00   \n",
       "25%       4.073653e+01  1.000000e+00      -7.399123e+01      4.073492e+01   \n",
       "50%       4.075358e+01  1.000000e+00      -7.397935e+01      4.075412e+01   \n",
       "75%       4.076831e+01  1.000000e+00      -7.396202e+01      4.076954e+01   \n",
       "max       6.409648e+01  9.900000e+01       1.062469e+02      6.004071e+01   \n",
       "\n",
       "       payment_type   fare_amount         extra       mta_tax    tip_amount  \\\n",
       "count  1.113547e+07  1.113547e+07  1.113547e+07  1.113547e+07  1.113547e+07   \n",
       "mean   1.349718e+00  1.350708e+01  3.407188e-01  4.973046e-01  1.842121e+00   \n",
       "std    4.944984e-01  2.755358e+02  5.339716e-01  4.451916e-02  2.713585e+00   \n",
       "min    1.000000e+00 -4.500000e+02 -4.123000e+01 -2.700000e+00 -6.770000e+01   \n",
       "25%    1.000000e+00  6.500000e+00  0.000000e+00  5.000000e-01  0.000000e+00   \n",
       "50%    1.000000e+00  1.000000e+01  0.000000e+00  5.000000e-01  1.350000e+00   \n",
       "75%    2.000000e+00  1.550000e+01  5.000000e-01  5.000000e-01  2.460000e+00   \n",
       "max    5.000000e+00  6.285447e+05  5.979200e+02  6.035000e+01  8.548500e+02   \n",
       "\n",
       "       tolls_amount  improvement_surcharge  total_amount  \n",
       "count  1.113547e+07           1.113547e+07  1.113547e+07  \n",
       "mean   3.402089e-01           2.996818e-01  1.683016e+01  \n",
       "std    1.719710e+00           1.358086e-02  2.758608e+02  \n",
       "min   -1.250000e+01          -3.000000e-01 -4.508000e+02  \n",
       "25%    0.000000e+00           3.000000e-01  8.800000e+00  \n",
       "50%    0.000000e+00           3.000000e-01  1.230000e+01  \n",
       "75%    0.000000e+00           3.000000e-01  1.836000e+01  \n",
       "max    9.700000e+02           1.164000e+01  6.290338e+05  "
      ]
     },
     "execution_count": 27,
     "metadata": {},
     "output_type": "execute_result"
    }
   ],
   "source": [
    "train.tpep_pickup_datetime = pd.to_datetime(train.tpep_pickup_datetime)\n",
    "train.tpep_dropoff_datetime = pd.to_datetime(train.tpep_dropoff_datetime)\n",
    "train.describe()"
   ]
  },
  {
   "cell_type": "code",
   "execution_count": 28,
   "metadata": {},
   "outputs": [
    {
     "data": {
      "text/plain": [
       "pandas._libs.tslib.Timestamp"
      ]
     },
     "execution_count": 28,
     "metadata": {},
     "output_type": "execute_result"
    }
   ],
   "source": [
    "type(train.iloc[0].tpep_dropoff_datetime)"
   ]
  },
  {
   "cell_type": "markdown",
   "metadata": {},
   "source": [
    "### Observations\n",
    "\n",
    "- Some rides have a passenger count of 0. If passenger count should be important, these have to be filtered out (missing data points)\n",
    "- Some rides have a trip distance of 0. As of now, it is unclear if these are missing values or how such a trip looks like. Needs further investigation"
   ]
  },
  {
   "cell_type": "markdown",
   "metadata": {},
   "source": [
    "## Deciding on the outcome variable"
   ]
  },
  {
   "cell_type": "markdown",
   "metadata": {},
   "source": [
    "Fare_amount and total_amount both represent the cost of the ride, once with taxes and tips and once without. Therefore only one of these variables should be considered in the future to avoid redundancy. As the extra information of total_amount is also stored in other features (namely extra, mta_tax, tip_amount, tolls_amount, improvement_surcharge), looking at fare_amount directly without the overhead of extra charges should provide more insight to the data. However, before total_amount is discarded, we have to make sure, that fare_amount with the named features above indeed add up to total_amount in all cases."
   ]
  },
  {
   "cell_type": "code",
   "execution_count": 29,
   "metadata": {},
   "outputs": [],
   "source": [
    "train[\"calculated_total\"] = train.fare_amount + train.extra + train.mta_tax + train.tolls_amount + train.improvement_surcharge + train.tip_amount\n",
    "\n",
    "train[\"total_difference\"] = train.total_amount - train.calculated_total\n",
    "train.total_difference = train.total_difference.round(2)\n",
    "\n",
    "trainWithCalculation = train.loc[abs(train[\"total_difference\"]) > 0.0001]\n",
    "diff = trainWithCalculation.total_difference"
   ]
  },
  {
   "cell_type": "code",
   "execution_count": 30,
   "metadata": {},
   "outputs": [
    {
     "data": {
      "text/html": [
       "<div>\n",
       "<style scoped>\n",
       "    .dataframe tbody tr th:only-of-type {\n",
       "        vertical-align: middle;\n",
       "    }\n",
       "\n",
       "    .dataframe tbody tr th {\n",
       "        vertical-align: top;\n",
       "    }\n",
       "\n",
       "    .dataframe thead th {\n",
       "        text-align: right;\n",
       "    }\n",
       "</style>\n",
       "<table border=\"1\" class=\"dataframe\">\n",
       "  <thead>\n",
       "    <tr style=\"text-align: right;\">\n",
       "      <th></th>\n",
       "      <th>VendorID</th>\n",
       "      <th>tpep_pickup_datetime</th>\n",
       "      <th>tpep_dropoff_datetime</th>\n",
       "      <th>passenger_count</th>\n",
       "      <th>trip_distance</th>\n",
       "      <th>pickup_longitude</th>\n",
       "      <th>pickup_latitude</th>\n",
       "      <th>RatecodeID</th>\n",
       "      <th>store_and_fwd_flag</th>\n",
       "      <th>dropoff_longitude</th>\n",
       "      <th>...</th>\n",
       "      <th>payment_type</th>\n",
       "      <th>fare_amount</th>\n",
       "      <th>extra</th>\n",
       "      <th>mta_tax</th>\n",
       "      <th>tip_amount</th>\n",
       "      <th>tolls_amount</th>\n",
       "      <th>improvement_surcharge</th>\n",
       "      <th>total_amount</th>\n",
       "      <th>calculated_total</th>\n",
       "      <th>total_difference</th>\n",
       "    </tr>\n",
       "  </thead>\n",
       "  <tbody>\n",
       "    <tr>\n",
       "      <th>27898</th>\n",
       "      <td>2</td>\n",
       "      <td>2016-06-09 22:09:16</td>\n",
       "      <td>2016-06-09 22:09:23</td>\n",
       "      <td>1</td>\n",
       "      <td>0.00</td>\n",
       "      <td>0.000000</td>\n",
       "      <td>0.000000</td>\n",
       "      <td>2</td>\n",
       "      <td>N</td>\n",
       "      <td>0.000000</td>\n",
       "      <td>...</td>\n",
       "      <td>2</td>\n",
       "      <td>0.0</td>\n",
       "      <td>0.0</td>\n",
       "      <td>0.5</td>\n",
       "      <td>0.0</td>\n",
       "      <td>0.00</td>\n",
       "      <td>0.3</td>\n",
       "      <td>0.0</td>\n",
       "      <td>0.80</td>\n",
       "      <td>-0.80</td>\n",
       "    </tr>\n",
       "    <tr>\n",
       "      <th>219201</th>\n",
       "      <td>2</td>\n",
       "      <td>2016-06-01 11:54:13</td>\n",
       "      <td>2016-06-01 12:11:40</td>\n",
       "      <td>1</td>\n",
       "      <td>0.93</td>\n",
       "      <td>-73.981049</td>\n",
       "      <td>40.779179</td>\n",
       "      <td>1</td>\n",
       "      <td>N</td>\n",
       "      <td>-73.981522</td>\n",
       "      <td>...</td>\n",
       "      <td>2</td>\n",
       "      <td>0.0</td>\n",
       "      <td>0.0</td>\n",
       "      <td>0.5</td>\n",
       "      <td>0.0</td>\n",
       "      <td>0.00</td>\n",
       "      <td>0.3</td>\n",
       "      <td>0.0</td>\n",
       "      <td>0.80</td>\n",
       "      <td>-0.80</td>\n",
       "    </tr>\n",
       "    <tr>\n",
       "      <th>295823</th>\n",
       "      <td>2</td>\n",
       "      <td>2016-06-01 16:00:51</td>\n",
       "      <td>2016-06-01 16:53:15</td>\n",
       "      <td>1</td>\n",
       "      <td>16.74</td>\n",
       "      <td>-73.786964</td>\n",
       "      <td>40.645527</td>\n",
       "      <td>2</td>\n",
       "      <td>N</td>\n",
       "      <td>-73.977631</td>\n",
       "      <td>...</td>\n",
       "      <td>2</td>\n",
       "      <td>0.0</td>\n",
       "      <td>0.0</td>\n",
       "      <td>0.5</td>\n",
       "      <td>0.0</td>\n",
       "      <td>5.54</td>\n",
       "      <td>0.3</td>\n",
       "      <td>0.0</td>\n",
       "      <td>6.34</td>\n",
       "      <td>-6.34</td>\n",
       "    </tr>\n",
       "    <tr>\n",
       "      <th>318016</th>\n",
       "      <td>2</td>\n",
       "      <td>2016-06-01 17:19:40</td>\n",
       "      <td>2016-06-01 18:00:08</td>\n",
       "      <td>2</td>\n",
       "      <td>2.67</td>\n",
       "      <td>-73.974518</td>\n",
       "      <td>40.790890</td>\n",
       "      <td>1</td>\n",
       "      <td>N</td>\n",
       "      <td>-73.953011</td>\n",
       "      <td>...</td>\n",
       "      <td>2</td>\n",
       "      <td>0.0</td>\n",
       "      <td>0.0</td>\n",
       "      <td>0.5</td>\n",
       "      <td>0.0</td>\n",
       "      <td>0.00</td>\n",
       "      <td>0.3</td>\n",
       "      <td>0.0</td>\n",
       "      <td>0.80</td>\n",
       "      <td>-0.80</td>\n",
       "    </tr>\n",
       "    <tr>\n",
       "      <th>335055</th>\n",
       "      <td>2</td>\n",
       "      <td>2016-06-01 18:13:54</td>\n",
       "      <td>2016-06-01 18:14:57</td>\n",
       "      <td>1</td>\n",
       "      <td>0.00</td>\n",
       "      <td>-73.953644</td>\n",
       "      <td>40.810230</td>\n",
       "      <td>5</td>\n",
       "      <td>N</td>\n",
       "      <td>-73.951492</td>\n",
       "      <td>...</td>\n",
       "      <td>2</td>\n",
       "      <td>0.0</td>\n",
       "      <td>0.0</td>\n",
       "      <td>0.0</td>\n",
       "      <td>0.0</td>\n",
       "      <td>0.00</td>\n",
       "      <td>0.3</td>\n",
       "      <td>0.0</td>\n",
       "      <td>0.30</td>\n",
       "      <td>-0.30</td>\n",
       "    </tr>\n",
       "  </tbody>\n",
       "</table>\n",
       "<p>5 rows × 21 columns</p>\n",
       "</div>"
      ],
      "text/plain": [
       "        VendorID tpep_pickup_datetime tpep_dropoff_datetime  passenger_count  \\\n",
       "27898          2  2016-06-09 22:09:16   2016-06-09 22:09:23                1   \n",
       "219201         2  2016-06-01 11:54:13   2016-06-01 12:11:40                1   \n",
       "295823         2  2016-06-01 16:00:51   2016-06-01 16:53:15                1   \n",
       "318016         2  2016-06-01 17:19:40   2016-06-01 18:00:08                2   \n",
       "335055         2  2016-06-01 18:13:54   2016-06-01 18:14:57                1   \n",
       "\n",
       "        trip_distance  pickup_longitude  pickup_latitude  RatecodeID  \\\n",
       "27898            0.00          0.000000         0.000000           2   \n",
       "219201           0.93        -73.981049        40.779179           1   \n",
       "295823          16.74        -73.786964        40.645527           2   \n",
       "318016           2.67        -73.974518        40.790890           1   \n",
       "335055           0.00        -73.953644        40.810230           5   \n",
       "\n",
       "       store_and_fwd_flag  dropoff_longitude        ...         payment_type  \\\n",
       "27898                   N           0.000000        ...                    2   \n",
       "219201                  N         -73.981522        ...                    2   \n",
       "295823                  N         -73.977631        ...                    2   \n",
       "318016                  N         -73.953011        ...                    2   \n",
       "335055                  N         -73.951492        ...                    2   \n",
       "\n",
       "        fare_amount  extra  mta_tax  tip_amount  tolls_amount  \\\n",
       "27898           0.0    0.0      0.5         0.0          0.00   \n",
       "219201          0.0    0.0      0.5         0.0          0.00   \n",
       "295823          0.0    0.0      0.5         0.0          5.54   \n",
       "318016          0.0    0.0      0.5         0.0          0.00   \n",
       "335055          0.0    0.0      0.0         0.0          0.00   \n",
       "\n",
       "        improvement_surcharge  total_amount  calculated_total  \\\n",
       "27898                     0.3           0.0              0.80   \n",
       "219201                    0.3           0.0              0.80   \n",
       "295823                    0.3           0.0              6.34   \n",
       "318016                    0.3           0.0              0.80   \n",
       "335055                    0.3           0.0              0.30   \n",
       "\n",
       "        total_difference  \n",
       "27898              -0.80  \n",
       "219201             -0.80  \n",
       "295823             -6.34  \n",
       "318016             -0.80  \n",
       "335055             -0.30  \n",
       "\n",
       "[5 rows x 21 columns]"
      ]
     },
     "execution_count": 30,
     "metadata": {},
     "output_type": "execute_result"
    }
   ],
   "source": [
    "trainWithCalculation.head()"
   ]
  },
  {
   "cell_type": "code",
   "execution_count": 31,
   "metadata": {
    "scrolled": true
   },
   "outputs": [
    {
     "data": {
      "image/png": "[encoded data removed]",
      "text/plain": [
       "<matplotlib.figure.Figure at 0x2876bf88ba8>"
      ]
     },
     "metadata": {},
     "output_type": "display_data"
    }
   ],
   "source": [
    "dist = sns.distplot(diff,kde=False,bins=30)"
   ]
  },
  {
   "cell_type": "code",
   "execution_count": 32,
   "metadata": {},
   "outputs": [
    {
     "data": {
      "text/plain": [
       " 3.90       400\n",
       " 1.95     16723\n",
       "-0.30         9\n",
       "-0.50         1\n",
       "-0.80        96\n",
       "-1.95        10\n",
       "-3.90         8\n",
       "-5.80         1\n",
       "-6.34        18\n",
       "-16.00        1\n",
       "-17.70        1\n",
       "Name: total_difference, dtype: int64"
      ]
     },
     "execution_count": 32,
     "metadata": {},
     "output_type": "execute_result"
    }
   ],
   "source": [
    "trainWithCalculation.total_difference.value_counts().sort_index(ascending=False)"
   ]
  },
  {
   "cell_type": "markdown",
   "metadata": {},
   "source": [
    "Looking at the histogram reveals, that there are a lot of data points where the difference between the actual cost and the calculated cost is +1.95\\$ (16723 data points), +3.9\\$ (400 data points) or between -0.30\\$ and -0.90\\$ (106 data points). Outside of these spikes there are 39 datapoints spread at various difference levels.\n",
    "\n",
    "Next we have to find an explanation for these differences. Especially interesting is the 1.95\\$ spike, as it is the largest, and might also bring an explanation for the 3.90\\$ spike as it could be the same fee added twice (1.95\\$*2=3.90\\$). There are also 18 data points where these values appear to have been subtracted from the total_amount."
   ]
  },
  {
   "cell_type": "code",
   "execution_count": 33,
   "metadata": {
    "scrolled": true
   },
   "outputs": [
    {
     "data": {
      "text/plain": [
       "1    16705\n",
       "2       18\n",
       "Name: payment_type, dtype: int64"
      ]
     },
     "execution_count": 33,
     "metadata": {},
     "output_type": "execute_result"
    }
   ],
   "source": [
    "trainWithCalculation.loc[trainWithCalculation[\"total_difference\"] == 1.95].payment_type.value_counts()"
   ]
  },
  {
   "cell_type": "code",
   "execution_count": 34,
   "metadata": {},
   "outputs": [
    {
     "data": {
      "text/plain": [
       "1    7320458\n",
       "2    3751778\n",
       "3      47211\n",
       "4      16022\n",
       "5          1\n",
       "Name: payment_type, dtype: int64"
      ]
     },
     "execution_count": 34,
     "metadata": {},
     "output_type": "execute_result"
    }
   ],
   "source": [
    "train.payment_type.value_counts()"
   ]
  },
  {
   "cell_type": "markdown",
   "metadata": {},
   "source": [
    "Nearly all of the rides where the difference is 1.95\\$ were paid by credit card, whereas usually only about 65\\% of the rides are paid by credit card. Maybe there is a connection there, e.g. a fee for paying with a specific credit card. A general fee seems unlikely to exist as only 16,705 of the 7,320,458 transactions via credit card show that 1.95\\$ difference. Or the fee was introduced at a later time so that only some of these transactions were affected."
   ]
  },
  {
   "cell_type": "code",
   "execution_count": 15,
   "metadata": {},
   "outputs": [],
   "source": [
    "diff195 = trainWithCalculation.loc[trainWithCalculation[\"total_difference\"] == 1.95]"
   ]
  },
  {
   "cell_type": "code",
   "execution_count": 16,
   "metadata": {},
   "outputs": [
    {
     "data": {
      "text/plain": [
       "<matplotlib.axes._subplots.AxesSubplot at 0x286862a4eb8>"
      ]
     },
     "execution_count": 16,
     "metadata": {},
     "output_type": "execute_result"
    },
    {
     "data": {
      "image/png": "[encoded data removed]",
      "text/plain": [
       "<matplotlib.figure.Figure at 0x286862cf1d0>"
      ]
     },
     "metadata": {},
     "output_type": "display_data"
    }
   ],
   "source": [
    "sns.distplot(trainWithCalculation[\"fare_amount\"])"
   ]
  },
  {
   "cell_type": "code",
   "execution_count": 17,
   "metadata": {},
   "outputs": [
    {
     "data": {
      "text/plain": [
       "Timestamp('2016-06-01 00:00:00')"
      ]
     },
     "execution_count": 17,
     "metadata": {},
     "output_type": "execute_result"
    }
   ],
   "source": [
    "min(train[\"tpep_pickup_datetime\"])"
   ]
  },
  {
   "cell_type": "code",
   "execution_count": 18,
   "metadata": {},
   "outputs": [
    {
     "data": {
      "text/plain": [
       "Timestamp('2016-06-30 23:59:59')"
      ]
     },
     "execution_count": 18,
     "metadata": {},
     "output_type": "execute_result"
    }
   ],
   "source": [
    "max(train[\"tpep_pickup_datetime\"])"
   ]
  },
  {
   "cell_type": "code",
   "execution_count": 19,
   "metadata": {
    "scrolled": true
   },
   "outputs": [
    {
     "data": {
      "text/plain": [
       "[<matplotlib.lines.Line2D at 0x28686800cf8>]"
      ]
     },
     "execution_count": 19,
     "metadata": {},
     "output_type": "execute_result"
    },
    {
     "data": {
      "image/png": "[encoded data removed]",
      "text/plain": [
       "<matplotlib.figure.Figure at 0x286862794e0>"
      ]
     },
     "metadata": {},
     "output_type": "display_data"
    }
   ],
   "source": [
    "plt.plot_date(x=trainWithCalculation[\"tpep_pickup_datetime\"],y=trainWithCalculation[\"total_difference\"])"
   ]
  },
  {
   "cell_type": "code",
   "execution_count": 35,
   "metadata": {},
   "outputs": [
    {
     "ename": "TypeError",
     "evalue": "ufunc add cannot use operands with types dtype('<M8[ns]') and dtype('<M8[ns]')",
     "output_type": "error",
     "traceback": [
      "\u001b[1;31m---------------------------------------------------------------------------\u001b[0m",
      "\u001b[1;31mTypeError\u001b[0m                                 Traceback (most recent call last)",
      "\u001b[1;32m<ipython-input-35-8435f060652e>\u001b[0m in \u001b[0;36m<module>\u001b[1;34m()\u001b[0m\n\u001b[1;32m----> 1\u001b[1;33m \u001b[0msns\u001b[0m\u001b[1;33m.\u001b[0m\u001b[0mdistplot\u001b[0m\u001b[1;33m(\u001b[0m\u001b[0mtrain\u001b[0m\u001b[1;33m[\u001b[0m\u001b[1;34m\"tpep_pickup_datetime\"\u001b[0m\u001b[1;33m]\u001b[0m\u001b[1;33m,\u001b[0m\u001b[0mkde\u001b[0m\u001b[1;33m=\u001b[0m\u001b[1;32mFalse\u001b[0m\u001b[1;33m,\u001b[0m\u001b[0mbins\u001b[0m\u001b[1;33m=\u001b[0m\u001b[1;36m30\u001b[0m\u001b[1;33m)\u001b[0m\u001b[1;33m\u001b[0m\u001b[0m\n\u001b[0m",
      "\u001b[1;32m~\\Anaconda3\\lib\\site-packages\\seaborn\\distributions.py\u001b[0m in \u001b[0;36mdistplot\u001b[1;34m(a, bins, hist, kde, rug, fit, hist_kws, kde_kws, rug_kws, fit_kws, color, vertical, norm_hist, axlabel, label, ax)\u001b[0m\n\u001b[0;32m    193\u001b[0m             \u001b[0mline\u001b[0m\u001b[1;33m,\u001b[0m \u001b[1;33m=\u001b[0m \u001b[0max\u001b[0m\u001b[1;33m.\u001b[0m\u001b[0mplot\u001b[0m\u001b[1;33m(\u001b[0m\u001b[1;36m0\u001b[0m\u001b[1;33m,\u001b[0m \u001b[0ma\u001b[0m\u001b[1;33m.\u001b[0m\u001b[0mmean\u001b[0m\u001b[1;33m(\u001b[0m\u001b[1;33m)\u001b[0m\u001b[1;33m)\u001b[0m\u001b[1;33m\u001b[0m\u001b[0m\n\u001b[0;32m    194\u001b[0m         \u001b[1;32melse\u001b[0m\u001b[1;33m:\u001b[0m\u001b[1;33m\u001b[0m\u001b[0m\n\u001b[1;32m--> 195\u001b[1;33m             \u001b[0mline\u001b[0m\u001b[1;33m,\u001b[0m \u001b[1;33m=\u001b[0m \u001b[0max\u001b[0m\u001b[1;33m.\u001b[0m\u001b[0mplot\u001b[0m\u001b[1;33m(\u001b[0m\u001b[0ma\u001b[0m\u001b[1;33m.\u001b[0m\u001b[0mmean\u001b[0m\u001b[1;33m(\u001b[0m\u001b[1;33m)\u001b[0m\u001b[1;33m,\u001b[0m \u001b[1;36m0\u001b[0m\u001b[1;33m)\u001b[0m\u001b[1;33m\u001b[0m\u001b[0m\n\u001b[0m\u001b[0;32m    196\u001b[0m         \u001b[0mcolor\u001b[0m \u001b[1;33m=\u001b[0m \u001b[0mline\u001b[0m\u001b[1;33m.\u001b[0m\u001b[0mget_color\u001b[0m\u001b[1;33m(\u001b[0m\u001b[1;33m)\u001b[0m\u001b[1;33m\u001b[0m\u001b[0m\n\u001b[0;32m    197\u001b[0m         \u001b[0mline\u001b[0m\u001b[1;33m.\u001b[0m\u001b[0mremove\u001b[0m\u001b[1;33m(\u001b[0m\u001b[1;33m)\u001b[0m\u001b[1;33m\u001b[0m\u001b[0m\n",
      "\u001b[1;32m~\\Anaconda3\\lib\\site-packages\\numpy\\core\\_methods.py\u001b[0m in \u001b[0;36m_mean\u001b[1;34m(a, axis, dtype, out, keepdims)\u001b[0m\n\u001b[0;32m     68\u001b[0m             \u001b[0mis_float16_result\u001b[0m \u001b[1;33m=\u001b[0m \u001b[1;32mTrue\u001b[0m\u001b[1;33m\u001b[0m\u001b[0m\n\u001b[0;32m     69\u001b[0m \u001b[1;33m\u001b[0m\u001b[0m\n\u001b[1;32m---> 70\u001b[1;33m     \u001b[0mret\u001b[0m \u001b[1;33m=\u001b[0m \u001b[0mumr_sum\u001b[0m\u001b[1;33m(\u001b[0m\u001b[0marr\u001b[0m\u001b[1;33m,\u001b[0m \u001b[0maxis\u001b[0m\u001b[1;33m,\u001b[0m \u001b[0mdtype\u001b[0m\u001b[1;33m,\u001b[0m \u001b[0mout\u001b[0m\u001b[1;33m,\u001b[0m \u001b[0mkeepdims\u001b[0m\u001b[1;33m)\u001b[0m\u001b[1;33m\u001b[0m\u001b[0m\n\u001b[0m\u001b[0;32m     71\u001b[0m     \u001b[1;32mif\u001b[0m \u001b[0misinstance\u001b[0m\u001b[1;33m(\u001b[0m\u001b[0mret\u001b[0m\u001b[1;33m,\u001b[0m \u001b[0mmu\u001b[0m\u001b[1;33m.\u001b[0m\u001b[0mndarray\u001b[0m\u001b[1;33m)\u001b[0m\u001b[1;33m:\u001b[0m\u001b[1;33m\u001b[0m\u001b[0m\n\u001b[0;32m     72\u001b[0m         ret = um.true_divide(\n",
      "\u001b[1;31mTypeError\u001b[0m: ufunc add cannot use operands with types dtype('<M8[ns]') and dtype('<M8[ns]')"
     ]
    },
    {
     "data": {
      "image/png": "[encoded data removed]",
      "text/plain": [
       "<matplotlib.figure.Figure at 0x2870bc274e0>"
      ]
     },
     "metadata": {},
     "output_type": "display_data"
    }
   ],
   "source": [
    "sns.distplot(train[\"tpep_pickup_datetime\"],kde=False,bins=30)"
   ]
  },
  {
   "cell_type": "code",
   "execution_count": 20,
   "metadata": {
    "scrolled": true
   },
   "outputs": [
    {
     "ename": "ValueError",
     "evalue": "Using arbitrary long args with data is not supported due to ambiguity of arguments.\nUse multiple plotting calls instead.",
     "output_type": "error",
     "traceback": [
      "\u001b[1;31m---------------------------------------------------------------------------\u001b[0m",
      "\u001b[1;31mValueError\u001b[0m                                Traceback (most recent call last)",
      "\u001b[1;32m<ipython-input-20-18622fce7308>\u001b[0m in \u001b[0;36m<module>\u001b[1;34m()\u001b[0m\n\u001b[1;32m----> 1\u001b[1;33m \u001b[0mplt\u001b[0m\u001b[1;33m.\u001b[0m\u001b[0mplot\u001b[0m\u001b[1;33m(\u001b[0m\u001b[0mtime\u001b[0m\u001b[1;33m=\u001b[0m\u001b[0mtrainWithCalculation\u001b[0m\u001b[1;33m[\u001b[0m\u001b[1;34m\"tpep_dropoff_datetime\"\u001b[0m\u001b[1;33m]\u001b[0m\u001b[1;33m,\u001b[0m\u001b[0mdata\u001b[0m\u001b[1;33m=\u001b[0m\u001b[0mtrainWithCalculation\u001b[0m\u001b[1;33m[\u001b[0m\u001b[1;34m\"total_difference\"\u001b[0m\u001b[1;33m]\u001b[0m\u001b[1;33m)\u001b[0m\u001b[1;33m\u001b[0m\u001b[0m\n\u001b[0m",
      "\u001b[1;32m~\\Anaconda3\\lib\\site-packages\\matplotlib\\pyplot.py\u001b[0m in \u001b[0;36mplot\u001b[1;34m(*args, **kwargs)\u001b[0m\n\u001b[0;32m   3259\u001b[0m                       mplDeprecation)\n\u001b[0;32m   3260\u001b[0m     \u001b[1;32mtry\u001b[0m\u001b[1;33m:\u001b[0m\u001b[1;33m\u001b[0m\u001b[0m\n\u001b[1;32m-> 3261\u001b[1;33m         \u001b[0mret\u001b[0m \u001b[1;33m=\u001b[0m \u001b[0max\u001b[0m\u001b[1;33m.\u001b[0m\u001b[0mplot\u001b[0m\u001b[1;33m(\u001b[0m\u001b[1;33m*\u001b[0m\u001b[0margs\u001b[0m\u001b[1;33m,\u001b[0m \u001b[1;33m**\u001b[0m\u001b[0mkwargs\u001b[0m\u001b[1;33m)\u001b[0m\u001b[1;33m\u001b[0m\u001b[0m\n\u001b[0m\u001b[0;32m   3262\u001b[0m     \u001b[1;32mfinally\u001b[0m\u001b[1;33m:\u001b[0m\u001b[1;33m\u001b[0m\u001b[0m\n\u001b[0;32m   3263\u001b[0m         \u001b[0max\u001b[0m\u001b[1;33m.\u001b[0m\u001b[0m_hold\u001b[0m \u001b[1;33m=\u001b[0m \u001b[0mwashold\u001b[0m\u001b[1;33m\u001b[0m\u001b[0m\n",
      "\u001b[1;32m~\\Anaconda3\\lib\\site-packages\\matplotlib\\__init__.py\u001b[0m in \u001b[0;36minner\u001b[1;34m(ax, *args, **kwargs)\u001b[0m\n\u001b[0;32m   1653\u001b[0m                     \u001b[1;31m# update the information about replace names and\u001b[0m\u001b[1;33m\u001b[0m\u001b[1;33m\u001b[0m\u001b[0m\n\u001b[0;32m   1654\u001b[0m                     \u001b[1;31m# label position\u001b[0m\u001b[1;33m\u001b[0m\u001b[1;33m\u001b[0m\u001b[0m\n\u001b[1;32m-> 1655\u001b[1;33m                     \u001b[0m_arg_names\u001b[0m \u001b[1;33m=\u001b[0m \u001b[0mpositional_parameter_names\u001b[0m\u001b[1;33m(\u001b[0m\u001b[0margs\u001b[0m\u001b[1;33m,\u001b[0m \u001b[0mdata\u001b[0m\u001b[1;33m)\u001b[0m\u001b[1;33m\u001b[0m\u001b[0m\n\u001b[0m\u001b[0;32m   1656\u001b[0m                     if (label_namer and  # we actually want a label here ...\n\u001b[0;32m   1657\u001b[0m                             \u001b[0m_arg_names\u001b[0m \u001b[1;32mand\u001b[0m  \u001b[1;31m# and we can find a label in *args\u001b[0m\u001b[1;33m\u001b[0m\u001b[0m\n",
      "\u001b[1;32m~\\Anaconda3\\lib\\site-packages\\matplotlib\\axes\\_axes.py\u001b[0m in \u001b[0;36m_plot_args_replacer\u001b[1;34m(args, data)\u001b[0m\n\u001b[0;32m     83\u001b[0m         \u001b[1;32mreturn\u001b[0m \u001b[1;33m[\u001b[0m\u001b[1;34m\"x\"\u001b[0m\u001b[1;33m,\u001b[0m \u001b[1;34m\"y\"\u001b[0m\u001b[1;33m,\u001b[0m \u001b[1;34m\"c\"\u001b[0m\u001b[1;33m]\u001b[0m\u001b[1;33m\u001b[0m\u001b[0m\n\u001b[0;32m     84\u001b[0m     \u001b[1;32melse\u001b[0m\u001b[1;33m:\u001b[0m\u001b[1;33m\u001b[0m\u001b[0m\n\u001b[1;32m---> 85\u001b[1;33m         raise ValueError(\"Using arbitrary long args with data is not \"\n\u001b[0m\u001b[0;32m     86\u001b[0m                          \u001b[1;34m\"supported due to ambiguity of arguments.\\nUse \"\u001b[0m\u001b[1;33m\u001b[0m\u001b[0m\n\u001b[0;32m     87\u001b[0m                          \"multiple plotting calls instead.\")\n",
      "\u001b[1;31mValueError\u001b[0m: Using arbitrary long args with data is not supported due to ambiguity of arguments.\nUse multiple plotting calls instead."
     ]
    },
    {
     "data": {
      "image/png": "[encoded data removed]",
      "text/plain": [
       "<matplotlib.figure.Figure at 0x28685f35da0>"
      ]
     },
     "metadata": {},
     "output_type": "display_data"
    }
   ],
   "source": [
    "plt.plot(time=trainWithCalculation[\"tpep_dropoff_datetime\"],data=trainWithCalculation[\"total_difference\"])"
   ]
  },
  {
   "cell_type": "markdown",
   "metadata": {},
   "source": [
    "## RateCodeID and its meaning\n",
    "The RateCodeID field specifies which rate of fare was used in the ride. There are six options:  \n",
    " 1. Standard rate, \n",
    " 2. JFK, \n",
    " 3. Newark, \n",
    " 4. Nassau or Westchester, \n",
    " 5. Negotiated fare, \n",
    " 6. Group ride\n",
    " \n",
    "In the following, we will have a closer look, how the different rates affect the total price. The information is partly taken from http://www.nyc.gov/html/tlc/html/passenger/taxicab_rate.shtml. Note that no matter what rate is used that there are no extra charges for extra passengers or luggage transported in the interior of the taxicab or for use of the taxicab's trunk.\n",
    " \n",
    "### Standard rate\n",
    "Here the initial charge for the ride is 2.50\\$. After that it is 50 cents per 1/5 of a mile, when the cab has a speed of atleast six miles per hour (taken from FAQ), or 50 cents per 60 seconds in slow traffic (speed is less than six miles per hour) or when the vehicle is stopped. Partial units of this measurement may be added if needed. There is a 50 cent MTA State surcharge for all trips that in in New York City or Nassau, Suffolk, Westchester, Rockland, Dutchess, Orange or Putnam Counties. This fee is included in the data set and does not need further processing. The 30-cent improvement surcharge, the 50-cent surcharge from 8pm to 6am (i.e. overnight), the $1 surcharge from 4pm to 8pm on weekdays, excluding holydays (i.e. rushhour) are also already included in the data set. Bridge and tunnel tolls have to be paid by the passenger (see tolls_amount). Extra passengers or bags are free. There are no additional fees for paying with credit/debit/prepaid card.\n",
    "\n",
    "### JFK (John F. Kennedy Airport trip)\n",
    "Any trips from or to the JFK airport to or from any location in Manhattan has a flat fare of 52\\$ plus tolls. The 50-cent MTA State surcharge, 30-cent Improvement Surcharge and an additional 4.50\\$ rush hour surcharge (4PM to 8 PM on weekdays, exlcuding holidays) are applied here.\n",
    "\n",
    "### Newark\n",
    "Similar to JFK there is a special rate of fare for trips to the Newark airport. Here the standard metered rate above is used plus an additional 17.50\\$ Newark Surcharge.\n",
    "\n",
    "### Nassau or Westchester\n",
    "For rides that start in Manhatten and end in Westchester or Nassau Counties, the standard rate is used within Manhatten. As soon as the town borders are crossed the metered fare is doubled until the destination is reached.\n",
    "\n",
    "### Negotiated fare\n",
    "Trips to destinations outside the city that are not covered above fall under a sepcial category. Here the driver and the passengers negotiate a fare amount which is then used for a ride. The 50-cent MTA State surcharge and the 30-cent Improvement Surcharge are added to the fare.\n",
    "\n",
    "### Group ride\n",
    "There are two special routes with special rates for groups of two to four people. Each route has a specific pickup and end location. For the route starting at \"Port Authority Bus\" the fare is 3.00\\$ per person. The route from York Avenue costs 6.00\\$ per person. In both cases one passenger has to pay the 50-cent MTA State Surcharge. Group rides happen from 6 am to 10 am on monday to friday (excluding holidays)."
   ]
  },
  {
   "cell_type": "markdown",
   "metadata": {},
   "source": [
    "## A note about passenger count\n",
    "The FAQ of the nyc (http://www.nyc.gov/html/tlc/html/faq/faq_pass.shtml) states that there are only 4 to 5 adult passengers allowed on a cap (depending on the cap) with the exceptions that one children under the age of 7 can be additionally hold on the lap of an adult passenger. Therefore rides with a higher passenger count than 6 should be closer looked at, in case this has an effect on the price."
   ]
  },
  {
   "cell_type": "code",
   "execution_count": null,
   "metadata": {},
   "outputs": [],
   "source": []
  }
 ],
 "metadata": {
  "kernelspec": {
   "display_name": "Python 3",
   "language": "python",
   "name": "python3"
  },
  "language_info": {
   "codemirror_mode": {
    "name": "ipython",
    "version": 3
   },
   "file_extension": ".py",
   "mimetype": "text/x-python",
   "name": "python",
   "nbconvert_exporter": "python",
   "pygments_lexer": "ipython3",
   "version": "3.6.4"
  }
 },
 "nbformat": 4,
 "nbformat_minor": 2
}
