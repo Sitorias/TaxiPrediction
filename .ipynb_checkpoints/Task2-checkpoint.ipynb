{
 "cells": [
  {
   "cell_type": "markdown",
   "metadata": {},
   "source": [
    "# Task 2\n",
    "\n",
    "This is the second task for the 'Practical Course Data Science' (M.Inf.1800). In this task you will tackle your first real data science problem with sort of big data: given a list of taxi rides, the goal is to predict the price of each taxi ride."
   ]
  },
  {
   "cell_type": "code",
   "execution_count": 1,
   "metadata": {},
   "outputs": [],
   "source": [
    "# Manage imports\n",
    "import numpy as np\n",
    "import pandas as pd\n",
    "import seaborn as sns  \n",
    "import matplotlib.pyplot as plt"
   ]
  },
  {
   "cell_type": "code",
   "execution_count": 2,
   "metadata": {},
   "outputs": [],
   "source": [
    "# read data in memory\n",
    "data = pd.read_csv(\"train.csv\")"
   ]
  },
  {
   "cell_type": "markdown",
   "metadata": {},
   "source": [
    "## Clean Data"
   ]
  },
  {
   "cell_type": "markdown",
   "metadata": {},
   "source": [
    "Clean the data.\n",
    "Remove all obvious outliers:\n",
    "* Invalid Ratecoded (must be in range 1,2,3,4,5,6)\n",
    "* Invalid improvement_surcharge (only .5 is valid!)\n",
    "* Invalid mta_tax (either 0 or .5)\n",
    "* Invalid extra (0,0.5,1,1.5,4.5)\n",
    "* All negative values (costs can't be negative!)\n",
    "* Drop useless information\n",
    "    * store_and_fwd_flag (Useless)\n",
    "    * Vendor ID (Useless)\n",
    "    * Improvement surcharge (Fixed value!)\n",
    "* Calculate total amount, drop outliers (values which doesnt equal to the total amount must be wrong!)\n",
    "* Save pickup and dropoff time as datetime object"
   ]
  },
  {
   "cell_type": "code",
   "execution_count": 3,
   "metadata": {},
   "outputs": [],
   "source": [
    "# Drop all data with invalid extra, improvement_surcharge, RatecodeID, mta_tax -> Invalid!\n",
    "df = data.drop(data[data.extra.isin([0,0.5,1,1.5,4.5]) == False].index)\n",
    "df = df.drop(df[df.improvement_surcharge!=0.3].index)\n",
    "# Also drop 6 -> No group rides in test data!\n",
    "df = df.drop(df[df.RatecodeID.isin([1,2,3,4,5]) == False].index)\n",
    "df = df.drop(df[df.mta_tax.isin([0,0.5]) == False].index)\n",
    "\n",
    "# Also drop negative values:\n",
    "df = df.drop(df[df.tip_amount < 0].index)\n",
    "df = df.drop(df[df.fare_amount < 0].index)\n",
    "df = df.drop(df[df.total_amount < 0].index)\n",
    "df = df.drop(df[df.tolls_amount < 0].index)\n",
    "df = df.drop(df[df.trip_distance < 0].index)\n",
    "\n",
    "# Drop useless columns\n",
    "df = df.drop(['VendorID','store_and_fwd_flag','improvement_surcharge'],axis=1)\n",
    "\n",
    "# drop invalid rush hour surtaxes\n",
    "df = df.drop(df[(df.RatecodeID !=2) & (df.extra == 4.5)].index)\n",
    "df = df.drop(df[(df.RatecodeID ==2) & (df.extra == 1)].index)\n",
    "df = df.drop(df[(df.RatecodeID ==3) & (df.mta_tax == .5)].index)\n",
    "df = df.drop(df[(df.RatecodeID.isin([2,4,5])) & (df.mta_tax == 0)].index)"
   ]
  },
  {
   "cell_type": "code",
   "execution_count": 4,
   "metadata": {},
   "outputs": [],
   "source": [
    "df[\"tpep_pickup_datetime\"] = pd.to_datetime(df.tpep_pickup_datetime)\n",
    "df['tpep_dropoff_datetime'] = pd.to_datetime(df.tpep_dropoff_datetime)"
   ]
  },
  {
   "cell_type": "code",
   "execution_count": 5,
   "metadata": {},
   "outputs": [],
   "source": [
    "total = df.extra+df.tip_amount+df.tolls_amount+df.mta_tax+df.fare_amount + 0.3\n",
    "df = df.drop(df[df.total_amount != total].index)"
   ]
  },
  {
   "cell_type": "markdown",
   "metadata": {},
   "source": [
    "Add duration"
   ]
  },
  {
   "cell_type": "code",
   "execution_count": 6,
   "metadata": {},
   "outputs": [],
   "source": [
    "'''\n",
    "Add duration element: How long was the trip\n",
    "'''\n",
    "# Get duration\n",
    "df['duration'] = pd.to_datetime(df[\"tpep_dropoff_datetime\"])-pd.to_datetime(df[\"tpep_pickup_datetime\"])\n",
    "\n",
    "#drop all negative and too short rides  (< 30s , 40s is lowest in test data!)\n",
    "df = df.drop(df[df.duration < pd.Timedelta(\"30 seconds\")].index)\n",
    "\n",
    "# drop all > 3h (unreasonable long, 2:30 is longest in test data)\n",
    "df = df.drop(df[df.duration > pd.Timedelta(\"3 hours\")].index)"
   ]
  },
  {
   "cell_type": "markdown",
   "metadata": {},
   "source": [
    "Remove outliers.\n",
    "Check each category and remove all values which are more than 5 stds away!"
   ]
  },
  {
   "cell_type": "code",
   "execution_count": 7,
   "metadata": {},
   "outputs": [],
   "source": [
    "#keep only the ones that are within +5 to -5 standard deviations in the column 'Data'.\n",
    "feats = ['tip_amount','total_amount','fare_amount','trip_distance']\n",
    "for feat in feats:\n",
    "    df = df[np.abs(df[feat]-df[feat].mean())<=5*df[feat].std()] "
   ]
  },
  {
   "cell_type": "markdown",
   "metadata": {},
   "source": [
    "Add important features for prediction and value calculation:\n",
    "* Day -  Day of the week. Maybe useful for tip prediction. Used to calculate rush hour, as Rush Hour is only on Weekdays!\n",
    "* Holiday - Boolean, if its a holiday. On Holidays are no Rush hours!\n",
    "* Overnight - Boolean tag, if the trip was an overnight trip\n",
    "* Rush Hour - Boolean tag, if the trip was an rush hour trip\n",
    "* Pickup time - Time tag, when the trip started\n",
    "* Dropoff time - Time tag, wehen the trip ended\n",
    "* Mean time - Time tag, middle in the trip"
   ]
  },
  {
   "cell_type": "code",
   "execution_count": 8,
   "metadata": {},
   "outputs": [],
   "source": [
    "'''\n",
    "Add a weekday element\n",
    "'''\n",
    "df['day'] = (pd.to_datetime(df['tpep_pickup_datetime']).dt.weekday_name)"
   ]
  },
  {
   "cell_type": "code",
   "execution_count": 9,
   "metadata": {},
   "outputs": [],
   "source": [
    "# Get Holidays\n",
    "from pandas.tseries.holiday import USFederalHolidayCalendar as calendar\n",
    "cal = calendar()\n",
    "dr = pd.date_range(start=df['tpep_pickup_datetime'].min(), end=df['tpep_pickup_datetime'].max())\n",
    "holidays = cal.holidays(start=dr.min(), end=dr.max())\n",
    "df['holiday'] = df['tpep_pickup_datetime'].isin(holidays)"
   ]
  },
  {
   "cell_type": "code",
   "execution_count": 10,
   "metadata": {},
   "outputs": [
    {
     "data": {
      "text/plain": [
       "Thursday     1591789\n",
       "Wednesday    1537048\n",
       "Saturday     1323796\n",
       "Friday       1305178\n",
       "Tuesday      1199303\n",
       "Monday       1142575\n",
       "Sunday       1114760\n",
       "Name: day, dtype: int64"
      ]
     },
     "execution_count": 10,
     "metadata": {},
     "output_type": "execute_result"
    }
   ],
   "source": [
    "df['day'].value_counts()"
   ]
  },
  {
   "cell_type": "code",
   "execution_count": 11,
   "metadata": {},
   "outputs": [],
   "source": [
    "df['day'] = df.day.astype('category')\n",
    "df['RatecodeID'] = df.RatecodeID.astype('category')"
   ]
  },
  {
   "cell_type": "code",
   "execution_count": 12,
   "metadata": {},
   "outputs": [],
   "source": [
    "df['meanDate'] = (  pd.to_datetime(df['tpep_pickup_datetime']) \\\n",
    " + ((pd.to_datetime(df['tpep_dropoff_datetime'])-pd.to_datetime(df['tpep_pickup_datetime']))/2) \\\n",
    ")"
   ]
  },
  {
   "cell_type": "code",
   "execution_count": 13,
   "metadata": {},
   "outputs": [],
   "source": [
    "df['time']= df.meanDate - pd.to_datetime(df.meanDate.dt.date)"
   ]
  },
  {
   "cell_type": "code",
   "execution_count": 14,
   "metadata": {},
   "outputs": [],
   "source": [
    "df['pickup_time'] = df.tpep_pickup_datetime - pd.to_datetime(df.tpep_pickup_datetime.dt.date)"
   ]
  },
  {
   "cell_type": "code",
   "execution_count": 15,
   "metadata": {},
   "outputs": [],
   "source": [
    "df['dropoff_time'] = df.tpep_dropoff_datetime - pd.to_datetime(df.tpep_dropoff_datetime.dt.date)"
   ]
  },
  {
   "cell_type": "markdown",
   "metadata": {},
   "source": [
    "Check for overlapping Overnight and Rushhours (should be 1.5 tax)"
   ]
  },
  {
   "cell_type": "markdown",
   "metadata": {},
   "source": [
    "As there is no overlapping, all 1.5 taxes have to be invalid -> Remove!"
   ]
  },
  {
   "cell_type": "code",
   "execution_count": 75,
   "metadata": {},
   "outputs": [],
   "source": [
    "df = df.drop(df[df.extra == 1.5].index)"
   ]
  },
  {
   "cell_type": "markdown",
   "metadata": {},
   "source": [
    "## Clean obvious errors"
   ]
  },
  {
   "cell_type": "code",
   "execution_count": 76,
   "metadata": {},
   "outputs": [
    {
     "data": {
      "text/plain": [
       "0.0    4608572\n",
       "0.5    3163609\n",
       "1.0    1430866\n",
       "4.5      11385\n",
       "Name: extra, dtype: int64"
      ]
     },
     "execution_count": 76,
     "metadata": {},
     "output_type": "execute_result"
    }
   ],
   "source": [
    "df.extra.value_counts()"
   ]
  },
  {
   "cell_type": "code",
   "execution_count": 77,
   "metadata": {},
   "outputs": [],
   "source": [
    "# Rush Hour on Weekends\n",
    "df = df.drop(df[(df.extra.isin([1,4.5])) & (df.day.isin(['Sunday','Saturday']))].index)\n",
    "# Rush Hour picked up after 20\n",
    "df = df.drop(df[(df.extra.isin([1,4.5])) & (pd.to_datetime(df.tpep_pickup_datetime).dt.hour >= 20)].index)\n",
    "# Rush Hour dropped before 16\n",
    "df = df.drop(df[(df.extra.isin([1,4.5])) & (pd.to_datetime(df.tpep_dropoff_datetime).dt.hour < 16)].index)\n",
    "# Overnight picked up after 6 and dropped before 20\n",
    "df = df.drop(df[(df.extra == 0.5) & \\\n",
    "    ((pd.to_datetime(df.tpep_pickup_datetime).dt.hour >= 6) & \\\n",
    "    (pd.to_datetime(df.tpep_dropoff_datetime).dt.hour < 20))].index)"
   ]
  },
  {
   "cell_type": "code",
   "execution_count": 78,
   "metadata": {},
   "outputs": [
    {
     "data": {
      "text/plain": [
       "0.0    4608572\n",
       "0.5    3052170\n",
       "1.0    1406401\n",
       "4.5      11343\n",
       "Name: extra, dtype: int64"
      ]
     },
     "execution_count": 78,
     "metadata": {},
     "output_type": "execute_result"
    }
   ],
   "source": [
    "df.extra.value_counts()"
   ]
  },
  {
   "cell_type": "markdown",
   "metadata": {},
   "source": [
    "## Calculate Actual Overnight and Rush hour (Test when it actually applies!)"
   ]
  },
  {
   "cell_type": "code",
   "execution_count": 118,
   "metadata": {},
   "outputs": [],
   "source": [
    "    '''\n",
    "    (((pd.to_datetime(df.tpep_dropoff_datetime).dt.hour >= 16) & \\\n",
    "    (pd.to_datetime(df.tpep_dropoff_datetime).dt.hour < 20)) \\\n",
    "    | \\\n",
    "    '''\n",
    "df['rush_hour'] = \\\n",
    "    ((pd.to_datetime(df.tpep_pickup_datetime).dt.hour < 20) & \\\n",
    "      (pd.to_datetime(df.tpep_pickup_datetime).dt.hour >= 16)) \\\n",
    "    & \\\n",
    "    (df['day'].isin([\"Monday\",\"Tuesday\",\"Wednesday\",\"Thursday\",\"Friday\"])) &\\\n",
    "    (df['holiday'] == False)"
   ]
  },
  {
   "cell_type": "code",
   "execution_count": 119,
   "metadata": {},
   "outputs": [],
   "source": [
    "#(pd.to_datetime(df.tpep_dropoff_datetime).dt.hour <= 5) | \\\n",
    "#(pd.to_datetime(df.tpep_dropoff_datetime).dt.hour >= 20) |  \\\n",
    "\n",
    "df['overnight'] = \\\n",
    "    (pd.to_datetime(df.tpep_pickup_datetime).dt.hour <= 5) | \\\n",
    "    (pd.to_datetime(df.tpep_pickup_datetime).dt.hour >= 20)"
   ]
  },
  {
   "cell_type": "code",
   "execution_count": 120,
   "metadata": {},
   "outputs": [
    {
     "data": {
      "text/plain": [
       "False    5974108\n",
       "True     3043869\n",
       "Name: overnight, dtype: int64"
      ]
     },
     "execution_count": 120,
     "metadata": {},
     "output_type": "execute_result"
    }
   ],
   "source": [
    "df[df.RatecodeID.isin([1,3,5])].overnight.value_counts()"
   ]
  },
  {
   "cell_type": "code",
   "execution_count": 121,
   "metadata": {},
   "outputs": [
    {
     "data": {
      "text/plain": [
       "False    7601740\n",
       "True     1416237\n",
       "Name: rush_hour, dtype: int64"
      ]
     },
     "execution_count": 121,
     "metadata": {},
     "output_type": "execute_result"
    }
   ],
   "source": [
    "df[(df.RatecodeID.isin([1,3,5]))].rush_hour.value_counts()"
   ]
  },
  {
   "cell_type": "code",
   "execution_count": 122,
   "metadata": {},
   "outputs": [],
   "source": [
    "conditions = [ \\\n",
    "    (df['overnight'] == True) & (df['rush_hour'] == False), \\\n",
    "    (df['overnight'] == True) & (df['rush_hour'] == True), \\\n",
    "    (df['overnight'] == False) & (df['rush_hour'] == True) & (df['RatecodeID'] == 2), \\\n",
    "    (df['overnight'] == False) & (df['rush_hour'] == True) & (df['RatecodeID'] != 2), \\\n",
    "]\n",
    "choices = [.5, 1.5, 4.5, 1]\n",
    "df['calcExtra'] = np.select(conditions, choices, default=0)"
   ]
  },
  {
   "cell_type": "code",
   "execution_count": 123,
   "metadata": {},
   "outputs": [
    {
     "data": {
      "text/plain": [
       "0.0    4591891\n",
       "0.5    3058601\n",
       "1.0    1416563\n",
       "4.5      11431\n",
       "Name: calcExtra, dtype: int64"
      ]
     },
     "execution_count": 123,
     "metadata": {},
     "output_type": "execute_result"
    }
   ],
   "source": [
    "df['calcExtra'].value_counts()"
   ]
  },
  {
   "cell_type": "code",
   "execution_count": 124,
   "metadata": {},
   "outputs": [
    {
     "data": {
      "text/plain": [
       "count    9.078486e+06\n",
       "mean    -1.517158e-03\n",
       "std      5.924746e-02\n",
       "min     -4.500000e+00\n",
       "25%      0.000000e+00\n",
       "50%      0.000000e+00\n",
       "75%      0.000000e+00\n",
       "max      4.500000e+00\n",
       "dtype: float64"
      ]
     },
     "execution_count": 124,
     "metadata": {},
     "output_type": "execute_result"
    }
   ],
   "source": [
    "err = df.extra-df.calcExtra\n",
    "err.describe()"
   ]
  },
  {
   "cell_type": "code",
   "execution_count": 125,
   "metadata": {},
   "outputs": [
    {
     "data": {
      "image/png": "[encoded data removed]",
      "text/plain": [
       "<matplotlib.figure.Figure at 0x1a1a85bf98>"
      ]
     },
     "metadata": {},
     "output_type": "display_data"
    }
   ],
   "source": [
    "sns.distplot(err,hist_kws={\"log\":True},kde=False);"
   ]
  },
  {
   "cell_type": "code",
   "execution_count": 126,
   "metadata": {},
   "outputs": [
    {
     "data": {
      "text/plain": [
       "0.0035125625572369665"
      ]
     },
     "execution_count": 126,
     "metadata": {},
     "output_type": "execute_result"
    }
   ],
   "source": [
    "mean_squared_error(df.calcExtra,df.extra)"
   ]
  },
  {
   "cell_type": "markdown",
   "metadata": {},
   "source": [
    "## Check the differences of calculation and real extra. Why does it not match perfectly?"
   ]
  },
  {
   "cell_type": "markdown",
   "metadata": {},
   "source": [
    "Check all values which are not overnight but still get the 0.5 charge"
   ]
  },
  {
   "cell_type": "code",
   "execution_count": 54,
   "metadata": {},
   "outputs": [
    {
     "data": {
      "text/html": [
       "<div>\n",
       "<style scoped>\n",
       "    .dataframe tbody tr th:only-of-type {\n",
       "        vertical-align: middle;\n",
       "    }\n",
       "\n",
       "    .dataframe tbody tr th {\n",
       "        vertical-align: top;\n",
       "    }\n",
       "\n",
       "    .dataframe thead th {\n",
       "        text-align: right;\n",
       "    }\n",
       "</style>\n",
       "<table border=\"1\" class=\"dataframe\">\n",
       "  <thead>\n",
       "    <tr style=\"text-align: right;\">\n",
       "      <th></th>\n",
       "      <th>time</th>\n",
       "      <th>pickup_time</th>\n",
       "      <th>dropoff_time</th>\n",
       "    </tr>\n",
       "  </thead>\n",
       "  <tbody>\n",
       "    <tr>\n",
       "      <th>count</th>\n",
       "      <td>33902</td>\n",
       "      <td>33902</td>\n",
       "      <td>33902</td>\n",
       "    </tr>\n",
       "    <tr>\n",
       "      <th>mean</th>\n",
       "      <td>0 days 18:24:23.039540</td>\n",
       "      <td>0 days 18:18:12.464515</td>\n",
       "      <td>0 days 18:30:33.614565</td>\n",
       "    </tr>\n",
       "    <tr>\n",
       "      <th>std</th>\n",
       "      <td>0 days 03:58:12.145757</td>\n",
       "      <td>0 days 03:57:57.645304</td>\n",
       "      <td>0 days 03:58:31.410516</td>\n",
       "    </tr>\n",
       "    <tr>\n",
       "      <th>min</th>\n",
       "      <td>0 days 06:00:39</td>\n",
       "      <td>0 days 06:00:00</td>\n",
       "      <td>0 days 06:01:12</td>\n",
       "    </tr>\n",
       "    <tr>\n",
       "      <th>25%</th>\n",
       "      <td>0 days 19:43:29.625000</td>\n",
       "      <td>0 days 19:37:45.250000</td>\n",
       "      <td>0 days 19:48:14</td>\n",
       "    </tr>\n",
       "    <tr>\n",
       "      <th>50%</th>\n",
       "      <td>0 days 19:58:26</td>\n",
       "      <td>0 days 19:53:13</td>\n",
       "      <td>0 days 20:02:23</td>\n",
       "    </tr>\n",
       "    <tr>\n",
       "      <th>75%</th>\n",
       "      <td>0 days 20:03:04</td>\n",
       "      <td>0 days 19:57:42</td>\n",
       "      <td>0 days 20:09:18</td>\n",
       "    </tr>\n",
       "    <tr>\n",
       "      <th>max</th>\n",
       "      <td>0 days 21:10:40.500000</td>\n",
       "      <td>0 days 19:59:59</td>\n",
       "      <td>0 days 22:22:37</td>\n",
       "    </tr>\n",
       "  </tbody>\n",
       "</table>\n",
       "</div>"
      ],
      "text/plain": [
       "                         time             pickup_time            dropoff_time\n",
       "count                   33902                   33902                   33902\n",
       "mean   0 days 18:24:23.039540  0 days 18:18:12.464515  0 days 18:30:33.614565\n",
       "std    0 days 03:58:12.145757  0 days 03:57:57.645304  0 days 03:58:31.410516\n",
       "min           0 days 06:00:39         0 days 06:00:00         0 days 06:01:12\n",
       "25%    0 days 19:43:29.625000  0 days 19:37:45.250000         0 days 19:48:14\n",
       "50%           0 days 19:58:26         0 days 19:53:13         0 days 20:02:23\n",
       "75%           0 days 20:03:04         0 days 19:57:42         0 days 20:09:18\n",
       "max    0 days 21:10:40.500000         0 days 19:59:59         0 days 22:22:37"
      ]
     },
     "execution_count": 54,
     "metadata": {},
     "output_type": "execute_result"
    },
    {
     "data": {
      "image/png": "[encoded data removed]",
      "text/plain": [
       "<matplotlib.figure.Figure at 0x109b74080>"
      ]
     },
     "metadata": {},
     "output_type": "display_data"
    }
   ],
   "source": [
    "outlier = df[(df.extra == 0.5) & (df.overnight == False)]\n",
    "sns.violinplot(x=outlier.extra,y=outlier.time.astype('timedelta64[m]'))\n",
    "plt.yticks(np.arange(1440,step=60),np.arange(24,step=1))\n",
    "plt.ylabel('Hour')\n",
    "outlier[['time','pickup_time','dropoff_time']].describe()"
   ]
  },
  {
   "cell_type": "markdown",
   "metadata": {},
   "source": [
    "There are 14k values wrongfully having a .5 extra cost.\n",
    "The values range mostly from 19-20, however none was after 20 and so none should have the 0.5 extra cost. The same is true for the bottom, some are right after 6 (Pickup time!), in which case there shouldnt be any tax."
   ]
  },
  {
   "cell_type": "markdown",
   "metadata": {},
   "source": [
    "Check the opposite: Values which should have a 0.5 extra, but dont!"
   ]
  },
  {
   "cell_type": "code",
   "execution_count": 55,
   "metadata": {},
   "outputs": [
    {
     "data": {
      "text/html": [
       "<div>\n",
       "<style scoped>\n",
       "    .dataframe tbody tr th:only-of-type {\n",
       "        vertical-align: middle;\n",
       "    }\n",
       "\n",
       "    .dataframe tbody tr th {\n",
       "        vertical-align: top;\n",
       "    }\n",
       "\n",
       "    .dataframe thead th {\n",
       "        text-align: right;\n",
       "    }\n",
       "</style>\n",
       "<table border=\"1\" class=\"dataframe\">\n",
       "  <thead>\n",
       "    <tr style=\"text-align: right;\">\n",
       "      <th></th>\n",
       "      <th>time</th>\n",
       "      <th>pickup_time</th>\n",
       "      <th>dropoff_time</th>\n",
       "    </tr>\n",
       "  </thead>\n",
       "  <tbody>\n",
       "    <tr>\n",
       "      <th>count</th>\n",
       "      <td>19277</td>\n",
       "      <td>19277</td>\n",
       "      <td>19277</td>\n",
       "    </tr>\n",
       "    <tr>\n",
       "      <th>mean</th>\n",
       "      <td>0 days 14:18:28.812263</td>\n",
       "      <td>0 days 14:17:16.791046</td>\n",
       "      <td>0 days 14:18:56.013228</td>\n",
       "    </tr>\n",
       "    <tr>\n",
       "      <th>std</th>\n",
       "      <td>0 days 07:32:24.017131</td>\n",
       "      <td>0 days 07:30:15.355910</td>\n",
       "      <td>0 days 07:34:44.481321</td>\n",
       "    </tr>\n",
       "    <tr>\n",
       "      <th>min</th>\n",
       "      <td>0 days 00:00:07.500000</td>\n",
       "      <td>0 days 00:00:01</td>\n",
       "      <td>0 days 00:00:00</td>\n",
       "    </tr>\n",
       "    <tr>\n",
       "      <th>25%</th>\n",
       "      <td>0 days 05:59:44.500000</td>\n",
       "      <td>0 days 05:56:16</td>\n",
       "      <td>0 days 06:02:24</td>\n",
       "    </tr>\n",
       "    <tr>\n",
       "      <th>50%</th>\n",
       "      <td>0 days 20:04:43</td>\n",
       "      <td>0 days 20:00:32</td>\n",
       "      <td>0 days 20:07:50</td>\n",
       "    </tr>\n",
       "    <tr>\n",
       "      <th>75%</th>\n",
       "      <td>0 days 20:13:12.500000</td>\n",
       "      <td>0 days 20:05:03</td>\n",
       "      <td>0 days 20:21:21</td>\n",
       "    </tr>\n",
       "    <tr>\n",
       "      <th>max</th>\n",
       "      <td>0 days 23:59:49.500000</td>\n",
       "      <td>0 days 23:59:54</td>\n",
       "      <td>0 days 23:59:40</td>\n",
       "    </tr>\n",
       "  </tbody>\n",
       "</table>\n",
       "</div>"
      ],
      "text/plain": [
       "                         time             pickup_time            dropoff_time\n",
       "count                   19277                   19277                   19277\n",
       "mean   0 days 14:18:28.812263  0 days 14:17:16.791046  0 days 14:18:56.013228\n",
       "std    0 days 07:32:24.017131  0 days 07:30:15.355910  0 days 07:34:44.481321\n",
       "min    0 days 00:00:07.500000         0 days 00:00:01         0 days 00:00:00\n",
       "25%    0 days 05:59:44.500000         0 days 05:56:16         0 days 06:02:24\n",
       "50%           0 days 20:04:43         0 days 20:00:32         0 days 20:07:50\n",
       "75%    0 days 20:13:12.500000         0 days 20:05:03         0 days 20:21:21\n",
       "max    0 days 23:59:49.500000         0 days 23:59:54         0 days 23:59:40"
      ]
     },
     "execution_count": 55,
     "metadata": {},
     "output_type": "execute_result"
    },
    {
     "data": {
      "image/png": "[encoded data removed]",
      "text/plain": [
       "<matplotlib.figure.Figure at 0x1a10c9fe80>"
      ]
     },
     "metadata": {},
     "output_type": "display_data"
    }
   ],
   "source": [
    "outlier = df[(df.RatecodeID == 1) & (df.extra != 0.5) & (df.overnight == True)]\n",
    "sns.violinplot(x=outlier.extra,y=outlier.time.astype('timedelta64[m]'))\n",
    "plt.yticks(np.arange(1440,step=60),np.arange(24,step=1))\n",
    "plt.ylabel('Hour')\n",
    "outlier[['time','pickup_time','dropoff_time']].describe()"
   ]
  },
  {
   "cell_type": "markdown",
   "metadata": {},
   "source": [
    "Most values started before 20, for half the values the mean time is also below 50%, maybe the tax wasn't added then. However, there are many values which cant be correct"
   ]
  },
  {
   "cell_type": "code",
   "execution_count": 56,
   "metadata": {},
   "outputs": [
    {
     "data": {
      "text/plain": [
       "Thursday     3612\n",
       "Wednesday    3380\n",
       "Friday       2855\n",
       "Monday       2626\n",
       "Tuesday      2609\n",
       "Saturday     2357\n",
       "Sunday       1838\n",
       "Name: day, dtype: int64"
      ]
     },
     "execution_count": 56,
     "metadata": {},
     "output_type": "execute_result"
    }
   ],
   "source": [
    "outlier.day.value_counts()"
   ]
  },
  {
   "cell_type": "markdown",
   "metadata": {},
   "source": [
    "Check for overnight extra charge!\n",
    "First check all with extra 1 and outside of an rush hour!"
   ]
  },
  {
   "cell_type": "code",
   "execution_count": 57,
   "metadata": {},
   "outputs": [
    {
     "data": {
      "text/html": [
       "<div>\n",
       "<style scoped>\n",
       "    .dataframe tbody tr th:only-of-type {\n",
       "        vertical-align: middle;\n",
       "    }\n",
       "\n",
       "    .dataframe tbody tr th {\n",
       "        vertical-align: top;\n",
       "    }\n",
       "\n",
       "    .dataframe thead th {\n",
       "        text-align: right;\n",
       "    }\n",
       "</style>\n",
       "<table border=\"1\" class=\"dataframe\">\n",
       "  <thead>\n",
       "    <tr style=\"text-align: right;\">\n",
       "      <th></th>\n",
       "      <th>time</th>\n",
       "      <th>pickup_time</th>\n",
       "      <th>dropoff_time</th>\n",
       "    </tr>\n",
       "  </thead>\n",
       "  <tbody>\n",
       "    <tr>\n",
       "      <th>count</th>\n",
       "      <td>35722</td>\n",
       "      <td>35722</td>\n",
       "      <td>35722</td>\n",
       "    </tr>\n",
       "    <tr>\n",
       "      <th>mean</th>\n",
       "      <td>0 days 17:32:58.253933</td>\n",
       "      <td>0 days 17:26:39.854319</td>\n",
       "      <td>0 days 17:39:19.072224</td>\n",
       "    </tr>\n",
       "    <tr>\n",
       "      <th>std</th>\n",
       "      <td>0 days 02:19:45.603296</td>\n",
       "      <td>0 days 02:18:05.111160</td>\n",
       "      <td>0 days 02:21:31.800572</td>\n",
       "    </tr>\n",
       "    <tr>\n",
       "      <th>min</th>\n",
       "      <td>0 days 00:00:07.500000</td>\n",
       "      <td>0 days 00:00:22</td>\n",
       "      <td>0 days 00:00:20</td>\n",
       "    </tr>\n",
       "    <tr>\n",
       "      <th>25%</th>\n",
       "      <td>0 days 16:01:35.625000</td>\n",
       "      <td>0 days 15:55:47</td>\n",
       "      <td>0 days 16:07:09</td>\n",
       "    </tr>\n",
       "    <tr>\n",
       "      <th>50%</th>\n",
       "      <td>0 days 16:50:09</td>\n",
       "      <td>0 days 16:44:15</td>\n",
       "      <td>0 days 16:58:55.500000</td>\n",
       "    </tr>\n",
       "    <tr>\n",
       "      <th>75%</th>\n",
       "      <td>0 days 19:43:30.625000</td>\n",
       "      <td>0 days 19:37:12.500000</td>\n",
       "      <td>0 days 19:50:00.500000</td>\n",
       "    </tr>\n",
       "    <tr>\n",
       "      <th>max</th>\n",
       "      <td>0 days 23:59:18.500000</td>\n",
       "      <td>0 days 23:59:22</td>\n",
       "      <td>0 days 23:59:29</td>\n",
       "    </tr>\n",
       "  </tbody>\n",
       "</table>\n",
       "</div>"
      ],
      "text/plain": [
       "                         time             pickup_time            dropoff_time\n",
       "count                   35722                   35722                   35722\n",
       "mean   0 days 17:32:58.253933  0 days 17:26:39.854319  0 days 17:39:19.072224\n",
       "std    0 days 02:19:45.603296  0 days 02:18:05.111160  0 days 02:21:31.800572\n",
       "min    0 days 00:00:07.500000         0 days 00:00:22         0 days 00:00:20\n",
       "25%    0 days 16:01:35.625000         0 days 15:55:47         0 days 16:07:09\n",
       "50%           0 days 16:50:09         0 days 16:44:15  0 days 16:58:55.500000\n",
       "75%    0 days 19:43:30.625000  0 days 19:37:12.500000  0 days 19:50:00.500000\n",
       "max    0 days 23:59:18.500000         0 days 23:59:22         0 days 23:59:29"
      ]
     },
     "execution_count": 57,
     "metadata": {},
     "output_type": "execute_result"
    },
    {
     "data": {
      "image/png": "[encoded data removed]",
      "text/plain": [
       "<matplotlib.figure.Figure at 0x1a10e5e160>"
      ]
     },
     "metadata": {},
     "output_type": "display_data"
    }
   ],
   "source": [
    "outlier = df[(df.extra ==1) & (df.rush_hour == False) & (df.RatecodeID.isin([1,3,4,5]))]\n",
    "sns.violinplot(x=outlier.overnight,y=outlier.time.astype('timedelta64[m]'))\n",
    "plt.yticks(np.arange(0,1440,step=120),np.arange(1,24,step=2))\n",
    "plt.ylabel('Hour')\n",
    "outlier[['time','pickup_time','dropoff_time']].describe()"
   ]
  },
  {
   "cell_type": "code",
   "execution_count": 59,
   "metadata": {},
   "outputs": [
    {
     "data": {
      "text/html": [
       "<div>\n",
       "<style scoped>\n",
       "    .dataframe tbody tr th:only-of-type {\n",
       "        vertical-align: middle;\n",
       "    }\n",
       "\n",
       "    .dataframe tbody tr th {\n",
       "        vertical-align: top;\n",
       "    }\n",
       "\n",
       "    .dataframe thead th {\n",
       "        text-align: right;\n",
       "    }\n",
       "</style>\n",
       "<table border=\"1\" class=\"dataframe\">\n",
       "  <thead>\n",
       "    <tr style=\"text-align: right;\">\n",
       "      <th></th>\n",
       "      <th>time</th>\n",
       "      <th>pickup_time</th>\n",
       "      <th>dropoff_time</th>\n",
       "    </tr>\n",
       "  </thead>\n",
       "  <tbody>\n",
       "    <tr>\n",
       "      <th>count</th>\n",
       "      <td>28607</td>\n",
       "      <td>28607</td>\n",
       "      <td>28607</td>\n",
       "    </tr>\n",
       "    <tr>\n",
       "      <th>mean</th>\n",
       "      <td>0 days 19:10:56.039273</td>\n",
       "      <td>0 days 19:04:24.855175</td>\n",
       "      <td>0 days 19:17:27.223371</td>\n",
       "    </tr>\n",
       "    <tr>\n",
       "      <th>std</th>\n",
       "      <td>0 days 01:27:02.158389</td>\n",
       "      <td>0 days 01:27:35.040023</td>\n",
       "      <td>0 days 01:26:44.450375</td>\n",
       "    </tr>\n",
       "    <tr>\n",
       "      <th>min</th>\n",
       "      <td>0 days 16:00:36.500000</td>\n",
       "      <td>0 days 16:00:00</td>\n",
       "      <td>0 days 16:01:03</td>\n",
       "    </tr>\n",
       "    <tr>\n",
       "      <th>25%</th>\n",
       "      <td>0 days 19:16:48.500000</td>\n",
       "      <td>0 days 19:10:26.500000</td>\n",
       "      <td>0 days 19:23:11.500000</td>\n",
       "    </tr>\n",
       "    <tr>\n",
       "      <th>50%</th>\n",
       "      <td>0 days 19:56:49.500000</td>\n",
       "      <td>0 days 19:51:33</td>\n",
       "      <td>0 days 20:00:51</td>\n",
       "    </tr>\n",
       "    <tr>\n",
       "      <th>75%</th>\n",
       "      <td>0 days 20:02:35</td>\n",
       "      <td>0 days 19:57:20</td>\n",
       "      <td>0 days 20:08:25</td>\n",
       "    </tr>\n",
       "    <tr>\n",
       "      <th>max</th>\n",
       "      <td>0 days 20:44:55.500000</td>\n",
       "      <td>0 days 19:59:59</td>\n",
       "      <td>0 days 21:45:19</td>\n",
       "    </tr>\n",
       "  </tbody>\n",
       "</table>\n",
       "</div>"
      ],
      "text/plain": [
       "                         time             pickup_time            dropoff_time\n",
       "count                   28607                   28607                   28607\n",
       "mean   0 days 19:10:56.039273  0 days 19:04:24.855175  0 days 19:17:27.223371\n",
       "std    0 days 01:27:02.158389  0 days 01:27:35.040023  0 days 01:26:44.450375\n",
       "min    0 days 16:00:36.500000         0 days 16:00:00         0 days 16:01:03\n",
       "25%    0 days 19:16:48.500000  0 days 19:10:26.500000  0 days 19:23:11.500000\n",
       "50%    0 days 19:56:49.500000         0 days 19:51:33         0 days 20:00:51\n",
       "75%           0 days 20:02:35         0 days 19:57:20         0 days 20:08:25\n",
       "max    0 days 20:44:55.500000         0 days 19:59:59         0 days 21:45:19"
      ]
     },
     "execution_count": 59,
     "metadata": {},
     "output_type": "execute_result"
    },
    {
     "data": {
      "image/png": "[encoded data removed]",
      "text/plain": [
       "<matplotlib.figure.Figure at 0x1a13f08898>"
      ]
     },
     "metadata": {},
     "output_type": "display_data"
    }
   ],
   "source": [
    "outlier = df[(df.extra != 1) & (df.rush_hour == True) & (df.RatecodeID.isin([1,3,4,5]))]\n",
    "sns.violinplot(x=outlier.extra,y=outlier.time.astype('timedelta64[m]'))\n",
    "plt.yticks(np.arange(0,1440,step=120),np.arange(0,24,step=2))\n",
    "plt.ylabel('Hour')\n",
    "outlier[['time','pickup_time','dropoff_time','rush_hour']].describe()"
   ]
  },
  {
   "cell_type": "markdown",
   "metadata": {},
   "source": [
    "# Train model to predict extra more precise"
   ]
  },
  {
   "cell_type": "code",
   "execution_count": 88,
   "metadata": {},
   "outputs": [],
   "source": [
    "df['workday'] = (df.tpep_pickup_datetime.dt.weekday < 5)&(df.holiday==False)\n",
    "df['pickup_time_s'] = df['dropoff_time'].astype('timedelta64[s]')\n",
    "df['duration_s'] = df['duration'].astype('timedelta64[s]')\n",
    "df['dropoff_time_s'] = df['pickup_time'].astype('timedelta64[s]')\n",
    "df['weekday'] = df.tpep_pickup_datetime.dt.weekday"
   ]
  },
  {
   "cell_type": "code",
   "execution_count": 89,
   "metadata": {},
   "outputs": [
    {
     "data": {
      "text/plain": [
       "Thursday     1566260\n",
       "Wednesday    1517177\n",
       "Friday       1282174\n",
       "Tuesday      1184979\n",
       "Monday       1129632\n",
       "Sunday             0\n",
       "Saturday           0\n",
       "Name: day, dtype: int64"
      ]
     },
     "execution_count": 89,
     "metadata": {},
     "output_type": "execute_result"
    }
   ],
   "source": [
    "df[df.workday==True].day.value_counts()"
   ]
  },
  {
   "cell_type": "code",
   "execution_count": 90,
   "metadata": {},
   "outputs": [],
   "source": [
    "from sklearn import preprocessing\n",
    "le = preprocessing.LabelEncoder()\n",
    "sample = df.sample(100000)\n",
    "\n",
    "le.fit(sample.extra)\n",
    "extra_coded = le.transform(sample.extra)"
   ]
  },
  {
   "cell_type": "code",
   "execution_count": 91,
   "metadata": {},
   "outputs": [],
   "source": [
    "from sklearn.metrics import mean_squared_error, r2_score\n",
    "from sklearn.model_selection import train_test_split\n",
    "\n",
    "X_train, X_test, y_train, y_test  = train_test_split(sample[['pickup_time_s','dropoff_time_s','workday']]\\\n",
    "                                                     ,extra_coded, test_size=0.2, random_state=1337)"
   ]
  },
  {
   "cell_type": "code",
   "execution_count": null,
   "metadata": {},
   "outputs": [],
   "source": []
  },
  {
   "cell_type": "code",
   "execution_count": 92,
   "metadata": {},
   "outputs": [
    {
     "data": {
      "text/plain": [
       "RandomForestClassifier(bootstrap=True, class_weight=None, criterion='gini',\n",
       "            max_depth=None, max_features='auto', max_leaf_nodes=None,\n",
       "            min_impurity_decrease=0.0, min_impurity_split=None,\n",
       "            min_samples_leaf=1, min_samples_split=2,\n",
       "            min_weight_fraction_leaf=0.0, n_estimators=10, n_jobs=1,\n",
       "            oob_score=False, random_state=1337, verbose=0,\n",
       "            warm_start=False)"
      ]
     },
     "execution_count": 92,
     "metadata": {},
     "output_type": "execute_result"
    }
   ],
   "source": [
    "from sklearn.ensemble import RandomForestClassifier\n",
    "rfr = RandomForestClassifier(random_state=1337)\n",
    "\n",
    "rfr.fit(X_train,y_train)"
   ]
  },
  {
   "cell_type": "code",
   "execution_count": 93,
   "metadata": {},
   "outputs": [],
   "source": [
    "rfr_pred = rfr.predict(X_test)"
   ]
  },
  {
   "cell_type": "code",
   "execution_count": 94,
   "metadata": {},
   "outputs": [
    {
     "name": "stderr",
     "output_type": "stream",
     "text": [
      "/anaconda3/lib/python3.6/site-packages/sklearn/preprocessing/label.py:151: DeprecationWarning: The truth value of an empty array is ambiguous. Returning False, but in future this will result in an error. Use `array.size > 0` to check that an array is not empty.\n",
      "  if diff:\n",
      "/anaconda3/lib/python3.6/site-packages/sklearn/preprocessing/label.py:151: DeprecationWarning: The truth value of an empty array is ambiguous. Returning False, but in future this will result in an error. Use `array.size > 0` to check that an array is not empty.\n",
      "  if diff:\n"
     ]
    }
   ],
   "source": [
    "# Decode\n",
    "rfr_pred = le.inverse_transform(rfr_pred)\n",
    "y_test = le.inverse_transform(y_test)"
   ]
  },
  {
   "cell_type": "code",
   "execution_count": 95,
   "metadata": {},
   "outputs": [
    {
     "data": {
      "text/html": [
       "<div>\n",
       "<style scoped>\n",
       "    .dataframe tbody tr th:only-of-type {\n",
       "        vertical-align: middle;\n",
       "    }\n",
       "\n",
       "    .dataframe tbody tr th {\n",
       "        vertical-align: top;\n",
       "    }\n",
       "\n",
       "    .dataframe thead th {\n",
       "        text-align: right;\n",
       "    }\n",
       "</style>\n",
       "<table border=\"1\" class=\"dataframe\">\n",
       "  <thead>\n",
       "    <tr style=\"text-align: right;\">\n",
       "      <th></th>\n",
       "      <th>0</th>\n",
       "    </tr>\n",
       "  </thead>\n",
       "  <tbody>\n",
       "    <tr>\n",
       "      <th>count</th>\n",
       "      <td>20000.000000</td>\n",
       "    </tr>\n",
       "    <tr>\n",
       "      <th>mean</th>\n",
       "      <td>0.002025</td>\n",
       "    </tr>\n",
       "    <tr>\n",
       "      <th>std</th>\n",
       "      <td>0.146831</td>\n",
       "    </tr>\n",
       "    <tr>\n",
       "      <th>min</th>\n",
       "      <td>-4.500000</td>\n",
       "    </tr>\n",
       "    <tr>\n",
       "      <th>25%</th>\n",
       "      <td>0.000000</td>\n",
       "    </tr>\n",
       "    <tr>\n",
       "      <th>50%</th>\n",
       "      <td>0.000000</td>\n",
       "    </tr>\n",
       "    <tr>\n",
       "      <th>75%</th>\n",
       "      <td>0.000000</td>\n",
       "    </tr>\n",
       "    <tr>\n",
       "      <th>max</th>\n",
       "      <td>3.500000</td>\n",
       "    </tr>\n",
       "  </tbody>\n",
       "</table>\n",
       "</div>"
      ],
      "text/plain": [
       "                  0\n",
       "count  20000.000000\n",
       "mean       0.002025\n",
       "std        0.146831\n",
       "min       -4.500000\n",
       "25%        0.000000\n",
       "50%        0.000000\n",
       "75%        0.000000\n",
       "max        3.500000"
      ]
     },
     "execution_count": 95,
     "metadata": {},
     "output_type": "execute_result"
    }
   ],
   "source": [
    "err = pd.DataFrame(y_test-rfr_pred)\n",
    "err.describe()"
   ]
  },
  {
   "cell_type": "code",
   "execution_count": 96,
   "metadata": {},
   "outputs": [
    {
     "data": {
      "image/png": "[encoded data removed]",
      "text/plain": [
       "<matplotlib.figure.Figure at 0x1a114999e8>"
      ]
     },
     "metadata": {},
     "output_type": "display_data"
    }
   ],
   "source": [
    "ax = sns.distplot(err,hist_kws={\"log\":True},kde=False);"
   ]
  },
  {
   "cell_type": "code",
   "execution_count": 97,
   "metadata": {},
   "outputs": [
    {
     "data": {
      "text/html": [
       "<div>\n",
       "<style scoped>\n",
       "    .dataframe tbody tr th:only-of-type {\n",
       "        vertical-align: middle;\n",
       "    }\n",
       "\n",
       "    .dataframe tbody tr th {\n",
       "        vertical-align: top;\n",
       "    }\n",
       "\n",
       "    .dataframe thead th {\n",
       "        text-align: right;\n",
       "    }\n",
       "</style>\n",
       "<table border=\"1\" class=\"dataframe\">\n",
       "  <thead>\n",
       "    <tr style=\"text-align: right;\">\n",
       "      <th></th>\n",
       "      <th>Features</th>\n",
       "      <th>estimatedCoefficients</th>\n",
       "    </tr>\n",
       "  </thead>\n",
       "  <tbody>\n",
       "    <tr>\n",
       "      <th>0</th>\n",
       "      <td>pickup_time_s</td>\n",
       "      <td>0.517886</td>\n",
       "    </tr>\n",
       "    <tr>\n",
       "      <th>1</th>\n",
       "      <td>dropoff_time_s</td>\n",
       "      <td>0.445313</td>\n",
       "    </tr>\n",
       "    <tr>\n",
       "      <th>2</th>\n",
       "      <td>workday</td>\n",
       "      <td>0.036802</td>\n",
       "    </tr>\n",
       "  </tbody>\n",
       "</table>\n",
       "</div>"
      ],
      "text/plain": [
       "         Features  estimatedCoefficients\n",
       "0   pickup_time_s               0.517886\n",
       "1  dropoff_time_s               0.445313\n",
       "2         workday               0.036802"
      ]
     },
     "execution_count": 97,
     "metadata": {},
     "output_type": "execute_result"
    }
   ],
   "source": [
    "# Feature importance# Feature \n",
    "pd.DataFrame({\"Features\" : X_train.columns,\"estimatedCoefficients\": rfr.feature_importances_})"
   ]
  },
  {
   "cell_type": "code",
   "execution_count": 98,
   "metadata": {},
   "outputs": [
    {
     "data": {
      "text/plain": [
       "array([0., 0., 0., ..., 1., 0., 1.])"
      ]
     },
     "execution_count": 98,
     "metadata": {},
     "output_type": "execute_result"
    }
   ],
   "source": [
    "rfr_pred"
   ]
  },
  {
   "cell_type": "code",
   "execution_count": 99,
   "metadata": {},
   "outputs": [
    {
     "data": {
      "text/plain": [
       "0.0215625"
      ]
     },
     "execution_count": 99,
     "metadata": {},
     "output_type": "execute_result"
    }
   ],
   "source": [
    "mean_squared_error(rfr_pred,y_test)"
   ]
  },
  {
   "cell_type": "markdown",
   "metadata": {},
   "source": [
    "# Predict tips amount"
   ]
  },
  {
   "cell_type": "code",
   "execution_count": null,
   "metadata": {},
   "outputs": [],
   "source": [
    "# Load packages\n",
    "from pygeocoder import Geocoder\n",
    "import pandas as pd\n",
    "import numpy as np\n",
    "import reverse_geocoder as rg\n"
   ]
  },
  {
   "cell_type": "code",
   "execution_count": null,
   "metadata": {},
   "outputs": [],
   "source": [
    "# Payment type 2 doesnt have tips\n",
    "#df['totalWithoutTip'] = df.total_amount-df.tip_amount\n",
    "sample = df[df.payment_type!=2].sample(10000)"
   ]
  },
  {
   "cell_type": "code",
   "execution_count": null,
   "metadata": {},
   "outputs": [],
   "source": [
    "pickup_coord = list(zip(df.pickup_latitude, df.pickup_longitude))\n",
    "dropoff_coord = list(zip(df.dropoff_latitude, df.dropoff_longitude))"
   ]
  },
  {
   "cell_type": "code",
   "execution_count": null,
   "metadata": {},
   "outputs": [],
   "source": [
    "pickup_results = rg.search(pickup_coord) # default mode = 2\n",
    "dropoff_results = rg.search(dropoff_coord)\n",
    "df['pickup_area'] = pd.Categorical([d['name'] for d in pickup_results])\n",
    "df['dropoff_area'] = pd.Categorical([d['name'] for d in dropoff_results])"
   ]
  },
  {
   "cell_type": "code",
   "execution_count": null,
   "metadata": {},
   "outputs": [],
   "source": [
    "import sklearn.preprocessing"
   ]
  },
  {
   "cell_type": "code",
   "execution_count": null,
   "metadata": {},
   "outputs": [],
   "source": [
    "lb = preprocessing.LabelBinarizer()\n",
    "lb.fit(sample.pickup_area)\n",
    "lb.transform(sample.pickup_area)\n",
    "lb.transform(sample.dropoff_area)"
   ]
  },
  {
   "cell_type": "code",
   "execution_count": null,
   "metadata": {},
   "outputs": [],
   "source": [
    "df.pickup_area.head()"
   ]
  },
  {
   "cell_type": "code",
   "execution_count": null,
   "metadata": {},
   "outputs": [],
   "source": [
    "X_train, X_test, y_train, y_test \\\n",
    "    = train_test_split(sample[['pickup_time_s','dropoff_time_s','weekday','RatecodeID','totalWithoutTip',\\\n",
    "                               'duration_s','trip_distance','pickup_area','dropoff_area']]\\\n",
    "                     ,sample['tip_amount'], test_size=0.2, random_state=1337)"
   ]
  },
  {
   "cell_type": "code",
   "execution_count": null,
   "metadata": {},
   "outputs": [],
   "source": []
  },
  {
   "cell_type": "code",
   "execution_count": null,
   "metadata": {},
   "outputs": [],
   "source": [
    "from sklearn.ensemble import RandomForestRegressor\n",
    "rfr = RandomForestRegressor(random_state=1337)\n",
    "\n",
    "rfr.fit(X_train,y_train)"
   ]
  },
  {
   "cell_type": "code",
   "execution_count": null,
   "metadata": {},
   "outputs": [],
   "source": [
    "rfr_pred = rfr.predict(X_test)"
   ]
  },
  {
   "cell_type": "code",
   "execution_count": null,
   "metadata": {},
   "outputs": [],
   "source": [
    "err = pd.DataFrame(y_test-rfr_pred)\n",
    "err.describe()"
   ]
  },
  {
   "cell_type": "code",
   "execution_count": null,
   "metadata": {},
   "outputs": [],
   "source": [
    "ax = sns.distplot(err,hist_kws={\"log\":True},kde=False);"
   ]
  },
  {
   "cell_type": "code",
   "execution_count": null,
   "metadata": {},
   "outputs": [],
   "source": [
    "# Feature importance# Feature \n",
    "pd.DataFrame({\"Features\" : X_train.columns,\"estimatedCoefficients\": rfr.feature_importances_})"
   ]
  },
  {
   "cell_type": "code",
   "execution_count": null,
   "metadata": {},
   "outputs": [],
   "source": [
    "mean_squared_error(rfr_pred,y_test)"
   ]
  },
  {
   "cell_type": "markdown",
   "metadata": {},
   "source": [
    "# Exploration"
   ]
  },
  {
   "cell_type": "code",
   "execution_count": null,
   "metadata": {},
   "outputs": [],
   "source": []
  },
  {
   "cell_type": "code",
   "execution_count": null,
   "metadata": {},
   "outputs": [],
   "source": [
    "a = sns.distplot(df.time.astype('timedelta64[m]'))\n",
    "plt.xticks(np.arange(1440,step=180),np.arange(24,step=3))\n",
    "plt.xlabel('Hour')"
   ]
  },
  {
   "cell_type": "code",
   "execution_count": null,
   "metadata": {},
   "outputs": [],
   "source": [
    "sns.violinplot(x=df.extra,y=df.time.astype('timedelta64[m]'))"
   ]
  },
  {
   "cell_type": "code",
   "execution_count": null,
   "metadata": {},
   "outputs": [],
   "source": [
    "df.mta_tax.value_counts t()"
   ]
  },
  {
   "cell_type": "markdown",
   "metadata": {},
   "source": [
    "sns.distplot(df.duration.astype('timedelta64[m]'))"
   ]
  },
  {
   "cell_type": "code",
   "execution_count": null,
   "metadata": {},
   "outputs": [],
   "source": [
    "plt.figure(figsize=(16,9))\n",
    "plt.subplot(2,3,1)\n",
    "sns.countplot(df.extra)\n",
    "plt.subplot(2,3,2)\n",
    "sns.countplot(df.overnight)\n",
    "plt.subplot(2,3,3)\n",
    "sns.countplot(df.rush_hour)\n",
    "plt.subplot(2,3,4)\n",
    "sns.countplot(df.day)\n",
    "plt.subplot(2,3,5)\n",
    "sns.countplot(df.passenger_count)\n",
    "plt.subplot(2,3,6)\n",
    "sns.countplot(df.RatecodeID)"
   ]
  },
  {
   "cell_type": "code",
   "execution_count": null,
   "metadata": {},
   "outputs": [],
   "source": [
    "df[\"duration_m\"] = df.duration.astype('timedelta64[m]')"
   ]
  },
  {
   "cell_type": "code",
   "execution_count": null,
   "metadata": {
    "scrolled": true
   },
   "outputs": [],
   "source": [
    "sns.lmplot(x=\"trip_distance\", y=\"duration_m\",hue=\"RatecodeID\", data=df.sample(10000))"
   ]
  },
  {
   "cell_type": "code",
   "execution_count": null,
   "metadata": {},
   "outputs": [],
   "source": [
    "df.RatecodeID.value_counts()"
   ]
  },
  {
   "cell_type": "markdown",
   "metadata": {},
   "source": [
    "# Check Test Data"
   ]
  },
  {
   "cell_type": "code",
   "execution_count": null,
   "metadata": {},
   "outputs": [],
   "source": [
    "test = pd.read_csv(\"test.csv\")"
   ]
  },
  {
   "cell_type": "code",
   "execution_count": null,
   "metadata": {},
   "outputs": [],
   "source": [
    "test.info()"
   ]
  },
  {
   "cell_type": "code",
   "execution_count": null,
   "metadata": {},
   "outputs": [],
   "source": [
    "test.describe()"
   ]
  },
  {
   "cell_type": "code",
   "execution_count": null,
   "metadata": {},
   "outputs": [],
   "source": [
    "test['duration'] = pd.to_datetime(test[\"tpep_dropoff_datetime\"])-pd.to_datetime(test[\"tpep_pickup_datetime\"])"
   ]
  },
  {
   "cell_type": "code",
   "execution_count": null,
   "metadata": {},
   "outputs": [],
   "source": [
    "test[pd.to_datetime(test[\"tpep_pickup_datetime\"]).dt.day != pd.to_datetime(test[\"tpep_dropoff_datetime\"]).dt.day].duration.describe()"
   ]
  },
  {
   "cell_type": "code",
   "execution_count": null,
   "metadata": {},
   "outputs": [],
   "source": [
    "test[test.duration > \"2 hours\"].RatecodeID.value_counts()"
   ]
  },
  {
   "cell_type": "code",
   "execution_count": null,
   "metadata": {},
   "outputs": [],
   "source": [
    "sns.countplot(test[\"RatecodeID\"])"
   ]
  },
  {
   "cell_type": "code",
   "execution_count": null,
   "metadata": {},
   "outputs": [],
   "source": [
    "sns.countplot(df[\"extra\"])"
   ]
  },
  {
   "cell_type": "code",
   "execution_count": null,
   "metadata": {},
   "outputs": [],
   "source": [
    "sns.countplot(df[df.RatecodeID == 6].extra)"
   ]
  },
  {
   "cell_type": "code",
   "execution_count": null,
   "metadata": {},
   "outputs": [],
   "source": [
    "df[df.mta_tax == 0].RatecodeID.value_counts()"
   ]
  },
  {
   "cell_type": "code",
   "execution_count": null,
   "metadata": {
    "scrolled": true
   },
   "outputs": [],
   "source": [
    "sns.distplot(df.trip_distance)"
   ]
  },
  {
   "cell_type": "code",
   "execution_count": null,
   "metadata": {},
   "outputs": [],
   "source": [
    "sns.distplot(test.trip_distance)"
   ]
  },
  {
   "cell_type": "code",
   "execution_count": null,
   "metadata": {},
   "outputs": [],
   "source": [
    "sns.distplot(test.duration)"
   ]
  },
  {
   "cell_type": "markdown",
   "metadata": {},
   "source": [
    "## Notes \n",
    "\n",
    "* *improvement_surgcharge* should be constant. Minimum seems to be a sign error. Maximum seems to be a outlier (mistake??)\n"
   ]
  },
  {
   "cell_type": "code",
   "execution_count": null,
   "metadata": {},
   "outputs": [],
   "source": [
    "df.info()"
   ]
  },
  {
   "cell_type": "code",
   "execution_count": null,
   "metadata": {},
   "outputs": [],
   "source": [
    "df = df.drop(['VendorID','pickup_longitude','pickup_latitude','dropoff_longitude','dropoff_latitude','Holiday','improvement_surcharge','mta_tax','store_and_fwd_flag','payment_type','duration_m'],axis=1)"
   ]
  },
  {
   "cell_type": "code",
   "execution_count": null,
   "metadata": {},
   "outputs": [],
   "source": [
    "df=df.drop('total',axis=1)"
   ]
  },
  {
   "cell_type": "code",
   "execution_count": null,
   "metadata": {},
   "outputs": [],
   "source": [
    "corr = df.drop(['tpep_pickup_datetime','tpep_dropoff_datetime'],axis=1).corr()\n",
    "\n",
    "plt.figure(figsize=(16,9))\n",
    "\n",
    "plt.title(\"Heatmap\",fontsize=20)\n",
    "sns.heatmap(corr, cmap=\"RdBu_r\", square=True)"
   ]
  },
  {
   "cell_type": "code",
   "execution_count": null,
   "metadata": {},
   "outputs": [],
   "source": [
    "sns.distplot(df['total_amount'], hist=True)"
   ]
  },
  {
   "cell_type": "code",
   "execution_count": null,
   "metadata": {},
   "outputs": [],
   "source": [
    "sample = df.sample(10000)"
   ]
  },
  {
   "cell_type": "code",
   "execution_count": null,
   "metadata": {},
   "outputs": [],
   "source": [
    "sns.lmplot(x='extra',y='Overnight',hue='RushHour',data=sample)"
   ]
  },
  {
   "cell_type": "code",
   "execution_count": null,
   "metadata": {},
   "outputs": [],
   "source": [
    "sns.jointplot(x='total_amount',y='fare_amount',data=df, kind='hex')"
   ]
  },
  {
   "cell_type": "code",
   "execution_count": null,
   "metadata": {},
   "outputs": [],
   "source": [
    "sns.lmplot(x='total_amount',y='tip_amount',hue='extra',data=sample)"
   ]
  },
  {
   "cell_type": "code",
   "execution_count": null,
   "metadata": {},
   "outputs": [],
   "source": [
    "sns.lmplot(x='improvement_surcharge',y='mta_tax',data=sample)"
   ]
  }
 ],
 "metadata": {
  "kernelspec": {
   "display_name": "Python 3",
   "language": "python",
   "name": "python3"
  },
  "language_info": {
   "codemirror_mode": {
    "name": "ipython",
    "version": 3
   },
   "file_extension": ".py",
   "mimetype": "text/x-python",
   "name": "python",
   "nbconvert_exporter": "python",
   "pygments_lexer": "ipython3",
   "version": "3.6.4"
  }
 },
 "nbformat": 4,
 "nbformat_minor": 2
}
