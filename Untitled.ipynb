{
 "cells": [
  {
   "cell_type": "code",
   "execution_count": 7,
   "metadata": {},
   "outputs": [
    {
     "ename": "ImportError",
     "evalue": "No module named 'quilt.data.ResidentMario'",
     "output_type": "error",
     "traceback": [
      "\u001b[0;31m---------------------------------------------------------------------------\u001b[0m",
      "\u001b[0;31mImportError\u001b[0m                               Traceback (most recent call last)",
      "\u001b[0;32m<ipython-input-7-56e243e550b5>\u001b[0m in \u001b[0;36m<module>\u001b[0;34m()\u001b[0m\n\u001b[1;32m      1\u001b[0m \u001b[0;31m# Load the data (uses the `quilt` package).\u001b[0m\u001b[0;34m\u001b[0m\u001b[0;34m\u001b[0m\u001b[0m\n\u001b[1;32m      2\u001b[0m \u001b[0;32mimport\u001b[0m \u001b[0mgeopandas\u001b[0m \u001b[0;32mas\u001b[0m \u001b[0mgpd\u001b[0m\u001b[0;34m\u001b[0m\u001b[0m\n\u001b[0;32m----> 3\u001b[0;31m \u001b[0;32mfrom\u001b[0m \u001b[0mquilt\u001b[0m\u001b[0;34m.\u001b[0m\u001b[0mdata\u001b[0m\u001b[0;34m.\u001b[0m\u001b[0mResidentMario\u001b[0m \u001b[0;32mimport\u001b[0m \u001b[0mgeoplot_data\u001b[0m\u001b[0;34m\u001b[0m\u001b[0m\n\u001b[0m\u001b[1;32m      4\u001b[0m \u001b[0;34m\u001b[0m\u001b[0m\n\u001b[1;32m      5\u001b[0m \u001b[0mboroughs\u001b[0m \u001b[0;34m=\u001b[0m \u001b[0mgpd\u001b[0m\u001b[0;34m.\u001b[0m\u001b[0mread_file\u001b[0m\u001b[0;34m(\u001b[0m\u001b[0mgeoplot_data\u001b[0m\u001b[0;34m.\u001b[0m\u001b[0mnyc_boroughs\u001b[0m\u001b[0;34m(\u001b[0m\u001b[0;34m)\u001b[0m\u001b[0;34m)\u001b[0m\u001b[0;34m\u001b[0m\u001b[0m\n",
      "\u001b[0;31mImportError\u001b[0m: No module named 'quilt.data.ResidentMario'"
     ]
    }
   ],
   "source": [
    "# Load the data (uses the `quilt` package).\n",
    "import geopandas as gpd\n",
    "from quilt.data.ResidentMario import geoplot_data\n",
    "\n",
    "boroughs = gpd.read_file(geoplot_data.nyc_boroughs())\n",
    "precincts = gpd.read_file(geoplot_data.nyc_police_precincts())\n",
    "tickets = gpd.read_file(geoplot_data.nyc_parking_tickets_sample())\n",
    "\n",
    "# This example inspired by:\n",
    "# http://iquantny.tumblr.com/post/84393789169/californians-love-brooklyn-new-jerseyans-love\n",
    "\n",
    "\n",
    "# Plot the data.\n",
    "import geoplot as gplt\n",
    "import geoplot.crs as gcrs\n",
    "import matplotlib.pyplot as plt\n",
    "\n",
    "\n",
    "def plot_state_to_ax(state, ax):\n",
    "    \"\"\"Reusable plotting wrapper.\"\"\"\n",
    "    gplt.choropleth(tickets.set_index('id').loc[:, [state, 'geometry']],\n",
    "                    hue=state,\n",
    "                    projection=gcrs.AlbersEqualArea(), cmap='Blues',\n",
    "                    linewidth=0.0, ax=ax)\n",
    "    gplt.polyplot(boroughs, projection=gcrs.AlbersEqualArea(), edgecolor='black', linewidth=0.5, ax=ax)\n",
    "\n",
    "# Finally, plot the data.\n",
    "f, axarr = plt.subplots(2, 2, figsize=(12, 12), subplot_kw={\n",
    "    'projection': gcrs.AlbersEqualArea(central_latitude=40.7128, central_longitude=-74.0059)\n",
    "})\n",
    "\n",
    "plt.suptitle('Parking Tickets Issued to State by Precinct, 2016', fontsize=16)\n",
    "plt.subplots_adjust(top=0.95)\n",
    "\n",
    "plot_state_to_ax('ny', axarr[0][0])\n",
    "axarr[0][0].set_title('New York (n=6679268)')\n",
    "\n",
    "plot_state_to_ax('nj', axarr[0][1])\n",
    "axarr[0][1].set_title('New Jersey (n=854647)')\n",
    "\n",
    "plot_state_to_ax('pa', axarr[1][0])\n",
    "axarr[1][0].set_title('Pennsylvania (n=215065)')\n",
    "\n",
    "plot_state_to_ax('ct', axarr[1][1])\n",
    "axarr[1][1].set_title('Connecticut (n=126661)')\n",
    "\n",
    "plt.savefig(\"nyc-parking-tickets.png\", bbox_inches='tight')"
   ]
  },
  {
   "cell_type": "code",
   "execution_count": 2,
   "metadata": {},
   "outputs": [
    {
     "data": {
      "text/plain": [
       "<folium.features.CircleMarker at 0x105ff62e8>"
      ]
     },
     "execution_count": 2,
     "metadata": {},
     "output_type": "execute_result"
    }
   ],
   "source": [
    "import folium\n",
    "folium_map = folium.Map(location=[40.738, -73.98],\n",
    "                        zoom_start=13,\n",
    "                        tiles=\"CartoDB dark_matter\")\n",
    "marker = folium.CircleMarker(location=[40.738, -73.98])\n",
    "marker.add_to(folium_map)"
   ]
  },
  {
   "cell_type": "code",
   "execution_count": 3,
   "metadata": {},
   "outputs": [],
   "source": [
    "folium_map.save(\"my_map.html\")\n"
   ]
  },
  {
   "cell_type": "code",
   "execution_count": 5,
   "metadata": {},
   "outputs": [],
   "source": [
    "import pandas as pd"
   ]
  },
  {
   "cell_type": "code",
   "execution_count": 6,
   "metadata": {},
   "outputs": [
    {
     "ename": "FileNotFoundError",
     "evalue": "File b'201610-citibike-tripdata.csv' does not exist",
     "output_type": "error",
     "traceback": [
      "\u001b[0;31m---------------------------------------------------------------------------\u001b[0m",
      "\u001b[0;31mFileNotFoundError\u001b[0m                         Traceback (most recent call last)",
      "\u001b[0;32m<ipython-input-6-9f59563b96cc>\u001b[0m in \u001b[0;36m<module>\u001b[0;34m()\u001b[0m\n\u001b[0;32m----> 1\u001b[0;31m \u001b[0mbike_data\u001b[0m \u001b[0;34m=\u001b[0m \u001b[0mpd\u001b[0m\u001b[0;34m.\u001b[0m\u001b[0mread_csv\u001b[0m\u001b[0;34m(\u001b[0m\u001b[0;34m\"201610-citibike-tripdata.csv\"\u001b[0m\u001b[0;34m)\u001b[0m\u001b[0;34m\u001b[0m\u001b[0m\n\u001b[0m\u001b[1;32m      2\u001b[0m \u001b[0mbike_data\u001b[0m\u001b[0;34m[\u001b[0m\u001b[0;34m\"Start Time\"\u001b[0m\u001b[0;34m]\u001b[0m \u001b[0;34m=\u001b[0m \u001b[0mpd\u001b[0m\u001b[0;34m.\u001b[0m\u001b[0mto_datetime\u001b[0m\u001b[0;34m(\u001b[0m\u001b[0mbike_data\u001b[0m\u001b[0;34m[\u001b[0m\u001b[0;34m\"Start Time\"\u001b[0m\u001b[0;34m]\u001b[0m\u001b[0;34m)\u001b[0m\u001b[0;34m\u001b[0m\u001b[0m\n\u001b[1;32m      3\u001b[0m \u001b[0mbike_data\u001b[0m\u001b[0;34m[\u001b[0m\u001b[0;34m\"Stop Time\"\u001b[0m\u001b[0;34m]\u001b[0m \u001b[0;34m=\u001b[0m \u001b[0mpd\u001b[0m\u001b[0;34m.\u001b[0m\u001b[0mto_datetime\u001b[0m\u001b[0;34m(\u001b[0m\u001b[0mbike_data\u001b[0m\u001b[0;34m[\u001b[0m\u001b[0;34m\"Stop Time\"\u001b[0m\u001b[0;34m]\u001b[0m\u001b[0;34m)\u001b[0m\u001b[0;34m\u001b[0m\u001b[0m\n\u001b[1;32m      4\u001b[0m \u001b[0mbike_data\u001b[0m\u001b[0;34m[\u001b[0m\u001b[0;34m\"hour\"\u001b[0m\u001b[0;34m]\u001b[0m \u001b[0;34m=\u001b[0m \u001b[0mbike_data\u001b[0m\u001b[0;34m[\u001b[0m\u001b[0;34m\"Start Time\"\u001b[0m\u001b[0;34m]\u001b[0m\u001b[0;34m.\u001b[0m\u001b[0mmap\u001b[0m\u001b[0;34m(\u001b[0m\u001b[0;32mlambda\u001b[0m \u001b[0mx\u001b[0m\u001b[0;34m:\u001b[0m \u001b[0mx\u001b[0m\u001b[0;34m.\u001b[0m\u001b[0mhour\u001b[0m\u001b[0;34m)\u001b[0m\u001b[0;34m\u001b[0m\u001b[0m\n\u001b[1;32m      5\u001b[0m \u001b[0;31m# select the first occurrence of each station id\u001b[0m\u001b[0;34m\u001b[0m\u001b[0;34m\u001b[0m\u001b[0m\n",
      "\u001b[0;32m/anaconda3/lib/python3.6/site-packages/pandas/io/parsers.py\u001b[0m in \u001b[0;36mparser_f\u001b[0;34m(filepath_or_buffer, sep, delimiter, header, names, index_col, usecols, squeeze, prefix, mangle_dupe_cols, dtype, engine, converters, true_values, false_values, skipinitialspace, skiprows, nrows, na_values, keep_default_na, na_filter, verbose, skip_blank_lines, parse_dates, infer_datetime_format, keep_date_col, date_parser, dayfirst, iterator, chunksize, compression, thousands, decimal, lineterminator, quotechar, quoting, escapechar, comment, encoding, dialect, tupleize_cols, error_bad_lines, warn_bad_lines, skipfooter, skip_footer, doublequote, delim_whitespace, as_recarray, compact_ints, use_unsigned, low_memory, buffer_lines, memory_map, float_precision)\u001b[0m\n\u001b[1;32m    707\u001b[0m                     skip_blank_lines=skip_blank_lines)\n\u001b[1;32m    708\u001b[0m \u001b[0;34m\u001b[0m\u001b[0m\n\u001b[0;32m--> 709\u001b[0;31m         \u001b[0;32mreturn\u001b[0m \u001b[0m_read\u001b[0m\u001b[0;34m(\u001b[0m\u001b[0mfilepath_or_buffer\u001b[0m\u001b[0;34m,\u001b[0m \u001b[0mkwds\u001b[0m\u001b[0;34m)\u001b[0m\u001b[0;34m\u001b[0m\u001b[0m\n\u001b[0m\u001b[1;32m    710\u001b[0m \u001b[0;34m\u001b[0m\u001b[0m\n\u001b[1;32m    711\u001b[0m     \u001b[0mparser_f\u001b[0m\u001b[0;34m.\u001b[0m\u001b[0m__name__\u001b[0m \u001b[0;34m=\u001b[0m \u001b[0mname\u001b[0m\u001b[0;34m\u001b[0m\u001b[0m\n",
      "\u001b[0;32m/anaconda3/lib/python3.6/site-packages/pandas/io/parsers.py\u001b[0m in \u001b[0;36m_read\u001b[0;34m(filepath_or_buffer, kwds)\u001b[0m\n\u001b[1;32m    447\u001b[0m \u001b[0;34m\u001b[0m\u001b[0m\n\u001b[1;32m    448\u001b[0m     \u001b[0;31m# Create the parser.\u001b[0m\u001b[0;34m\u001b[0m\u001b[0;34m\u001b[0m\u001b[0m\n\u001b[0;32m--> 449\u001b[0;31m     \u001b[0mparser\u001b[0m \u001b[0;34m=\u001b[0m \u001b[0mTextFileReader\u001b[0m\u001b[0;34m(\u001b[0m\u001b[0mfilepath_or_buffer\u001b[0m\u001b[0;34m,\u001b[0m \u001b[0;34m**\u001b[0m\u001b[0mkwds\u001b[0m\u001b[0;34m)\u001b[0m\u001b[0;34m\u001b[0m\u001b[0m\n\u001b[0m\u001b[1;32m    450\u001b[0m \u001b[0;34m\u001b[0m\u001b[0m\n\u001b[1;32m    451\u001b[0m     \u001b[0;32mif\u001b[0m \u001b[0mchunksize\u001b[0m \u001b[0;32mor\u001b[0m \u001b[0miterator\u001b[0m\u001b[0;34m:\u001b[0m\u001b[0;34m\u001b[0m\u001b[0m\n",
      "\u001b[0;32m/anaconda3/lib/python3.6/site-packages/pandas/io/parsers.py\u001b[0m in \u001b[0;36m__init__\u001b[0;34m(self, f, engine, **kwds)\u001b[0m\n\u001b[1;32m    816\u001b[0m             \u001b[0mself\u001b[0m\u001b[0;34m.\u001b[0m\u001b[0moptions\u001b[0m\u001b[0;34m[\u001b[0m\u001b[0;34m'has_index_names'\u001b[0m\u001b[0;34m]\u001b[0m \u001b[0;34m=\u001b[0m \u001b[0mkwds\u001b[0m\u001b[0;34m[\u001b[0m\u001b[0;34m'has_index_names'\u001b[0m\u001b[0;34m]\u001b[0m\u001b[0;34m\u001b[0m\u001b[0m\n\u001b[1;32m    817\u001b[0m \u001b[0;34m\u001b[0m\u001b[0m\n\u001b[0;32m--> 818\u001b[0;31m         \u001b[0mself\u001b[0m\u001b[0;34m.\u001b[0m\u001b[0m_make_engine\u001b[0m\u001b[0;34m(\u001b[0m\u001b[0mself\u001b[0m\u001b[0;34m.\u001b[0m\u001b[0mengine\u001b[0m\u001b[0;34m)\u001b[0m\u001b[0;34m\u001b[0m\u001b[0m\n\u001b[0m\u001b[1;32m    819\u001b[0m \u001b[0;34m\u001b[0m\u001b[0m\n\u001b[1;32m    820\u001b[0m     \u001b[0;32mdef\u001b[0m \u001b[0mclose\u001b[0m\u001b[0;34m(\u001b[0m\u001b[0mself\u001b[0m\u001b[0;34m)\u001b[0m\u001b[0;34m:\u001b[0m\u001b[0;34m\u001b[0m\u001b[0m\n",
      "\u001b[0;32m/anaconda3/lib/python3.6/site-packages/pandas/io/parsers.py\u001b[0m in \u001b[0;36m_make_engine\u001b[0;34m(self, engine)\u001b[0m\n\u001b[1;32m   1047\u001b[0m     \u001b[0;32mdef\u001b[0m \u001b[0m_make_engine\u001b[0m\u001b[0;34m(\u001b[0m\u001b[0mself\u001b[0m\u001b[0;34m,\u001b[0m \u001b[0mengine\u001b[0m\u001b[0;34m=\u001b[0m\u001b[0;34m'c'\u001b[0m\u001b[0;34m)\u001b[0m\u001b[0;34m:\u001b[0m\u001b[0;34m\u001b[0m\u001b[0m\n\u001b[1;32m   1048\u001b[0m         \u001b[0;32mif\u001b[0m \u001b[0mengine\u001b[0m \u001b[0;34m==\u001b[0m \u001b[0;34m'c'\u001b[0m\u001b[0;34m:\u001b[0m\u001b[0;34m\u001b[0m\u001b[0m\n\u001b[0;32m-> 1049\u001b[0;31m             \u001b[0mself\u001b[0m\u001b[0;34m.\u001b[0m\u001b[0m_engine\u001b[0m \u001b[0;34m=\u001b[0m \u001b[0mCParserWrapper\u001b[0m\u001b[0;34m(\u001b[0m\u001b[0mself\u001b[0m\u001b[0;34m.\u001b[0m\u001b[0mf\u001b[0m\u001b[0;34m,\u001b[0m \u001b[0;34m**\u001b[0m\u001b[0mself\u001b[0m\u001b[0;34m.\u001b[0m\u001b[0moptions\u001b[0m\u001b[0;34m)\u001b[0m\u001b[0;34m\u001b[0m\u001b[0m\n\u001b[0m\u001b[1;32m   1050\u001b[0m         \u001b[0;32melse\u001b[0m\u001b[0;34m:\u001b[0m\u001b[0;34m\u001b[0m\u001b[0m\n\u001b[1;32m   1051\u001b[0m             \u001b[0;32mif\u001b[0m \u001b[0mengine\u001b[0m \u001b[0;34m==\u001b[0m \u001b[0;34m'python'\u001b[0m\u001b[0;34m:\u001b[0m\u001b[0;34m\u001b[0m\u001b[0m\n",
      "\u001b[0;32m/anaconda3/lib/python3.6/site-packages/pandas/io/parsers.py\u001b[0m in \u001b[0;36m__init__\u001b[0;34m(self, src, **kwds)\u001b[0m\n\u001b[1;32m   1693\u001b[0m         \u001b[0mkwds\u001b[0m\u001b[0;34m[\u001b[0m\u001b[0;34m'allow_leading_cols'\u001b[0m\u001b[0;34m]\u001b[0m \u001b[0;34m=\u001b[0m \u001b[0mself\u001b[0m\u001b[0;34m.\u001b[0m\u001b[0mindex_col\u001b[0m \u001b[0;32mis\u001b[0m \u001b[0;32mnot\u001b[0m \u001b[0;32mFalse\u001b[0m\u001b[0;34m\u001b[0m\u001b[0m\n\u001b[1;32m   1694\u001b[0m \u001b[0;34m\u001b[0m\u001b[0m\n\u001b[0;32m-> 1695\u001b[0;31m         \u001b[0mself\u001b[0m\u001b[0;34m.\u001b[0m\u001b[0m_reader\u001b[0m \u001b[0;34m=\u001b[0m \u001b[0mparsers\u001b[0m\u001b[0;34m.\u001b[0m\u001b[0mTextReader\u001b[0m\u001b[0;34m(\u001b[0m\u001b[0msrc\u001b[0m\u001b[0;34m,\u001b[0m \u001b[0;34m**\u001b[0m\u001b[0mkwds\u001b[0m\u001b[0;34m)\u001b[0m\u001b[0;34m\u001b[0m\u001b[0m\n\u001b[0m\u001b[1;32m   1696\u001b[0m \u001b[0;34m\u001b[0m\u001b[0m\n\u001b[1;32m   1697\u001b[0m         \u001b[0;31m# XXX\u001b[0m\u001b[0;34m\u001b[0m\u001b[0;34m\u001b[0m\u001b[0m\n",
      "\u001b[0;32mpandas/_libs/parsers.pyx\u001b[0m in \u001b[0;36mpandas._libs.parsers.TextReader.__cinit__\u001b[0;34m()\u001b[0m\n",
      "\u001b[0;32mpandas/_libs/parsers.pyx\u001b[0m in \u001b[0;36mpandas._libs.parsers.TextReader._setup_parser_source\u001b[0;34m()\u001b[0m\n",
      "\u001b[0;31mFileNotFoundError\u001b[0m: File b'201610-citibike-tripdata.csv' does not exist"
     ]
    }
   ],
   "source": [
    "bike_data = pd.read_csv(\"201610-citibike-tripdata.csv\")\n",
    "bike_data[\"Start Time\"] = pd.to_datetime(bike_data[\"Start Time\"])\n",
    "bike_data[\"Stop Time\"] = pd.to_datetime(bike_data[\"Stop Time\"])\n",
    "bike_data[\"hour\"] = bike_data[\"Start Time\"].map(lambda x: x.hour)\n",
    "# select the first occurrence of each station id\n",
    "locations = bike_data.groupby(\"Start Station ID\").first()\n",
    "# and select only the tree columns we are interested in\n",
    "locations = locations.loc[:, [\"Start Station Latitude\",\n",
    "                              \"Start Station Longitude\",\n",
    "                              \"Start Station Name\"]]\n",
    "subset = bike_data[bike_data[\"hour\"]==selected_hour]\n",
    "departure_counts =  subset.groupby(\"Start Station ID\").count()\n",
    "# select one column\n",
    "departure_counts = departure_counts.iloc[:,[0]]\n",
    "# and rename that column\n",
    "departure_counts.columns= [\"Departure Count\"]\n",
    "trip_counts = departure_counts.join(locations).join(arrival_counts)\n"
   ]
  },
  {
   "cell_type": "code",
   "execution_count": 7,
   "metadata": {},
   "outputs": [
    {
     "ename": "NameError",
     "evalue": "name 'trip_counts' is not defined",
     "output_type": "error",
     "traceback": [
      "\u001b[0;31m---------------------------------------------------------------------------\u001b[0m",
      "\u001b[0;31mNameError\u001b[0m                                 Traceback (most recent call last)",
      "\u001b[0;32m<ipython-input-7-498e05ac918f>\u001b[0m in \u001b[0;36m<module>\u001b[0;34m()\u001b[0m\n\u001b[0;32m----> 1\u001b[0;31m \u001b[0;32mfor\u001b[0m \u001b[0mindex\u001b[0m\u001b[0;34m,\u001b[0m \u001b[0mrow\u001b[0m \u001b[0;32min\u001b[0m \u001b[0mtrip_counts\u001b[0m\u001b[0;34m.\u001b[0m\u001b[0miterrows\u001b[0m\u001b[0;34m(\u001b[0m\u001b[0;34m)\u001b[0m\u001b[0;34m:\u001b[0m\u001b[0;34m\u001b[0m\u001b[0m\n\u001b[0m\u001b[1;32m      2\u001b[0m     \u001b[0mnet_departures\u001b[0m \u001b[0;34m=\u001b[0m \u001b[0;34m(\u001b[0m\u001b[0mrow\u001b[0m\u001b[0;34m[\u001b[0m\u001b[0;34m\"Departure Count\"\u001b[0m\u001b[0;34m]\u001b[0m\u001b[0;34m-\u001b[0m\u001b[0mrow\u001b[0m\u001b[0;34m[\u001b[0m\u001b[0;34m\"Arrival Count\"\u001b[0m\u001b[0;34m]\u001b[0m\u001b[0;34m)\u001b[0m\u001b[0;34m\u001b[0m\u001b[0m\n\u001b[1;32m      3\u001b[0m     \u001b[0mradius\u001b[0m \u001b[0;34m=\u001b[0m \u001b[0mnet_departures\u001b[0m\u001b[0;34m/\u001b[0m\u001b[0;36m20\u001b[0m\u001b[0;34m\u001b[0m\u001b[0m\n\u001b[1;32m      4\u001b[0m     \u001b[0;32mif\u001b[0m \u001b[0mnet_departures\u001b[0m\u001b[0;34m>\u001b[0m\u001b[0;36m0\u001b[0m\u001b[0;34m:\u001b[0m\u001b[0;34m\u001b[0m\u001b[0m\n\u001b[1;32m      5\u001b[0m         \u001b[0mcolor\u001b[0m\u001b[0;34m=\u001b[0m\u001b[0;34m\"#E37222\"\u001b[0m \u001b[0;31m# tangerine\u001b[0m\u001b[0;34m\u001b[0m\u001b[0m\n",
      "\u001b[0;31mNameError\u001b[0m: name 'trip_counts' is not defined"
     ]
    }
   ],
   "source": [
    "for index, row in trip_counts.iterrows():\n",
    "    net_departures = (row[\"Departure Count\"]-row[\"Arrival Count\"])\n",
    "    radius = net_departures/20\n",
    "    if net_departures>0:\n",
    "        color=\"#E37222\" # tangerine\n",
    "    else:\n",
    "        color=\"#0A8A9F\" # teal\n",
    "    \n",
    "    folium.CircleMarker(location=(row[\"Start Station Latitude\"],\n",
    "                                  row[\"Start Station Longitude\"]),\n",
    "                        radius=radius,\n",
    "                        color=color,\n",
    "                        fill=True).add_to(folium_map)"
   ]
  },
  {
   "cell_type": "code",
   "execution_count": 9,
   "metadata": {},
   "outputs": [
    {
     "ename": "FileNotFoundError",
     "evalue": "File b'US_Unemployment_Oct2012.csv' does not exist",
     "output_type": "error",
     "traceback": [
      "\u001b[0;31m---------------------------------------------------------------------------\u001b[0m",
      "\u001b[0;31mFileNotFoundError\u001b[0m                         Traceback (most recent call last)",
      "\u001b[0;32m<ipython-input-9-634e30acb0f4>\u001b[0m in \u001b[0;36m<module>\u001b[0;34m()\u001b[0m\n\u001b[1;32m      5\u001b[0m \u001b[0mstate_unemployment\u001b[0m \u001b[0;34m=\u001b[0m \u001b[0;34mr'US_Unemployment_Oct2012.csv'\u001b[0m\u001b[0;34m\u001b[0m\u001b[0m\n\u001b[1;32m      6\u001b[0m \u001b[0;34m\u001b[0m\u001b[0m\n\u001b[0;32m----> 7\u001b[0;31m \u001b[0mstate_data\u001b[0m \u001b[0;34m=\u001b[0m \u001b[0mpd\u001b[0m\u001b[0;34m.\u001b[0m\u001b[0mread_csv\u001b[0m\u001b[0;34m(\u001b[0m\u001b[0mstate_unemployment\u001b[0m\u001b[0;34m)\u001b[0m\u001b[0;34m\u001b[0m\u001b[0m\n\u001b[0m\u001b[1;32m      8\u001b[0m \u001b[0;34m\u001b[0m\u001b[0m\n\u001b[1;32m      9\u001b[0m \u001b[0;31m#Let Folium determine the scale\u001b[0m\u001b[0;34m\u001b[0m\u001b[0;34m\u001b[0m\u001b[0m\n",
      "\u001b[0;32m/anaconda3/lib/python3.6/site-packages/pandas/io/parsers.py\u001b[0m in \u001b[0;36mparser_f\u001b[0;34m(filepath_or_buffer, sep, delimiter, header, names, index_col, usecols, squeeze, prefix, mangle_dupe_cols, dtype, engine, converters, true_values, false_values, skipinitialspace, skiprows, nrows, na_values, keep_default_na, na_filter, verbose, skip_blank_lines, parse_dates, infer_datetime_format, keep_date_col, date_parser, dayfirst, iterator, chunksize, compression, thousands, decimal, lineterminator, quotechar, quoting, escapechar, comment, encoding, dialect, tupleize_cols, error_bad_lines, warn_bad_lines, skipfooter, skip_footer, doublequote, delim_whitespace, as_recarray, compact_ints, use_unsigned, low_memory, buffer_lines, memory_map, float_precision)\u001b[0m\n\u001b[1;32m    707\u001b[0m                     skip_blank_lines=skip_blank_lines)\n\u001b[1;32m    708\u001b[0m \u001b[0;34m\u001b[0m\u001b[0m\n\u001b[0;32m--> 709\u001b[0;31m         \u001b[0;32mreturn\u001b[0m \u001b[0m_read\u001b[0m\u001b[0;34m(\u001b[0m\u001b[0mfilepath_or_buffer\u001b[0m\u001b[0;34m,\u001b[0m \u001b[0mkwds\u001b[0m\u001b[0;34m)\u001b[0m\u001b[0;34m\u001b[0m\u001b[0m\n\u001b[0m\u001b[1;32m    710\u001b[0m \u001b[0;34m\u001b[0m\u001b[0m\n\u001b[1;32m    711\u001b[0m     \u001b[0mparser_f\u001b[0m\u001b[0;34m.\u001b[0m\u001b[0m__name__\u001b[0m \u001b[0;34m=\u001b[0m \u001b[0mname\u001b[0m\u001b[0;34m\u001b[0m\u001b[0m\n",
      "\u001b[0;32m/anaconda3/lib/python3.6/site-packages/pandas/io/parsers.py\u001b[0m in \u001b[0;36m_read\u001b[0;34m(filepath_or_buffer, kwds)\u001b[0m\n\u001b[1;32m    447\u001b[0m \u001b[0;34m\u001b[0m\u001b[0m\n\u001b[1;32m    448\u001b[0m     \u001b[0;31m# Create the parser.\u001b[0m\u001b[0;34m\u001b[0m\u001b[0;34m\u001b[0m\u001b[0m\n\u001b[0;32m--> 449\u001b[0;31m     \u001b[0mparser\u001b[0m \u001b[0;34m=\u001b[0m \u001b[0mTextFileReader\u001b[0m\u001b[0;34m(\u001b[0m\u001b[0mfilepath_or_buffer\u001b[0m\u001b[0;34m,\u001b[0m \u001b[0;34m**\u001b[0m\u001b[0mkwds\u001b[0m\u001b[0;34m)\u001b[0m\u001b[0;34m\u001b[0m\u001b[0m\n\u001b[0m\u001b[1;32m    450\u001b[0m \u001b[0;34m\u001b[0m\u001b[0m\n\u001b[1;32m    451\u001b[0m     \u001b[0;32mif\u001b[0m \u001b[0mchunksize\u001b[0m \u001b[0;32mor\u001b[0m \u001b[0miterator\u001b[0m\u001b[0;34m:\u001b[0m\u001b[0;34m\u001b[0m\u001b[0m\n",
      "\u001b[0;32m/anaconda3/lib/python3.6/site-packages/pandas/io/parsers.py\u001b[0m in \u001b[0;36m__init__\u001b[0;34m(self, f, engine, **kwds)\u001b[0m\n\u001b[1;32m    816\u001b[0m             \u001b[0mself\u001b[0m\u001b[0;34m.\u001b[0m\u001b[0moptions\u001b[0m\u001b[0;34m[\u001b[0m\u001b[0;34m'has_index_names'\u001b[0m\u001b[0;34m]\u001b[0m \u001b[0;34m=\u001b[0m \u001b[0mkwds\u001b[0m\u001b[0;34m[\u001b[0m\u001b[0;34m'has_index_names'\u001b[0m\u001b[0;34m]\u001b[0m\u001b[0;34m\u001b[0m\u001b[0m\n\u001b[1;32m    817\u001b[0m \u001b[0;34m\u001b[0m\u001b[0m\n\u001b[0;32m--> 818\u001b[0;31m         \u001b[0mself\u001b[0m\u001b[0;34m.\u001b[0m\u001b[0m_make_engine\u001b[0m\u001b[0;34m(\u001b[0m\u001b[0mself\u001b[0m\u001b[0;34m.\u001b[0m\u001b[0mengine\u001b[0m\u001b[0;34m)\u001b[0m\u001b[0;34m\u001b[0m\u001b[0m\n\u001b[0m\u001b[1;32m    819\u001b[0m \u001b[0;34m\u001b[0m\u001b[0m\n\u001b[1;32m    820\u001b[0m     \u001b[0;32mdef\u001b[0m \u001b[0mclose\u001b[0m\u001b[0;34m(\u001b[0m\u001b[0mself\u001b[0m\u001b[0;34m)\u001b[0m\u001b[0;34m:\u001b[0m\u001b[0;34m\u001b[0m\u001b[0m\n",
      "\u001b[0;32m/anaconda3/lib/python3.6/site-packages/pandas/io/parsers.py\u001b[0m in \u001b[0;36m_make_engine\u001b[0;34m(self, engine)\u001b[0m\n\u001b[1;32m   1047\u001b[0m     \u001b[0;32mdef\u001b[0m \u001b[0m_make_engine\u001b[0m\u001b[0;34m(\u001b[0m\u001b[0mself\u001b[0m\u001b[0;34m,\u001b[0m \u001b[0mengine\u001b[0m\u001b[0;34m=\u001b[0m\u001b[0;34m'c'\u001b[0m\u001b[0;34m)\u001b[0m\u001b[0;34m:\u001b[0m\u001b[0;34m\u001b[0m\u001b[0m\n\u001b[1;32m   1048\u001b[0m         \u001b[0;32mif\u001b[0m \u001b[0mengine\u001b[0m \u001b[0;34m==\u001b[0m \u001b[0;34m'c'\u001b[0m\u001b[0;34m:\u001b[0m\u001b[0;34m\u001b[0m\u001b[0m\n\u001b[0;32m-> 1049\u001b[0;31m             \u001b[0mself\u001b[0m\u001b[0;34m.\u001b[0m\u001b[0m_engine\u001b[0m \u001b[0;34m=\u001b[0m \u001b[0mCParserWrapper\u001b[0m\u001b[0;34m(\u001b[0m\u001b[0mself\u001b[0m\u001b[0;34m.\u001b[0m\u001b[0mf\u001b[0m\u001b[0;34m,\u001b[0m \u001b[0;34m**\u001b[0m\u001b[0mself\u001b[0m\u001b[0;34m.\u001b[0m\u001b[0moptions\u001b[0m\u001b[0;34m)\u001b[0m\u001b[0;34m\u001b[0m\u001b[0m\n\u001b[0m\u001b[1;32m   1050\u001b[0m         \u001b[0;32melse\u001b[0m\u001b[0;34m:\u001b[0m\u001b[0;34m\u001b[0m\u001b[0m\n\u001b[1;32m   1051\u001b[0m             \u001b[0;32mif\u001b[0m \u001b[0mengine\u001b[0m \u001b[0;34m==\u001b[0m \u001b[0;34m'python'\u001b[0m\u001b[0;34m:\u001b[0m\u001b[0;34m\u001b[0m\u001b[0m\n",
      "\u001b[0;32m/anaconda3/lib/python3.6/site-packages/pandas/io/parsers.py\u001b[0m in \u001b[0;36m__init__\u001b[0;34m(self, src, **kwds)\u001b[0m\n\u001b[1;32m   1693\u001b[0m         \u001b[0mkwds\u001b[0m\u001b[0;34m[\u001b[0m\u001b[0;34m'allow_leading_cols'\u001b[0m\u001b[0;34m]\u001b[0m \u001b[0;34m=\u001b[0m \u001b[0mself\u001b[0m\u001b[0;34m.\u001b[0m\u001b[0mindex_col\u001b[0m \u001b[0;32mis\u001b[0m \u001b[0;32mnot\u001b[0m \u001b[0;32mFalse\u001b[0m\u001b[0;34m\u001b[0m\u001b[0m\n\u001b[1;32m   1694\u001b[0m \u001b[0;34m\u001b[0m\u001b[0m\n\u001b[0;32m-> 1695\u001b[0;31m         \u001b[0mself\u001b[0m\u001b[0;34m.\u001b[0m\u001b[0m_reader\u001b[0m \u001b[0;34m=\u001b[0m \u001b[0mparsers\u001b[0m\u001b[0;34m.\u001b[0m\u001b[0mTextReader\u001b[0m\u001b[0;34m(\u001b[0m\u001b[0msrc\u001b[0m\u001b[0;34m,\u001b[0m \u001b[0;34m**\u001b[0m\u001b[0mkwds\u001b[0m\u001b[0;34m)\u001b[0m\u001b[0;34m\u001b[0m\u001b[0m\n\u001b[0m\u001b[1;32m   1696\u001b[0m \u001b[0;34m\u001b[0m\u001b[0m\n\u001b[1;32m   1697\u001b[0m         \u001b[0;31m# XXX\u001b[0m\u001b[0;34m\u001b[0m\u001b[0;34m\u001b[0m\u001b[0m\n",
      "\u001b[0;32mpandas/_libs/parsers.pyx\u001b[0m in \u001b[0;36mpandas._libs.parsers.TextReader.__cinit__\u001b[0;34m()\u001b[0m\n",
      "\u001b[0;32mpandas/_libs/parsers.pyx\u001b[0m in \u001b[0;36mpandas._libs.parsers.TextReader._setup_parser_source\u001b[0;34m()\u001b[0m\n",
      "\u001b[0;31mFileNotFoundError\u001b[0m: File b'US_Unemployment_Oct2012.csv' does not exist"
     ]
    }
   ],
   "source": [
    "import folium\n",
    "import pandas as pd\n",
    "\n",
    "state_geo = r'us-states.json'\n",
    "state_unemployment = r'US_Unemployment_Oct2012.csv'\n",
    "\n",
    "state_data = pd.read_csv(state_unemployment)\n",
    "\n",
    "#Let Folium determine the scale\n",
    "map = folium.Map(location=[48, -102], zoom_start=3)\n",
    "map.geo_json(geo_path=state_geo, data=state_data,\n",
    "             columns=['State', 'Unemployment'],\n",
    "             key_on='feature.id',\n",
    "             fill_color='YlGn', fill_opacity=0.7, line_opacity=0.2,\n",
    "             legend_name='Unemployment Rate (%)')\n",
    "map\n"
   ]
  },
  {
   "cell_type": "code",
   "execution_count": 10,
   "metadata": {},
   "outputs": [],
   "source": [
    "import numpy as np\n",
    "\n",
    "data = (np.random.normal(size=(100, 3)) *\n",
    "        np.array([[1, 1, 1]]) +\n",
    "        np.array([[48, 5, 1]])).tolist()"
   ]
  },
  {
   "cell_type": "code",
   "execution_count": 17,
   "metadata": {},
   "outputs": [
    {
     "data": {
      "text/plain": [
       "[[1, 1, 1], [2, 3, 4]]"
      ]
     },
     "execution_count": 17,
     "metadata": {},
     "output_type": "execute_result"
    }
   ],
   "source": [
    "np.array([[1, 1, 1],[2,3,4]]).tolist()"
   ]
  },
  {
   "cell_type": "code",
   "execution_count": 15,
   "metadata": {},
   "outputs": [
    {
     "data": {
      "text/plain": [
       "array([[1, 1, 1]])"
      ]
     },
     "execution_count": 15,
     "metadata": {},
     "output_type": "execute_result"
    }
   ],
   "source": [
    "np.array([[1, 1, 1]])"
   ]
  },
  {
   "cell_type": "code",
   "execution_count": 14,
   "metadata": {},
   "outputs": [
    {
     "data": {
      "text/plain": [
       "[[48.343827563101584, 6.200766281096383, 1.2308014892091685],\n",
       " [47.615138701291755, 5.168590389727567, 0.7741335858306175],\n",
       " [46.741166560141515, 5.7056847015807115, 1.1455726088005573],\n",
       " [48.97771529922935, 4.401780669056046, 0.4334616235632551],\n",
       " [50.3512231774477, 4.774782992149713, -0.7725378827527685],\n",
       " [47.77604964595153, 3.1930433605787587, 0.7749356027699053],\n",
       " [48.83163856920512, 6.786276024201119, 1.3232387626260065],\n",
       " [47.684968852825364, 2.809425798165161, 0.8075524000937992],\n",
       " [47.16587123568505, 4.658452537260058, 1.0820735060206268],\n",
       " [48.71458598380592, 6.778773706190799, -0.14996397078198842],\n",
       " [46.24706921509672, 4.9460983048354645, 1.4786726929305245],\n",
       " [47.55961416875044, 6.214136868985845, 1.9206535018461408],\n",
       " [48.35894794220462, 4.30171824547463, 2.0638855514689216],\n",
       " [48.164715469576045, 5.259029967524131, 0.5216612646906131],\n",
       " [48.269385339000294, 6.263421973115268, -0.10799431183173569],\n",
       " [45.64766722700632, 6.686019214863223, 1.3497792307105156],\n",
       " [46.80982723608891, 4.91468016737917, 2.3066425416491185],\n",
       " [47.11938535125442, 3.6977912553349577, 0.8813869666989902],\n",
       " [46.578269935953514, 4.948429250027062, 0.9496465895220524],\n",
       " [47.24086369114572, 5.4499372545677245, 1.0557774240794777],\n",
       " [48.63685361343913, 5.143272404395592, 0.25136729675949365],\n",
       " [47.87670841445195, 4.911579559602381, 2.7993945968956755],\n",
       " [47.878078245702525, 5.180790133946411, 1.413470113163304],\n",
       " [48.656653841339875, 3.495732088211392, 1.145929374592182],\n",
       " [47.89538639591828, 5.508454431540482, 2.4958733337818217],\n",
       " [48.87908521583418, 5.708640452157369, 1.1595992268326378],\n",
       " [46.49717721267722, 5.518796067146062, 1.831868975667514],\n",
       " [48.2691942872892, 6.237017181839866, 1.7324918820656587],\n",
       " [48.55719452291603, 4.045557532684509, 3.259029592377283],\n",
       " [48.003480898402, 4.267513319423724, -0.3301180107559838],\n",
       " [46.93002320465324, 5.643258826554575, 1.8494820922968822],\n",
       " [47.31457459812887, 7.3881254337549995, -0.0219894138023653],\n",
       " [47.96929057927018, 4.784341044121063, 2.161319006330433],\n",
       " [47.83045048779657, 5.387449226964445, 0.5471813985672868],\n",
       " [48.076095549596396, 4.450592120225002, 0.86859136319531],\n",
       " [49.65599145556173, 3.900443643198339, 1.7971119692379298],\n",
       " [47.744958867981794, 1.553949068389787, 2.9525838963264723],\n",
       " [49.20278003119601, 3.9082591080759492, 0.696146971585907],\n",
       " [47.68646842429065, 3.0162276896818754, 1.103130938662839],\n",
       " [47.209963798938354, 4.864557472492695, 0.7593996217501402],\n",
       " [47.14153908467863, 4.334266658637177, 0.9193651385091426],\n",
       " [48.38589429187354, 5.22906733180852, 3.5660635614716294],\n",
       " [47.131314362835184, 5.62921460673692, -0.7804719350822766],\n",
       " [49.31633244457618, 3.469312053596566, 0.8908419034751527],\n",
       " [48.71767364168179, 3.7740139903870142, 1.9426474734495889],\n",
       " [49.897174617600896, 5.701986106044029, 0.5361020543539485],\n",
       " [48.049625117874, 5.024887993181049, -0.01302409919758718],\n",
       " [46.655832774963, 5.378115995647601, -1.0978338072514866],\n",
       " [48.142341631910675, 5.769828623792101, 0.23769101676361815],\n",
       " [49.59810515835986, 6.526764704282133, 1.0225505518086606],\n",
       " [48.79272044334622, 4.512088336030242, -0.8301724871003358],\n",
       " [48.29484852736495, 6.0399440862481235, 0.6132478471460856],\n",
       " [47.96773143551108, 6.8037430688207055, 0.28440150134994047],\n",
       " [47.87658380085162, 5.987478294803161, 0.17474199044576677],\n",
       " [46.82334615838251, 4.854152952923933, 1.1837971552630482],\n",
       " [47.889331369202175, 5.731568535153233, 2.5932022876000085],\n",
       " [48.50298743772146, 4.545628607943028, 1.4785434061745368],\n",
       " [47.43617875554802, 4.2924084694630835, -0.5575075693932858],\n",
       " [49.39179473408406, 5.020823185695094, 1.902358319532552],\n",
       " [48.917267576777164, 4.118612390065904, 1.1381866529245253],\n",
       " [48.32074977586059, 4.400082996266951, 1.2127720238519717],\n",
       " [46.167960320594155, 6.289673134744555, 0.09853460801110747],\n",
       " [46.49443113838753, 5.480201376896786, 1.95954620061088],\n",
       " [48.13601671322572, 3.941856228244254, -0.423590053774876],\n",
       " [49.56191059835264, 3.7576953197088327, 2.8252154041697137],\n",
       " [46.53625010267865, 5.188901595150682, -0.15790368742637662],\n",
       " [46.6410200113822, 5.654778733156948, 1.768326859472758],\n",
       " [48.297668395671316, 3.919384037602403, 2.2582972776599517],\n",
       " [47.096392516928454, 4.795758830054287, 2.7392905907835896],\n",
       " [48.20572498916974, 3.7925277266016217, 0.9383907259611658],\n",
       " [48.545201287308494, 5.666287707300919, -0.8727631144877532],\n",
       " [49.32401320478323, 5.594290476325228, 1.2928137501112422],\n",
       " [47.79988701542138, 4.728547067136367, -0.020966170164047115],\n",
       " [47.43633478756367, 5.562896919173036, -1.0369523803635445],\n",
       " [48.11124508531622, 5.790759668591656, 2.2533552196746527],\n",
       " [48.36844552829269, 5.259021515242193, 1.6250453748108675],\n",
       " [47.82557208284057, 4.986378740405897, 0.5184959459714763],\n",
       " [47.507051256193186, 4.6617433650408096, 1.0008493459423196],\n",
       " [48.80756137472661, 4.925040556354138, -0.4098056202264033],\n",
       " [48.44706138536435, 6.020916087142648, 0.6128196131859465],\n",
       " [48.85702288463075, 4.344146267525705, 0.8011105038526208],\n",
       " [49.37408241229633, 4.821945470264062, 1.8413371621224963],\n",
       " [50.03541505867681, 2.8383167231344895, -0.738273587384698],\n",
       " [49.93791111730965, 5.424925526906069, 0.4978385955558766],\n",
       " [47.54995603155042, 4.6301661991514, -0.7391530096329115],\n",
       " [48.886712104095515, 5.129991898039364, -0.28096043633650236],\n",
       " [46.39188490587703, 5.246746365280921, 0.886303533529033],\n",
       " [47.39020898610708, 5.2622687265490455, 0.43100504434198594],\n",
       " [49.412486970477, 4.925956975148663, 0.8885752084529259],\n",
       " [48.97333854794661, 6.855632523815822, 0.7521982420812026],\n",
       " [48.2798896012888, 5.119873680928557, 0.06073846485920664],\n",
       " [47.68871394796956, 4.315158411095294, 0.9014513663330191],\n",
       " [48.63332952879974, 5.139998149139068, -1.506074134042671],\n",
       " [48.828320249638175, 3.9011247786085557, 1.0311411471562937],\n",
       " [46.129052041033, 5.795821223600951, 0.11102557295035265],\n",
       " [45.544281364312006, 4.258458182353993, 1.9518434354796375],\n",
       " [48.35464676856426, 4.345913951951756, 1.4136183520397219],\n",
       " [47.567760097206225, 3.4282769320228885, 0.4486231475256415],\n",
       " [47.92438057572566, 5.293462643386461, 1.2309254837627532],\n",
       " [46.86364765945971, 5.098072013750968, 1.6484989044822833]]"
      ]
     },
     "execution_count": 14,
     "metadata": {},
     "output_type": "execute_result"
    }
   ],
   "source": [
    "data"
   ]
  },
  {
   "cell_type": "code",
   "execution_count": 13,
   "metadata": {},
   "outputs": [
    {
     "data": {
      "text/html": [
       "<div style=\"width:100%;\"><div style=\"position:relative;width:100%;height:0;padding-bottom:60%;\"><iframe src=\"data:text/html;charset=utf-8;base64,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\" style=\"position:absolute;width:100%;height:100%;left:0;top:0;border:none !important;\" allowfullscreen webkitallowfullscreen mozallowfullscreen></iframe></div></div>"
      ],
      "text/plain": [
       "<folium.folium.Map at 0x10a127ef0>"
      ]
     },
     "execution_count": 13,
     "metadata": {},
     "output_type": "execute_result"
    }
   ],
   "source": [
    "from folium.plugins import HeatMap\n",
    "import os\n",
    "\n",
    "m = folium.Map([48., 5.], tiles='stamentoner', zoom_start=6)\n",
    "\n",
    "HeatMap(data).add_to(m)\n",
    "\n",
    "m"
   ]
  },
  {
   "cell_type": "code",
   "execution_count": null,
   "metadata": {},
   "outputs": [],
   "source": []
  }
 ],
 "metadata": {
  "kernelspec": {
   "display_name": "Python 3",
   "language": "python",
   "name": "python3"
  },
  "language_info": {
   "codemirror_mode": {
    "name": "ipython",
    "version": 3
   },
   "file_extension": ".py",
   "mimetype": "text/x-python",
   "name": "python",
   "nbconvert_exporter": "python",
   "pygments_lexer": "ipython3",
   "version": "3.6.4"
  }
 },
 "nbformat": 4,
 "nbformat_minor": 2
}
