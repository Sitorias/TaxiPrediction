{
 "cells": [
  {
   "cell_type": "markdown",
   "metadata": {},
   "source": [
    "# Load Data (already cleaned)"
   ]
  },
  {
   "cell_type": "code",
   "execution_count": 23,
   "metadata": {},
   "outputs": [],
   "source": [
    "# Manage imports\n",
    "import numpy as np\n",
    "import pandas as pd\n",
    "import seaborn as sns  \n",
    "import matplotlib.pyplot as plt\n",
    "from sklearn.ensemble import RandomForestRegressor\n",
    "\n",
    "pd.options.mode.chained_assignment = None  # default='warn'"
   ]
  },
  {
   "cell_type": "code",
   "execution_count": 25,
   "metadata": {},
   "outputs": [
    {
     "name": "stderr",
     "output_type": "stream",
     "text": [
      "E:\\Anaconda\\lib\\site-packages\\numpy\\lib\\arraysetops.py:466: FutureWarning: elementwise comparison failed; returning scalar instead, but in the future will perform elementwise comparison\n",
      "  mask |= (ar1 == a)\n"
     ]
    }
   ],
   "source": [
    "# read data in memory\n",
    "train = pd.read_csv(\"C:\\\\Users\\\\Leo\\\\TaxiData\\\\clean_v2.csv\",index_col=0)"
   ]
  },
  {
   "cell_type": "code",
   "execution_count": 26,
   "metadata": {},
   "outputs": [
    {
     "data": {
      "text/html": [
       "<div>\n",
       "<style scoped>\n",
       "    .dataframe tbody tr th:only-of-type {\n",
       "        vertical-align: middle;\n",
       "    }\n",
       "\n",
       "    .dataframe tbody tr th {\n",
       "        vertical-align: top;\n",
       "    }\n",
       "\n",
       "    .dataframe thead th {\n",
       "        text-align: right;\n",
       "    }\n",
       "</style>\n",
       "<table border=\"1\" class=\"dataframe\">\n",
       "  <thead>\n",
       "    <tr style=\"text-align: right;\">\n",
       "      <th></th>\n",
       "      <th>tpep_pickup_datetime</th>\n",
       "      <th>tpep_dropoff_datetime</th>\n",
       "      <th>passenger_count</th>\n",
       "      <th>trip_distance</th>\n",
       "      <th>pickup_longitude</th>\n",
       "      <th>pickup_latitude</th>\n",
       "      <th>RatecodeID</th>\n",
       "      <th>dropoff_longitude</th>\n",
       "      <th>dropoff_latitude</th>\n",
       "      <th>payment_type</th>\n",
       "      <th>...</th>\n",
       "      <th>subtotal</th>\n",
       "      <th>tip_perc</th>\n",
       "      <th>pickup_hour</th>\n",
       "      <th>pickup_coord</th>\n",
       "      <th>dropoff_coord</th>\n",
       "      <th>avg_speed</th>\n",
       "      <th>holiday</th>\n",
       "      <th>overnight</th>\n",
       "      <th>day</th>\n",
       "      <th>ridesAtPickupHour</th>\n",
       "    </tr>\n",
       "  </thead>\n",
       "  <tbody>\n",
       "    <tr>\n",
       "      <th>0</th>\n",
       "      <td>2016-06-09 21:06:36</td>\n",
       "      <td>2016-06-09 21:13:08</td>\n",
       "      <td>2</td>\n",
       "      <td>0.79</td>\n",
       "      <td>-73.983360</td>\n",
       "      <td>40.760937</td>\n",
       "      <td>1</td>\n",
       "      <td>-73.977463</td>\n",
       "      <td>40.753979</td>\n",
       "      <td>2</td>\n",
       "      <td>...</td>\n",
       "      <td>7.3</td>\n",
       "      <td>0.000000</td>\n",
       "      <td>21</td>\n",
       "      <td>(40.76093673706055, -73.98336029052734)</td>\n",
       "      <td>(40.75397872924805, -73.97746276855469)</td>\n",
       "      <td>7.255102</td>\n",
       "      <td>False</td>\n",
       "      <td>True</td>\n",
       "      <td>Thursday</td>\n",
       "      <td>101559</td>\n",
       "    </tr>\n",
       "    <tr>\n",
       "      <th>1</th>\n",
       "      <td>2016-06-09 21:06:36</td>\n",
       "      <td>2016-06-09 21:35:11</td>\n",
       "      <td>1</td>\n",
       "      <td>5.22</td>\n",
       "      <td>-73.981720</td>\n",
       "      <td>40.736668</td>\n",
       "      <td>1</td>\n",
       "      <td>-73.981636</td>\n",
       "      <td>40.670242</td>\n",
       "      <td>1</td>\n",
       "      <td>...</td>\n",
       "      <td>23.3</td>\n",
       "      <td>0.171674</td>\n",
       "      <td>21</td>\n",
       "      <td>(40.73666763305664, -73.98171997070312)</td>\n",
       "      <td>(40.67024230957031, -73.98163604736328)</td>\n",
       "      <td>10.957434</td>\n",
       "      <td>False</td>\n",
       "      <td>True</td>\n",
       "      <td>Thursday</td>\n",
       "      <td>101559</td>\n",
       "    </tr>\n",
       "    <tr>\n",
       "      <th>3</th>\n",
       "      <td>2016-06-09 21:06:36</td>\n",
       "      <td>2016-06-09 21:36:10</td>\n",
       "      <td>1</td>\n",
       "      <td>7.39</td>\n",
       "      <td>-73.982361</td>\n",
       "      <td>40.773891</td>\n",
       "      <td>1</td>\n",
       "      <td>-73.929466</td>\n",
       "      <td>40.851540</td>\n",
       "      <td>1</td>\n",
       "      <td>...</td>\n",
       "      <td>27.3</td>\n",
       "      <td>0.036630</td>\n",
       "      <td>21</td>\n",
       "      <td>(40.77389144897461, -73.98236083984375)</td>\n",
       "      <td>(40.851539611816406, -73.9294662475586)</td>\n",
       "      <td>14.996618</td>\n",
       "      <td>False</td>\n",
       "      <td>True</td>\n",
       "      <td>Thursday</td>\n",
       "      <td>101559</td>\n",
       "    </tr>\n",
       "    <tr>\n",
       "      <th>4</th>\n",
       "      <td>2016-06-09 21:06:36</td>\n",
       "      <td>2016-06-09 21:23:23</td>\n",
       "      <td>1</td>\n",
       "      <td>3.10</td>\n",
       "      <td>-73.987106</td>\n",
       "      <td>40.733173</td>\n",
       "      <td>1</td>\n",
       "      <td>-73.985909</td>\n",
       "      <td>40.766445</td>\n",
       "      <td>1</td>\n",
       "      <td>...</td>\n",
       "      <td>14.8</td>\n",
       "      <td>0.200000</td>\n",
       "      <td>21</td>\n",
       "      <td>(40.73317337036133, -73.98710632324219)</td>\n",
       "      <td>(40.7664451599121, -73.98590850830078)</td>\n",
       "      <td>11.082423</td>\n",
       "      <td>False</td>\n",
       "      <td>True</td>\n",
       "      <td>Thursday</td>\n",
       "      <td>101559</td>\n",
       "    </tr>\n",
       "    <tr>\n",
       "      <th>5</th>\n",
       "      <td>2016-06-09 21:06:36</td>\n",
       "      <td>2016-06-09 21:19:21</td>\n",
       "      <td>1</td>\n",
       "      <td>2.17</td>\n",
       "      <td>-73.995201</td>\n",
       "      <td>40.739491</td>\n",
       "      <td>1</td>\n",
       "      <td>-73.993202</td>\n",
       "      <td>40.762642</td>\n",
       "      <td>1</td>\n",
       "      <td>...</td>\n",
       "      <td>11.8</td>\n",
       "      <td>0.200000</td>\n",
       "      <td>21</td>\n",
       "      <td>(40.7394905090332, -73.99520111083984)</td>\n",
       "      <td>(40.76264190673828, -73.99320220947266)</td>\n",
       "      <td>10.211765</td>\n",
       "      <td>False</td>\n",
       "      <td>True</td>\n",
       "      <td>Thursday</td>\n",
       "      <td>101559</td>\n",
       "    </tr>\n",
       "  </tbody>\n",
       "</table>\n",
       "<p>5 rows × 27 columns</p>\n",
       "</div>"
      ],
      "text/plain": [
       "  tpep_pickup_datetime tpep_dropoff_datetime  passenger_count  trip_distance  \\\n",
       "0  2016-06-09 21:06:36   2016-06-09 21:13:08                2           0.79   \n",
       "1  2016-06-09 21:06:36   2016-06-09 21:35:11                1           5.22   \n",
       "3  2016-06-09 21:06:36   2016-06-09 21:36:10                1           7.39   \n",
       "4  2016-06-09 21:06:36   2016-06-09 21:23:23                1           3.10   \n",
       "5  2016-06-09 21:06:36   2016-06-09 21:19:21                1           2.17   \n",
       "\n",
       "   pickup_longitude  pickup_latitude  RatecodeID  dropoff_longitude  \\\n",
       "0        -73.983360        40.760937           1         -73.977463   \n",
       "1        -73.981720        40.736668           1         -73.981636   \n",
       "3        -73.982361        40.773891           1         -73.929466   \n",
       "4        -73.987106        40.733173           1         -73.985909   \n",
       "5        -73.995201        40.739491           1         -73.993202   \n",
       "\n",
       "   dropoff_latitude  payment_type        ...          subtotal  tip_perc  \\\n",
       "0         40.753979             2        ...               7.3  0.000000   \n",
       "1         40.670242             1        ...              23.3  0.171674   \n",
       "3         40.851540             1        ...              27.3  0.036630   \n",
       "4         40.766445             1        ...              14.8  0.200000   \n",
       "5         40.762642             1        ...              11.8  0.200000   \n",
       "\n",
       "   pickup_hour                             pickup_coord  \\\n",
       "0           21  (40.76093673706055, -73.98336029052734)   \n",
       "1           21  (40.73666763305664, -73.98171997070312)   \n",
       "3           21  (40.77389144897461, -73.98236083984375)   \n",
       "4           21  (40.73317337036133, -73.98710632324219)   \n",
       "5           21   (40.7394905090332, -73.99520111083984)   \n",
       "\n",
       "                             dropoff_coord  avg_speed  holiday  overnight  \\\n",
       "0  (40.75397872924805, -73.97746276855469)   7.255102    False       True   \n",
       "1  (40.67024230957031, -73.98163604736328)  10.957434    False       True   \n",
       "3  (40.851539611816406, -73.9294662475586)  14.996618    False       True   \n",
       "4   (40.7664451599121, -73.98590850830078)  11.082423    False       True   \n",
       "5  (40.76264190673828, -73.99320220947266)  10.211765    False       True   \n",
       "\n",
       "        day  ridesAtPickupHour  \n",
       "0  Thursday             101559  \n",
       "1  Thursday             101559  \n",
       "3  Thursday             101559  \n",
       "4  Thursday             101559  \n",
       "5  Thursday             101559  \n",
       "\n",
       "[5 rows x 27 columns]"
      ]
     },
     "execution_count": 26,
     "metadata": {},
     "output_type": "execute_result"
    }
   ],
   "source": [
    "train.head()"
   ]
  },
  {
   "cell_type": "code",
   "execution_count": 27,
   "metadata": {},
   "outputs": [],
   "source": [
    "test = pd.read_csv(\"C:\\\\Users\\\\Leo\\\\Dropbox\\\\Info Göttingen\\\\Practical Course Data Science\\\\Task 2\\\\data\\\\test_data_v2.csv\",engine=\"python\")"
   ]
  },
  {
   "cell_type": "markdown",
   "metadata": {},
   "source": [
    "# Prepare the Test set (add features)"
   ]
  },
  {
   "cell_type": "markdown",
   "metadata": {},
   "source": [
    "## Add duration in seconds"
   ]
  },
  {
   "cell_type": "code",
   "execution_count": null,
   "metadata": {},
   "outputs": [],
   "source": [
    "test[\"tpep_pickup_datetime\"] = pd.to_datetime(test.tpep_pickup_datetime)\n",
    "test['tpep_dropoff_datetime'] = pd.to_datetime(test.tpep_dropoff_datetime)"
   ]
  },
  {
   "cell_type": "code",
   "execution_count": null,
   "metadata": {},
   "outputs": [],
   "source": [
    "# Get duration\n",
    "test['duration'] = pd.to_datetime(test[\"tpep_dropoff_datetime\"])-pd.to_datetime(test[\"tpep_pickup_datetime\"])"
   ]
  },
  {
   "cell_type": "code",
   "execution_count": null,
   "metadata": {},
   "outputs": [],
   "source": [
    "%%time\n",
    "test[\"duration\"] = test.apply(lambda x : x.duration.total_seconds(),axis=1)"
   ]
  },
  {
   "cell_type": "markdown",
   "metadata": {},
   "source": [
    "## Calculate average speed"
   ]
  },
  {
   "cell_type": "code",
   "execution_count": 30,
   "metadata": {},
   "outputs": [],
   "source": [
    "test = test.assign(avg_speed = test.trip_distance/test.duration*60*60)"
   ]
  },
  {
   "cell_type": "code",
   "execution_count": 31,
   "metadata": {},
   "outputs": [
    {
     "data": {
      "text/plain": [
       "count    64000.000000\n",
       "mean        14.546904\n",
       "std          9.388043\n",
       "min          0.014337\n",
       "25%          8.153310\n",
       "50%         11.716077\n",
       "75%         18.140034\n",
       "max        176.170213\n",
       "Name: avg_speed, dtype: float64"
      ]
     },
     "execution_count": 31,
     "metadata": {},
     "output_type": "execute_result"
    }
   ],
   "source": [
    "test.avg_speed.describe()"
   ]
  },
  {
   "cell_type": "markdown",
   "metadata": {},
   "source": [
    "## Function for parameter optimization for lightGBM"
   ]
  },
  {
   "cell_type": "code",
   "execution_count": 28,
   "metadata": {},
   "outputs": [],
   "source": [
    "from sklearn.model_selection import ParameterGrid\n",
    "from operator import itemgetter\n",
    "def optimisedLGM(param_grid,trainData,labels):\n",
    "    lgb_dataset = lgb.Dataset(trainData, label=labels)\n",
    "\n",
    "    cv_results = []\n",
    "    for params in ParameterGrid(param_grid):\n",
    "        validation_summary = lgb.cv(params,\n",
    "                                    lgb_dataset,\n",
    "                                    num_boost_round=10000, \n",
    "                                    nfold=3,\n",
    "                                    early_stopping_rounds=50,\n",
    "                                    stratified=False)\n",
    "\n",
    "        params[\"optimal_number_of_trees\"] = len(validation_summary[\"l1-mean\"])\n",
    "        cv_results.append((params, validation_summary[\"l1-mean\"][-1]))    \n",
    "        #this currently is buggy. the first element of the results will always be overriden by the last\n",
    "\n",
    "    param_set = min(cv_results,key=itemgetter(1)) #best params, minimal mae\n",
    "    print(\"Best params:\",param_set)\n",
    "    lgb_model = lgb.train(param_set[0],lgb_dataset,param_set[0][\"optimal_number_of_trees\"])\n",
    "    return lgb_model"
   ]
  },
  {
   "cell_type": "code",
   "execution_count": 29,
   "metadata": {},
   "outputs": [],
   "source": [
    "#optimization parameters for lightGBM\n",
    "param_grid = {\n",
    "    'learning_rate': [0.01],    \n",
    "    'num_leaves':[7,31,4095],\n",
    "    \"boosting\":[\"gbdt\",\"rf\"],\n",
    "    \"max_depth\":[2,63,None],\n",
    "    \"objective\": [\"mae\"],\n",
    "    \"bagging_fraction\" : [0.8], \n",
    "    \"feature_fraction\" : [0.8],\n",
    "    \"bagging_freq\" : [1],\n",
    "    \"num_threads\" : [4]\n",
    "}"
   ]
  },
  {
   "cell_type": "markdown",
   "metadata": {},
   "source": [
    "# Ratecode 1 (Standard rate)"
   ]
  },
  {
   "cell_type": "markdown",
   "metadata": {},
   "source": [
    "## Building the Model"
   ]
  },
  {
   "cell_type": "code",
   "execution_count": 30,
   "metadata": {},
   "outputs": [],
   "source": [
    "code1data = train[train.RatecodeID == 1]"
   ]
  },
  {
   "cell_type": "code",
   "execution_count": null,
   "metadata": {},
   "outputs": [],
   "source": [
    "code1test = test[test.RatecodeID == 1]"
   ]
  },
  {
   "cell_type": "code",
   "execution_count": null,
   "metadata": {},
   "outputs": [],
   "source": [
    "%%time\n",
    "features = [\"duration\",\"passenger_count\",\"trip_distance\",\"payment_type\",\"avg_speed\"]\n",
    "code1_model = optimisedLGM(param_grid,code1data[features],code1data[\"fare_amount\"])"
   ]
  },
  {
   "cell_type": "markdown",
   "metadata": {},
   "source": [
    "## Prediction"
   ]
  },
  {
   "cell_type": "code",
   "execution_count": null,
   "metadata": {},
   "outputs": [],
   "source": [
    "code1prediction = np.round(code1_model.predict(code1test[features])*2)/2"
   ]
  },
  {
   "cell_type": "code",
   "execution_count": null,
   "metadata": {},
   "outputs": [],
   "source": [
    "code1prediction"
   ]
  },
  {
   "cell_type": "code",
   "execution_count": null,
   "metadata": {},
   "outputs": [],
   "source": [
    "code1test = code1test.assign(fare_amount_prediction = code1prediction)"
   ]
  },
  {
   "cell_type": "markdown",
   "metadata": {},
   "source": [
    "# Ratecode 2 (JFK)"
   ]
  },
  {
   "cell_type": "markdown",
   "metadata": {},
   "source": [
    "## Building the Model"
   ]
  },
  {
   "cell_type": "markdown",
   "metadata": {},
   "source": [
    "No model building neccessary, all rides cost 52$"
   ]
  },
  {
   "cell_type": "code",
   "execution_count": null,
   "metadata": {},
   "outputs": [],
   "source": [
    "code2data = train[train.RatecodeID == 2]\n",
    "code2test = test[test.RatecodeID == 2]"
   ]
  },
  {
   "cell_type": "markdown",
   "metadata": {},
   "source": [
    "## Prediction"
   ]
  },
  {
   "cell_type": "code",
   "execution_count": null,
   "metadata": {},
   "outputs": [],
   "source": [
    "code2test[\"fare_amount_prediction\"] = 52.0"
   ]
  },
  {
   "cell_type": "markdown",
   "metadata": {},
   "source": [
    "# Ratecode 3 (Newark)"
   ]
  },
  {
   "cell_type": "markdown",
   "metadata": {},
   "source": [
    "## Building the Model"
   ]
  },
  {
   "cell_type": "code",
   "execution_count": null,
   "metadata": {},
   "outputs": [],
   "source": [
    "code3data = train[train.RatecodeID == 3]"
   ]
  },
  {
   "cell_type": "code",
   "execution_count": null,
   "metadata": {},
   "outputs": [],
   "source": [
    "code3test = test[test.RatecodeID == 3]"
   ]
  },
  {
   "cell_type": "code",
   "execution_count": null,
   "metadata": {},
   "outputs": [],
   "source": [
    "%%time\n",
    "features = [\"duration\",\"passenger_count\",\"trip_distance\",\"payment_type\",\"avg_speed\"]\n",
    "code3_model = optimisedLGM(param_grid,code3data[features],code3data[\"fare_amount\"])"
   ]
  },
  {
   "cell_type": "markdown",
   "metadata": {},
   "source": [
    "## Prediction"
   ]
  },
  {
   "cell_type": "code",
   "execution_count": null,
   "metadata": {},
   "outputs": [],
   "source": [
    "code3prediction = np.round(code3_model.predict(code3test[features])*2)/2\n",
    "code3test = code3test.assign(fare_amount_prediction = code3prediction)"
   ]
  },
  {
   "cell_type": "markdown",
   "metadata": {},
   "source": [
    "# Ratecode 4 (Nassau or Westchester)"
   ]
  },
  {
   "cell_type": "markdown",
   "metadata": {},
   "source": [
    "## Building the Model"
   ]
  },
  {
   "cell_type": "code",
   "execution_count": null,
   "metadata": {},
   "outputs": [],
   "source": [
    "code4data = train[train.RatecodeID == 4]\n",
    "code4test = test[test.RatecodeID == 4]\n",
    "np.shape(code4test)"
   ]
  },
  {
   "cell_type": "code",
   "execution_count": null,
   "metadata": {},
   "outputs": [],
   "source": [
    "#shapely can be installed via anaconda -> environments\n",
    "from shapely.geometry import Point\n",
    "from shapely.geometry.polygon import Polygon"
   ]
  },
  {
   "cell_type": "code",
   "execution_count": null,
   "metadata": {},
   "outputs": [],
   "source": [
    "# returns whether the point given is in the area given\n",
    "def inArea(polygon,lat,long):\n",
    "    point = Point(lat,long);\n",
    "    poly = Polygon(polygon)\n",
    "    return poly.contains(point)    "
   ]
  },
  {
   "cell_type": "code",
   "execution_count": null,
   "metadata": {},
   "outputs": [],
   "source": [
    "#cords for a polygon around manhatten, manually set via google maps\n",
    "manhattan_cords = [(40.882207, -73.933869), #1\n",
    "         (40.872343, -73.908292), #2\n",
    "         (40.836117, -73.933011), #3\n",
    "         (40.804680, -73.931123), #4\n",
    "         (40.798833, -73.918591), #5\n",
    "         (40.739289, -73.967000), #6\n",
    "         (40.707155, -73.973866), #7\n",
    "         (40.699217, -74.021416), #8\n",
    "         (40.759316, -74.012662)] #9"
   ]
  },
  {
   "cell_type": "code",
   "execution_count": null,
   "metadata": {},
   "outputs": [],
   "source": [
    "#apply to train set\n",
    "code4data[\"endsInManhattan\"] = code4data.apply(lambda x : inArea(manhattan_cords,x[\"dropoff_latitude\"],x[\"dropoff_longitude\"]),axis=1)\n",
    "code4data[\"startsInManhattan\"] = code4data.apply(lambda x : inArea(manhattan_cords,x[\"pickup_latitude\"],x[\"pickup_longitude\"]),axis=1)"
   ]
  },
  {
   "cell_type": "code",
   "execution_count": null,
   "metadata": {},
   "outputs": [],
   "source": [
    "from geopy.distance import geodesic\n",
    "from geopy.distance import great_circle"
   ]
  },
  {
   "cell_type": "code",
   "execution_count": null,
   "metadata": {},
   "outputs": [],
   "source": [
    "#calculate air line distance for train data set\n",
    "code4data[\"airlineDistance\"] = code4data.apply(lambda x: geodesic((x[\"pickup_latitude\"],x[\"pickup_longitude\"]),\n",
    "                                                                  (x[\"dropoff_latitude\"],x[\"dropoff_longitude\"])).miles,axis=1)"
   ]
  },
  {
   "cell_type": "code",
   "execution_count": null,
   "metadata": {
    "scrolled": true
   },
   "outputs": [],
   "source": [
    "code4data.airlineDistance.describe()"
   ]
  },
  {
   "cell_type": "code",
   "execution_count": null,
   "metadata": {
    "scrolled": true
   },
   "outputs": [],
   "source": [
    "np.shape(code4data[[\"airlineDistance\",\"trip_distance\"]])"
   ]
  },
  {
   "cell_type": "code",
   "execution_count": null,
   "metadata": {},
   "outputs": [],
   "source": [
    "np.shape(code4data[code4data.trip_distance<code4data.airlineDistance])"
   ]
  },
  {
   "cell_type": "code",
   "execution_count": null,
   "metadata": {},
   "outputs": [],
   "source": [
    "ax = sns.regplot(code4data.trip_distance,code4data.airlineDistance)\n",
    "ax.plot([0,0],[40,40], linewidth=2,color=\"red\")"
   ]
  },
  {
   "cell_type": "code",
   "execution_count": null,
   "metadata": {},
   "outputs": [],
   "source": [
    "# all bridges and tunnels to/from manhattan, bridges marked with ! are highways or tunnels and more likely to be used by taxis\n",
    "bridges = [ (40.877720, -73.922362), # 0 henry hudson bridge !\n",
    "          (40.873648, -73.911075), # 1 broadway !\n",
    "          (40.862840, -73.914986), # 2 university heights bridge\n",
    "          (40.846674, -73.927806), # 3 washington bridge - close to v\n",
    "          (40.845522, -73.928256), # 4 alexander hamilton bridge !\n",
    "          (40.828062, -73.933873), # 5 macombs dam bridge\n",
    "          (40.819489, -73.933058), # 6 145th st bridge - close to v\n",
    "          (40.814081, -73.933187), # 7 madison avenue bridge\n",
    "          (40.807591, -73.932399), # 8 third avenue bridge\n",
    "           (40.803516, -73.928818),# 9 willis ave bridge\n",
    "           (40.800368, -73.927835), # 10 robert f kennedy bridge !\n",
    "           (40.756681, -73.954185), # 11 ed koch queensboro bridge !\n",
    "           (40.745106, -73.964063), # 12 queens midtown tunnel !\n",
    "           (40.713407, -73.972299), # 13 williamsburg bridge\n",
    "           (40.707095, -73.990500), # 14 manhattan bridge\n",
    "           (40.705972, -73.996851), # 15 brooklyn bridge !\n",
    "           (40.701161, -74.015692), # 16 Hugh l Carey Tunnel\n",
    "           (40.727487, -74.020880), # 17 holland tunnel\n",
    "           (40.763370, -74.010028), # 18 lincoln tunnel !\n",
    "           (40.851644, -73.952118), # 19 george washington bridge !\n",
    "          ]"
   ]
  },
  {
   "cell_type": "code",
   "execution_count": null,
   "metadata": {},
   "outputs": [],
   "source": [
    "# try to find out which bridge is used in a trip \n",
    "# assumption: the bridge is used that minimizes the pickup-bridge-dropoff distance (air-line distance)\n",
    "counter = 1\n",
    "for index, row in code4data.iterrows():\n",
    "    # 4 options:\n",
    "    # starts in city, ends in city --> should not have ratecode 4 -> outlier, ignore\n",
    "    # starts in city, ends out of city -> standard trip\n",
    "    # starts out of city, ends out of city -> no calculations to be done here, use double rate for whole trip\n",
    "    # starts out of city, ends in city -> reverse standard trip\n",
    "    startP = (row[\"pickup_latitude\"],row[\"pickup_longitude\"])\n",
    "    endP = (row[\"dropoff_latitude\"],row[\"dropoff_longitude\"])\n",
    "    \n",
    "    if(row.startsInManhattan and row.endsInManhattan):\n",
    "        #print(\"Outlier found, index\",index)\n",
    "        continue\n",
    "    elif (not row.startsInManhattan and not row.endsInManhattan):\n",
    "        #print(\"Complete out of city trip, index\",index)\n",
    "        code4data.at[index,\"Bridge\"] = None;\n",
    "        code4data.at[index,\"in_city_distance\"] = 0;\n",
    "        code4data.at[index,\"out_of_city_distance\"] = geodesic(startP, endP).miles\n",
    "        code4data.at[index,\"total_over_bridge_distance\"] = geodesic(startP, endP).miles  \n",
    "        continue\n",
    "    elif (not row.startsInManhattan and  row.endsInManhattan): # reverse trip\n",
    "        temp = startP # here we swap start and endpoints so its similar to a standard trip\n",
    "        startP = endP\n",
    "        endP = temp\n",
    "    \n",
    "    #find closest bridge\n",
    "    closest_bridge_index = -1\n",
    "    closest_total_bridge_distance = float('inf')\n",
    "    for i in range(len(bridges)):\n",
    "        distance_to_bridge = geodesic(startP, bridges[i]).miles\n",
    "        distance_to_dest =  geodesic(bridges[i],endP).miles\n",
    "        total = distance_to_bridge + distance_to_dest\n",
    "        if(total < closest_total_bridge_distance):\n",
    "            closest_total_bridge_distance = total\n",
    "            closest_bridge_index = i\n",
    "            closest_distance_to_bridge = distance_to_bridge\n",
    "            closest_distance_to_dest = distance_to_dest\n",
    "            \n",
    "    #print(\"Route {} travels over bridge/tunnel {} (to bridge: {:0.2f}, to dest: {:0.2f}, total: {:0.2f}, trip_distance : {:0.2f})\".format(\n",
    "    #    counter, closest_bridge_index,closest_distance_to_bridge,closest_distance_to_dest,closest_total_bridge_distance,totalDistance))\n",
    "    counter = counter + 1\n",
    "    \n",
    "    code4data.at[index,\"Bridge\"] = closest_bridge_index;\n",
    "    code4data.at[index,\"in_city_distance\"] = closest_distance_to_bridge;\n",
    "    code4data.at[index,\"out_of_city_distance\"] = closest_distance_to_dest\n",
    "    code4data.at[index,\"total_over_bridge_distance\"] = closest_total_bridge_distance       "
   ]
  },
  {
   "cell_type": "code",
   "execution_count": null,
   "metadata": {},
   "outputs": [],
   "source": [
    "#states how much of the fare was contributed by ride in the city. Calculated by \n",
    "code4data[\"inCityPercentage\"] = code4data.apply(lambda x: x.in_city_distance/(x.in_city_distance+2*x.out_of_city_distance+0.0001),axis=1)"
   ]
  },
  {
   "cell_type": "code",
   "execution_count": null,
   "metadata": {},
   "outputs": [],
   "source": [
    "#2.5 were subtracted from fare amount (inital charge)\n",
    "code4data[\"inCityFare\"] = code4data.apply(lambda x: x.inCityPercentage*(x.fare_amount-2.5),axis=1)\n",
    "code4data[\"outCityFare\"] = code4data.apply(lambda x: (1-x.inCityPercentage)*(x.fare_amount-2.5),axis=1)"
   ]
  },
  {
   "cell_type": "code",
   "execution_count": null,
   "metadata": {},
   "outputs": [],
   "source": [
    "code4data[\"inCityTripDistanceExtreme\"] = code4data.apply(lambda x: x.inCityPercentage*x.trip_distance,axis=1)\n",
    "code4data[\"outCityTripDistanceExtreme\"] = code4data.apply(lambda x: (1-x.inCityPercentage)*x.trip_distance,axis=1)"
   ]
  },
  {
   "cell_type": "code",
   "execution_count": null,
   "metadata": {},
   "outputs": [],
   "source": [
    "code4data[\"inCityTripDistance\"] = code4data.apply(lambda x: x.in_city_distance/(x.in_city_distance+x.out_of_city_distance),axis=1)\n",
    "code4data[\"outCityTripDistance\"] = code4data.apply(lambda x: x.out_of_city_distance/(x.in_city_distance+x.out_of_city_distance),axis=1)"
   ]
  },
  {
   "cell_type": "markdown",
   "metadata": {},
   "source": [
    "Now we have to train three models. Two for trips that start in the city and end out of it and vice versa, thus using both the standard and the doubled rate (one model for each). The predctions are then add up. The third model is for trips that are completly out of the city and therefore only use the doubled rate. Here more information can be used from the dataset, because we do not have to make assumptions on where the trip was split."
   ]
  },
  {
   "cell_type": "code",
   "execution_count": null,
   "metadata": {},
   "outputs": [],
   "source": [
    "code4data_mixed = code4data[code4data.startsInManhattan ^ code4data.endsInManhattan] # trips that used a bridge -> entered/left manhattan\n",
    "np.shape(code4data_mixed)"
   ]
  },
  {
   "cell_type": "code",
   "execution_count": null,
   "metadata": {},
   "outputs": [],
   "source": [
    "code4data_out = code4data[(code4data.startsInManhattan==False) & (code4data.endsInManhattan==False)] # trips that not used a bridge -> never were in Manhattan\n",
    "np.shape(code4data_out)"
   ]
  },
  {
   "cell_type": "code",
   "execution_count": null,
   "metadata": {},
   "outputs": [],
   "source": [
    "%%time\n",
    "#chose features\n",
    "features_inner = [\"inCityTripDistance\",\"trip_distance\",\"duration\",\"ridesAtPickupHour\"]\n",
    "features_outer = [\"outCityTripDistance\",\"trip_distance\",\"duration\",\"ridesAtPickupHour\"]\n",
    "\n",
    "mixed_inner_train = code4data_mixed[features_inner]\n",
    "mixed_outer_train = code4data_mixed[features_outer]\n",
    "\n",
    "code4_model_inner = optimisedLGM(param_grid,mixed_inner_train,code4data_mixed[\"inCityFare\"])"
   ]
  },
  {
   "cell_type": "code",
   "execution_count": null,
   "metadata": {},
   "outputs": [],
   "source": [
    "%%time\n",
    "code4_model_outer = optimisedLGM(param_grid,mixed_outer_train,code4data_mixed[\"outCityFare\"])"
   ]
  },
  {
   "cell_type": "markdown",
   "metadata": {},
   "source": [
    "Next: model for outer trips.\n"
   ]
  },
  {
   "cell_type": "code",
   "execution_count": null,
   "metadata": {},
   "outputs": [],
   "source": [
    "%%time\n",
    "# make train set\n",
    "features = [\"passenger_count\",\"trip_distance\",\"payment_type\",\"duration\"]\n",
    "\n",
    "code4_model_out = optimisedLGM(param_grid,code4data_out[features],code4data_out[\"fare_amount\"]-2.5)"
   ]
  },
  {
   "cell_type": "markdown",
   "metadata": {},
   "source": [
    "## Prediction"
   ]
  },
  {
   "cell_type": "code",
   "execution_count": null,
   "metadata": {},
   "outputs": [],
   "source": [
    "#apply to test set\n",
    "code4test[\"endsInManhattan\"] = code4test.apply(lambda x : inArea(manhattan_cords,x[\"dropoff_latitude\"],x[\"dropoff_longitude\"]),axis=1)\n",
    "code4test[\"startsInManhattan\"] = code4test.apply(lambda x : inArea(manhattan_cords,x[\"pickup_latitude\"],x[\"pickup_longitude\"]),axis=1)"
   ]
  },
  {
   "cell_type": "markdown",
   "metadata": {},
   "source": [
    "We have four possible trip patterns:\n",
    "    1. starts in city, ends in city --> should not have ratecode 4 -> outlier, ignore\n",
    "    2. starts in city, ends out of city -> standard trip\n",
    "    3. starts out of city, ends out of city -> no calculations to be done here, use double rate for whole trip\n",
    "    4. starts out of city, ends in city -> reverse standard trip"
   ]
  },
  {
   "cell_type": "code",
   "execution_count": null,
   "metadata": {},
   "outputs": [],
   "source": [
    "np.shape(code4test)"
   ]
  },
  {
   "cell_type": "code",
   "execution_count": null,
   "metadata": {},
   "outputs": [],
   "source": [
    "#option1: trips that start and end in manhattan, these should not have this ratecode\n",
    "code4test_wrong = code4test[(code4test.startsInManhattan & code4test.endsInManhattan)]\n",
    "np.shape(code4test_wrong)"
   ]
  },
  {
   "cell_type": "code",
   "execution_count": null,
   "metadata": {},
   "outputs": [],
   "source": [
    "#option2 & option 4: \n",
    "code4test_mixed = code4test[code4test.startsInManhattan ^ code4test.endsInManhattan] \n",
    "np.shape(code4test_mixed)"
   ]
  },
  {
   "cell_type": "code",
   "execution_count": null,
   "metadata": {},
   "outputs": [],
   "source": [
    "#option 3:\n",
    "code4test_out = code4test[(code4test.startsInManhattan==False) & (code4test.endsInManhattan==False)] \n",
    "np.shape(code4test_out)"
   ]
  },
  {
   "cell_type": "code",
   "execution_count": null,
   "metadata": {},
   "outputs": [],
   "source": [
    "# try to find out which bridge is used in a trip \n",
    "# assumption: the bridge is used that minimizes the pickup-bridge-dropoff distance (air-line distance)\n",
    "counter = 1\n",
    "for index, row in code4test_mixed.iterrows():\n",
    "    \n",
    "    startP = (row[\"pickup_latitude\"],row[\"pickup_longitude\"])\n",
    "    endP = (row[\"dropoff_latitude\"],row[\"dropoff_longitude\"])\n",
    "    \n",
    "    if(row.startsInManhattan and row.endsInManhattan):\n",
    "        #print(\"Outlier found, index\",index)\n",
    "        continue\n",
    "    elif (not row.startsInManhattan and not row.endsInManhattan):\n",
    "        #print(\"Complete out of city trip, index\",index)\n",
    "        code4test_mixed.at[index,\"bridge\"] = None;\n",
    "        code4test_mixed.at[index,\"in_city_distance\"] = 0;\n",
    "        code4test_mixed.at[index,\"out_of_city_distance\"] = geodesic(startP, endP).miles\n",
    "        code4test_mixed.at[index,\"total_over_bridge_distance\"] = geodesic(startP, endP).miles  \n",
    "        continue\n",
    "    elif (not row.startsInManhattan and  row.endsInManhattan): # reverse trip\n",
    "        temp = startP # here we swap start and endpoints so its similar to a standard trip\n",
    "        startP = endP\n",
    "        endP = temp\n",
    "    \n",
    "    #find closest bridge\n",
    "    closest_bridge_index = -1\n",
    "    closest_total_bridge_distance = float('inf')\n",
    "    for i in range(len(bridges)):\n",
    "        distance_to_bridge = geodesic(startP, bridges[i]).miles\n",
    "        distance_to_dest =  geodesic(bridges[i],endP).miles\n",
    "        total = distance_to_bridge + distance_to_dest\n",
    "        if(total < closest_total_bridge_distance):\n",
    "            closest_total_bridge_distance = total\n",
    "            closest_bridge_index = i\n",
    "            closest_distance_to_bridge = distance_to_bridge\n",
    "            closest_distance_to_dest = distance_to_dest\n",
    "            \n",
    "    #print(\"Route {} travels over bridge/tunnel {} (to bridge: {:0.2f}, to dest: {:0.2f}, total: {:0.2f}, trip_distance : {:0.2f})\".format(\n",
    "    #    counter, closest_bridge_index,closest_distance_to_bridge,closest_distance_to_dest,closest_total_bridge_distance,totalDistance))\n",
    "    counter = counter + 1\n",
    "    \n",
    "    code4test_mixed.at[index,\"bridge\"] = closest_bridge_index;\n",
    "    code4test_mixed.at[index,\"in_city_distance\"] = closest_distance_to_bridge;\n",
    "    code4test_mixed.at[index,\"out_of_city_distance\"] = closest_distance_to_dest\n",
    "    code4test_mixed.at[index,\"total_over_bridge_distance\"] = closest_total_bridge_distance       "
   ]
  },
  {
   "cell_type": "code",
   "execution_count": null,
   "metadata": {},
   "outputs": [],
   "source": [
    "#states how much of the fare was contributed by ride in the city. Calculated by \n",
    "code4test_mixed[\"inCityPercentage\"] = code4test_mixed.apply(lambda x: x.in_city_distance/(x.in_city_distance+2*x.out_of_city_distance+0.0001),axis=1)"
   ]
  },
  {
   "cell_type": "code",
   "execution_count": null,
   "metadata": {},
   "outputs": [],
   "source": [
    "code4test_mixed[\"inCityTripDistance\"] = code4test_mixed.apply(lambda x: x.in_city_distance/(x.in_city_distance+x.out_of_city_distance),axis=1)\n",
    "code4test_mixed[\"outCityTripDistance\"] = code4test_mixed.apply(lambda x: x.out_of_city_distance/(x.in_city_distance+x.out_of_city_distance),axis=1)"
   ]
  },
  {
   "cell_type": "code",
   "execution_count": null,
   "metadata": {},
   "outputs": [],
   "source": [
    "code4test_mixed[\"inCityTripDistanceExtreme\"] = code4test_mixed.apply(lambda x: x.inCityPercentage*x.trip_distance,axis=1)\n",
    "code4test_mixed[\"outCityTripDistanceExtreme\"] = code4test_mixed.apply(lambda x: (1-x.inCityPercentage)*x.trip_distance,axis=1)"
   ]
  },
  {
   "cell_type": "code",
   "execution_count": null,
   "metadata": {},
   "outputs": [],
   "source": [
    "# prediction for the inner city part\n",
    "code4_mixed_inner_pred = code4_model_inner.predict(code4test_mixed[features_inner])"
   ]
  },
  {
   "cell_type": "code",
   "execution_count": null,
   "metadata": {},
   "outputs": [],
   "source": [
    "#prediction for out of city part\n",
    "code4_mixed_outer_pred = code4_model_outer.predict(code4test_mixed[features_outer])"
   ]
  },
  {
   "cell_type": "code",
   "execution_count": null,
   "metadata": {},
   "outputs": [],
   "source": [
    "#combine the results\n",
    "#round comined predictions to closest .5\n",
    "#add 2.5 inital charge which was removed before training\n",
    "code4test_mixed[\"fare_amount_prediction\"]=np.round((code4_mixed_inner_pred+code4_mixed_outer_pred)*2)/2+2.5"
   ]
  },
  {
   "cell_type": "markdown",
   "metadata": {},
   "source": [
    "Next: predict out trips."
   ]
  },
  {
   "cell_type": "code",
   "execution_count": null,
   "metadata": {},
   "outputs": [],
   "source": [
    "code4test_out_pred = code4_model_out.predict(code4test_out[[\"passenger_count\",\"trip_distance\",\"payment_type\",\"duration_seconds\"]])\n",
    "code4test_out[\"fare_amount_prediction\"]=np.round(code4test_out_pred*2)/2+2.5"
   ]
  },
  {
   "cell_type": "markdown",
   "metadata": {},
   "source": [
    "Lastly: predict trips that only were in Manhattan with double rate model (same as outer trips)"
   ]
  },
  {
   "cell_type": "code",
   "execution_count": null,
   "metadata": {},
   "outputs": [],
   "source": [
    "code4_test_wrong_pred = code4_model_out.predict(code4test_wrong[[\"passenger_count\",\"trip_distance\",\"payment_type\",\"duration_seconds\"]])\n",
    "code4test_wrong[\"fare_amount_prediction\"]=np.round(code4_test_wrong_pred*2)/2+2.5"
   ]
  },
  {
   "cell_type": "code",
   "execution_count": null,
   "metadata": {},
   "outputs": [],
   "source": [
    "#combine all code 4 dataframes with predictions\n",
    "code4test = pd.concat([code4test_mixed,code4test_out,code4test_wrong])"
   ]
  },
  {
   "cell_type": "markdown",
   "metadata": {},
   "source": [
    "# Ratecode 5 (Negotiated Fares)"
   ]
  },
  {
   "cell_type": "markdown",
   "metadata": {},
   "source": [
    "## Building the Model"
   ]
  },
  {
   "cell_type": "code",
   "execution_count": null,
   "metadata": {},
   "outputs": [],
   "source": [
    "code5data = train[train.RatecodeID == 5]\n",
    "code5test = test[test.RatecodeID == 5]"
   ]
  },
  {
   "cell_type": "code",
   "execution_count": null,
   "metadata": {},
   "outputs": [],
   "source": [
    "%%time\n",
    "features = [\"duration\",\"passenger_count\",\"trip_distance\",\"payment_type\",\"avg_speed\"]\n",
    "\n",
    "code5_model = optimisedLGM(param_grid,code5data[features],code5data[\"fare_amount\"]-2.5)"
   ]
  },
  {
   "cell_type": "markdown",
   "metadata": {},
   "source": [
    "## Prediction"
   ]
  },
  {
   "cell_type": "code",
   "execution_count": null,
   "metadata": {},
   "outputs": [],
   "source": [
    "code5prediction = np.round(code5_model.predict(code5test[features])*2)/2\n",
    "code5test = code5test.assign(fare_amount_prediction = code5prediction)"
   ]
  },
  {
   "cell_type": "markdown",
   "metadata": {},
   "source": [
    "# Recombine all predictions and save"
   ]
  },
  {
   "cell_type": "code",
   "execution_count": null,
   "metadata": {},
   "outputs": [],
   "source": [
    "testResult = pd.concat([code1test,code2test,code3test,code4test,code5test])"
   ]
  },
  {
   "cell_type": "code",
   "execution_count": null,
   "metadata": {},
   "outputs": [],
   "source": [
    "testResult.to_csv(\"C:\\\\Users\\\\Leo\\\\Dropbox\\\\Info Göttingen\\\\Practical Course Data Science\\\\Task 2\\\\data\\\\test_prediction.csv\")"
   ]
  },
  {
   "cell_type": "code",
   "execution_count": null,
   "metadata": {},
   "outputs": [],
   "source": [
    "testResult.fare_amount_prediction.describe()"
   ]
  },
  {
   "cell_type": "code",
   "execution_count": null,
   "metadata": {
    "scrolled": true
   },
   "outputs": [],
   "source": [
    "testResult.describe()"
   ]
  },
  {
   "cell_type": "code",
   "execution_count": null,
   "metadata": {},
   "outputs": [],
   "source": [
    "testResult[testResult.fare_amount_prediction == testResult.fare_amount_prediction.max()]"
   ]
  },
  {
   "cell_type": "markdown",
   "metadata": {},
   "source": [
    "# Archive"
   ]
  },
  {
   "cell_type": "markdown",
   "metadata": {},
   "source": [
    "### Ratecode 1"
   ]
  },
  {
   "cell_type": "code",
   "execution_count": null,
   "metadata": {},
   "outputs": [],
   "source": [
    "import lightgbm as lgb\n",
    "\n",
    "features = [\"duration\",\"passenger_count\",\"trip_distance\",\"payment_type\",\"avg_speed\"]\n",
    "\n",
    "code1lgb_dataset = lgb.Dataset(code1data[features], label=code1data[\"fare_amount\"])\n",
    "\n",
    "params = {}\n",
    "params['learning_rate'] = .05\n",
    "params['boosting_type'] = 'gbdt'\n",
    "params[\"objective\"] = \"regression\"\n",
    "params['min_samples_split'] = 3\n",
    "params['min_samples_leaf'] = 15\n",
    "params['max_features'] = 'sqrt'\n",
    "params['max_depth'] = 10\n",
    "params['subsample'] = 0.8\n",
    "\n",
    "code1_model = lgb.train(params, code1lgb_dataset, 300)"
   ]
  },
  {
   "cell_type": "markdown",
   "metadata": {},
   "source": [
    "### Ratecode 4"
   ]
  },
  {
   "cell_type": "code",
   "execution_count": null,
   "metadata": {},
   "outputs": [],
   "source": [
    "#train models for the in city and out of city parts\n",
    "code4_model_inner = RandomForestRegressor(random_state=1337)\n",
    "code4_model_outer = RandomForestRegressor(random_state=1338)\n",
    "\n",
    "#chose features\n",
    "features_inner = [\"passenger_count\",\"in_city_distance\",\"inCityTripDistanceExtreme\",\"inCityTripDistance\",\"payment_type\"]\n",
    "features_outer = [\"passenger_count\", \"out_of_city_distance\",\"outCityTripDistanceExtreme\",\"payment_type\"]\n",
    "\n",
    "mixed_inner_train = code4data_mixed[features_inner]\n",
    "mixed_outer_train = code4data_mixed[features_outer]\n",
    "\n",
    "#fit the models\n",
    "code4_model_inner.fit(mixed_inner_train,code4data_mixed[\"inCityFare\"])\n",
    "code4_model_outer.fit(mixed_outer_train,code4data_mixed[\"outCityFare\"]);"
   ]
  }
 ],
 "metadata": {
  "kernelspec": {
   "display_name": "Python 3",
   "language": "python",
   "name": "python3"
  },
  "language_info": {
   "codemirror_mode": {
    "name": "ipython",
    "version": 3
   },
   "file_extension": ".py",
   "mimetype": "text/x-python",
   "name": "python",
   "nbconvert_exporter": "python",
   "pygments_lexer": "ipython3",
   "version": "3.6.4"
  }
 },
 "nbformat": 4,
 "nbformat_minor": 2
}
