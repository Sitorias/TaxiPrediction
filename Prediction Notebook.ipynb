{
 "cells": [
  {
   "cell_type": "markdown",
   "metadata": {},
   "source": [
    "# Load Data (already cleaned)"
   ]
  },
  {
   "cell_type": "code",
   "execution_count": 1,
   "metadata": {},
   "outputs": [],
   "source": [
    "# Manage imports\n",
    "import numpy as np\n",
    "import pandas as pd\n",
    "import seaborn as sns  \n",
    "import matplotlib.pyplot as plt\n",
    "from sklearn.ensemble import RandomForestRegressor\n",
    "\n",
    "pd.options.mode.chained_assignment = None  # default='warn'"
   ]
  },
  {
   "cell_type": "code",
   "execution_count": 2,
   "metadata": {},
   "outputs": [
    {
     "name": "stderr",
     "output_type": "stream",
     "text": [
      "E:\\Anaconda\\lib\\site-packages\\numpy\\lib\\arraysetops.py:466: FutureWarning: elementwise comparison failed; returning scalar instead, but in the future will perform elementwise comparison\n",
      "  mask |= (ar1 == a)\n"
     ]
    }
   ],
   "source": [
    "# read data in memory\n",
    "train = pd.read_csv(\"C:\\\\Users\\\\Leo\\\\TaxiData\\\\clean_v2.csv\",index_col=0)"
   ]
  },
  {
   "cell_type": "code",
   "execution_count": 3,
   "metadata": {},
   "outputs": [],
   "source": [
    "test = pd.read_csv(\"C:\\\\Users\\\\Leo\\\\Dropbox\\\\Info Göttingen\\\\Practical Course Data Science\\\\Task 2\\\\data\\\\test_data_v2.csv\",engine=\"python\")"
   ]
  },
  {
   "cell_type": "code",
   "execution_count": 4,
   "metadata": {},
   "outputs": [
    {
     "data": {
      "text/html": [
       "<div>\n",
       "<style scoped>\n",
       "    .dataframe tbody tr th:only-of-type {\n",
       "        vertical-align: middle;\n",
       "    }\n",
       "\n",
       "    .dataframe tbody tr th {\n",
       "        vertical-align: top;\n",
       "    }\n",
       "\n",
       "    .dataframe thead th {\n",
       "        text-align: right;\n",
       "    }\n",
       "</style>\n",
       "<table border=\"1\" class=\"dataframe\">\n",
       "  <thead>\n",
       "    <tr style=\"text-align: right;\">\n",
       "      <th></th>\n",
       "      <th>tpep_pickup_datetime</th>\n",
       "      <th>tpep_dropoff_datetime</th>\n",
       "      <th>passenger_count</th>\n",
       "      <th>trip_distance</th>\n",
       "      <th>pickup_longitude</th>\n",
       "      <th>pickup_latitude</th>\n",
       "      <th>RatecodeID</th>\n",
       "      <th>dropoff_longitude</th>\n",
       "      <th>dropoff_latitude</th>\n",
       "      <th>payment_type</th>\n",
       "      <th>...</th>\n",
       "      <th>subtotal</th>\n",
       "      <th>tip_perc</th>\n",
       "      <th>pickup_hour</th>\n",
       "      <th>pickup_coord</th>\n",
       "      <th>dropoff_coord</th>\n",
       "      <th>avg_speed</th>\n",
       "      <th>holiday</th>\n",
       "      <th>overnight</th>\n",
       "      <th>day</th>\n",
       "      <th>ridesAtPickupHour</th>\n",
       "    </tr>\n",
       "  </thead>\n",
       "  <tbody>\n",
       "    <tr>\n",
       "      <th>0</th>\n",
       "      <td>2016-06-09 21:06:36</td>\n",
       "      <td>2016-06-09 21:13:08</td>\n",
       "      <td>2</td>\n",
       "      <td>0.79</td>\n",
       "      <td>-73.983360</td>\n",
       "      <td>40.760937</td>\n",
       "      <td>1</td>\n",
       "      <td>-73.977463</td>\n",
       "      <td>40.753979</td>\n",
       "      <td>2</td>\n",
       "      <td>...</td>\n",
       "      <td>7.3</td>\n",
       "      <td>0.000000</td>\n",
       "      <td>21</td>\n",
       "      <td>(40.76093673706055, -73.98336029052734)</td>\n",
       "      <td>(40.75397872924805, -73.97746276855469)</td>\n",
       "      <td>7.255102</td>\n",
       "      <td>False</td>\n",
       "      <td>True</td>\n",
       "      <td>Thursday</td>\n",
       "      <td>20311.8</td>\n",
       "    </tr>\n",
       "    <tr>\n",
       "      <th>1</th>\n",
       "      <td>2016-06-09 21:06:36</td>\n",
       "      <td>2016-06-09 21:35:11</td>\n",
       "      <td>1</td>\n",
       "      <td>5.22</td>\n",
       "      <td>-73.981720</td>\n",
       "      <td>40.736668</td>\n",
       "      <td>1</td>\n",
       "      <td>-73.981636</td>\n",
       "      <td>40.670242</td>\n",
       "      <td>1</td>\n",
       "      <td>...</td>\n",
       "      <td>23.3</td>\n",
       "      <td>0.171674</td>\n",
       "      <td>21</td>\n",
       "      <td>(40.73666763305664, -73.98171997070312)</td>\n",
       "      <td>(40.67024230957031, -73.98163604736328)</td>\n",
       "      <td>10.957434</td>\n",
       "      <td>False</td>\n",
       "      <td>True</td>\n",
       "      <td>Thursday</td>\n",
       "      <td>20311.8</td>\n",
       "    </tr>\n",
       "    <tr>\n",
       "      <th>3</th>\n",
       "      <td>2016-06-09 21:06:36</td>\n",
       "      <td>2016-06-09 21:36:10</td>\n",
       "      <td>1</td>\n",
       "      <td>7.39</td>\n",
       "      <td>-73.982361</td>\n",
       "      <td>40.773891</td>\n",
       "      <td>1</td>\n",
       "      <td>-73.929466</td>\n",
       "      <td>40.851540</td>\n",
       "      <td>1</td>\n",
       "      <td>...</td>\n",
       "      <td>27.3</td>\n",
       "      <td>0.036630</td>\n",
       "      <td>21</td>\n",
       "      <td>(40.77389144897461, -73.98236083984375)</td>\n",
       "      <td>(40.851539611816406, -73.9294662475586)</td>\n",
       "      <td>14.996618</td>\n",
       "      <td>False</td>\n",
       "      <td>True</td>\n",
       "      <td>Thursday</td>\n",
       "      <td>20311.8</td>\n",
       "    </tr>\n",
       "    <tr>\n",
       "      <th>4</th>\n",
       "      <td>2016-06-09 21:06:36</td>\n",
       "      <td>2016-06-09 21:23:23</td>\n",
       "      <td>1</td>\n",
       "      <td>3.10</td>\n",
       "      <td>-73.987106</td>\n",
       "      <td>40.733173</td>\n",
       "      <td>1</td>\n",
       "      <td>-73.985909</td>\n",
       "      <td>40.766445</td>\n",
       "      <td>1</td>\n",
       "      <td>...</td>\n",
       "      <td>14.8</td>\n",
       "      <td>0.200000</td>\n",
       "      <td>21</td>\n",
       "      <td>(40.73317337036133, -73.98710632324219)</td>\n",
       "      <td>(40.7664451599121, -73.98590850830078)</td>\n",
       "      <td>11.082423</td>\n",
       "      <td>False</td>\n",
       "      <td>True</td>\n",
       "      <td>Thursday</td>\n",
       "      <td>20311.8</td>\n",
       "    </tr>\n",
       "    <tr>\n",
       "      <th>5</th>\n",
       "      <td>2016-06-09 21:06:36</td>\n",
       "      <td>2016-06-09 21:19:21</td>\n",
       "      <td>1</td>\n",
       "      <td>2.17</td>\n",
       "      <td>-73.995201</td>\n",
       "      <td>40.739491</td>\n",
       "      <td>1</td>\n",
       "      <td>-73.993202</td>\n",
       "      <td>40.762642</td>\n",
       "      <td>1</td>\n",
       "      <td>...</td>\n",
       "      <td>11.8</td>\n",
       "      <td>0.200000</td>\n",
       "      <td>21</td>\n",
       "      <td>(40.7394905090332, -73.99520111083984)</td>\n",
       "      <td>(40.76264190673828, -73.99320220947266)</td>\n",
       "      <td>10.211765</td>\n",
       "      <td>False</td>\n",
       "      <td>True</td>\n",
       "      <td>Thursday</td>\n",
       "      <td>20311.8</td>\n",
       "    </tr>\n",
       "  </tbody>\n",
       "</table>\n",
       "<p>5 rows × 27 columns</p>\n",
       "</div>"
      ],
      "text/plain": [
       "  tpep_pickup_datetime tpep_dropoff_datetime  passenger_count  trip_distance  \\\n",
       "0  2016-06-09 21:06:36   2016-06-09 21:13:08                2           0.79   \n",
       "1  2016-06-09 21:06:36   2016-06-09 21:35:11                1           5.22   \n",
       "3  2016-06-09 21:06:36   2016-06-09 21:36:10                1           7.39   \n",
       "4  2016-06-09 21:06:36   2016-06-09 21:23:23                1           3.10   \n",
       "5  2016-06-09 21:06:36   2016-06-09 21:19:21                1           2.17   \n",
       "\n",
       "   pickup_longitude  pickup_latitude  RatecodeID  dropoff_longitude  \\\n",
       "0        -73.983360        40.760937           1         -73.977463   \n",
       "1        -73.981720        40.736668           1         -73.981636   \n",
       "3        -73.982361        40.773891           1         -73.929466   \n",
       "4        -73.987106        40.733173           1         -73.985909   \n",
       "5        -73.995201        40.739491           1         -73.993202   \n",
       "\n",
       "   dropoff_latitude  payment_type        ...          subtotal  tip_perc  \\\n",
       "0         40.753979             2        ...               7.3  0.000000   \n",
       "1         40.670242             1        ...              23.3  0.171674   \n",
       "3         40.851540             1        ...              27.3  0.036630   \n",
       "4         40.766445             1        ...              14.8  0.200000   \n",
       "5         40.762642             1        ...              11.8  0.200000   \n",
       "\n",
       "   pickup_hour                             pickup_coord  \\\n",
       "0           21  (40.76093673706055, -73.98336029052734)   \n",
       "1           21  (40.73666763305664, -73.98171997070312)   \n",
       "3           21  (40.77389144897461, -73.98236083984375)   \n",
       "4           21  (40.73317337036133, -73.98710632324219)   \n",
       "5           21   (40.7394905090332, -73.99520111083984)   \n",
       "\n",
       "                             dropoff_coord  avg_speed  holiday  overnight  \\\n",
       "0  (40.75397872924805, -73.97746276855469)   7.255102    False       True   \n",
       "1  (40.67024230957031, -73.98163604736328)  10.957434    False       True   \n",
       "3  (40.851539611816406, -73.9294662475586)  14.996618    False       True   \n",
       "4   (40.7664451599121, -73.98590850830078)  11.082423    False       True   \n",
       "5  (40.76264190673828, -73.99320220947266)  10.211765    False       True   \n",
       "\n",
       "        day  ridesAtPickupHour  \n",
       "0  Thursday            20311.8  \n",
       "1  Thursday            20311.8  \n",
       "3  Thursday            20311.8  \n",
       "4  Thursday            20311.8  \n",
       "5  Thursday            20311.8  \n",
       "\n",
       "[5 rows x 27 columns]"
      ]
     },
     "execution_count": 4,
     "metadata": {},
     "output_type": "execute_result"
    }
   ],
   "source": [
    "train.head()"
   ]
  },
  {
   "cell_type": "markdown",
   "metadata": {},
   "source": [
    "# Prepare the Test set (add features)"
   ]
  },
  {
   "cell_type": "markdown",
   "metadata": {},
   "source": [
    "## Add duration in seconds"
   ]
  },
  {
   "cell_type": "code",
   "execution_count": 5,
   "metadata": {},
   "outputs": [],
   "source": [
    "test[\"tpep_pickup_datetime\"] = pd.to_datetime(test.tpep_pickup_datetime)\n",
    "test['tpep_dropoff_datetime'] = pd.to_datetime(test.tpep_dropoff_datetime)"
   ]
  },
  {
   "cell_type": "code",
   "execution_count": 6,
   "metadata": {},
   "outputs": [],
   "source": [
    "# Get duration\n",
    "test['duration'] = pd.to_datetime(test[\"tpep_dropoff_datetime\"])-pd.to_datetime(test[\"tpep_pickup_datetime\"])"
   ]
  },
  {
   "cell_type": "code",
   "execution_count": 7,
   "metadata": {},
   "outputs": [
    {
     "name": "stdout",
     "output_type": "stream",
     "text": [
      "Wall time: 4.2 s\n"
     ]
    }
   ],
   "source": [
    "%%time\n",
    "test[\"duration\"] = test.apply(lambda x : x.duration.total_seconds(),axis=1)"
   ]
  },
  {
   "cell_type": "markdown",
   "metadata": {},
   "source": [
    "## Calculate average speed"
   ]
  },
  {
   "cell_type": "code",
   "execution_count": 8,
   "metadata": {},
   "outputs": [],
   "source": [
    "test = test.assign(avg_speed = test.trip_distance/test.duration*60*60)"
   ]
  },
  {
   "cell_type": "code",
   "execution_count": 9,
   "metadata": {
    "scrolled": true
   },
   "outputs": [
    {
     "data": {
      "text/plain": [
       "count    64000.000000\n",
       "mean        14.546904\n",
       "std          9.388043\n",
       "min          0.014337\n",
       "25%          8.153310\n",
       "50%         11.716077\n",
       "75%         18.140034\n",
       "max        176.170213\n",
       "Name: avg_speed, dtype: float64"
      ]
     },
     "execution_count": 9,
     "metadata": {},
     "output_type": "execute_result"
    }
   ],
   "source": [
    "test.avg_speed.describe()"
   ]
  },
  {
   "cell_type": "markdown",
   "metadata": {},
   "source": [
    "## Append Traffic data from train set"
   ]
  },
  {
   "cell_type": "code",
   "execution_count": 10,
   "metadata": {},
   "outputs": [],
   "source": [
    "traffic = train.groupby([\"day\"])"
   ]
  },
  {
   "cell_type": "code",
   "execution_count": 11,
   "metadata": {},
   "outputs": [
    {
     "name": "stdout",
     "output_type": "stream",
     "text": [
      "Friday ['2016-06-10' '2016-06-03' '2016-06-17' '2016-06-24'] pickup_hour\n",
      "0     14130.50\n",
      "1      9091.50\n",
      "2      5939.25\n",
      "3      4051.25\n",
      "4      3383.50\n",
      "5      3798.50\n",
      "6      8338.75\n",
      "7     13974.25\n",
      "8     17117.75\n",
      "9     16000.00\n",
      "10    14445.75\n",
      "11    14557.75\n",
      "12    15065.25\n",
      "13    14747.50\n",
      "14    15620.50\n",
      "15    14060.50\n",
      "16    12082.00\n",
      "17    15336.50\n",
      "18    18798.25\n",
      "19    19513.25\n",
      "20    17277.75\n",
      "21    18387.50\n",
      "22    19428.00\n",
      "23    14896.50\n",
      "Name: trip_distance, dtype: float64\n",
      "Monday ['2016-06-06' '2016-06-13' '2016-06-20' '2016-06-27'] pickup_hour\n",
      "0      7298.75\n",
      "1      4589.50\n",
      "2      3024.00\n",
      "3      2056.50\n",
      "4      2231.50\n",
      "5      3438.75\n",
      "6      8339.25\n",
      "7     13192.25\n",
      "8     15509.75\n",
      "9     14803.50\n",
      "10    13119.50\n",
      "11    13179.50\n",
      "12    13778.25\n",
      "13    13839.50\n",
      "14    15001.00\n",
      "15    14391.00\n",
      "16    13251.75\n",
      "17    15776.75\n",
      "18    18768.00\n",
      "19    17767.00\n",
      "20    16184.50\n",
      "21    17819.50\n",
      "22    15686.75\n",
      "23     9583.50\n",
      "Name: trip_distance, dtype: float64\n",
      "Saturday ['2016-06-04' '2016-06-11' '2016-06-18' '2016-06-25'] pickup_hour\n",
      "0     18281.25\n",
      "1     15458.25\n",
      "2     12539.50\n",
      "3      9629.50\n",
      "4      6307.50\n",
      "5      3197.25\n",
      "6      4031.50\n",
      "7      6306.25\n",
      "8      8579.50\n",
      "9     11905.50\n",
      "10    14010.00\n",
      "11    15452.50\n",
      "12    16370.00\n",
      "13    16814.50\n",
      "14    16038.50\n",
      "15    15605.50\n",
      "16    14258.50\n",
      "17    16065.25\n",
      "18    18040.50\n",
      "19    18747.50\n",
      "20    15969.75\n",
      "21    16546.25\n",
      "22    18321.25\n",
      "23    14708.75\n",
      "Name: trip_distance, dtype: float64\n",
      "Sunday ['2016-06-05' '2016-06-12' '2016-06-19' '2016-06-26'] pickup_hour\n",
      "0     18035.00\n",
      "1     15583.00\n",
      "2     12899.25\n",
      "3      9907.75\n",
      "4      6724.50\n",
      "5      3082.50\n",
      "6      3023.50\n",
      "7      4343.00\n",
      "8      6517.75\n",
      "9      9464.25\n",
      "10    12267.50\n",
      "11    14808.50\n",
      "12    14416.25\n",
      "13    14187.75\n",
      "14    14110.75\n",
      "15    13346.50\n",
      "16    12990.75\n",
      "17    13682.75\n",
      "18    15361.50\n",
      "19    14374.00\n",
      "20    12647.25\n",
      "21    13048.75\n",
      "22    12279.25\n",
      "23     8839.75\n",
      "Name: trip_distance, dtype: float64\n",
      "Thursday ['2016-06-09' '2016-06-02' '2016-06-16' '2016-06-23' '2016-06-30'] pickup_hour\n",
      "0     10555.0\n",
      "1      6176.4\n",
      "2      3738.0\n",
      "3      2446.4\n",
      "4      2304.6\n",
      "5      3332.4\n",
      "6      9037.2\n",
      "7     14876.0\n",
      "8     17304.2\n",
      "9     16276.8\n",
      "10    14755.2\n",
      "11    14974.4\n",
      "12    15446.4\n",
      "13    15329.6\n",
      "14    15806.6\n",
      "15    14210.0\n",
      "16    11833.2\n",
      "17    14930.2\n",
      "18    18623.6\n",
      "19    19416.8\n",
      "20    18191.4\n",
      "21    20311.8\n",
      "22    19279.0\n",
      "23    13565.8\n",
      "Name: trip_distance, dtype: float64\n",
      "Tuesday ['2016-06-07' '2016-06-14' '2016-06-21' '2016-06-28'] pickup_hour\n",
      "0      7746.00\n",
      "1      4243.25\n",
      "2      2535.25\n",
      "3      1696.00\n",
      "4      1770.25\n",
      "5      3042.75\n",
      "6      8565.00\n",
      "7     14056.75\n",
      "8     16615.50\n",
      "9     15650.75\n",
      "10    14339.25\n",
      "11    14460.25\n",
      "12    15096.25\n",
      "13    14940.00\n",
      "14    15543.25\n",
      "15    14618.75\n",
      "16    12600.00\n",
      "17    15197.00\n",
      "18    19188.75\n",
      "19    18448.00\n",
      "20    17051.75\n",
      "21    18992.25\n",
      "22    17597.75\n",
      "23    11477.50\n",
      "Name: trip_distance, dtype: float64\n",
      "Wednesday ['2016-06-01' '2016-06-08' '2016-06-15' '2016-06-22' '2016-06-29'] pickup_hour\n",
      "0      8865.0\n",
      "1      5299.8\n",
      "2      3109.0\n",
      "3      2092.2\n",
      "4      2051.2\n",
      "5      3191.2\n",
      "6      8391.2\n",
      "7     14265.0\n",
      "8     16983.6\n",
      "9     16051.2\n",
      "10    14542.4\n",
      "11    15121.4\n",
      "12    16054.2\n",
      "13    15969.8\n",
      "14    15718.8\n",
      "15    14014.0\n",
      "16    11633.8\n",
      "17    14509.6\n",
      "18    17984.4\n",
      "19    18525.2\n",
      "20    17642.6\n",
      "21    19898.4\n",
      "22    18586.2\n",
      "23    12369.8\n",
      "Name: trip_distance, dtype: float64\n"
     ]
    }
   ],
   "source": [
    "trafficPerDay = pd.DataFrame()\n",
    "for name, group in traffic:\n",
    "    #group by hour\n",
    "    pickupDate = group.tpep_pickup_datetime.str.split(\" \").str[0];\n",
    "    dates = pickupDate.unique()\n",
    "    \n",
    "    hours = group.groupby([\"pickup_hour\"]).trip_distance.count()\n",
    "    \n",
    "    trafficPerDay = trafficPerDay.append(pd.DataFrame({\"day\":name,\"rides\":hours/len(dates),\"pickup_hour\":hours.index},index=None))  \n",
    "    print(name,dates,hours/len(dates))"
   ]
  },
  {
   "cell_type": "code",
   "execution_count": 12,
   "metadata": {},
   "outputs": [],
   "source": [
    "test['pickup_hour'] = pd.to_datetime(test.tpep_pickup_datetime).dt.hour.astype('category')"
   ]
  },
  {
   "cell_type": "code",
   "execution_count": 13,
   "metadata": {},
   "outputs": [],
   "source": [
    "test['day'] = (pd.to_datetime(test['tpep_pickup_datetime']).dt.weekday_name)"
   ]
  },
  {
   "cell_type": "code",
   "execution_count": 14,
   "metadata": {},
   "outputs": [
    {
     "name": "stdout",
     "output_type": "stream",
     "text": [
      "Wall time: 59 s\n"
     ]
    }
   ],
   "source": [
    "%%time\n",
    "test[\"ridesAtPickupHour\"] = test.apply(lambda x: trafficPerDay[(trafficPerDay.day == x.day) & (trafficPerDay.pickup_hour==x.pickup_hour)].rides.iloc[0],axis=1 )"
   ]
  },
  {
   "cell_type": "markdown",
   "metadata": {},
   "source": [
    "## Remove some more outliers"
   ]
  },
  {
   "cell_type": "code",
   "execution_count": 15,
   "metadata": {},
   "outputs": [],
   "source": [
    "train = train[(train.avg_speed<=60)]"
   ]
  },
  {
   "cell_type": "markdown",
   "metadata": {},
   "source": [
    "## Function for parameter optimization for lightGBM"
   ]
  },
  {
   "cell_type": "code",
   "execution_count": 16,
   "metadata": {},
   "outputs": [],
   "source": [
    "#optimization parameters for lightGBM\n",
    "param_grid = {    \n",
    "    'num_leaves':[7,31,150,500,1000],\n",
    "    #\"max_depth\":[-1,10,30,51],\n",
    "    'learning_rate': [0.003],  \n",
    "    \"objective\": [\"mae\"],\n",
    "    \"bagging_fraction\" : [0.8], \n",
    "    \"feature_fraction\" : [0.8], \n",
    "    \"num_threads\" : [4],\n",
    "    \"verbose\":[-1],\n",
    "    \"boosting\":[\"gbdt\"], #rf does not work\n",
    "}\n",
    "\n"
   ]
  },
  {
   "cell_type": "code",
   "execution_count": 17,
   "metadata": {},
   "outputs": [],
   "source": [
    "from sklearn.model_selection import ParameterGrid\n",
    "from operator import itemgetter\n",
    "import lightgbm as lgb\n",
    "import timeit\n",
    "import copy\n",
    "\n",
    "def optimisedLGM(param_grid,trainData,labels,stopping=50):\n",
    "    lgb_dataset = lgb.Dataset(trainData, label=labels)\n",
    "    \n",
    "    cv_results = []\n",
    "    counter = 0\n",
    "    print(\"Total parameter combinations to run:\",len(ParameterGrid(param_grid)))\n",
    "    first_param = None;\n",
    "    for params in ParameterGrid(param_grid):\n",
    "        start_time = timeit.default_timer()\n",
    "        counter=counter+1\n",
    "        print(\"Starting run\",counter)\n",
    "        print(params)\n",
    "        validation_summary = lgb.cv(params,\n",
    "                                    lgb_dataset,\n",
    "                                    num_boost_round=10000, \n",
    "                                    nfold=3,\n",
    "                                    early_stopping_rounds=stopping,\n",
    "                                    verbose_eval=100,\n",
    "                                    stratified=False)\n",
    "\n",
    "        params[\"optimal_number_of_trees\"] = len(validation_summary[\"l1-mean\"])\n",
    "        if(first_param == None):\n",
    "            first_param=copy.deepcopy(params)\n",
    "        cv_results.append((params, validation_summary[\"l1-mean\"][-1]))    \n",
    "        #this currently is buggy. the first element of the results will always be overriden by the last\n",
    "        \n",
    "        elapsed = timeit.default_timer() - start_time\n",
    "        if (counter %1 == 0):\n",
    "            print(\"Run done, took:\",round(elapsed,2),\"s\")   \n",
    "\n",
    "    first_tuple = cv_results[0]\n",
    "    first_param\n",
    "    cv_results[0] = (first_param,first_tuple[1]) # this fixes the bug mentioned above, no idea why this is happening though\n",
    "    param_set = min(cv_results,key=itemgetter(1)) #best params, minimal mae\n",
    "    print(\"Best params:\",param_set)\n",
    "    #print(cv_results)   \n",
    "    lgb_model = lgb.train(param_set[0],lgb_dataset,param_set[0][\"optimal_number_of_trees\"])\n",
    "    return lgb_model"
   ]
  },
  {
   "cell_type": "code",
   "execution_count": 18,
   "metadata": {},
   "outputs": [],
   "source": [
    "from sklearn.model_selection import ParameterGrid\n",
    "from operator import itemgetter\n",
    "import lightgbm as lgb\n",
    "import timeit\n",
    "from sklearn.model_selection import GridSearchCV\n",
    "\n",
    "def optimisedLGM2(param_grid,trainData,labels):\n",
    "\n",
    "    estimator = lgb.LGBMRegressor(objective = \"mae\",n_jobs=2)\n",
    "    param_grid = {\n",
    "        'learning_rate': [0.05],\n",
    "        'n_estimators': [200,400,600,800],\n",
    "        'num_leaves':[7,80],\n",
    "        \"boosting_type\":[\"gbdt\"],\n",
    "        \"max_depth\":[2,63,None],    \n",
    "    }\n",
    "\n",
    "    gbm = GridSearchCV(estimator,param_grid,verbose=2,n_jobs=2)    \n",
    "\n",
    "    gbm.fit(trainData,labels)\n",
    "    print('Best parameters found by grid search are:', gbm.best_params_)\n",
    "    print(\"Best score:\",gbm.cv_results_)\n",
    "    return gbm;"
   ]
  },
  {
   "cell_type": "markdown",
   "metadata": {},
   "source": [
    "# Ratecode 1 (Standard rate)"
   ]
  },
  {
   "cell_type": "markdown",
   "metadata": {},
   "source": [
    "## Building the Model"
   ]
  },
  {
   "cell_type": "code",
   "execution_count": 19,
   "metadata": {},
   "outputs": [],
   "source": [
    "code1data = train[train.RatecodeID == 1]"
   ]
  },
  {
   "cell_type": "code",
   "execution_count": 20,
   "metadata": {},
   "outputs": [],
   "source": [
    "code1test = test[test.RatecodeID == 1]"
   ]
  },
  {
   "cell_type": "code",
   "execution_count": 21,
   "metadata": {},
   "outputs": [
    {
     "data": {
      "text/plain": [
       "Index(['id', 'VendorID', 'tpep_pickup_datetime', 'tpep_dropoff_datetime',\n",
       "       'passenger_count', 'trip_distance', 'pickup_longitude',\n",
       "       'pickup_latitude', 'RatecodeID', 'store_and_fwd_flag',\n",
       "       'dropoff_longitude', 'dropoff_latitude', 'payment_type', 'tolls_amount',\n",
       "       'improvement_surcharge', 'duration', 'avg_speed', 'pickup_hour', 'day',\n",
       "       'ridesAtPickupHour'],\n",
       "      dtype='object')"
      ]
     },
     "execution_count": 21,
     "metadata": {},
     "output_type": "execute_result"
    }
   ],
   "source": [
    "test.columns"
   ]
  },
  {
   "cell_type": "code",
   "execution_count": 22,
   "metadata": {
    "scrolled": true
   },
   "outputs": [
    {
     "name": "stdout",
     "output_type": "stream",
     "text": [
      "Wall time: 12min 14s\n"
     ]
    }
   ],
   "source": [
    "%%time\n",
    "features = [\"duration\",\"trip_distance\",\"avg_speed\",\"ridesAtPickupHour\",\"pickup_hour\"]\n",
    "#train new model\n",
    "#code1_model = optimisedLGM(param_grid,code1data[features],code1data[\"fare_amount\"])\n",
    "\n",
    "#use old params\n",
    "params = ({'bagging_fraction': 0.8, 'boosting': 'gbdt', 'feature_fraction': 0.8, 'learning_rate': 0.003, 'num_leaves': 500, \n",
    "           'num_threads': 4, 'objective': 'mae', 'verbose': -1, 'optimal_number_of_trees': 1000})\n",
    "code1_dataset = lgb.Dataset(code1data[features], label=code1data[\"fare_amount\"])\n",
    "code1_model = lgb.train(params,code1_dataset,params[\"optimal_number_of_trees\"])"
   ]
  },
  {
   "cell_type": "code",
   "execution_count": 23,
   "metadata": {},
   "outputs": [
    {
     "data": {
      "text/plain": [
       "<matplotlib.axes._subplots.AxesSubplot at 0x1660501f128>"
      ]
     },
     "execution_count": 23,
     "metadata": {},
     "output_type": "execute_result"
    },
    {
     "data": {
      "image/png": "[encoded data removed]",
      "text/plain": [
       "<matplotlib.figure.Figure at 0x166044dffd0>"
      ]
     },
     "metadata": {},
     "output_type": "display_data"
    }
   ],
   "source": [
    "lgb.plot_importance(code1_model, max_num_features=10)"
   ]
  },
  {
   "cell_type": "markdown",
   "metadata": {},
   "source": [
    "## Prediction"
   ]
  },
  {
   "cell_type": "code",
   "execution_count": 24,
   "metadata": {},
   "outputs": [
    {
     "ename": "ValueError",
     "evalue": "train and valid dataset categorical_feature do not match.",
     "output_type": "error",
     "traceback": [
      "\u001b[1;31m---------------------------------------------------------------------------\u001b[0m",
      "\u001b[1;31mValueError\u001b[0m                                Traceback (most recent call last)",
      "\u001b[1;32m<ipython-input-24-dde4d351e42a>\u001b[0m in \u001b[0;36m<module>\u001b[1;34m()\u001b[0m\n\u001b[1;32m----> 1\u001b[1;33m \u001b[0mcode1prediction\u001b[0m \u001b[1;33m=\u001b[0m \u001b[0mnp\u001b[0m\u001b[1;33m.\u001b[0m\u001b[0mround\u001b[0m\u001b[1;33m(\u001b[0m\u001b[0mcode1_model\u001b[0m\u001b[1;33m.\u001b[0m\u001b[0mpredict\u001b[0m\u001b[1;33m(\u001b[0m\u001b[0mcode1test\u001b[0m\u001b[1;33m[\u001b[0m\u001b[0mfeatures\u001b[0m\u001b[1;33m]\u001b[0m\u001b[1;33m)\u001b[0m\u001b[1;33m*\u001b[0m\u001b[1;36m2\u001b[0m\u001b[1;33m)\u001b[0m\u001b[1;33m/\u001b[0m\u001b[1;36m2\u001b[0m\u001b[1;33m\u001b[0m\u001b[0m\n\u001b[0m",
      "\u001b[1;32mE:\\Anaconda\\lib\\site-packages\\lightgbm\\basic.py\u001b[0m in \u001b[0;36mpredict\u001b[1;34m(self, data, num_iteration, raw_score, pred_leaf, pred_contrib, data_has_header, is_reshape, pred_parameter)\u001b[0m\n\u001b[0;32m   1788\u001b[0m         \u001b[1;32mif\u001b[0m \u001b[0mnum_iteration\u001b[0m \u001b[1;33m<=\u001b[0m \u001b[1;36m0\u001b[0m\u001b[1;33m:\u001b[0m\u001b[1;33m\u001b[0m\u001b[0m\n\u001b[0;32m   1789\u001b[0m             \u001b[0mnum_iteration\u001b[0m \u001b[1;33m=\u001b[0m \u001b[0mself\u001b[0m\u001b[1;33m.\u001b[0m\u001b[0mbest_iteration\u001b[0m\u001b[1;33m\u001b[0m\u001b[0m\n\u001b[1;32m-> 1790\u001b[1;33m         \u001b[1;32mreturn\u001b[0m \u001b[0mpredictor\u001b[0m\u001b[1;33m.\u001b[0m\u001b[0mpredict\u001b[0m\u001b[1;33m(\u001b[0m\u001b[0mdata\u001b[0m\u001b[1;33m,\u001b[0m \u001b[0mnum_iteration\u001b[0m\u001b[1;33m,\u001b[0m \u001b[0mraw_score\u001b[0m\u001b[1;33m,\u001b[0m \u001b[0mpred_leaf\u001b[0m\u001b[1;33m,\u001b[0m \u001b[0mpred_contrib\u001b[0m\u001b[1;33m,\u001b[0m \u001b[0mdata_has_header\u001b[0m\u001b[1;33m,\u001b[0m \u001b[0mis_reshape\u001b[0m\u001b[1;33m)\u001b[0m\u001b[1;33m\u001b[0m\u001b[0m\n\u001b[0m\u001b[0;32m   1791\u001b[0m \u001b[1;33m\u001b[0m\u001b[0m\n\u001b[0;32m   1792\u001b[0m     \u001b[1;32mdef\u001b[0m \u001b[0mget_leaf_output\u001b[0m\u001b[1;33m(\u001b[0m\u001b[0mself\u001b[0m\u001b[1;33m,\u001b[0m \u001b[0mtree_id\u001b[0m\u001b[1;33m,\u001b[0m \u001b[0mleaf_id\u001b[0m\u001b[1;33m)\u001b[0m\u001b[1;33m:\u001b[0m\u001b[1;33m\u001b[0m\u001b[0m\n",
      "\u001b[1;32mE:\\Anaconda\\lib\\site-packages\\lightgbm\\basic.py\u001b[0m in \u001b[0;36mpredict\u001b[1;34m(self, data, num_iteration, raw_score, pred_leaf, pred_contrib, data_has_header, is_reshape)\u001b[0m\n\u001b[0;32m    401\u001b[0m         \u001b[1;32mif\u001b[0m \u001b[0misinstance\u001b[0m\u001b[1;33m(\u001b[0m\u001b[0mdata\u001b[0m\u001b[1;33m,\u001b[0m \u001b[0mDataset\u001b[0m\u001b[1;33m)\u001b[0m\u001b[1;33m:\u001b[0m\u001b[1;33m\u001b[0m\u001b[0m\n\u001b[0;32m    402\u001b[0m             \u001b[1;32mraise\u001b[0m \u001b[0mTypeError\u001b[0m\u001b[1;33m(\u001b[0m\u001b[1;34m\"Cannot use Dataset instance for prediction, please use raw data instead\"\u001b[0m\u001b[1;33m)\u001b[0m\u001b[1;33m\u001b[0m\u001b[0m\n\u001b[1;32m--> 403\u001b[1;33m         \u001b[0mdata\u001b[0m \u001b[1;33m=\u001b[0m \u001b[0m_data_from_pandas\u001b[0m\u001b[1;33m(\u001b[0m\u001b[0mdata\u001b[0m\u001b[1;33m,\u001b[0m \u001b[1;32mNone\u001b[0m\u001b[1;33m,\u001b[0m \u001b[1;32mNone\u001b[0m\u001b[1;33m,\u001b[0m \u001b[0mself\u001b[0m\u001b[1;33m.\u001b[0m\u001b[0mpandas_categorical\u001b[0m\u001b[1;33m)\u001b[0m\u001b[1;33m[\u001b[0m\u001b[1;36m0\u001b[0m\u001b[1;33m]\u001b[0m\u001b[1;33m\u001b[0m\u001b[0m\n\u001b[0m\u001b[0;32m    404\u001b[0m         \u001b[0mpredict_type\u001b[0m \u001b[1;33m=\u001b[0m \u001b[0mC_API_PREDICT_NORMAL\u001b[0m\u001b[1;33m\u001b[0m\u001b[0m\n\u001b[0;32m    405\u001b[0m         \u001b[1;32mif\u001b[0m \u001b[0mraw_score\u001b[0m\u001b[1;33m:\u001b[0m\u001b[1;33m\u001b[0m\u001b[0m\n",
      "\u001b[1;32mE:\\Anaconda\\lib\\site-packages\\lightgbm\\basic.py\u001b[0m in \u001b[0;36m_data_from_pandas\u001b[1;34m(data, feature_name, categorical_feature, pandas_categorical)\u001b[0m\n\u001b[0;32m    246\u001b[0m         \u001b[1;32melse\u001b[0m\u001b[1;33m:\u001b[0m\u001b[1;33m\u001b[0m\u001b[0m\n\u001b[0;32m    247\u001b[0m             \u001b[1;32mif\u001b[0m \u001b[0mlen\u001b[0m\u001b[1;33m(\u001b[0m\u001b[0mcat_cols\u001b[0m\u001b[1;33m)\u001b[0m \u001b[1;33m!=\u001b[0m \u001b[0mlen\u001b[0m\u001b[1;33m(\u001b[0m\u001b[0mpandas_categorical\u001b[0m\u001b[1;33m)\u001b[0m\u001b[1;33m:\u001b[0m\u001b[1;33m\u001b[0m\u001b[0m\n\u001b[1;32m--> 248\u001b[1;33m                 \u001b[1;32mraise\u001b[0m \u001b[0mValueError\u001b[0m\u001b[1;33m(\u001b[0m\u001b[1;34m'train and valid dataset categorical_feature do not match.'\u001b[0m\u001b[1;33m)\u001b[0m\u001b[1;33m\u001b[0m\u001b[0m\n\u001b[0m\u001b[0;32m    249\u001b[0m             \u001b[1;32mfor\u001b[0m \u001b[0mcol\u001b[0m\u001b[1;33m,\u001b[0m \u001b[0mcategory\u001b[0m \u001b[1;32min\u001b[0m \u001b[0mzip\u001b[0m\u001b[1;33m(\u001b[0m\u001b[0mcat_cols\u001b[0m\u001b[1;33m,\u001b[0m \u001b[0mpandas_categorical\u001b[0m\u001b[1;33m)\u001b[0m\u001b[1;33m:\u001b[0m\u001b[1;33m\u001b[0m\u001b[0m\n\u001b[0;32m    250\u001b[0m                 \u001b[1;32mif\u001b[0m \u001b[0mlist\u001b[0m\u001b[1;33m(\u001b[0m\u001b[0mdata\u001b[0m\u001b[1;33m[\u001b[0m\u001b[0mcol\u001b[0m\u001b[1;33m]\u001b[0m\u001b[1;33m.\u001b[0m\u001b[0mcat\u001b[0m\u001b[1;33m.\u001b[0m\u001b[0mcategories\u001b[0m\u001b[1;33m)\u001b[0m \u001b[1;33m!=\u001b[0m \u001b[0mlist\u001b[0m\u001b[1;33m(\u001b[0m\u001b[0mcategory\u001b[0m\u001b[1;33m)\u001b[0m\u001b[1;33m:\u001b[0m\u001b[1;33m\u001b[0m\u001b[0m\n",
      "\u001b[1;31mValueError\u001b[0m: train and valid dataset categorical_feature do not match."
     ]
    }
   ],
   "source": [
    "code1prediction = np.round(code1_model.predict(code1test[features])*2)/2"
   ]
  },
  {
   "cell_type": "code",
   "execution_count": null,
   "metadata": {},
   "outputs": [],
   "source": [
    "code1prediction"
   ]
  },
  {
   "cell_type": "code",
   "execution_count": null,
   "metadata": {},
   "outputs": [],
   "source": [
    "code1test = code1test.assign(fare_amount_prediction = code1prediction)"
   ]
  },
  {
   "cell_type": "markdown",
   "metadata": {},
   "source": [
    "# Ratecode 2 (JFK)"
   ]
  },
  {
   "cell_type": "markdown",
   "metadata": {},
   "source": [
    "## Building the Model"
   ]
  },
  {
   "cell_type": "markdown",
   "metadata": {},
   "source": [
    "No model building neccessary, all rides cost 52$"
   ]
  },
  {
   "cell_type": "code",
   "execution_count": null,
   "metadata": {},
   "outputs": [],
   "source": [
    "code2data = train[train.RatecodeID == 2]\n",
    "code2test = test[test.RatecodeID == 2]"
   ]
  },
  {
   "cell_type": "markdown",
   "metadata": {},
   "source": [
    "## Prediction"
   ]
  },
  {
   "cell_type": "code",
   "execution_count": null,
   "metadata": {},
   "outputs": [],
   "source": [
    "code2test[\"fare_amount_prediction\"] = 52.0"
   ]
  },
  {
   "cell_type": "markdown",
   "metadata": {},
   "source": [
    "# Ratecode 3 (Newark)"
   ]
  },
  {
   "cell_type": "markdown",
   "metadata": {},
   "source": [
    "## Building the Model"
   ]
  },
  {
   "cell_type": "code",
   "execution_count": 25,
   "metadata": {},
   "outputs": [],
   "source": [
    "code3data = train[train.RatecodeID == 3]"
   ]
  },
  {
   "cell_type": "code",
   "execution_count": 26,
   "metadata": {},
   "outputs": [],
   "source": [
    "code3test = test[test.RatecodeID == 3]"
   ]
  },
  {
   "cell_type": "code",
   "execution_count": 27,
   "metadata": {
    "scrolled": true
   },
   "outputs": [
    {
     "name": "stdout",
     "output_type": "stream",
     "text": [
      "Total parameter combinations to run: 5\n",
      "Starting run 1\n",
      "{'bagging_fraction': 0.8, 'boosting': 'gbdt', 'feature_fraction': 0.8, 'learning_rate': 0.003, 'num_leaves': 7, 'num_threads': 4, 'objective': 'mae', 'verbose': -1}\n",
      "[100]\tcv_agg's l1: 6.32118 + 0.0898515\n",
      "[200]\tcv_agg's l1: 5.40236 + 0.0864623\n",
      "[300]\tcv_agg's l1: 4.70288 + 0.0851631\n",
      "[400]\tcv_agg's l1: 4.13374 + 0.0931556\n",
      "[500]\tcv_agg's l1: 3.65932 + 0.0830107\n",
      "[600]\tcv_agg's l1: 3.26608 + 0.0768116\n",
      "[700]\tcv_agg's l1: 2.94976 + 0.0755124\n",
      "[800]\tcv_agg's l1: 2.68184 + 0.0713168\n",
      "[900]\tcv_agg's l1: 2.44556 + 0.0654861\n",
      "[1000]\tcv_agg's l1: 2.24491 + 0.0598136\n",
      "[1100]\tcv_agg's l1: 2.03455 + 0.0574693\n",
      "[1200]\tcv_agg's l1: 1.76629 + 0.0478241\n",
      "[1300]\tcv_agg's l1: 1.53938 + 0.0341861\n",
      "[1400]\tcv_agg's l1: 1.36948 + 0.0256537\n",
      "[1500]\tcv_agg's l1: 1.23755 + 0.0152891\n",
      "[1600]\tcv_agg's l1: 1.14492 + 0.0124463\n",
      "[1700]\tcv_agg's l1: 1.07562 + 0.0117453\n",
      "[1800]\tcv_agg's l1: 1.02571 + 0.011244\n",
      "[1900]\tcv_agg's l1: 0.988005 + 0.0113142\n",
      "[2000]\tcv_agg's l1: 0.960461 + 0.0102205\n",
      "[2100]\tcv_agg's l1: 0.938815 + 0.0083727\n",
      "[2200]\tcv_agg's l1: 0.923111 + 0.00798901\n",
      "[2300]\tcv_agg's l1: 0.910792 + 0.00743812\n",
      "[2400]\tcv_agg's l1: 0.901058 + 0.00644426\n",
      "[2500]\tcv_agg's l1: 0.893044 + 0.00607535\n",
      "[2600]\tcv_agg's l1: 0.886399 + 0.00589964\n",
      "[2700]\tcv_agg's l1: 0.881431 + 0.00526317\n",
      "[2800]\tcv_agg's l1: 0.877245 + 0.00519934\n",
      "[2900]\tcv_agg's l1: 0.874156 + 0.0049441\n",
      "[3000]\tcv_agg's l1: 0.871323 + 0.00496621\n",
      "[3100]\tcv_agg's l1: 0.868917 + 0.00476239\n",
      "[3200]\tcv_agg's l1: 0.866232 + 0.00476793\n",
      "[3300]\tcv_agg's l1: 0.86398 + 0.00482605\n",
      "[3400]\tcv_agg's l1: 0.862045 + 0.00498264\n",
      "[3500]\tcv_agg's l1: 0.860553 + 0.00523216\n",
      "[3600]\tcv_agg's l1: 0.858777 + 0.00538123\n",
      "[3700]\tcv_agg's l1: 0.857037 + 0.00573619\n",
      "[3800]\tcv_agg's l1: 0.855465 + 0.00611755\n",
      "[3900]\tcv_agg's l1: 0.853723 + 0.00625558\n",
      "[4000]\tcv_agg's l1: 0.851968 + 0.00608694\n",
      "[4100]\tcv_agg's l1: 0.850075 + 0.00604441\n",
      "[4200]\tcv_agg's l1: 0.848266 + 0.00670733\n",
      "[4300]\tcv_agg's l1: 0.846356 + 0.00717899\n",
      "[4400]\tcv_agg's l1: 0.844438 + 0.00764453\n",
      "[4500]\tcv_agg's l1: 0.842879 + 0.00806209\n",
      "[4600]\tcv_agg's l1: 0.841071 + 0.00826252\n",
      "[4700]\tcv_agg's l1: 0.839516 + 0.00784049\n",
      "[4800]\tcv_agg's l1: 0.837533 + 0.00748684\n",
      "[4900]\tcv_agg's l1: 0.835623 + 0.00731897\n",
      "[5000]\tcv_agg's l1: 0.834102 + 0.00734964\n",
      "[5100]\tcv_agg's l1: 0.832707 + 0.00731862\n",
      "[5200]\tcv_agg's l1: 0.831503 + 0.00730872\n",
      "[5300]\tcv_agg's l1: 0.830577 + 0.00717695\n",
      "[5400]\tcv_agg's l1: 0.829566 + 0.00714164\n",
      "[5500]\tcv_agg's l1: 0.828609 + 0.0071433\n",
      "[5600]\tcv_agg's l1: 0.82767 + 0.00720499\n",
      "[5700]\tcv_agg's l1: 0.826711 + 0.00742808\n",
      "[5800]\tcv_agg's l1: 0.825896 + 0.00758459\n",
      "[5900]\tcv_agg's l1: 0.825012 + 0.00769469\n",
      "[6000]\tcv_agg's l1: 0.824406 + 0.0078491\n",
      "[6100]\tcv_agg's l1: 0.823788 + 0.00795835\n",
      "[6200]\tcv_agg's l1: 0.822934 + 0.00798103\n",
      "[6300]\tcv_agg's l1: 0.821932 + 0.0076396\n",
      "[6400]\tcv_agg's l1: 0.821153 + 0.00736936\n",
      "[6500]\tcv_agg's l1: 0.820288 + 0.00729601\n",
      "[6600]\tcv_agg's l1: 0.819319 + 0.00712365\n",
      "[6700]\tcv_agg's l1: 0.818624 + 0.00700607\n",
      "[6800]\tcv_agg's l1: 0.818075 + 0.0071399\n",
      "[6900]\tcv_agg's l1: 0.817529 + 0.00711834\n",
      "[7000]\tcv_agg's l1: 0.817002 + 0.00714991\n",
      "[7100]\tcv_agg's l1: 0.816162 + 0.00673603\n",
      "[7200]\tcv_agg's l1: 0.815662 + 0.00676835\n",
      "[7300]\tcv_agg's l1: 0.815062 + 0.0067383\n",
      "[7400]\tcv_agg's l1: 0.814407 + 0.00688559\n",
      "[7500]\tcv_agg's l1: 0.813728 + 0.00679026\n",
      "[7600]\tcv_agg's l1: 0.813202 + 0.00658779\n",
      "[7700]\tcv_agg's l1: 0.812845 + 0.00643587\n",
      "[7800]\tcv_agg's l1: 0.812453 + 0.006268\n",
      "[7900]\tcv_agg's l1: 0.811965 + 0.00614083\n",
      "[8000]\tcv_agg's l1: 0.81143 + 0.00608649\n",
      "[8100]\tcv_agg's l1: 0.810938 + 0.00600592\n",
      "[8200]\tcv_agg's l1: 0.810297 + 0.00602011\n",
      "[8300]\tcv_agg's l1: 0.809754 + 0.00604008\n",
      "[8400]\tcv_agg's l1: 0.809213 + 0.00599176\n",
      "[8500]\tcv_agg's l1: 0.808901 + 0.00583004\n",
      "[8600]\tcv_agg's l1: 0.808553 + 0.00570727\n",
      "[8700]\tcv_agg's l1: 0.808404 + 0.00574913\n",
      "[8800]\tcv_agg's l1: 0.808045 + 0.00553756\n",
      "[8900]\tcv_agg's l1: 0.807837 + 0.0054025\n",
      "[9000]\tcv_agg's l1: 0.807383 + 0.00519607\n",
      "[9100]\tcv_agg's l1: 0.807019 + 0.00505912\n",
      "[9200]\tcv_agg's l1: 0.806678 + 0.00507644\n",
      "[9300]\tcv_agg's l1: 0.806201 + 0.00507946\n",
      "[9400]\tcv_agg's l1: 0.805823 + 0.00500638\n",
      "[9500]\tcv_agg's l1: 0.805406 + 0.00490173\n",
      "[9600]\tcv_agg's l1: 0.805038 + 0.00497839\n",
      "[9700]\tcv_agg's l1: 0.804609 + 0.00495732\n",
      "[9800]\tcv_agg's l1: 0.804181 + 0.00494013\n",
      "[9900]\tcv_agg's l1: 0.803729 + 0.00490631\n",
      "[10000]\tcv_agg's l1: 0.803322 + 0.00481064\n",
      "Run done, took: 12.45 s\n",
      "Starting run 2\n",
      "{'bagging_fraction': 0.8, 'boosting': 'gbdt', 'feature_fraction': 0.8, 'learning_rate': 0.003, 'num_leaves': 31, 'num_threads': 4, 'objective': 'mae', 'verbose': -1}\n",
      "[100]\tcv_agg's l1: 6.07703 + 0.0901791\n",
      "[200]\tcv_agg's l1: 4.95482 + 0.0882004\n",
      "[300]\tcv_agg's l1: 4.09582 + 0.0908436\n",
      "[400]\tcv_agg's l1: 3.43862 + 0.0868115\n",
      "[500]\tcv_agg's l1: 2.92365 + 0.0809586\n",
      "[600]\tcv_agg's l1: 2.51483 + 0.0745397\n",
      "[700]\tcv_agg's l1: 2.17524 + 0.0663867\n",
      "[800]\tcv_agg's l1: 1.91331 + 0.0560212\n",
      "[900]\tcv_agg's l1: 1.6962 + 0.0485067\n",
      "[1000]\tcv_agg's l1: 1.46479 + 0.0380891\n",
      "[1100]\tcv_agg's l1: 1.28037 + 0.0237545\n",
      "[1200]\tcv_agg's l1: 1.15117 + 0.0157001\n",
      "[1300]\tcv_agg's l1: 1.05961 + 0.0114506\n",
      "[1400]\tcv_agg's l1: 0.993397 + 0.010373\n",
      "[1500]\tcv_agg's l1: 0.94538 + 0.0102943\n",
      "[1600]\tcv_agg's l1: 0.911268 + 0.0105281\n",
      "[1700]\tcv_agg's l1: 0.886583 + 0.00933777\n",
      "[1800]\tcv_agg's l1: 0.868059 + 0.00917265\n",
      "[1900]\tcv_agg's l1: 0.853241 + 0.00860006\n",
      "[2000]\tcv_agg's l1: 0.84201 + 0.00742334\n",
      "[2100]\tcv_agg's l1: 0.833943 + 0.00627011\n",
      "[2200]\tcv_agg's l1: 0.827491 + 0.0049237\n",
      "[2300]\tcv_agg's l1: 0.82222 + 0.00403093\n",
      "[2400]\tcv_agg's l1: 0.817357 + 0.00424114\n",
      "[2500]\tcv_agg's l1: 0.813063 + 0.00498631\n",
      "[2600]\tcv_agg's l1: 0.809305 + 0.00559606\n",
      "[2700]\tcv_agg's l1: 0.805512 + 0.005703\n",
      "[2800]\tcv_agg's l1: 0.80244 + 0.00609268\n",
      "[2900]\tcv_agg's l1: 0.799281 + 0.00572466\n",
      "[3000]\tcv_agg's l1: 0.797075 + 0.00552929\n",
      "[3100]\tcv_agg's l1: 0.795493 + 0.00542716\n",
      "[3200]\tcv_agg's l1: 0.794382 + 0.00540099\n",
      "[3300]\tcv_agg's l1: 0.79342 + 0.00522139\n",
      "[3400]\tcv_agg's l1: 0.792429 + 0.00514579\n",
      "[3500]\tcv_agg's l1: 0.791662 + 0.00528856\n",
      "[3600]\tcv_agg's l1: 0.791005 + 0.00541248\n",
      "[3700]\tcv_agg's l1: 0.79023 + 0.00560743\n",
      "[3800]\tcv_agg's l1: 0.789642 + 0.00578307\n",
      "[3900]\tcv_agg's l1: 0.789204 + 0.0059357\n",
      "[4000]\tcv_agg's l1: 0.788696 + 0.00601449\n",
      "[4100]\tcv_agg's l1: 0.788248 + 0.00604536\n",
      "[4200]\tcv_agg's l1: 0.787845 + 0.00612032\n",
      "[4300]\tcv_agg's l1: 0.78743 + 0.00622647\n",
      "[4400]\tcv_agg's l1: 0.787053 + 0.00626624\n",
      "[4500]\tcv_agg's l1: 0.786801 + 0.00631543\n",
      "[4600]\tcv_agg's l1: 0.786346 + 0.00646695\n",
      "[4700]\tcv_agg's l1: 0.785946 + 0.00667296\n",
      "[4800]\tcv_agg's l1: 0.785485 + 0.00673285\n",
      "[4900]\tcv_agg's l1: 0.785099 + 0.00671485\n",
      "[5000]\tcv_agg's l1: 0.784776 + 0.00672523\n",
      "[5100]\tcv_agg's l1: 0.784468 + 0.00670026\n",
      "[5200]\tcv_agg's l1: 0.784162 + 0.00658354\n",
      "[5300]\tcv_agg's l1: 0.784062 + 0.00663418\n",
      "[5400]\tcv_agg's l1: 0.783904 + 0.00663769\n",
      "[5500]\tcv_agg's l1: 0.783738 + 0.00655252\n",
      "[5600]\tcv_agg's l1: 0.783542 + 0.00648555\n",
      "[5700]\tcv_agg's l1: 0.783422 + 0.00646634\n",
      "[5800]\tcv_agg's l1: 0.783262 + 0.00646922\n",
      "[5900]\tcv_agg's l1: 0.783117 + 0.00637807\n",
      "[6000]\tcv_agg's l1: 0.78301 + 0.00629907\n",
      "[6100]\tcv_agg's l1: 0.782897 + 0.00625335\n",
      "[6200]\tcv_agg's l1: 0.782721 + 0.00618346\n",
      "[6300]\tcv_agg's l1: 0.78262 + 0.00615004\n",
      "[6400]\tcv_agg's l1: 0.782504 + 0.00612842\n",
      "[6500]\tcv_agg's l1: 0.78236 + 0.00609959\n",
      "[6600]\tcv_agg's l1: 0.78224 + 0.00610516\n",
      "[6700]\tcv_agg's l1: 0.782124 + 0.00613594\n",
      "[6800]\tcv_agg's l1: 0.781986 + 0.00615848\n",
      "[6900]\tcv_agg's l1: 0.781889 + 0.00616577\n",
      "[7000]\tcv_agg's l1: 0.781764 + 0.00614951\n",
      "[7100]\tcv_agg's l1: 0.78167 + 0.0061498\n",
      "[7200]\tcv_agg's l1: 0.781579 + 0.00618642\n",
      "[7300]\tcv_agg's l1: 0.781466 + 0.00620028\n",
      "[7400]\tcv_agg's l1: 0.781368 + 0.00622121\n",
      "[7500]\tcv_agg's l1: 0.781231 + 0.0062408\n",
      "[7600]\tcv_agg's l1: 0.781141 + 0.00630715\n",
      "[7700]\tcv_agg's l1: 0.781033 + 0.00632531\n",
      "[7800]\tcv_agg's l1: 0.780908 + 0.00634303\n",
      "[7900]\tcv_agg's l1: 0.780878 + 0.00636226\n",
      "[8000]\tcv_agg's l1: 0.780812 + 0.00637362\n",
      "[8100]\tcv_agg's l1: 0.780762 + 0.00635987\n",
      "[8200]\tcv_agg's l1: 0.78072 + 0.00636612\n",
      "[8300]\tcv_agg's l1: 0.78064 + 0.00634662\n",
      "[8400]\tcv_agg's l1: 0.780616 + 0.00635143\n",
      "[8500]\tcv_agg's l1: 0.780547 + 0.00635749\n",
      "[8600]\tcv_agg's l1: 0.780436 + 0.00639088\n",
      "[8700]\tcv_agg's l1: 0.780366 + 0.00640239\n",
      "[8800]\tcv_agg's l1: 0.780307 + 0.00644016\n"
     ]
    },
    {
     "name": "stdout",
     "output_type": "stream",
     "text": [
      "[8900]\tcv_agg's l1: 0.78027 + 0.0064382\n",
      "[9000]\tcv_agg's l1: 0.780241 + 0.00643898\n",
      "[9100]\tcv_agg's l1: 0.780179 + 0.00645239\n",
      "[9200]\tcv_agg's l1: 0.780117 + 0.00646624\n",
      "[9300]\tcv_agg's l1: 0.780069 + 0.00648258\n",
      "[9400]\tcv_agg's l1: 0.78003 + 0.00650132\n",
      "[9500]\tcv_agg's l1: 0.779977 + 0.00649629\n",
      "[9600]\tcv_agg's l1: 0.779907 + 0.00652489\n",
      "[9700]\tcv_agg's l1: 0.779879 + 0.00655474\n",
      "[9800]\tcv_agg's l1: 0.779817 + 0.00651437\n",
      "Run done, took: 24.07 s\n",
      "Starting run 3\n",
      "{'bagging_fraction': 0.8, 'boosting': 'gbdt', 'feature_fraction': 0.8, 'learning_rate': 0.003, 'num_leaves': 150, 'num_threads': 4, 'objective': 'mae', 'verbose': -1}\n",
      "[100]\tcv_agg's l1: 5.98777 + 0.0801301\n",
      "[200]\tcv_agg's l1: 4.81673 + 0.0853936\n",
      "[300]\tcv_agg's l1: 3.9269 + 0.0822157\n",
      "[400]\tcv_agg's l1: 3.24834 + 0.0786918\n",
      "[500]\tcv_agg's l1: 2.72237 + 0.0742806\n",
      "[600]\tcv_agg's l1: 2.31075 + 0.0651006\n",
      "[700]\tcv_agg's l1: 1.98672 + 0.0549708\n",
      "[800]\tcv_agg's l1: 1.71895 + 0.0415745\n",
      "[900]\tcv_agg's l1: 1.46382 + 0.0301264\n",
      "[1000]\tcv_agg's l1: 1.26991 + 0.017163\n",
      "[1100]\tcv_agg's l1: 1.1361 + 0.0125564\n",
      "[1200]\tcv_agg's l1: 1.04299 + 0.00974851\n",
      "[1300]\tcv_agg's l1: 0.977095 + 0.00800635\n",
      "[1400]\tcv_agg's l1: 0.931341 + 0.00814361\n",
      "[1500]\tcv_agg's l1: 0.897961 + 0.00769975\n",
      "[1600]\tcv_agg's l1: 0.874619 + 0.0073785\n",
      "[1700]\tcv_agg's l1: 0.858119 + 0.00660042\n",
      "[1800]\tcv_agg's l1: 0.845707 + 0.006282\n",
      "[1900]\tcv_agg's l1: 0.836213 + 0.00603115\n",
      "[2000]\tcv_agg's l1: 0.828102 + 0.00590449\n",
      "[2100]\tcv_agg's l1: 0.822092 + 0.00637012\n",
      "[2200]\tcv_agg's l1: 0.816793 + 0.00701691\n",
      "[2300]\tcv_agg's l1: 0.812248 + 0.00780118\n",
      "[2400]\tcv_agg's l1: 0.808566 + 0.00785667\n",
      "[2500]\tcv_agg's l1: 0.805735 + 0.00778665\n",
      "[2600]\tcv_agg's l1: 0.803415 + 0.00745983\n",
      "[2700]\tcv_agg's l1: 0.801421 + 0.00713755\n",
      "[2800]\tcv_agg's l1: 0.799961 + 0.00711574\n",
      "[2900]\tcv_agg's l1: 0.79876 + 0.00702358\n",
      "[3000]\tcv_agg's l1: 0.797852 + 0.00668208\n",
      "[3100]\tcv_agg's l1: 0.797145 + 0.00621379\n",
      "[3200]\tcv_agg's l1: 0.796569 + 0.00602965\n",
      "[3300]\tcv_agg's l1: 0.795974 + 0.00571341\n",
      "[3400]\tcv_agg's l1: 0.795457 + 0.00532305\n",
      "[3500]\tcv_agg's l1: 0.794874 + 0.00491097\n",
      "[3600]\tcv_agg's l1: 0.794484 + 0.00467138\n",
      "[3700]\tcv_agg's l1: 0.794009 + 0.00421322\n",
      "[3800]\tcv_agg's l1: 0.793779 + 0.00394991\n",
      "[3900]\tcv_agg's l1: 0.793586 + 0.00372982\n",
      "[4000]\tcv_agg's l1: 0.793437 + 0.00351762\n",
      "Run done, took: 27.85 s\n",
      "Starting run 4\n",
      "{'bagging_fraction': 0.8, 'boosting': 'gbdt', 'feature_fraction': 0.8, 'learning_rate': 0.003, 'num_leaves': 500, 'num_threads': 4, 'objective': 'mae', 'verbose': -1}\n",
      "[100]\tcv_agg's l1: 5.98638 + 0.0797186\n",
      "[200]\tcv_agg's l1: 4.78329 + 0.0814349\n",
      "[300]\tcv_agg's l1: 3.8677 + 0.0761041\n",
      "[400]\tcv_agg's l1: 3.15959 + 0.0675508\n",
      "[500]\tcv_agg's l1: 2.61117 + 0.0597704\n",
      "[600]\tcv_agg's l1: 2.18717 + 0.056429\n",
      "[700]\tcv_agg's l1: 1.84719 + 0.0512384\n",
      "[800]\tcv_agg's l1: 1.54565 + 0.039728\n",
      "[900]\tcv_agg's l1: 1.32321 + 0.0258092\n",
      "[1000]\tcv_agg's l1: 1.16968 + 0.016553\n",
      "[1100]\tcv_agg's l1: 1.06747 + 0.0125026\n",
      "[1200]\tcv_agg's l1: 0.997076 + 0.0105014\n",
      "[1300]\tcv_agg's l1: 0.947568 + 0.00936701\n",
      "[1400]\tcv_agg's l1: 0.911936 + 0.00882849\n",
      "[1500]\tcv_agg's l1: 0.887199 + 0.00803347\n",
      "[1600]\tcv_agg's l1: 0.86915 + 0.0076053\n",
      "[1700]\tcv_agg's l1: 0.855562 + 0.00648848\n",
      "[1800]\tcv_agg's l1: 0.845486 + 0.0049823\n",
      "[1900]\tcv_agg's l1: 0.837998 + 0.00375507\n",
      "[2000]\tcv_agg's l1: 0.831601 + 0.00257706\n",
      "[2100]\tcv_agg's l1: 0.826225 + 0.002605\n",
      "[2200]\tcv_agg's l1: 0.821741 + 0.00391903\n",
      "[2300]\tcv_agg's l1: 0.818384 + 0.00394817\n",
      "[2400]\tcv_agg's l1: 0.814893 + 0.00332779\n",
      "[2500]\tcv_agg's l1: 0.812454 + 0.00292743\n",
      "[2600]\tcv_agg's l1: 0.81061 + 0.00265101\n",
      "[2700]\tcv_agg's l1: 0.809484 + 0.00243899\n",
      "[2800]\tcv_agg's l1: 0.808606 + 0.0021747\n",
      "[2900]\tcv_agg's l1: 0.807988 + 0.00200679\n",
      "[3000]\tcv_agg's l1: 0.807666 + 0.00195915\n",
      "[3100]\tcv_agg's l1: 0.807467 + 0.00196307\n",
      "[3200]\tcv_agg's l1: 0.80705 + 0.00213204\n",
      "[3300]\tcv_agg's l1: 0.806824 + 0.00226535\n",
      "[3400]\tcv_agg's l1: 0.806629 + 0.00226814\n",
      "[3500]\tcv_agg's l1: 0.806538 + 0.00226572\n",
      "[3600]\tcv_agg's l1: 0.806453 + 0.00233976\n",
      "Run done, took: 55.68 s\n",
      "Starting run 5\n",
      "{'bagging_fraction': 0.8, 'boosting': 'gbdt', 'feature_fraction': 0.8, 'learning_rate': 0.003, 'num_leaves': 1000, 'num_threads': 4, 'objective': 'mae', 'verbose': -1}\n",
      "[100]\tcv_agg's l1: 5.98638 + 0.0797186\n",
      "[200]\tcv_agg's l1: 4.78329 + 0.0814349\n",
      "[300]\tcv_agg's l1: 3.8677 + 0.0761041\n",
      "[400]\tcv_agg's l1: 3.15959 + 0.0675508\n",
      "[500]\tcv_agg's l1: 2.61117 + 0.0597704\n",
      "[600]\tcv_agg's l1: 2.18717 + 0.056429\n",
      "[700]\tcv_agg's l1: 1.84719 + 0.0512384\n",
      "[800]\tcv_agg's l1: 1.54565 + 0.039728\n",
      "[900]\tcv_agg's l1: 1.32321 + 0.0258092\n",
      "[1000]\tcv_agg's l1: 1.16968 + 0.016553\n",
      "[1100]\tcv_agg's l1: 1.06747 + 0.0125026\n",
      "[1200]\tcv_agg's l1: 0.997076 + 0.0105014\n",
      "[1300]\tcv_agg's l1: 0.947568 + 0.00936701\n",
      "[1400]\tcv_agg's l1: 0.911936 + 0.00882849\n",
      "[1500]\tcv_agg's l1: 0.887199 + 0.00803347\n",
      "[1600]\tcv_agg's l1: 0.86915 + 0.0076053\n",
      "[1700]\tcv_agg's l1: 0.855562 + 0.00648848\n",
      "[1800]\tcv_agg's l1: 0.845486 + 0.0049823\n",
      "[1900]\tcv_agg's l1: 0.837998 + 0.00375507\n",
      "[2000]\tcv_agg's l1: 0.831601 + 0.00257706\n",
      "[2100]\tcv_agg's l1: 0.826225 + 0.002605\n",
      "[2200]\tcv_agg's l1: 0.821741 + 0.00391903\n",
      "[2300]\tcv_agg's l1: 0.818384 + 0.00394817\n",
      "[2400]\tcv_agg's l1: 0.814893 + 0.00332779\n",
      "[2500]\tcv_agg's l1: 0.812454 + 0.00292743\n",
      "[2600]\tcv_agg's l1: 0.81061 + 0.00265101\n",
      "[2700]\tcv_agg's l1: 0.809484 + 0.00243899\n",
      "[2800]\tcv_agg's l1: 0.808606 + 0.0021747\n",
      "[2900]\tcv_agg's l1: 0.807988 + 0.00200679\n",
      "[3000]\tcv_agg's l1: 0.807666 + 0.00195915\n",
      "[3100]\tcv_agg's l1: 0.807467 + 0.00196307\n",
      "[3200]\tcv_agg's l1: 0.80705 + 0.00213204\n",
      "[3300]\tcv_agg's l1: 0.806824 + 0.00226535\n",
      "[3400]\tcv_agg's l1: 0.806629 + 0.00226814\n",
      "[3500]\tcv_agg's l1: 0.806538 + 0.00226572\n",
      "[3600]\tcv_agg's l1: 0.806453 + 0.00233976\n",
      "Run done, took: 65.83 s\n",
      "Best params: ({'bagging_fraction': 0.8, 'boosting': 'gbdt', 'feature_fraction': 0.8, 'learning_rate': 0.003, 'num_leaves': 31, 'num_threads': 4, 'objective': 'mae', 'verbose': -1, 'optimal_number_of_trees': 9835}, 0.7797898397324862)\n",
      "Wall time: 3min 14s\n"
     ]
    }
   ],
   "source": [
    "%%time\n",
    "features = [\"duration\",\"trip_distance\",\"avg_speed\",\"ridesAtPickupHour\",\"pickup_hour\"]\n",
    "code3_model = optimisedLGM(param_grid,code3data[features],code3data[\"fare_amount\"]-20)"
   ]
  },
  {
   "cell_type": "markdown",
   "metadata": {},
   "source": [
    "## Prediction"
   ]
  },
  {
   "cell_type": "code",
   "execution_count": 28,
   "metadata": {},
   "outputs": [
    {
     "ename": "ValueError",
     "evalue": "train and valid dataset categorical_feature do not match.",
     "output_type": "error",
     "traceback": [
      "\u001b[1;31m---------------------------------------------------------------------------\u001b[0m",
      "\u001b[1;31mValueError\u001b[0m                                Traceback (most recent call last)",
      "\u001b[1;32m<ipython-input-28-373d4b87f074>\u001b[0m in \u001b[0;36m<module>\u001b[1;34m()\u001b[0m\n\u001b[1;32m----> 1\u001b[1;33m \u001b[0mcode3prediction\u001b[0m \u001b[1;33m=\u001b[0m \u001b[0mnp\u001b[0m\u001b[1;33m.\u001b[0m\u001b[0mround\u001b[0m\u001b[1;33m(\u001b[0m\u001b[0mcode3_model\u001b[0m\u001b[1;33m.\u001b[0m\u001b[0mpredict\u001b[0m\u001b[1;33m(\u001b[0m\u001b[0mcode3test\u001b[0m\u001b[1;33m[\u001b[0m\u001b[0mfeatures\u001b[0m\u001b[1;33m]\u001b[0m\u001b[1;33m)\u001b[0m\u001b[1;33m*\u001b[0m\u001b[1;36m2\u001b[0m\u001b[1;33m)\u001b[0m\u001b[1;33m/\u001b[0m\u001b[1;36m2\u001b[0m\u001b[1;33m+\u001b[0m\u001b[1;36m20\u001b[0m\u001b[1;33m\u001b[0m\u001b[0m\n\u001b[0m\u001b[0;32m      2\u001b[0m \u001b[0mcode3test\u001b[0m \u001b[1;33m=\u001b[0m \u001b[0mcode3test\u001b[0m\u001b[1;33m.\u001b[0m\u001b[0massign\u001b[0m\u001b[1;33m(\u001b[0m\u001b[0mfare_amount_prediction\u001b[0m \u001b[1;33m=\u001b[0m \u001b[0mcode3prediction\u001b[0m\u001b[1;33m)\u001b[0m\u001b[1;33m\u001b[0m\u001b[0m\n",
      "\u001b[1;32mE:\\Anaconda\\lib\\site-packages\\lightgbm\\basic.py\u001b[0m in \u001b[0;36mpredict\u001b[1;34m(self, data, num_iteration, raw_score, pred_leaf, pred_contrib, data_has_header, is_reshape, pred_parameter)\u001b[0m\n\u001b[0;32m   1788\u001b[0m         \u001b[1;32mif\u001b[0m \u001b[0mnum_iteration\u001b[0m \u001b[1;33m<=\u001b[0m \u001b[1;36m0\u001b[0m\u001b[1;33m:\u001b[0m\u001b[1;33m\u001b[0m\u001b[0m\n\u001b[0;32m   1789\u001b[0m             \u001b[0mnum_iteration\u001b[0m \u001b[1;33m=\u001b[0m \u001b[0mself\u001b[0m\u001b[1;33m.\u001b[0m\u001b[0mbest_iteration\u001b[0m\u001b[1;33m\u001b[0m\u001b[0m\n\u001b[1;32m-> 1790\u001b[1;33m         \u001b[1;32mreturn\u001b[0m \u001b[0mpredictor\u001b[0m\u001b[1;33m.\u001b[0m\u001b[0mpredict\u001b[0m\u001b[1;33m(\u001b[0m\u001b[0mdata\u001b[0m\u001b[1;33m,\u001b[0m \u001b[0mnum_iteration\u001b[0m\u001b[1;33m,\u001b[0m \u001b[0mraw_score\u001b[0m\u001b[1;33m,\u001b[0m \u001b[0mpred_leaf\u001b[0m\u001b[1;33m,\u001b[0m \u001b[0mpred_contrib\u001b[0m\u001b[1;33m,\u001b[0m \u001b[0mdata_has_header\u001b[0m\u001b[1;33m,\u001b[0m \u001b[0mis_reshape\u001b[0m\u001b[1;33m)\u001b[0m\u001b[1;33m\u001b[0m\u001b[0m\n\u001b[0m\u001b[0;32m   1791\u001b[0m \u001b[1;33m\u001b[0m\u001b[0m\n\u001b[0;32m   1792\u001b[0m     \u001b[1;32mdef\u001b[0m \u001b[0mget_leaf_output\u001b[0m\u001b[1;33m(\u001b[0m\u001b[0mself\u001b[0m\u001b[1;33m,\u001b[0m \u001b[0mtree_id\u001b[0m\u001b[1;33m,\u001b[0m \u001b[0mleaf_id\u001b[0m\u001b[1;33m)\u001b[0m\u001b[1;33m:\u001b[0m\u001b[1;33m\u001b[0m\u001b[0m\n",
      "\u001b[1;32mE:\\Anaconda\\lib\\site-packages\\lightgbm\\basic.py\u001b[0m in \u001b[0;36mpredict\u001b[1;34m(self, data, num_iteration, raw_score, pred_leaf, pred_contrib, data_has_header, is_reshape)\u001b[0m\n\u001b[0;32m    401\u001b[0m         \u001b[1;32mif\u001b[0m \u001b[0misinstance\u001b[0m\u001b[1;33m(\u001b[0m\u001b[0mdata\u001b[0m\u001b[1;33m,\u001b[0m \u001b[0mDataset\u001b[0m\u001b[1;33m)\u001b[0m\u001b[1;33m:\u001b[0m\u001b[1;33m\u001b[0m\u001b[0m\n\u001b[0;32m    402\u001b[0m             \u001b[1;32mraise\u001b[0m \u001b[0mTypeError\u001b[0m\u001b[1;33m(\u001b[0m\u001b[1;34m\"Cannot use Dataset instance for prediction, please use raw data instead\"\u001b[0m\u001b[1;33m)\u001b[0m\u001b[1;33m\u001b[0m\u001b[0m\n\u001b[1;32m--> 403\u001b[1;33m         \u001b[0mdata\u001b[0m \u001b[1;33m=\u001b[0m \u001b[0m_data_from_pandas\u001b[0m\u001b[1;33m(\u001b[0m\u001b[0mdata\u001b[0m\u001b[1;33m,\u001b[0m \u001b[1;32mNone\u001b[0m\u001b[1;33m,\u001b[0m \u001b[1;32mNone\u001b[0m\u001b[1;33m,\u001b[0m \u001b[0mself\u001b[0m\u001b[1;33m.\u001b[0m\u001b[0mpandas_categorical\u001b[0m\u001b[1;33m)\u001b[0m\u001b[1;33m[\u001b[0m\u001b[1;36m0\u001b[0m\u001b[1;33m]\u001b[0m\u001b[1;33m\u001b[0m\u001b[0m\n\u001b[0m\u001b[0;32m    404\u001b[0m         \u001b[0mpredict_type\u001b[0m \u001b[1;33m=\u001b[0m \u001b[0mC_API_PREDICT_NORMAL\u001b[0m\u001b[1;33m\u001b[0m\u001b[0m\n\u001b[0;32m    405\u001b[0m         \u001b[1;32mif\u001b[0m \u001b[0mraw_score\u001b[0m\u001b[1;33m:\u001b[0m\u001b[1;33m\u001b[0m\u001b[0m\n",
      "\u001b[1;32mE:\\Anaconda\\lib\\site-packages\\lightgbm\\basic.py\u001b[0m in \u001b[0;36m_data_from_pandas\u001b[1;34m(data, feature_name, categorical_feature, pandas_categorical)\u001b[0m\n\u001b[0;32m    246\u001b[0m         \u001b[1;32melse\u001b[0m\u001b[1;33m:\u001b[0m\u001b[1;33m\u001b[0m\u001b[0m\n\u001b[0;32m    247\u001b[0m             \u001b[1;32mif\u001b[0m \u001b[0mlen\u001b[0m\u001b[1;33m(\u001b[0m\u001b[0mcat_cols\u001b[0m\u001b[1;33m)\u001b[0m \u001b[1;33m!=\u001b[0m \u001b[0mlen\u001b[0m\u001b[1;33m(\u001b[0m\u001b[0mpandas_categorical\u001b[0m\u001b[1;33m)\u001b[0m\u001b[1;33m:\u001b[0m\u001b[1;33m\u001b[0m\u001b[0m\n\u001b[1;32m--> 248\u001b[1;33m                 \u001b[1;32mraise\u001b[0m \u001b[0mValueError\u001b[0m\u001b[1;33m(\u001b[0m\u001b[1;34m'train and valid dataset categorical_feature do not match.'\u001b[0m\u001b[1;33m)\u001b[0m\u001b[1;33m\u001b[0m\u001b[0m\n\u001b[0m\u001b[0;32m    249\u001b[0m             \u001b[1;32mfor\u001b[0m \u001b[0mcol\u001b[0m\u001b[1;33m,\u001b[0m \u001b[0mcategory\u001b[0m \u001b[1;32min\u001b[0m \u001b[0mzip\u001b[0m\u001b[1;33m(\u001b[0m\u001b[0mcat_cols\u001b[0m\u001b[1;33m,\u001b[0m \u001b[0mpandas_categorical\u001b[0m\u001b[1;33m)\u001b[0m\u001b[1;33m:\u001b[0m\u001b[1;33m\u001b[0m\u001b[0m\n\u001b[0;32m    250\u001b[0m                 \u001b[1;32mif\u001b[0m \u001b[0mlist\u001b[0m\u001b[1;33m(\u001b[0m\u001b[0mdata\u001b[0m\u001b[1;33m[\u001b[0m\u001b[0mcol\u001b[0m\u001b[1;33m]\u001b[0m\u001b[1;33m.\u001b[0m\u001b[0mcat\u001b[0m\u001b[1;33m.\u001b[0m\u001b[0mcategories\u001b[0m\u001b[1;33m)\u001b[0m \u001b[1;33m!=\u001b[0m \u001b[0mlist\u001b[0m\u001b[1;33m(\u001b[0m\u001b[0mcategory\u001b[0m\u001b[1;33m)\u001b[0m\u001b[1;33m:\u001b[0m\u001b[1;33m\u001b[0m\u001b[0m\n",
      "\u001b[1;31mValueError\u001b[0m: train and valid dataset categorical_feature do not match."
     ]
    }
   ],
   "source": [
    "code3prediction = np.round(code3_model.predict(code3test[features])*2)/2+20\n",
    "code3test = code3test.assign(fare_amount_prediction = code3prediction)"
   ]
  },
  {
   "cell_type": "markdown",
   "metadata": {},
   "source": [
    "# Ratecode 4 (Nassau or Westchester)"
   ]
  },
  {
   "cell_type": "markdown",
   "metadata": {},
   "source": [
    "## Building the Model"
   ]
  },
  {
   "cell_type": "code",
   "execution_count": null,
   "metadata": {},
   "outputs": [],
   "source": [
    "code4data = train[train.RatecodeID == 4]\n",
    "code4test = test[test.RatecodeID == 4]\n",
    "np.shape(code4test)"
   ]
  },
  {
   "cell_type": "code",
   "execution_count": null,
   "metadata": {},
   "outputs": [],
   "source": [
    "#shapely can be installed via anaconda -> environments\n",
    "from shapely.geometry import Point\n",
    "from shapely.geometry.polygon import Polygon"
   ]
  },
  {
   "cell_type": "code",
   "execution_count": null,
   "metadata": {},
   "outputs": [],
   "source": [
    "# returns whether the point given is in the area given\n",
    "def inArea(polygon,lat,long):\n",
    "    point = Point(lat,long);\n",
    "    poly = Polygon(polygon)\n",
    "    return poly.contains(point)    "
   ]
  },
  {
   "cell_type": "code",
   "execution_count": null,
   "metadata": {},
   "outputs": [],
   "source": [
    "#cords for a polygon around manhatten, manually set via google maps\n",
    "manhattan_cords = [(40.882207, -73.933869), #1\n",
    "         (40.872343, -73.908292), #2\n",
    "         (40.836117, -73.933011), #3\n",
    "         (40.804680, -73.931123), #4\n",
    "         (40.798833, -73.918591), #5\n",
    "         (40.739289, -73.967000), #6\n",
    "         (40.707155, -73.973866), #7\n",
    "         (40.699217, -74.021416), #8\n",
    "         (40.759316, -74.012662)] #9"
   ]
  },
  {
   "cell_type": "code",
   "execution_count": null,
   "metadata": {},
   "outputs": [],
   "source": [
    "#apply to train set\n",
    "code4data[\"endsInManhattan\"] = code4data.apply(lambda x : inArea(manhattan_cords,x[\"dropoff_latitude\"],x[\"dropoff_longitude\"]),axis=1)\n",
    "code4data[\"startsInManhattan\"] = code4data.apply(lambda x : inArea(manhattan_cords,x[\"pickup_latitude\"],x[\"pickup_longitude\"]),axis=1)"
   ]
  },
  {
   "cell_type": "code",
   "execution_count": null,
   "metadata": {},
   "outputs": [],
   "source": [
    "from geopy.distance import geodesic\n",
    "from geopy.distance import great_circle"
   ]
  },
  {
   "cell_type": "code",
   "execution_count": null,
   "metadata": {},
   "outputs": [],
   "source": [
    "#calculate air line distance for train data set\n",
    "code4data[\"airlineDistance\"] = code4data.apply(lambda x: geodesic((x[\"pickup_latitude\"],x[\"pickup_longitude\"]),\n",
    "                                                                  (x[\"dropoff_latitude\"],x[\"dropoff_longitude\"])).miles,axis=1)"
   ]
  },
  {
   "cell_type": "code",
   "execution_count": null,
   "metadata": {
    "scrolled": true
   },
   "outputs": [],
   "source": [
    "code4data.airlineDistance.describe()"
   ]
  },
  {
   "cell_type": "code",
   "execution_count": null,
   "metadata": {
    "scrolled": true
   },
   "outputs": [],
   "source": [
    "np.shape(code4data[[\"airlineDistance\",\"trip_distance\"]])"
   ]
  },
  {
   "cell_type": "code",
   "execution_count": null,
   "metadata": {},
   "outputs": [],
   "source": [
    "np.shape(code4data[code4data.trip_distance<code4data.airlineDistance])"
   ]
  },
  {
   "cell_type": "code",
   "execution_count": null,
   "metadata": {},
   "outputs": [],
   "source": [
    "code4data = code4data[code4data.trip_distance >= code4data.airlineDistance]"
   ]
  },
  {
   "cell_type": "code",
   "execution_count": null,
   "metadata": {},
   "outputs": [],
   "source": [
    "ax = sns.regplot(code4data.trip_distance,code4data.airlineDistance)\n",
    "ax.plot([0,0],[40,40], linewidth=2,color=\"red\")"
   ]
  },
  {
   "cell_type": "code",
   "execution_count": null,
   "metadata": {},
   "outputs": [],
   "source": [
    "# all bridges and tunnels to/from manhattan, bridges marked with ! are highways or tunnels and more likely to be used by taxis\n",
    "bridges = [ (40.877720, -73.922362), # 0 henry hudson bridge !\n",
    "          (40.873648, -73.911075), # 1 broadway !\n",
    "          (40.862840, -73.914986), # 2 university heights bridge\n",
    "          (40.846674, -73.927806), # 3 washington bridge - close to v\n",
    "          (40.845522, -73.928256), # 4 alexander hamilton bridge !\n",
    "          (40.828062, -73.933873), # 5 macombs dam bridge\n",
    "          (40.819489, -73.933058), # 6 145th st bridge - close to v\n",
    "          (40.814081, -73.933187), # 7 madison avenue bridge\n",
    "          (40.807591, -73.932399), # 8 third avenue bridge\n",
    "           (40.803516, -73.928818),# 9 willis ave bridge\n",
    "           (40.800368, -73.927835), # 10 robert f kennedy bridge !\n",
    "           (40.756681, -73.954185), # 11 ed koch queensboro bridge !\n",
    "           (40.745106, -73.964063), # 12 queens midtown tunnel !\n",
    "           (40.713407, -73.972299), # 13 williamsburg bridge\n",
    "           (40.707095, -73.990500), # 14 manhattan bridge\n",
    "           (40.705972, -73.996851), # 15 brooklyn bridge !\n",
    "           (40.701161, -74.015692), # 16 Hugh l Carey Tunnel\n",
    "           (40.727487, -74.020880), # 17 holland tunnel\n",
    "           (40.763370, -74.010028), # 18 lincoln tunnel !\n",
    "           (40.851644, -73.952118), # 19 george washington bridge !\n",
    "          ]"
   ]
  },
  {
   "cell_type": "code",
   "execution_count": null,
   "metadata": {},
   "outputs": [],
   "source": [
    "# try to find out which bridge is used in a trip \n",
    "# assumption: the bridge is used that minimizes the pickup-bridge-dropoff distance (air-line distance)\n",
    "counter = 1\n",
    "for index, row in code4data.iterrows():\n",
    "    # 4 options:\n",
    "    # starts in city, ends in city --> should not have ratecode 4 -> outlier, ignore\n",
    "    # starts in city, ends out of city -> standard trip\n",
    "    # starts out of city, ends out of city -> no calculations to be done here, use double rate for whole trip\n",
    "    # starts out of city, ends in city -> reverse standard trip\n",
    "    startP = (row[\"pickup_latitude\"],row[\"pickup_longitude\"])\n",
    "    endP = (row[\"dropoff_latitude\"],row[\"dropoff_longitude\"])\n",
    "    \n",
    "    if(row.startsInManhattan and row.endsInManhattan):\n",
    "        #print(\"Outlier found, index\",index)\n",
    "        continue\n",
    "    elif (not row.startsInManhattan and not row.endsInManhattan):\n",
    "        #print(\"Complete out of city trip, index\",index)\n",
    "        code4data.at[index,\"Bridge\"] = None;\n",
    "        code4data.at[index,\"in_city_distance\"] = 0;\n",
    "        code4data.at[index,\"out_of_city_distance\"] = geodesic(startP, endP).miles\n",
    "        code4data.at[index,\"total_over_bridge_distance\"] = geodesic(startP, endP).miles  \n",
    "        continue\n",
    "    elif (not row.startsInManhattan and  row.endsInManhattan): # reverse trip\n",
    "        temp = startP # here we swap start and endpoints so its similar to a standard trip\n",
    "        startP = endP\n",
    "        endP = temp\n",
    "    \n",
    "    #find closest bridge\n",
    "    closest_bridge_index = -1\n",
    "    closest_total_bridge_distance = float('inf')\n",
    "    for i in range(len(bridges)):\n",
    "        distance_to_bridge = geodesic(startP, bridges[i]).miles\n",
    "        distance_to_dest =  geodesic(bridges[i],endP).miles\n",
    "        total = distance_to_bridge + distance_to_dest\n",
    "        if(total < closest_total_bridge_distance):\n",
    "            closest_total_bridge_distance = total\n",
    "            closest_bridge_index = i\n",
    "            closest_distance_to_bridge = distance_to_bridge\n",
    "            closest_distance_to_dest = distance_to_dest\n",
    "            \n",
    "    #print(\"Route {} travels over bridge/tunnel {} (to bridge: {:0.2f}, to dest: {:0.2f}, total: {:0.2f}, trip_distance : {:0.2f})\".format(\n",
    "    #    counter, closest_bridge_index,closest_distance_to_bridge,closest_distance_to_dest,closest_total_bridge_distance,totalDistance))\n",
    "    counter = counter + 1\n",
    "    \n",
    "    code4data.at[index,\"Bridge\"] = closest_bridge_index;\n",
    "    code4data.at[index,\"in_city_distance\"] = closest_distance_to_bridge;\n",
    "    code4data.at[index,\"out_of_city_distance\"] = closest_distance_to_dest\n",
    "    code4data.at[index,\"total_over_bridge_distance\"] = closest_total_bridge_distance       "
   ]
  },
  {
   "cell_type": "code",
   "execution_count": null,
   "metadata": {},
   "outputs": [],
   "source": [
    "#states how much of the fare was contributed by ride in the city. Calculated by \n",
    "code4data[\"inCityPercentage\"] = code4data.apply(lambda x: x.in_city_distance/(x.in_city_distance+2*x.out_of_city_distance+0.0001),axis=1)"
   ]
  },
  {
   "cell_type": "code",
   "execution_count": null,
   "metadata": {},
   "outputs": [],
   "source": [
    "#2.5 were subtracted from fare amount (inital charge)\n",
    "code4data[\"inCityFare\"] = code4data.apply(lambda x: x.inCityPercentage*(x.fare_amount-2.5),axis=1)\n",
    "code4data[\"outCityFare\"] = code4data.apply(lambda x: (1-x.inCityPercentage)*(x.fare_amount-2.5),axis=1)"
   ]
  },
  {
   "cell_type": "code",
   "execution_count": null,
   "metadata": {},
   "outputs": [],
   "source": [
    "code4data[\"inCityTripDistanceExtreme\"] = code4data.apply(lambda x: x.inCityPercentage*x.trip_distance,axis=1)\n",
    "code4data[\"outCityTripDistanceExtreme\"] = code4data.apply(lambda x: (1-x.inCityPercentage)*x.trip_distance,axis=1)"
   ]
  },
  {
   "cell_type": "code",
   "execution_count": null,
   "metadata": {},
   "outputs": [],
   "source": [
    "code4data[\"inCityTripDistance\"] = code4data.apply(lambda x: x.in_city_distance/(x.in_city_distance+x.out_of_city_distance),axis=1)\n",
    "code4data[\"outCityTripDistance\"] = code4data.apply(lambda x: x.out_of_city_distance/(x.in_city_distance+x.out_of_city_distance),axis=1)"
   ]
  },
  {
   "cell_type": "code",
   "execution_count": null,
   "metadata": {},
   "outputs": [],
   "source": [
    "code4data[\"in_city_ratio\"] = code4data.apply(lambda x: x.in_city_distance/(x.in_city_distance+x.out_of_city_distance),axis=1)"
   ]
  },
  {
   "cell_type": "markdown",
   "metadata": {},
   "source": [
    "Now we have to train three models. Two for trips that start in the city and end out of it and vice versa, thus using both the standard and the doubled rate (one model for each). The predctions are then add up. The third model is for trips that are completly out of the city and therefore only use the doubled rate. Here more information can be used from the dataset, because we do not have to make assumptions on where the trip was split."
   ]
  },
  {
   "cell_type": "code",
   "execution_count": null,
   "metadata": {},
   "outputs": [],
   "source": [
    "code4data_mixed = code4data[code4data.startsInManhattan ^ code4data.endsInManhattan] # trips that used a bridge -> entered/left manhattan\n",
    "np.shape(code4data_mixed)"
   ]
  },
  {
   "cell_type": "code",
   "execution_count": null,
   "metadata": {},
   "outputs": [],
   "source": [
    "code4data_out = code4data[(code4data.startsInManhattan==False) & (code4data.endsInManhattan==False)] # trips that not used a bridge -> never were in Manhattan\n",
    "np.shape(code4data_out)"
   ]
  },
  {
   "cell_type": "code",
   "execution_count": null,
   "metadata": {
    "scrolled": true
   },
   "outputs": [],
   "source": [
    "%%time\n",
    "#chose features\n",
    "features_inner = [\"inCityTripDistance\",\"trip_distance\",\"duration\",\"ridesAtPickupHour\",\"avg_speed\",\"in_city_ratio\"]\n",
    "features_outer = [\"outCityTripDistance\",\"trip_distance\",\"duration\",\"ridesAtPickupHour\",\"avg_speed\",\"in_city_ratio\"]\n",
    "\n",
    "mixed_inner_train = code4data_mixed[features_inner]\n",
    "mixed_outer_train = code4data_mixed[features_outer]\n",
    "\n",
    "code4_model_inner = optimisedLGM(param_grid,mixed_inner_train,code4data_mixed[\"inCityFare\"])"
   ]
  },
  {
   "cell_type": "code",
   "execution_count": null,
   "metadata": {
    "scrolled": true
   },
   "outputs": [],
   "source": [
    "%%time\n",
    "code4_model_outer = optimisedLGM(param_grid,mixed_outer_train,code4data_mixed[\"outCityFare\"])"
   ]
  },
  {
   "cell_type": "code",
   "execution_count": null,
   "metadata": {
    "scrolled": true
   },
   "outputs": [],
   "source": [
    "%%time\n",
    "features_combined = [\"inCityTripDistance\",\"outCityTripDistance\",\"in_city_ratio\",\"duration\",\"trip_distance\",\"ridesAtPickupHour\",\"avg_speed\"]\n",
    "code4_model_combined = optimisedLGM(param_grid,code4data_mixed[features_combined],code4data_mixed[\"fare_amount\"]-2.5)"
   ]
  },
  {
   "cell_type": "code",
   "execution_count": null,
   "metadata": {},
   "outputs": [],
   "source": [
    "lgb.plot_importance(code4_model_combined, max_num_features=10)"
   ]
  },
  {
   "cell_type": "code",
   "execution_count": null,
   "metadata": {
    "scrolled": true
   },
   "outputs": [],
   "source": [
    "features_all = [\"trip_distance\",\"duration\",\"avg_speed\",\"ridesAtPickupHour\"]\n",
    "code4_model_all = optimisedLGM(param_grid,code4data[features_all],code4data[\"fare_amount\"]-2.5)"
   ]
  },
  {
   "cell_type": "code",
   "execution_count": null,
   "metadata": {},
   "outputs": [],
   "source": [
    "lgb.plot_importance(code4_model_all, max_num_features=10)"
   ]
  },
  {
   "cell_type": "markdown",
   "metadata": {},
   "source": [
    "Next: model for outer trips.\n"
   ]
  },
  {
   "cell_type": "code",
   "execution_count": null,
   "metadata": {
    "scrolled": true
   },
   "outputs": [],
   "source": [
    "%%time\n",
    "# make train set\n",
    "features = [\"trip_distance\",\"duration\",\"ridesAtPickupHour\",\"avg_speed\"]\n",
    "\n",
    "code4_model_out = optimisedLGM(param_grid,code4data_out[features],code4data_out[\"fare_amount\"]-2.5)"
   ]
  },
  {
   "cell_type": "code",
   "execution_count": null,
   "metadata": {},
   "outputs": [],
   "source": [
    "lgb.plot_importance(code4_model_out, max_num_features=10)"
   ]
  },
  {
   "cell_type": "markdown",
   "metadata": {},
   "source": [
    "## Prediction"
   ]
  },
  {
   "cell_type": "code",
   "execution_count": null,
   "metadata": {},
   "outputs": [],
   "source": [
    "#apply to test set\n",
    "code4test[\"endsInManhattan\"] = code4test.apply(lambda x : inArea(manhattan_cords,x[\"dropoff_latitude\"],x[\"dropoff_longitude\"]),axis=1)\n",
    "code4test[\"startsInManhattan\"] = code4test.apply(lambda x : inArea(manhattan_cords,x[\"pickup_latitude\"],x[\"pickup_longitude\"]),axis=1)"
   ]
  },
  {
   "cell_type": "markdown",
   "metadata": {},
   "source": [
    "We have four possible trip patterns:\n",
    "    1. starts in city, ends in city --> should not have ratecode 4 -> outlier, ignore\n",
    "    2. starts in city, ends out of city -> standard trip\n",
    "    3. starts out of city, ends out of city -> no calculations to be done here, use double rate for whole trip\n",
    "    4. starts out of city, ends in city -> reverse standard trip"
   ]
  },
  {
   "cell_type": "code",
   "execution_count": null,
   "metadata": {},
   "outputs": [],
   "source": [
    "np.shape(code4test)"
   ]
  },
  {
   "cell_type": "code",
   "execution_count": null,
   "metadata": {},
   "outputs": [],
   "source": [
    "#option1: trips that start and end in manhattan, these should not have this ratecode\n",
    "code4test_wrong = code4test[(code4test.startsInManhattan & code4test.endsInManhattan)]\n",
    "np.shape(code4test_wrong)"
   ]
  },
  {
   "cell_type": "code",
   "execution_count": null,
   "metadata": {},
   "outputs": [],
   "source": [
    "#option2 & option 4: \n",
    "code4test_mixed = code4test[code4test.startsInManhattan ^ code4test.endsInManhattan] \n",
    "np.shape(code4test_mixed)"
   ]
  },
  {
   "cell_type": "code",
   "execution_count": null,
   "metadata": {},
   "outputs": [],
   "source": [
    "#option 3:\n",
    "code4test_out = code4test[(code4test.startsInManhattan==False) & (code4test.endsInManhattan==False)] \n",
    "np.shape(code4test_out)"
   ]
  },
  {
   "cell_type": "code",
   "execution_count": null,
   "metadata": {},
   "outputs": [],
   "source": [
    "# try to find out which bridge is used in a trip \n",
    "# assumption: the bridge is used that minimizes the pickup-bridge-dropoff distance (air-line distance)\n",
    "counter = 1\n",
    "for index, row in code4test_mixed.iterrows():\n",
    "    \n",
    "    startP = (row[\"pickup_latitude\"],row[\"pickup_longitude\"])\n",
    "    endP = (row[\"dropoff_latitude\"],row[\"dropoff_longitude\"])\n",
    "    \n",
    "    if(row.startsInManhattan and row.endsInManhattan):\n",
    "        #print(\"Outlier found, index\",index)\n",
    "        continue\n",
    "    elif (not row.startsInManhattan and not row.endsInManhattan):\n",
    "        #print(\"Complete out of city trip, index\",index)\n",
    "        code4test_mixed.at[index,\"bridge\"] = None;\n",
    "        code4test_mixed.at[index,\"in_city_distance\"] = 0;\n",
    "        code4test_mixed.at[index,\"out_of_city_distance\"] = geodesic(startP, endP).miles\n",
    "        code4test_mixed.at[index,\"total_over_bridge_distance\"] = geodesic(startP, endP).miles  \n",
    "        continue\n",
    "    elif (not row.startsInManhattan and  row.endsInManhattan): # reverse trip\n",
    "        temp = startP # here we swap start and endpoints so its similar to a standard trip\n",
    "        startP = endP\n",
    "        endP = temp\n",
    "    \n",
    "    #find closest bridge\n",
    "    closest_bridge_index = -1\n",
    "    closest_total_bridge_distance = float('inf')\n",
    "    for i in range(len(bridges)):\n",
    "        distance_to_bridge = geodesic(startP, bridges[i]).miles\n",
    "        distance_to_dest =  geodesic(bridges[i],endP).miles\n",
    "        total = distance_to_bridge + distance_to_dest\n",
    "        if(total < closest_total_bridge_distance):\n",
    "            closest_total_bridge_distance = total\n",
    "            closest_bridge_index = i\n",
    "            closest_distance_to_bridge = distance_to_bridge\n",
    "            closest_distance_to_dest = distance_to_dest\n",
    "            \n",
    "    #print(\"Route {} travels over bridge/tunnel {} (to bridge: {:0.2f}, to dest: {:0.2f}, total: {:0.2f}, trip_distance : {:0.2f})\".format(\n",
    "    #    counter, closest_bridge_index,closest_distance_to_bridge,closest_distance_to_dest,closest_total_bridge_distance,totalDistance))\n",
    "    counter = counter + 1\n",
    "    \n",
    "    code4test_mixed.at[index,\"bridge\"] = closest_bridge_index;\n",
    "    code4test_mixed.at[index,\"in_city_distance\"] = closest_distance_to_bridge;\n",
    "    code4test_mixed.at[index,\"out_of_city_distance\"] = closest_distance_to_dest\n",
    "    code4test_mixed.at[index,\"total_over_bridge_distance\"] = closest_total_bridge_distance       "
   ]
  },
  {
   "cell_type": "code",
   "execution_count": null,
   "metadata": {},
   "outputs": [],
   "source": [
    "#states how much of the fare was contributed by ride in the city. Calculated by \n",
    "code4test_mixed[\"inCityPercentage\"] = code4test_mixed.apply(lambda x: x.in_city_distance/(x.in_city_distance+2*x.out_of_city_distance+0.0001),axis=1)"
   ]
  },
  {
   "cell_type": "code",
   "execution_count": null,
   "metadata": {},
   "outputs": [],
   "source": [
    "code4test_mixed[\"inCityTripDistance\"] = code4test_mixed.apply(lambda x: x.in_city_distance/(x.in_city_distance+x.out_of_city_distance),axis=1)\n",
    "code4test_mixed[\"outCityTripDistance\"] = code4test_mixed.apply(lambda x: x.out_of_city_distance/(x.in_city_distance+x.out_of_city_distance),axis=1)"
   ]
  },
  {
   "cell_type": "code",
   "execution_count": null,
   "metadata": {},
   "outputs": [],
   "source": [
    "code4test_mixed[\"inCityTripDistanceExtreme\"] = code4test_mixed.apply(lambda x: x.inCityPercentage*x.trip_distance,axis=1)\n",
    "code4test_mixed[\"outCityTripDistanceExtreme\"] = code4test_mixed.apply(lambda x: (1-x.inCityPercentage)*x.trip_distance,axis=1)"
   ]
  },
  {
   "cell_type": "code",
   "execution_count": null,
   "metadata": {},
   "outputs": [],
   "source": [
    "code4test_mixed[\"in_city_ratio\"] = code4test_mixed.apply(lambda x: x.in_city_distance/(x.in_city_distance+x.out_of_city_distance),axis=1)"
   ]
  },
  {
   "cell_type": "code",
   "execution_count": null,
   "metadata": {},
   "outputs": [],
   "source": [
    "# prediction for the inner city part\n",
    "code4_mixed_inner_pred = code4_model_inner.predict(code4test_mixed[features_inner])"
   ]
  },
  {
   "cell_type": "code",
   "execution_count": null,
   "metadata": {},
   "outputs": [],
   "source": [
    "#prediction for out of city part\n",
    "code4_mixed_outer_pred = code4_model_outer.predict(code4test_mixed[features_outer])"
   ]
  },
  {
   "cell_type": "code",
   "execution_count": null,
   "metadata": {},
   "outputs": [],
   "source": [
    "code4_mixed_combined_pred = code4_model_combined.predict(code4test_mixed[features_combined])"
   ]
  },
  {
   "cell_type": "code",
   "execution_count": null,
   "metadata": {},
   "outputs": [],
   "source": [
    "#combine the results\n",
    "#round comined predictions to closest .5\n",
    "#add 2.5 inital charge which was removed before training\n",
    "code4test_mixed[\"fare_amount_prediction\"]=np.round((code4_mixed_inner_pred+code4_mixed_outer_pred)*2)/2+2.5"
   ]
  },
  {
   "cell_type": "code",
   "execution_count": null,
   "metadata": {},
   "outputs": [],
   "source": [
    "code4test_mixed[\"fare_amount_prediction\"].describe()"
   ]
  },
  {
   "cell_type": "code",
   "execution_count": null,
   "metadata": {},
   "outputs": [],
   "source": [
    "code4test_mixed[\"fare_amount_prediction\"]=np.round(code4_mixed_combined_pred*2)/2+2.5"
   ]
  },
  {
   "cell_type": "code",
   "execution_count": null,
   "metadata": {},
   "outputs": [],
   "source": [
    "code4test_mixed[\"fare_amount_prediction\"].describe()"
   ]
  },
  {
   "cell_type": "markdown",
   "metadata": {},
   "source": [
    "Next: predict out trips."
   ]
  },
  {
   "cell_type": "code",
   "execution_count": null,
   "metadata": {},
   "outputs": [],
   "source": [
    "code4test_out_pred = code4_model_out.predict(code4test_out[features])\n",
    "code4test_out[\"fare_amount_prediction\"]=np.round(code4test_out_pred*2)/2+2.5"
   ]
  },
  {
   "cell_type": "markdown",
   "metadata": {},
   "source": [
    "Lastly: predict trips that only were in Manhattan with double rate model (same as outer trips)"
   ]
  },
  {
   "cell_type": "code",
   "execution_count": null,
   "metadata": {},
   "outputs": [],
   "source": [
    "code4_test_wrong_pred = code4_model_out.predict(code4test_wrong[features])\n",
    "code4test_wrong[\"fare_amount_prediction\"]=np.round(code4_test_wrong_pred*2)/2+2.5"
   ]
  },
  {
   "cell_type": "code",
   "execution_count": null,
   "metadata": {},
   "outputs": [],
   "source": [
    "#combine all code 4 dataframes with predictions\n",
    "code4test = pd.concat([code4test_mixed,code4test_out,code4test_wrong])"
   ]
  },
  {
   "cell_type": "markdown",
   "metadata": {},
   "source": [
    "# Ratecode 5 (Negotiated Fares)"
   ]
  },
  {
   "cell_type": "markdown",
   "metadata": {},
   "source": [
    "## Building the Model"
   ]
  },
  {
   "cell_type": "code",
   "execution_count": null,
   "metadata": {},
   "outputs": [],
   "source": [
    "code5data = train[train.RatecodeID == 5]\n",
    "code5data = code5data.assign(fare_to_distance_ratio = code5data.fare_amount/code5data.trip_distance)\n",
    "code5data = code5data[(code5data.fare_to_distance_ratio<20) & (code5data.fare_to_distance_ratio>=1)]\n",
    "code5test = test[test.RatecodeID == 5]\n"
   ]
  },
  {
   "cell_type": "code",
   "execution_count": null,
   "metadata": {},
   "outputs": [],
   "source": [
    "code5data.tolls_amount.describe()"
   ]
  },
  {
   "cell_type": "code",
   "execution_count": null,
   "metadata": {},
   "outputs": [],
   "source": [
    "from sklearn import preprocessing\n",
    "le = preprocessing.LabelEncoder()\n",
    "le.fit(code5data.day)"
   ]
  },
  {
   "cell_type": "code",
   "execution_count": null,
   "metadata": {},
   "outputs": [],
   "source": [
    "list(le.classes_)"
   ]
  },
  {
   "cell_type": "code",
   "execution_count": null,
   "metadata": {},
   "outputs": [],
   "source": [
    "code5data[\"day_int\"] = le.transform(code5data.day)"
   ]
  },
  {
   "cell_type": "code",
   "execution_count": null,
   "metadata": {},
   "outputs": [],
   "source": [
    "code5data[\"weekend\"] = code5data.apply(lambda x: ((x.day == \"Sunday\") | (x.day==\"Saturday\")) and 1 or 0,axis=1)"
   ]
  },
  {
   "cell_type": "code",
   "execution_count": null,
   "metadata": {
    "scrolled": true
   },
   "outputs": [],
   "source": [
    "%%time\n",
    "features = [\"duration\",\"trip_distance\",\"avg_speed\",\"ridesAtPickupHour\",\"pickup_hour\",\"tolls_amount\"]\n",
    "\n",
    "code5_model = optimisedLGM(param_grid,code5data[features],code5data[\"fare_amount\"]-2.5)"
   ]
  },
  {
   "cell_type": "code",
   "execution_count": null,
   "metadata": {},
   "outputs": [],
   "source": [
    "lgb.plot_importance(code5_model, max_num_features=10)"
   ]
  },
  {
   "cell_type": "code",
   "execution_count": null,
   "metadata": {},
   "outputs": [],
   "source": [
    "ax = sns.distplot(code5data.fare_amount,kde=False,bins=20);"
   ]
  },
  {
   "cell_type": "code",
   "execution_count": null,
   "metadata": {},
   "outputs": [],
   "source": [
    "code5data.fare_amount.value_counts()"
   ]
  },
  {
   "cell_type": "code",
   "execution_count": null,
   "metadata": {},
   "outputs": [],
   "source": [
    "code5data.shape"
   ]
  },
  {
   "cell_type": "code",
   "execution_count": null,
   "metadata": {},
   "outputs": [],
   "source": [
    "t = code5data[code5data.fare_amount%0.5 != 0][[\"trip_distance\",\"duration\",\"fare_amount\"]]"
   ]
  },
  {
   "cell_type": "code",
   "execution_count": null,
   "metadata": {},
   "outputs": [],
   "source": [
    "t[\"fare_to_distance_ratio\"]= t.fare_amount/t.trip_distance"
   ]
  },
  {
   "cell_type": "code",
   "execution_count": null,
   "metadata": {},
   "outputs": [],
   "source": [
    "t.fare_to_distance_ratio.describe()"
   ]
  },
  {
   "cell_type": "code",
   "execution_count": null,
   "metadata": {},
   "outputs": [],
   "source": [
    "ax = sns.distplot(t.fare_to_distance_ratio,kde=False,bins=20);"
   ]
  },
  {
   "cell_type": "code",
   "execution_count": null,
   "metadata": {},
   "outputs": [],
   "source": [
    "ax = sns.distplot(code5data.fare_to_distance_ratio,kde=False,bins=20);"
   ]
  },
  {
   "cell_type": "markdown",
   "metadata": {},
   "source": [
    "## Prediction"
   ]
  },
  {
   "cell_type": "code",
   "execution_count": null,
   "metadata": {},
   "outputs": [],
   "source": [
    "code5prediction = code5_model.predict(code5test[features])\n",
    "code5test = code5test.assign(fare_amount_prediction = code5prediction)"
   ]
  },
  {
   "cell_type": "markdown",
   "metadata": {},
   "source": [
    "# Recombine all predictions and save"
   ]
  },
  {
   "cell_type": "code",
   "execution_count": null,
   "metadata": {},
   "outputs": [],
   "source": [
    "testResult = pd.concat([code1test,code2test,code3test,code4test,code5test])"
   ]
  },
  {
   "cell_type": "code",
   "execution_count": null,
   "metadata": {},
   "outputs": [],
   "source": [
    "testResult.to_csv(\"C:\\\\Users\\\\Leo\\\\Dropbox\\\\Info Göttingen\\\\Practical Course Data Science\\\\Task 2\\\\data\\\\test_prediction.csv\")"
   ]
  },
  {
   "cell_type": "code",
   "execution_count": null,
   "metadata": {},
   "outputs": [],
   "source": [
    "testResult.fare_amount_prediction.describe()"
   ]
  },
  {
   "cell_type": "code",
   "execution_count": null,
   "metadata": {
    "scrolled": true
   },
   "outputs": [],
   "source": [
    "testResult.describe()"
   ]
  },
  {
   "cell_type": "code",
   "execution_count": null,
   "metadata": {
    "scrolled": true
   },
   "outputs": [],
   "source": [
    "testResult[testResult.fare_amount_prediction == testResult.fare_amount_prediction.max()]"
   ]
  },
  {
   "cell_type": "code",
   "execution_count": null,
   "metadata": {},
   "outputs": [],
   "source": [
    "testResult[testResult.trip_distance == testResult.trip_distance.max()]"
   ]
  },
  {
   "cell_type": "code",
   "execution_count": null,
   "metadata": {},
   "outputs": [],
   "source": [
    "testResult.RatecodeID.value_counts()"
   ]
  },
  {
   "cell_type": "markdown",
   "metadata": {},
   "source": [
    "# Archive"
   ]
  },
  {
   "cell_type": "markdown",
   "metadata": {},
   "source": [
    "### Ratecode 1"
   ]
  },
  {
   "cell_type": "raw",
   "metadata": {},
   "source": [
    "import lightgbm as lgb\n",
    "\n",
    "features = [\"duration\",\"passenger_count\",\"trip_distance\",\"payment_type\",\"avg_speed\"]\n",
    "\n",
    "code1lgb_dataset = lgb.Dataset(code1data[features], label=code1data[\"fare_amount\"])\n",
    "\n",
    "params = {}\n",
    "params['learning_rate'] = .05\n",
    "params['boosting_type'] = 'gbdt'\n",
    "params[\"objective\"] = \"regression\"\n",
    "params['min_samples_split'] = 3\n",
    "params['min_samples_leaf'] = 15\n",
    "params['max_features'] = 'sqrt'\n",
    "params['max_depth'] = 10\n",
    "params['subsample'] = 0.8\n",
    "\n",
    "code1_model = lgb.train(params, code1lgb_dataset, 300)"
   ]
  },
  {
   "cell_type": "markdown",
   "metadata": {},
   "source": [
    "### Ratecode 4"
   ]
  },
  {
   "cell_type": "raw",
   "metadata": {},
   "source": [
    "#train models for the in city and out of city parts\n",
    "code4_model_inner = RandomForestRegressor(random_state=1337)\n",
    "code4_model_outer = RandomForestRegressor(random_state=1338)\n",
    "\n",
    "#chose features\n",
    "features_inner = [\"passenger_count\",\"in_city_distance\",\"inCityTripDistanceExtreme\",\"inCityTripDistance\",\"payment_type\"]\n",
    "features_outer = [\"passenger_count\", \"out_of_city_distance\",\"outCityTripDistanceExtreme\",\"payment_type\"]\n",
    "\n",
    "mixed_inner_train = code4data_mixed[features_inner]\n",
    "mixed_outer_train = code4data_mixed[features_outer]\n",
    "\n",
    "#fit the models\n",
    "code4_model_inner.fit(mixed_inner_train,code4data_mixed[\"inCityFare\"])\n",
    "code4_model_outer.fit(mixed_outer_train,code4data_mixed[\"outCityFare\"]);"
   ]
  }
 ],
 "metadata": {
  "kernelspec": {
   "display_name": "Python 3",
   "language": "python",
   "name": "python3"
  },
  "language_info": {
   "codemirror_mode": {
    "name": "ipython",
    "version": 3
   },
   "file_extension": ".py",
   "mimetype": "text/x-python",
   "name": "python",
   "nbconvert_exporter": "python",
   "pygments_lexer": "ipython3",
   "version": "3.6.4"
  }
 },
 "nbformat": 4,
 "nbformat_minor": 2
}
