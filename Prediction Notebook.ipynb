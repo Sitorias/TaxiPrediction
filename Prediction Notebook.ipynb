{
 "cells": [
  {
   "cell_type": "markdown",
   "metadata": {},
   "source": [
    "# Load Data (already cleaned)"
   ]
  },
  {
   "cell_type": "code",
   "execution_count": 240,
   "metadata": {},
   "outputs": [],
   "source": [
    "# Manage imports\n",
    "import numpy as np\n",
    "import pandas as pd\n",
    "import seaborn as sns  \n",
    "import matplotlib.pyplot as plt\n",
    "from sklearn.ensemble import RandomForestRegressor\n",
    "\n",
    "pd.options.mode.chained_assignment = None  # default='warn'"
   ]
  },
  {
   "cell_type": "code",
   "execution_count": 241,
   "metadata": {},
   "outputs": [
    {
     "name": "stderr",
     "output_type": "stream",
     "text": [
      "E:\\Anaconda\\lib\\site-packages\\numpy\\lib\\arraysetops.py:466: FutureWarning: elementwise comparison failed; returning scalar instead, but in the future will perform elementwise comparison\n",
      "  mask |= (ar1 == a)\n"
     ]
    }
   ],
   "source": [
    "# read data in memory\n",
    "train = pd.read_csv(\"C:\\\\Users\\\\Leo\\\\TaxiData\\\\clean_v2.csv\",index_col=0)"
   ]
  },
  {
   "cell_type": "code",
   "execution_count": 242,
   "metadata": {},
   "outputs": [],
   "source": [
    "test = pd.read_csv(\"C:\\\\Users\\\\Leo\\\\Dropbox\\\\Info Göttingen\\\\Practical Course Data Science\\\\Task 2\\\\data\\\\test_data_v2.csv\",engine=\"python\")"
   ]
  },
  {
   "cell_type": "code",
   "execution_count": 243,
   "metadata": {},
   "outputs": [
    {
     "data": {
      "text/html": [
       "<div>\n",
       "<style scoped>\n",
       "    .dataframe tbody tr th:only-of-type {\n",
       "        vertical-align: middle;\n",
       "    }\n",
       "\n",
       "    .dataframe tbody tr th {\n",
       "        vertical-align: top;\n",
       "    }\n",
       "\n",
       "    .dataframe thead th {\n",
       "        text-align: right;\n",
       "    }\n",
       "</style>\n",
       "<table border=\"1\" class=\"dataframe\">\n",
       "  <thead>\n",
       "    <tr style=\"text-align: right;\">\n",
       "      <th></th>\n",
       "      <th>tpep_pickup_datetime</th>\n",
       "      <th>tpep_dropoff_datetime</th>\n",
       "      <th>passenger_count</th>\n",
       "      <th>trip_distance</th>\n",
       "      <th>pickup_longitude</th>\n",
       "      <th>pickup_latitude</th>\n",
       "      <th>RatecodeID</th>\n",
       "      <th>dropoff_longitude</th>\n",
       "      <th>dropoff_latitude</th>\n",
       "      <th>payment_type</th>\n",
       "      <th>...</th>\n",
       "      <th>subtotal</th>\n",
       "      <th>tip_perc</th>\n",
       "      <th>pickup_hour</th>\n",
       "      <th>pickup_coord</th>\n",
       "      <th>dropoff_coord</th>\n",
       "      <th>avg_speed</th>\n",
       "      <th>holiday</th>\n",
       "      <th>overnight</th>\n",
       "      <th>day</th>\n",
       "      <th>ridesAtPickupHour</th>\n",
       "    </tr>\n",
       "  </thead>\n",
       "  <tbody>\n",
       "    <tr>\n",
       "      <th>0</th>\n",
       "      <td>2016-06-09 21:06:36</td>\n",
       "      <td>2016-06-09 21:13:08</td>\n",
       "      <td>2</td>\n",
       "      <td>0.79</td>\n",
       "      <td>-73.983360</td>\n",
       "      <td>40.760937</td>\n",
       "      <td>1</td>\n",
       "      <td>-73.977463</td>\n",
       "      <td>40.753979</td>\n",
       "      <td>2</td>\n",
       "      <td>...</td>\n",
       "      <td>7.3</td>\n",
       "      <td>0.000000</td>\n",
       "      <td>21</td>\n",
       "      <td>(40.76093673706055, -73.98336029052734)</td>\n",
       "      <td>(40.75397872924805, -73.97746276855469)</td>\n",
       "      <td>7.255102</td>\n",
       "      <td>False</td>\n",
       "      <td>True</td>\n",
       "      <td>Thursday</td>\n",
       "      <td>20311.8</td>\n",
       "    </tr>\n",
       "    <tr>\n",
       "      <th>1</th>\n",
       "      <td>2016-06-09 21:06:36</td>\n",
       "      <td>2016-06-09 21:35:11</td>\n",
       "      <td>1</td>\n",
       "      <td>5.22</td>\n",
       "      <td>-73.981720</td>\n",
       "      <td>40.736668</td>\n",
       "      <td>1</td>\n",
       "      <td>-73.981636</td>\n",
       "      <td>40.670242</td>\n",
       "      <td>1</td>\n",
       "      <td>...</td>\n",
       "      <td>23.3</td>\n",
       "      <td>0.171674</td>\n",
       "      <td>21</td>\n",
       "      <td>(40.73666763305664, -73.98171997070312)</td>\n",
       "      <td>(40.67024230957031, -73.98163604736328)</td>\n",
       "      <td>10.957434</td>\n",
       "      <td>False</td>\n",
       "      <td>True</td>\n",
       "      <td>Thursday</td>\n",
       "      <td>20311.8</td>\n",
       "    </tr>\n",
       "    <tr>\n",
       "      <th>3</th>\n",
       "      <td>2016-06-09 21:06:36</td>\n",
       "      <td>2016-06-09 21:36:10</td>\n",
       "      <td>1</td>\n",
       "      <td>7.39</td>\n",
       "      <td>-73.982361</td>\n",
       "      <td>40.773891</td>\n",
       "      <td>1</td>\n",
       "      <td>-73.929466</td>\n",
       "      <td>40.851540</td>\n",
       "      <td>1</td>\n",
       "      <td>...</td>\n",
       "      <td>27.3</td>\n",
       "      <td>0.036630</td>\n",
       "      <td>21</td>\n",
       "      <td>(40.77389144897461, -73.98236083984375)</td>\n",
       "      <td>(40.851539611816406, -73.9294662475586)</td>\n",
       "      <td>14.996618</td>\n",
       "      <td>False</td>\n",
       "      <td>True</td>\n",
       "      <td>Thursday</td>\n",
       "      <td>20311.8</td>\n",
       "    </tr>\n",
       "    <tr>\n",
       "      <th>4</th>\n",
       "      <td>2016-06-09 21:06:36</td>\n",
       "      <td>2016-06-09 21:23:23</td>\n",
       "      <td>1</td>\n",
       "      <td>3.10</td>\n",
       "      <td>-73.987106</td>\n",
       "      <td>40.733173</td>\n",
       "      <td>1</td>\n",
       "      <td>-73.985909</td>\n",
       "      <td>40.766445</td>\n",
       "      <td>1</td>\n",
       "      <td>...</td>\n",
       "      <td>14.8</td>\n",
       "      <td>0.200000</td>\n",
       "      <td>21</td>\n",
       "      <td>(40.73317337036133, -73.98710632324219)</td>\n",
       "      <td>(40.7664451599121, -73.98590850830078)</td>\n",
       "      <td>11.082423</td>\n",
       "      <td>False</td>\n",
       "      <td>True</td>\n",
       "      <td>Thursday</td>\n",
       "      <td>20311.8</td>\n",
       "    </tr>\n",
       "    <tr>\n",
       "      <th>5</th>\n",
       "      <td>2016-06-09 21:06:36</td>\n",
       "      <td>2016-06-09 21:19:21</td>\n",
       "      <td>1</td>\n",
       "      <td>2.17</td>\n",
       "      <td>-73.995201</td>\n",
       "      <td>40.739491</td>\n",
       "      <td>1</td>\n",
       "      <td>-73.993202</td>\n",
       "      <td>40.762642</td>\n",
       "      <td>1</td>\n",
       "      <td>...</td>\n",
       "      <td>11.8</td>\n",
       "      <td>0.200000</td>\n",
       "      <td>21</td>\n",
       "      <td>(40.7394905090332, -73.99520111083984)</td>\n",
       "      <td>(40.76264190673828, -73.99320220947266)</td>\n",
       "      <td>10.211765</td>\n",
       "      <td>False</td>\n",
       "      <td>True</td>\n",
       "      <td>Thursday</td>\n",
       "      <td>20311.8</td>\n",
       "    </tr>\n",
       "  </tbody>\n",
       "</table>\n",
       "<p>5 rows × 27 columns</p>\n",
       "</div>"
      ],
      "text/plain": [
       "  tpep_pickup_datetime tpep_dropoff_datetime  passenger_count  trip_distance  \\\n",
       "0  2016-06-09 21:06:36   2016-06-09 21:13:08                2           0.79   \n",
       "1  2016-06-09 21:06:36   2016-06-09 21:35:11                1           5.22   \n",
       "3  2016-06-09 21:06:36   2016-06-09 21:36:10                1           7.39   \n",
       "4  2016-06-09 21:06:36   2016-06-09 21:23:23                1           3.10   \n",
       "5  2016-06-09 21:06:36   2016-06-09 21:19:21                1           2.17   \n",
       "\n",
       "   pickup_longitude  pickup_latitude  RatecodeID  dropoff_longitude  \\\n",
       "0        -73.983360        40.760937           1         -73.977463   \n",
       "1        -73.981720        40.736668           1         -73.981636   \n",
       "3        -73.982361        40.773891           1         -73.929466   \n",
       "4        -73.987106        40.733173           1         -73.985909   \n",
       "5        -73.995201        40.739491           1         -73.993202   \n",
       "\n",
       "   dropoff_latitude  payment_type        ...          subtotal  tip_perc  \\\n",
       "0         40.753979             2        ...               7.3  0.000000   \n",
       "1         40.670242             1        ...              23.3  0.171674   \n",
       "3         40.851540             1        ...              27.3  0.036630   \n",
       "4         40.766445             1        ...              14.8  0.200000   \n",
       "5         40.762642             1        ...              11.8  0.200000   \n",
       "\n",
       "   pickup_hour                             pickup_coord  \\\n",
       "0           21  (40.76093673706055, -73.98336029052734)   \n",
       "1           21  (40.73666763305664, -73.98171997070312)   \n",
       "3           21  (40.77389144897461, -73.98236083984375)   \n",
       "4           21  (40.73317337036133, -73.98710632324219)   \n",
       "5           21   (40.7394905090332, -73.99520111083984)   \n",
       "\n",
       "                             dropoff_coord  avg_speed  holiday  overnight  \\\n",
       "0  (40.75397872924805, -73.97746276855469)   7.255102    False       True   \n",
       "1  (40.67024230957031, -73.98163604736328)  10.957434    False       True   \n",
       "3  (40.851539611816406, -73.9294662475586)  14.996618    False       True   \n",
       "4   (40.7664451599121, -73.98590850830078)  11.082423    False       True   \n",
       "5  (40.76264190673828, -73.99320220947266)  10.211765    False       True   \n",
       "\n",
       "        day  ridesAtPickupHour  \n",
       "0  Thursday            20311.8  \n",
       "1  Thursday            20311.8  \n",
       "3  Thursday            20311.8  \n",
       "4  Thursday            20311.8  \n",
       "5  Thursday            20311.8  \n",
       "\n",
       "[5 rows x 27 columns]"
      ]
     },
     "execution_count": 243,
     "metadata": {},
     "output_type": "execute_result"
    }
   ],
   "source": [
    "train.head()"
   ]
  },
  {
   "cell_type": "markdown",
   "metadata": {},
   "source": [
    "# Prepare the Test set (add features)"
   ]
  },
  {
   "cell_type": "markdown",
   "metadata": {},
   "source": [
    "## Add duration in seconds"
   ]
  },
  {
   "cell_type": "code",
   "execution_count": 244,
   "metadata": {},
   "outputs": [],
   "source": [
    "test[\"tpep_pickup_datetime\"] = pd.to_datetime(test.tpep_pickup_datetime)\n",
    "test['tpep_dropoff_datetime'] = pd.to_datetime(test.tpep_dropoff_datetime)"
   ]
  },
  {
   "cell_type": "code",
   "execution_count": 245,
   "metadata": {},
   "outputs": [],
   "source": [
    "# Get duration\n",
    "test['duration'] = pd.to_datetime(test[\"tpep_dropoff_datetime\"])-pd.to_datetime(test[\"tpep_pickup_datetime\"])"
   ]
  },
  {
   "cell_type": "code",
   "execution_count": 246,
   "metadata": {},
   "outputs": [
    {
     "name": "stdout",
     "output_type": "stream",
     "text": [
      "Wall time: 3.33 s\n"
     ]
    }
   ],
   "source": [
    "%%time\n",
    "test[\"duration\"] = test.apply(lambda x : x.duration.total_seconds(),axis=1)"
   ]
  },
  {
   "cell_type": "markdown",
   "metadata": {},
   "source": [
    "## Calculate average speed"
   ]
  },
  {
   "cell_type": "code",
   "execution_count": 247,
   "metadata": {},
   "outputs": [],
   "source": [
    "test = test.assign(avg_speed = test.trip_distance/test.duration*60*60)"
   ]
  },
  {
   "cell_type": "code",
   "execution_count": 248,
   "metadata": {
    "scrolled": true
   },
   "outputs": [
    {
     "data": {
      "text/plain": [
       "count    64000.000000\n",
       "mean        14.546904\n",
       "std          9.388043\n",
       "min          0.014337\n",
       "25%          8.153310\n",
       "50%         11.716077\n",
       "75%         18.140034\n",
       "max        176.170213\n",
       "Name: avg_speed, dtype: float64"
      ]
     },
     "execution_count": 248,
     "metadata": {},
     "output_type": "execute_result"
    }
   ],
   "source": [
    "test.avg_speed.describe()"
   ]
  },
  {
   "cell_type": "markdown",
   "metadata": {},
   "source": [
    "## Append Traffic data from train set"
   ]
  },
  {
   "cell_type": "code",
   "execution_count": 249,
   "metadata": {},
   "outputs": [],
   "source": [
    "traffic = train.groupby([\"day\"])"
   ]
  },
  {
   "cell_type": "code",
   "execution_count": 250,
   "metadata": {},
   "outputs": [
    {
     "name": "stdout",
     "output_type": "stream",
     "text": [
      "Friday ['2016-06-10' '2016-06-03' '2016-06-17' '2016-06-24'] pickup_hour\n",
      "0     14130.50\n",
      "1      9091.50\n",
      "2      5939.25\n",
      "3      4051.25\n",
      "4      3383.50\n",
      "5      3798.50\n",
      "6      8338.75\n",
      "7     13974.25\n",
      "8     17117.75\n",
      "9     16000.00\n",
      "10    14445.75\n",
      "11    14557.75\n",
      "12    15065.25\n",
      "13    14747.50\n",
      "14    15620.50\n",
      "15    14060.50\n",
      "16    12082.00\n",
      "17    15336.50\n",
      "18    18798.25\n",
      "19    19513.25\n",
      "20    17277.75\n",
      "21    18387.50\n",
      "22    19428.00\n",
      "23    14896.50\n",
      "Name: trip_distance, dtype: float64\n",
      "Monday ['2016-06-06' '2016-06-13' '2016-06-20' '2016-06-27'] pickup_hour\n",
      "0      7298.75\n",
      "1      4589.50\n",
      "2      3024.00\n",
      "3      2056.50\n",
      "4      2231.50\n",
      "5      3438.75\n",
      "6      8339.25\n",
      "7     13192.25\n",
      "8     15509.75\n",
      "9     14803.50\n",
      "10    13119.50\n",
      "11    13179.50\n",
      "12    13778.25\n",
      "13    13839.50\n",
      "14    15001.00\n",
      "15    14391.00\n",
      "16    13251.75\n",
      "17    15776.75\n",
      "18    18768.00\n",
      "19    17767.00\n",
      "20    16184.50\n",
      "21    17819.50\n",
      "22    15686.75\n",
      "23     9583.50\n",
      "Name: trip_distance, dtype: float64\n",
      "Saturday ['2016-06-04' '2016-06-11' '2016-06-18' '2016-06-25'] pickup_hour\n",
      "0     18281.25\n",
      "1     15458.25\n",
      "2     12539.50\n",
      "3      9629.50\n",
      "4      6307.50\n",
      "5      3197.25\n",
      "6      4031.50\n",
      "7      6306.25\n",
      "8      8579.50\n",
      "9     11905.50\n",
      "10    14010.00\n",
      "11    15452.50\n",
      "12    16370.00\n",
      "13    16814.50\n",
      "14    16038.50\n",
      "15    15605.50\n",
      "16    14258.50\n",
      "17    16065.25\n",
      "18    18040.50\n",
      "19    18747.50\n",
      "20    15969.75\n",
      "21    16546.25\n",
      "22    18321.25\n",
      "23    14708.75\n",
      "Name: trip_distance, dtype: float64\n",
      "Sunday ['2016-06-05' '2016-06-12' '2016-06-19' '2016-06-26'] pickup_hour\n",
      "0     18035.00\n",
      "1     15583.00\n",
      "2     12899.25\n",
      "3      9907.75\n",
      "4      6724.50\n",
      "5      3082.50\n",
      "6      3023.50\n",
      "7      4343.00\n",
      "8      6517.75\n",
      "9      9464.25\n",
      "10    12267.50\n",
      "11    14808.50\n",
      "12    14416.25\n",
      "13    14187.75\n",
      "14    14110.75\n",
      "15    13346.50\n",
      "16    12990.75\n",
      "17    13682.75\n",
      "18    15361.50\n",
      "19    14374.00\n",
      "20    12647.25\n",
      "21    13048.75\n",
      "22    12279.25\n",
      "23     8839.75\n",
      "Name: trip_distance, dtype: float64\n",
      "Thursday ['2016-06-09' '2016-06-02' '2016-06-16' '2016-06-23' '2016-06-30'] pickup_hour\n",
      "0     10555.0\n",
      "1      6176.4\n",
      "2      3738.0\n",
      "3      2446.4\n",
      "4      2304.6\n",
      "5      3332.4\n",
      "6      9037.2\n",
      "7     14876.0\n",
      "8     17304.2\n",
      "9     16276.8\n",
      "10    14755.2\n",
      "11    14974.4\n",
      "12    15446.4\n",
      "13    15329.6\n",
      "14    15806.6\n",
      "15    14210.0\n",
      "16    11833.2\n",
      "17    14930.2\n",
      "18    18623.6\n",
      "19    19416.8\n",
      "20    18191.4\n",
      "21    20311.8\n",
      "22    19279.0\n",
      "23    13565.8\n",
      "Name: trip_distance, dtype: float64\n",
      "Tuesday ['2016-06-07' '2016-06-14' '2016-06-21' '2016-06-28'] pickup_hour\n",
      "0      7746.00\n",
      "1      4243.25\n",
      "2      2535.25\n",
      "3      1696.00\n",
      "4      1770.25\n",
      "5      3042.75\n",
      "6      8565.00\n",
      "7     14056.75\n",
      "8     16615.50\n",
      "9     15650.75\n",
      "10    14339.25\n",
      "11    14460.25\n",
      "12    15096.25\n",
      "13    14940.00\n",
      "14    15543.25\n",
      "15    14618.75\n",
      "16    12600.00\n",
      "17    15197.00\n",
      "18    19188.75\n",
      "19    18448.00\n",
      "20    17051.75\n",
      "21    18992.25\n",
      "22    17597.75\n",
      "23    11477.50\n",
      "Name: trip_distance, dtype: float64\n",
      "Wednesday ['2016-06-01' '2016-06-08' '2016-06-15' '2016-06-22' '2016-06-29'] pickup_hour\n",
      "0      8865.0\n",
      "1      5299.8\n",
      "2      3109.0\n",
      "3      2092.2\n",
      "4      2051.2\n",
      "5      3191.2\n",
      "6      8391.2\n",
      "7     14265.0\n",
      "8     16983.6\n",
      "9     16051.2\n",
      "10    14542.4\n",
      "11    15121.4\n",
      "12    16054.2\n",
      "13    15969.8\n",
      "14    15718.8\n",
      "15    14014.0\n",
      "16    11633.8\n",
      "17    14509.6\n",
      "18    17984.4\n",
      "19    18525.2\n",
      "20    17642.6\n",
      "21    19898.4\n",
      "22    18586.2\n",
      "23    12369.8\n",
      "Name: trip_distance, dtype: float64\n"
     ]
    }
   ],
   "source": [
    "trafficPerDay = pd.DataFrame()\n",
    "for name, group in traffic:\n",
    "    #group by hour\n",
    "    pickupDate = group.tpep_pickup_datetime.str.split(\" \").str[0];\n",
    "    dates = pickupDate.unique()\n",
    "    \n",
    "    hours = group.groupby([\"pickup_hour\"]).trip_distance.count()\n",
    "    \n",
    "    trafficPerDay = trafficPerDay.append(pd.DataFrame({\"day\":name,\"rides\":hours/len(dates),\"pickup_hour\":hours.index},index=None))  \n",
    "    print(name,dates,hours/len(dates))"
   ]
  },
  {
   "cell_type": "code",
   "execution_count": 251,
   "metadata": {},
   "outputs": [],
   "source": [
    "test['pickup_hour'] = pd.to_datetime(test.tpep_pickup_datetime).dt.hour.astype('category')"
   ]
  },
  {
   "cell_type": "code",
   "execution_count": 252,
   "metadata": {},
   "outputs": [],
   "source": [
    "test['day'] = (pd.to_datetime(test['tpep_pickup_datetime']).dt.weekday_name)"
   ]
  },
  {
   "cell_type": "code",
   "execution_count": 253,
   "metadata": {},
   "outputs": [
    {
     "name": "stdout",
     "output_type": "stream",
     "text": [
      "Wall time: 47.2 s\n"
     ]
    }
   ],
   "source": [
    "%%time\n",
    "test[\"ridesAtPickupHour\"] = test.apply(lambda x: trafficPerDay[(trafficPerDay.day == x.day) & (trafficPerDay.pickup_hour==x.pickup_hour)].rides.iloc[0],axis=1 )"
   ]
  },
  {
   "cell_type": "markdown",
   "metadata": {},
   "source": [
    "## Remove some more outliers"
   ]
  },
  {
   "cell_type": "code",
   "execution_count": 254,
   "metadata": {},
   "outputs": [],
   "source": [
    "t = train[train.avg_speed > 40]"
   ]
  },
  {
   "cell_type": "code",
   "execution_count": 255,
   "metadata": {},
   "outputs": [
    {
     "data": {
      "text/html": [
       "<div>\n",
       "<style scoped>\n",
       "    .dataframe tbody tr th:only-of-type {\n",
       "        vertical-align: middle;\n",
       "    }\n",
       "\n",
       "    .dataframe tbody tr th {\n",
       "        vertical-align: top;\n",
       "    }\n",
       "\n",
       "    .dataframe thead th {\n",
       "        text-align: right;\n",
       "    }\n",
       "</style>\n",
       "<table border=\"1\" class=\"dataframe\">\n",
       "  <thead>\n",
       "    <tr style=\"text-align: right;\">\n",
       "      <th></th>\n",
       "      <th>passenger_count</th>\n",
       "      <th>trip_distance</th>\n",
       "      <th>pickup_longitude</th>\n",
       "      <th>pickup_latitude</th>\n",
       "      <th>RatecodeID</th>\n",
       "      <th>dropoff_longitude</th>\n",
       "      <th>dropoff_latitude</th>\n",
       "      <th>payment_type</th>\n",
       "      <th>fare_amount</th>\n",
       "      <th>extra</th>\n",
       "      <th>mta_tax</th>\n",
       "      <th>tip_amount</th>\n",
       "      <th>tolls_amount</th>\n",
       "      <th>total_amount</th>\n",
       "      <th>duration</th>\n",
       "      <th>subtotal</th>\n",
       "      <th>tip_perc</th>\n",
       "      <th>pickup_hour</th>\n",
       "      <th>avg_speed</th>\n",
       "      <th>ridesAtPickupHour</th>\n",
       "    </tr>\n",
       "  </thead>\n",
       "  <tbody>\n",
       "    <tr>\n",
       "      <th>count</th>\n",
       "      <td>21435.000000</td>\n",
       "      <td>21435.000000</td>\n",
       "      <td>21435.000000</td>\n",
       "      <td>21435.000000</td>\n",
       "      <td>21435.000000</td>\n",
       "      <td>21435.000000</td>\n",
       "      <td>21435.000000</td>\n",
       "      <td>21435.000000</td>\n",
       "      <td>21435.000000</td>\n",
       "      <td>21435.000000</td>\n",
       "      <td>21435.000000</td>\n",
       "      <td>21435.000000</td>\n",
       "      <td>21435.000000</td>\n",
       "      <td>21435.000000</td>\n",
       "      <td>21435.000000</td>\n",
       "      <td>21435.000000</td>\n",
       "      <td>21435.000000</td>\n",
       "      <td>21435.000000</td>\n",
       "      <td>21435.000000</td>\n",
       "      <td>21435.000000</td>\n",
       "    </tr>\n",
       "    <tr>\n",
       "      <th>mean</th>\n",
       "      <td>1.655050</td>\n",
       "      <td>16.653108</td>\n",
       "      <td>-73.887584</td>\n",
       "      <td>40.707964</td>\n",
       "      <td>1.881969</td>\n",
       "      <td>-73.911413</td>\n",
       "      <td>40.719459</td>\n",
       "      <td>1.268300</td>\n",
       "      <td>51.418793</td>\n",
       "      <td>0.219827</td>\n",
       "      <td>0.435573</td>\n",
       "      <td>7.770273</td>\n",
       "      <td>3.517061</td>\n",
       "      <td>63.661527</td>\n",
       "      <td>1372.414836</td>\n",
       "      <td>55.891254</td>\n",
       "      <td>0.135355</td>\n",
       "      <td>7.130721</td>\n",
       "      <td>44.053253</td>\n",
       "      <td>8146.361887</td>\n",
       "    </tr>\n",
       "    <tr>\n",
       "      <th>std</th>\n",
       "      <td>1.311149</td>\n",
       "      <td>7.235212</td>\n",
       "      <td>0.096631</td>\n",
       "      <td>0.058282</td>\n",
       "      <td>1.094520</td>\n",
       "      <td>0.151482</td>\n",
       "      <td>0.089660</td>\n",
       "      <td>0.491032</td>\n",
       "      <td>28.728417</td>\n",
       "      <td>0.372911</td>\n",
       "      <td>0.167523</td>\n",
       "      <td>7.018051</td>\n",
       "      <td>4.773465</td>\n",
       "      <td>34.491467</td>\n",
       "      <td>579.544965</td>\n",
       "      <td>30.633138</td>\n",
       "      <td>0.108620</td>\n",
       "      <td>7.050564</td>\n",
       "      <td>4.354260</td>\n",
       "      <td>5255.996833</td>\n",
       "    </tr>\n",
       "    <tr>\n",
       "      <th>min</th>\n",
       "      <td>1.000000</td>\n",
       "      <td>0.370000</td>\n",
       "      <td>-74.913620</td>\n",
       "      <td>40.171890</td>\n",
       "      <td>1.000000</td>\n",
       "      <td>-74.984268</td>\n",
       "      <td>39.945095</td>\n",
       "      <td>1.000000</td>\n",
       "      <td>3.000000</td>\n",
       "      <td>0.000000</td>\n",
       "      <td>0.000000</td>\n",
       "      <td>0.000000</td>\n",
       "      <td>0.000000</td>\n",
       "      <td>3.300000</td>\n",
       "      <td>30.000000</td>\n",
       "      <td>3.300000</td>\n",
       "      <td>0.000000</td>\n",
       "      <td>0.000000</td>\n",
       "      <td>40.000000</td>\n",
       "      <td>1696.000000</td>\n",
       "    </tr>\n",
       "    <tr>\n",
       "      <th>25%</th>\n",
       "      <td>1.000000</td>\n",
       "      <td>13.340000</td>\n",
       "      <td>-73.981758</td>\n",
       "      <td>40.645973</td>\n",
       "      <td>1.000000</td>\n",
       "      <td>-73.987576</td>\n",
       "      <td>40.646820</td>\n",
       "      <td>1.000000</td>\n",
       "      <td>39.000000</td>\n",
       "      <td>0.000000</td>\n",
       "      <td>0.500000</td>\n",
       "      <td>0.000000</td>\n",
       "      <td>0.000000</td>\n",
       "      <td>43.800000</td>\n",
       "      <td>1099.000000</td>\n",
       "      <td>40.300000</td>\n",
       "      <td>0.000000</td>\n",
       "      <td>2.000000</td>\n",
       "      <td>41.267221</td>\n",
       "      <td>3332.400000</td>\n",
       "    </tr>\n",
       "    <tr>\n",
       "      <th>50%</th>\n",
       "      <td>1.000000</td>\n",
       "      <td>17.130000</td>\n",
       "      <td>-73.883774</td>\n",
       "      <td>40.718315</td>\n",
       "      <td>2.000000</td>\n",
       "      <td>-73.926231</td>\n",
       "      <td>40.708008</td>\n",
       "      <td>1.000000</td>\n",
       "      <td>52.000000</td>\n",
       "      <td>0.000000</td>\n",
       "      <td>0.500000</td>\n",
       "      <td>8.950000</td>\n",
       "      <td>0.000000</td>\n",
       "      <td>65.300000</td>\n",
       "      <td>1419.000000</td>\n",
       "      <td>56.300000</td>\n",
       "      <td>0.199691</td>\n",
       "      <td>5.000000</td>\n",
       "      <td>42.933516</td>\n",
       "      <td>6724.500000</td>\n",
       "    </tr>\n",
       "    <tr>\n",
       "      <th>75%</th>\n",
       "      <td>2.000000</td>\n",
       "      <td>19.310000</td>\n",
       "      <td>-73.783401</td>\n",
       "      <td>40.761063</td>\n",
       "      <td>2.000000</td>\n",
       "      <td>-73.788940</td>\n",
       "      <td>40.765629</td>\n",
       "      <td>1.000000</td>\n",
       "      <td>52.000000</td>\n",
       "      <td>0.500000</td>\n",
       "      <td>0.500000</td>\n",
       "      <td>11.670000</td>\n",
       "      <td>5.540000</td>\n",
       "      <td>70.010000</td>\n",
       "      <td>1617.000000</td>\n",
       "      <td>58.340000</td>\n",
       "      <td>0.200034</td>\n",
       "      <td>9.000000</td>\n",
       "      <td>45.439425</td>\n",
       "      <td>12539.500000</td>\n",
       "    </tr>\n",
       "    <tr>\n",
       "      <th>max</th>\n",
       "      <td>6.000000</td>\n",
       "      <td>99.960000</td>\n",
       "      <td>-73.212685</td>\n",
       "      <td>41.107155</td>\n",
       "      <td>5.000000</td>\n",
       "      <td>-73.017113</td>\n",
       "      <td>41.706463</td>\n",
       "      <td>4.000000</td>\n",
       "      <td>400.000000</td>\n",
       "      <td>4.500000</td>\n",
       "      <td>0.500000</td>\n",
       "      <td>128.000000</td>\n",
       "      <td>30.000000</td>\n",
       "      <td>483.340000</td>\n",
       "      <td>7755.000000</td>\n",
       "      <td>418.340000</td>\n",
       "      <td>3.703704</td>\n",
       "      <td>23.000000</td>\n",
       "      <td>80.000000</td>\n",
       "      <td>20311.800000</td>\n",
       "    </tr>\n",
       "  </tbody>\n",
       "</table>\n",
       "</div>"
      ],
      "text/plain": [
       "       passenger_count  trip_distance  pickup_longitude  pickup_latitude  \\\n",
       "count     21435.000000   21435.000000      21435.000000     21435.000000   \n",
       "mean          1.655050      16.653108        -73.887584        40.707964   \n",
       "std           1.311149       7.235212          0.096631         0.058282   \n",
       "min           1.000000       0.370000        -74.913620        40.171890   \n",
       "25%           1.000000      13.340000        -73.981758        40.645973   \n",
       "50%           1.000000      17.130000        -73.883774        40.718315   \n",
       "75%           2.000000      19.310000        -73.783401        40.761063   \n",
       "max           6.000000      99.960000        -73.212685        41.107155   \n",
       "\n",
       "         RatecodeID  dropoff_longitude  dropoff_latitude  payment_type  \\\n",
       "count  21435.000000       21435.000000      21435.000000  21435.000000   \n",
       "mean       1.881969         -73.911413         40.719459      1.268300   \n",
       "std        1.094520           0.151482          0.089660      0.491032   \n",
       "min        1.000000         -74.984268         39.945095      1.000000   \n",
       "25%        1.000000         -73.987576         40.646820      1.000000   \n",
       "50%        2.000000         -73.926231         40.708008      1.000000   \n",
       "75%        2.000000         -73.788940         40.765629      1.000000   \n",
       "max        5.000000         -73.017113         41.706463      4.000000   \n",
       "\n",
       "        fare_amount         extra       mta_tax    tip_amount  tolls_amount  \\\n",
       "count  21435.000000  21435.000000  21435.000000  21435.000000  21435.000000   \n",
       "mean      51.418793      0.219827      0.435573      7.770273      3.517061   \n",
       "std       28.728417      0.372911      0.167523      7.018051      4.773465   \n",
       "min        3.000000      0.000000      0.000000      0.000000      0.000000   \n",
       "25%       39.000000      0.000000      0.500000      0.000000      0.000000   \n",
       "50%       52.000000      0.000000      0.500000      8.950000      0.000000   \n",
       "75%       52.000000      0.500000      0.500000     11.670000      5.540000   \n",
       "max      400.000000      4.500000      0.500000    128.000000     30.000000   \n",
       "\n",
       "       total_amount      duration      subtotal      tip_perc   pickup_hour  \\\n",
       "count  21435.000000  21435.000000  21435.000000  21435.000000  21435.000000   \n",
       "mean      63.661527   1372.414836     55.891254      0.135355      7.130721   \n",
       "std       34.491467    579.544965     30.633138      0.108620      7.050564   \n",
       "min        3.300000     30.000000      3.300000      0.000000      0.000000   \n",
       "25%       43.800000   1099.000000     40.300000      0.000000      2.000000   \n",
       "50%       65.300000   1419.000000     56.300000      0.199691      5.000000   \n",
       "75%       70.010000   1617.000000     58.340000      0.200034      9.000000   \n",
       "max      483.340000   7755.000000    418.340000      3.703704     23.000000   \n",
       "\n",
       "          avg_speed  ridesAtPickupHour  \n",
       "count  21435.000000       21435.000000  \n",
       "mean      44.053253        8146.361887  \n",
       "std        4.354260        5255.996833  \n",
       "min       40.000000        1696.000000  \n",
       "25%       41.267221        3332.400000  \n",
       "50%       42.933516        6724.500000  \n",
       "75%       45.439425       12539.500000  \n",
       "max       80.000000       20311.800000  "
      ]
     },
     "execution_count": 255,
     "metadata": {},
     "output_type": "execute_result"
    }
   ],
   "source": [
    "t.describe()"
   ]
  },
  {
   "cell_type": "code",
   "execution_count": 256,
   "metadata": {},
   "outputs": [
    {
     "data": {
      "text/plain": [
       "1    9475\n",
       "2    8346\n",
       "3    1730\n",
       "5    1447\n",
       "4     437\n",
       "Name: RatecodeID, dtype: int64"
      ]
     },
     "execution_count": 256,
     "metadata": {},
     "output_type": "execute_result"
    }
   ],
   "source": [
    "t.RatecodeID.value_counts()"
   ]
  },
  {
   "cell_type": "code",
   "execution_count": 257,
   "metadata": {},
   "outputs": [
    {
     "data": {
      "text/plain": [
       "1    8907479\n",
       "2     127432\n",
       "3      17425\n",
       "5      11165\n",
       "4       3539\n",
       "Name: RatecodeID, dtype: int64"
      ]
     },
     "execution_count": 257,
     "metadata": {},
     "output_type": "execute_result"
    }
   ],
   "source": [
    "train.RatecodeID.value_counts()"
   ]
  },
  {
   "cell_type": "code",
   "execution_count": 258,
   "metadata": {},
   "outputs": [],
   "source": [
    "train = train[(train.avg_speed<=60)]"
   ]
  },
  {
   "cell_type": "code",
   "execution_count": 259,
   "metadata": {},
   "outputs": [
    {
     "data": {
      "text/plain": [
       "(9066771, 27)"
      ]
     },
     "execution_count": 259,
     "metadata": {},
     "output_type": "execute_result"
    }
   ],
   "source": [
    "train.shape"
   ]
  },
  {
   "cell_type": "code",
   "execution_count": 260,
   "metadata": {},
   "outputs": [
    {
     "data": {
      "text/html": [
       "<div>\n",
       "<style scoped>\n",
       "    .dataframe tbody tr th:only-of-type {\n",
       "        vertical-align: middle;\n",
       "    }\n",
       "\n",
       "    .dataframe tbody tr th {\n",
       "        vertical-align: top;\n",
       "    }\n",
       "\n",
       "    .dataframe thead th {\n",
       "        text-align: right;\n",
       "    }\n",
       "</style>\n",
       "<table border=\"1\" class=\"dataframe\">\n",
       "  <thead>\n",
       "    <tr style=\"text-align: right;\">\n",
       "      <th></th>\n",
       "      <th>id</th>\n",
       "      <th>VendorID</th>\n",
       "      <th>passenger_count</th>\n",
       "      <th>trip_distance</th>\n",
       "      <th>pickup_longitude</th>\n",
       "      <th>pickup_latitude</th>\n",
       "      <th>RatecodeID</th>\n",
       "      <th>dropoff_longitude</th>\n",
       "      <th>dropoff_latitude</th>\n",
       "      <th>payment_type</th>\n",
       "      <th>tolls_amount</th>\n",
       "      <th>improvement_surcharge</th>\n",
       "      <th>duration</th>\n",
       "      <th>avg_speed</th>\n",
       "      <th>ridesAtPickupHour</th>\n",
       "    </tr>\n",
       "  </thead>\n",
       "  <tbody>\n",
       "    <tr>\n",
       "      <th>count</th>\n",
       "      <td>64000.000000</td>\n",
       "      <td>64000.000000</td>\n",
       "      <td>64000.000000</td>\n",
       "      <td>64000.000000</td>\n",
       "      <td>64000.000000</td>\n",
       "      <td>64000.000000</td>\n",
       "      <td>64000.000000</td>\n",
       "      <td>64000.000000</td>\n",
       "      <td>64000.000000</td>\n",
       "      <td>64000.000000</td>\n",
       "      <td>64000.00000</td>\n",
       "      <td>64000.000000</td>\n",
       "      <td>64000.000000</td>\n",
       "      <td>64000.000000</td>\n",
       "      <td>64000.000000</td>\n",
       "    </tr>\n",
       "    <tr>\n",
       "      <th>mean</th>\n",
       "      <td>32000.500000</td>\n",
       "      <td>1.537047</td>\n",
       "      <td>1.671188</td>\n",
       "      <td>5.896713</td>\n",
       "      <td>-73.960769</td>\n",
       "      <td>40.744481</td>\n",
       "      <td>1.406250</td>\n",
       "      <td>-73.975568</td>\n",
       "      <td>40.746855</td>\n",
       "      <td>1.337031</td>\n",
       "      <td>1.74787</td>\n",
       "      <td>0.299991</td>\n",
       "      <td>1230.515344</td>\n",
       "      <td>14.546904</td>\n",
       "      <td>14415.856201</td>\n",
       "    </tr>\n",
       "    <tr>\n",
       "      <th>std</th>\n",
       "      <td>18475.352951</td>\n",
       "      <td>0.498630</td>\n",
       "      <td>1.303686</td>\n",
       "      <td>7.234262</td>\n",
       "      <td>0.060701</td>\n",
       "      <td>0.037676</td>\n",
       "      <td>0.913769</td>\n",
       "      <td>0.084823</td>\n",
       "      <td>0.047903</td>\n",
       "      <td>0.492926</td>\n",
       "      <td>4.14628</td>\n",
       "      <td>0.001677</td>\n",
       "      <td>1080.955692</td>\n",
       "      <td>9.388043</td>\n",
       "      <td>3799.740583</td>\n",
       "    </tr>\n",
       "    <tr>\n",
       "      <th>min</th>\n",
       "      <td>1.000000</td>\n",
       "      <td>1.000000</td>\n",
       "      <td>0.000000</td>\n",
       "      <td>0.010000</td>\n",
       "      <td>-74.527763</td>\n",
       "      <td>40.535580</td>\n",
       "      <td>1.000000</td>\n",
       "      <td>-74.833679</td>\n",
       "      <td>40.045311</td>\n",
       "      <td>1.000000</td>\n",
       "      <td>0.00000</td>\n",
       "      <td>0.000000</td>\n",
       "      <td>40.000000</td>\n",
       "      <td>0.014337</td>\n",
       "      <td>1696.000000</td>\n",
       "    </tr>\n",
       "    <tr>\n",
       "      <th>25%</th>\n",
       "      <td>16000.750000</td>\n",
       "      <td>1.000000</td>\n",
       "      <td>1.000000</td>\n",
       "      <td>1.200000</td>\n",
       "      <td>-73.991264</td>\n",
       "      <td>40.732536</td>\n",
       "      <td>1.000000</td>\n",
       "      <td>-73.993828</td>\n",
       "      <td>40.725780</td>\n",
       "      <td>1.000000</td>\n",
       "      <td>0.00000</td>\n",
       "      <td>0.300000</td>\n",
       "      <td>468.000000</td>\n",
       "      <td>8.153310</td>\n",
       "      <td>13251.750000</td>\n",
       "    </tr>\n",
       "    <tr>\n",
       "      <th>50%</th>\n",
       "      <td>32000.500000</td>\n",
       "      <td>2.000000</td>\n",
       "      <td>1.000000</td>\n",
       "      <td>2.260000</td>\n",
       "      <td>-73.980370</td>\n",
       "      <td>40.752197</td>\n",
       "      <td>1.000000</td>\n",
       "      <td>-73.980309</td>\n",
       "      <td>40.751484</td>\n",
       "      <td>1.000000</td>\n",
       "      <td>0.00000</td>\n",
       "      <td>0.300000</td>\n",
       "      <td>858.000000</td>\n",
       "      <td>11.716077</td>\n",
       "      <td>14940.000000</td>\n",
       "    </tr>\n",
       "    <tr>\n",
       "      <th>75%</th>\n",
       "      <td>48000.250000</td>\n",
       "      <td>2.000000</td>\n",
       "      <td>2.000000</td>\n",
       "      <td>8.080000</td>\n",
       "      <td>-73.962111</td>\n",
       "      <td>40.766815</td>\n",
       "      <td>1.000000</td>\n",
       "      <td>-73.960541</td>\n",
       "      <td>40.768697</td>\n",
       "      <td>2.000000</td>\n",
       "      <td>0.00000</td>\n",
       "      <td>0.300000</td>\n",
       "      <td>1659.000000</td>\n",
       "      <td>18.140034</td>\n",
       "      <td>16814.500000</td>\n",
       "    </tr>\n",
       "    <tr>\n",
       "      <th>max</th>\n",
       "      <td>64000.000000</td>\n",
       "      <td>2.000000</td>\n",
       "      <td>9.000000</td>\n",
       "      <td>86.600000</td>\n",
       "      <td>-72.659561</td>\n",
       "      <td>41.255787</td>\n",
       "      <td>5.000000</td>\n",
       "      <td>-72.551582</td>\n",
       "      <td>41.525589</td>\n",
       "      <td>4.000000</td>\n",
       "      <td>82.50000</td>\n",
       "      <td>0.300000</td>\n",
       "      <td>9931.000000</td>\n",
       "      <td>176.170213</td>\n",
       "      <td>20311.800000</td>\n",
       "    </tr>\n",
       "  </tbody>\n",
       "</table>\n",
       "</div>"
      ],
      "text/plain": [
       "                 id      VendorID  passenger_count  trip_distance  \\\n",
       "count  64000.000000  64000.000000     64000.000000   64000.000000   \n",
       "mean   32000.500000      1.537047         1.671188       5.896713   \n",
       "std    18475.352951      0.498630         1.303686       7.234262   \n",
       "min        1.000000      1.000000         0.000000       0.010000   \n",
       "25%    16000.750000      1.000000         1.000000       1.200000   \n",
       "50%    32000.500000      2.000000         1.000000       2.260000   \n",
       "75%    48000.250000      2.000000         2.000000       8.080000   \n",
       "max    64000.000000      2.000000         9.000000      86.600000   \n",
       "\n",
       "       pickup_longitude  pickup_latitude    RatecodeID  dropoff_longitude  \\\n",
       "count      64000.000000     64000.000000  64000.000000       64000.000000   \n",
       "mean         -73.960769        40.744481      1.406250         -73.975568   \n",
       "std            0.060701         0.037676      0.913769           0.084823   \n",
       "min          -74.527763        40.535580      1.000000         -74.833679   \n",
       "25%          -73.991264        40.732536      1.000000         -73.993828   \n",
       "50%          -73.980370        40.752197      1.000000         -73.980309   \n",
       "75%          -73.962111        40.766815      1.000000         -73.960541   \n",
       "max          -72.659561        41.255787      5.000000         -72.551582   \n",
       "\n",
       "       dropoff_latitude  payment_type  tolls_amount  improvement_surcharge  \\\n",
       "count      64000.000000  64000.000000   64000.00000           64000.000000   \n",
       "mean          40.746855      1.337031       1.74787               0.299991   \n",
       "std            0.047903      0.492926       4.14628               0.001677   \n",
       "min           40.045311      1.000000       0.00000               0.000000   \n",
       "25%           40.725780      1.000000       0.00000               0.300000   \n",
       "50%           40.751484      1.000000       0.00000               0.300000   \n",
       "75%           40.768697      2.000000       0.00000               0.300000   \n",
       "max           41.525589      4.000000      82.50000               0.300000   \n",
       "\n",
       "           duration     avg_speed  ridesAtPickupHour  \n",
       "count  64000.000000  64000.000000       64000.000000  \n",
       "mean    1230.515344     14.546904       14415.856201  \n",
       "std     1080.955692      9.388043        3799.740583  \n",
       "min       40.000000      0.014337        1696.000000  \n",
       "25%      468.000000      8.153310       13251.750000  \n",
       "50%      858.000000     11.716077       14940.000000  \n",
       "75%     1659.000000     18.140034       16814.500000  \n",
       "max     9931.000000    176.170213       20311.800000  "
      ]
     },
     "execution_count": 260,
     "metadata": {},
     "output_type": "execute_result"
    }
   ],
   "source": [
    "test.describe()"
   ]
  },
  {
   "cell_type": "markdown",
   "metadata": {},
   "source": [
    "## Function for parameter optimization for lightGBM"
   ]
  },
  {
   "cell_type": "code",
   "execution_count": 302,
   "metadata": {},
   "outputs": [],
   "source": [
    "#optimization parameters for lightGBM\n",
    "param_grid = {    \n",
    "    'num_leaves':[7,31,150,500,1000],\n",
    "    #\"max_depth\":[-1,10,30,51],\n",
    "    'learning_rate': [0.003],  \n",
    "    \"objective\": [\"mae\"],\n",
    "    \"bagging_fraction\" : [0.8], \n",
    "    \"feature_fraction\" : [0.8], \n",
    "    \"num_threads\" : [4],\n",
    "    \"verbose\":[-1],\n",
    "    \"boosting\":[\"gbdt\"], #rf does not work\n",
    "}\n",
    "\n"
   ]
  },
  {
   "cell_type": "code",
   "execution_count": 303,
   "metadata": {},
   "outputs": [],
   "source": [
    "from sklearn.model_selection import ParameterGrid\n",
    "from operator import itemgetter\n",
    "import lightgbm as lgb\n",
    "import timeit\n",
    "import copy\n",
    "\n",
    "def optimisedLGM(param_grid,trainData,labels,stopping=50):\n",
    "    lgb_dataset = lgb.Dataset(trainData, label=labels)\n",
    "    \n",
    "    cv_results = []\n",
    "    counter = 0\n",
    "    print(\"Total parameter combinations to run:\",len(ParameterGrid(param_grid)))\n",
    "    first_param = None;\n",
    "    for params in ParameterGrid(param_grid):\n",
    "        start_time = timeit.default_timer()\n",
    "        counter=counter+1\n",
    "        print(\"Starting run\",counter)\n",
    "        print(params)\n",
    "        validation_summary = lgb.cv(params,\n",
    "                                    lgb_dataset,\n",
    "                                    num_boost_round=10000, \n",
    "                                    nfold=3,\n",
    "                                    early_stopping_rounds=stopping,\n",
    "                                    verbose_eval=100,\n",
    "                                    stratified=False)\n",
    "\n",
    "        params[\"optimal_number_of_trees\"] = len(validation_summary[\"l1-mean\"])\n",
    "        if(first_param == None):\n",
    "            first_param=copy.deepcopy(params)\n",
    "        cv_results.append((params, validation_summary[\"l1-mean\"][-1]))    \n",
    "        #this currently is buggy. the first element of the results will always be overriden by the last\n",
    "        \n",
    "        elapsed = timeit.default_timer() - start_time\n",
    "        if (counter %1 == 0):\n",
    "            print(\"Run done, took:\",round(elapsed,2),\"s\")   \n",
    "\n",
    "    first_tuple = cv_results[0]\n",
    "    first_param\n",
    "    cv_results[0] = (first_param,first_tuple[1]) # this fixes the bug mentioned above, no idea why this is happening though\n",
    "    param_set = min(cv_results,key=itemgetter(1)) #best params, minimal mae\n",
    "    print(\"Best params:\",param_set)\n",
    "    #print(cv_results)   \n",
    "    lgb_model = lgb.train(param_set[0],lgb_dataset,param_set[0][\"optimal_number_of_trees\"])\n",
    "    return lgb_model"
   ]
  },
  {
   "cell_type": "code",
   "execution_count": 263,
   "metadata": {},
   "outputs": [],
   "source": [
    "from sklearn.model_selection import ParameterGrid\n",
    "from operator import itemgetter\n",
    "import lightgbm as lgb\n",
    "import timeit\n",
    "from sklearn.model_selection import GridSearchCV\n",
    "\n",
    "def optimisedLGM2(param_grid,trainData,labels):\n",
    "\n",
    "    estimator = lgb.LGBMRegressor(objective = \"mae\",n_jobs=2)\n",
    "    param_grid = {\n",
    "        'learning_rate': [0.05],\n",
    "        'n_estimators': [200,400,600,800],\n",
    "        'num_leaves':[7,80],\n",
    "        \"boosting_type\":[\"gbdt\"],\n",
    "        \"max_depth\":[2,63,None],    \n",
    "    }\n",
    "\n",
    "    gbm = GridSearchCV(estimator,param_grid,verbose=2,n_jobs=2)    \n",
    "\n",
    "    gbm.fit(trainData,labels)\n",
    "    print('Best parameters found by grid search are:', gbm.best_params_)\n",
    "    print(\"Best score:\",gbm.cv_results_)\n",
    "    return gbm;"
   ]
  },
  {
   "cell_type": "markdown",
   "metadata": {},
   "source": [
    "# Ratecode 1 (Standard rate)"
   ]
  },
  {
   "cell_type": "markdown",
   "metadata": {},
   "source": [
    "## Building the Model"
   ]
  },
  {
   "cell_type": "code",
   "execution_count": 264,
   "metadata": {},
   "outputs": [],
   "source": [
    "code1data = train[train.RatecodeID == 1]"
   ]
  },
  {
   "cell_type": "code",
   "execution_count": 265,
   "metadata": {},
   "outputs": [],
   "source": [
    "code1test = test[test.RatecodeID == 1]"
   ]
  },
  {
   "cell_type": "code",
   "execution_count": 267,
   "metadata": {},
   "outputs": [
    {
     "data": {
      "text/plain": [
       "Index(['id', 'VendorID', 'tpep_pickup_datetime', 'tpep_dropoff_datetime',\n",
       "       'passenger_count', 'trip_distance', 'pickup_longitude',\n",
       "       'pickup_latitude', 'RatecodeID', 'store_and_fwd_flag',\n",
       "       'dropoff_longitude', 'dropoff_latitude', 'payment_type', 'tolls_amount',\n",
       "       'improvement_surcharge', 'duration', 'avg_speed', 'pickup_hour', 'day',\n",
       "       'ridesAtPickupHour'],\n",
       "      dtype='object')"
      ]
     },
     "execution_count": 267,
     "metadata": {},
     "output_type": "execute_result"
    }
   ],
   "source": [
    "test.columns"
   ]
  },
  {
   "cell_type": "code",
   "execution_count": 274,
   "metadata": {
    "scrolled": true
   },
   "outputs": [
    {
     "name": "stdout",
     "output_type": "stream",
     "text": [
      "Wall time: 1h 11min 12s\n"
     ]
    }
   ],
   "source": [
    "%%time\n",
    "features = [\"duration\",\"trip_distance\",\"avg_speed\",\"ridesAtPickupHour\",\"pickup_hour\"]\n",
    "#train new model\n",
    "#code1_model = optimisedLGM(param_grid,code1data[features],code1data[\"fare_amount\"])\n",
    "\n",
    "#use old params\n",
    "params = ({'bagging_fraction': 0.8, 'boosting': 'gbdt', 'feature_fraction': 0.8, 'learning_rate': 0.003, 'num_leaves': 1000, 'num_threads': 4, 'objective': 'mae', 'verbose': -1, 'optimal_number_of_trees': 10000})\n",
    "code1_dataset = lgb.Dataset(code1data[features], label=code1data[\"fare_amount\"])\n",
    "code1_model = lgb.train(params,code1_dataset,params[\"optimal_number_of_trees\"])"
   ]
  },
  {
   "cell_type": "code",
   "execution_count": 272,
   "metadata": {},
   "outputs": [
    {
     "data": {
      "text/plain": [
       "<matplotlib.axes._subplots.AxesSubplot at 0x28014036fd0>"
      ]
     },
     "execution_count": 272,
     "metadata": {},
     "output_type": "execute_result"
    },
    {
     "data": {
      "image/png": "[encoded data removed]",
      "text/plain": [
       "<matplotlib.figure.Figure at 0x2806928ae48>"
      ]
     },
     "metadata": {},
     "output_type": "display_data"
    }
   ],
   "source": [
    "lgb.plot_importance(code1_model, max_num_features=10)"
   ]
  },
  {
   "cell_type": "markdown",
   "metadata": {},
   "source": [
    "## Prediction"
   ]
  },
  {
   "cell_type": "code",
   "execution_count": 172,
   "metadata": {},
   "outputs": [],
   "source": [
    "code1prediction = np.round(code1_model.predict(code1test[features])*2)/2"
   ]
  },
  {
   "cell_type": "code",
   "execution_count": 173,
   "metadata": {},
   "outputs": [
    {
     "data": {
      "text/plain": [
       "array([ 4. ,  6.5, 10.5, ...,  4.5,  6. , 15. ])"
      ]
     },
     "execution_count": 173,
     "metadata": {},
     "output_type": "execute_result"
    }
   ],
   "source": [
    "code1prediction"
   ]
  },
  {
   "cell_type": "code",
   "execution_count": 174,
   "metadata": {},
   "outputs": [],
   "source": [
    "code1test = code1test.assign(fare_amount_prediction = code1prediction)"
   ]
  },
  {
   "cell_type": "markdown",
   "metadata": {},
   "source": [
    "# Ratecode 2 (JFK)"
   ]
  },
  {
   "cell_type": "markdown",
   "metadata": {},
   "source": [
    "## Building the Model"
   ]
  },
  {
   "cell_type": "markdown",
   "metadata": {},
   "source": [
    "No model building neccessary, all rides cost 52$"
   ]
  },
  {
   "cell_type": "code",
   "execution_count": 175,
   "metadata": {},
   "outputs": [],
   "source": [
    "code2data = train[train.RatecodeID == 2]\n",
    "code2test = test[test.RatecodeID == 2]"
   ]
  },
  {
   "cell_type": "markdown",
   "metadata": {},
   "source": [
    "## Prediction"
   ]
  },
  {
   "cell_type": "code",
   "execution_count": 176,
   "metadata": {},
   "outputs": [],
   "source": [
    "code2test[\"fare_amount_prediction\"] = 52.0"
   ]
  },
  {
   "cell_type": "markdown",
   "metadata": {},
   "source": [
    "# Ratecode 3 (Newark)"
   ]
  },
  {
   "cell_type": "markdown",
   "metadata": {},
   "source": [
    "## Building the Model"
   ]
  },
  {
   "cell_type": "code",
   "execution_count": 337,
   "metadata": {},
   "outputs": [],
   "source": [
    "code3data = train[train.RatecodeID == 3]"
   ]
  },
  {
   "cell_type": "code",
   "execution_count": 338,
   "metadata": {},
   "outputs": [],
   "source": [
    "code3test = test[test.RatecodeID == 3]"
   ]
  },
  {
   "cell_type": "code",
   "execution_count": 339,
   "metadata": {
    "scrolled": true
   },
   "outputs": [
    {
     "name": "stdout",
     "output_type": "stream",
     "text": [
      "Total parameter combinations to run: 5\n",
      "Starting run 1\n",
      "{'bagging_fraction': 0.8, 'boosting': 'gbdt', 'feature_fraction': 0.8, 'learning_rate': 0.003, 'num_leaves': 7, 'num_threads': 4, 'objective': 'mae', 'verbose': -1}\n",
      "[100]\tcv_agg's l1: 6.32118 + 0.0898515\n",
      "[200]\tcv_agg's l1: 5.40236 + 0.0864623\n",
      "[300]\tcv_agg's l1: 4.70288 + 0.0851631\n",
      "[400]\tcv_agg's l1: 4.13374 + 0.0931556\n",
      "[500]\tcv_agg's l1: 3.65932 + 0.0830107\n",
      "[600]\tcv_agg's l1: 3.26608 + 0.0768116\n",
      "[700]\tcv_agg's l1: 2.94976 + 0.0755124\n",
      "[800]\tcv_agg's l1: 2.68184 + 0.0713168\n",
      "[900]\tcv_agg's l1: 2.44556 + 0.0654861\n",
      "[1000]\tcv_agg's l1: 2.24491 + 0.0598136\n",
      "[1100]\tcv_agg's l1: 2.03455 + 0.0574693\n",
      "[1200]\tcv_agg's l1: 1.76629 + 0.0478241\n",
      "[1300]\tcv_agg's l1: 1.53938 + 0.0341861\n",
      "[1400]\tcv_agg's l1: 1.36948 + 0.0256537\n",
      "[1500]\tcv_agg's l1: 1.23755 + 0.0152891\n",
      "[1600]\tcv_agg's l1: 1.14492 + 0.0124463\n",
      "[1700]\tcv_agg's l1: 1.07562 + 0.0117453\n",
      "[1800]\tcv_agg's l1: 1.02571 + 0.011244\n",
      "[1900]\tcv_agg's l1: 0.988005 + 0.0113142\n",
      "[2000]\tcv_agg's l1: 0.960461 + 0.0102205\n",
      "[2100]\tcv_agg's l1: 0.938815 + 0.0083727\n",
      "[2200]\tcv_agg's l1: 0.923111 + 0.00798901\n",
      "[2300]\tcv_agg's l1: 0.910792 + 0.00743812\n",
      "[2400]\tcv_agg's l1: 0.901058 + 0.00644426\n",
      "[2500]\tcv_agg's l1: 0.893044 + 0.00607535\n",
      "[2600]\tcv_agg's l1: 0.886399 + 0.00589964\n",
      "[2700]\tcv_agg's l1: 0.881431 + 0.00526317\n",
      "[2800]\tcv_agg's l1: 0.877245 + 0.00519934\n",
      "[2900]\tcv_agg's l1: 0.874156 + 0.0049441\n",
      "[3000]\tcv_agg's l1: 0.871323 + 0.00496621\n",
      "[3100]\tcv_agg's l1: 0.868917 + 0.00476239\n",
      "[3200]\tcv_agg's l1: 0.866232 + 0.00476793\n",
      "[3300]\tcv_agg's l1: 0.86398 + 0.00482605\n",
      "[3400]\tcv_agg's l1: 0.862045 + 0.00498264\n",
      "[3500]\tcv_agg's l1: 0.860553 + 0.00523216\n",
      "[3600]\tcv_agg's l1: 0.858777 + 0.00538123\n",
      "[3700]\tcv_agg's l1: 0.857037 + 0.00573619\n",
      "[3800]\tcv_agg's l1: 0.855465 + 0.00611755\n",
      "[3900]\tcv_agg's l1: 0.853723 + 0.00625558\n",
      "[4000]\tcv_agg's l1: 0.851968 + 0.00608694\n",
      "[4100]\tcv_agg's l1: 0.850075 + 0.00604441\n",
      "[4200]\tcv_agg's l1: 0.848266 + 0.00670733\n",
      "[4300]\tcv_agg's l1: 0.846356 + 0.00717899\n",
      "[4400]\tcv_agg's l1: 0.844438 + 0.00764453\n",
      "[4500]\tcv_agg's l1: 0.842879 + 0.00806209\n",
      "[4600]\tcv_agg's l1: 0.841071 + 0.00826252\n",
      "[4700]\tcv_agg's l1: 0.839516 + 0.00784049\n",
      "[4800]\tcv_agg's l1: 0.837533 + 0.00748684\n",
      "[4900]\tcv_agg's l1: 0.835623 + 0.00731897\n",
      "[5000]\tcv_agg's l1: 0.834102 + 0.00734964\n",
      "[5100]\tcv_agg's l1: 0.832707 + 0.00731862\n",
      "[5200]\tcv_agg's l1: 0.831503 + 0.00730872\n",
      "[5300]\tcv_agg's l1: 0.830577 + 0.00717695\n",
      "[5400]\tcv_agg's l1: 0.829566 + 0.00714164\n",
      "[5500]\tcv_agg's l1: 0.828609 + 0.0071433\n",
      "[5600]\tcv_agg's l1: 0.82767 + 0.00720499\n",
      "[5700]\tcv_agg's l1: 0.826711 + 0.00742808\n",
      "[5800]\tcv_agg's l1: 0.825896 + 0.00758459\n",
      "[5900]\tcv_agg's l1: 0.825012 + 0.00769469\n",
      "[6000]\tcv_agg's l1: 0.824406 + 0.0078491\n",
      "[6100]\tcv_agg's l1: 0.823788 + 0.00795835\n",
      "[6200]\tcv_agg's l1: 0.822934 + 0.00798103\n",
      "[6300]\tcv_agg's l1: 0.821932 + 0.0076396\n",
      "[6400]\tcv_agg's l1: 0.821153 + 0.00736936\n",
      "[6500]\tcv_agg's l1: 0.820288 + 0.00729601\n",
      "[6600]\tcv_agg's l1: 0.819319 + 0.00712365\n",
      "[6700]\tcv_agg's l1: 0.818624 + 0.00700607\n",
      "[6800]\tcv_agg's l1: 0.818075 + 0.0071399\n",
      "[6900]\tcv_agg's l1: 0.817529 + 0.00711834\n",
      "[7000]\tcv_agg's l1: 0.817002 + 0.00714991\n",
      "[7100]\tcv_agg's l1: 0.816162 + 0.00673603\n",
      "[7200]\tcv_agg's l1: 0.815662 + 0.00676835\n",
      "[7300]\tcv_agg's l1: 0.815062 + 0.0067383\n",
      "[7400]\tcv_agg's l1: 0.814407 + 0.00688559\n",
      "[7500]\tcv_agg's l1: 0.813728 + 0.00679026\n",
      "[7600]\tcv_agg's l1: 0.813202 + 0.00658779\n",
      "[7700]\tcv_agg's l1: 0.812845 + 0.00643587\n",
      "[7800]\tcv_agg's l1: 0.812453 + 0.006268\n",
      "[7900]\tcv_agg's l1: 0.811965 + 0.00614083\n",
      "[8000]\tcv_agg's l1: 0.81143 + 0.00608649\n",
      "[8100]\tcv_agg's l1: 0.810938 + 0.00600592\n",
      "[8200]\tcv_agg's l1: 0.810297 + 0.00602011\n",
      "[8300]\tcv_agg's l1: 0.809754 + 0.00604008\n",
      "[8400]\tcv_agg's l1: 0.809213 + 0.00599176\n",
      "[8500]\tcv_agg's l1: 0.808901 + 0.00583004\n",
      "[8600]\tcv_agg's l1: 0.808553 + 0.00570727\n",
      "[8700]\tcv_agg's l1: 0.808404 + 0.00574913\n",
      "[8800]\tcv_agg's l1: 0.808045 + 0.00553756\n",
      "[8900]\tcv_agg's l1: 0.807837 + 0.0054025\n",
      "[9000]\tcv_agg's l1: 0.807383 + 0.00519607\n",
      "[9100]\tcv_agg's l1: 0.807019 + 0.00505912\n",
      "[9200]\tcv_agg's l1: 0.806678 + 0.00507644\n",
      "[9300]\tcv_agg's l1: 0.806201 + 0.00507946\n",
      "[9400]\tcv_agg's l1: 0.805823 + 0.00500638\n",
      "[9500]\tcv_agg's l1: 0.805406 + 0.00490173\n",
      "[9600]\tcv_agg's l1: 0.805038 + 0.00497839\n",
      "[9700]\tcv_agg's l1: 0.804609 + 0.00495732\n",
      "[9800]\tcv_agg's l1: 0.804181 + 0.00494013\n",
      "[9900]\tcv_agg's l1: 0.803729 + 0.00490631\n",
      "[10000]\tcv_agg's l1: 0.803322 + 0.00481064\n",
      "Run done, took: 12.75 s\n",
      "Starting run 2\n",
      "{'bagging_fraction': 0.8, 'boosting': 'gbdt', 'feature_fraction': 0.8, 'learning_rate': 0.003, 'num_leaves': 31, 'num_threads': 4, 'objective': 'mae', 'verbose': -1}\n",
      "[100]\tcv_agg's l1: 6.07703 + 0.0901791\n",
      "[200]\tcv_agg's l1: 4.95482 + 0.0882004\n",
      "[300]\tcv_agg's l1: 4.09582 + 0.0908436\n",
      "[400]\tcv_agg's l1: 3.43862 + 0.0868115\n",
      "[500]\tcv_agg's l1: 2.92365 + 0.0809586\n",
      "[600]\tcv_agg's l1: 2.51483 + 0.0745397\n",
      "[700]\tcv_agg's l1: 2.17524 + 0.0663867\n",
      "[800]\tcv_agg's l1: 1.91331 + 0.0560212\n",
      "[900]\tcv_agg's l1: 1.6962 + 0.0485067\n",
      "[1000]\tcv_agg's l1: 1.46479 + 0.0380891\n",
      "[1100]\tcv_agg's l1: 1.28037 + 0.0237545\n",
      "[1200]\tcv_agg's l1: 1.15117 + 0.0157001\n",
      "[1300]\tcv_agg's l1: 1.05961 + 0.0114506\n",
      "[1400]\tcv_agg's l1: 0.993397 + 0.010373\n",
      "[1500]\tcv_agg's l1: 0.94538 + 0.0102943\n",
      "[1600]\tcv_agg's l1: 0.911268 + 0.0105281\n",
      "[1700]\tcv_agg's l1: 0.886583 + 0.00933777\n",
      "[1800]\tcv_agg's l1: 0.868059 + 0.00917265\n",
      "[1900]\tcv_agg's l1: 0.853241 + 0.00860006\n",
      "[2000]\tcv_agg's l1: 0.84201 + 0.00742334\n",
      "[2100]\tcv_agg's l1: 0.833943 + 0.00627011\n",
      "[2200]\tcv_agg's l1: 0.827491 + 0.0049237\n",
      "[2300]\tcv_agg's l1: 0.82222 + 0.00403093\n",
      "[2400]\tcv_agg's l1: 0.817357 + 0.00424114\n",
      "[2500]\tcv_agg's l1: 0.813063 + 0.00498631\n",
      "[2600]\tcv_agg's l1: 0.809305 + 0.00559606\n",
      "[2700]\tcv_agg's l1: 0.805512 + 0.005703\n",
      "[2800]\tcv_agg's l1: 0.80244 + 0.00609268\n",
      "[2900]\tcv_agg's l1: 0.799281 + 0.00572466\n",
      "[3000]\tcv_agg's l1: 0.797075 + 0.00552929\n",
      "[3100]\tcv_agg's l1: 0.795493 + 0.00542716\n",
      "[3200]\tcv_agg's l1: 0.794382 + 0.00540099\n",
      "[3300]\tcv_agg's l1: 0.79342 + 0.00522139\n",
      "[3400]\tcv_agg's l1: 0.792429 + 0.00514579\n",
      "[3500]\tcv_agg's l1: 0.791662 + 0.00528856\n",
      "[3600]\tcv_agg's l1: 0.791005 + 0.00541248\n",
      "[3700]\tcv_agg's l1: 0.79023 + 0.00560743\n",
      "[3800]\tcv_agg's l1: 0.789642 + 0.00578307\n",
      "[3900]\tcv_agg's l1: 0.789204 + 0.0059357\n",
      "[4000]\tcv_agg's l1: 0.788696 + 0.00601449\n",
      "[4100]\tcv_agg's l1: 0.788248 + 0.00604536\n",
      "[4200]\tcv_agg's l1: 0.787845 + 0.00612032\n",
      "[4300]\tcv_agg's l1: 0.78743 + 0.00622647\n",
      "[4400]\tcv_agg's l1: 0.787053 + 0.00626624\n",
      "[4500]\tcv_agg's l1: 0.786801 + 0.00631543\n",
      "[4600]\tcv_agg's l1: 0.786346 + 0.00646695\n",
      "[4700]\tcv_agg's l1: 0.785946 + 0.00667296\n",
      "[4800]\tcv_agg's l1: 0.785485 + 0.00673285\n",
      "[4900]\tcv_agg's l1: 0.785099 + 0.00671485\n",
      "[5000]\tcv_agg's l1: 0.784776 + 0.00672523\n",
      "[5100]\tcv_agg's l1: 0.784468 + 0.00670026\n",
      "[5200]\tcv_agg's l1: 0.784162 + 0.00658354\n",
      "[5300]\tcv_agg's l1: 0.784062 + 0.00663418\n",
      "[5400]\tcv_agg's l1: 0.783904 + 0.00663769\n",
      "[5500]\tcv_agg's l1: 0.783738 + 0.00655252\n",
      "[5600]\tcv_agg's l1: 0.783542 + 0.00648555\n",
      "[5700]\tcv_agg's l1: 0.783422 + 0.00646634\n",
      "[5800]\tcv_agg's l1: 0.783262 + 0.00646922\n",
      "[5900]\tcv_agg's l1: 0.783117 + 0.00637807\n",
      "[6000]\tcv_agg's l1: 0.78301 + 0.00629907\n",
      "[6100]\tcv_agg's l1: 0.782897 + 0.00625335\n",
      "[6200]\tcv_agg's l1: 0.782721 + 0.00618346\n",
      "[6300]\tcv_agg's l1: 0.78262 + 0.00615004\n",
      "[6400]\tcv_agg's l1: 0.782504 + 0.00612842\n",
      "[6500]\tcv_agg's l1: 0.78236 + 0.00609959\n",
      "[6600]\tcv_agg's l1: 0.78224 + 0.00610516\n",
      "[6700]\tcv_agg's l1: 0.782124 + 0.00613594\n",
      "[6800]\tcv_agg's l1: 0.781986 + 0.00615848\n",
      "[6900]\tcv_agg's l1: 0.781889 + 0.00616577\n",
      "[7000]\tcv_agg's l1: 0.781764 + 0.00614951\n",
      "[7100]\tcv_agg's l1: 0.78167 + 0.0061498\n",
      "[7200]\tcv_agg's l1: 0.781579 + 0.00618642\n",
      "[7300]\tcv_agg's l1: 0.781466 + 0.00620028\n",
      "[7400]\tcv_agg's l1: 0.781368 + 0.00622121\n",
      "[7500]\tcv_agg's l1: 0.781231 + 0.0062408\n",
      "[7600]\tcv_agg's l1: 0.781141 + 0.00630715\n",
      "[7700]\tcv_agg's l1: 0.781033 + 0.00632531\n",
      "[7800]\tcv_agg's l1: 0.780908 + 0.00634303\n",
      "[7900]\tcv_agg's l1: 0.780878 + 0.00636226\n",
      "[8000]\tcv_agg's l1: 0.780812 + 0.00637362\n",
      "[8100]\tcv_agg's l1: 0.780762 + 0.00635987\n",
      "[8200]\tcv_agg's l1: 0.78072 + 0.00636612\n",
      "[8300]\tcv_agg's l1: 0.78064 + 0.00634662\n",
      "[8400]\tcv_agg's l1: 0.780616 + 0.00635143\n",
      "[8500]\tcv_agg's l1: 0.780547 + 0.00635749\n",
      "[8600]\tcv_agg's l1: 0.780436 + 0.00639088\n",
      "[8700]\tcv_agg's l1: 0.780366 + 0.00640239\n",
      "[8800]\tcv_agg's l1: 0.780307 + 0.00644016\n",
      "[8900]\tcv_agg's l1: 0.78027 + 0.0064382\n"
     ]
    },
    {
     "name": "stdout",
     "output_type": "stream",
     "text": [
      "[9000]\tcv_agg's l1: 0.780241 + 0.00643898\n",
      "[9100]\tcv_agg's l1: 0.780179 + 0.00645239\n",
      "[9200]\tcv_agg's l1: 0.780117 + 0.00646624\n",
      "[9300]\tcv_agg's l1: 0.780069 + 0.00648258\n",
      "[9400]\tcv_agg's l1: 0.78003 + 0.00650132\n",
      "[9500]\tcv_agg's l1: 0.779977 + 0.00649629\n",
      "[9600]\tcv_agg's l1: 0.779907 + 0.00652489\n",
      "[9700]\tcv_agg's l1: 0.779879 + 0.00655474\n",
      "[9800]\tcv_agg's l1: 0.779817 + 0.00651437\n",
      "Run done, took: 22.1 s\n",
      "Starting run 3\n",
      "{'bagging_fraction': 0.8, 'boosting': 'gbdt', 'feature_fraction': 0.8, 'learning_rate': 0.003, 'num_leaves': 150, 'num_threads': 4, 'objective': 'mae', 'verbose': -1}\n",
      "[100]\tcv_agg's l1: 5.98777 + 0.0801301\n",
      "[200]\tcv_agg's l1: 4.81673 + 0.0853936\n",
      "[300]\tcv_agg's l1: 3.9269 + 0.0822157\n",
      "[400]\tcv_agg's l1: 3.24834 + 0.0786918\n",
      "[500]\tcv_agg's l1: 2.72237 + 0.0742806\n",
      "[600]\tcv_agg's l1: 2.31075 + 0.0651006\n",
      "[700]\tcv_agg's l1: 1.98672 + 0.0549708\n",
      "[800]\tcv_agg's l1: 1.71895 + 0.0415745\n",
      "[900]\tcv_agg's l1: 1.46382 + 0.0301264\n",
      "[1000]\tcv_agg's l1: 1.26991 + 0.017163\n",
      "[1100]\tcv_agg's l1: 1.1361 + 0.0125564\n",
      "[1200]\tcv_agg's l1: 1.04299 + 0.00974851\n",
      "[1300]\tcv_agg's l1: 0.977095 + 0.00800635\n",
      "[1400]\tcv_agg's l1: 0.931341 + 0.00814361\n",
      "[1500]\tcv_agg's l1: 0.897961 + 0.00769975\n",
      "[1600]\tcv_agg's l1: 0.874619 + 0.0073785\n",
      "[1700]\tcv_agg's l1: 0.858119 + 0.00660042\n",
      "[1800]\tcv_agg's l1: 0.845707 + 0.006282\n",
      "[1900]\tcv_agg's l1: 0.836213 + 0.00603115\n",
      "[2000]\tcv_agg's l1: 0.828102 + 0.00590449\n",
      "[2100]\tcv_agg's l1: 0.822092 + 0.00637012\n",
      "[2200]\tcv_agg's l1: 0.816793 + 0.00701691\n",
      "[2300]\tcv_agg's l1: 0.812248 + 0.00780118\n",
      "[2400]\tcv_agg's l1: 0.808566 + 0.00785667\n",
      "[2500]\tcv_agg's l1: 0.805735 + 0.00778665\n",
      "[2600]\tcv_agg's l1: 0.803415 + 0.00745983\n",
      "[2700]\tcv_agg's l1: 0.801421 + 0.00713755\n",
      "[2800]\tcv_agg's l1: 0.799961 + 0.00711574\n",
      "[2900]\tcv_agg's l1: 0.79876 + 0.00702358\n",
      "[3000]\tcv_agg's l1: 0.797852 + 0.00668208\n",
      "[3100]\tcv_agg's l1: 0.797145 + 0.00621379\n",
      "[3200]\tcv_agg's l1: 0.796569 + 0.00602965\n",
      "[3300]\tcv_agg's l1: 0.795974 + 0.00571341\n",
      "[3400]\tcv_agg's l1: 0.795457 + 0.00532305\n",
      "[3500]\tcv_agg's l1: 0.794874 + 0.00491097\n",
      "[3600]\tcv_agg's l1: 0.794484 + 0.00467138\n",
      "[3700]\tcv_agg's l1: 0.794009 + 0.00421322\n",
      "[3800]\tcv_agg's l1: 0.793779 + 0.00394991\n",
      "[3900]\tcv_agg's l1: 0.793586 + 0.00372982\n",
      "[4000]\tcv_agg's l1: 0.793437 + 0.00351762\n",
      "Run done, took: 23.9 s\n",
      "Starting run 4\n",
      "{'bagging_fraction': 0.8, 'boosting': 'gbdt', 'feature_fraction': 0.8, 'learning_rate': 0.003, 'num_leaves': 500, 'num_threads': 4, 'objective': 'mae', 'verbose': -1}\n",
      "[100]\tcv_agg's l1: 5.98638 + 0.0797186\n",
      "[200]\tcv_agg's l1: 4.78329 + 0.0814349\n",
      "[300]\tcv_agg's l1: 3.8677 + 0.0761041\n",
      "[400]\tcv_agg's l1: 3.15959 + 0.0675508\n",
      "[500]\tcv_agg's l1: 2.61117 + 0.0597704\n",
      "[600]\tcv_agg's l1: 2.18717 + 0.056429\n",
      "[700]\tcv_agg's l1: 1.84719 + 0.0512384\n",
      "[800]\tcv_agg's l1: 1.54565 + 0.039728\n",
      "[900]\tcv_agg's l1: 1.32321 + 0.0258092\n",
      "[1000]\tcv_agg's l1: 1.16968 + 0.016553\n",
      "[1100]\tcv_agg's l1: 1.06747 + 0.0125026\n",
      "[1200]\tcv_agg's l1: 0.997076 + 0.0105014\n",
      "[1300]\tcv_agg's l1: 0.947568 + 0.00936701\n",
      "[1400]\tcv_agg's l1: 0.911936 + 0.00882849\n",
      "[1500]\tcv_agg's l1: 0.887199 + 0.00803347\n",
      "[1600]\tcv_agg's l1: 0.86915 + 0.0076053\n",
      "[1700]\tcv_agg's l1: 0.855562 + 0.00648848\n",
      "[1800]\tcv_agg's l1: 0.845486 + 0.0049823\n",
      "[1900]\tcv_agg's l1: 0.837998 + 0.00375507\n",
      "[2000]\tcv_agg's l1: 0.831601 + 0.00257706\n",
      "[2100]\tcv_agg's l1: 0.826225 + 0.002605\n",
      "[2200]\tcv_agg's l1: 0.821741 + 0.00391903\n",
      "[2300]\tcv_agg's l1: 0.818384 + 0.00394817\n",
      "[2400]\tcv_agg's l1: 0.814893 + 0.00332779\n",
      "[2500]\tcv_agg's l1: 0.812454 + 0.00292743\n",
      "[2600]\tcv_agg's l1: 0.81061 + 0.00265101\n",
      "[2700]\tcv_agg's l1: 0.809484 + 0.00243899\n",
      "[2800]\tcv_agg's l1: 0.808606 + 0.0021747\n",
      "[2900]\tcv_agg's l1: 0.807988 + 0.00200679\n",
      "[3000]\tcv_agg's l1: 0.807666 + 0.00195915\n",
      "[3100]\tcv_agg's l1: 0.807467 + 0.00196307\n",
      "[3200]\tcv_agg's l1: 0.80705 + 0.00213204\n",
      "[3300]\tcv_agg's l1: 0.806824 + 0.00226535\n",
      "[3400]\tcv_agg's l1: 0.806629 + 0.00226814\n",
      "[3500]\tcv_agg's l1: 0.806538 + 0.00226572\n",
      "[3600]\tcv_agg's l1: 0.806453 + 0.00233976\n",
      "Run done, took: 50.33 s\n",
      "Starting run 5\n",
      "{'bagging_fraction': 0.8, 'boosting': 'gbdt', 'feature_fraction': 0.8, 'learning_rate': 0.003, 'num_leaves': 1000, 'num_threads': 4, 'objective': 'mae', 'verbose': -1}\n",
      "[100]\tcv_agg's l1: 5.98638 + 0.0797186\n",
      "[200]\tcv_agg's l1: 4.78329 + 0.0814349\n",
      "[300]\tcv_agg's l1: 3.8677 + 0.0761041\n",
      "[400]\tcv_agg's l1: 3.15959 + 0.0675508\n",
      "[500]\tcv_agg's l1: 2.61117 + 0.0597704\n",
      "[600]\tcv_agg's l1: 2.18717 + 0.056429\n",
      "[700]\tcv_agg's l1: 1.84719 + 0.0512384\n",
      "[800]\tcv_agg's l1: 1.54565 + 0.039728\n",
      "[900]\tcv_agg's l1: 1.32321 + 0.0258092\n",
      "[1000]\tcv_agg's l1: 1.16968 + 0.016553\n",
      "[1100]\tcv_agg's l1: 1.06747 + 0.0125026\n",
      "[1200]\tcv_agg's l1: 0.997076 + 0.0105014\n",
      "[1300]\tcv_agg's l1: 0.947568 + 0.00936701\n",
      "[1400]\tcv_agg's l1: 0.911936 + 0.00882849\n",
      "[1500]\tcv_agg's l1: 0.887199 + 0.00803347\n",
      "[1600]\tcv_agg's l1: 0.86915 + 0.0076053\n",
      "[1700]\tcv_agg's l1: 0.855562 + 0.00648848\n",
      "[1800]\tcv_agg's l1: 0.845486 + 0.0049823\n",
      "[1900]\tcv_agg's l1: 0.837998 + 0.00375507\n",
      "[2000]\tcv_agg's l1: 0.831601 + 0.00257706\n",
      "[2100]\tcv_agg's l1: 0.826225 + 0.002605\n",
      "[2200]\tcv_agg's l1: 0.821741 + 0.00391903\n",
      "[2300]\tcv_agg's l1: 0.818384 + 0.00394817\n",
      "[2400]\tcv_agg's l1: 0.814893 + 0.00332779\n",
      "[2500]\tcv_agg's l1: 0.812454 + 0.00292743\n",
      "[2600]\tcv_agg's l1: 0.81061 + 0.00265101\n",
      "[2700]\tcv_agg's l1: 0.809484 + 0.00243899\n",
      "[2800]\tcv_agg's l1: 0.808606 + 0.0021747\n",
      "[2900]\tcv_agg's l1: 0.807988 + 0.00200679\n",
      "[3000]\tcv_agg's l1: 0.807666 + 0.00195915\n",
      "[3100]\tcv_agg's l1: 0.807467 + 0.00196307\n",
      "[3200]\tcv_agg's l1: 0.80705 + 0.00213204\n",
      "[3300]\tcv_agg's l1: 0.806824 + 0.00226535\n",
      "[3400]\tcv_agg's l1: 0.806629 + 0.00226814\n",
      "[3500]\tcv_agg's l1: 0.806538 + 0.00226572\n",
      "[3600]\tcv_agg's l1: 0.806453 + 0.00233976\n",
      "Run done, took: 57.34 s\n",
      "Best params: ({'bagging_fraction': 0.8, 'boosting': 'gbdt', 'feature_fraction': 0.8, 'learning_rate': 0.003, 'num_leaves': 31, 'num_threads': 4, 'objective': 'mae', 'verbose': -1, 'optimal_number_of_trees': 9835}, 0.7797898397324862)\n",
      "Wall time: 2min 53s\n"
     ]
    }
   ],
   "source": [
    "%%time\n",
    "features = [\"duration\",\"trip_distance\",\"avg_speed\",\"ridesAtPickupHour\",\"pickup_hour\"]\n",
    "code3_model = optimisedLGM(param_grid,code3data[features],code3data[\"fare_amount\"]-20)"
   ]
  },
  {
   "cell_type": "markdown",
   "metadata": {},
   "source": [
    "## Prediction"
   ]
  },
  {
   "cell_type": "code",
   "execution_count": 180,
   "metadata": {},
   "outputs": [],
   "source": [
    "code3prediction = np.round(code3_model.predict(code3test[features])*2)/2+20\n",
    "code3test = code3test.assign(fare_amount_prediction = code3prediction)"
   ]
  },
  {
   "cell_type": "markdown",
   "metadata": {},
   "source": [
    "# Ratecode 4 (Nassau or Westchester)"
   ]
  },
  {
   "cell_type": "markdown",
   "metadata": {},
   "source": [
    "## Building the Model"
   ]
  },
  {
   "cell_type": "code",
   "execution_count": 181,
   "metadata": {},
   "outputs": [
    {
     "data": {
      "text/plain": [
       "(1000, 20)"
      ]
     },
     "execution_count": 181,
     "metadata": {},
     "output_type": "execute_result"
    }
   ],
   "source": [
    "code4data = train[train.RatecodeID == 4]\n",
    "code4test = test[test.RatecodeID == 4]\n",
    "np.shape(code4test)"
   ]
  },
  {
   "cell_type": "code",
   "execution_count": 182,
   "metadata": {},
   "outputs": [],
   "source": [
    "#shapely can be installed via anaconda -> environments\n",
    "from shapely.geometry import Point\n",
    "from shapely.geometry.polygon import Polygon"
   ]
  },
  {
   "cell_type": "code",
   "execution_count": 183,
   "metadata": {},
   "outputs": [],
   "source": [
    "# returns whether the point given is in the area given\n",
    "def inArea(polygon,lat,long):\n",
    "    point = Point(lat,long);\n",
    "    poly = Polygon(polygon)\n",
    "    return poly.contains(point)    "
   ]
  },
  {
   "cell_type": "code",
   "execution_count": 184,
   "metadata": {},
   "outputs": [],
   "source": [
    "#cords for a polygon around manhatten, manually set via google maps\n",
    "manhattan_cords = [(40.882207, -73.933869), #1\n",
    "         (40.872343, -73.908292), #2\n",
    "         (40.836117, -73.933011), #3\n",
    "         (40.804680, -73.931123), #4\n",
    "         (40.798833, -73.918591), #5\n",
    "         (40.739289, -73.967000), #6\n",
    "         (40.707155, -73.973866), #7\n",
    "         (40.699217, -74.021416), #8\n",
    "         (40.759316, -74.012662)] #9"
   ]
  },
  {
   "cell_type": "code",
   "execution_count": 185,
   "metadata": {},
   "outputs": [],
   "source": [
    "#apply to train set\n",
    "code4data[\"endsInManhattan\"] = code4data.apply(lambda x : inArea(manhattan_cords,x[\"dropoff_latitude\"],x[\"dropoff_longitude\"]),axis=1)\n",
    "code4data[\"startsInManhattan\"] = code4data.apply(lambda x : inArea(manhattan_cords,x[\"pickup_latitude\"],x[\"pickup_longitude\"]),axis=1)"
   ]
  },
  {
   "cell_type": "code",
   "execution_count": 186,
   "metadata": {},
   "outputs": [],
   "source": [
    "from geopy.distance import geodesic\n",
    "from geopy.distance import great_circle"
   ]
  },
  {
   "cell_type": "code",
   "execution_count": 187,
   "metadata": {},
   "outputs": [],
   "source": [
    "#calculate air line distance for train data set\n",
    "code4data[\"airlineDistance\"] = code4data.apply(lambda x: geodesic((x[\"pickup_latitude\"],x[\"pickup_longitude\"]),\n",
    "                                                                  (x[\"dropoff_latitude\"],x[\"dropoff_longitude\"])).miles,axis=1)"
   ]
  },
  {
   "cell_type": "code",
   "execution_count": 188,
   "metadata": {
    "scrolled": true
   },
   "outputs": [
    {
     "data": {
      "text/plain": [
       "count    3537.000000\n",
       "mean        9.832166\n",
       "std         5.325333\n",
       "min         0.012965\n",
       "25%         5.279775\n",
       "50%         9.870849\n",
       "75%        13.463199\n",
       "max        27.942278\n",
       "Name: airlineDistance, dtype: float64"
      ]
     },
     "execution_count": 188,
     "metadata": {},
     "output_type": "execute_result"
    }
   ],
   "source": [
    "code4data.airlineDistance.describe()"
   ]
  },
  {
   "cell_type": "code",
   "execution_count": 189,
   "metadata": {
    "scrolled": true
   },
   "outputs": [
    {
     "data": {
      "text/plain": [
       "(3537, 2)"
      ]
     },
     "execution_count": 189,
     "metadata": {},
     "output_type": "execute_result"
    }
   ],
   "source": [
    "np.shape(code4data[[\"airlineDistance\",\"trip_distance\"]])"
   ]
  },
  {
   "cell_type": "code",
   "execution_count": 190,
   "metadata": {},
   "outputs": [
    {
     "data": {
      "text/plain": [
       "(45, 30)"
      ]
     },
     "execution_count": 190,
     "metadata": {},
     "output_type": "execute_result"
    }
   ],
   "source": [
    "np.shape(code4data[code4data.trip_distance<code4data.airlineDistance])"
   ]
  },
  {
   "cell_type": "code",
   "execution_count": 191,
   "metadata": {},
   "outputs": [],
   "source": [
    "code4data = code4data[code4data.trip_distance >= code4data.airlineDistance]"
   ]
  },
  {
   "cell_type": "code",
   "execution_count": 192,
   "metadata": {},
   "outputs": [
    {
     "data": {
      "text/plain": [
       "[<matplotlib.lines.Line2D at 0x28014891b38>]"
      ]
     },
     "execution_count": 192,
     "metadata": {},
     "output_type": "execute_result"
    },
    {
     "data": {
      "image/png": "[encoded data removed]",
      "text/plain": [
       "<matplotlib.figure.Figure at 0x28014891208>"
      ]
     },
     "metadata": {},
     "output_type": "display_data"
    }
   ],
   "source": [
    "ax = sns.regplot(code4data.trip_distance,code4data.airlineDistance)\n",
    "ax.plot([0,0],[40,40], linewidth=2,color=\"red\")"
   ]
  },
  {
   "cell_type": "code",
   "execution_count": 193,
   "metadata": {},
   "outputs": [],
   "source": [
    "# all bridges and tunnels to/from manhattan, bridges marked with ! are highways or tunnels and more likely to be used by taxis\n",
    "bridges = [ (40.877720, -73.922362), # 0 henry hudson bridge !\n",
    "          (40.873648, -73.911075), # 1 broadway !\n",
    "          (40.862840, -73.914986), # 2 university heights bridge\n",
    "          (40.846674, -73.927806), # 3 washington bridge - close to v\n",
    "          (40.845522, -73.928256), # 4 alexander hamilton bridge !\n",
    "          (40.828062, -73.933873), # 5 macombs dam bridge\n",
    "          (40.819489, -73.933058), # 6 145th st bridge - close to v\n",
    "          (40.814081, -73.933187), # 7 madison avenue bridge\n",
    "          (40.807591, -73.932399), # 8 third avenue bridge\n",
    "           (40.803516, -73.928818),# 9 willis ave bridge\n",
    "           (40.800368, -73.927835), # 10 robert f kennedy bridge !\n",
    "           (40.756681, -73.954185), # 11 ed koch queensboro bridge !\n",
    "           (40.745106, -73.964063), # 12 queens midtown tunnel !\n",
    "           (40.713407, -73.972299), # 13 williamsburg bridge\n",
    "           (40.707095, -73.990500), # 14 manhattan bridge\n",
    "           (40.705972, -73.996851), # 15 brooklyn bridge !\n",
    "           (40.701161, -74.015692), # 16 Hugh l Carey Tunnel\n",
    "           (40.727487, -74.020880), # 17 holland tunnel\n",
    "           (40.763370, -74.010028), # 18 lincoln tunnel !\n",
    "           (40.851644, -73.952118), # 19 george washington bridge !\n",
    "          ]"
   ]
  },
  {
   "cell_type": "code",
   "execution_count": 194,
   "metadata": {},
   "outputs": [],
   "source": [
    "# try to find out which bridge is used in a trip \n",
    "# assumption: the bridge is used that minimizes the pickup-bridge-dropoff distance (air-line distance)\n",
    "counter = 1\n",
    "for index, row in code4data.iterrows():\n",
    "    # 4 options:\n",
    "    # starts in city, ends in city --> should not have ratecode 4 -> outlier, ignore\n",
    "    # starts in city, ends out of city -> standard trip\n",
    "    # starts out of city, ends out of city -> no calculations to be done here, use double rate for whole trip\n",
    "    # starts out of city, ends in city -> reverse standard trip\n",
    "    startP = (row[\"pickup_latitude\"],row[\"pickup_longitude\"])\n",
    "    endP = (row[\"dropoff_latitude\"],row[\"dropoff_longitude\"])\n",
    "    \n",
    "    if(row.startsInManhattan and row.endsInManhattan):\n",
    "        #print(\"Outlier found, index\",index)\n",
    "        continue\n",
    "    elif (not row.startsInManhattan and not row.endsInManhattan):\n",
    "        #print(\"Complete out of city trip, index\",index)\n",
    "        code4data.at[index,\"Bridge\"] = None;\n",
    "        code4data.at[index,\"in_city_distance\"] = 0;\n",
    "        code4data.at[index,\"out_of_city_distance\"] = geodesic(startP, endP).miles\n",
    "        code4data.at[index,\"total_over_bridge_distance\"] = geodesic(startP, endP).miles  \n",
    "        continue\n",
    "    elif (not row.startsInManhattan and  row.endsInManhattan): # reverse trip\n",
    "        temp = startP # here we swap start and endpoints so its similar to a standard trip\n",
    "        startP = endP\n",
    "        endP = temp\n",
    "    \n",
    "    #find closest bridge\n",
    "    closest_bridge_index = -1\n",
    "    closest_total_bridge_distance = float('inf')\n",
    "    for i in range(len(bridges)):\n",
    "        distance_to_bridge = geodesic(startP, bridges[i]).miles\n",
    "        distance_to_dest =  geodesic(bridges[i],endP).miles\n",
    "        total = distance_to_bridge + distance_to_dest\n",
    "        if(total < closest_total_bridge_distance):\n",
    "            closest_total_bridge_distance = total\n",
    "            closest_bridge_index = i\n",
    "            closest_distance_to_bridge = distance_to_bridge\n",
    "            closest_distance_to_dest = distance_to_dest\n",
    "            \n",
    "    #print(\"Route {} travels over bridge/tunnel {} (to bridge: {:0.2f}, to dest: {:0.2f}, total: {:0.2f}, trip_distance : {:0.2f})\".format(\n",
    "    #    counter, closest_bridge_index,closest_distance_to_bridge,closest_distance_to_dest,closest_total_bridge_distance,totalDistance))\n",
    "    counter = counter + 1\n",
    "    \n",
    "    code4data.at[index,\"Bridge\"] = closest_bridge_index;\n",
    "    code4data.at[index,\"in_city_distance\"] = closest_distance_to_bridge;\n",
    "    code4data.at[index,\"out_of_city_distance\"] = closest_distance_to_dest\n",
    "    code4data.at[index,\"total_over_bridge_distance\"] = closest_total_bridge_distance       "
   ]
  },
  {
   "cell_type": "code",
   "execution_count": 195,
   "metadata": {},
   "outputs": [],
   "source": [
    "#states how much of the fare was contributed by ride in the city. Calculated by \n",
    "code4data[\"inCityPercentage\"] = code4data.apply(lambda x: x.in_city_distance/(x.in_city_distance+2*x.out_of_city_distance+0.0001),axis=1)"
   ]
  },
  {
   "cell_type": "code",
   "execution_count": 196,
   "metadata": {},
   "outputs": [],
   "source": [
    "#2.5 were subtracted from fare amount (inital charge)\n",
    "code4data[\"inCityFare\"] = code4data.apply(lambda x: x.inCityPercentage*(x.fare_amount-2.5),axis=1)\n",
    "code4data[\"outCityFare\"] = code4data.apply(lambda x: (1-x.inCityPercentage)*(x.fare_amount-2.5),axis=1)"
   ]
  },
  {
   "cell_type": "code",
   "execution_count": 197,
   "metadata": {},
   "outputs": [],
   "source": [
    "code4data[\"inCityTripDistanceExtreme\"] = code4data.apply(lambda x: x.inCityPercentage*x.trip_distance,axis=1)\n",
    "code4data[\"outCityTripDistanceExtreme\"] = code4data.apply(lambda x: (1-x.inCityPercentage)*x.trip_distance,axis=1)"
   ]
  },
  {
   "cell_type": "code",
   "execution_count": 198,
   "metadata": {},
   "outputs": [],
   "source": [
    "code4data[\"inCityTripDistance\"] = code4data.apply(lambda x: x.in_city_distance/(x.in_city_distance+x.out_of_city_distance),axis=1)\n",
    "code4data[\"outCityTripDistance\"] = code4data.apply(lambda x: x.out_of_city_distance/(x.in_city_distance+x.out_of_city_distance),axis=1)"
   ]
  },
  {
   "cell_type": "code",
   "execution_count": 276,
   "metadata": {},
   "outputs": [],
   "source": [
    "code4data[\"in_city_ratio\"] = code4data.apply(lambda x: x.in_city_distance/(x.in_city_distance+x.out_of_city_distance),axis=1)"
   ]
  },
  {
   "cell_type": "markdown",
   "metadata": {},
   "source": [
    "Now we have to train three models. Two for trips that start in the city and end out of it and vice versa, thus using both the standard and the doubled rate (one model for each). The predctions are then add up. The third model is for trips that are completly out of the city and therefore only use the doubled rate. Here more information can be used from the dataset, because we do not have to make assumptions on where the trip was split."
   ]
  },
  {
   "cell_type": "code",
   "execution_count": 278,
   "metadata": {},
   "outputs": [
    {
     "data": {
      "text/plain": [
       "(596, 42)"
      ]
     },
     "execution_count": 278,
     "metadata": {},
     "output_type": "execute_result"
    }
   ],
   "source": [
    "code4data_mixed = code4data[code4data.startsInManhattan ^ code4data.endsInManhattan] # trips that used a bridge -> entered/left manhattan\n",
    "np.shape(code4data_mixed)"
   ]
  },
  {
   "cell_type": "code",
   "execution_count": 279,
   "metadata": {},
   "outputs": [
    {
     "data": {
      "text/plain": [
       "(2758, 42)"
      ]
     },
     "execution_count": 279,
     "metadata": {},
     "output_type": "execute_result"
    }
   ],
   "source": [
    "code4data_out = code4data[(code4data.startsInManhattan==False) & (code4data.endsInManhattan==False)] # trips that not used a bridge -> never were in Manhattan\n",
    "np.shape(code4data_out)"
   ]
  },
  {
   "cell_type": "code",
   "execution_count": 280,
   "metadata": {
    "scrolled": true
   },
   "outputs": [
    {
     "name": "stdout",
     "output_type": "stream",
     "text": [
      "Total parameter combinations to run: 5\n",
      "Starting run 1\n",
      "{'bagging_fraction': 0.8, 'boosting': 'gbdt', 'feature_fraction': 0.8, 'learning_rate': 0.003, 'num_leaves': 7, 'num_threads': 4, 'objective': 'mae', 'verbose': -1}\n",
      "[100]\tcv_agg's l1: 4.891 + 0.259278\n",
      "[200]\tcv_agg's l1: 4.07164 + 0.242305\n",
      "[300]\tcv_agg's l1: 3.50568 + 0.236206\n",
      "[400]\tcv_agg's l1: 3.05597 + 0.222082\n",
      "[500]\tcv_agg's l1: 2.69626 + 0.195879\n",
      "[600]\tcv_agg's l1: 2.3847 + 0.15365\n",
      "[700]\tcv_agg's l1: 2.13219 + 0.114635\n",
      "[800]\tcv_agg's l1: 1.93488 + 0.0999967\n",
      "[900]\tcv_agg's l1: 1.79709 + 0.0994246\n",
      "[1000]\tcv_agg's l1: 1.68273 + 0.10063\n",
      "[1100]\tcv_agg's l1: 1.59036 + 0.101241\n",
      "[1200]\tcv_agg's l1: 1.51679 + 0.0896025\n",
      "[1300]\tcv_agg's l1: 1.4638 + 0.0889147\n",
      "[1400]\tcv_agg's l1: 1.42331 + 0.0920581\n",
      "[1500]\tcv_agg's l1: 1.38614 + 0.0916568\n",
      "[1600]\tcv_agg's l1: 1.3551 + 0.0896759\n",
      "[1700]\tcv_agg's l1: 1.33239 + 0.0870955\n",
      "[1800]\tcv_agg's l1: 1.31116 + 0.0808271\n",
      "[1900]\tcv_agg's l1: 1.29607 + 0.0781515\n",
      "[2000]\tcv_agg's l1: 1.28444 + 0.0761906\n",
      "[2100]\tcv_agg's l1: 1.27411 + 0.0730448\n",
      "[2200]\tcv_agg's l1: 1.26329 + 0.0708725\n",
      "[2300]\tcv_agg's l1: 1.25411 + 0.0698162\n",
      "[2400]\tcv_agg's l1: 1.24847 + 0.069203\n",
      "[2500]\tcv_agg's l1: 1.24479 + 0.0679602\n",
      "[2600]\tcv_agg's l1: 1.23964 + 0.0680779\n",
      "[2700]\tcv_agg's l1: 1.23465 + 0.0665555\n",
      "[2800]\tcv_agg's l1: 1.22952 + 0.0657459\n",
      "[2900]\tcv_agg's l1: 1.22471 + 0.0651759\n",
      "[3000]\tcv_agg's l1: 1.22074 + 0.0653127\n",
      "[3100]\tcv_agg's l1: 1.21751 + 0.0659324\n",
      "[3200]\tcv_agg's l1: 1.21389 + 0.065934\n",
      "[3300]\tcv_agg's l1: 1.21142 + 0.0661212\n",
      "[3400]\tcv_agg's l1: 1.20863 + 0.065108\n",
      "[3500]\tcv_agg's l1: 1.20603 + 0.0643428\n",
      "[3600]\tcv_agg's l1: 1.20316 + 0.0633384\n",
      "[3700]\tcv_agg's l1: 1.20084 + 0.0628126\n",
      "[3800]\tcv_agg's l1: 1.19739 + 0.0616749\n",
      "[3900]\tcv_agg's l1: 1.1948 + 0.0609669\n",
      "[4000]\tcv_agg's l1: 1.1926 + 0.0604637\n",
      "[4100]\tcv_agg's l1: 1.19007 + 0.0588373\n",
      "[4200]\tcv_agg's l1: 1.18825 + 0.0582698\n",
      "[4300]\tcv_agg's l1: 1.18551 + 0.0577569\n",
      "[4400]\tcv_agg's l1: 1.18405 + 0.0569446\n",
      "[4500]\tcv_agg's l1: 1.18277 + 0.0568542\n",
      "[4600]\tcv_agg's l1: 1.18106 + 0.056663\n",
      "[4700]\tcv_agg's l1: 1.17882 + 0.055681\n",
      "[4800]\tcv_agg's l1: 1.17711 + 0.0550862\n",
      "[4900]\tcv_agg's l1: 1.17559 + 0.0544838\n",
      "[5000]\tcv_agg's l1: 1.17379 + 0.0537003\n",
      "[5100]\tcv_agg's l1: 1.17205 + 0.053016\n",
      "[5200]\tcv_agg's l1: 1.17051 + 0.0527856\n",
      "[5300]\tcv_agg's l1: 1.16921 + 0.0527278\n",
      "[5400]\tcv_agg's l1: 1.16806 + 0.0523348\n",
      "[5500]\tcv_agg's l1: 1.16711 + 0.0521743\n",
      "[5600]\tcv_agg's l1: 1.16589 + 0.051708\n",
      "[5700]\tcv_agg's l1: 1.16489 + 0.0513751\n",
      "[5800]\tcv_agg's l1: 1.16413 + 0.0512782\n",
      "[5900]\tcv_agg's l1: 1.16341 + 0.0511731\n",
      "[6000]\tcv_agg's l1: 1.16272 + 0.0510956\n",
      "[6100]\tcv_agg's l1: 1.16213 + 0.0511935\n",
      "[6200]\tcv_agg's l1: 1.16149 + 0.0511732\n",
      "[6300]\tcv_agg's l1: 1.16103 + 0.051315\n",
      "[6400]\tcv_agg's l1: 1.16064 + 0.0514302\n",
      "[6500]\tcv_agg's l1: 1.16008 + 0.0512482\n",
      "[6600]\tcv_agg's l1: 1.15956 + 0.0510987\n",
      "[6700]\tcv_agg's l1: 1.1579 + 0.0511803\n",
      "[6800]\tcv_agg's l1: 1.15724 + 0.0514228\n",
      "[6900]\tcv_agg's l1: 1.15687 + 0.0517205\n",
      "[7000]\tcv_agg's l1: 1.15608 + 0.0517074\n",
      "[7100]\tcv_agg's l1: 1.15552 + 0.0516478\n",
      "[7200]\tcv_agg's l1: 1.15507 + 0.0519331\n",
      "[7300]\tcv_agg's l1: 1.1545 + 0.0520159\n",
      "[7400]\tcv_agg's l1: 1.1539 + 0.0521631\n",
      "[7500]\tcv_agg's l1: 1.15344 + 0.0522616\n",
      "[7600]\tcv_agg's l1: 1.15258 + 0.0527168\n",
      "[7700]\tcv_agg's l1: 1.15181 + 0.0531084\n",
      "Run done, took: 2.88 s\n",
      "Starting run 2\n",
      "{'bagging_fraction': 0.8, 'boosting': 'gbdt', 'feature_fraction': 0.8, 'learning_rate': 0.003, 'num_leaves': 31, 'num_threads': 4, 'objective': 'mae', 'verbose': -1}\n",
      "[100]\tcv_agg's l1: 4.86148 + 0.247034\n",
      "[200]\tcv_agg's l1: 3.98249 + 0.23296\n",
      "[300]\tcv_agg's l1: 3.36697 + 0.232136\n",
      "[400]\tcv_agg's l1: 2.87156 + 0.212864\n",
      "[500]\tcv_agg's l1: 2.4881 + 0.185166\n",
      "[600]\tcv_agg's l1: 2.19843 + 0.153443\n",
      "[700]\tcv_agg's l1: 1.97844 + 0.136434\n",
      "[800]\tcv_agg's l1: 1.81498 + 0.135139\n",
      "[900]\tcv_agg's l1: 1.67361 + 0.126505\n",
      "[1000]\tcv_agg's l1: 1.5693 + 0.117545\n",
      "[1100]\tcv_agg's l1: 1.4921 + 0.104582\n",
      "[1200]\tcv_agg's l1: 1.429 + 0.101398\n",
      "[1300]\tcv_agg's l1: 1.38002 + 0.0981514\n",
      "[1400]\tcv_agg's l1: 1.34593 + 0.0945841\n",
      "[1500]\tcv_agg's l1: 1.32088 + 0.090862\n",
      "[1600]\tcv_agg's l1: 1.30265 + 0.0839948\n",
      "[1700]\tcv_agg's l1: 1.29236 + 0.0811538\n",
      "[1800]\tcv_agg's l1: 1.28152 + 0.0788104\n",
      "[1900]\tcv_agg's l1: 1.27112 + 0.0760107\n",
      "[2000]\tcv_agg's l1: 1.26243 + 0.0734363\n",
      "[2100]\tcv_agg's l1: 1.2532 + 0.0703626\n",
      "[2200]\tcv_agg's l1: 1.24406 + 0.066018\n",
      "[2300]\tcv_agg's l1: 1.23581 + 0.0622756\n",
      "[2400]\tcv_agg's l1: 1.23011 + 0.0607599\n",
      "[2500]\tcv_agg's l1: 1.22479 + 0.0583142\n",
      "[2600]\tcv_agg's l1: 1.21976 + 0.0575009\n",
      "[2700]\tcv_agg's l1: 1.21599 + 0.0563832\n",
      "[2800]\tcv_agg's l1: 1.21231 + 0.0564955\n",
      "[2900]\tcv_agg's l1: 1.20879 + 0.0561657\n",
      "[3000]\tcv_agg's l1: 1.20631 + 0.0561414\n",
      "[3100]\tcv_agg's l1: 1.20391 + 0.0564926\n",
      "[3200]\tcv_agg's l1: 1.2007 + 0.0555901\n",
      "[3300]\tcv_agg's l1: 1.19769 + 0.0546414\n",
      "[3400]\tcv_agg's l1: 1.19496 + 0.0539907\n",
      "[3500]\tcv_agg's l1: 1.19258 + 0.0528584\n",
      "[3600]\tcv_agg's l1: 1.19031 + 0.0532443\n",
      "[3700]\tcv_agg's l1: 1.18784 + 0.0537569\n",
      "[3800]\tcv_agg's l1: 1.18658 + 0.0539115\n",
      "[3900]\tcv_agg's l1: 1.18511 + 0.053505\n",
      "[4000]\tcv_agg's l1: 1.18339 + 0.0539816\n",
      "[4100]\tcv_agg's l1: 1.18129 + 0.0549958\n",
      "[4200]\tcv_agg's l1: 1.17988 + 0.0555065\n",
      "[4300]\tcv_agg's l1: 1.1788 + 0.0550886\n",
      "[4400]\tcv_agg's l1: 1.17775 + 0.0550277\n",
      "[4500]\tcv_agg's l1: 1.177 + 0.0550936\n",
      "[4600]\tcv_agg's l1: 1.1759 + 0.0553169\n",
      "[4700]\tcv_agg's l1: 1.17568 + 0.055536\n",
      "[4800]\tcv_agg's l1: 1.17528 + 0.0555347\n",
      "[4900]\tcv_agg's l1: 1.17498 + 0.0555113\n",
      "[5000]\tcv_agg's l1: 1.17453 + 0.0552708\n",
      "[5100]\tcv_agg's l1: 1.17378 + 0.0547261\n",
      "[5200]\tcv_agg's l1: 1.17336 + 0.0548772\n",
      "[5300]\tcv_agg's l1: 1.17279 + 0.054718\n",
      "[5400]\tcv_agg's l1: 1.17228 + 0.0545874\n",
      "[5500]\tcv_agg's l1: 1.17151 + 0.0543831\n",
      "[5600]\tcv_agg's l1: 1.16981 + 0.054715\n",
      "[5700]\tcv_agg's l1: 1.16898 + 0.0547373\n",
      "[5800]\tcv_agg's l1: 1.16838 + 0.0553154\n",
      "[5900]\tcv_agg's l1: 1.16762 + 0.0555632\n",
      "[6000]\tcv_agg's l1: 1.16709 + 0.0557589\n",
      "[6100]\tcv_agg's l1: 1.16648 + 0.055743\n",
      "[6200]\tcv_agg's l1: 1.16632 + 0.0558931\n",
      "Run done, took: 3.6 s\n",
      "Starting run 3\n",
      "{'bagging_fraction': 0.8, 'boosting': 'gbdt', 'feature_fraction': 0.8, 'learning_rate': 0.003, 'num_leaves': 150, 'num_threads': 4, 'objective': 'mae', 'verbose': -1}\n",
      "[100]\tcv_agg's l1: 4.86148 + 0.247034\n",
      "[200]\tcv_agg's l1: 3.98249 + 0.23296\n",
      "[300]\tcv_agg's l1: 3.36697 + 0.232136\n",
      "[400]\tcv_agg's l1: 2.87156 + 0.212864\n",
      "[500]\tcv_agg's l1: 2.4881 + 0.185166\n",
      "[600]\tcv_agg's l1: 2.19843 + 0.153443\n",
      "[700]\tcv_agg's l1: 1.97844 + 0.136434\n",
      "[800]\tcv_agg's l1: 1.81498 + 0.135139\n",
      "[900]\tcv_agg's l1: 1.67361 + 0.126505\n",
      "[1000]\tcv_agg's l1: 1.5693 + 0.117545\n",
      "[1100]\tcv_agg's l1: 1.4921 + 0.104582\n",
      "[1200]\tcv_agg's l1: 1.429 + 0.101398\n",
      "[1300]\tcv_agg's l1: 1.38002 + 0.0981514\n",
      "[1400]\tcv_agg's l1: 1.34593 + 0.0945841\n",
      "[1500]\tcv_agg's l1: 1.32088 + 0.090862\n",
      "[1600]\tcv_agg's l1: 1.30265 + 0.0839948\n",
      "[1700]\tcv_agg's l1: 1.29236 + 0.0811538\n",
      "[1800]\tcv_agg's l1: 1.28152 + 0.0788104\n",
      "[1900]\tcv_agg's l1: 1.27112 + 0.0760107\n",
      "[2000]\tcv_agg's l1: 1.26243 + 0.0734363\n",
      "[2100]\tcv_agg's l1: 1.2532 + 0.0703626\n",
      "[2200]\tcv_agg's l1: 1.24406 + 0.066018\n",
      "[2300]\tcv_agg's l1: 1.23581 + 0.0622756\n",
      "[2400]\tcv_agg's l1: 1.23011 + 0.0607599\n",
      "[2500]\tcv_agg's l1: 1.22479 + 0.0583142\n",
      "[2600]\tcv_agg's l1: 1.21976 + 0.0575009\n",
      "[2700]\tcv_agg's l1: 1.21599 + 0.0563832\n",
      "[2800]\tcv_agg's l1: 1.21231 + 0.0564955\n",
      "[2900]\tcv_agg's l1: 1.20879 + 0.0561657\n",
      "[3000]\tcv_agg's l1: 1.20631 + 0.0561414\n",
      "[3100]\tcv_agg's l1: 1.20391 + 0.0564926\n",
      "[3200]\tcv_agg's l1: 1.2007 + 0.0555901\n",
      "[3300]\tcv_agg's l1: 1.19769 + 0.0546414\n",
      "[3400]\tcv_agg's l1: 1.19496 + 0.0539907\n",
      "[3500]\tcv_agg's l1: 1.19258 + 0.0528584\n",
      "[3600]\tcv_agg's l1: 1.19031 + 0.0532443\n",
      "[3700]\tcv_agg's l1: 1.18784 + 0.0537569\n",
      "[3800]\tcv_agg's l1: 1.18658 + 0.0539115\n",
      "[3900]\tcv_agg's l1: 1.18511 + 0.053505\n",
      "[4000]\tcv_agg's l1: 1.18339 + 0.0539816\n",
      "[4100]\tcv_agg's l1: 1.18129 + 0.0549958\n",
      "[4200]\tcv_agg's l1: 1.17988 + 0.0555065\n",
      "[4300]\tcv_agg's l1: 1.1788 + 0.0550886\n",
      "[4400]\tcv_agg's l1: 1.17775 + 0.0550277\n",
      "[4500]\tcv_agg's l1: 1.177 + 0.0550936\n",
      "[4600]\tcv_agg's l1: 1.1759 + 0.0553169\n",
      "[4700]\tcv_agg's l1: 1.17568 + 0.055536\n",
      "[4800]\tcv_agg's l1: 1.17528 + 0.0555347\n",
      "[4900]\tcv_agg's l1: 1.17498 + 0.0555113\n",
      "[5000]\tcv_agg's l1: 1.17453 + 0.0552708\n",
      "[5100]\tcv_agg's l1: 1.17378 + 0.0547261\n",
      "[5200]\tcv_agg's l1: 1.17336 + 0.0548772\n",
      "[5300]\tcv_agg's l1: 1.17279 + 0.054718\n",
      "[5400]\tcv_agg's l1: 1.17228 + 0.0545874\n",
      "[5500]\tcv_agg's l1: 1.17151 + 0.0543831\n",
      "[5600]\tcv_agg's l1: 1.16981 + 0.054715\n",
      "[5700]\tcv_agg's l1: 1.16898 + 0.0547373\n"
     ]
    },
    {
     "name": "stdout",
     "output_type": "stream",
     "text": [
      "[5800]\tcv_agg's l1: 1.16838 + 0.0553154\n",
      "[5900]\tcv_agg's l1: 1.16762 + 0.0555632\n",
      "[6000]\tcv_agg's l1: 1.16709 + 0.0557589\n",
      "[6100]\tcv_agg's l1: 1.16648 + 0.055743\n",
      "[6200]\tcv_agg's l1: 1.16632 + 0.0558931\n",
      "Run done, took: 3.68 s\n",
      "Starting run 4\n",
      "{'bagging_fraction': 0.8, 'boosting': 'gbdt', 'feature_fraction': 0.8, 'learning_rate': 0.003, 'num_leaves': 500, 'num_threads': 4, 'objective': 'mae', 'verbose': -1}\n",
      "[100]\tcv_agg's l1: 4.86148 + 0.247034\n",
      "[200]\tcv_agg's l1: 3.98249 + 0.23296\n",
      "[300]\tcv_agg's l1: 3.36697 + 0.232136\n",
      "[400]\tcv_agg's l1: 2.87156 + 0.212864\n",
      "[500]\tcv_agg's l1: 2.4881 + 0.185166\n",
      "[600]\tcv_agg's l1: 2.19843 + 0.153443\n",
      "[700]\tcv_agg's l1: 1.97844 + 0.136434\n",
      "[800]\tcv_agg's l1: 1.81498 + 0.135139\n",
      "[900]\tcv_agg's l1: 1.67361 + 0.126505\n",
      "[1000]\tcv_agg's l1: 1.5693 + 0.117545\n",
      "[1100]\tcv_agg's l1: 1.4921 + 0.104582\n",
      "[1200]\tcv_agg's l1: 1.429 + 0.101398\n",
      "[1300]\tcv_agg's l1: 1.38002 + 0.0981514\n",
      "[1400]\tcv_agg's l1: 1.34593 + 0.0945841\n",
      "[1500]\tcv_agg's l1: 1.32088 + 0.090862\n",
      "[1600]\tcv_agg's l1: 1.30265 + 0.0839948\n",
      "[1700]\tcv_agg's l1: 1.29236 + 0.0811538\n",
      "[1800]\tcv_agg's l1: 1.28152 + 0.0788104\n",
      "[1900]\tcv_agg's l1: 1.27112 + 0.0760107\n",
      "[2000]\tcv_agg's l1: 1.26243 + 0.0734363\n",
      "[2100]\tcv_agg's l1: 1.2532 + 0.0703626\n",
      "[2200]\tcv_agg's l1: 1.24406 + 0.066018\n",
      "[2300]\tcv_agg's l1: 1.23581 + 0.0622756\n",
      "[2400]\tcv_agg's l1: 1.23011 + 0.0607599\n",
      "[2500]\tcv_agg's l1: 1.22479 + 0.0583142\n",
      "[2600]\tcv_agg's l1: 1.21976 + 0.0575009\n",
      "[2700]\tcv_agg's l1: 1.21599 + 0.0563832\n",
      "[2800]\tcv_agg's l1: 1.21231 + 0.0564955\n",
      "[2900]\tcv_agg's l1: 1.20879 + 0.0561657\n",
      "[3000]\tcv_agg's l1: 1.20631 + 0.0561414\n",
      "[3100]\tcv_agg's l1: 1.20391 + 0.0564926\n",
      "[3200]\tcv_agg's l1: 1.2007 + 0.0555901\n",
      "[3300]\tcv_agg's l1: 1.19769 + 0.0546414\n",
      "[3400]\tcv_agg's l1: 1.19496 + 0.0539907\n",
      "[3500]\tcv_agg's l1: 1.19258 + 0.0528584\n",
      "[3600]\tcv_agg's l1: 1.19031 + 0.0532443\n",
      "[3700]\tcv_agg's l1: 1.18784 + 0.0537569\n",
      "[3800]\tcv_agg's l1: 1.18658 + 0.0539115\n",
      "[3900]\tcv_agg's l1: 1.18511 + 0.053505\n",
      "[4000]\tcv_agg's l1: 1.18339 + 0.0539816\n",
      "[4100]\tcv_agg's l1: 1.18129 + 0.0549958\n",
      "[4200]\tcv_agg's l1: 1.17988 + 0.0555065\n",
      "[4300]\tcv_agg's l1: 1.1788 + 0.0550886\n",
      "[4400]\tcv_agg's l1: 1.17775 + 0.0550277\n",
      "[4500]\tcv_agg's l1: 1.177 + 0.0550936\n",
      "[4600]\tcv_agg's l1: 1.1759 + 0.0553169\n",
      "[4700]\tcv_agg's l1: 1.17568 + 0.055536\n",
      "[4800]\tcv_agg's l1: 1.17528 + 0.0555347\n",
      "[4900]\tcv_agg's l1: 1.17498 + 0.0555113\n",
      "[5000]\tcv_agg's l1: 1.17453 + 0.0552708\n",
      "[5100]\tcv_agg's l1: 1.17378 + 0.0547261\n",
      "[5200]\tcv_agg's l1: 1.17336 + 0.0548772\n",
      "[5300]\tcv_agg's l1: 1.17279 + 0.054718\n",
      "[5400]\tcv_agg's l1: 1.17228 + 0.0545874\n",
      "[5500]\tcv_agg's l1: 1.17151 + 0.0543831\n",
      "[5600]\tcv_agg's l1: 1.16981 + 0.054715\n",
      "[5700]\tcv_agg's l1: 1.16898 + 0.0547373\n",
      "[5800]\tcv_agg's l1: 1.16838 + 0.0553154\n",
      "[5900]\tcv_agg's l1: 1.16762 + 0.0555632\n",
      "[6000]\tcv_agg's l1: 1.16709 + 0.0557589\n",
      "[6100]\tcv_agg's l1: 1.16648 + 0.055743\n",
      "[6200]\tcv_agg's l1: 1.16632 + 0.0558931\n",
      "Run done, took: 4.46 s\n",
      "Starting run 5\n",
      "{'bagging_fraction': 0.8, 'boosting': 'gbdt', 'feature_fraction': 0.8, 'learning_rate': 0.003, 'num_leaves': 1000, 'num_threads': 4, 'objective': 'mae', 'verbose': -1}\n",
      "[100]\tcv_agg's l1: 4.86148 + 0.247034\n",
      "[200]\tcv_agg's l1: 3.98249 + 0.23296\n",
      "[300]\tcv_agg's l1: 3.36697 + 0.232136\n",
      "[400]\tcv_agg's l1: 2.87156 + 0.212864\n",
      "[500]\tcv_agg's l1: 2.4881 + 0.185166\n",
      "[600]\tcv_agg's l1: 2.19843 + 0.153443\n",
      "[700]\tcv_agg's l1: 1.97844 + 0.136434\n",
      "[800]\tcv_agg's l1: 1.81498 + 0.135139\n",
      "[900]\tcv_agg's l1: 1.67361 + 0.126505\n",
      "[1000]\tcv_agg's l1: 1.5693 + 0.117545\n",
      "[1100]\tcv_agg's l1: 1.4921 + 0.104582\n",
      "[1200]\tcv_agg's l1: 1.429 + 0.101398\n",
      "[1300]\tcv_agg's l1: 1.38002 + 0.0981514\n",
      "[1400]\tcv_agg's l1: 1.34593 + 0.0945841\n",
      "[1500]\tcv_agg's l1: 1.32088 + 0.090862\n",
      "[1600]\tcv_agg's l1: 1.30265 + 0.0839948\n",
      "[1700]\tcv_agg's l1: 1.29236 + 0.0811538\n",
      "[1800]\tcv_agg's l1: 1.28152 + 0.0788104\n",
      "[1900]\tcv_agg's l1: 1.27112 + 0.0760107\n",
      "[2000]\tcv_agg's l1: 1.26243 + 0.0734363\n",
      "[2100]\tcv_agg's l1: 1.2532 + 0.0703626\n",
      "[2200]\tcv_agg's l1: 1.24406 + 0.066018\n",
      "[2300]\tcv_agg's l1: 1.23581 + 0.0622756\n",
      "[2400]\tcv_agg's l1: 1.23011 + 0.0607599\n",
      "[2500]\tcv_agg's l1: 1.22479 + 0.0583142\n",
      "[2600]\tcv_agg's l1: 1.21976 + 0.0575009\n",
      "[2700]\tcv_agg's l1: 1.21599 + 0.0563832\n",
      "[2800]\tcv_agg's l1: 1.21231 + 0.0564955\n",
      "[2900]\tcv_agg's l1: 1.20879 + 0.0561657\n",
      "[3000]\tcv_agg's l1: 1.20631 + 0.0561414\n",
      "[3100]\tcv_agg's l1: 1.20391 + 0.0564926\n",
      "[3200]\tcv_agg's l1: 1.2007 + 0.0555901\n",
      "[3300]\tcv_agg's l1: 1.19769 + 0.0546414\n",
      "[3400]\tcv_agg's l1: 1.19496 + 0.0539907\n",
      "[3500]\tcv_agg's l1: 1.19258 + 0.0528584\n",
      "[3600]\tcv_agg's l1: 1.19031 + 0.0532443\n",
      "[3700]\tcv_agg's l1: 1.18784 + 0.0537569\n",
      "[3800]\tcv_agg's l1: 1.18658 + 0.0539115\n",
      "[3900]\tcv_agg's l1: 1.18511 + 0.053505\n",
      "[4000]\tcv_agg's l1: 1.18339 + 0.0539816\n",
      "[4100]\tcv_agg's l1: 1.18129 + 0.0549958\n",
      "[4200]\tcv_agg's l1: 1.17988 + 0.0555065\n",
      "[4300]\tcv_agg's l1: 1.1788 + 0.0550886\n",
      "[4400]\tcv_agg's l1: 1.17775 + 0.0550277\n",
      "[4500]\tcv_agg's l1: 1.177 + 0.0550936\n",
      "[4600]\tcv_agg's l1: 1.1759 + 0.0553169\n",
      "[4700]\tcv_agg's l1: 1.17568 + 0.055536\n",
      "[4800]\tcv_agg's l1: 1.17528 + 0.0555347\n",
      "[4900]\tcv_agg's l1: 1.17498 + 0.0555113\n",
      "[5000]\tcv_agg's l1: 1.17453 + 0.0552708\n",
      "[5100]\tcv_agg's l1: 1.17378 + 0.0547261\n",
      "[5200]\tcv_agg's l1: 1.17336 + 0.0548772\n",
      "[5300]\tcv_agg's l1: 1.17279 + 0.054718\n",
      "[5400]\tcv_agg's l1: 1.17228 + 0.0545874\n",
      "[5500]\tcv_agg's l1: 1.17151 + 0.0543831\n",
      "[5600]\tcv_agg's l1: 1.16981 + 0.054715\n",
      "[5700]\tcv_agg's l1: 1.16898 + 0.0547373\n",
      "[5800]\tcv_agg's l1: 1.16838 + 0.0553154\n",
      "[5900]\tcv_agg's l1: 1.16762 + 0.0555632\n",
      "[6000]\tcv_agg's l1: 1.16709 + 0.0557589\n",
      "[6100]\tcv_agg's l1: 1.16648 + 0.055743\n",
      "[6200]\tcv_agg's l1: 1.16632 + 0.0558931\n",
      "Run done, took: 5.37 s\n",
      "Best params: ({'bagging_fraction': 0.8, 'boosting': 'gbdt', 'feature_fraction': 0.8, 'learning_rate': 0.003, 'num_leaves': 7, 'num_threads': 4, 'objective': 'mae', 'verbose': -1, 'optimal_number_of_trees': 7703}, 1.1517956234345854)\n",
      "Wall time: 20.9 s\n"
     ]
    }
   ],
   "source": [
    "%%time\n",
    "#chose features\n",
    "features_inner = [\"inCityTripDistance\",\"trip_distance\",\"duration\",\"ridesAtPickupHour\",\"avg_speed\",\"in_city_ratio\"]\n",
    "features_outer = [\"outCityTripDistance\",\"trip_distance\",\"duration\",\"ridesAtPickupHour\",\"avg_speed\",\"in_city_ratio\"]\n",
    "\n",
    "mixed_inner_train = code4data_mixed[features_inner]\n",
    "mixed_outer_train = code4data_mixed[features_outer]\n",
    "\n",
    "code4_model_inner = optimisedLGM(param_grid,mixed_inner_train,code4data_mixed[\"inCityFare\"])"
   ]
  },
  {
   "cell_type": "code",
   "execution_count": 282,
   "metadata": {
    "scrolled": true
   },
   "outputs": [
    {
     "name": "stdout",
     "output_type": "stream",
     "text": [
      "Total parameter combinations to run: 5\n",
      "Starting run 1\n",
      "{'bagging_fraction': 0.8, 'boosting': 'gbdt', 'feature_fraction': 0.8, 'learning_rate': 0.003, 'num_leaves': 7, 'num_threads': 4, 'objective': 'mae', 'verbose': -1}\n",
      "[100]\tcv_agg's l1: 14.0106 + 0.984749\n",
      "[200]\tcv_agg's l1: 11.7275 + 0.906427\n",
      "[300]\tcv_agg's l1: 10.033 + 0.879684\n",
      "[400]\tcv_agg's l1: 8.74971 + 0.862571\n",
      "[500]\tcv_agg's l1: 7.7609 + 0.835354\n",
      "[600]\tcv_agg's l1: 6.98217 + 0.787081\n",
      "[700]\tcv_agg's l1: 6.34629 + 0.708181\n",
      "[800]\tcv_agg's l1: 5.85722 + 0.60479\n",
      "[900]\tcv_agg's l1: 5.51421 + 0.529009\n",
      "[1000]\tcv_agg's l1: 5.28332 + 0.48642\n",
      "[1100]\tcv_agg's l1: 5.10394 + 0.438689\n",
      "[1200]\tcv_agg's l1: 4.97975 + 0.407261\n",
      "[1300]\tcv_agg's l1: 4.89062 + 0.388471\n",
      "[1400]\tcv_agg's l1: 4.82708 + 0.378446\n",
      "[1500]\tcv_agg's l1: 4.78757 + 0.372917\n",
      "[1600]\tcv_agg's l1: 4.76035 + 0.367136\n",
      "[1700]\tcv_agg's l1: 4.74175 + 0.366885\n",
      "[1800]\tcv_agg's l1: 4.72748 + 0.370062\n",
      "[1900]\tcv_agg's l1: 4.7134 + 0.371211\n",
      "[2000]\tcv_agg's l1: 4.7004 + 0.374893\n",
      "[2100]\tcv_agg's l1: 4.68922 + 0.374498\n",
      "[2200]\tcv_agg's l1: 4.67908 + 0.371231\n",
      "[2300]\tcv_agg's l1: 4.67279 + 0.369955\n",
      "[2400]\tcv_agg's l1: 4.66705 + 0.371248\n",
      "[2500]\tcv_agg's l1: 4.66021 + 0.368386\n",
      "[2600]\tcv_agg's l1: 4.65579 + 0.367262\n",
      "[2700]\tcv_agg's l1: 4.65283 + 0.366298\n",
      "[2800]\tcv_agg's l1: 4.64897 + 0.365108\n",
      "[2900]\tcv_agg's l1: 4.64628 + 0.363094\n",
      "[3000]\tcv_agg's l1: 4.64558 + 0.362262\n",
      "[3100]\tcv_agg's l1: 4.64334 + 0.362749\n",
      "[3200]\tcv_agg's l1: 4.64168 + 0.362453\n",
      "[3300]\tcv_agg's l1: 4.63881 + 0.362454\n",
      "[3400]\tcv_agg's l1: 4.63661 + 0.362147\n",
      "[3500]\tcv_agg's l1: 4.63419 + 0.361339\n",
      "[3600]\tcv_agg's l1: 4.63242 + 0.360395\n",
      "[3700]\tcv_agg's l1: 4.63103 + 0.359248\n",
      "[3800]\tcv_agg's l1: 4.62885 + 0.359432\n",
      "[3900]\tcv_agg's l1: 4.62737 + 0.359519\n",
      "[4000]\tcv_agg's l1: 4.62507 + 0.359529\n",
      "[4100]\tcv_agg's l1: 4.62356 + 0.359515\n",
      "[4200]\tcv_agg's l1: 4.62219 + 0.359747\n",
      "[4300]\tcv_agg's l1: 4.61969 + 0.361546\n",
      "[4400]\tcv_agg's l1: 4.61843 + 0.362122\n",
      "Run done, took: 1.64 s\n",
      "Starting run 2\n",
      "{'bagging_fraction': 0.8, 'boosting': 'gbdt', 'feature_fraction': 0.8, 'learning_rate': 0.003, 'num_leaves': 31, 'num_threads': 4, 'objective': 'mae', 'verbose': -1}\n",
      "[100]\tcv_agg's l1: 13.8234 + 1.08809\n",
      "[200]\tcv_agg's l1: 11.3797 + 1.04401\n",
      "[300]\tcv_agg's l1: 9.56178 + 0.936464\n",
      "[400]\tcv_agg's l1: 8.21901 + 0.868021\n",
      "[500]\tcv_agg's l1: 7.21395 + 0.76539\n",
      "[600]\tcv_agg's l1: 6.48351 + 0.677206\n",
      "[700]\tcv_agg's l1: 5.93977 + 0.624072\n",
      "[800]\tcv_agg's l1: 5.55132 + 0.59913\n",
      "[900]\tcv_agg's l1: 5.28252 + 0.550252\n",
      "[1000]\tcv_agg's l1: 5.10366 + 0.506749\n",
      "[1100]\tcv_agg's l1: 4.98156 + 0.480231\n",
      "[1200]\tcv_agg's l1: 4.89448 + 0.470191\n",
      "[1300]\tcv_agg's l1: 4.83124 + 0.460249\n",
      "[1400]\tcv_agg's l1: 4.7808 + 0.450572\n",
      "[1500]\tcv_agg's l1: 4.73854 + 0.442929\n",
      "[1600]\tcv_agg's l1: 4.71135 + 0.444141\n",
      "[1700]\tcv_agg's l1: 4.69176 + 0.445798\n",
      "[1800]\tcv_agg's l1: 4.67717 + 0.445611\n",
      "[1900]\tcv_agg's l1: 4.66914 + 0.446765\n",
      "[2000]\tcv_agg's l1: 4.66514 + 0.448925\n",
      "[2100]\tcv_agg's l1: 4.66143 + 0.449882\n",
      "[2200]\tcv_agg's l1: 4.6581 + 0.451634\n",
      "[2300]\tcv_agg's l1: 4.65688 + 0.451672\n",
      "Run done, took: 1.2 s\n",
      "Starting run 3\n",
      "{'bagging_fraction': 0.8, 'boosting': 'gbdt', 'feature_fraction': 0.8, 'learning_rate': 0.003, 'num_leaves': 150, 'num_threads': 4, 'objective': 'mae', 'verbose': -1}\n",
      "[100]\tcv_agg's l1: 13.8234 + 1.08809\n",
      "[200]\tcv_agg's l1: 11.3797 + 1.04401\n",
      "[300]\tcv_agg's l1: 9.56178 + 0.936464\n",
      "[400]\tcv_agg's l1: 8.21901 + 0.868021\n",
      "[500]\tcv_agg's l1: 7.21395 + 0.76539\n",
      "[600]\tcv_agg's l1: 6.48351 + 0.677206\n",
      "[700]\tcv_agg's l1: 5.93977 + 0.624072\n",
      "[800]\tcv_agg's l1: 5.55132 + 0.59913\n",
      "[900]\tcv_agg's l1: 5.28252 + 0.550252\n",
      "[1000]\tcv_agg's l1: 5.10366 + 0.506749\n",
      "[1100]\tcv_agg's l1: 4.98156 + 0.480231\n",
      "[1200]\tcv_agg's l1: 4.89448 + 0.470191\n",
      "[1300]\tcv_agg's l1: 4.83124 + 0.460249\n",
      "[1400]\tcv_agg's l1: 4.7808 + 0.450572\n",
      "[1500]\tcv_agg's l1: 4.73854 + 0.442929\n",
      "[1600]\tcv_agg's l1: 4.71135 + 0.444141\n",
      "[1700]\tcv_agg's l1: 4.69176 + 0.445798\n",
      "[1800]\tcv_agg's l1: 4.67717 + 0.445611\n",
      "[1900]\tcv_agg's l1: 4.66914 + 0.446765\n",
      "[2000]\tcv_agg's l1: 4.66514 + 0.448925\n",
      "[2100]\tcv_agg's l1: 4.66143 + 0.449882\n",
      "[2200]\tcv_agg's l1: 4.6581 + 0.451634\n",
      "[2300]\tcv_agg's l1: 4.65688 + 0.451672\n",
      "Run done, took: 1.32 s\n",
      "Starting run 4\n",
      "{'bagging_fraction': 0.8, 'boosting': 'gbdt', 'feature_fraction': 0.8, 'learning_rate': 0.003, 'num_leaves': 500, 'num_threads': 4, 'objective': 'mae', 'verbose': -1}\n",
      "[100]\tcv_agg's l1: 13.8234 + 1.08809\n",
      "[200]\tcv_agg's l1: 11.3797 + 1.04401\n",
      "[300]\tcv_agg's l1: 9.56178 + 0.936464\n",
      "[400]\tcv_agg's l1: 8.21901 + 0.868021\n",
      "[500]\tcv_agg's l1: 7.21395 + 0.76539\n",
      "[600]\tcv_agg's l1: 6.48351 + 0.677206\n",
      "[700]\tcv_agg's l1: 5.93977 + 0.624072\n",
      "[800]\tcv_agg's l1: 5.55132 + 0.59913\n",
      "[900]\tcv_agg's l1: 5.28252 + 0.550252\n",
      "[1000]\tcv_agg's l1: 5.10366 + 0.506749\n",
      "[1100]\tcv_agg's l1: 4.98156 + 0.480231\n",
      "[1200]\tcv_agg's l1: 4.89448 + 0.470191\n",
      "[1300]\tcv_agg's l1: 4.83124 + 0.460249\n",
      "[1400]\tcv_agg's l1: 4.7808 + 0.450572\n",
      "[1500]\tcv_agg's l1: 4.73854 + 0.442929\n",
      "[1600]\tcv_agg's l1: 4.71135 + 0.444141\n",
      "[1700]\tcv_agg's l1: 4.69176 + 0.445798\n",
      "[1800]\tcv_agg's l1: 4.67717 + 0.445611\n",
      "[1900]\tcv_agg's l1: 4.66914 + 0.446765\n",
      "[2000]\tcv_agg's l1: 4.66514 + 0.448925\n",
      "[2100]\tcv_agg's l1: 4.66143 + 0.449882\n",
      "[2200]\tcv_agg's l1: 4.6581 + 0.451634\n",
      "[2300]\tcv_agg's l1: 4.65688 + 0.451672\n",
      "Run done, took: 1.53 s\n",
      "Starting run 5\n",
      "{'bagging_fraction': 0.8, 'boosting': 'gbdt', 'feature_fraction': 0.8, 'learning_rate': 0.003, 'num_leaves': 1000, 'num_threads': 4, 'objective': 'mae', 'verbose': -1}\n",
      "[100]\tcv_agg's l1: 13.8234 + 1.08809\n",
      "[200]\tcv_agg's l1: 11.3797 + 1.04401\n",
      "[300]\tcv_agg's l1: 9.56178 + 0.936464\n",
      "[400]\tcv_agg's l1: 8.21901 + 0.868021\n",
      "[500]\tcv_agg's l1: 7.21395 + 0.76539\n",
      "[600]\tcv_agg's l1: 6.48351 + 0.677206\n",
      "[700]\tcv_agg's l1: 5.93977 + 0.624072\n",
      "[800]\tcv_agg's l1: 5.55132 + 0.59913\n",
      "[900]\tcv_agg's l1: 5.28252 + 0.550252\n",
      "[1000]\tcv_agg's l1: 5.10366 + 0.506749\n",
      "[1100]\tcv_agg's l1: 4.98156 + 0.480231\n",
      "[1200]\tcv_agg's l1: 4.89448 + 0.470191\n",
      "[1300]\tcv_agg's l1: 4.83124 + 0.460249\n",
      "[1400]\tcv_agg's l1: 4.7808 + 0.450572\n",
      "[1500]\tcv_agg's l1: 4.73854 + 0.442929\n",
      "[1600]\tcv_agg's l1: 4.71135 + 0.444141\n",
      "[1700]\tcv_agg's l1: 4.69176 + 0.445798\n",
      "[1800]\tcv_agg's l1: 4.67717 + 0.445611\n",
      "[1900]\tcv_agg's l1: 4.66914 + 0.446765\n",
      "[2000]\tcv_agg's l1: 4.66514 + 0.448925\n",
      "[2100]\tcv_agg's l1: 4.66143 + 0.449882\n",
      "[2200]\tcv_agg's l1: 4.6581 + 0.451634\n",
      "[2300]\tcv_agg's l1: 4.65688 + 0.451672\n",
      "Run done, took: 1.9 s\n",
      "Best params: ({'bagging_fraction': 0.8, 'boosting': 'gbdt', 'feature_fraction': 0.8, 'learning_rate': 0.003, 'num_leaves': 7, 'num_threads': 4, 'objective': 'mae', 'verbose': -1, 'optimal_number_of_trees': 4431}, 4.618126431352253)\n",
      "Wall time: 8.1 s\n"
     ]
    }
   ],
   "source": [
    "%%time\n",
    "code4_model_outer = optimisedLGM(param_grid,mixed_outer_train,code4data_mixed[\"outCityFare\"])"
   ]
  },
  {
   "cell_type": "code",
   "execution_count": 281,
   "metadata": {
    "scrolled": true
   },
   "outputs": [
    {
     "name": "stdout",
     "output_type": "stream",
     "text": [
      "Total parameter combinations to run: 5\n",
      "Starting run 1\n",
      "{'bagging_fraction': 0.8, 'boosting': 'gbdt', 'feature_fraction': 0.8, 'learning_rate': 0.003, 'num_leaves': 7, 'num_threads': 4, 'objective': 'mae', 'verbose': -1}\n",
      "[100]\tcv_agg's l1: 13.1354 + 1.12335\n",
      "[200]\tcv_agg's l1: 11.0816 + 1.11477\n",
      "[300]\tcv_agg's l1: 9.60493 + 1.03347\n",
      "[400]\tcv_agg's l1: 8.55511 + 0.968291\n",
      "[500]\tcv_agg's l1: 7.68469 + 0.878239\n",
      "[600]\tcv_agg's l1: 6.98617 + 0.79855\n",
      "[700]\tcv_agg's l1: 6.54392 + 0.722276\n",
      "[800]\tcv_agg's l1: 6.2029 + 0.634812\n",
      "[900]\tcv_agg's l1: 5.98804 + 0.574592\n",
      "[1000]\tcv_agg's l1: 5.83899 + 0.55316\n",
      "[1100]\tcv_agg's l1: 5.7366 + 0.541957\n",
      "[1200]\tcv_agg's l1: 5.65801 + 0.526099\n",
      "[1300]\tcv_agg's l1: 5.60512 + 0.505436\n",
      "[1400]\tcv_agg's l1: 5.55874 + 0.490612\n",
      "[1500]\tcv_agg's l1: 5.51934 + 0.474476\n",
      "[1600]\tcv_agg's l1: 5.49098 + 0.461708\n",
      "[1700]\tcv_agg's l1: 5.46886 + 0.454425\n",
      "[1800]\tcv_agg's l1: 5.45279 + 0.45412\n",
      "[1900]\tcv_agg's l1: 5.43794 + 0.452868\n",
      "[2000]\tcv_agg's l1: 5.42686 + 0.450918\n",
      "[2100]\tcv_agg's l1: 5.42063 + 0.450875\n",
      "[2200]\tcv_agg's l1: 5.41339 + 0.451324\n",
      "[2300]\tcv_agg's l1: 5.40839 + 0.451509\n",
      "[2400]\tcv_agg's l1: 5.403 + 0.451077\n",
      "[2500]\tcv_agg's l1: 5.40101 + 0.453482\n",
      "[2600]\tcv_agg's l1: 5.39935 + 0.453723\n",
      "[2700]\tcv_agg's l1: 5.39904 + 0.454021\n",
      "Run done, took: 1.1 s\n",
      "Starting run 2\n",
      "{'bagging_fraction': 0.8, 'boosting': 'gbdt', 'feature_fraction': 0.8, 'learning_rate': 0.003, 'num_leaves': 31, 'num_threads': 4, 'objective': 'mae', 'verbose': -1}\n",
      "[100]\tcv_agg's l1: 12.8719 + 1.06208\n",
      "[200]\tcv_agg's l1: 10.7203 + 1.01527\n",
      "[300]\tcv_agg's l1: 9.18142 + 0.924101\n",
      "[400]\tcv_agg's l1: 8.04869 + 0.834207\n",
      "[500]\tcv_agg's l1: 7.23534 + 0.758394\n",
      "[600]\tcv_agg's l1: 6.63419 + 0.668653\n",
      "[700]\tcv_agg's l1: 6.23899 + 0.604129\n",
      "[800]\tcv_agg's l1: 5.99732 + 0.551596\n",
      "[900]\tcv_agg's l1: 5.85383 + 0.521319\n",
      "[1000]\tcv_agg's l1: 5.7469 + 0.495155\n",
      "[1100]\tcv_agg's l1: 5.66992 + 0.482495\n",
      "[1200]\tcv_agg's l1: 5.60776 + 0.470394\n",
      "[1300]\tcv_agg's l1: 5.55677 + 0.462526\n",
      "[1400]\tcv_agg's l1: 5.52002 + 0.456307\n",
      "[1500]\tcv_agg's l1: 5.48935 + 0.449635\n",
      "[1600]\tcv_agg's l1: 5.47273 + 0.441349\n",
      "[1700]\tcv_agg's l1: 5.45466 + 0.435974\n",
      "[1800]\tcv_agg's l1: 5.43827 + 0.42831\n",
      "[1900]\tcv_agg's l1: 5.42793 + 0.426386\n",
      "[2000]\tcv_agg's l1: 5.41778 + 0.427427\n",
      "[2100]\tcv_agg's l1: 5.41151 + 0.426381\n",
      "[2200]\tcv_agg's l1: 5.40542 + 0.427139\n",
      "[2300]\tcv_agg's l1: 5.39811 + 0.428617\n",
      "[2400]\tcv_agg's l1: 5.39274 + 0.428889\n",
      "[2500]\tcv_agg's l1: 5.38932 + 0.428427\n",
      "[2600]\tcv_agg's l1: 5.38301 + 0.429705\n",
      "[2700]\tcv_agg's l1: 5.38075 + 0.430428\n",
      "[2800]\tcv_agg's l1: 5.37693 + 0.429545\n",
      "[2900]\tcv_agg's l1: 5.37321 + 0.428848\n",
      "[3000]\tcv_agg's l1: 5.37001 + 0.427886\n",
      "[3100]\tcv_agg's l1: 5.36574 + 0.427134\n",
      "[3200]\tcv_agg's l1: 5.36292 + 0.426188\n",
      "[3300]\tcv_agg's l1: 5.35941 + 0.425619\n",
      "[3400]\tcv_agg's l1: 5.35641 + 0.424226\n",
      "[3500]\tcv_agg's l1: 5.35398 + 0.422711\n",
      "[3600]\tcv_agg's l1: 5.35257 + 0.422376\n",
      "[3700]\tcv_agg's l1: 5.34883 + 0.42352\n",
      "[3800]\tcv_agg's l1: 5.34752 + 0.423816\n",
      "Run done, took: 2.19 s\n",
      "Starting run 3\n",
      "{'bagging_fraction': 0.8, 'boosting': 'gbdt', 'feature_fraction': 0.8, 'learning_rate': 0.003, 'num_leaves': 150, 'num_threads': 4, 'objective': 'mae', 'verbose': -1}\n",
      "[100]\tcv_agg's l1: 12.8719 + 1.06208\n",
      "[200]\tcv_agg's l1: 10.7203 + 1.01527\n",
      "[300]\tcv_agg's l1: 9.18142 + 0.924101\n",
      "[400]\tcv_agg's l1: 8.04869 + 0.834207\n",
      "[500]\tcv_agg's l1: 7.23534 + 0.758394\n",
      "[600]\tcv_agg's l1: 6.63419 + 0.668653\n",
      "[700]\tcv_agg's l1: 6.23899 + 0.604129\n",
      "[800]\tcv_agg's l1: 5.99732 + 0.551596\n",
      "[900]\tcv_agg's l1: 5.85383 + 0.521319\n",
      "[1000]\tcv_agg's l1: 5.7469 + 0.495155\n",
      "[1100]\tcv_agg's l1: 5.66992 + 0.482495\n",
      "[1200]\tcv_agg's l1: 5.60776 + 0.470394\n",
      "[1300]\tcv_agg's l1: 5.55677 + 0.462526\n",
      "[1400]\tcv_agg's l1: 5.52002 + 0.456307\n",
      "[1500]\tcv_agg's l1: 5.48935 + 0.449635\n",
      "[1600]\tcv_agg's l1: 5.47273 + 0.441349\n",
      "[1700]\tcv_agg's l1: 5.45466 + 0.435974\n",
      "[1800]\tcv_agg's l1: 5.43827 + 0.42831\n",
      "[1900]\tcv_agg's l1: 5.42793 + 0.426386\n",
      "[2000]\tcv_agg's l1: 5.41778 + 0.427427\n",
      "[2100]\tcv_agg's l1: 5.41151 + 0.426381\n",
      "[2200]\tcv_agg's l1: 5.40542 + 0.427139\n",
      "[2300]\tcv_agg's l1: 5.39811 + 0.428617\n",
      "[2400]\tcv_agg's l1: 5.39274 + 0.428889\n",
      "[2500]\tcv_agg's l1: 5.38932 + 0.428427\n",
      "[2600]\tcv_agg's l1: 5.38301 + 0.429705\n",
      "[2700]\tcv_agg's l1: 5.38075 + 0.430428\n",
      "[2800]\tcv_agg's l1: 5.37693 + 0.429545\n",
      "[2900]\tcv_agg's l1: 5.37321 + 0.428848\n",
      "[3000]\tcv_agg's l1: 5.37001 + 0.427886\n",
      "[3100]\tcv_agg's l1: 5.36574 + 0.427134\n",
      "[3200]\tcv_agg's l1: 5.36292 + 0.426188\n",
      "[3300]\tcv_agg's l1: 5.35941 + 0.425619\n",
      "[3400]\tcv_agg's l1: 5.35641 + 0.424226\n",
      "[3500]\tcv_agg's l1: 5.35398 + 0.422711\n",
      "[3600]\tcv_agg's l1: 5.35257 + 0.422376\n",
      "[3700]\tcv_agg's l1: 5.34883 + 0.42352\n",
      "[3800]\tcv_agg's l1: 5.34752 + 0.423816\n",
      "Run done, took: 2.28 s\n",
      "Starting run 4\n",
      "{'bagging_fraction': 0.8, 'boosting': 'gbdt', 'feature_fraction': 0.8, 'learning_rate': 0.003, 'num_leaves': 500, 'num_threads': 4, 'objective': 'mae', 'verbose': -1}\n",
      "[100]\tcv_agg's l1: 12.8719 + 1.06208\n",
      "[200]\tcv_agg's l1: 10.7203 + 1.01527\n",
      "[300]\tcv_agg's l1: 9.18142 + 0.924101\n",
      "[400]\tcv_agg's l1: 8.04869 + 0.834207\n",
      "[500]\tcv_agg's l1: 7.23534 + 0.758394\n",
      "[600]\tcv_agg's l1: 6.63419 + 0.668653\n",
      "[700]\tcv_agg's l1: 6.23899 + 0.604129\n",
      "[800]\tcv_agg's l1: 5.99732 + 0.551596\n",
      "[900]\tcv_agg's l1: 5.85383 + 0.521319\n",
      "[1000]\tcv_agg's l1: 5.7469 + 0.495155\n",
      "[1100]\tcv_agg's l1: 5.66992 + 0.482495\n",
      "[1200]\tcv_agg's l1: 5.60776 + 0.470394\n",
      "[1300]\tcv_agg's l1: 5.55677 + 0.462526\n",
      "[1400]\tcv_agg's l1: 5.52002 + 0.456307\n",
      "[1500]\tcv_agg's l1: 5.48935 + 0.449635\n",
      "[1600]\tcv_agg's l1: 5.47273 + 0.441349\n",
      "[1700]\tcv_agg's l1: 5.45466 + 0.435974\n",
      "[1800]\tcv_agg's l1: 5.43827 + 0.42831\n",
      "[1900]\tcv_agg's l1: 5.42793 + 0.426386\n",
      "[2000]\tcv_agg's l1: 5.41778 + 0.427427\n",
      "[2100]\tcv_agg's l1: 5.41151 + 0.426381\n",
      "[2200]\tcv_agg's l1: 5.40542 + 0.427139\n",
      "[2300]\tcv_agg's l1: 5.39811 + 0.428617\n",
      "[2400]\tcv_agg's l1: 5.39274 + 0.428889\n",
      "[2500]\tcv_agg's l1: 5.38932 + 0.428427\n",
      "[2600]\tcv_agg's l1: 5.38301 + 0.429705\n",
      "[2700]\tcv_agg's l1: 5.38075 + 0.430428\n",
      "[2800]\tcv_agg's l1: 5.37693 + 0.429545\n",
      "[2900]\tcv_agg's l1: 5.37321 + 0.428848\n",
      "[3000]\tcv_agg's l1: 5.37001 + 0.427886\n",
      "[3100]\tcv_agg's l1: 5.36574 + 0.427134\n",
      "[3200]\tcv_agg's l1: 5.36292 + 0.426188\n",
      "[3300]\tcv_agg's l1: 5.35941 + 0.425619\n",
      "[3400]\tcv_agg's l1: 5.35641 + 0.424226\n",
      "[3500]\tcv_agg's l1: 5.35398 + 0.422711\n",
      "[3600]\tcv_agg's l1: 5.35257 + 0.422376\n",
      "[3700]\tcv_agg's l1: 5.34883 + 0.42352\n",
      "[3800]\tcv_agg's l1: 5.34752 + 0.423816\n",
      "Run done, took: 2.74 s\n",
      "Starting run 5\n",
      "{'bagging_fraction': 0.8, 'boosting': 'gbdt', 'feature_fraction': 0.8, 'learning_rate': 0.003, 'num_leaves': 1000, 'num_threads': 4, 'objective': 'mae', 'verbose': -1}\n",
      "[100]\tcv_agg's l1: 12.8719 + 1.06208\n",
      "[200]\tcv_agg's l1: 10.7203 + 1.01527\n",
      "[300]\tcv_agg's l1: 9.18142 + 0.924101\n",
      "[400]\tcv_agg's l1: 8.04869 + 0.834207\n",
      "[500]\tcv_agg's l1: 7.23534 + 0.758394\n",
      "[600]\tcv_agg's l1: 6.63419 + 0.668653\n",
      "[700]\tcv_agg's l1: 6.23899 + 0.604129\n",
      "[800]\tcv_agg's l1: 5.99732 + 0.551596\n",
      "[900]\tcv_agg's l1: 5.85383 + 0.521319\n",
      "[1000]\tcv_agg's l1: 5.7469 + 0.495155\n",
      "[1100]\tcv_agg's l1: 5.66992 + 0.482495\n",
      "[1200]\tcv_agg's l1: 5.60776 + 0.470394\n",
      "[1300]\tcv_agg's l1: 5.55677 + 0.462526\n",
      "[1400]\tcv_agg's l1: 5.52002 + 0.456307\n",
      "[1500]\tcv_agg's l1: 5.48935 + 0.449635\n",
      "[1600]\tcv_agg's l1: 5.47273 + 0.441349\n",
      "[1700]\tcv_agg's l1: 5.45466 + 0.435974\n",
      "[1800]\tcv_agg's l1: 5.43827 + 0.42831\n",
      "[1900]\tcv_agg's l1: 5.42793 + 0.426386\n",
      "[2000]\tcv_agg's l1: 5.41778 + 0.427427\n",
      "[2100]\tcv_agg's l1: 5.41151 + 0.426381\n",
      "[2200]\tcv_agg's l1: 5.40542 + 0.427139\n",
      "[2300]\tcv_agg's l1: 5.39811 + 0.428617\n",
      "[2400]\tcv_agg's l1: 5.39274 + 0.428889\n",
      "[2500]\tcv_agg's l1: 5.38932 + 0.428427\n",
      "[2600]\tcv_agg's l1: 5.38301 + 0.429705\n",
      "[2700]\tcv_agg's l1: 5.38075 + 0.430428\n",
      "[2800]\tcv_agg's l1: 5.37693 + 0.429545\n",
      "[2900]\tcv_agg's l1: 5.37321 + 0.428848\n",
      "[3000]\tcv_agg's l1: 5.37001 + 0.427886\n",
      "[3100]\tcv_agg's l1: 5.36574 + 0.427134\n",
      "[3200]\tcv_agg's l1: 5.36292 + 0.426188\n",
      "[3300]\tcv_agg's l1: 5.35941 + 0.425619\n",
      "[3400]\tcv_agg's l1: 5.35641 + 0.424226\n",
      "[3500]\tcv_agg's l1: 5.35398 + 0.422711\n",
      "[3600]\tcv_agg's l1: 5.35257 + 0.422376\n",
      "[3700]\tcv_agg's l1: 5.34883 + 0.42352\n",
      "[3800]\tcv_agg's l1: 5.34752 + 0.423816\n",
      "Run done, took: 3.33 s\n",
      "Best params: ({'bagging_fraction': 0.8, 'boosting': 'gbdt', 'feature_fraction': 0.8, 'learning_rate': 0.003, 'num_leaves': 31, 'num_threads': 4, 'objective': 'mae', 'verbose': -1, 'optimal_number_of_trees': 3833}, 5.3469458105582035)\n"
     ]
    },
    {
     "name": "stdout",
     "output_type": "stream",
     "text": [
      "Wall time: 12.7 s\n"
     ]
    }
   ],
   "source": [
    "%%time\n",
    "features_combined = [\"inCityTripDistance\",\"outCityTripDistance\",\"in_city_ratio\",\"duration\",\"trip_distance\",\"ridesAtPickupHour\",\"avg_speed\"]\n",
    "code4_model_combined = optimisedLGM(param_grid,code4data_mixed[features_combined],code4data_mixed[\"fare_amount\"]-2.5)"
   ]
  },
  {
   "cell_type": "code",
   "execution_count": 204,
   "metadata": {},
   "outputs": [
    {
     "data": {
      "text/plain": [
       "<matplotlib.axes._subplots.AxesSubplot at 0x28012230cf8>"
      ]
     },
     "execution_count": 204,
     "metadata": {},
     "output_type": "execute_result"
    },
    {
     "data": {
      "image/png": "[encoded data removed]",
      "text/plain": [
       "<matplotlib.figure.Figure at 0x2805e17d828>"
      ]
     },
     "metadata": {},
     "output_type": "display_data"
    }
   ],
   "source": [
    "lgb.plot_importance(code4_model_combined, max_num_features=10)"
   ]
  },
  {
   "cell_type": "code",
   "execution_count": 205,
   "metadata": {
    "scrolled": true
   },
   "outputs": [
    {
     "name": "stdout",
     "output_type": "stream",
     "text": [
      "Total parameter combinations to run: 5\n",
      "Starting run 1\n",
      "{'bagging_fraction': 0.8, 'boosting': 'gbdt', 'feature_fraction': 0.8, 'learning_rate': 0.003, 'num_leaves': 7, 'num_threads': 4, 'objective': 'mae', 'verbose': -1}\n",
      "[100]\tcv_agg's l1: 15.0686 + 0.0906655\n",
      "[200]\tcv_agg's l1: 12.2194 + 0.0527201\n",
      "[300]\tcv_agg's l1: 10.2269 + 0.0554988\n",
      "[400]\tcv_agg's l1: 8.84895 + 0.11779\n",
      "[500]\tcv_agg's l1: 7.9354 + 0.168896\n",
      "[600]\tcv_agg's l1: 7.29728 + 0.208083\n",
      "[700]\tcv_agg's l1: 6.85168 + 0.251711\n",
      "[800]\tcv_agg's l1: 6.5426 + 0.279921\n",
      "[900]\tcv_agg's l1: 6.30254 + 0.294187\n",
      "[1000]\tcv_agg's l1: 6.09516 + 0.303513\n",
      "[1100]\tcv_agg's l1: 5.93149 + 0.308394\n",
      "[1200]\tcv_agg's l1: 5.81001 + 0.310498\n",
      "[1300]\tcv_agg's l1: 5.73107 + 0.313099\n",
      "[1400]\tcv_agg's l1: 5.67801 + 0.312802\n",
      "[1500]\tcv_agg's l1: 5.64474 + 0.312821\n",
      "[1600]\tcv_agg's l1: 5.62024 + 0.310727\n",
      "[1700]\tcv_agg's l1: 5.60543 + 0.310083\n",
      "[1800]\tcv_agg's l1: 5.59422 + 0.311428\n",
      "[1900]\tcv_agg's l1: 5.58658 + 0.312092\n",
      "[2000]\tcv_agg's l1: 5.58139 + 0.310997\n",
      "[2100]\tcv_agg's l1: 5.5783 + 0.309791\n",
      "[2200]\tcv_agg's l1: 5.57575 + 0.309608\n",
      "[2300]\tcv_agg's l1: 5.57277 + 0.308749\n",
      "[2400]\tcv_agg's l1: 5.56839 + 0.307209\n",
      "[2500]\tcv_agg's l1: 5.56621 + 0.30714\n",
      "[2600]\tcv_agg's l1: 5.56464 + 0.30678\n",
      "[2700]\tcv_agg's l1: 5.56368 + 0.305867\n",
      "[2800]\tcv_agg's l1: 5.56176 + 0.305386\n",
      "[2900]\tcv_agg's l1: 5.56051 + 0.304891\n",
      "[3000]\tcv_agg's l1: 5.55933 + 0.304226\n",
      "[3100]\tcv_agg's l1: 5.55803 + 0.303534\n",
      "[3200]\tcv_agg's l1: 5.55786 + 0.302644\n",
      "[3300]\tcv_agg's l1: 5.5556 + 0.301854\n",
      "[3400]\tcv_agg's l1: 5.55445 + 0.300382\n",
      "[3500]\tcv_agg's l1: 5.55325 + 0.299759\n",
      "[3600]\tcv_agg's l1: 5.55206 + 0.299154\n",
      "[3700]\tcv_agg's l1: 5.55096 + 0.29915\n",
      "[3800]\tcv_agg's l1: 5.55035 + 0.298709\n",
      "[3900]\tcv_agg's l1: 5.54944 + 0.298619\n",
      "[4000]\tcv_agg's l1: 5.54913 + 0.298571\n",
      "[4100]\tcv_agg's l1: 5.54833 + 0.299356\n",
      "[4200]\tcv_agg's l1: 5.54668 + 0.299304\n",
      "[4300]\tcv_agg's l1: 5.54539 + 0.299832\n",
      "[4400]\tcv_agg's l1: 5.54441 + 0.300259\n",
      "Run done, took: 2.1 s\n",
      "Starting run 2\n",
      "{'bagging_fraction': 0.8, 'boosting': 'gbdt', 'feature_fraction': 0.8, 'learning_rate': 0.003, 'num_leaves': 31, 'num_threads': 4, 'objective': 'mae', 'verbose': -1}\n",
      "[100]\tcv_agg's l1: 14.8689 + 0.0731117\n",
      "[200]\tcv_agg's l1: 11.8939 + 0.0574107\n",
      "[300]\tcv_agg's l1: 9.85187 + 0.0714211\n",
      "[400]\tcv_agg's l1: 8.49123 + 0.13539\n",
      "[500]\tcv_agg's l1: 7.59489 + 0.182317\n",
      "[600]\tcv_agg's l1: 6.99058 + 0.218257\n",
      "[700]\tcv_agg's l1: 6.59461 + 0.243074\n",
      "[800]\tcv_agg's l1: 6.2997 + 0.263581\n",
      "[900]\tcv_agg's l1: 6.06239 + 0.281034\n",
      "[1000]\tcv_agg's l1: 5.8935 + 0.28414\n",
      "[1100]\tcv_agg's l1: 5.78003 + 0.286678\n",
      "[1200]\tcv_agg's l1: 5.71042 + 0.286585\n",
      "[1300]\tcv_agg's l1: 5.66176 + 0.285652\n",
      "[1400]\tcv_agg's l1: 5.6291 + 0.284022\n",
      "[1500]\tcv_agg's l1: 5.6107 + 0.2814\n",
      "[1600]\tcv_agg's l1: 5.59834 + 0.280803\n",
      "[1700]\tcv_agg's l1: 5.59101 + 0.280043\n",
      "[1800]\tcv_agg's l1: 5.58737 + 0.279433\n",
      "[1900]\tcv_agg's l1: 5.58501 + 0.278083\n",
      "[2000]\tcv_agg's l1: 5.58442 + 0.277303\n",
      "[2100]\tcv_agg's l1: 5.58435 + 0.275063\n",
      "Run done, took: 2.47 s\n",
      "Starting run 3\n",
      "{'bagging_fraction': 0.8, 'boosting': 'gbdt', 'feature_fraction': 0.8, 'learning_rate': 0.003, 'num_leaves': 150, 'num_threads': 4, 'objective': 'mae', 'verbose': -1}\n",
      "[100]\tcv_agg's l1: 14.8438 + 0.0888303\n",
      "[200]\tcv_agg's l1: 11.8044 + 0.0729956\n",
      "[300]\tcv_agg's l1: 9.72844 + 0.0703298\n",
      "[400]\tcv_agg's l1: 8.34459 + 0.119684\n",
      "[500]\tcv_agg's l1: 7.39093 + 0.177951\n",
      "[600]\tcv_agg's l1: 6.75238 + 0.231198\n",
      "[700]\tcv_agg's l1: 6.34681 + 0.257839\n",
      "[800]\tcv_agg's l1: 6.08371 + 0.274176\n",
      "[900]\tcv_agg's l1: 5.91504 + 0.28034\n",
      "[1000]\tcv_agg's l1: 5.81019 + 0.278117\n",
      "[1100]\tcv_agg's l1: 5.74699 + 0.275354\n",
      "[1200]\tcv_agg's l1: 5.70744 + 0.272118\n",
      "[1300]\tcv_agg's l1: 5.68543 + 0.268691\n",
      "[1400]\tcv_agg's l1: 5.67441 + 0.264326\n",
      "[1500]\tcv_agg's l1: 5.66828 + 0.261875\n",
      "[1600]\tcv_agg's l1: 5.66629 + 0.259736\n",
      "[1700]\tcv_agg's l1: 5.66656 + 0.256329\n",
      "Run done, took: 3.66 s\n",
      "Starting run 4\n",
      "{'bagging_fraction': 0.8, 'boosting': 'gbdt', 'feature_fraction': 0.8, 'learning_rate': 0.003, 'num_leaves': 500, 'num_threads': 4, 'objective': 'mae', 'verbose': -1}\n",
      "[100]\tcv_agg's l1: 14.8438 + 0.0888303\n",
      "[200]\tcv_agg's l1: 11.8044 + 0.0729956\n",
      "[300]\tcv_agg's l1: 9.72844 + 0.0703298\n",
      "[400]\tcv_agg's l1: 8.34459 + 0.119684\n",
      "[500]\tcv_agg's l1: 7.39093 + 0.177951\n",
      "[600]\tcv_agg's l1: 6.75238 + 0.231198\n",
      "[700]\tcv_agg's l1: 6.34681 + 0.257839\n",
      "[800]\tcv_agg's l1: 6.08371 + 0.274176\n",
      "[900]\tcv_agg's l1: 5.91504 + 0.28034\n",
      "[1000]\tcv_agg's l1: 5.81019 + 0.278117\n",
      "[1100]\tcv_agg's l1: 5.74699 + 0.275354\n",
      "[1200]\tcv_agg's l1: 5.70744 + 0.272118\n",
      "[1300]\tcv_agg's l1: 5.68543 + 0.268691\n",
      "[1400]\tcv_agg's l1: 5.67441 + 0.264326\n",
      "[1500]\tcv_agg's l1: 5.66828 + 0.261875\n",
      "[1600]\tcv_agg's l1: 5.66629 + 0.259736\n",
      "[1700]\tcv_agg's l1: 5.66656 + 0.256329\n",
      "Run done, took: 4.22 s\n",
      "Starting run 5\n",
      "{'bagging_fraction': 0.8, 'boosting': 'gbdt', 'feature_fraction': 0.8, 'learning_rate': 0.003, 'num_leaves': 1000, 'num_threads': 4, 'objective': 'mae', 'verbose': -1}\n",
      "[100]\tcv_agg's l1: 14.8438 + 0.0888303\n",
      "[200]\tcv_agg's l1: 11.8044 + 0.0729956\n",
      "[300]\tcv_agg's l1: 9.72844 + 0.0703298\n",
      "[400]\tcv_agg's l1: 8.34459 + 0.119684\n",
      "[500]\tcv_agg's l1: 7.39093 + 0.177951\n",
      "[600]\tcv_agg's l1: 6.75238 + 0.231198\n",
      "[700]\tcv_agg's l1: 6.34681 + 0.257839\n",
      "[800]\tcv_agg's l1: 6.08371 + 0.274176\n",
      "[900]\tcv_agg's l1: 5.91504 + 0.28034\n",
      "[1000]\tcv_agg's l1: 5.81019 + 0.278117\n",
      "[1100]\tcv_agg's l1: 5.74699 + 0.275354\n",
      "[1200]\tcv_agg's l1: 5.70744 + 0.272118\n",
      "[1300]\tcv_agg's l1: 5.68543 + 0.268691\n",
      "[1400]\tcv_agg's l1: 5.67441 + 0.264326\n",
      "[1500]\tcv_agg's l1: 5.66828 + 0.261875\n",
      "[1600]\tcv_agg's l1: 5.66629 + 0.259736\n",
      "[1700]\tcv_agg's l1: 5.66656 + 0.256329\n",
      "Run done, took: 5.18 s\n",
      "Best params: ({'bagging_fraction': 0.8, 'boosting': 'gbdt', 'feature_fraction': 0.8, 'learning_rate': 0.003, 'num_leaves': 7, 'num_threads': 4, 'objective': 'mae', 'verbose': -1, 'optimal_number_of_trees': 4442}, 5.544208087515391)\n"
     ]
    }
   ],
   "source": [
    "features_all = [\"trip_distance\",\"duration\",\"avg_speed\",\"ridesAtPickupHour\"]\n",
    "code4_model_all = optimisedLGM(param_grid,code4data[features_all],code4data[\"fare_amount\"]-2.5)"
   ]
  },
  {
   "cell_type": "code",
   "execution_count": 206,
   "metadata": {},
   "outputs": [
    {
     "data": {
      "text/plain": [
       "<matplotlib.axes._subplots.AxesSubplot at 0x280694b9978>"
      ]
     },
     "execution_count": 206,
     "metadata": {},
     "output_type": "execute_result"
    },
    {
     "data": {
      "image/png": "[encoded data removed]",
      "text/plain": [
       "<matplotlib.figure.Figure at 0x2806c900748>"
      ]
     },
     "metadata": {},
     "output_type": "display_data"
    }
   ],
   "source": [
    "lgb.plot_importance(code4_model_all, max_num_features=10)"
   ]
  },
  {
   "cell_type": "markdown",
   "metadata": {},
   "source": [
    "Next: model for outer trips.\n"
   ]
  },
  {
   "cell_type": "code",
   "execution_count": 335,
   "metadata": {
    "scrolled": true
   },
   "outputs": [
    {
     "name": "stdout",
     "output_type": "stream",
     "text": [
      "Total parameter combinations to run: 5\n",
      "Starting run 1\n",
      "{'bagging_fraction': 0.8, 'boosting': 'gbdt', 'feature_fraction': 0.8, 'learning_rate': 0.003, 'num_leaves': 7, 'num_threads': 4, 'objective': 'mae', 'verbose': -1}\n",
      "[100]\tcv_agg's l1: 14.4566 + 0.0864501\n",
      "[200]\tcv_agg's l1: 11.6216 + 0.0879369\n",
      "[300]\tcv_agg's l1: 9.64401 + 0.0709149\n",
      "[400]\tcv_agg's l1: 8.29257 + 0.0868636\n",
      "[500]\tcv_agg's l1: 7.41124 + 0.104273\n",
      "[600]\tcv_agg's l1: 6.81342 + 0.0948956\n",
      "[700]\tcv_agg's l1: 6.41299 + 0.0943908\n",
      "[800]\tcv_agg's l1: 6.13642 + 0.101701\n",
      "[900]\tcv_agg's l1: 5.94414 + 0.11052\n",
      "[1000]\tcv_agg's l1: 5.7983 + 0.111509\n",
      "[1100]\tcv_agg's l1: 5.69884 + 0.119421\n",
      "[1200]\tcv_agg's l1: 5.62309 + 0.118308\n",
      "[1300]\tcv_agg's l1: 5.56791 + 0.11988\n",
      "[1400]\tcv_agg's l1: 5.53038 + 0.123284\n",
      "[1500]\tcv_agg's l1: 5.50515 + 0.122582\n",
      "[1600]\tcv_agg's l1: 5.48781 + 0.124614\n",
      "[1700]\tcv_agg's l1: 5.47382 + 0.124747\n",
      "[1800]\tcv_agg's l1: 5.46504 + 0.125807\n",
      "[1900]\tcv_agg's l1: 5.45948 + 0.128025\n",
      "[2000]\tcv_agg's l1: 5.45652 + 0.127253\n",
      "[2100]\tcv_agg's l1: 5.45311 + 0.12645\n",
      "[2200]\tcv_agg's l1: 5.4504 + 0.12602\n",
      "[2300]\tcv_agg's l1: 5.44813 + 0.126734\n",
      "[2400]\tcv_agg's l1: 5.44718 + 0.127172\n",
      "Run done, took: 1.26 s\n",
      "Starting run 2\n",
      "{'bagging_fraction': 0.8, 'boosting': 'gbdt', 'feature_fraction': 0.8, 'learning_rate': 0.003, 'num_leaves': 31, 'num_threads': 4, 'objective': 'mae', 'verbose': -1}\n",
      "[100]\tcv_agg's l1: 14.1696 + 0.0841921\n",
      "[200]\tcv_agg's l1: 11.2303 + 0.0619934\n",
      "[300]\tcv_agg's l1: 9.2263 + 0.0683892\n",
      "[400]\tcv_agg's l1: 7.9212 + 0.100056\n",
      "[500]\tcv_agg's l1: 7.07983 + 0.113567\n",
      "[600]\tcv_agg's l1: 6.53256 + 0.114409\n",
      "[700]\tcv_agg's l1: 6.18141 + 0.109869\n",
      "[800]\tcv_agg's l1: 5.94739 + 0.11744\n",
      "[900]\tcv_agg's l1: 5.78648 + 0.126815\n",
      "[1000]\tcv_agg's l1: 5.67434 + 0.138197\n",
      "[1100]\tcv_agg's l1: 5.60138 + 0.143341\n",
      "[1200]\tcv_agg's l1: 5.54923 + 0.14397\n",
      "[1300]\tcv_agg's l1: 5.51534 + 0.146438\n",
      "[1400]\tcv_agg's l1: 5.49276 + 0.146909\n",
      "[1500]\tcv_agg's l1: 5.4767 + 0.146567\n",
      "[1600]\tcv_agg's l1: 5.46747 + 0.146533\n",
      "[1700]\tcv_agg's l1: 5.46248 + 0.145966\n",
      "[1800]\tcv_agg's l1: 5.45824 + 0.145381\n",
      "[1900]\tcv_agg's l1: 5.45588 + 0.144916\n",
      "[2000]\tcv_agg's l1: 5.45586 + 0.144691\n",
      "Run done, took: 2.39 s\n",
      "Starting run 3\n",
      "{'bagging_fraction': 0.8, 'boosting': 'gbdt', 'feature_fraction': 0.8, 'learning_rate': 0.003, 'num_leaves': 150, 'num_threads': 4, 'objective': 'mae', 'verbose': -1}\n",
      "[100]\tcv_agg's l1: 14.1547 + 0.093702\n",
      "[200]\tcv_agg's l1: 11.1833 + 0.0745922\n",
      "[300]\tcv_agg's l1: 9.17418 + 0.0943024\n",
      "[400]\tcv_agg's l1: 7.86844 + 0.13276\n",
      "[500]\tcv_agg's l1: 7.03355 + 0.137001\n",
      "[600]\tcv_agg's l1: 6.48696 + 0.127481\n",
      "[700]\tcv_agg's l1: 6.13355 + 0.127624\n",
      "[800]\tcv_agg's l1: 5.8981 + 0.132595\n",
      "[900]\tcv_agg's l1: 5.74537 + 0.141693\n",
      "[1000]\tcv_agg's l1: 5.64631 + 0.150757\n",
      "[1100]\tcv_agg's l1: 5.58063 + 0.149005\n",
      "[1200]\tcv_agg's l1: 5.53987 + 0.147867\n",
      "[1300]\tcv_agg's l1: 5.51785 + 0.145783\n",
      "[1400]\tcv_agg's l1: 5.50638 + 0.144607\n",
      "[1500]\tcv_agg's l1: 5.50162 + 0.141974\n",
      "[1600]\tcv_agg's l1: 5.49875 + 0.139493\n",
      "Run done, took: 3.14 s\n",
      "Starting run 4\n",
      "{'bagging_fraction': 0.8, 'boosting': 'gbdt', 'feature_fraction': 0.8, 'learning_rate': 0.003, 'num_leaves': 500, 'num_threads': 4, 'objective': 'mae', 'verbose': -1}\n",
      "[100]\tcv_agg's l1: 14.1547 + 0.093702\n",
      "[200]\tcv_agg's l1: 11.1833 + 0.0745922\n",
      "[300]\tcv_agg's l1: 9.17418 + 0.0943024\n",
      "[400]\tcv_agg's l1: 7.86844 + 0.13276\n",
      "[500]\tcv_agg's l1: 7.03355 + 0.137001\n",
      "[600]\tcv_agg's l1: 6.48696 + 0.127481\n",
      "[700]\tcv_agg's l1: 6.13355 + 0.127624\n",
      "[800]\tcv_agg's l1: 5.8981 + 0.132595\n",
      "[900]\tcv_agg's l1: 5.74537 + 0.141693\n",
      "[1000]\tcv_agg's l1: 5.64631 + 0.150757\n",
      "[1100]\tcv_agg's l1: 5.58063 + 0.149005\n",
      "[1200]\tcv_agg's l1: 5.53987 + 0.147867\n",
      "[1300]\tcv_agg's l1: 5.51785 + 0.145783\n",
      "[1400]\tcv_agg's l1: 5.50638 + 0.144607\n",
      "[1500]\tcv_agg's l1: 5.50162 + 0.141974\n",
      "[1600]\tcv_agg's l1: 5.49875 + 0.139493\n",
      "Run done, took: 3.67 s\n",
      "Starting run 5\n",
      "{'bagging_fraction': 0.8, 'boosting': 'gbdt', 'feature_fraction': 0.8, 'learning_rate': 0.003, 'num_leaves': 1000, 'num_threads': 4, 'objective': 'mae', 'verbose': -1}\n",
      "[100]\tcv_agg's l1: 14.1547 + 0.093702\n",
      "[200]\tcv_agg's l1: 11.1833 + 0.0745922\n",
      "[300]\tcv_agg's l1: 9.17418 + 0.0943024\n",
      "[400]\tcv_agg's l1: 7.86844 + 0.13276\n",
      "[500]\tcv_agg's l1: 7.03355 + 0.137001\n",
      "[600]\tcv_agg's l1: 6.48696 + 0.127481\n",
      "[700]\tcv_agg's l1: 6.13355 + 0.127624\n",
      "[800]\tcv_agg's l1: 5.8981 + 0.132595\n",
      "[900]\tcv_agg's l1: 5.74537 + 0.141693\n",
      "[1000]\tcv_agg's l1: 5.64631 + 0.150757\n",
      "[1100]\tcv_agg's l1: 5.58063 + 0.149005\n",
      "[1200]\tcv_agg's l1: 5.53987 + 0.147867\n",
      "[1300]\tcv_agg's l1: 5.51785 + 0.145783\n",
      "[1400]\tcv_agg's l1: 5.50638 + 0.144607\n",
      "[1500]\tcv_agg's l1: 5.50162 + 0.141974\n",
      "[1600]\tcv_agg's l1: 5.49875 + 0.139493\n",
      "Run done, took: 4.44 s\n",
      "Best params: ({'bagging_fraction': 0.8, 'boosting': 'gbdt', 'feature_fraction': 0.8, 'learning_rate': 0.003, 'num_leaves': 7, 'num_threads': 4, 'objective': 'mae', 'verbose': -1, 'optimal_number_of_trees': 2361}, 5.447001982438423)\n",
      "Wall time: 15.3 s\n"
     ]
    }
   ],
   "source": [
    "%%time\n",
    "# make train set\n",
    "features = [\"trip_distance\",\"duration\",\"ridesAtPickupHour\",\"avg_speed\"]\n",
    "\n",
    "code4_model_out = optimisedLGM(param_grid,code4data_out[features],code4data_out[\"fare_amount\"]-2.5)"
   ]
  },
  {
   "cell_type": "code",
   "execution_count": 336,
   "metadata": {},
   "outputs": [
    {
     "data": {
      "text/plain": [
       "<matplotlib.axes._subplots.AxesSubplot at 0x28007333828>"
      ]
     },
     "execution_count": 336,
     "metadata": {},
     "output_type": "execute_result"
    },
    {
     "data": {
      "image/png": "[encoded data removed]",
      "text/plain": [
       "<matplotlib.figure.Figure at 0x28006ac54e0>"
      ]
     },
     "metadata": {},
     "output_type": "display_data"
    }
   ],
   "source": [
    "lgb.plot_importance(code4_model_out, max_num_features=10)"
   ]
  },
  {
   "cell_type": "markdown",
   "metadata": {},
   "source": [
    "## Prediction"
   ]
  },
  {
   "cell_type": "code",
   "execution_count": 209,
   "metadata": {},
   "outputs": [],
   "source": [
    "#apply to test set\n",
    "code4test[\"endsInManhattan\"] = code4test.apply(lambda x : inArea(manhattan_cords,x[\"dropoff_latitude\"],x[\"dropoff_longitude\"]),axis=1)\n",
    "code4test[\"startsInManhattan\"] = code4test.apply(lambda x : inArea(manhattan_cords,x[\"pickup_latitude\"],x[\"pickup_longitude\"]),axis=1)"
   ]
  },
  {
   "cell_type": "markdown",
   "metadata": {},
   "source": [
    "We have four possible trip patterns:\n",
    "    1. starts in city, ends in city --> should not have ratecode 4 -> outlier, ignore\n",
    "    2. starts in city, ends out of city -> standard trip\n",
    "    3. starts out of city, ends out of city -> no calculations to be done here, use double rate for whole trip\n",
    "    4. starts out of city, ends in city -> reverse standard trip"
   ]
  },
  {
   "cell_type": "code",
   "execution_count": 210,
   "metadata": {},
   "outputs": [
    {
     "data": {
      "text/plain": [
       "(1000, 22)"
      ]
     },
     "execution_count": 210,
     "metadata": {},
     "output_type": "execute_result"
    }
   ],
   "source": [
    "np.shape(code4test)"
   ]
  },
  {
   "cell_type": "code",
   "execution_count": 211,
   "metadata": {},
   "outputs": [
    {
     "data": {
      "text/plain": [
       "(35, 22)"
      ]
     },
     "execution_count": 211,
     "metadata": {},
     "output_type": "execute_result"
    }
   ],
   "source": [
    "#option1: trips that start and end in manhattan, these should not have this ratecode\n",
    "code4test_wrong = code4test[(code4test.startsInManhattan & code4test.endsInManhattan)]\n",
    "np.shape(code4test_wrong)"
   ]
  },
  {
   "cell_type": "code",
   "execution_count": 212,
   "metadata": {},
   "outputs": [
    {
     "data": {
      "text/plain": [
       "(238, 22)"
      ]
     },
     "execution_count": 212,
     "metadata": {},
     "output_type": "execute_result"
    }
   ],
   "source": [
    "#option2 & option 4: \n",
    "code4test_mixed = code4test[code4test.startsInManhattan ^ code4test.endsInManhattan] \n",
    "np.shape(code4test_mixed)"
   ]
  },
  {
   "cell_type": "code",
   "execution_count": 213,
   "metadata": {},
   "outputs": [
    {
     "data": {
      "text/plain": [
       "(727, 22)"
      ]
     },
     "execution_count": 213,
     "metadata": {},
     "output_type": "execute_result"
    }
   ],
   "source": [
    "#option 3:\n",
    "code4test_out = code4test[(code4test.startsInManhattan==False) & (code4test.endsInManhattan==False)] \n",
    "np.shape(code4test_out)"
   ]
  },
  {
   "cell_type": "code",
   "execution_count": 214,
   "metadata": {},
   "outputs": [],
   "source": [
    "# try to find out which bridge is used in a trip \n",
    "# assumption: the bridge is used that minimizes the pickup-bridge-dropoff distance (air-line distance)\n",
    "counter = 1\n",
    "for index, row in code4test_mixed.iterrows():\n",
    "    \n",
    "    startP = (row[\"pickup_latitude\"],row[\"pickup_longitude\"])\n",
    "    endP = (row[\"dropoff_latitude\"],row[\"dropoff_longitude\"])\n",
    "    \n",
    "    if(row.startsInManhattan and row.endsInManhattan):\n",
    "        #print(\"Outlier found, index\",index)\n",
    "        continue\n",
    "    elif (not row.startsInManhattan and not row.endsInManhattan):\n",
    "        #print(\"Complete out of city trip, index\",index)\n",
    "        code4test_mixed.at[index,\"bridge\"] = None;\n",
    "        code4test_mixed.at[index,\"in_city_distance\"] = 0;\n",
    "        code4test_mixed.at[index,\"out_of_city_distance\"] = geodesic(startP, endP).miles\n",
    "        code4test_mixed.at[index,\"total_over_bridge_distance\"] = geodesic(startP, endP).miles  \n",
    "        continue\n",
    "    elif (not row.startsInManhattan and  row.endsInManhattan): # reverse trip\n",
    "        temp = startP # here we swap start and endpoints so its similar to a standard trip\n",
    "        startP = endP\n",
    "        endP = temp\n",
    "    \n",
    "    #find closest bridge\n",
    "    closest_bridge_index = -1\n",
    "    closest_total_bridge_distance = float('inf')\n",
    "    for i in range(len(bridges)):\n",
    "        distance_to_bridge = geodesic(startP, bridges[i]).miles\n",
    "        distance_to_dest =  geodesic(bridges[i],endP).miles\n",
    "        total = distance_to_bridge + distance_to_dest\n",
    "        if(total < closest_total_bridge_distance):\n",
    "            closest_total_bridge_distance = total\n",
    "            closest_bridge_index = i\n",
    "            closest_distance_to_bridge = distance_to_bridge\n",
    "            closest_distance_to_dest = distance_to_dest\n",
    "            \n",
    "    #print(\"Route {} travels over bridge/tunnel {} (to bridge: {:0.2f}, to dest: {:0.2f}, total: {:0.2f}, trip_distance : {:0.2f})\".format(\n",
    "    #    counter, closest_bridge_index,closest_distance_to_bridge,closest_distance_to_dest,closest_total_bridge_distance,totalDistance))\n",
    "    counter = counter + 1\n",
    "    \n",
    "    code4test_mixed.at[index,\"bridge\"] = closest_bridge_index;\n",
    "    code4test_mixed.at[index,\"in_city_distance\"] = closest_distance_to_bridge;\n",
    "    code4test_mixed.at[index,\"out_of_city_distance\"] = closest_distance_to_dest\n",
    "    code4test_mixed.at[index,\"total_over_bridge_distance\"] = closest_total_bridge_distance       "
   ]
  },
  {
   "cell_type": "code",
   "execution_count": 215,
   "metadata": {},
   "outputs": [],
   "source": [
    "#states how much of the fare was contributed by ride in the city. Calculated by \n",
    "code4test_mixed[\"inCityPercentage\"] = code4test_mixed.apply(lambda x: x.in_city_distance/(x.in_city_distance+2*x.out_of_city_distance+0.0001),axis=1)"
   ]
  },
  {
   "cell_type": "code",
   "execution_count": 216,
   "metadata": {},
   "outputs": [],
   "source": [
    "code4test_mixed[\"inCityTripDistance\"] = code4test_mixed.apply(lambda x: x.in_city_distance/(x.in_city_distance+x.out_of_city_distance),axis=1)\n",
    "code4test_mixed[\"outCityTripDistance\"] = code4test_mixed.apply(lambda x: x.out_of_city_distance/(x.in_city_distance+x.out_of_city_distance),axis=1)"
   ]
  },
  {
   "cell_type": "code",
   "execution_count": 217,
   "metadata": {},
   "outputs": [],
   "source": [
    "code4test_mixed[\"inCityTripDistanceExtreme\"] = code4test_mixed.apply(lambda x: x.inCityPercentage*x.trip_distance,axis=1)\n",
    "code4test_mixed[\"outCityTripDistanceExtreme\"] = code4test_mixed.apply(lambda x: (1-x.inCityPercentage)*x.trip_distance,axis=1)"
   ]
  },
  {
   "cell_type": "code",
   "execution_count": null,
   "metadata": {},
   "outputs": [],
   "source": [
    "code4test_mixed[\"in_city_ratio\"] = code4test_mixed.apply(lambda x: x.in_city_distance/(x.in_city_distance+x.out_of_city_distance),axis=1)"
   ]
  },
  {
   "cell_type": "code",
   "execution_count": 218,
   "metadata": {},
   "outputs": [],
   "source": [
    "# prediction for the inner city part\n",
    "code4_mixed_inner_pred = code4_model_inner.predict(code4test_mixed[features_inner])"
   ]
  },
  {
   "cell_type": "code",
   "execution_count": 219,
   "metadata": {},
   "outputs": [],
   "source": [
    "#prediction for out of city part\n",
    "code4_mixed_outer_pred = code4_model_outer.predict(code4test_mixed[features_outer])"
   ]
  },
  {
   "cell_type": "code",
   "execution_count": 220,
   "metadata": {},
   "outputs": [],
   "source": [
    "code4_mixed_combined_pred = code4_model_combined.predict(code4test_mixed[features_combined])"
   ]
  },
  {
   "cell_type": "code",
   "execution_count": 221,
   "metadata": {},
   "outputs": [],
   "source": [
    "#combine the results\n",
    "#round comined predictions to closest .5\n",
    "#add 2.5 inital charge which was removed before training\n",
    "code4test_mixed[\"fare_amount_prediction\"]=np.round((code4_mixed_inner_pred+code4_mixed_outer_pred)*2)/2+2.5"
   ]
  },
  {
   "cell_type": "code",
   "execution_count": 222,
   "metadata": {},
   "outputs": [
    {
     "data": {
      "text/plain": [
       "count    238.000000\n",
       "mean      70.735294\n",
       "std       19.754380\n",
       "min       16.000000\n",
       "25%       58.000000\n",
       "50%       69.500000\n",
       "75%       92.375000\n",
       "max      106.500000\n",
       "Name: fare_amount_prediction, dtype: float64"
      ]
     },
     "execution_count": 222,
     "metadata": {},
     "output_type": "execute_result"
    }
   ],
   "source": [
    "code4test_mixed[\"fare_amount_prediction\"].describe()"
   ]
  },
  {
   "cell_type": "code",
   "execution_count": 223,
   "metadata": {},
   "outputs": [],
   "source": [
    "code4test_mixed[\"fare_amount_prediction\"]=np.round(code4_mixed_combined_pred*2)/2+2.5"
   ]
  },
  {
   "cell_type": "code",
   "execution_count": 224,
   "metadata": {},
   "outputs": [
    {
     "data": {
      "text/plain": [
       "count    238.000000\n",
       "mean      70.705882\n",
       "std       19.479992\n",
       "min       16.000000\n",
       "25%       59.500000\n",
       "50%       68.750000\n",
       "75%       92.125000\n",
       "max      100.000000\n",
       "Name: fare_amount_prediction, dtype: float64"
      ]
     },
     "execution_count": 224,
     "metadata": {},
     "output_type": "execute_result"
    }
   ],
   "source": [
    "code4test_mixed[\"fare_amount_prediction\"].describe()"
   ]
  },
  {
   "cell_type": "markdown",
   "metadata": {},
   "source": [
    "Next: predict out trips."
   ]
  },
  {
   "cell_type": "code",
   "execution_count": 225,
   "metadata": {},
   "outputs": [],
   "source": [
    "code4test_out_pred = code4_model_out.predict(code4test_out[features])\n",
    "code4test_out[\"fare_amount_prediction\"]=np.round(code4test_out_pred*2)/2+2.5"
   ]
  },
  {
   "cell_type": "markdown",
   "metadata": {},
   "source": [
    "Lastly: predict trips that only were in Manhattan with double rate model (same as outer trips)"
   ]
  },
  {
   "cell_type": "code",
   "execution_count": 226,
   "metadata": {},
   "outputs": [],
   "source": [
    "code4_test_wrong_pred = code4_model_out.predict(code4test_wrong[features])\n",
    "code4test_wrong[\"fare_amount_prediction\"]=np.round(code4_test_wrong_pred*2)/2+2.5"
   ]
  },
  {
   "cell_type": "code",
   "execution_count": 227,
   "metadata": {},
   "outputs": [],
   "source": [
    "#combine all code 4 dataframes with predictions\n",
    "code4test = pd.concat([code4test_mixed,code4test_out,code4test_wrong])"
   ]
  },
  {
   "cell_type": "markdown",
   "metadata": {},
   "source": [
    "# Ratecode 5 (Negotiated Fares)"
   ]
  },
  {
   "cell_type": "markdown",
   "metadata": {},
   "source": [
    "## Building the Model"
   ]
  },
  {
   "cell_type": "code",
   "execution_count": 307,
   "metadata": {},
   "outputs": [],
   "source": [
    "code5data = train[train.RatecodeID == 5]\n",
    "code5data = code5data.assign(fare_to_distance_ratio = code5data.fare_amount/code5data.trip_distance)\n",
    "code5data = code5data[(code5data.fare_to_distance_ratio<20) & (code5data.fare_to_distance_ratio>=1)]\n",
    "code5test = test[test.RatecodeID == 5]\n"
   ]
  },
  {
   "cell_type": "code",
   "execution_count": 313,
   "metadata": {},
   "outputs": [
    {
     "data": {
      "text/plain": [
       "count    9945.000000\n",
       "mean        7.598675\n",
       "std         6.660595\n",
       "min         0.000000\n",
       "25%         0.000000\n",
       "50%        10.500000\n",
       "75%        12.500000\n",
       "max        30.000000\n",
       "Name: tolls_amount, dtype: float64"
      ]
     },
     "execution_count": 313,
     "metadata": {},
     "output_type": "execute_result"
    }
   ],
   "source": [
    "code5data.tolls_amount.describe()"
   ]
  },
  {
   "cell_type": "code",
   "execution_count": 308,
   "metadata": {},
   "outputs": [
    {
     "data": {
      "text/plain": [
       "LabelEncoder()"
      ]
     },
     "execution_count": 308,
     "metadata": {},
     "output_type": "execute_result"
    }
   ],
   "source": [
    "from sklearn import preprocessing\n",
    "le = preprocessing.LabelEncoder()\n",
    "le.fit(code5data.day)"
   ]
  },
  {
   "cell_type": "code",
   "execution_count": 309,
   "metadata": {},
   "outputs": [
    {
     "data": {
      "text/plain": [
       "['Friday', 'Monday', 'Saturday', 'Sunday', 'Thursday', 'Tuesday', 'Wednesday']"
      ]
     },
     "execution_count": 309,
     "metadata": {},
     "output_type": "execute_result"
    }
   ],
   "source": [
    "list(le.classes_)"
   ]
  },
  {
   "cell_type": "code",
   "execution_count": 310,
   "metadata": {},
   "outputs": [],
   "source": [
    "code5data[\"day_int\"] = le.transform(code5data.day)"
   ]
  },
  {
   "cell_type": "code",
   "execution_count": 311,
   "metadata": {},
   "outputs": [],
   "source": [
    "code5data[\"weekend\"] = code5data.apply(lambda x: ((x.day == \"Sunday\") | (x.day==\"Saturday\")) and 1 or 0,axis=1)"
   ]
  },
  {
   "cell_type": "code",
   "execution_count": 316,
   "metadata": {
    "scrolled": true
   },
   "outputs": [
    {
     "name": "stdout",
     "output_type": "stream",
     "text": [
      "Total parameter combinations to run: 5\n",
      "Starting run 1\n",
      "{'bagging_fraction': 0.8, 'boosting': 'gbdt', 'feature_fraction': 0.8, 'learning_rate': 0.003, 'num_leaves': 7, 'num_threads': 4, 'objective': 'mae', 'verbose': -1}\n",
      "[100]\tcv_agg's l1: 27.6406 + 0.352742\n",
      "[200]\tcv_agg's l1: 23.9965 + 0.345063\n",
      "[300]\tcv_agg's l1: 21.6757 + 0.344191\n",
      "[400]\tcv_agg's l1: 20.067 + 0.267053\n",
      "[500]\tcv_agg's l1: 18.9201 + 0.226732\n",
      "[600]\tcv_agg's l1: 18.1458 + 0.197412\n",
      "[700]\tcv_agg's l1: 17.5926 + 0.166741\n",
      "[800]\tcv_agg's l1: 17.2087 + 0.170112\n",
      "[900]\tcv_agg's l1: 16.9178 + 0.150652\n",
      "[1000]\tcv_agg's l1: 16.7189 + 0.139975\n",
      "[1100]\tcv_agg's l1: 16.5634 + 0.12648\n",
      "[1200]\tcv_agg's l1: 16.4448 + 0.114219\n",
      "[1300]\tcv_agg's l1: 16.3618 + 0.107027\n",
      "[1400]\tcv_agg's l1: 16.3078 + 0.105792\n",
      "[1500]\tcv_agg's l1: 16.2673 + 0.104247\n",
      "[1600]\tcv_agg's l1: 16.2332 + 0.102902\n",
      "[1700]\tcv_agg's l1: 16.2092 + 0.103914\n",
      "[1800]\tcv_agg's l1: 16.1879 + 0.106337\n",
      "[1900]\tcv_agg's l1: 16.1654 + 0.111037\n",
      "[2000]\tcv_agg's l1: 16.1515 + 0.113472\n",
      "[2100]\tcv_agg's l1: 16.1416 + 0.112126\n",
      "[2200]\tcv_agg's l1: 16.1314 + 0.110875\n",
      "[2300]\tcv_agg's l1: 16.124 + 0.110934\n",
      "[2400]\tcv_agg's l1: 16.1165 + 0.111079\n",
      "[2500]\tcv_agg's l1: 16.1115 + 0.111548\n",
      "[2600]\tcv_agg's l1: 16.1074 + 0.112982\n",
      "[2700]\tcv_agg's l1: 16.1029 + 0.113463\n",
      "[2800]\tcv_agg's l1: 16.098 + 0.114112\n",
      "[2900]\tcv_agg's l1: 16.0947 + 0.114116\n",
      "[3000]\tcv_agg's l1: 16.0912 + 0.114131\n",
      "[3100]\tcv_agg's l1: 16.0876 + 0.114473\n",
      "[3200]\tcv_agg's l1: 16.0859 + 0.114597\n",
      "[3300]\tcv_agg's l1: 16.0826 + 0.115017\n",
      "[3400]\tcv_agg's l1: 16.0799 + 0.115868\n",
      "[3500]\tcv_agg's l1: 16.0771 + 0.116407\n",
      "[3600]\tcv_agg's l1: 16.0746 + 0.116825\n",
      "[3700]\tcv_agg's l1: 16.0723 + 0.116772\n",
      "[3800]\tcv_agg's l1: 16.0699 + 0.116615\n",
      "[3900]\tcv_agg's l1: 16.0667 + 0.117145\n",
      "[4000]\tcv_agg's l1: 16.0623 + 0.11589\n",
      "[4100]\tcv_agg's l1: 16.0584 + 0.115367\n",
      "[4200]\tcv_agg's l1: 16.0553 + 0.114526\n",
      "[4300]\tcv_agg's l1: 16.0525 + 0.113726\n",
      "[4400]\tcv_agg's l1: 16.0493 + 0.113182\n",
      "[4500]\tcv_agg's l1: 16.047 + 0.113796\n",
      "[4600]\tcv_agg's l1: 16.0447 + 0.112844\n",
      "[4700]\tcv_agg's l1: 16.0435 + 0.110875\n",
      "Run done, took: 3.98 s\n",
      "Starting run 2\n",
      "{'bagging_fraction': 0.8, 'boosting': 'gbdt', 'feature_fraction': 0.8, 'learning_rate': 0.003, 'num_leaves': 31, 'num_threads': 4, 'objective': 'mae', 'verbose': -1}\n",
      "[100]\tcv_agg's l1: 27.3221 + 0.371645\n",
      "[200]\tcv_agg's l1: 23.5175 + 0.349959\n",
      "[300]\tcv_agg's l1: 20.943 + 0.28397\n",
      "[400]\tcv_agg's l1: 19.2457 + 0.226138\n",
      "[500]\tcv_agg's l1: 18.1386 + 0.16817\n",
      "[600]\tcv_agg's l1: 17.4169 + 0.136996\n",
      "[700]\tcv_agg's l1: 16.9398 + 0.123622\n",
      "[800]\tcv_agg's l1: 16.6087 + 0.111873\n",
      "[900]\tcv_agg's l1: 16.3994 + 0.117152\n",
      "[1000]\tcv_agg's l1: 16.2725 + 0.123074\n",
      "[1100]\tcv_agg's l1: 16.1858 + 0.121614\n",
      "[1200]\tcv_agg's l1: 16.1226 + 0.117905\n",
      "[1300]\tcv_agg's l1: 16.0797 + 0.122286\n",
      "[1400]\tcv_agg's l1: 16.0514 + 0.121547\n",
      "[1500]\tcv_agg's l1: 16.0353 + 0.119435\n",
      "[1600]\tcv_agg's l1: 16.0268 + 0.117785\n",
      "[1700]\tcv_agg's l1: 16.0169 + 0.115753\n",
      "[1800]\tcv_agg's l1: 16.0091 + 0.114849\n",
      "[1900]\tcv_agg's l1: 16.0023 + 0.112304\n",
      "[2000]\tcv_agg's l1: 15.9983 + 0.110894\n",
      "[2100]\tcv_agg's l1: 15.9956 + 0.1098\n",
      "[2200]\tcv_agg's l1: 15.9899 + 0.108979\n",
      "[2300]\tcv_agg's l1: 15.986 + 0.107267\n",
      "[2400]\tcv_agg's l1: 15.9824 + 0.107972\n",
      "Run done, took: 4.19 s\n",
      "Starting run 3\n",
      "{'bagging_fraction': 0.8, 'boosting': 'gbdt', 'feature_fraction': 0.8, 'learning_rate': 0.003, 'num_leaves': 150, 'num_threads': 4, 'objective': 'mae', 'verbose': -1}\n",
      "[100]\tcv_agg's l1: 27.0817 + 0.342167\n",
      "[200]\tcv_agg's l1: 23.21 + 0.316034\n",
      "[300]\tcv_agg's l1: 20.6293 + 0.267373\n",
      "[400]\tcv_agg's l1: 18.9822 + 0.218079\n",
      "[500]\tcv_agg's l1: 17.9279 + 0.188545\n",
      "[600]\tcv_agg's l1: 17.2674 + 0.173496\n",
      "[700]\tcv_agg's l1: 16.8464 + 0.158514\n",
      "[800]\tcv_agg's l1: 16.5788 + 0.158498\n",
      "[900]\tcv_agg's l1: 16.4146 + 0.157564\n",
      "[1000]\tcv_agg's l1: 16.3161 + 0.158057\n",
      "[1100]\tcv_agg's l1: 16.2543 + 0.148365\n",
      "[1200]\tcv_agg's l1: 16.2123 + 0.147649\n",
      "[1300]\tcv_agg's l1: 16.1872 + 0.149134\n",
      "[1400]\tcv_agg's l1: 16.1759 + 0.147603\n",
      "[1500]\tcv_agg's l1: 16.1709 + 0.145636\n",
      "[1600]\tcv_agg's l1: 16.1686 + 0.143976\n",
      "Run done, took: 7.99 s\n",
      "Starting run 4\n",
      "{'bagging_fraction': 0.8, 'boosting': 'gbdt', 'feature_fraction': 0.8, 'learning_rate': 0.003, 'num_leaves': 500, 'num_threads': 4, 'objective': 'mae', 'verbose': -1}\n",
      "[100]\tcv_agg's l1: 26.9711 + 0.331328\n",
      "[200]\tcv_agg's l1: 23.0118 + 0.302958\n",
      "[300]\tcv_agg's l1: 20.4289 + 0.258154\n",
      "[400]\tcv_agg's l1: 18.8154 + 0.225612\n",
      "[500]\tcv_agg's l1: 17.8219 + 0.205255\n",
      "[600]\tcv_agg's l1: 17.2025 + 0.189968\n",
      "[700]\tcv_agg's l1: 16.8224 + 0.174175\n",
      "[800]\tcv_agg's l1: 16.5827 + 0.175988\n",
      "[900]\tcv_agg's l1: 16.4475 + 0.169176\n",
      "[1000]\tcv_agg's l1: 16.3672 + 0.160083\n",
      "[1100]\tcv_agg's l1: 16.3168 + 0.154225\n",
      "[1200]\tcv_agg's l1: 16.2879 + 0.153498\n",
      "[1300]\tcv_agg's l1: 16.2738 + 0.152189\n",
      "[1400]\tcv_agg's l1: 16.2666 + 0.152437\n",
      "[1500]\tcv_agg's l1: 16.2663 + 0.155612\n",
      "Run done, took: 11.45 s\n",
      "Starting run 5\n",
      "{'bagging_fraction': 0.8, 'boosting': 'gbdt', 'feature_fraction': 0.8, 'learning_rate': 0.003, 'num_leaves': 1000, 'num_threads': 4, 'objective': 'mae', 'verbose': -1}\n",
      "[100]\tcv_agg's l1: 26.9711 + 0.331328\n",
      "[200]\tcv_agg's l1: 23.0118 + 0.302958\n",
      "[300]\tcv_agg's l1: 20.4289 + 0.258154\n",
      "[400]\tcv_agg's l1: 18.8154 + 0.225612\n",
      "[500]\tcv_agg's l1: 17.8219 + 0.205255\n",
      "[600]\tcv_agg's l1: 17.2025 + 0.189968\n",
      "[700]\tcv_agg's l1: 16.8224 + 0.174175\n",
      "[800]\tcv_agg's l1: 16.5827 + 0.175988\n",
      "[900]\tcv_agg's l1: 16.4475 + 0.169176\n",
      "[1000]\tcv_agg's l1: 16.3672 + 0.160083\n",
      "[1100]\tcv_agg's l1: 16.3168 + 0.154225\n",
      "[1200]\tcv_agg's l1: 16.2879 + 0.153498\n",
      "[1300]\tcv_agg's l1: 16.2738 + 0.152189\n",
      "[1400]\tcv_agg's l1: 16.2666 + 0.152437\n",
      "[1500]\tcv_agg's l1: 16.2663 + 0.155612\n",
      "Run done, took: 13.85 s\n",
      "Best params: ({'bagging_fraction': 0.8, 'boosting': 'gbdt', 'feature_fraction': 0.8, 'learning_rate': 0.003, 'num_leaves': 31, 'num_threads': 4, 'objective': 'mae', 'verbose': -1, 'optimal_number_of_trees': 2429}, 15.981949369819409)\n",
      "Wall time: 43 s\n"
     ]
    }
   ],
   "source": [
    "%%time\n",
    "features = [\"duration\",\"trip_distance\",\"avg_speed\",\"ridesAtPickupHour\",\"pickup_hour\",\"tolls_amount\"]\n",
    "\n",
    "code5_model = optimisedLGM(param_grid,code5data[features],code5data[\"fare_amount\"]-2.5)"
   ]
  },
  {
   "cell_type": "code",
   "execution_count": 315,
   "metadata": {},
   "outputs": [
    {
     "data": {
      "text/plain": [
       "<matplotlib.axes._subplots.AxesSubplot at 0x2801292e780>"
      ]
     },
     "execution_count": 315,
     "metadata": {},
     "output_type": "execute_result"
    },
    {
     "data": {
      "image/png": "[encoded data removed]",
      "text/plain": [
       "<matplotlib.figure.Figure at 0x2801292d550>"
      ]
     },
     "metadata": {},
     "output_type": "display_data"
    }
   ],
   "source": [
    "lgb.plot_importance(code5_model, max_num_features=10)"
   ]
  },
  {
   "cell_type": "code",
   "execution_count": 317,
   "metadata": {},
   "outputs": [
    {
     "data": {
      "image/png": "[encoded data removed]",
      "text/plain": [
       "<matplotlib.figure.Figure at 0x2801bccebe0>"
      ]
     },
     "metadata": {},
     "output_type": "display_data"
    }
   ],
   "source": [
    "ax = sns.distplot(code5data.fare_amount,kde=False,bins=20);"
   ]
  },
  {
   "cell_type": "code",
   "execution_count": 318,
   "metadata": {},
   "outputs": [
    {
     "data": {
      "text/plain": [
       "50.00     909\n",
       "60.00     772\n",
       "45.00     636\n",
       "80.00     507\n",
       "100.00    445\n",
       "70.00     421\n",
       "120.00    326\n",
       "40.00     324\n",
       "55.00     313\n",
       "65.00     313\n",
       "75.00     287\n",
       "90.00     277\n",
       "85.00     249\n",
       "150.00    201\n",
       "110.00    179\n",
       "130.00    128\n",
       "52.00     126\n",
       "95.00     122\n",
       "125.00     88\n",
       "140.00     88\n",
       "200.00     77\n",
       "30.00      73\n",
       "35.00      73\n",
       "160.00     66\n",
       "115.00     65\n",
       "88.00      63\n",
       "135.00     56\n",
       "105.00     55\n",
       "76.00      54\n",
       "20.00      42\n",
       "         ... \n",
       "275.00      1\n",
       "288.88      1\n",
       "287.00      1\n",
       "236.50      1\n",
       "40.25       1\n",
       "85.25       1\n",
       "68.34       1\n",
       "66.66       1\n",
       "99.50       1\n",
       "149.75      1\n",
       "89.30       1\n",
       "170.50      1\n",
       "79.70       1\n",
       "47.67       1\n",
       "19.50       1\n",
       "14.20       1\n",
       "125.55      1\n",
       "113.78      1\n",
       "129.70      1\n",
       "216.00      1\n",
       "354.00      1\n",
       "22.50       1\n",
       "28.50       1\n",
       "283.00      1\n",
       "114.50      1\n",
       "80.50       1\n",
       "40.34       1\n",
       "145.54      1\n",
       "169.50      1\n",
       "79.20       1\n",
       "Name: fare_amount, Length: 562, dtype: int64"
      ]
     },
     "execution_count": 318,
     "metadata": {},
     "output_type": "execute_result"
    }
   ],
   "source": [
    "code5data.fare_amount.value_counts()"
   ]
  },
  {
   "cell_type": "code",
   "execution_count": 326,
   "metadata": {},
   "outputs": [
    {
     "data": {
      "text/plain": [
       "(9945, 30)"
      ]
     },
     "execution_count": 326,
     "metadata": {},
     "output_type": "execute_result"
    }
   ],
   "source": [
    "code5data.shape"
   ]
  },
  {
   "cell_type": "code",
   "execution_count": 329,
   "metadata": {},
   "outputs": [],
   "source": [
    "t = code5data[code5data.fare_amount%0.5 != 0][[\"trip_distance\",\"duration\",\"fare_amount\"]]"
   ]
  },
  {
   "cell_type": "code",
   "execution_count": 330,
   "metadata": {},
   "outputs": [],
   "source": [
    "t[\"fare_to_distance_ratio\"]= t.fare_amount/t.trip_distance"
   ]
  },
  {
   "cell_type": "code",
   "execution_count": 331,
   "metadata": {},
   "outputs": [
    {
     "data": {
      "text/plain": [
       "count    335.000000\n",
       "mean       6.369723\n",
       "std        3.056824\n",
       "min        1.406725\n",
       "25%        4.354730\n",
       "50%        5.403309\n",
       "75%        7.703981\n",
       "max       19.461538\n",
       "Name: fare_to_distance_ratio, dtype: float64"
      ]
     },
     "execution_count": 331,
     "metadata": {},
     "output_type": "execute_result"
    }
   ],
   "source": [
    "t.fare_to_distance_ratio.describe()"
   ]
  },
  {
   "cell_type": "code",
   "execution_count": 332,
   "metadata": {},
   "outputs": [
    {
     "data": {
      "image/png": "[encoded data removed]",
      "text/plain": [
       "<matplotlib.figure.Figure at 0x2801c0331d0>"
      ]
     },
     "metadata": {},
     "output_type": "display_data"
    }
   ],
   "source": [
    "ax = sns.distplot(t.fare_to_distance_ratio,kde=False,bins=20);"
   ]
  },
  {
   "cell_type": "code",
   "execution_count": 334,
   "metadata": {},
   "outputs": [
    {
     "data": {
      "image/png": "[encoded data removed]",
      "text/plain": [
       "<matplotlib.figure.Figure at 0x2800bda7710>"
      ]
     },
     "metadata": {},
     "output_type": "display_data"
    }
   ],
   "source": [
    "ax = sns.distplot(code5data.fare_to_distance_ratio,kde=False,bins=20);"
   ]
  },
  {
   "cell_type": "markdown",
   "metadata": {},
   "source": [
    "## Prediction"
   ]
  },
  {
   "cell_type": "code",
   "execution_count": 230,
   "metadata": {},
   "outputs": [],
   "source": [
    "code5prediction = code5_model.predict(code5test[features])\n",
    "code5test = code5test.assign(fare_amount_prediction = code5prediction)"
   ]
  },
  {
   "cell_type": "markdown",
   "metadata": {},
   "source": [
    "# Recombine all predictions and save"
   ]
  },
  {
   "cell_type": "code",
   "execution_count": 231,
   "metadata": {},
   "outputs": [],
   "source": [
    "testResult = pd.concat([code1test,code2test,code3test,code4test,code5test])"
   ]
  },
  {
   "cell_type": "code",
   "execution_count": 232,
   "metadata": {},
   "outputs": [],
   "source": [
    "testResult.to_csv(\"C:\\\\Users\\\\Leo\\\\Dropbox\\\\Info Göttingen\\\\Practical Course Data Science\\\\Task 2\\\\data\\\\test_prediction.csv\")"
   ]
  },
  {
   "cell_type": "code",
   "execution_count": 233,
   "metadata": {},
   "outputs": [
    {
     "data": {
      "text/plain": [
       "count    64000.000000\n",
       "mean        22.726293\n",
       "std         23.373723\n",
       "min          3.000000\n",
       "25%          7.500000\n",
       "50%         12.000000\n",
       "75%         30.500000\n",
       "max        251.509255\n",
       "Name: fare_amount_prediction, dtype: float64"
      ]
     },
     "execution_count": 233,
     "metadata": {},
     "output_type": "execute_result"
    }
   ],
   "source": [
    "testResult.fare_amount_prediction.describe()"
   ]
  },
  {
   "cell_type": "code",
   "execution_count": 234,
   "metadata": {
    "scrolled": true
   },
   "outputs": [
    {
     "data": {
      "text/html": [
       "<div>\n",
       "<style scoped>\n",
       "    .dataframe tbody tr th:only-of-type {\n",
       "        vertical-align: middle;\n",
       "    }\n",
       "\n",
       "    .dataframe tbody tr th {\n",
       "        vertical-align: top;\n",
       "    }\n",
       "\n",
       "    .dataframe thead th {\n",
       "        text-align: right;\n",
       "    }\n",
       "</style>\n",
       "<table border=\"1\" class=\"dataframe\">\n",
       "  <thead>\n",
       "    <tr style=\"text-align: right;\">\n",
       "      <th></th>\n",
       "      <th>RatecodeID</th>\n",
       "      <th>VendorID</th>\n",
       "      <th>avg_speed</th>\n",
       "      <th>bridge</th>\n",
       "      <th>dropoff_latitude</th>\n",
       "      <th>dropoff_longitude</th>\n",
       "      <th>duration</th>\n",
       "      <th>fare_amount_prediction</th>\n",
       "      <th>id</th>\n",
       "      <th>improvement_surcharge</th>\n",
       "      <th>...</th>\n",
       "      <th>outCityTripDistanceExtreme</th>\n",
       "      <th>out_of_city_distance</th>\n",
       "      <th>passenger_count</th>\n",
       "      <th>payment_type</th>\n",
       "      <th>pickup_latitude</th>\n",
       "      <th>pickup_longitude</th>\n",
       "      <th>ridesAtPickupHour</th>\n",
       "      <th>tolls_amount</th>\n",
       "      <th>total_over_bridge_distance</th>\n",
       "      <th>trip_distance</th>\n",
       "    </tr>\n",
       "  </thead>\n",
       "  <tbody>\n",
       "    <tr>\n",
       "      <th>count</th>\n",
       "      <td>64000.000000</td>\n",
       "      <td>64000.000000</td>\n",
       "      <td>64000.000000</td>\n",
       "      <td>238.00000</td>\n",
       "      <td>64000.000000</td>\n",
       "      <td>64000.000000</td>\n",
       "      <td>64000.000000</td>\n",
       "      <td>64000.000000</td>\n",
       "      <td>64000.000000</td>\n",
       "      <td>64000.000000</td>\n",
       "      <td>...</td>\n",
       "      <td>238.000000</td>\n",
       "      <td>238.000000</td>\n",
       "      <td>64000.000000</td>\n",
       "      <td>64000.000000</td>\n",
       "      <td>64000.000000</td>\n",
       "      <td>64000.000000</td>\n",
       "      <td>64000.000000</td>\n",
       "      <td>64000.00000</td>\n",
       "      <td>238.000000</td>\n",
       "      <td>64000.000000</td>\n",
       "    </tr>\n",
       "    <tr>\n",
       "      <th>mean</th>\n",
       "      <td>1.406250</td>\n",
       "      <td>1.537047</td>\n",
       "      <td>14.546904</td>\n",
       "      <td>9.89916</td>\n",
       "      <td>40.746855</td>\n",
       "      <td>-73.975568</td>\n",
       "      <td>1230.515344</td>\n",
       "      <td>22.726293</td>\n",
       "      <td>32000.500000</td>\n",
       "      <td>0.299991</td>\n",
       "      <td>...</td>\n",
       "      <td>18.743958</td>\n",
       "      <td>12.461605</td>\n",
       "      <td>1.671188</td>\n",
       "      <td>1.337031</td>\n",
       "      <td>40.744481</td>\n",
       "      <td>-73.960769</td>\n",
       "      <td>14415.856201</td>\n",
       "      <td>1.74787</td>\n",
       "      <td>16.208426</td>\n",
       "      <td>5.896713</td>\n",
       "    </tr>\n",
       "    <tr>\n",
       "      <th>std</th>\n",
       "      <td>0.913769</td>\n",
       "      <td>0.498630</td>\n",
       "      <td>9.388043</td>\n",
       "      <td>4.81803</td>\n",
       "      <td>0.047903</td>\n",
       "      <td>0.084823</td>\n",
       "      <td>1080.955692</td>\n",
       "      <td>23.373723</td>\n",
       "      <td>18475.352951</td>\n",
       "      <td>0.001677</td>\n",
       "      <td>...</td>\n",
       "      <td>9.182369</td>\n",
       "      <td>6.509709</td>\n",
       "      <td>1.303686</td>\n",
       "      <td>0.492926</td>\n",
       "      <td>0.037676</td>\n",
       "      <td>0.060701</td>\n",
       "      <td>3799.740583</td>\n",
       "      <td>4.14628</td>\n",
       "      <td>6.321360</td>\n",
       "      <td>7.234262</td>\n",
       "    </tr>\n",
       "    <tr>\n",
       "      <th>min</th>\n",
       "      <td>1.000000</td>\n",
       "      <td>1.000000</td>\n",
       "      <td>0.014337</td>\n",
       "      <td>0.00000</td>\n",
       "      <td>40.045311</td>\n",
       "      <td>-74.833679</td>\n",
       "      <td>40.000000</td>\n",
       "      <td>3.000000</td>\n",
       "      <td>1.000000</td>\n",
       "      <td>0.000000</td>\n",
       "      <td>...</td>\n",
       "      <td>1.658264</td>\n",
       "      <td>0.662656</td>\n",
       "      <td>0.000000</td>\n",
       "      <td>1.000000</td>\n",
       "      <td>40.535580</td>\n",
       "      <td>-74.527763</td>\n",
       "      <td>1696.000000</td>\n",
       "      <td>0.00000</td>\n",
       "      <td>1.763670</td>\n",
       "      <td>0.010000</td>\n",
       "    </tr>\n",
       "    <tr>\n",
       "      <th>25%</th>\n",
       "      <td>1.000000</td>\n",
       "      <td>1.000000</td>\n",
       "      <td>8.153310</td>\n",
       "      <td>7.00000</td>\n",
       "      <td>40.725780</td>\n",
       "      <td>-73.993828</td>\n",
       "      <td>468.000000</td>\n",
       "      <td>7.500000</td>\n",
       "      <td>16000.750000</td>\n",
       "      <td>0.300000</td>\n",
       "      <td>...</td>\n",
       "      <td>12.923967</td>\n",
       "      <td>8.278194</td>\n",
       "      <td>1.000000</td>\n",
       "      <td>1.000000</td>\n",
       "      <td>40.732536</td>\n",
       "      <td>-73.991264</td>\n",
       "      <td>13251.750000</td>\n",
       "      <td>0.00000</td>\n",
       "      <td>12.896369</td>\n",
       "      <td>1.200000</td>\n",
       "    </tr>\n",
       "    <tr>\n",
       "      <th>50%</th>\n",
       "      <td>1.000000</td>\n",
       "      <td>2.000000</td>\n",
       "      <td>11.716077</td>\n",
       "      <td>10.00000</td>\n",
       "      <td>40.751484</td>\n",
       "      <td>-73.980309</td>\n",
       "      <td>858.000000</td>\n",
       "      <td>12.000000</td>\n",
       "      <td>32000.500000</td>\n",
       "      <td>0.300000</td>\n",
       "      <td>...</td>\n",
       "      <td>17.606952</td>\n",
       "      <td>11.964156</td>\n",
       "      <td>1.000000</td>\n",
       "      <td>1.000000</td>\n",
       "      <td>40.752197</td>\n",
       "      <td>-73.980370</td>\n",
       "      <td>14940.000000</td>\n",
       "      <td>0.00000</td>\n",
       "      <td>15.435084</td>\n",
       "      <td>2.260000</td>\n",
       "    </tr>\n",
       "    <tr>\n",
       "      <th>75%</th>\n",
       "      <td>1.000000</td>\n",
       "      <td>2.000000</td>\n",
       "      <td>18.140034</td>\n",
       "      <td>12.00000</td>\n",
       "      <td>40.768697</td>\n",
       "      <td>-73.960541</td>\n",
       "      <td>1659.000000</td>\n",
       "      <td>30.500000</td>\n",
       "      <td>48000.250000</td>\n",
       "      <td>0.300000</td>\n",
       "      <td>...</td>\n",
       "      <td>23.086686</td>\n",
       "      <td>15.545136</td>\n",
       "      <td>2.000000</td>\n",
       "      <td>2.000000</td>\n",
       "      <td>40.766815</td>\n",
       "      <td>-73.962111</td>\n",
       "      <td>16814.500000</td>\n",
       "      <td>0.00000</td>\n",
       "      <td>18.683674</td>\n",
       "      <td>8.080000</td>\n",
       "    </tr>\n",
       "    <tr>\n",
       "      <th>max</th>\n",
       "      <td>5.000000</td>\n",
       "      <td>2.000000</td>\n",
       "      <td>176.170213</td>\n",
       "      <td>19.00000</td>\n",
       "      <td>41.525589</td>\n",
       "      <td>-72.551582</td>\n",
       "      <td>9931.000000</td>\n",
       "      <td>251.509255</td>\n",
       "      <td>64000.000000</td>\n",
       "      <td>0.300000</td>\n",
       "      <td>...</td>\n",
       "      <td>59.300306</td>\n",
       "      <td>37.757120</td>\n",
       "      <td>9.000000</td>\n",
       "      <td>4.000000</td>\n",
       "      <td>41.255787</td>\n",
       "      <td>-72.659561</td>\n",
       "      <td>20311.800000</td>\n",
       "      <td>82.50000</td>\n",
       "      <td>39.327866</td>\n",
       "      <td>86.600000</td>\n",
       "    </tr>\n",
       "  </tbody>\n",
       "</table>\n",
       "<p>8 rows × 25 columns</p>\n",
       "</div>"
      ],
      "text/plain": [
       "         RatecodeID      VendorID     avg_speed     bridge  dropoff_latitude  \\\n",
       "count  64000.000000  64000.000000  64000.000000  238.00000      64000.000000   \n",
       "mean       1.406250      1.537047     14.546904    9.89916         40.746855   \n",
       "std        0.913769      0.498630      9.388043    4.81803          0.047903   \n",
       "min        1.000000      1.000000      0.014337    0.00000         40.045311   \n",
       "25%        1.000000      1.000000      8.153310    7.00000         40.725780   \n",
       "50%        1.000000      2.000000     11.716077   10.00000         40.751484   \n",
       "75%        1.000000      2.000000     18.140034   12.00000         40.768697   \n",
       "max        5.000000      2.000000    176.170213   19.00000         41.525589   \n",
       "\n",
       "       dropoff_longitude      duration  fare_amount_prediction            id  \\\n",
       "count       64000.000000  64000.000000            64000.000000  64000.000000   \n",
       "mean          -73.975568   1230.515344               22.726293  32000.500000   \n",
       "std             0.084823   1080.955692               23.373723  18475.352951   \n",
       "min           -74.833679     40.000000                3.000000      1.000000   \n",
       "25%           -73.993828    468.000000                7.500000  16000.750000   \n",
       "50%           -73.980309    858.000000               12.000000  32000.500000   \n",
       "75%           -73.960541   1659.000000               30.500000  48000.250000   \n",
       "max           -72.551582   9931.000000              251.509255  64000.000000   \n",
       "\n",
       "       improvement_surcharge      ...        outCityTripDistanceExtreme  \\\n",
       "count           64000.000000      ...                        238.000000   \n",
       "mean                0.299991      ...                         18.743958   \n",
       "std                 0.001677      ...                          9.182369   \n",
       "min                 0.000000      ...                          1.658264   \n",
       "25%                 0.300000      ...                         12.923967   \n",
       "50%                 0.300000      ...                         17.606952   \n",
       "75%                 0.300000      ...                         23.086686   \n",
       "max                 0.300000      ...                         59.300306   \n",
       "\n",
       "       out_of_city_distance  passenger_count  payment_type  pickup_latitude  \\\n",
       "count            238.000000     64000.000000  64000.000000     64000.000000   \n",
       "mean              12.461605         1.671188      1.337031        40.744481   \n",
       "std                6.509709         1.303686      0.492926         0.037676   \n",
       "min                0.662656         0.000000      1.000000        40.535580   \n",
       "25%                8.278194         1.000000      1.000000        40.732536   \n",
       "50%               11.964156         1.000000      1.000000        40.752197   \n",
       "75%               15.545136         2.000000      2.000000        40.766815   \n",
       "max               37.757120         9.000000      4.000000        41.255787   \n",
       "\n",
       "       pickup_longitude  ridesAtPickupHour  tolls_amount  \\\n",
       "count      64000.000000       64000.000000   64000.00000   \n",
       "mean         -73.960769       14415.856201       1.74787   \n",
       "std            0.060701        3799.740583       4.14628   \n",
       "min          -74.527763        1696.000000       0.00000   \n",
       "25%          -73.991264       13251.750000       0.00000   \n",
       "50%          -73.980370       14940.000000       0.00000   \n",
       "75%          -73.962111       16814.500000       0.00000   \n",
       "max          -72.659561       20311.800000      82.50000   \n",
       "\n",
       "       total_over_bridge_distance  trip_distance  \n",
       "count                  238.000000   64000.000000  \n",
       "mean                    16.208426       5.896713  \n",
       "std                      6.321360       7.234262  \n",
       "min                      1.763670       0.010000  \n",
       "25%                     12.896369       1.200000  \n",
       "50%                     15.435084       2.260000  \n",
       "75%                     18.683674       8.080000  \n",
       "max                     39.327866      86.600000  \n",
       "\n",
       "[8 rows x 25 columns]"
      ]
     },
     "execution_count": 234,
     "metadata": {},
     "output_type": "execute_result"
    }
   ],
   "source": [
    "testResult.describe()"
   ]
  },
  {
   "cell_type": "code",
   "execution_count": 235,
   "metadata": {
    "scrolled": true
   },
   "outputs": [
    {
     "data": {
      "text/html": [
       "<div>\n",
       "<style scoped>\n",
       "    .dataframe tbody tr th:only-of-type {\n",
       "        vertical-align: middle;\n",
       "    }\n",
       "\n",
       "    .dataframe tbody tr th {\n",
       "        vertical-align: top;\n",
       "    }\n",
       "\n",
       "    .dataframe thead th {\n",
       "        text-align: right;\n",
       "    }\n",
       "</style>\n",
       "<table border=\"1\" class=\"dataframe\">\n",
       "  <thead>\n",
       "    <tr style=\"text-align: right;\">\n",
       "      <th></th>\n",
       "      <th>RatecodeID</th>\n",
       "      <th>VendorID</th>\n",
       "      <th>avg_speed</th>\n",
       "      <th>bridge</th>\n",
       "      <th>day</th>\n",
       "      <th>dropoff_latitude</th>\n",
       "      <th>dropoff_longitude</th>\n",
       "      <th>duration</th>\n",
       "      <th>endsInManhattan</th>\n",
       "      <th>fare_amount_prediction</th>\n",
       "      <th>...</th>\n",
       "      <th>pickup_latitude</th>\n",
       "      <th>pickup_longitude</th>\n",
       "      <th>ridesAtPickupHour</th>\n",
       "      <th>startsInManhattan</th>\n",
       "      <th>store_and_fwd_flag</th>\n",
       "      <th>tolls_amount</th>\n",
       "      <th>total_over_bridge_distance</th>\n",
       "      <th>tpep_dropoff_datetime</th>\n",
       "      <th>tpep_pickup_datetime</th>\n",
       "      <th>trip_distance</th>\n",
       "    </tr>\n",
       "  </thead>\n",
       "  <tbody>\n",
       "    <tr>\n",
       "      <th>62740</th>\n",
       "      <td>5</td>\n",
       "      <td>2</td>\n",
       "      <td>53.284661</td>\n",
       "      <td>NaN</td>\n",
       "      <td>Friday</td>\n",
       "      <td>40.847366</td>\n",
       "      <td>-72.551582</td>\n",
       "      <td>5561.0</td>\n",
       "      <td>NaN</td>\n",
       "      <td>251.509255</td>\n",
       "      <td>...</td>\n",
       "      <td>40.746029</td>\n",
       "      <td>-73.974525</td>\n",
       "      <td>19513.25</td>\n",
       "      <td>NaN</td>\n",
       "      <td>N</td>\n",
       "      <td>5.54</td>\n",
       "      <td>NaN</td>\n",
       "      <td>2016-05-27 20:51:57</td>\n",
       "      <td>2016-05-27 19:19:16</td>\n",
       "      <td>82.31</td>\n",
       "    </tr>\n",
       "  </tbody>\n",
       "</table>\n",
       "<p>1 rows × 32 columns</p>\n",
       "</div>"
      ],
      "text/plain": [
       "       RatecodeID  VendorID  avg_speed  bridge     day  dropoff_latitude  \\\n",
       "62740           5         2  53.284661     NaN  Friday         40.847366   \n",
       "\n",
       "       dropoff_longitude  duration endsInManhattan  fare_amount_prediction  \\\n",
       "62740         -72.551582    5561.0             NaN              251.509255   \n",
       "\n",
       "           ...        pickup_latitude  pickup_longitude  ridesAtPickupHour  \\\n",
       "62740      ...              40.746029        -73.974525           19513.25   \n",
       "\n",
       "       startsInManhattan  store_and_fwd_flag  tolls_amount  \\\n",
       "62740                NaN                   N          5.54   \n",
       "\n",
       "       total_over_bridge_distance  tpep_dropoff_datetime  \\\n",
       "62740                         NaN    2016-05-27 20:51:57   \n",
       "\n",
       "       tpep_pickup_datetime  trip_distance  \n",
       "62740   2016-05-27 19:19:16          82.31  \n",
       "\n",
       "[1 rows x 32 columns]"
      ]
     },
     "execution_count": 235,
     "metadata": {},
     "output_type": "execute_result"
    }
   ],
   "source": [
    "testResult[testResult.fare_amount_prediction == testResult.fare_amount_prediction.max()]"
   ]
  },
  {
   "cell_type": "code",
   "execution_count": 236,
   "metadata": {},
   "outputs": [
    {
     "data": {
      "text/html": [
       "<div>\n",
       "<style scoped>\n",
       "    .dataframe tbody tr th:only-of-type {\n",
       "        vertical-align: middle;\n",
       "    }\n",
       "\n",
       "    .dataframe tbody tr th {\n",
       "        vertical-align: top;\n",
       "    }\n",
       "\n",
       "    .dataframe thead th {\n",
       "        text-align: right;\n",
       "    }\n",
       "</style>\n",
       "<table border=\"1\" class=\"dataframe\">\n",
       "  <thead>\n",
       "    <tr style=\"text-align: right;\">\n",
       "      <th></th>\n",
       "      <th>RatecodeID</th>\n",
       "      <th>VendorID</th>\n",
       "      <th>avg_speed</th>\n",
       "      <th>bridge</th>\n",
       "      <th>day</th>\n",
       "      <th>dropoff_latitude</th>\n",
       "      <th>dropoff_longitude</th>\n",
       "      <th>duration</th>\n",
       "      <th>endsInManhattan</th>\n",
       "      <th>fare_amount_prediction</th>\n",
       "      <th>...</th>\n",
       "      <th>pickup_latitude</th>\n",
       "      <th>pickup_longitude</th>\n",
       "      <th>ridesAtPickupHour</th>\n",
       "      <th>startsInManhattan</th>\n",
       "      <th>store_and_fwd_flag</th>\n",
       "      <th>tolls_amount</th>\n",
       "      <th>total_over_bridge_distance</th>\n",
       "      <th>tpep_dropoff_datetime</th>\n",
       "      <th>tpep_pickup_datetime</th>\n",
       "      <th>trip_distance</th>\n",
       "    </tr>\n",
       "  </thead>\n",
       "  <tbody>\n",
       "    <tr>\n",
       "      <th>62191</th>\n",
       "      <td>5</td>\n",
       "      <td>1</td>\n",
       "      <td>40.577899</td>\n",
       "      <td>NaN</td>\n",
       "      <td>Saturday</td>\n",
       "      <td>41.460213</td>\n",
       "      <td>-73.235245</td>\n",
       "      <td>7683.0</td>\n",
       "      <td>NaN</td>\n",
       "      <td>246.06927</td>\n",
       "      <td>...</td>\n",
       "      <td>40.643486</td>\n",
       "      <td>-73.789948</td>\n",
       "      <td>16038.5</td>\n",
       "      <td>NaN</td>\n",
       "      <td>N</td>\n",
       "      <td>7.62</td>\n",
       "      <td>NaN</td>\n",
       "      <td>2016-05-21 16:49:42</td>\n",
       "      <td>2016-05-21 14:41:39</td>\n",
       "      <td>86.6</td>\n",
       "    </tr>\n",
       "  </tbody>\n",
       "</table>\n",
       "<p>1 rows × 32 columns</p>\n",
       "</div>"
      ],
      "text/plain": [
       "       RatecodeID  VendorID  avg_speed  bridge       day  dropoff_latitude  \\\n",
       "62191           5         1  40.577899     NaN  Saturday         41.460213   \n",
       "\n",
       "       dropoff_longitude  duration endsInManhattan  fare_amount_prediction  \\\n",
       "62191         -73.235245    7683.0             NaN               246.06927   \n",
       "\n",
       "           ...        pickup_latitude  pickup_longitude  ridesAtPickupHour  \\\n",
       "62191      ...              40.643486        -73.789948            16038.5   \n",
       "\n",
       "       startsInManhattan  store_and_fwd_flag  tolls_amount  \\\n",
       "62191                NaN                   N          7.62   \n",
       "\n",
       "       total_over_bridge_distance  tpep_dropoff_datetime  \\\n",
       "62191                         NaN    2016-05-21 16:49:42   \n",
       "\n",
       "       tpep_pickup_datetime  trip_distance  \n",
       "62191   2016-05-21 14:41:39           86.6  \n",
       "\n",
       "[1 rows x 32 columns]"
      ]
     },
     "execution_count": 236,
     "metadata": {},
     "output_type": "execute_result"
    }
   ],
   "source": [
    "testResult[testResult.trip_distance == testResult.trip_distance.max()]"
   ]
  },
  {
   "cell_type": "code",
   "execution_count": 237,
   "metadata": {},
   "outputs": [
    {
     "data": {
      "text/plain": [
       "1    50000\n",
       "2     7000\n",
       "3     4000\n",
       "5     2000\n",
       "4     1000\n",
       "Name: RatecodeID, dtype: int64"
      ]
     },
     "execution_count": 237,
     "metadata": {},
     "output_type": "execute_result"
    }
   ],
   "source": [
    "testResult.RatecodeID.value_counts()"
   ]
  },
  {
   "cell_type": "markdown",
   "metadata": {},
   "source": [
    "# Archive"
   ]
  },
  {
   "cell_type": "markdown",
   "metadata": {},
   "source": [
    "### Ratecode 1"
   ]
  },
  {
   "cell_type": "raw",
   "metadata": {},
   "source": [
    "import lightgbm as lgb\n",
    "\n",
    "features = [\"duration\",\"passenger_count\",\"trip_distance\",\"payment_type\",\"avg_speed\"]\n",
    "\n",
    "code1lgb_dataset = lgb.Dataset(code1data[features], label=code1data[\"fare_amount\"])\n",
    "\n",
    "params = {}\n",
    "params['learning_rate'] = .05\n",
    "params['boosting_type'] = 'gbdt'\n",
    "params[\"objective\"] = \"regression\"\n",
    "params['min_samples_split'] = 3\n",
    "params['min_samples_leaf'] = 15\n",
    "params['max_features'] = 'sqrt'\n",
    "params['max_depth'] = 10\n",
    "params['subsample'] = 0.8\n",
    "\n",
    "code1_model = lgb.train(params, code1lgb_dataset, 300)"
   ]
  },
  {
   "cell_type": "markdown",
   "metadata": {},
   "source": [
    "### Ratecode 4"
   ]
  },
  {
   "cell_type": "raw",
   "metadata": {},
   "source": [
    "#train models for the in city and out of city parts\n",
    "code4_model_inner = RandomForestRegressor(random_state=1337)\n",
    "code4_model_outer = RandomForestRegressor(random_state=1338)\n",
    "\n",
    "#chose features\n",
    "features_inner = [\"passenger_count\",\"in_city_distance\",\"inCityTripDistanceExtreme\",\"inCityTripDistance\",\"payment_type\"]\n",
    "features_outer = [\"passenger_count\", \"out_of_city_distance\",\"outCityTripDistanceExtreme\",\"payment_type\"]\n",
    "\n",
    "mixed_inner_train = code4data_mixed[features_inner]\n",
    "mixed_outer_train = code4data_mixed[features_outer]\n",
    "\n",
    "#fit the models\n",
    "code4_model_inner.fit(mixed_inner_train,code4data_mixed[\"inCityFare\"])\n",
    "code4_model_outer.fit(mixed_outer_train,code4data_mixed[\"outCityFare\"]);"
   ]
  }
 ],
 "metadata": {
  "kernelspec": {
   "display_name": "Python 3",
   "language": "python",
   "name": "python3"
  },
  "language_info": {
   "codemirror_mode": {
    "name": "ipython",
    "version": 3
   },
   "file_extension": ".py",
   "mimetype": "text/x-python",
   "name": "python",
   "nbconvert_exporter": "python",
   "pygments_lexer": "ipython3",
   "version": "3.6.4"
  }
 },
 "nbformat": 4,
 "nbformat_minor": 2
}
