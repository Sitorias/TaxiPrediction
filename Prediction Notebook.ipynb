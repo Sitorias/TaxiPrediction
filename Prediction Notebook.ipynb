{
 "cells": [
  {
   "cell_type": "markdown",
   "metadata": {},
   "source": [
    "# Load Data (already cleaned)"
   ]
  },
  {
   "cell_type": "code",
   "execution_count": 30,
   "metadata": {},
   "outputs": [],
   "source": [
    "# Manage imports\n",
    "import numpy as np\n",
    "import pandas as pd\n",
    "import seaborn as sns  \n",
    "import matplotlib.pyplot as plt\n",
    "from sklearn.ensemble import RandomForestRegressor\n",
    "\n",
    "pd.options.mode.chained_assignment = None  # default='warn'"
   ]
  },
  {
   "cell_type": "code",
   "execution_count": 152,
   "metadata": {},
   "outputs": [
    {
     "name": "stderr",
     "output_type": "stream",
     "text": [
      "E:\\Anaconda\\lib\\site-packages\\numpy\\lib\\arraysetops.py:466: FutureWarning: elementwise comparison failed; returning scalar instead, but in the future will perform elementwise comparison\n",
      "  mask |= (ar1 == a)\n"
     ]
    }
   ],
   "source": [
    "# read data in memory\n",
    "train = pd.read_csv(\"C:\\\\Users\\\\Leo\\\\TaxiData\\\\clean_v2.csv\",index_col=0)"
   ]
  },
  {
   "cell_type": "code",
   "execution_count": 153,
   "metadata": {},
   "outputs": [],
   "source": [
    "test = pd.read_csv(\"C:\\\\Users\\\\Leo\\\\Dropbox\\\\Info Göttingen\\\\Practical Course Data Science\\\\Task 2\\\\data\\\\test_data_v2.csv\",engine=\"python\")"
   ]
  },
  {
   "cell_type": "code",
   "execution_count": 33,
   "metadata": {},
   "outputs": [
    {
     "data": {
      "text/html": [
       "<div>\n",
       "<style scoped>\n",
       "    .dataframe tbody tr th:only-of-type {\n",
       "        vertical-align: middle;\n",
       "    }\n",
       "\n",
       "    .dataframe tbody tr th {\n",
       "        vertical-align: top;\n",
       "    }\n",
       "\n",
       "    .dataframe thead th {\n",
       "        text-align: right;\n",
       "    }\n",
       "</style>\n",
       "<table border=\"1\" class=\"dataframe\">\n",
       "  <thead>\n",
       "    <tr style=\"text-align: right;\">\n",
       "      <th></th>\n",
       "      <th>tpep_pickup_datetime</th>\n",
       "      <th>tpep_dropoff_datetime</th>\n",
       "      <th>passenger_count</th>\n",
       "      <th>trip_distance</th>\n",
       "      <th>pickup_longitude</th>\n",
       "      <th>pickup_latitude</th>\n",
       "      <th>RatecodeID</th>\n",
       "      <th>dropoff_longitude</th>\n",
       "      <th>dropoff_latitude</th>\n",
       "      <th>payment_type</th>\n",
       "      <th>...</th>\n",
       "      <th>subtotal</th>\n",
       "      <th>tip_perc</th>\n",
       "      <th>pickup_hour</th>\n",
       "      <th>pickup_coord</th>\n",
       "      <th>dropoff_coord</th>\n",
       "      <th>avg_speed</th>\n",
       "      <th>holiday</th>\n",
       "      <th>overnight</th>\n",
       "      <th>day</th>\n",
       "      <th>ridesAtPickupHour</th>\n",
       "    </tr>\n",
       "  </thead>\n",
       "  <tbody>\n",
       "    <tr>\n",
       "      <th>0</th>\n",
       "      <td>2016-06-09 21:06:36</td>\n",
       "      <td>2016-06-09 21:13:08</td>\n",
       "      <td>2</td>\n",
       "      <td>0.79</td>\n",
       "      <td>-73.983360</td>\n",
       "      <td>40.760937</td>\n",
       "      <td>1</td>\n",
       "      <td>-73.977463</td>\n",
       "      <td>40.753979</td>\n",
       "      <td>2</td>\n",
       "      <td>...</td>\n",
       "      <td>7.3</td>\n",
       "      <td>0.000000</td>\n",
       "      <td>21</td>\n",
       "      <td>(40.76093673706055, -73.98336029052734)</td>\n",
       "      <td>(40.75397872924805, -73.97746276855469)</td>\n",
       "      <td>7.255102</td>\n",
       "      <td>False</td>\n",
       "      <td>True</td>\n",
       "      <td>Thursday</td>\n",
       "      <td>20311.8</td>\n",
       "    </tr>\n",
       "    <tr>\n",
       "      <th>1</th>\n",
       "      <td>2016-06-09 21:06:36</td>\n",
       "      <td>2016-06-09 21:35:11</td>\n",
       "      <td>1</td>\n",
       "      <td>5.22</td>\n",
       "      <td>-73.981720</td>\n",
       "      <td>40.736668</td>\n",
       "      <td>1</td>\n",
       "      <td>-73.981636</td>\n",
       "      <td>40.670242</td>\n",
       "      <td>1</td>\n",
       "      <td>...</td>\n",
       "      <td>23.3</td>\n",
       "      <td>0.171674</td>\n",
       "      <td>21</td>\n",
       "      <td>(40.73666763305664, -73.98171997070312)</td>\n",
       "      <td>(40.67024230957031, -73.98163604736328)</td>\n",
       "      <td>10.957434</td>\n",
       "      <td>False</td>\n",
       "      <td>True</td>\n",
       "      <td>Thursday</td>\n",
       "      <td>20311.8</td>\n",
       "    </tr>\n",
       "    <tr>\n",
       "      <th>3</th>\n",
       "      <td>2016-06-09 21:06:36</td>\n",
       "      <td>2016-06-09 21:36:10</td>\n",
       "      <td>1</td>\n",
       "      <td>7.39</td>\n",
       "      <td>-73.982361</td>\n",
       "      <td>40.773891</td>\n",
       "      <td>1</td>\n",
       "      <td>-73.929466</td>\n",
       "      <td>40.851540</td>\n",
       "      <td>1</td>\n",
       "      <td>...</td>\n",
       "      <td>27.3</td>\n",
       "      <td>0.036630</td>\n",
       "      <td>21</td>\n",
       "      <td>(40.77389144897461, -73.98236083984375)</td>\n",
       "      <td>(40.851539611816406, -73.9294662475586)</td>\n",
       "      <td>14.996618</td>\n",
       "      <td>False</td>\n",
       "      <td>True</td>\n",
       "      <td>Thursday</td>\n",
       "      <td>20311.8</td>\n",
       "    </tr>\n",
       "    <tr>\n",
       "      <th>4</th>\n",
       "      <td>2016-06-09 21:06:36</td>\n",
       "      <td>2016-06-09 21:23:23</td>\n",
       "      <td>1</td>\n",
       "      <td>3.10</td>\n",
       "      <td>-73.987106</td>\n",
       "      <td>40.733173</td>\n",
       "      <td>1</td>\n",
       "      <td>-73.985909</td>\n",
       "      <td>40.766445</td>\n",
       "      <td>1</td>\n",
       "      <td>...</td>\n",
       "      <td>14.8</td>\n",
       "      <td>0.200000</td>\n",
       "      <td>21</td>\n",
       "      <td>(40.73317337036133, -73.98710632324219)</td>\n",
       "      <td>(40.7664451599121, -73.98590850830078)</td>\n",
       "      <td>11.082423</td>\n",
       "      <td>False</td>\n",
       "      <td>True</td>\n",
       "      <td>Thursday</td>\n",
       "      <td>20311.8</td>\n",
       "    </tr>\n",
       "    <tr>\n",
       "      <th>5</th>\n",
       "      <td>2016-06-09 21:06:36</td>\n",
       "      <td>2016-06-09 21:19:21</td>\n",
       "      <td>1</td>\n",
       "      <td>2.17</td>\n",
       "      <td>-73.995201</td>\n",
       "      <td>40.739491</td>\n",
       "      <td>1</td>\n",
       "      <td>-73.993202</td>\n",
       "      <td>40.762642</td>\n",
       "      <td>1</td>\n",
       "      <td>...</td>\n",
       "      <td>11.8</td>\n",
       "      <td>0.200000</td>\n",
       "      <td>21</td>\n",
       "      <td>(40.7394905090332, -73.99520111083984)</td>\n",
       "      <td>(40.76264190673828, -73.99320220947266)</td>\n",
       "      <td>10.211765</td>\n",
       "      <td>False</td>\n",
       "      <td>True</td>\n",
       "      <td>Thursday</td>\n",
       "      <td>20311.8</td>\n",
       "    </tr>\n",
       "  </tbody>\n",
       "</table>\n",
       "<p>5 rows × 27 columns</p>\n",
       "</div>"
      ],
      "text/plain": [
       "  tpep_pickup_datetime tpep_dropoff_datetime  passenger_count  trip_distance  \\\n",
       "0  2016-06-09 21:06:36   2016-06-09 21:13:08                2           0.79   \n",
       "1  2016-06-09 21:06:36   2016-06-09 21:35:11                1           5.22   \n",
       "3  2016-06-09 21:06:36   2016-06-09 21:36:10                1           7.39   \n",
       "4  2016-06-09 21:06:36   2016-06-09 21:23:23                1           3.10   \n",
       "5  2016-06-09 21:06:36   2016-06-09 21:19:21                1           2.17   \n",
       "\n",
       "   pickup_longitude  pickup_latitude  RatecodeID  dropoff_longitude  \\\n",
       "0        -73.983360        40.760937           1         -73.977463   \n",
       "1        -73.981720        40.736668           1         -73.981636   \n",
       "3        -73.982361        40.773891           1         -73.929466   \n",
       "4        -73.987106        40.733173           1         -73.985909   \n",
       "5        -73.995201        40.739491           1         -73.993202   \n",
       "\n",
       "   dropoff_latitude  payment_type        ...          subtotal  tip_perc  \\\n",
       "0         40.753979             2        ...               7.3  0.000000   \n",
       "1         40.670242             1        ...              23.3  0.171674   \n",
       "3         40.851540             1        ...              27.3  0.036630   \n",
       "4         40.766445             1        ...              14.8  0.200000   \n",
       "5         40.762642             1        ...              11.8  0.200000   \n",
       "\n",
       "   pickup_hour                             pickup_coord  \\\n",
       "0           21  (40.76093673706055, -73.98336029052734)   \n",
       "1           21  (40.73666763305664, -73.98171997070312)   \n",
       "3           21  (40.77389144897461, -73.98236083984375)   \n",
       "4           21  (40.73317337036133, -73.98710632324219)   \n",
       "5           21   (40.7394905090332, -73.99520111083984)   \n",
       "\n",
       "                             dropoff_coord  avg_speed  holiday  overnight  \\\n",
       "0  (40.75397872924805, -73.97746276855469)   7.255102    False       True   \n",
       "1  (40.67024230957031, -73.98163604736328)  10.957434    False       True   \n",
       "3  (40.851539611816406, -73.9294662475586)  14.996618    False       True   \n",
       "4   (40.7664451599121, -73.98590850830078)  11.082423    False       True   \n",
       "5  (40.76264190673828, -73.99320220947266)  10.211765    False       True   \n",
       "\n",
       "        day  ridesAtPickupHour  \n",
       "0  Thursday            20311.8  \n",
       "1  Thursday            20311.8  \n",
       "3  Thursday            20311.8  \n",
       "4  Thursday            20311.8  \n",
       "5  Thursday            20311.8  \n",
       "\n",
       "[5 rows x 27 columns]"
      ]
     },
     "execution_count": 33,
     "metadata": {},
     "output_type": "execute_result"
    }
   ],
   "source": [
    "train.head()"
   ]
  },
  {
   "cell_type": "markdown",
   "metadata": {},
   "source": [
    "# Prepare the Test set (add features)"
   ]
  },
  {
   "cell_type": "markdown",
   "metadata": {},
   "source": [
    "## Add duration in seconds"
   ]
  },
  {
   "cell_type": "code",
   "execution_count": 154,
   "metadata": {},
   "outputs": [],
   "source": [
    "test[\"tpep_pickup_datetime\"] = pd.to_datetime(test.tpep_pickup_datetime)\n",
    "test['tpep_dropoff_datetime'] = pd.to_datetime(test.tpep_dropoff_datetime)"
   ]
  },
  {
   "cell_type": "code",
   "execution_count": 155,
   "metadata": {},
   "outputs": [],
   "source": [
    "# Get duration\n",
    "test['duration'] = pd.to_datetime(test[\"tpep_dropoff_datetime\"])-pd.to_datetime(test[\"tpep_pickup_datetime\"])"
   ]
  },
  {
   "cell_type": "code",
   "execution_count": 156,
   "metadata": {},
   "outputs": [
    {
     "name": "stdout",
     "output_type": "stream",
     "text": [
      "Wall time: 4.16 s\n"
     ]
    }
   ],
   "source": [
    "%%time\n",
    "test[\"duration\"] = test.apply(lambda x : x.duration.total_seconds(),axis=1)"
   ]
  },
  {
   "cell_type": "markdown",
   "metadata": {},
   "source": [
    "## Calculate average speed"
   ]
  },
  {
   "cell_type": "code",
   "execution_count": 157,
   "metadata": {},
   "outputs": [],
   "source": [
    "test = test.assign(avg_speed = test.trip_distance/test.duration*60*60)"
   ]
  },
  {
   "cell_type": "code",
   "execution_count": 158,
   "metadata": {
    "scrolled": true
   },
   "outputs": [
    {
     "data": {
      "text/plain": [
       "count    64000.000000\n",
       "mean        14.546904\n",
       "std          9.388043\n",
       "min          0.014337\n",
       "25%          8.153310\n",
       "50%         11.716077\n",
       "75%         18.140034\n",
       "max        176.170213\n",
       "Name: avg_speed, dtype: float64"
      ]
     },
     "execution_count": 158,
     "metadata": {},
     "output_type": "execute_result"
    }
   ],
   "source": [
    "test.avg_speed.describe()"
   ]
  },
  {
   "cell_type": "markdown",
   "metadata": {},
   "source": [
    "## Append Traffic data from train set"
   ]
  },
  {
   "cell_type": "code",
   "execution_count": null,
   "metadata": {},
   "outputs": [],
   "source": [
    "traffic = train.groupby([\"day\"])"
   ]
  },
  {
   "cell_type": "code",
   "execution_count": null,
   "metadata": {},
   "outputs": [],
   "source": [
    "trafficPerDay = pd.DataFrame()\n",
    "for name, group in traffic:\n",
    "    #group by hour\n",
    "    pickupDate = group.tpep_pickup_datetime.str.split(\" \").str[0];\n",
    "    dates = pickupDate.unique()\n",
    "    \n",
    "    hours = group.groupby([\"pickup_hour\"]).trip_distance.count()\n",
    "    \n",
    "    trafficPerDay = trafficPerDay.append(pd.DataFrame({\"day\":name,\"rides\":hours/len(dates),\"pickup_hour\":hours.index},index=None))  \n",
    "    print(name,dates,hours/len(dates))"
   ]
  },
  {
   "cell_type": "code",
   "execution_count": null,
   "metadata": {},
   "outputs": [],
   "source": [
    "test['pickup_hour'] = pd.to_datetime(test.tpep_pickup_datetime).dt.hour.astype('category')"
   ]
  },
  {
   "cell_type": "code",
   "execution_count": null,
   "metadata": {},
   "outputs": [],
   "source": [
    "test['day'] = (pd.to_datetime(test['tpep_pickup_datetime']).dt.weekday_name)"
   ]
  },
  {
   "cell_type": "code",
   "execution_count": null,
   "metadata": {},
   "outputs": [],
   "source": [
    "%%time\n",
    "test[\"ridesAtPickupHour\"] = test.apply(lambda x: trafficPerDay[(trafficPerDay.day == x.day) & (trafficPerDay.pickup_hour==x.pickup_hour)].rides.iloc[0],axis=1 )"
   ]
  },
  {
   "cell_type": "markdown",
   "metadata": {},
   "source": [
    "## Remove some more outliers"
   ]
  },
  {
   "cell_type": "code",
   "execution_count": 15,
   "metadata": {},
   "outputs": [],
   "source": [
    "t = train[train.avg_speed > 40]"
   ]
  },
  {
   "cell_type": "code",
   "execution_count": 16,
   "metadata": {},
   "outputs": [
    {
     "data": {
      "text/html": [
       "<div>\n",
       "<style scoped>\n",
       "    .dataframe tbody tr th:only-of-type {\n",
       "        vertical-align: middle;\n",
       "    }\n",
       "\n",
       "    .dataframe tbody tr th {\n",
       "        vertical-align: top;\n",
       "    }\n",
       "\n",
       "    .dataframe thead th {\n",
       "        text-align: right;\n",
       "    }\n",
       "</style>\n",
       "<table border=\"1\" class=\"dataframe\">\n",
       "  <thead>\n",
       "    <tr style=\"text-align: right;\">\n",
       "      <th></th>\n",
       "      <th>passenger_count</th>\n",
       "      <th>trip_distance</th>\n",
       "      <th>pickup_longitude</th>\n",
       "      <th>pickup_latitude</th>\n",
       "      <th>RatecodeID</th>\n",
       "      <th>dropoff_longitude</th>\n",
       "      <th>dropoff_latitude</th>\n",
       "      <th>payment_type</th>\n",
       "      <th>fare_amount</th>\n",
       "      <th>extra</th>\n",
       "      <th>mta_tax</th>\n",
       "      <th>tip_amount</th>\n",
       "      <th>tolls_amount</th>\n",
       "      <th>total_amount</th>\n",
       "      <th>duration</th>\n",
       "      <th>subtotal</th>\n",
       "      <th>tip_perc</th>\n",
       "      <th>pickup_hour</th>\n",
       "      <th>avg_speed</th>\n",
       "      <th>ridesAtPickupHour</th>\n",
       "    </tr>\n",
       "  </thead>\n",
       "  <tbody>\n",
       "    <tr>\n",
       "      <th>count</th>\n",
       "      <td>21435.000000</td>\n",
       "      <td>21435.000000</td>\n",
       "      <td>21435.000000</td>\n",
       "      <td>21435.000000</td>\n",
       "      <td>21435.000000</td>\n",
       "      <td>21435.000000</td>\n",
       "      <td>21435.000000</td>\n",
       "      <td>21435.000000</td>\n",
       "      <td>21435.000000</td>\n",
       "      <td>21435.000000</td>\n",
       "      <td>21435.000000</td>\n",
       "      <td>21435.000000</td>\n",
       "      <td>21435.000000</td>\n",
       "      <td>21435.000000</td>\n",
       "      <td>21435.000000</td>\n",
       "      <td>21435.000000</td>\n",
       "      <td>21435.000000</td>\n",
       "      <td>21435.000000</td>\n",
       "      <td>21435.000000</td>\n",
       "      <td>21435.000000</td>\n",
       "    </tr>\n",
       "    <tr>\n",
       "      <th>mean</th>\n",
       "      <td>1.655050</td>\n",
       "      <td>16.653108</td>\n",
       "      <td>-73.887584</td>\n",
       "      <td>40.707964</td>\n",
       "      <td>1.881969</td>\n",
       "      <td>-73.911413</td>\n",
       "      <td>40.719459</td>\n",
       "      <td>1.268300</td>\n",
       "      <td>51.418793</td>\n",
       "      <td>0.219827</td>\n",
       "      <td>0.435573</td>\n",
       "      <td>7.770273</td>\n",
       "      <td>3.517061</td>\n",
       "      <td>63.661527</td>\n",
       "      <td>1372.414836</td>\n",
       "      <td>55.891254</td>\n",
       "      <td>0.135355</td>\n",
       "      <td>7.130721</td>\n",
       "      <td>44.053253</td>\n",
       "      <td>34690.734686</td>\n",
       "    </tr>\n",
       "    <tr>\n",
       "      <th>std</th>\n",
       "      <td>1.311149</td>\n",
       "      <td>7.235212</td>\n",
       "      <td>0.096631</td>\n",
       "      <td>0.058282</td>\n",
       "      <td>1.094520</td>\n",
       "      <td>0.151482</td>\n",
       "      <td>0.089660</td>\n",
       "      <td>0.491032</td>\n",
       "      <td>28.728417</td>\n",
       "      <td>0.372911</td>\n",
       "      <td>0.167523</td>\n",
       "      <td>7.018051</td>\n",
       "      <td>4.773465</td>\n",
       "      <td>34.491467</td>\n",
       "      <td>579.544965</td>\n",
       "      <td>30.633138</td>\n",
       "      <td>0.108620</td>\n",
       "      <td>7.050564</td>\n",
       "      <td>4.354260</td>\n",
       "      <td>23022.912625</td>\n",
       "    </tr>\n",
       "    <tr>\n",
       "      <th>min</th>\n",
       "      <td>1.000000</td>\n",
       "      <td>0.370000</td>\n",
       "      <td>-74.913620</td>\n",
       "      <td>40.171890</td>\n",
       "      <td>1.000000</td>\n",
       "      <td>-74.984268</td>\n",
       "      <td>39.945095</td>\n",
       "      <td>1.000000</td>\n",
       "      <td>3.000000</td>\n",
       "      <td>0.000000</td>\n",
       "      <td>0.000000</td>\n",
       "      <td>0.000000</td>\n",
       "      <td>0.000000</td>\n",
       "      <td>3.300000</td>\n",
       "      <td>30.000000</td>\n",
       "      <td>3.300000</td>\n",
       "      <td>0.000000</td>\n",
       "      <td>0.000000</td>\n",
       "      <td>40.000000</td>\n",
       "      <td>6784.000000</td>\n",
       "    </tr>\n",
       "    <tr>\n",
       "      <th>25%</th>\n",
       "      <td>1.000000</td>\n",
       "      <td>13.340000</td>\n",
       "      <td>-73.981758</td>\n",
       "      <td>40.645973</td>\n",
       "      <td>1.000000</td>\n",
       "      <td>-73.987576</td>\n",
       "      <td>40.646820</td>\n",
       "      <td>1.000000</td>\n",
       "      <td>39.000000</td>\n",
       "      <td>0.000000</td>\n",
       "      <td>0.500000</td>\n",
       "      <td>0.000000</td>\n",
       "      <td>0.000000</td>\n",
       "      <td>43.800000</td>\n",
       "      <td>1099.000000</td>\n",
       "      <td>40.300000</td>\n",
       "      <td>0.000000</td>\n",
       "      <td>2.000000</td>\n",
       "      <td>41.267221</td>\n",
       "      <td>15194.000000</td>\n",
       "    </tr>\n",
       "    <tr>\n",
       "      <th>50%</th>\n",
       "      <td>1.000000</td>\n",
       "      <td>17.130000</td>\n",
       "      <td>-73.883774</td>\n",
       "      <td>40.718315</td>\n",
       "      <td>2.000000</td>\n",
       "      <td>-73.926231</td>\n",
       "      <td>40.708008</td>\n",
       "      <td>1.000000</td>\n",
       "      <td>52.000000</td>\n",
       "      <td>0.000000</td>\n",
       "      <td>0.500000</td>\n",
       "      <td>8.950000</td>\n",
       "      <td>0.000000</td>\n",
       "      <td>65.300000</td>\n",
       "      <td>1419.000000</td>\n",
       "      <td>56.300000</td>\n",
       "      <td>0.199691</td>\n",
       "      <td>5.000000</td>\n",
       "      <td>42.933516</td>\n",
       "      <td>29195.000000</td>\n",
       "    </tr>\n",
       "    <tr>\n",
       "      <th>75%</th>\n",
       "      <td>2.000000</td>\n",
       "      <td>19.310000</td>\n",
       "      <td>-73.783401</td>\n",
       "      <td>40.761063</td>\n",
       "      <td>2.000000</td>\n",
       "      <td>-73.788940</td>\n",
       "      <td>40.765629</td>\n",
       "      <td>1.000000</td>\n",
       "      <td>52.000000</td>\n",
       "      <td>0.500000</td>\n",
       "      <td>0.500000</td>\n",
       "      <td>11.670000</td>\n",
       "      <td>5.540000</td>\n",
       "      <td>70.010000</td>\n",
       "      <td>1617.000000</td>\n",
       "      <td>58.340000</td>\n",
       "      <td>0.200034</td>\n",
       "      <td>9.000000</td>\n",
       "      <td>45.439425</td>\n",
       "      <td>52775.000000</td>\n",
       "    </tr>\n",
       "    <tr>\n",
       "      <th>max</th>\n",
       "      <td>6.000000</td>\n",
       "      <td>99.960000</td>\n",
       "      <td>-73.212685</td>\n",
       "      <td>41.107155</td>\n",
       "      <td>5.000000</td>\n",
       "      <td>-73.017113</td>\n",
       "      <td>41.706463</td>\n",
       "      <td>4.000000</td>\n",
       "      <td>400.000000</td>\n",
       "      <td>4.500000</td>\n",
       "      <td>0.500000</td>\n",
       "      <td>128.000000</td>\n",
       "      <td>30.000000</td>\n",
       "      <td>483.340000</td>\n",
       "      <td>7755.000000</td>\n",
       "      <td>418.340000</td>\n",
       "      <td>3.703704</td>\n",
       "      <td>23.000000</td>\n",
       "      <td>80.000000</td>\n",
       "      <td>101559.000000</td>\n",
       "    </tr>\n",
       "  </tbody>\n",
       "</table>\n",
       "</div>"
      ],
      "text/plain": [
       "       passenger_count  trip_distance  pickup_longitude  pickup_latitude  \\\n",
       "count     21435.000000   21435.000000      21435.000000     21435.000000   \n",
       "mean          1.655050      16.653108        -73.887584        40.707964   \n",
       "std           1.311149       7.235212          0.096631         0.058282   \n",
       "min           1.000000       0.370000        -74.913620        40.171890   \n",
       "25%           1.000000      13.340000        -73.981758        40.645973   \n",
       "50%           1.000000      17.130000        -73.883774        40.718315   \n",
       "75%           2.000000      19.310000        -73.783401        40.761063   \n",
       "max           6.000000      99.960000        -73.212685        41.107155   \n",
       "\n",
       "         RatecodeID  dropoff_longitude  dropoff_latitude  payment_type  \\\n",
       "count  21435.000000       21435.000000      21435.000000  21435.000000   \n",
       "mean       1.881969         -73.911413         40.719459      1.268300   \n",
       "std        1.094520           0.151482          0.089660      0.491032   \n",
       "min        1.000000         -74.984268         39.945095      1.000000   \n",
       "25%        1.000000         -73.987576         40.646820      1.000000   \n",
       "50%        2.000000         -73.926231         40.708008      1.000000   \n",
       "75%        2.000000         -73.788940         40.765629      1.000000   \n",
       "max        5.000000         -73.017113         41.706463      4.000000   \n",
       "\n",
       "        fare_amount         extra       mta_tax    tip_amount  tolls_amount  \\\n",
       "count  21435.000000  21435.000000  21435.000000  21435.000000  21435.000000   \n",
       "mean      51.418793      0.219827      0.435573      7.770273      3.517061   \n",
       "std       28.728417      0.372911      0.167523      7.018051      4.773465   \n",
       "min        3.000000      0.000000      0.000000      0.000000      0.000000   \n",
       "25%       39.000000      0.000000      0.500000      0.000000      0.000000   \n",
       "50%       52.000000      0.000000      0.500000      8.950000      0.000000   \n",
       "75%       52.000000      0.500000      0.500000     11.670000      5.540000   \n",
       "max      400.000000      4.500000      0.500000    128.000000     30.000000   \n",
       "\n",
       "       total_amount      duration      subtotal      tip_perc   pickup_hour  \\\n",
       "count  21435.000000  21435.000000  21435.000000  21435.000000  21435.000000   \n",
       "mean      63.661527   1372.414836     55.891254      0.135355      7.130721   \n",
       "std       34.491467    579.544965     30.633138      0.108620      7.050564   \n",
       "min        3.300000     30.000000      3.300000      0.000000      0.000000   \n",
       "25%       43.800000   1099.000000     40.300000      0.000000      2.000000   \n",
       "50%       65.300000   1419.000000     56.300000      0.199691      5.000000   \n",
       "75%       70.010000   1617.000000     58.340000      0.200034      9.000000   \n",
       "max      483.340000   7755.000000    418.340000      3.703704     23.000000   \n",
       "\n",
       "          avg_speed  ridesAtPickupHour  \n",
       "count  21435.000000       21435.000000  \n",
       "mean      44.053253       34690.734686  \n",
       "std        4.354260       23022.912625  \n",
       "min       40.000000        6784.000000  \n",
       "25%       41.267221       15194.000000  \n",
       "50%       42.933516       29195.000000  \n",
       "75%       45.439425       52775.000000  \n",
       "max       80.000000      101559.000000  "
      ]
     },
     "execution_count": 16,
     "metadata": {},
     "output_type": "execute_result"
    }
   ],
   "source": [
    "t.describe()"
   ]
  },
  {
   "cell_type": "code",
   "execution_count": 17,
   "metadata": {},
   "outputs": [
    {
     "data": {
      "text/plain": [
       "1    9475\n",
       "2    8346\n",
       "3    1730\n",
       "5    1447\n",
       "4     437\n",
       "Name: RatecodeID, dtype: int64"
      ]
     },
     "execution_count": 17,
     "metadata": {},
     "output_type": "execute_result"
    }
   ],
   "source": [
    "t.RatecodeID.value_counts()"
   ]
  },
  {
   "cell_type": "code",
   "execution_count": 18,
   "metadata": {},
   "outputs": [
    {
     "data": {
      "text/plain": [
       "1    8907479\n",
       "2     127432\n",
       "3      17425\n",
       "5      11165\n",
       "4       3539\n",
       "Name: RatecodeID, dtype: int64"
      ]
     },
     "execution_count": 18,
     "metadata": {},
     "output_type": "execute_result"
    }
   ],
   "source": [
    "train.RatecodeID.value_counts()"
   ]
  },
  {
   "cell_type": "code",
   "execution_count": null,
   "metadata": {},
   "outputs": [],
   "source": [
    "train = train[(train.avg_speed<=60)]"
   ]
  },
  {
   "cell_type": "code",
   "execution_count": 20,
   "metadata": {},
   "outputs": [
    {
     "data": {
      "text/plain": [
       "(9066597, 27)"
      ]
     },
     "execution_count": 20,
     "metadata": {},
     "output_type": "execute_result"
    }
   ],
   "source": [
    "train.shape"
   ]
  },
  {
   "cell_type": "code",
   "execution_count": 21,
   "metadata": {},
   "outputs": [
    {
     "data": {
      "text/html": [
       "<div>\n",
       "<style scoped>\n",
       "    .dataframe tbody tr th:only-of-type {\n",
       "        vertical-align: middle;\n",
       "    }\n",
       "\n",
       "    .dataframe tbody tr th {\n",
       "        vertical-align: top;\n",
       "    }\n",
       "\n",
       "    .dataframe thead th {\n",
       "        text-align: right;\n",
       "    }\n",
       "</style>\n",
       "<table border=\"1\" class=\"dataframe\">\n",
       "  <thead>\n",
       "    <tr style=\"text-align: right;\">\n",
       "      <th></th>\n",
       "      <th>id</th>\n",
       "      <th>VendorID</th>\n",
       "      <th>passenger_count</th>\n",
       "      <th>trip_distance</th>\n",
       "      <th>pickup_longitude</th>\n",
       "      <th>pickup_latitude</th>\n",
       "      <th>RatecodeID</th>\n",
       "      <th>dropoff_longitude</th>\n",
       "      <th>dropoff_latitude</th>\n",
       "      <th>payment_type</th>\n",
       "      <th>tolls_amount</th>\n",
       "      <th>improvement_surcharge</th>\n",
       "      <th>duration</th>\n",
       "      <th>avg_speed</th>\n",
       "      <th>ridesAtPickupHour</th>\n",
       "    </tr>\n",
       "  </thead>\n",
       "  <tbody>\n",
       "    <tr>\n",
       "      <th>count</th>\n",
       "      <td>64000.000000</td>\n",
       "      <td>64000.000000</td>\n",
       "      <td>64000.000000</td>\n",
       "      <td>64000.000000</td>\n",
       "      <td>64000.000000</td>\n",
       "      <td>64000.000000</td>\n",
       "      <td>64000.000000</td>\n",
       "      <td>64000.000000</td>\n",
       "      <td>64000.000000</td>\n",
       "      <td>64000.000000</td>\n",
       "      <td>64000.00000</td>\n",
       "      <td>64000.000000</td>\n",
       "      <td>64000.000000</td>\n",
       "      <td>64000.000000</td>\n",
       "      <td>64000.000000</td>\n",
       "    </tr>\n",
       "    <tr>\n",
       "      <th>mean</th>\n",
       "      <td>32000.500000</td>\n",
       "      <td>1.537047</td>\n",
       "      <td>1.671188</td>\n",
       "      <td>5.896713</td>\n",
       "      <td>-73.960769</td>\n",
       "      <td>40.744481</td>\n",
       "      <td>1.406250</td>\n",
       "      <td>-73.975568</td>\n",
       "      <td>40.746855</td>\n",
       "      <td>1.337031</td>\n",
       "      <td>1.74787</td>\n",
       "      <td>0.299991</td>\n",
       "      <td>1230.515344</td>\n",
       "      <td>14.546904</td>\n",
       "      <td>14415.856201</td>\n",
       "    </tr>\n",
       "    <tr>\n",
       "      <th>std</th>\n",
       "      <td>18475.352951</td>\n",
       "      <td>0.498630</td>\n",
       "      <td>1.303686</td>\n",
       "      <td>7.234262</td>\n",
       "      <td>0.060701</td>\n",
       "      <td>0.037676</td>\n",
       "      <td>0.913769</td>\n",
       "      <td>0.084823</td>\n",
       "      <td>0.047903</td>\n",
       "      <td>0.492926</td>\n",
       "      <td>4.14628</td>\n",
       "      <td>0.001677</td>\n",
       "      <td>1080.955692</td>\n",
       "      <td>9.388043</td>\n",
       "      <td>3799.740583</td>\n",
       "    </tr>\n",
       "    <tr>\n",
       "      <th>min</th>\n",
       "      <td>1.000000</td>\n",
       "      <td>1.000000</td>\n",
       "      <td>0.000000</td>\n",
       "      <td>0.010000</td>\n",
       "      <td>-74.527763</td>\n",
       "      <td>40.535580</td>\n",
       "      <td>1.000000</td>\n",
       "      <td>-74.833679</td>\n",
       "      <td>40.045311</td>\n",
       "      <td>1.000000</td>\n",
       "      <td>0.00000</td>\n",
       "      <td>0.000000</td>\n",
       "      <td>40.000000</td>\n",
       "      <td>0.014337</td>\n",
       "      <td>1696.000000</td>\n",
       "    </tr>\n",
       "    <tr>\n",
       "      <th>25%</th>\n",
       "      <td>16000.750000</td>\n",
       "      <td>1.000000</td>\n",
       "      <td>1.000000</td>\n",
       "      <td>1.200000</td>\n",
       "      <td>-73.991264</td>\n",
       "      <td>40.732536</td>\n",
       "      <td>1.000000</td>\n",
       "      <td>-73.993828</td>\n",
       "      <td>40.725780</td>\n",
       "      <td>1.000000</td>\n",
       "      <td>0.00000</td>\n",
       "      <td>0.300000</td>\n",
       "      <td>468.000000</td>\n",
       "      <td>8.153310</td>\n",
       "      <td>13251.750000</td>\n",
       "    </tr>\n",
       "    <tr>\n",
       "      <th>50%</th>\n",
       "      <td>32000.500000</td>\n",
       "      <td>2.000000</td>\n",
       "      <td>1.000000</td>\n",
       "      <td>2.260000</td>\n",
       "      <td>-73.980370</td>\n",
       "      <td>40.752197</td>\n",
       "      <td>1.000000</td>\n",
       "      <td>-73.980309</td>\n",
       "      <td>40.751484</td>\n",
       "      <td>1.000000</td>\n",
       "      <td>0.00000</td>\n",
       "      <td>0.300000</td>\n",
       "      <td>858.000000</td>\n",
       "      <td>11.716077</td>\n",
       "      <td>14940.000000</td>\n",
       "    </tr>\n",
       "    <tr>\n",
       "      <th>75%</th>\n",
       "      <td>48000.250000</td>\n",
       "      <td>2.000000</td>\n",
       "      <td>2.000000</td>\n",
       "      <td>8.080000</td>\n",
       "      <td>-73.962111</td>\n",
       "      <td>40.766815</td>\n",
       "      <td>1.000000</td>\n",
       "      <td>-73.960541</td>\n",
       "      <td>40.768697</td>\n",
       "      <td>2.000000</td>\n",
       "      <td>0.00000</td>\n",
       "      <td>0.300000</td>\n",
       "      <td>1659.000000</td>\n",
       "      <td>18.140034</td>\n",
       "      <td>16814.500000</td>\n",
       "    </tr>\n",
       "    <tr>\n",
       "      <th>max</th>\n",
       "      <td>64000.000000</td>\n",
       "      <td>2.000000</td>\n",
       "      <td>9.000000</td>\n",
       "      <td>86.600000</td>\n",
       "      <td>-72.659561</td>\n",
       "      <td>41.255787</td>\n",
       "      <td>5.000000</td>\n",
       "      <td>-72.551582</td>\n",
       "      <td>41.525589</td>\n",
       "      <td>4.000000</td>\n",
       "      <td>82.50000</td>\n",
       "      <td>0.300000</td>\n",
       "      <td>9931.000000</td>\n",
       "      <td>176.170213</td>\n",
       "      <td>20311.800000</td>\n",
       "    </tr>\n",
       "  </tbody>\n",
       "</table>\n",
       "</div>"
      ],
      "text/plain": [
       "                 id      VendorID  passenger_count  trip_distance  \\\n",
       "count  64000.000000  64000.000000     64000.000000   64000.000000   \n",
       "mean   32000.500000      1.537047         1.671188       5.896713   \n",
       "std    18475.352951      0.498630         1.303686       7.234262   \n",
       "min        1.000000      1.000000         0.000000       0.010000   \n",
       "25%    16000.750000      1.000000         1.000000       1.200000   \n",
       "50%    32000.500000      2.000000         1.000000       2.260000   \n",
       "75%    48000.250000      2.000000         2.000000       8.080000   \n",
       "max    64000.000000      2.000000         9.000000      86.600000   \n",
       "\n",
       "       pickup_longitude  pickup_latitude    RatecodeID  dropoff_longitude  \\\n",
       "count      64000.000000     64000.000000  64000.000000       64000.000000   \n",
       "mean         -73.960769        40.744481      1.406250         -73.975568   \n",
       "std            0.060701         0.037676      0.913769           0.084823   \n",
       "min          -74.527763        40.535580      1.000000         -74.833679   \n",
       "25%          -73.991264        40.732536      1.000000         -73.993828   \n",
       "50%          -73.980370        40.752197      1.000000         -73.980309   \n",
       "75%          -73.962111        40.766815      1.000000         -73.960541   \n",
       "max          -72.659561        41.255787      5.000000         -72.551582   \n",
       "\n",
       "       dropoff_latitude  payment_type  tolls_amount  improvement_surcharge  \\\n",
       "count      64000.000000  64000.000000   64000.00000           64000.000000   \n",
       "mean          40.746855      1.337031       1.74787               0.299991   \n",
       "std            0.047903      0.492926       4.14628               0.001677   \n",
       "min           40.045311      1.000000       0.00000               0.000000   \n",
       "25%           40.725780      1.000000       0.00000               0.300000   \n",
       "50%           40.751484      1.000000       0.00000               0.300000   \n",
       "75%           40.768697      2.000000       0.00000               0.300000   \n",
       "max           41.525589      4.000000      82.50000               0.300000   \n",
       "\n",
       "           duration     avg_speed  ridesAtPickupHour  \n",
       "count  64000.000000  64000.000000       64000.000000  \n",
       "mean    1230.515344     14.546904       14415.856201  \n",
       "std     1080.955692      9.388043        3799.740583  \n",
       "min       40.000000      0.014337        1696.000000  \n",
       "25%      468.000000      8.153310       13251.750000  \n",
       "50%      858.000000     11.716077       14940.000000  \n",
       "75%     1659.000000     18.140034       16814.500000  \n",
       "max     9931.000000    176.170213       20311.800000  "
      ]
     },
     "execution_count": 21,
     "metadata": {},
     "output_type": "execute_result"
    }
   ],
   "source": [
    "test.describe()"
   ]
  },
  {
   "cell_type": "markdown",
   "metadata": {},
   "source": [
    "## Function for parameter optimization for lightGBM"
   ]
  },
  {
   "cell_type": "code",
   "execution_count": null,
   "metadata": {},
   "outputs": [],
   "source": [
    "#optimization parameters for lightGBM\n",
    "param_grid = {    \n",
    "    'num_leaves':[7,31,150,500,1000],\n",
    "    #\"max_depth\":[-1,10,30,51],\n",
    "    'learning_rate': [0.003],  \n",
    "    \"objective\": [\"mae\"],\n",
    "    \"bagging_fraction\" : [0.8], \n",
    "    \"feature_fraction\" : [0.8], \n",
    "    \"num_threads\" : [4],\n",
    "    \"verbose\":[-1],\n",
    "    \"boosting\":[\"gbdt\"], #rf does not work\n",
    "}\n",
    "\n"
   ]
  },
  {
   "cell_type": "code",
   "execution_count": null,
   "metadata": {},
   "outputs": [],
   "source": [
    "from sklearn.model_selection import ParameterGrid\n",
    "from operator import itemgetter\n",
    "import lightgbm as lgb\n",
    "import timeit\n",
    "import copy\n",
    "\n",
    "def optimisedLGM(param_grid,trainData,labels,stopping=50):\n",
    "    lgb_dataset = lgb.Dataset(trainData, label=labels)\n",
    "    \n",
    "    cv_results = []\n",
    "    counter = 0\n",
    "    print(\"Total parameter combinations to run:\",len(ParameterGrid(param_grid)))\n",
    "    first_param = None;\n",
    "    for params in ParameterGrid(param_grid):\n",
    "        start_time = timeit.default_timer()\n",
    "        counter=counter+1\n",
    "        print(\"Starting run\",counter)\n",
    "        print(params)\n",
    "        validation_summary = lgb.cv(params,\n",
    "                                    lgb_dataset,\n",
    "                                    num_boost_round=10000, \n",
    "                                    nfold=3,\n",
    "                                    early_stopping_rounds=stopping,\n",
    "                                    verbose_eval=100,\n",
    "                                    stratified=False)\n",
    "\n",
    "        params[\"optimal_number_of_trees\"] = len(validation_summary[\"l1-mean\"])\n",
    "        if(first_param == None):\n",
    "            first_param=copy.deepcopy(params)\n",
    "        cv_results.append((params, validation_summary[\"l1-mean\"][-1]))    \n",
    "        #this currently is buggy. the first element of the results will always be overriden by the last\n",
    "        \n",
    "        elapsed = timeit.default_timer() - start_time\n",
    "        if (counter %1 == 0):\n",
    "            print(\"Run done, took:\",round(elapsed,2),\"s\")   \n",
    "\n",
    "    first_tuple = cv_results[0]\n",
    "    first_param\n",
    "    cv_results[0] = (first_param,first_tuple[1]) # this fixes the bug mentioned above, no idea why this is happening though\n",
    "    param_set = min(cv_results,key=itemgetter(1)) #best params, minimal mae\n",
    "    print(\"Best params:\",param_set)\n",
    "    #print(cv_results)   \n",
    "    lgb_model = lgb.train(param_set[0],lgb_dataset,param_set[0][\"optimal_number_of_trees\"])\n",
    "    return lgb_model"
   ]
  },
  {
   "cell_type": "code",
   "execution_count": null,
   "metadata": {},
   "outputs": [],
   "source": [
    "from sklearn.model_selection import ParameterGrid\n",
    "from operator import itemgetter\n",
    "import lightgbm as lgb\n",
    "import timeit\n",
    "from sklearn.model_selection import GridSearchCV\n",
    "\n",
    "def optimisedLGM2(param_grid,trainData,labels):\n",
    "\n",
    "    estimator = lgb.LGBMRegressor(objective = \"mae\",n_jobs=2)\n",
    "    param_grid = {\n",
    "        'learning_rate': [0.05],\n",
    "        'n_estimators': [200,400,600,800],\n",
    "        'num_leaves':[7,80],\n",
    "        \"boosting_type\":[\"gbdt\"],\n",
    "        \"max_depth\":[2,63,None],    \n",
    "    }\n",
    "\n",
    "    gbm = GridSearchCV(estimator,param_grid,verbose=2,n_jobs=2)    \n",
    "\n",
    "    gbm.fit(trainData,labels)\n",
    "    print('Best parameters found by grid search are:', gbm.best_params_)\n",
    "    print(\"Best score:\",gbm.cv_results_)\n",
    "    return gbm;"
   ]
  },
  {
   "cell_type": "markdown",
   "metadata": {},
   "source": [
    "# Ratecode 1 (Standard rate)"
   ]
  },
  {
   "cell_type": "markdown",
   "metadata": {},
   "source": [
    "## Building the Model"
   ]
  },
  {
   "cell_type": "code",
   "execution_count": null,
   "metadata": {},
   "outputs": [],
   "source": [
    "code1data = train[train.RatecodeID == 1]"
   ]
  },
  {
   "cell_type": "code",
   "execution_count": null,
   "metadata": {},
   "outputs": [],
   "source": [
    "code1test = test[test.RatecodeID == 1]"
   ]
  },
  {
   "cell_type": "code",
   "execution_count": null,
   "metadata": {
    "scrolled": true
   },
   "outputs": [],
   "source": [
    "%%time\n",
    "features = [\"duration\",\"trip_distance\",\"avg_speed\",\"ridesAtPickupHour\"]\n",
    "#train new model\n",
    "code1_model = optimisedLGM(param_grid,code1data[features],code1data[\"fare_amount\"])\n",
    "\n",
    "#use old params\n",
    "#params = ({'bagging_fraction': 0.8, 'boosting': 'gbdt', 'feature_fraction': 0.8, 'learning_rate': 0.01, 'max_depth': 10, 'num_leaves': 150, 'num_threads': 4, 'objective': 'mae', 'verbose': -1, 'optimal_number_of_trees': 3000})\n",
    "#code1_dataset = lgb.Dataset(code1data[features], label=code1data[\"fare_amount\"])\n",
    "#code1_model = lgb.train(params,code1_dataset,params[\"optimal_number_of_trees\"])"
   ]
  },
  {
   "cell_type": "code",
   "execution_count": null,
   "metadata": {},
   "outputs": [],
   "source": [
    "lgb.plot_importance(code1_model, max_num_features=10)"
   ]
  },
  {
   "cell_type": "markdown",
   "metadata": {},
   "source": [
    "## Prediction"
   ]
  },
  {
   "cell_type": "code",
   "execution_count": null,
   "metadata": {},
   "outputs": [],
   "source": [
    "code1prediction = np.round(code1_model.predict(code1test[features])*2)/2"
   ]
  },
  {
   "cell_type": "code",
   "execution_count": null,
   "metadata": {},
   "outputs": [],
   "source": [
    "code1prediction"
   ]
  },
  {
   "cell_type": "code",
   "execution_count": null,
   "metadata": {},
   "outputs": [],
   "source": [
    "code1test = code1test.assign(fare_amount_prediction = code1prediction)"
   ]
  },
  {
   "cell_type": "markdown",
   "metadata": {},
   "source": [
    "# Ratecode 2 (JFK)"
   ]
  },
  {
   "cell_type": "markdown",
   "metadata": {},
   "source": [
    "## Building the Model"
   ]
  },
  {
   "cell_type": "markdown",
   "metadata": {},
   "source": [
    "No model building neccessary, all rides cost 52$"
   ]
  },
  {
   "cell_type": "code",
   "execution_count": null,
   "metadata": {},
   "outputs": [],
   "source": [
    "code2data = train[train.RatecodeID == 2]\n",
    "code2test = test[test.RatecodeID == 2]"
   ]
  },
  {
   "cell_type": "markdown",
   "metadata": {},
   "source": [
    "## Prediction"
   ]
  },
  {
   "cell_type": "code",
   "execution_count": null,
   "metadata": {},
   "outputs": [],
   "source": [
    "code2test[\"fare_amount_prediction\"] = 52.0"
   ]
  },
  {
   "cell_type": "markdown",
   "metadata": {},
   "source": [
    "# Ratecode 3 (Newark)"
   ]
  },
  {
   "cell_type": "markdown",
   "metadata": {},
   "source": [
    "## Building the Model"
   ]
  },
  {
   "cell_type": "code",
   "execution_count": null,
   "metadata": {},
   "outputs": [],
   "source": [
    "code3data = train[train.RatecodeID == 3]"
   ]
  },
  {
   "cell_type": "code",
   "execution_count": null,
   "metadata": {},
   "outputs": [],
   "source": [
    "code3test = test[test.RatecodeID == 3]"
   ]
  },
  {
   "cell_type": "code",
   "execution_count": null,
   "metadata": {
    "scrolled": true
   },
   "outputs": [],
   "source": [
    "%%time\n",
    "features = [\"duration\",\"trip_distance\",\"avg_speed\",\"ridesAtPickupHour\"]\n",
    "code3_model = optimisedLGM(param_grid,code3data[features],code3data[\"fare_amount\"])"
   ]
  },
  {
   "cell_type": "markdown",
   "metadata": {},
   "source": [
    "## Prediction"
   ]
  },
  {
   "cell_type": "code",
   "execution_count": null,
   "metadata": {},
   "outputs": [],
   "source": [
    "code3prediction = np.round(code3_model.predict(code3test[features])*2)/2\n",
    "code3test = code3test.assign(fare_amount_prediction = code3prediction)"
   ]
  },
  {
   "cell_type": "markdown",
   "metadata": {},
   "source": [
    "# Ratecode 4 (Nassau or Westchester)"
   ]
  },
  {
   "cell_type": "markdown",
   "metadata": {},
   "source": [
    "## Building the Model"
   ]
  },
  {
   "cell_type": "code",
   "execution_count": null,
   "metadata": {},
   "outputs": [],
   "source": [
    "code4data = train[train.RatecodeID == 4]\n",
    "code4test = test[test.RatecodeID == 4]\n",
    "np.shape(code4test)"
   ]
  },
  {
   "cell_type": "code",
   "execution_count": null,
   "metadata": {},
   "outputs": [],
   "source": [
    "#shapely can be installed via anaconda -> environments\n",
    "from shapely.geometry import Point\n",
    "from shapely.geometry.polygon import Polygon"
   ]
  },
  {
   "cell_type": "code",
   "execution_count": 116,
   "metadata": {},
   "outputs": [],
   "source": [
    "# returns whether the point given is in the area given\n",
    "def inArea(polygon,lat,long):\n",
    "    point = Point(lat,long);\n",
    "    poly = Polygon(polygon)\n",
    "    return poly.contains(point)    "
   ]
  },
  {
   "cell_type": "code",
   "execution_count": 117,
   "metadata": {},
   "outputs": [],
   "source": [
    "#cords for a polygon around manhatten, manually set via google maps\n",
    "manhattan_cords = [(40.882207, -73.933869), #1\n",
    "         (40.872343, -73.908292), #2\n",
    "         (40.836117, -73.933011), #3\n",
    "         (40.804680, -73.931123), #4\n",
    "         (40.798833, -73.918591), #5\n",
    "         (40.739289, -73.967000), #6\n",
    "         (40.707155, -73.973866), #7\n",
    "         (40.699217, -74.021416), #8\n",
    "         (40.759316, -74.012662)] #9"
   ]
  },
  {
   "cell_type": "code",
   "execution_count": 118,
   "metadata": {},
   "outputs": [],
   "source": [
    "#apply to train set\n",
    "code4data[\"endsInManhattan\"] = code4data.apply(lambda x : inArea(manhattan_cords,x[\"dropoff_latitude\"],x[\"dropoff_longitude\"]),axis=1)\n",
    "code4data[\"startsInManhattan\"] = code4data.apply(lambda x : inArea(manhattan_cords,x[\"pickup_latitude\"],x[\"pickup_longitude\"]),axis=1)"
   ]
  },
  {
   "cell_type": "code",
   "execution_count": 119,
   "metadata": {},
   "outputs": [],
   "source": [
    "from geopy.distance import geodesic\n",
    "from geopy.distance import great_circle"
   ]
  },
  {
   "cell_type": "code",
   "execution_count": 120,
   "metadata": {},
   "outputs": [],
   "source": [
    "#calculate air line distance for train data set\n",
    "code4data[\"airlineDistance\"] = code4data.apply(lambda x: geodesic((x[\"pickup_latitude\"],x[\"pickup_longitude\"]),\n",
    "                                                                  (x[\"dropoff_latitude\"],x[\"dropoff_longitude\"])).miles,axis=1)"
   ]
  },
  {
   "cell_type": "code",
   "execution_count": 121,
   "metadata": {
    "scrolled": true
   },
   "outputs": [
    {
     "data": {
      "text/plain": [
       "count    3539.000000\n",
       "mean        9.828547\n",
       "std         5.326620\n",
       "min         0.012965\n",
       "25%         5.275523\n",
       "50%         9.864279\n",
       "75%        13.461053\n",
       "max        27.942278\n",
       "Name: airlineDistance, dtype: float64"
      ]
     },
     "execution_count": 121,
     "metadata": {},
     "output_type": "execute_result"
    }
   ],
   "source": [
    "code4data.airlineDistance.describe()"
   ]
  },
  {
   "cell_type": "code",
   "execution_count": 122,
   "metadata": {
    "scrolled": true
   },
   "outputs": [
    {
     "data": {
      "text/plain": [
       "(3539, 2)"
      ]
     },
     "execution_count": 122,
     "metadata": {},
     "output_type": "execute_result"
    }
   ],
   "source": [
    "np.shape(code4data[[\"airlineDistance\",\"trip_distance\"]])"
   ]
  },
  {
   "cell_type": "code",
   "execution_count": 123,
   "metadata": {},
   "outputs": [
    {
     "data": {
      "text/plain": [
       "(45, 30)"
      ]
     },
     "execution_count": 123,
     "metadata": {},
     "output_type": "execute_result"
    }
   ],
   "source": [
    "np.shape(code4data[code4data.trip_distance<code4data.airlineDistance])"
   ]
  },
  {
   "cell_type": "code",
   "execution_count": 124,
   "metadata": {},
   "outputs": [],
   "source": [
    "code4data = code4data[code4data.trip_distance >= code4data.airlineDistance]"
   ]
  },
  {
   "cell_type": "code",
   "execution_count": 125,
   "metadata": {},
   "outputs": [
    {
     "data": {
      "text/plain": [
       "[<matplotlib.lines.Line2D at 0x27f01a199b0>]"
      ]
     },
     "execution_count": 125,
     "metadata": {},
     "output_type": "execute_result"
    },
    {
     "data": {
      "image/png": "[encoded data removed]",
      "text/plain": [
       "<matplotlib.figure.Figure at 0x2800f78c2e8>"
      ]
     },
     "metadata": {},
     "output_type": "display_data"
    }
   ],
   "source": [
    "ax = sns.regplot(code4data.trip_distance,code4data.airlineDistance)\n",
    "ax.plot([0,0],[40,40], linewidth=2,color=\"red\")"
   ]
  },
  {
   "cell_type": "code",
   "execution_count": 126,
   "metadata": {},
   "outputs": [],
   "source": [
    "# all bridges and tunnels to/from manhattan, bridges marked with ! are highways or tunnels and more likely to be used by taxis\n",
    "bridges = [ (40.877720, -73.922362), # 0 henry hudson bridge !\n",
    "          (40.873648, -73.911075), # 1 broadway !\n",
    "          (40.862840, -73.914986), # 2 university heights bridge\n",
    "          (40.846674, -73.927806), # 3 washington bridge - close to v\n",
    "          (40.845522, -73.928256), # 4 alexander hamilton bridge !\n",
    "          (40.828062, -73.933873), # 5 macombs dam bridge\n",
    "          (40.819489, -73.933058), # 6 145th st bridge - close to v\n",
    "          (40.814081, -73.933187), # 7 madison avenue bridge\n",
    "          (40.807591, -73.932399), # 8 third avenue bridge\n",
    "           (40.803516, -73.928818),# 9 willis ave bridge\n",
    "           (40.800368, -73.927835), # 10 robert f kennedy bridge !\n",
    "           (40.756681, -73.954185), # 11 ed koch queensboro bridge !\n",
    "           (40.745106, -73.964063), # 12 queens midtown tunnel !\n",
    "           (40.713407, -73.972299), # 13 williamsburg bridge\n",
    "           (40.707095, -73.990500), # 14 manhattan bridge\n",
    "           (40.705972, -73.996851), # 15 brooklyn bridge !\n",
    "           (40.701161, -74.015692), # 16 Hugh l Carey Tunnel\n",
    "           (40.727487, -74.020880), # 17 holland tunnel\n",
    "           (40.763370, -74.010028), # 18 lincoln tunnel !\n",
    "           (40.851644, -73.952118), # 19 george washington bridge !\n",
    "          ]"
   ]
  },
  {
   "cell_type": "code",
   "execution_count": 127,
   "metadata": {},
   "outputs": [],
   "source": [
    "# try to find out which bridge is used in a trip \n",
    "# assumption: the bridge is used that minimizes the pickup-bridge-dropoff distance (air-line distance)\n",
    "counter = 1\n",
    "for index, row in code4data.iterrows():\n",
    "    # 4 options:\n",
    "    # starts in city, ends in city --> should not have ratecode 4 -> outlier, ignore\n",
    "    # starts in city, ends out of city -> standard trip\n",
    "    # starts out of city, ends out of city -> no calculations to be done here, use double rate for whole trip\n",
    "    # starts out of city, ends in city -> reverse standard trip\n",
    "    startP = (row[\"pickup_latitude\"],row[\"pickup_longitude\"])\n",
    "    endP = (row[\"dropoff_latitude\"],row[\"dropoff_longitude\"])\n",
    "    \n",
    "    if(row.startsInManhattan and row.endsInManhattan):\n",
    "        #print(\"Outlier found, index\",index)\n",
    "        continue\n",
    "    elif (not row.startsInManhattan and not row.endsInManhattan):\n",
    "        #print(\"Complete out of city trip, index\",index)\n",
    "        code4data.at[index,\"Bridge\"] = None;\n",
    "        code4data.at[index,\"in_city_distance\"] = 0;\n",
    "        code4data.at[index,\"out_of_city_distance\"] = geodesic(startP, endP).miles\n",
    "        code4data.at[index,\"total_over_bridge_distance\"] = geodesic(startP, endP).miles  \n",
    "        continue\n",
    "    elif (not row.startsInManhattan and  row.endsInManhattan): # reverse trip\n",
    "        temp = startP # here we swap start and endpoints so its similar to a standard trip\n",
    "        startP = endP\n",
    "        endP = temp\n",
    "    \n",
    "    #find closest bridge\n",
    "    closest_bridge_index = -1\n",
    "    closest_total_bridge_distance = float('inf')\n",
    "    for i in range(len(bridges)):\n",
    "        distance_to_bridge = geodesic(startP, bridges[i]).miles\n",
    "        distance_to_dest =  geodesic(bridges[i],endP).miles\n",
    "        total = distance_to_bridge + distance_to_dest\n",
    "        if(total < closest_total_bridge_distance):\n",
    "            closest_total_bridge_distance = total\n",
    "            closest_bridge_index = i\n",
    "            closest_distance_to_bridge = distance_to_bridge\n",
    "            closest_distance_to_dest = distance_to_dest\n",
    "            \n",
    "    #print(\"Route {} travels over bridge/tunnel {} (to bridge: {:0.2f}, to dest: {:0.2f}, total: {:0.2f}, trip_distance : {:0.2f})\".format(\n",
    "    #    counter, closest_bridge_index,closest_distance_to_bridge,closest_distance_to_dest,closest_total_bridge_distance,totalDistance))\n",
    "    counter = counter + 1\n",
    "    \n",
    "    code4data.at[index,\"Bridge\"] = closest_bridge_index;\n",
    "    code4data.at[index,\"in_city_distance\"] = closest_distance_to_bridge;\n",
    "    code4data.at[index,\"out_of_city_distance\"] = closest_distance_to_dest\n",
    "    code4data.at[index,\"total_over_bridge_distance\"] = closest_total_bridge_distance       "
   ]
  },
  {
   "cell_type": "code",
   "execution_count": 128,
   "metadata": {},
   "outputs": [],
   "source": [
    "#states how much of the fare was contributed by ride in the city. Calculated by \n",
    "code4data[\"inCityPercentage\"] = code4data.apply(lambda x: x.in_city_distance/(x.in_city_distance+2*x.out_of_city_distance+0.0001),axis=1)"
   ]
  },
  {
   "cell_type": "code",
   "execution_count": 129,
   "metadata": {},
   "outputs": [],
   "source": [
    "#2.5 were subtracted from fare amount (inital charge)\n",
    "code4data[\"inCityFare\"] = code4data.apply(lambda x: x.inCityPercentage*(x.fare_amount-2.5),axis=1)\n",
    "code4data[\"outCityFare\"] = code4data.apply(lambda x: (1-x.inCityPercentage)*(x.fare_amount-2.5),axis=1)"
   ]
  },
  {
   "cell_type": "code",
   "execution_count": 130,
   "metadata": {},
   "outputs": [],
   "source": [
    "code4data[\"inCityTripDistanceExtreme\"] = code4data.apply(lambda x: x.inCityPercentage*x.trip_distance,axis=1)\n",
    "code4data[\"outCityTripDistanceExtreme\"] = code4data.apply(lambda x: (1-x.inCityPercentage)*x.trip_distance,axis=1)"
   ]
  },
  {
   "cell_type": "code",
   "execution_count": 131,
   "metadata": {},
   "outputs": [],
   "source": [
    "code4data[\"inCityTripDistance\"] = code4data.apply(lambda x: x.in_city_distance/(x.in_city_distance+x.out_of_city_distance),axis=1)\n",
    "code4data[\"outCityTripDistance\"] = code4data.apply(lambda x: x.out_of_city_distance/(x.in_city_distance+x.out_of_city_distance),axis=1)"
   ]
  },
  {
   "cell_type": "markdown",
   "metadata": {},
   "source": [
    "Now we have to train three models. Two for trips that start in the city and end out of it and vice versa, thus using both the standard and the doubled rate (one model for each). The predctions are then add up. The third model is for trips that are completly out of the city and therefore only use the doubled rate. Here more information can be used from the dataset, because we do not have to make assumptions on where the trip was split."
   ]
  },
  {
   "cell_type": "code",
   "execution_count": 132,
   "metadata": {},
   "outputs": [
    {
     "data": {
      "text/plain": [
       "(597, 41)"
      ]
     },
     "execution_count": 132,
     "metadata": {},
     "output_type": "execute_result"
    }
   ],
   "source": [
    "code4data_mixed = code4data[code4data.startsInManhattan ^ code4data.endsInManhattan] # trips that used a bridge -> entered/left manhattan\n",
    "np.shape(code4data_mixed)"
   ]
  },
  {
   "cell_type": "code",
   "execution_count": 133,
   "metadata": {},
   "outputs": [
    {
     "data": {
      "text/plain": [
       "(2758, 41)"
      ]
     },
     "execution_count": 133,
     "metadata": {},
     "output_type": "execute_result"
    }
   ],
   "source": [
    "code4data_out = code4data[(code4data.startsInManhattan==False) & (code4data.endsInManhattan==False)] # trips that not used a bridge -> never were in Manhattan\n",
    "np.shape(code4data_out)"
   ]
  },
  {
   "cell_type": "code",
   "execution_count": 134,
   "metadata": {
    "scrolled": true
   },
   "outputs": [
    {
     "name": "stdout",
     "output_type": "stream",
     "text": [
      "Total parameter combinations to run: 4\n",
      "Starting run 1\n",
      "{'bagging_fraction': 0.8, 'boosting': 'gbdt', 'feature_fraction': 0.8, 'learning_rate': 0.003, 'num_leaves': 7, 'num_threads': 4, 'objective': 'mae', 'verbose': -1}\n",
      "[100]\tcv_agg's l1: 5.02994 + 0.17028\n",
      "[200]\tcv_agg's l1: 4.32635 + 0.153761\n",
      "[300]\tcv_agg's l1: 3.74887 + 0.163984\n",
      "[400]\tcv_agg's l1: 3.28081 + 0.183357\n",
      "[500]\tcv_agg's l1: 2.90895 + 0.198046\n",
      "[600]\tcv_agg's l1: 2.60771 + 0.208431\n",
      "[700]\tcv_agg's l1: 2.35367 + 0.201972\n",
      "[800]\tcv_agg's l1: 2.12922 + 0.176016\n",
      "[900]\tcv_agg's l1: 1.94603 + 0.170813\n",
      "[1000]\tcv_agg's l1: 1.80342 + 0.165682\n",
      "[1100]\tcv_agg's l1: 1.69965 + 0.154744\n",
      "[1200]\tcv_agg's l1: 1.61999 + 0.155083\n",
      "[1300]\tcv_agg's l1: 1.56229 + 0.158635\n",
      "[1400]\tcv_agg's l1: 1.51077 + 0.150937\n",
      "[1500]\tcv_agg's l1: 1.46086 + 0.143706\n",
      "[1600]\tcv_agg's l1: 1.42235 + 0.137525\n",
      "[1700]\tcv_agg's l1: 1.39071 + 0.133042\n",
      "[1800]\tcv_agg's l1: 1.36538 + 0.121781\n",
      "[1900]\tcv_agg's l1: 1.34788 + 0.118422\n",
      "[2000]\tcv_agg's l1: 1.3338 + 0.117815\n",
      "[2100]\tcv_agg's l1: 1.32122 + 0.117675\n",
      "[2200]\tcv_agg's l1: 1.31318 + 0.117724\n",
      "[2300]\tcv_agg's l1: 1.30602 + 0.117489\n",
      "[2400]\tcv_agg's l1: 1.2993 + 0.116732\n",
      "[2500]\tcv_agg's l1: 1.29076 + 0.115891\n",
      "[2600]\tcv_agg's l1: 1.28378 + 0.114834\n",
      "[2700]\tcv_agg's l1: 1.27846 + 0.112801\n",
      "[2800]\tcv_agg's l1: 1.27431 + 0.111505\n",
      "[2900]\tcv_agg's l1: 1.27022 + 0.109794\n",
      "[3000]\tcv_agg's l1: 1.26658 + 0.107504\n",
      "[3100]\tcv_agg's l1: 1.2634 + 0.10595\n",
      "[3200]\tcv_agg's l1: 1.26077 + 0.10542\n",
      "[3300]\tcv_agg's l1: 1.2575 + 0.104471\n",
      "[3400]\tcv_agg's l1: 1.2557 + 0.103908\n",
      "[3500]\tcv_agg's l1: 1.2528 + 0.103609\n",
      "[3600]\tcv_agg's l1: 1.25032 + 0.103132\n",
      "[3700]\tcv_agg's l1: 1.24807 + 0.1021\n",
      "[3800]\tcv_agg's l1: 1.24612 + 0.101438\n",
      "[3900]\tcv_agg's l1: 1.2446 + 0.100713\n",
      "[4000]\tcv_agg's l1: 1.2435 + 0.100138\n",
      "[4100]\tcv_agg's l1: 1.24141 + 0.098981\n",
      "[4200]\tcv_agg's l1: 1.23926 + 0.0977974\n",
      "[4300]\tcv_agg's l1: 1.23838 + 0.0973997\n",
      "[4400]\tcv_agg's l1: 1.23735 + 0.0967985\n",
      "[4500]\tcv_agg's l1: 1.23625 + 0.0961772\n",
      "[4600]\tcv_agg's l1: 1.23548 + 0.0956853\n",
      "[4700]\tcv_agg's l1: 1.23444 + 0.0951119\n",
      "[4800]\tcv_agg's l1: 1.2335 + 0.0947286\n",
      "[4900]\tcv_agg's l1: 1.23267 + 0.0944384\n",
      "[5000]\tcv_agg's l1: 1.2316 + 0.0943107\n",
      "[5100]\tcv_agg's l1: 1.23066 + 0.0937724\n",
      "[5200]\tcv_agg's l1: 1.23031 + 0.0934512\n",
      "[5300]\tcv_agg's l1: 1.22988 + 0.0931926\n",
      "[5400]\tcv_agg's l1: 1.22914 + 0.0929039\n",
      "[5500]\tcv_agg's l1: 1.22887 + 0.0927378\n",
      "[5600]\tcv_agg's l1: 1.22829 + 0.0922479\n",
      "[5700]\tcv_agg's l1: 1.22728 + 0.0925305\n",
      "[5800]\tcv_agg's l1: 1.22593 + 0.0925865\n",
      "[5900]\tcv_agg's l1: 1.2247 + 0.0917745\n",
      "[6000]\tcv_agg's l1: 1.22431 + 0.0917297\n",
      "[6100]\tcv_agg's l1: 1.22344 + 0.0912829\n",
      "[6200]\tcv_agg's l1: 1.22291 + 0.0911822\n",
      "[6300]\tcv_agg's l1: 1.2217 + 0.0904552\n",
      "[6400]\tcv_agg's l1: 1.2211 + 0.0901718\n",
      "[6500]\tcv_agg's l1: 1.22071 + 0.0900494\n",
      "[6600]\tcv_agg's l1: 1.22008 + 0.0897386\n",
      "[6700]\tcv_agg's l1: 1.21934 + 0.0894515\n",
      "[6800]\tcv_agg's l1: 1.2183 + 0.0891089\n",
      "[6900]\tcv_agg's l1: 1.21801 + 0.0886871\n",
      "Run done, took: 2.36 s\n",
      "Starting run 2\n",
      "{'bagging_fraction': 0.8, 'boosting': 'gbdt', 'feature_fraction': 0.8, 'learning_rate': 0.003, 'num_leaves': 31, 'num_threads': 4, 'objective': 'mae', 'verbose': -1}\n",
      "[100]\tcv_agg's l1: 5.01472 + 0.167575\n",
      "[200]\tcv_agg's l1: 4.2897 + 0.155656\n",
      "[300]\tcv_agg's l1: 3.67678 + 0.180377\n",
      "[400]\tcv_agg's l1: 3.1525 + 0.185367\n",
      "[500]\tcv_agg's l1: 2.75744 + 0.186805\n",
      "[600]\tcv_agg's l1: 2.4406 + 0.16883\n",
      "[700]\tcv_agg's l1: 2.19346 + 0.161607\n",
      "[800]\tcv_agg's l1: 1.99501 + 0.167965\n",
      "[900]\tcv_agg's l1: 1.83802 + 0.160439\n",
      "[1000]\tcv_agg's l1: 1.71364 + 0.152904\n",
      "[1100]\tcv_agg's l1: 1.62829 + 0.151925\n",
      "[1200]\tcv_agg's l1: 1.56388 + 0.149564\n",
      "[1300]\tcv_agg's l1: 1.51757 + 0.148726\n",
      "[1400]\tcv_agg's l1: 1.47905 + 0.146599\n",
      "[1500]\tcv_agg's l1: 1.45124 + 0.144817\n",
      "[1600]\tcv_agg's l1: 1.42549 + 0.143489\n",
      "[1700]\tcv_agg's l1: 1.40349 + 0.140743\n",
      "[1800]\tcv_agg's l1: 1.38471 + 0.13701\n",
      "[1900]\tcv_agg's l1: 1.373 + 0.134178\n",
      "[2000]\tcv_agg's l1: 1.36412 + 0.132133\n",
      "[2100]\tcv_agg's l1: 1.35423 + 0.127839\n",
      "[2200]\tcv_agg's l1: 1.34666 + 0.127124\n",
      "[2300]\tcv_agg's l1: 1.33907 + 0.126548\n",
      "[2400]\tcv_agg's l1: 1.33266 + 0.125559\n",
      "[2500]\tcv_agg's l1: 1.32848 + 0.124839\n",
      "[2600]\tcv_agg's l1: 1.32483 + 0.123156\n",
      "[2700]\tcv_agg's l1: 1.32163 + 0.121953\n",
      "[2800]\tcv_agg's l1: 1.31842 + 0.120433\n",
      "[2900]\tcv_agg's l1: 1.31532 + 0.119549\n",
      "[3000]\tcv_agg's l1: 1.31229 + 0.118492\n",
      "[3100]\tcv_agg's l1: 1.30979 + 0.117412\n",
      "[3200]\tcv_agg's l1: 1.30801 + 0.117066\n",
      "[3300]\tcv_agg's l1: 1.30599 + 0.116951\n",
      "[3400]\tcv_agg's l1: 1.30422 + 0.116661\n",
      "[3500]\tcv_agg's l1: 1.30296 + 0.116348\n",
      "[3600]\tcv_agg's l1: 1.30119 + 0.115809\n",
      "[3700]\tcv_agg's l1: 1.30003 + 0.115437\n",
      "[3800]\tcv_agg's l1: 1.29879 + 0.11534\n",
      "[3900]\tcv_agg's l1: 1.2982 + 0.115312\n",
      "[4000]\tcv_agg's l1: 1.29719 + 0.115208\n",
      "[4100]\tcv_agg's l1: 1.29614 + 0.114893\n",
      "[4200]\tcv_agg's l1: 1.29552 + 0.11509\n",
      "[4300]\tcv_agg's l1: 1.29458 + 0.114954\n",
      "[4400]\tcv_agg's l1: 1.29402 + 0.114995\n",
      "[4500]\tcv_agg's l1: 1.29361 + 0.115133\n",
      "[4600]\tcv_agg's l1: 1.29328 + 0.114761\n",
      "[4700]\tcv_agg's l1: 1.29287 + 0.114719\n",
      "[4800]\tcv_agg's l1: 1.29178 + 0.114727\n",
      "[4900]\tcv_agg's l1: 1.29075 + 0.114678\n",
      "[5000]\tcv_agg's l1: 1.29024 + 0.114786\n",
      "[5100]\tcv_agg's l1: 1.28982 + 0.114689\n",
      "[5200]\tcv_agg's l1: 1.28924 + 0.114577\n",
      "[5300]\tcv_agg's l1: 1.28896 + 0.114631\n",
      "[5400]\tcv_agg's l1: 1.28868 + 0.114579\n",
      "Run done, took: 2.8 s\n",
      "Starting run 3\n",
      "{'bagging_fraction': 0.8, 'boosting': 'gbdt', 'feature_fraction': 0.8, 'learning_rate': 0.003, 'num_leaves': 150, 'num_threads': 4, 'objective': 'mae', 'verbose': -1}\n",
      "[100]\tcv_agg's l1: 5.01472 + 0.167575\n",
      "[200]\tcv_agg's l1: 4.2897 + 0.155656\n",
      "[300]\tcv_agg's l1: 3.67678 + 0.180377\n",
      "[400]\tcv_agg's l1: 3.1525 + 0.185367\n",
      "[500]\tcv_agg's l1: 2.75744 + 0.186805\n",
      "[600]\tcv_agg's l1: 2.4406 + 0.16883\n",
      "[700]\tcv_agg's l1: 2.19346 + 0.161607\n",
      "[800]\tcv_agg's l1: 1.99501 + 0.167965\n",
      "[900]\tcv_agg's l1: 1.83802 + 0.160439\n",
      "[1000]\tcv_agg's l1: 1.71364 + 0.152904\n",
      "[1100]\tcv_agg's l1: 1.62829 + 0.151925\n",
      "[1200]\tcv_agg's l1: 1.56388 + 0.149564\n",
      "[1300]\tcv_agg's l1: 1.51757 + 0.148726\n",
      "[1400]\tcv_agg's l1: 1.47905 + 0.146599\n",
      "[1500]\tcv_agg's l1: 1.45124 + 0.144817\n",
      "[1600]\tcv_agg's l1: 1.42549 + 0.143489\n",
      "[1700]\tcv_agg's l1: 1.40349 + 0.140743\n",
      "[1800]\tcv_agg's l1: 1.38471 + 0.13701\n",
      "[1900]\tcv_agg's l1: 1.373 + 0.134178\n",
      "[2000]\tcv_agg's l1: 1.36412 + 0.132133\n",
      "[2100]\tcv_agg's l1: 1.35423 + 0.127839\n",
      "[2200]\tcv_agg's l1: 1.34666 + 0.127124\n",
      "[2300]\tcv_agg's l1: 1.33907 + 0.126548\n",
      "[2400]\tcv_agg's l1: 1.33266 + 0.125559\n",
      "[2500]\tcv_agg's l1: 1.32848 + 0.124839\n",
      "[2600]\tcv_agg's l1: 1.32483 + 0.123156\n",
      "[2700]\tcv_agg's l1: 1.32163 + 0.121953\n",
      "[2800]\tcv_agg's l1: 1.31842 + 0.120433\n",
      "[2900]\tcv_agg's l1: 1.31532 + 0.119549\n",
      "[3000]\tcv_agg's l1: 1.31229 + 0.118492\n",
      "[3100]\tcv_agg's l1: 1.30979 + 0.117412\n",
      "[3200]\tcv_agg's l1: 1.30801 + 0.117066\n",
      "[3300]\tcv_agg's l1: 1.30599 + 0.116951\n",
      "[3400]\tcv_agg's l1: 1.30422 + 0.116661\n",
      "[3500]\tcv_agg's l1: 1.30296 + 0.116348\n",
      "[3600]\tcv_agg's l1: 1.30119 + 0.115809\n",
      "[3700]\tcv_agg's l1: 1.30003 + 0.115437\n",
      "[3800]\tcv_agg's l1: 1.29879 + 0.11534\n",
      "[3900]\tcv_agg's l1: 1.2982 + 0.115312\n",
      "[4000]\tcv_agg's l1: 1.29719 + 0.115208\n",
      "[4100]\tcv_agg's l1: 1.29614 + 0.114893\n",
      "[4200]\tcv_agg's l1: 1.29552 + 0.11509\n",
      "[4300]\tcv_agg's l1: 1.29458 + 0.114954\n",
      "[4400]\tcv_agg's l1: 1.29402 + 0.114995\n",
      "[4500]\tcv_agg's l1: 1.29361 + 0.115133\n",
      "[4600]\tcv_agg's l1: 1.29328 + 0.114761\n",
      "[4700]\tcv_agg's l1: 1.29287 + 0.114719\n",
      "[4800]\tcv_agg's l1: 1.29178 + 0.114727\n",
      "[4900]\tcv_agg's l1: 1.29075 + 0.114678\n",
      "[5000]\tcv_agg's l1: 1.29024 + 0.114786\n",
      "[5100]\tcv_agg's l1: 1.28982 + 0.114689\n",
      "[5200]\tcv_agg's l1: 1.28924 + 0.114577\n",
      "[5300]\tcv_agg's l1: 1.28896 + 0.114631\n",
      "[5400]\tcv_agg's l1: 1.28868 + 0.114579\n",
      "Run done, took: 2.88 s\n",
      "Starting run 4\n",
      "{'bagging_fraction': 0.8, 'boosting': 'gbdt', 'feature_fraction': 0.8, 'learning_rate': 0.003, 'num_leaves': 500, 'num_threads': 4, 'objective': 'mae', 'verbose': -1}\n",
      "[100]\tcv_agg's l1: 5.01472 + 0.167575\n",
      "[200]\tcv_agg's l1: 4.2897 + 0.155656\n",
      "[300]\tcv_agg's l1: 3.67678 + 0.180377\n",
      "[400]\tcv_agg's l1: 3.1525 + 0.185367\n",
      "[500]\tcv_agg's l1: 2.75744 + 0.186805\n",
      "[600]\tcv_agg's l1: 2.4406 + 0.16883\n",
      "[700]\tcv_agg's l1: 2.19346 + 0.161607\n",
      "[800]\tcv_agg's l1: 1.99501 + 0.167965\n",
      "[900]\tcv_agg's l1: 1.83802 + 0.160439\n",
      "[1000]\tcv_agg's l1: 1.71364 + 0.152904\n",
      "[1100]\tcv_agg's l1: 1.62829 + 0.151925\n",
      "[1200]\tcv_agg's l1: 1.56388 + 0.149564\n",
      "[1300]\tcv_agg's l1: 1.51757 + 0.148726\n",
      "[1400]\tcv_agg's l1: 1.47905 + 0.146599\n"
     ]
    },
    {
     "name": "stdout",
     "output_type": "stream",
     "text": [
      "[1500]\tcv_agg's l1: 1.45124 + 0.144817\n",
      "[1600]\tcv_agg's l1: 1.42549 + 0.143489\n",
      "[1700]\tcv_agg's l1: 1.40349 + 0.140743\n",
      "[1800]\tcv_agg's l1: 1.38471 + 0.13701\n",
      "[1900]\tcv_agg's l1: 1.373 + 0.134178\n",
      "[2000]\tcv_agg's l1: 1.36412 + 0.132133\n",
      "[2100]\tcv_agg's l1: 1.35423 + 0.127839\n",
      "[2200]\tcv_agg's l1: 1.34666 + 0.127124\n",
      "[2300]\tcv_agg's l1: 1.33907 + 0.126548\n",
      "[2400]\tcv_agg's l1: 1.33266 + 0.125559\n",
      "[2500]\tcv_agg's l1: 1.32848 + 0.124839\n",
      "[2600]\tcv_agg's l1: 1.32483 + 0.123156\n",
      "[2700]\tcv_agg's l1: 1.32163 + 0.121953\n",
      "[2800]\tcv_agg's l1: 1.31842 + 0.120433\n",
      "[2900]\tcv_agg's l1: 1.31532 + 0.119549\n",
      "[3000]\tcv_agg's l1: 1.31229 + 0.118492\n",
      "[3100]\tcv_agg's l1: 1.30979 + 0.117412\n",
      "[3200]\tcv_agg's l1: 1.30801 + 0.117066\n",
      "[3300]\tcv_agg's l1: 1.30599 + 0.116951\n",
      "[3400]\tcv_agg's l1: 1.30422 + 0.116661\n",
      "[3500]\tcv_agg's l1: 1.30296 + 0.116348\n",
      "[3600]\tcv_agg's l1: 1.30119 + 0.115809\n",
      "[3700]\tcv_agg's l1: 1.30003 + 0.115437\n",
      "[3800]\tcv_agg's l1: 1.29879 + 0.11534\n",
      "[3900]\tcv_agg's l1: 1.2982 + 0.115312\n",
      "[4000]\tcv_agg's l1: 1.29719 + 0.115208\n",
      "[4100]\tcv_agg's l1: 1.29614 + 0.114893\n",
      "[4200]\tcv_agg's l1: 1.29552 + 0.11509\n",
      "[4300]\tcv_agg's l1: 1.29458 + 0.114954\n",
      "[4400]\tcv_agg's l1: 1.29402 + 0.114995\n",
      "[4500]\tcv_agg's l1: 1.29361 + 0.115133\n",
      "[4600]\tcv_agg's l1: 1.29328 + 0.114761\n",
      "[4700]\tcv_agg's l1: 1.29287 + 0.114719\n",
      "[4800]\tcv_agg's l1: 1.29178 + 0.114727\n",
      "[4900]\tcv_agg's l1: 1.29075 + 0.114678\n",
      "[5000]\tcv_agg's l1: 1.29024 + 0.114786\n",
      "[5100]\tcv_agg's l1: 1.28982 + 0.114689\n",
      "[5200]\tcv_agg's l1: 1.28924 + 0.114577\n",
      "[5300]\tcv_agg's l1: 1.28896 + 0.114631\n",
      "[5400]\tcv_agg's l1: 1.28868 + 0.114579\n",
      "Run done, took: 3.37 s\n",
      "Best params: ({'bagging_fraction': 0.8, 'boosting': 'gbdt', 'feature_fraction': 0.8, 'learning_rate': 0.003, 'num_leaves': 7, 'num_threads': 4, 'objective': 'mae', 'verbose': -1, 'optimal_number_of_trees': 6857}, 1.2179466160619368)\n",
      "Wall time: 12.2 s\n"
     ]
    }
   ],
   "source": [
    "%%time\n",
    "#chose features\n",
    "features_inner = [\"inCityTripDistance\",\"trip_distance\",\"duration\",\"ridesAtPickupHour\",\"avg_speed\"]\n",
    "features_outer = [\"outCityTripDistance\",\"trip_distance\",\"duration\",\"ridesAtPickupHour\",\"avg_speed\"]\n",
    "\n",
    "mixed_inner_train = code4data_mixed[features_inner]\n",
    "mixed_outer_train = code4data_mixed[features_outer]\n",
    "\n",
    "code4_model_inner = optimisedLGM(param_grid,mixed_inner_train,code4data_mixed[\"inCityFare\"])"
   ]
  },
  {
   "cell_type": "code",
   "execution_count": 135,
   "metadata": {
    "scrolled": true
   },
   "outputs": [
    {
     "name": "stdout",
     "output_type": "stream",
     "text": [
      "Total parameter combinations to run: 4\n",
      "Starting run 1\n",
      "{'bagging_fraction': 0.8, 'boosting': 'gbdt', 'feature_fraction': 0.8, 'learning_rate': 0.003, 'num_leaves': 7, 'num_threads': 4, 'objective': 'mae', 'verbose': -1}\n",
      "[100]\tcv_agg's l1: 13.8819 + 0.673597\n",
      "[200]\tcv_agg's l1: 11.5998 + 0.643569\n",
      "[300]\tcv_agg's l1: 9.81613 + 0.588666\n",
      "[400]\tcv_agg's l1: 8.48461 + 0.579412\n",
      "[500]\tcv_agg's l1: 7.49915 + 0.620362\n",
      "[600]\tcv_agg's l1: 6.75032 + 0.645286\n",
      "[700]\tcv_agg's l1: 6.1986 + 0.61576\n",
      "[800]\tcv_agg's l1: 5.7746 + 0.544325\n",
      "[900]\tcv_agg's l1: 5.45458 + 0.495912\n",
      "[1000]\tcv_agg's l1: 5.21871 + 0.459168\n",
      "[1100]\tcv_agg's l1: 5.08312 + 0.439076\n",
      "[1200]\tcv_agg's l1: 4.96882 + 0.413785\n",
      "[1300]\tcv_agg's l1: 4.89133 + 0.404617\n",
      "[1400]\tcv_agg's l1: 4.83741 + 0.391094\n",
      "[1500]\tcv_agg's l1: 4.80515 + 0.390523\n",
      "[1600]\tcv_agg's l1: 4.79141 + 0.389147\n",
      "[1700]\tcv_agg's l1: 4.77594 + 0.388564\n",
      "[1800]\tcv_agg's l1: 4.76067 + 0.388033\n",
      "[1900]\tcv_agg's l1: 4.74917 + 0.389618\n",
      "[2000]\tcv_agg's l1: 4.73482 + 0.392039\n",
      "[2100]\tcv_agg's l1: 4.72721 + 0.395851\n",
      "[2200]\tcv_agg's l1: 4.71945 + 0.396376\n",
      "[2300]\tcv_agg's l1: 4.71264 + 0.398269\n",
      "[2400]\tcv_agg's l1: 4.70777 + 0.397484\n",
      "[2500]\tcv_agg's l1: 4.70379 + 0.398372\n",
      "[2600]\tcv_agg's l1: 4.70085 + 0.399903\n",
      "[2700]\tcv_agg's l1: 4.69863 + 0.402781\n",
      "[2800]\tcv_agg's l1: 4.69788 + 0.404134\n",
      "[2900]\tcv_agg's l1: 4.69515 + 0.406181\n",
      "[3000]\tcv_agg's l1: 4.69473 + 0.407154\n",
      "[3100]\tcv_agg's l1: 4.69301 + 0.407645\n",
      "[3200]\tcv_agg's l1: 4.69044 + 0.407226\n",
      "[3300]\tcv_agg's l1: 4.68764 + 0.408591\n",
      "[3400]\tcv_agg's l1: 4.68626 + 0.409932\n",
      "[3500]\tcv_agg's l1: 4.68377 + 0.411001\n",
      "[3600]\tcv_agg's l1: 4.68382 + 0.411339\n",
      "Run done, took: 1.29 s\n",
      "Starting run 2\n",
      "{'bagging_fraction': 0.8, 'boosting': 'gbdt', 'feature_fraction': 0.8, 'learning_rate': 0.003, 'num_leaves': 31, 'num_threads': 4, 'objective': 'mae', 'verbose': -1}\n",
      "[100]\tcv_agg's l1: 13.7522 + 0.758473\n",
      "[200]\tcv_agg's l1: 11.3281 + 0.71884\n",
      "[300]\tcv_agg's l1: 9.46485 + 0.636437\n",
      "[400]\tcv_agg's l1: 8.11051 + 0.571308\n",
      "[500]\tcv_agg's l1: 7.14293 + 0.555885\n",
      "[600]\tcv_agg's l1: 6.4498 + 0.569343\n",
      "[700]\tcv_agg's l1: 5.94862 + 0.528366\n",
      "[800]\tcv_agg's l1: 5.59494 + 0.511582\n",
      "[900]\tcv_agg's l1: 5.34123 + 0.486754\n",
      "[1000]\tcv_agg's l1: 5.1639 + 0.465608\n",
      "[1100]\tcv_agg's l1: 5.04623 + 0.461986\n",
      "[1200]\tcv_agg's l1: 4.97064 + 0.462544\n",
      "[1300]\tcv_agg's l1: 4.92025 + 0.467208\n",
      "[1400]\tcv_agg's l1: 4.88098 + 0.46131\n",
      "[1500]\tcv_agg's l1: 4.8468 + 0.462042\n",
      "[1600]\tcv_agg's l1: 4.82356 + 0.459862\n",
      "[1700]\tcv_agg's l1: 4.80615 + 0.460319\n",
      "[1800]\tcv_agg's l1: 4.79341 + 0.459566\n",
      "[1900]\tcv_agg's l1: 4.78332 + 0.460669\n",
      "[2000]\tcv_agg's l1: 4.77325 + 0.457836\n",
      "[2100]\tcv_agg's l1: 4.76537 + 0.457642\n",
      "[2200]\tcv_agg's l1: 4.76059 + 0.457851\n",
      "[2300]\tcv_agg's l1: 4.75714 + 0.455592\n",
      "[2400]\tcv_agg's l1: 4.75205 + 0.455195\n",
      "[2500]\tcv_agg's l1: 4.74948 + 0.453517\n",
      "[2600]\tcv_agg's l1: 4.74707 + 0.453343\n",
      "[2700]\tcv_agg's l1: 4.74462 + 0.451826\n",
      "[2800]\tcv_agg's l1: 4.74143 + 0.452366\n",
      "[2900]\tcv_agg's l1: 4.73957 + 0.452804\n",
      "[3000]\tcv_agg's l1: 4.73683 + 0.451397\n",
      "[3100]\tcv_agg's l1: 4.73562 + 0.451789\n",
      "[3200]\tcv_agg's l1: 4.73455 + 0.451638\n",
      "Run done, took: 1.69 s\n",
      "Starting run 3\n",
      "{'bagging_fraction': 0.8, 'boosting': 'gbdt', 'feature_fraction': 0.8, 'learning_rate': 0.003, 'num_leaves': 150, 'num_threads': 4, 'objective': 'mae', 'verbose': -1}\n",
      "[100]\tcv_agg's l1: 13.7522 + 0.758473\n",
      "[200]\tcv_agg's l1: 11.3281 + 0.71884\n",
      "[300]\tcv_agg's l1: 9.46485 + 0.636437\n",
      "[400]\tcv_agg's l1: 8.11051 + 0.571308\n",
      "[500]\tcv_agg's l1: 7.14293 + 0.555885\n",
      "[600]\tcv_agg's l1: 6.4498 + 0.569343\n",
      "[700]\tcv_agg's l1: 5.94862 + 0.528366\n",
      "[800]\tcv_agg's l1: 5.59494 + 0.511582\n",
      "[900]\tcv_agg's l1: 5.34123 + 0.486754\n",
      "[1000]\tcv_agg's l1: 5.1639 + 0.465608\n",
      "[1100]\tcv_agg's l1: 5.04623 + 0.461986\n",
      "[1200]\tcv_agg's l1: 4.97064 + 0.462544\n",
      "[1300]\tcv_agg's l1: 4.92025 + 0.467208\n",
      "[1400]\tcv_agg's l1: 4.88098 + 0.46131\n",
      "[1500]\tcv_agg's l1: 4.8468 + 0.462042\n",
      "[1600]\tcv_agg's l1: 4.82356 + 0.459862\n",
      "[1700]\tcv_agg's l1: 4.80615 + 0.460319\n",
      "[1800]\tcv_agg's l1: 4.79341 + 0.459566\n",
      "[1900]\tcv_agg's l1: 4.78332 + 0.460669\n",
      "[2000]\tcv_agg's l1: 4.77325 + 0.457836\n",
      "[2100]\tcv_agg's l1: 4.76537 + 0.457642\n",
      "[2200]\tcv_agg's l1: 4.76059 + 0.457851\n",
      "[2300]\tcv_agg's l1: 4.75714 + 0.455592\n",
      "[2400]\tcv_agg's l1: 4.75205 + 0.455195\n",
      "[2500]\tcv_agg's l1: 4.74948 + 0.453517\n",
      "[2600]\tcv_agg's l1: 4.74707 + 0.453343\n",
      "[2700]\tcv_agg's l1: 4.74462 + 0.451826\n",
      "[2800]\tcv_agg's l1: 4.74143 + 0.452366\n",
      "[2900]\tcv_agg's l1: 4.73957 + 0.452804\n",
      "[3000]\tcv_agg's l1: 4.73683 + 0.451397\n",
      "[3100]\tcv_agg's l1: 4.73562 + 0.451789\n",
      "[3200]\tcv_agg's l1: 4.73455 + 0.451638\n",
      "Run done, took: 1.83 s\n",
      "Starting run 4\n",
      "{'bagging_fraction': 0.8, 'boosting': 'gbdt', 'feature_fraction': 0.8, 'learning_rate': 0.003, 'num_leaves': 500, 'num_threads': 4, 'objective': 'mae', 'verbose': -1}\n",
      "[100]\tcv_agg's l1: 13.7522 + 0.758473\n",
      "[200]\tcv_agg's l1: 11.3281 + 0.71884\n",
      "[300]\tcv_agg's l1: 9.46485 + 0.636437\n",
      "[400]\tcv_agg's l1: 8.11051 + 0.571308\n",
      "[500]\tcv_agg's l1: 7.14293 + 0.555885\n",
      "[600]\tcv_agg's l1: 6.4498 + 0.569343\n",
      "[700]\tcv_agg's l1: 5.94862 + 0.528366\n",
      "[800]\tcv_agg's l1: 5.59494 + 0.511582\n",
      "[900]\tcv_agg's l1: 5.34123 + 0.486754\n",
      "[1000]\tcv_agg's l1: 5.1639 + 0.465608\n",
      "[1100]\tcv_agg's l1: 5.04623 + 0.461986\n",
      "[1200]\tcv_agg's l1: 4.97064 + 0.462544\n",
      "[1300]\tcv_agg's l1: 4.92025 + 0.467208\n",
      "[1400]\tcv_agg's l1: 4.88098 + 0.46131\n",
      "[1500]\tcv_agg's l1: 4.8468 + 0.462042\n",
      "[1600]\tcv_agg's l1: 4.82356 + 0.459862\n",
      "[1700]\tcv_agg's l1: 4.80615 + 0.460319\n",
      "[1800]\tcv_agg's l1: 4.79341 + 0.459566\n",
      "[1900]\tcv_agg's l1: 4.78332 + 0.460669\n",
      "[2000]\tcv_agg's l1: 4.77325 + 0.457836\n",
      "[2100]\tcv_agg's l1: 4.76537 + 0.457642\n",
      "[2200]\tcv_agg's l1: 4.76059 + 0.457851\n",
      "[2300]\tcv_agg's l1: 4.75714 + 0.455592\n",
      "[2400]\tcv_agg's l1: 4.75205 + 0.455195\n",
      "[2500]\tcv_agg's l1: 4.74948 + 0.453517\n",
      "[2600]\tcv_agg's l1: 4.74707 + 0.453343\n",
      "[2700]\tcv_agg's l1: 4.74462 + 0.451826\n",
      "[2800]\tcv_agg's l1: 4.74143 + 0.452366\n",
      "[2900]\tcv_agg's l1: 4.73957 + 0.452804\n",
      "[3000]\tcv_agg's l1: 4.73683 + 0.451397\n",
      "[3100]\tcv_agg's l1: 4.73562 + 0.451789\n",
      "[3200]\tcv_agg's l1: 4.73455 + 0.451638\n",
      "Run done, took: 2.02 s\n",
      "Best params: ({'bagging_fraction': 0.8, 'boosting': 'gbdt', 'feature_fraction': 0.8, 'learning_rate': 0.003, 'num_leaves': 7, 'num_threads': 4, 'objective': 'mae', 'verbose': -1, 'optimal_number_of_trees': 3586}, 4.683719740308034)\n",
      "Wall time: 7.28 s\n"
     ]
    }
   ],
   "source": [
    "%%time\n",
    "code4_model_outer = optimisedLGM(param_grid,mixed_outer_train,code4data_mixed[\"outCityFare\"])"
   ]
  },
  {
   "cell_type": "code",
   "execution_count": 144,
   "metadata": {
    "scrolled": true
   },
   "outputs": [
    {
     "name": "stdout",
     "output_type": "stream",
     "text": [
      "Total parameter combinations to run: 4\n",
      "Starting run 1\n",
      "{'bagging_fraction': 0.8, 'boosting': 'gbdt', 'feature_fraction': 0.8, 'learning_rate': 0.003, 'num_leaves': 7, 'num_threads': 4, 'objective': 'mae', 'verbose': -1}\n",
      "[100]\tcv_agg's l1: 12.8207 + 0.77534\n",
      "[200]\tcv_agg's l1: 10.8126 + 0.774569\n",
      "[300]\tcv_agg's l1: 9.29681 + 0.811451\n",
      "[400]\tcv_agg's l1: 8.12364 + 0.759135\n",
      "[500]\tcv_agg's l1: 7.22069 + 0.703025\n",
      "[600]\tcv_agg's l1: 6.61598 + 0.617655\n",
      "[700]\tcv_agg's l1: 6.17912 + 0.544174\n",
      "[800]\tcv_agg's l1: 5.90933 + 0.506433\n",
      "[900]\tcv_agg's l1: 5.73374 + 0.493065\n",
      "[1000]\tcv_agg's l1: 5.61646 + 0.494757\n",
      "[1100]\tcv_agg's l1: 5.54355 + 0.502494\n",
      "[1200]\tcv_agg's l1: 5.48732 + 0.510434\n",
      "[1300]\tcv_agg's l1: 5.43573 + 0.509378\n",
      "[1400]\tcv_agg's l1: 5.39822 + 0.506342\n",
      "[1500]\tcv_agg's l1: 5.36806 + 0.500143\n",
      "[1600]\tcv_agg's l1: 5.35079 + 0.499336\n",
      "[1700]\tcv_agg's l1: 5.33793 + 0.497725\n",
      "[1800]\tcv_agg's l1: 5.33288 + 0.499886\n",
      "[1900]\tcv_agg's l1: 5.32992 + 0.502854\n",
      "[2000]\tcv_agg's l1: 5.32349 + 0.504321\n",
      "[2100]\tcv_agg's l1: 5.31943 + 0.504778\n",
      "[2200]\tcv_agg's l1: 5.3155 + 0.508021\n",
      "[2300]\tcv_agg's l1: 5.31235 + 0.509754\n",
      "[2400]\tcv_agg's l1: 5.31124 + 0.510431\n",
      "Run done, took: 0.86 s\n",
      "Starting run 2\n",
      "{'bagging_fraction': 0.8, 'boosting': 'gbdt', 'feature_fraction': 0.8, 'learning_rate': 0.003, 'num_leaves': 31, 'num_threads': 4, 'objective': 'mae', 'verbose': -1}\n",
      "[100]\tcv_agg's l1: 12.573 + 0.671535\n",
      "[200]\tcv_agg's l1: 10.3664 + 0.563716\n",
      "[300]\tcv_agg's l1: 8.79087 + 0.530131\n",
      "[400]\tcv_agg's l1: 7.62549 + 0.520724\n",
      "[500]\tcv_agg's l1: 6.83061 + 0.50752\n",
      "[600]\tcv_agg's l1: 6.32762 + 0.471861\n",
      "[700]\tcv_agg's l1: 5.98524 + 0.465352\n",
      "[800]\tcv_agg's l1: 5.78469 + 0.464865\n",
      "[900]\tcv_agg's l1: 5.65125 + 0.47397\n",
      "[1000]\tcv_agg's l1: 5.55878 + 0.475888\n",
      "[1100]\tcv_agg's l1: 5.50011 + 0.477405\n",
      "[1200]\tcv_agg's l1: 5.44659 + 0.471918\n",
      "[1300]\tcv_agg's l1: 5.405 + 0.466951\n",
      "[1400]\tcv_agg's l1: 5.37941 + 0.463487\n",
      "[1500]\tcv_agg's l1: 5.36112 + 0.462058\n",
      "[1600]\tcv_agg's l1: 5.34731 + 0.461432\n",
      "[1700]\tcv_agg's l1: 5.33747 + 0.461389\n",
      "[1800]\tcv_agg's l1: 5.33057 + 0.461716\n",
      "[1900]\tcv_agg's l1: 5.32408 + 0.462373\n",
      "[2000]\tcv_agg's l1: 5.31826 + 0.463916\n",
      "[2100]\tcv_agg's l1: 5.31506 + 0.466434\n",
      "[2200]\tcv_agg's l1: 5.31332 + 0.4703\n",
      "Run done, took: 1.11 s\n",
      "Starting run 3\n",
      "{'bagging_fraction': 0.8, 'boosting': 'gbdt', 'feature_fraction': 0.8, 'learning_rate': 0.003, 'num_leaves': 150, 'num_threads': 4, 'objective': 'mae', 'verbose': -1}\n",
      "[100]\tcv_agg's l1: 12.573 + 0.671535\n",
      "[200]\tcv_agg's l1: 10.3664 + 0.563716\n",
      "[300]\tcv_agg's l1: 8.79087 + 0.530131\n",
      "[400]\tcv_agg's l1: 7.62549 + 0.520724\n",
      "[500]\tcv_agg's l1: 6.83061 + 0.50752\n",
      "[600]\tcv_agg's l1: 6.32762 + 0.471861\n",
      "[700]\tcv_agg's l1: 5.98524 + 0.465352\n",
      "[800]\tcv_agg's l1: 5.78469 + 0.464865\n",
      "[900]\tcv_agg's l1: 5.65125 + 0.47397\n",
      "[1000]\tcv_agg's l1: 5.55878 + 0.475888\n",
      "[1100]\tcv_agg's l1: 5.50011 + 0.477405\n",
      "[1200]\tcv_agg's l1: 5.44659 + 0.471918\n",
      "[1300]\tcv_agg's l1: 5.405 + 0.466951\n",
      "[1400]\tcv_agg's l1: 5.37941 + 0.463487\n",
      "[1500]\tcv_agg's l1: 5.36112 + 0.462058\n",
      "[1600]\tcv_agg's l1: 5.34731 + 0.461432\n",
      "[1700]\tcv_agg's l1: 5.33747 + 0.461389\n",
      "[1800]\tcv_agg's l1: 5.33057 + 0.461716\n",
      "[1900]\tcv_agg's l1: 5.32408 + 0.462373\n",
      "[2000]\tcv_agg's l1: 5.31826 + 0.463916\n",
      "[2100]\tcv_agg's l1: 5.31506 + 0.466434\n",
      "[2200]\tcv_agg's l1: 5.31332 + 0.4703\n",
      "Run done, took: 1.19 s\n",
      "Starting run 4\n",
      "{'bagging_fraction': 0.8, 'boosting': 'gbdt', 'feature_fraction': 0.8, 'learning_rate': 0.003, 'num_leaves': 500, 'num_threads': 4, 'objective': 'mae', 'verbose': -1}\n",
      "[100]\tcv_agg's l1: 12.573 + 0.671535\n",
      "[200]\tcv_agg's l1: 10.3664 + 0.563716\n",
      "[300]\tcv_agg's l1: 8.79087 + 0.530131\n",
      "[400]\tcv_agg's l1: 7.62549 + 0.520724\n",
      "[500]\tcv_agg's l1: 6.83061 + 0.50752\n",
      "[600]\tcv_agg's l1: 6.32762 + 0.471861\n",
      "[700]\tcv_agg's l1: 5.98524 + 0.465352\n",
      "[800]\tcv_agg's l1: 5.78469 + 0.464865\n",
      "[900]\tcv_agg's l1: 5.65125 + 0.47397\n",
      "[1000]\tcv_agg's l1: 5.55878 + 0.475888\n",
      "[1100]\tcv_agg's l1: 5.50011 + 0.477405\n",
      "[1200]\tcv_agg's l1: 5.44659 + 0.471918\n",
      "[1300]\tcv_agg's l1: 5.405 + 0.466951\n",
      "[1400]\tcv_agg's l1: 5.37941 + 0.463487\n",
      "[1500]\tcv_agg's l1: 5.36112 + 0.462058\n",
      "[1600]\tcv_agg's l1: 5.34731 + 0.461432\n",
      "[1700]\tcv_agg's l1: 5.33747 + 0.461389\n",
      "[1800]\tcv_agg's l1: 5.33057 + 0.461716\n",
      "[1900]\tcv_agg's l1: 5.32408 + 0.462373\n",
      "[2000]\tcv_agg's l1: 5.31826 + 0.463916\n",
      "[2100]\tcv_agg's l1: 5.31506 + 0.466434\n",
      "[2200]\tcv_agg's l1: 5.31332 + 0.4703\n",
      "Run done, took: 1.36 s\n",
      "Best params: ({'bagging_fraction': 0.8, 'boosting': 'gbdt', 'feature_fraction': 0.8, 'learning_rate': 0.003, 'num_leaves': 7, 'num_threads': 4, 'objective': 'mae', 'verbose': -1, 'optimal_number_of_trees': 2372}, 5.311196804592189)\n",
      "Wall time: 4.78 s\n"
     ]
    }
   ],
   "source": [
    "%%time\n",
    "features_combined = [\"inCityTripDistance\",\"inCityTripDistanceExtreme\",\"outCityTripDistance\",\"outCityTripDistanceExtreme\",\"duration\",\"trip_distance\",\"ridesAtPickupHour\",\"avg_speed\"]\n",
    "code4_model_combined = optimisedLGM(param_grid,code4data_mixed[features_combined],code4data_mixed[\"fare_amount\"]-2.5)"
   ]
  },
  {
   "cell_type": "code",
   "execution_count": 143,
   "metadata": {},
   "outputs": [
    {
     "data": {
      "text/plain": [
       "<matplotlib.axes._subplots.AxesSubplot at 0x28010bfa208>"
      ]
     },
     "execution_count": 143,
     "metadata": {},
     "output_type": "execute_result"
    },
    {
     "data": {
      "image/png": "[encoded data removed]",
      "text/plain": [
       "<matplotlib.figure.Figure at 0x28010860748>"
      ]
     },
     "metadata": {},
     "output_type": "display_data"
    }
   ],
   "source": [
    "lgb.plot_importance(code4_model_combined, max_num_features=10)"
   ]
  },
  {
   "cell_type": "code",
   "execution_count": 138,
   "metadata": {
    "scrolled": true
   },
   "outputs": [
    {
     "name": "stdout",
     "output_type": "stream",
     "text": [
      "Total parameter combinations to run: 4\n",
      "Starting run 1\n",
      "{'bagging_fraction': 0.8, 'boosting': 'gbdt', 'feature_fraction': 0.8, 'learning_rate': 0.003, 'num_leaves': 7, 'num_threads': 4, 'objective': 'mae', 'verbose': -1}\n",
      "[100]\tcv_agg's l1: 15.0969 + 0.221722\n",
      "[200]\tcv_agg's l1: 12.2351 + 0.183668\n",
      "[300]\tcv_agg's l1: 10.2667 + 0.168953\n",
      "[400]\tcv_agg's l1: 8.87636 + 0.131502\n",
      "[500]\tcv_agg's l1: 7.96488 + 0.117905\n",
      "[600]\tcv_agg's l1: 7.33587 + 0.115661\n",
      "[700]\tcv_agg's l1: 6.90866 + 0.109483\n",
      "[800]\tcv_agg's l1: 6.61073 + 0.111782\n",
      "[900]\tcv_agg's l1: 6.37135 + 0.112638\n",
      "[1000]\tcv_agg's l1: 6.1558 + 0.129957\n",
      "[1100]\tcv_agg's l1: 5.99967 + 0.143005\n",
      "[1200]\tcv_agg's l1: 5.87873 + 0.156938\n",
      "[1300]\tcv_agg's l1: 5.80149 + 0.158835\n",
      "[1400]\tcv_agg's l1: 5.75154 + 0.157909\n",
      "[1500]\tcv_agg's l1: 5.71766 + 0.155713\n",
      "[1600]\tcv_agg's l1: 5.69701 + 0.154408\n",
      "[1700]\tcv_agg's l1: 5.68206 + 0.152427\n",
      "[1800]\tcv_agg's l1: 5.67332 + 0.153444\n",
      "[1900]\tcv_agg's l1: 5.66863 + 0.154106\n",
      "[2000]\tcv_agg's l1: 5.66498 + 0.152577\n",
      "[2100]\tcv_agg's l1: 5.6627 + 0.151504\n",
      "[2200]\tcv_agg's l1: 5.66095 + 0.152214\n",
      "[2300]\tcv_agg's l1: 5.65637 + 0.153433\n",
      "[2400]\tcv_agg's l1: 5.6544 + 0.153525\n",
      "[2500]\tcv_agg's l1: 5.65348 + 0.152845\n",
      "[2600]\tcv_agg's l1: 5.65204 + 0.153147\n",
      "[2700]\tcv_agg's l1: 5.64998 + 0.153736\n",
      "[2800]\tcv_agg's l1: 5.64819 + 0.153989\n",
      "[2900]\tcv_agg's l1: 5.64588 + 0.153977\n",
      "[3000]\tcv_agg's l1: 5.64424 + 0.152928\n",
      "[3100]\tcv_agg's l1: 5.64367 + 0.153395\n",
      "[3200]\tcv_agg's l1: 5.64213 + 0.153808\n",
      "[3300]\tcv_agg's l1: 5.64159 + 0.153852\n",
      "Run done, took: 1.72 s\n",
      "Starting run 2\n",
      "{'bagging_fraction': 0.8, 'boosting': 'gbdt', 'feature_fraction': 0.8, 'learning_rate': 0.003, 'num_leaves': 31, 'num_threads': 4, 'objective': 'mae', 'verbose': -1}\n",
      "[100]\tcv_agg's l1: 14.881 + 0.201852\n",
      "[200]\tcv_agg's l1: 11.9234 + 0.190737\n",
      "[300]\tcv_agg's l1: 9.89407 + 0.164632\n",
      "[400]\tcv_agg's l1: 8.53628 + 0.140642\n",
      "[500]\tcv_agg's l1: 7.64203 + 0.121305\n",
      "[600]\tcv_agg's l1: 7.03898 + 0.102123\n",
      "[700]\tcv_agg's l1: 6.63226 + 0.103403\n",
      "[800]\tcv_agg's l1: 6.3301 + 0.114101\n",
      "[900]\tcv_agg's l1: 6.09283 + 0.133907\n",
      "[1000]\tcv_agg's l1: 5.9251 + 0.151582\n",
      "[1100]\tcv_agg's l1: 5.81014 + 0.164473\n",
      "[1200]\tcv_agg's l1: 5.73863 + 0.167004\n",
      "[1300]\tcv_agg's l1: 5.69282 + 0.167247\n",
      "[1400]\tcv_agg's l1: 5.66323 + 0.162196\n",
      "[1500]\tcv_agg's l1: 5.64566 + 0.159762\n",
      "[1600]\tcv_agg's l1: 5.63501 + 0.159378\n",
      "[1700]\tcv_agg's l1: 5.6293 + 0.157411\n",
      "[1800]\tcv_agg's l1: 5.62716 + 0.154045\n",
      "[1900]\tcv_agg's l1: 5.62664 + 0.152315\n",
      "Run done, took: 2.38 s\n",
      "Starting run 3\n",
      "{'bagging_fraction': 0.8, 'boosting': 'gbdt', 'feature_fraction': 0.8, 'learning_rate': 0.003, 'num_leaves': 150, 'num_threads': 4, 'objective': 'mae', 'verbose': -1}\n",
      "[100]\tcv_agg's l1: 14.8558 + 0.199873\n",
      "[200]\tcv_agg's l1: 11.8384 + 0.172673\n",
      "[300]\tcv_agg's l1: 9.77707 + 0.122583\n",
      "[400]\tcv_agg's l1: 8.38402 + 0.105045\n",
      "[500]\tcv_agg's l1: 7.43561 + 0.130614\n",
      "[600]\tcv_agg's l1: 6.79354 + 0.152195\n",
      "[700]\tcv_agg's l1: 6.38212 + 0.166532\n",
      "[800]\tcv_agg's l1: 6.11444 + 0.178997\n",
      "[900]\tcv_agg's l1: 5.94643 + 0.178362\n",
      "[1000]\tcv_agg's l1: 5.84203 + 0.177114\n",
      "[1100]\tcv_agg's l1: 5.78099 + 0.173426\n",
      "[1200]\tcv_agg's l1: 5.74782 + 0.16958\n",
      "[1300]\tcv_agg's l1: 5.72951 + 0.165239\n",
      "[1400]\tcv_agg's l1: 5.71825 + 0.162822\n",
      "[1500]\tcv_agg's l1: 5.71515 + 0.16108\n",
      "[1600]\tcv_agg's l1: 5.71515 + 0.159679\n",
      "Run done, took: 3.71 s\n",
      "Starting run 4\n",
      "{'bagging_fraction': 0.8, 'boosting': 'gbdt', 'feature_fraction': 0.8, 'learning_rate': 0.003, 'num_leaves': 500, 'num_threads': 4, 'objective': 'mae', 'verbose': -1}\n",
      "[100]\tcv_agg's l1: 14.8558 + 0.199873\n",
      "[200]\tcv_agg's l1: 11.8384 + 0.172673\n",
      "[300]\tcv_agg's l1: 9.77707 + 0.122583\n",
      "[400]\tcv_agg's l1: 8.38402 + 0.105045\n",
      "[500]\tcv_agg's l1: 7.43561 + 0.130614\n",
      "[600]\tcv_agg's l1: 6.79354 + 0.152195\n",
      "[700]\tcv_agg's l1: 6.38212 + 0.166532\n",
      "[800]\tcv_agg's l1: 6.11444 + 0.178997\n",
      "[900]\tcv_agg's l1: 5.94643 + 0.178362\n",
      "[1000]\tcv_agg's l1: 5.84203 + 0.177114\n",
      "[1100]\tcv_agg's l1: 5.78099 + 0.173426\n",
      "[1200]\tcv_agg's l1: 5.74782 + 0.16958\n",
      "[1300]\tcv_agg's l1: 5.72951 + 0.165239\n",
      "[1400]\tcv_agg's l1: 5.71825 + 0.162822\n",
      "[1500]\tcv_agg's l1: 5.71515 + 0.16108\n",
      "[1600]\tcv_agg's l1: 5.71515 + 0.159679\n",
      "Run done, took: 4.27 s\n",
      "Best params: ({'bagging_fraction': 0.8, 'boosting': 'gbdt', 'feature_fraction': 0.8, 'learning_rate': 0.003, 'num_leaves': 31, 'num_threads': 4, 'objective': 'mae', 'verbose': -1, 'optimal_number_of_trees': 1879}, 5.626131480149358)\n"
     ]
    }
   ],
   "source": [
    "features_all = [\"trip_distance\",\"duration\",\"avg_speed\",\"ridesAtPickupHour\"]\n",
    "code4_model_all = optimisedLGM(param_grid,code4data[features_all],code4data[\"fare_amount\"]-2.5)"
   ]
  },
  {
   "cell_type": "code",
   "execution_count": 139,
   "metadata": {},
   "outputs": [
    {
     "data": {
      "text/plain": [
       "<matplotlib.axes._subplots.AxesSubplot at 0x28067513dd8>"
      ]
     },
     "execution_count": 139,
     "metadata": {},
     "output_type": "execute_result"
    },
    {
     "data": {
      "image/png": "[encoded data removed]",
      "text/plain": [
       "<matplotlib.figure.Figure at 0x280687876a0>"
      ]
     },
     "metadata": {},
     "output_type": "display_data"
    }
   ],
   "source": [
    "lgb.plot_importance(code4_model_all, max_num_features=10)"
   ]
  },
  {
   "cell_type": "markdown",
   "metadata": {},
   "source": [
    "Next: model for outer trips.\n"
   ]
  },
  {
   "cell_type": "code",
   "execution_count": 140,
   "metadata": {
    "scrolled": true
   },
   "outputs": [
    {
     "name": "stdout",
     "output_type": "stream",
     "text": [
      "Total parameter combinations to run: 4\n",
      "Starting run 1\n",
      "{'bagging_fraction': 0.8, 'boosting': 'gbdt', 'feature_fraction': 0.8, 'learning_rate': 0.003, 'num_leaves': 7, 'num_threads': 4, 'objective': 'mae', 'verbose': -1}\n",
      "[100]\tcv_agg's l1: 14.7457 + 0.0830258\n",
      "[200]\tcv_agg's l1: 11.9341 + 0.0840208\n",
      "[300]\tcv_agg's l1: 9.99401 + 0.0793567\n",
      "[400]\tcv_agg's l1: 8.64569 + 0.0847402\n",
      "[500]\tcv_agg's l1: 7.68464 + 0.0982453\n",
      "[600]\tcv_agg's l1: 7.03533 + 0.108579\n",
      "[700]\tcv_agg's l1: 6.57814 + 0.109428\n",
      "[800]\tcv_agg's l1: 6.26196 + 0.10882\n",
      "[900]\tcv_agg's l1: 6.03112 + 0.115224\n",
      "[1000]\tcv_agg's l1: 5.87362 + 0.122457\n",
      "[1100]\tcv_agg's l1: 5.759 + 0.121342\n",
      "[1200]\tcv_agg's l1: 5.66605 + 0.121447\n",
      "[1300]\tcv_agg's l1: 5.60034 + 0.125407\n",
      "[1400]\tcv_agg's l1: 5.55095 + 0.129087\n",
      "[1500]\tcv_agg's l1: 5.5154 + 0.130759\n",
      "[1600]\tcv_agg's l1: 5.48865 + 0.133445\n",
      "[1700]\tcv_agg's l1: 5.47144 + 0.134403\n",
      "[1800]\tcv_agg's l1: 5.45739 + 0.135959\n",
      "[1900]\tcv_agg's l1: 5.44833 + 0.139659\n",
      "[2000]\tcv_agg's l1: 5.44383 + 0.14003\n",
      "[2100]\tcv_agg's l1: 5.44076 + 0.138838\n",
      "[2200]\tcv_agg's l1: 5.43824 + 0.139501\n",
      "[2300]\tcv_agg's l1: 5.4359 + 0.140391\n",
      "[2400]\tcv_agg's l1: 5.43262 + 0.14067\n",
      "[2500]\tcv_agg's l1: 5.43075 + 0.140365\n",
      "[2600]\tcv_agg's l1: 5.42919 + 0.138476\n",
      "[2700]\tcv_agg's l1: 5.42842 + 0.137879\n",
      "Run done, took: 1.38 s\n",
      "Starting run 2\n",
      "{'bagging_fraction': 0.8, 'boosting': 'gbdt', 'feature_fraction': 0.8, 'learning_rate': 0.003, 'num_leaves': 31, 'num_threads': 4, 'objective': 'mae', 'verbose': -1}\n",
      "[100]\tcv_agg's l1: 14.5389 + 0.083336\n",
      "[200]\tcv_agg's l1: 11.6201 + 0.0617722\n",
      "[300]\tcv_agg's l1: 9.59866 + 0.067906\n",
      "[400]\tcv_agg's l1: 8.26804 + 0.0934685\n",
      "[500]\tcv_agg's l1: 7.37556 + 0.119273\n",
      "[600]\tcv_agg's l1: 6.77416 + 0.125998\n",
      "[700]\tcv_agg's l1: 6.35929 + 0.119195\n",
      "[800]\tcv_agg's l1: 6.08064 + 0.117994\n",
      "[900]\tcv_agg's l1: 5.88156 + 0.12394\n",
      "[1000]\tcv_agg's l1: 5.74192 + 0.13256\n",
      "[1100]\tcv_agg's l1: 5.64702 + 0.136416\n",
      "[1200]\tcv_agg's l1: 5.57901 + 0.135437\n",
      "[1300]\tcv_agg's l1: 5.53219 + 0.138315\n",
      "[1400]\tcv_agg's l1: 5.50097 + 0.140665\n",
      "[1500]\tcv_agg's l1: 5.47825 + 0.143228\n",
      "[1600]\tcv_agg's l1: 5.46257 + 0.144251\n",
      "[1700]\tcv_agg's l1: 5.45241 + 0.145455\n",
      "[1800]\tcv_agg's l1: 5.44637 + 0.145574\n",
      "[1900]\tcv_agg's l1: 5.44252 + 0.146856\n",
      "[2000]\tcv_agg's l1: 5.44069 + 0.147027\n",
      "Run done, took: 2.39 s\n",
      "Starting run 3\n",
      "{'bagging_fraction': 0.8, 'boosting': 'gbdt', 'feature_fraction': 0.8, 'learning_rate': 0.003, 'num_leaves': 150, 'num_threads': 4, 'objective': 'mae', 'verbose': -1}\n",
      "[100]\tcv_agg's l1: 14.5256 + 0.0836189\n",
      "[200]\tcv_agg's l1: 11.5777 + 0.0669578\n",
      "[300]\tcv_agg's l1: 9.55066 + 0.080422\n",
      "[400]\tcv_agg's l1: 8.22394 + 0.114409\n",
      "[500]\tcv_agg's l1: 7.34011 + 0.137763\n",
      "[600]\tcv_agg's l1: 6.75006 + 0.132501\n",
      "[700]\tcv_agg's l1: 6.33769 + 0.124581\n",
      "[800]\tcv_agg's l1: 6.05869 + 0.125397\n",
      "[900]\tcv_agg's l1: 5.85647 + 0.128898\n",
      "[1000]\tcv_agg's l1: 5.72626 + 0.130774\n",
      "[1100]\tcv_agg's l1: 5.63865 + 0.133744\n",
      "[1200]\tcv_agg's l1: 5.58011 + 0.134943\n",
      "[1300]\tcv_agg's l1: 5.5441 + 0.135138\n",
      "[1400]\tcv_agg's l1: 5.51941 + 0.133195\n",
      "[1500]\tcv_agg's l1: 5.50571 + 0.130866\n",
      "[1600]\tcv_agg's l1: 5.49804 + 0.130334\n",
      "[1700]\tcv_agg's l1: 5.49449 + 0.129499\n",
      "[1800]\tcv_agg's l1: 5.4924 + 0.129577\n",
      "[1900]\tcv_agg's l1: 5.49138 + 0.130037\n",
      "Run done, took: 3.64 s\n",
      "Starting run 4\n",
      "{'bagging_fraction': 0.8, 'boosting': 'gbdt', 'feature_fraction': 0.8, 'learning_rate': 0.003, 'num_leaves': 500, 'num_threads': 4, 'objective': 'mae', 'verbose': -1}\n",
      "[100]\tcv_agg's l1: 14.5256 + 0.0836189\n",
      "[200]\tcv_agg's l1: 11.5777 + 0.0669578\n",
      "[300]\tcv_agg's l1: 9.55066 + 0.080422\n",
      "[400]\tcv_agg's l1: 8.22394 + 0.114409\n",
      "[500]\tcv_agg's l1: 7.34011 + 0.137763\n",
      "[600]\tcv_agg's l1: 6.75006 + 0.132501\n",
      "[700]\tcv_agg's l1: 6.33769 + 0.124581\n",
      "[800]\tcv_agg's l1: 6.05869 + 0.125397\n",
      "[900]\tcv_agg's l1: 5.85647 + 0.128898\n",
      "[1000]\tcv_agg's l1: 5.72626 + 0.130774\n",
      "[1100]\tcv_agg's l1: 5.63865 + 0.133744\n",
      "[1200]\tcv_agg's l1: 5.58011 + 0.134943\n",
      "[1300]\tcv_agg's l1: 5.5441 + 0.135138\n",
      "[1400]\tcv_agg's l1: 5.51941 + 0.133195\n",
      "[1500]\tcv_agg's l1: 5.50571 + 0.130866\n",
      "[1600]\tcv_agg's l1: 5.49804 + 0.130334\n",
      "[1700]\tcv_agg's l1: 5.49449 + 0.129499\n",
      "[1800]\tcv_agg's l1: 5.4924 + 0.129577\n",
      "[1900]\tcv_agg's l1: 5.49138 + 0.130037\n",
      "Run done, took: 4.21 s\n",
      "Best params: ({'bagging_fraction': 0.8, 'boosting': 'gbdt', 'feature_fraction': 0.8, 'learning_rate': 0.003, 'num_leaves': 7, 'num_threads': 4, 'objective': 'mae', 'verbose': -1, 'optimal_number_of_trees': 2748}, 5.428032220326767)\n",
      "Wall time: 12 s\n"
     ]
    }
   ],
   "source": [
    "%%time\n",
    "# make train set\n",
    "features = [\"passenger_count\",\"trip_distance\",\"payment_type\",\"duration\",\"ridesAtPickupHour\",\"avg_speed\"]\n",
    "\n",
    "code4_model_out = optimisedLGM(param_grid,code4data_out[features],code4data_out[\"fare_amount\"]-2.5)"
   ]
  },
  {
   "cell_type": "code",
   "execution_count": 141,
   "metadata": {},
   "outputs": [
    {
     "data": {
      "text/plain": [
       "<matplotlib.axes._subplots.AxesSubplot at 0x28010d080b8>"
      ]
     },
     "execution_count": 141,
     "metadata": {},
     "output_type": "execute_result"
    },
    {
     "data": {
      "image/png": "[encoded data removed]",
      "text/plain": [
       "<matplotlib.figure.Figure at 0x2805bfa2e80>"
      ]
     },
     "metadata": {},
     "output_type": "display_data"
    }
   ],
   "source": [
    "lgb.plot_importance(code4_model_out, max_num_features=10)"
   ]
  },
  {
   "cell_type": "markdown",
   "metadata": {},
   "source": [
    "## Prediction"
   ]
  },
  {
   "cell_type": "code",
   "execution_count": 78,
   "metadata": {},
   "outputs": [],
   "source": [
    "#apply to test set\n",
    "code4test[\"endsInManhattan\"] = code4test.apply(lambda x : inArea(manhattan_cords,x[\"dropoff_latitude\"],x[\"dropoff_longitude\"]),axis=1)\n",
    "code4test[\"startsInManhattan\"] = code4test.apply(lambda x : inArea(manhattan_cords,x[\"pickup_latitude\"],x[\"pickup_longitude\"]),axis=1)"
   ]
  },
  {
   "cell_type": "markdown",
   "metadata": {},
   "source": [
    "We have four possible trip patterns:\n",
    "    1. starts in city, ends in city --> should not have ratecode 4 -> outlier, ignore\n",
    "    2. starts in city, ends out of city -> standard trip\n",
    "    3. starts out of city, ends out of city -> no calculations to be done here, use double rate for whole trip\n",
    "    4. starts out of city, ends in city -> reverse standard trip"
   ]
  },
  {
   "cell_type": "code",
   "execution_count": 79,
   "metadata": {},
   "outputs": [
    {
     "data": {
      "text/plain": [
       "(1000, 22)"
      ]
     },
     "execution_count": 79,
     "metadata": {},
     "output_type": "execute_result"
    }
   ],
   "source": [
    "np.shape(code4test)"
   ]
  },
  {
   "cell_type": "code",
   "execution_count": 80,
   "metadata": {},
   "outputs": [
    {
     "data": {
      "text/plain": [
       "(35, 22)"
      ]
     },
     "execution_count": 80,
     "metadata": {},
     "output_type": "execute_result"
    }
   ],
   "source": [
    "#option1: trips that start and end in manhattan, these should not have this ratecode\n",
    "code4test_wrong = code4test[(code4test.startsInManhattan & code4test.endsInManhattan)]\n",
    "np.shape(code4test_wrong)"
   ]
  },
  {
   "cell_type": "code",
   "execution_count": 81,
   "metadata": {},
   "outputs": [
    {
     "data": {
      "text/plain": [
       "(238, 22)"
      ]
     },
     "execution_count": 81,
     "metadata": {},
     "output_type": "execute_result"
    }
   ],
   "source": [
    "#option2 & option 4: \n",
    "code4test_mixed = code4test[code4test.startsInManhattan ^ code4test.endsInManhattan] \n",
    "np.shape(code4test_mixed)"
   ]
  },
  {
   "cell_type": "code",
   "execution_count": 82,
   "metadata": {},
   "outputs": [
    {
     "data": {
      "text/plain": [
       "(727, 22)"
      ]
     },
     "execution_count": 82,
     "metadata": {},
     "output_type": "execute_result"
    }
   ],
   "source": [
    "#option 3:\n",
    "code4test_out = code4test[(code4test.startsInManhattan==False) & (code4test.endsInManhattan==False)] \n",
    "np.shape(code4test_out)"
   ]
  },
  {
   "cell_type": "code",
   "execution_count": 83,
   "metadata": {},
   "outputs": [],
   "source": [
    "# try to find out which bridge is used in a trip \n",
    "# assumption: the bridge is used that minimizes the pickup-bridge-dropoff distance (air-line distance)\n",
    "counter = 1\n",
    "for index, row in code4test_mixed.iterrows():\n",
    "    \n",
    "    startP = (row[\"pickup_latitude\"],row[\"pickup_longitude\"])\n",
    "    endP = (row[\"dropoff_latitude\"],row[\"dropoff_longitude\"])\n",
    "    \n",
    "    if(row.startsInManhattan and row.endsInManhattan):\n",
    "        #print(\"Outlier found, index\",index)\n",
    "        continue\n",
    "    elif (not row.startsInManhattan and not row.endsInManhattan):\n",
    "        #print(\"Complete out of city trip, index\",index)\n",
    "        code4test_mixed.at[index,\"bridge\"] = None;\n",
    "        code4test_mixed.at[index,\"in_city_distance\"] = 0;\n",
    "        code4test_mixed.at[index,\"out_of_city_distance\"] = geodesic(startP, endP).miles\n",
    "        code4test_mixed.at[index,\"total_over_bridge_distance\"] = geodesic(startP, endP).miles  \n",
    "        continue\n",
    "    elif (not row.startsInManhattan and  row.endsInManhattan): # reverse trip\n",
    "        temp = startP # here we swap start and endpoints so its similar to a standard trip\n",
    "        startP = endP\n",
    "        endP = temp\n",
    "    \n",
    "    #find closest bridge\n",
    "    closest_bridge_index = -1\n",
    "    closest_total_bridge_distance = float('inf')\n",
    "    for i in range(len(bridges)):\n",
    "        distance_to_bridge = geodesic(startP, bridges[i]).miles\n",
    "        distance_to_dest =  geodesic(bridges[i],endP).miles\n",
    "        total = distance_to_bridge + distance_to_dest\n",
    "        if(total < closest_total_bridge_distance):\n",
    "            closest_total_bridge_distance = total\n",
    "            closest_bridge_index = i\n",
    "            closest_distance_to_bridge = distance_to_bridge\n",
    "            closest_distance_to_dest = distance_to_dest\n",
    "            \n",
    "    #print(\"Route {} travels over bridge/tunnel {} (to bridge: {:0.2f}, to dest: {:0.2f}, total: {:0.2f}, trip_distance : {:0.2f})\".format(\n",
    "    #    counter, closest_bridge_index,closest_distance_to_bridge,closest_distance_to_dest,closest_total_bridge_distance,totalDistance))\n",
    "    counter = counter + 1\n",
    "    \n",
    "    code4test_mixed.at[index,\"bridge\"] = closest_bridge_index;\n",
    "    code4test_mixed.at[index,\"in_city_distance\"] = closest_distance_to_bridge;\n",
    "    code4test_mixed.at[index,\"out_of_city_distance\"] = closest_distance_to_dest\n",
    "    code4test_mixed.at[index,\"total_over_bridge_distance\"] = closest_total_bridge_distance       "
   ]
  },
  {
   "cell_type": "code",
   "execution_count": 84,
   "metadata": {},
   "outputs": [],
   "source": [
    "#states how much of the fare was contributed by ride in the city. Calculated by \n",
    "code4test_mixed[\"inCityPercentage\"] = code4test_mixed.apply(lambda x: x.in_city_distance/(x.in_city_distance+2*x.out_of_city_distance+0.0001),axis=1)"
   ]
  },
  {
   "cell_type": "code",
   "execution_count": 85,
   "metadata": {},
   "outputs": [],
   "source": [
    "code4test_mixed[\"inCityTripDistance\"] = code4test_mixed.apply(lambda x: x.in_city_distance/(x.in_city_distance+x.out_of_city_distance),axis=1)\n",
    "code4test_mixed[\"outCityTripDistance\"] = code4test_mixed.apply(lambda x: x.out_of_city_distance/(x.in_city_distance+x.out_of_city_distance),axis=1)"
   ]
  },
  {
   "cell_type": "code",
   "execution_count": 86,
   "metadata": {},
   "outputs": [],
   "source": [
    "code4test_mixed[\"inCityTripDistanceExtreme\"] = code4test_mixed.apply(lambda x: x.inCityPercentage*x.trip_distance,axis=1)\n",
    "code4test_mixed[\"outCityTripDistanceExtreme\"] = code4test_mixed.apply(lambda x: (1-x.inCityPercentage)*x.trip_distance,axis=1)"
   ]
  },
  {
   "cell_type": "code",
   "execution_count": 87,
   "metadata": {},
   "outputs": [],
   "source": [
    "# prediction for the inner city part\n",
    "code4_mixed_inner_pred = code4_model_inner.predict(code4test_mixed[features_inner])"
   ]
  },
  {
   "cell_type": "code",
   "execution_count": 88,
   "metadata": {},
   "outputs": [],
   "source": [
    "#prediction for out of city part\n",
    "code4_mixed_outer_pred = code4_model_outer.predict(code4test_mixed[features_outer])"
   ]
  },
  {
   "cell_type": "code",
   "execution_count": 89,
   "metadata": {},
   "outputs": [],
   "source": [
    "code4_mixed_combined_pred = code4_model_combined.predict(code4test_mixed[features_combined])"
   ]
  },
  {
   "cell_type": "code",
   "execution_count": 90,
   "metadata": {},
   "outputs": [],
   "source": [
    "#combine the results\n",
    "#round comined predictions to closest .5\n",
    "#add 2.5 inital charge which was removed before training\n",
    "code4test_mixed[\"fare_amount_prediction\"]=np.round((code4_mixed_inner_pred+code4_mixed_outer_pred)*2)/2+2.5"
   ]
  },
  {
   "cell_type": "code",
   "execution_count": 91,
   "metadata": {},
   "outputs": [
    {
     "data": {
      "text/plain": [
       "count    238.000000\n",
       "mean      70.569328\n",
       "std       19.635884\n",
       "min       16.000000\n",
       "25%       57.500000\n",
       "50%       68.750000\n",
       "75%       92.000000\n",
       "max      107.500000\n",
       "Name: fare_amount_prediction, dtype: float64"
      ]
     },
     "execution_count": 91,
     "metadata": {},
     "output_type": "execute_result"
    }
   ],
   "source": [
    "code4test_mixed[\"fare_amount_prediction\"].describe()"
   ]
  },
  {
   "cell_type": "code",
   "execution_count": 92,
   "metadata": {},
   "outputs": [],
   "source": [
    "code4test_mixed[\"fare_amount_prediction\"]=np.round(code4_mixed_combined_pred*2)/2+2.5"
   ]
  },
  {
   "cell_type": "code",
   "execution_count": 93,
   "metadata": {},
   "outputs": [
    {
     "data": {
      "text/plain": [
       "count    238.000000\n",
       "mean      70.619748\n",
       "std       19.482583\n",
       "min       16.000000\n",
       "25%       59.125000\n",
       "50%       69.250000\n",
       "75%       91.500000\n",
       "max      100.500000\n",
       "Name: fare_amount_prediction, dtype: float64"
      ]
     },
     "execution_count": 93,
     "metadata": {},
     "output_type": "execute_result"
    }
   ],
   "source": [
    "code4test_mixed[\"fare_amount_prediction\"].describe()"
   ]
  },
  {
   "cell_type": "markdown",
   "metadata": {},
   "source": [
    "Next: predict out trips."
   ]
  },
  {
   "cell_type": "code",
   "execution_count": 94,
   "metadata": {},
   "outputs": [],
   "source": [
    "code4test_out_pred = code4_model_out.predict(code4test_out[features])\n",
    "code4test_out[\"fare_amount_prediction\"]=np.round(code4test_out_pred*2)/2+2.5"
   ]
  },
  {
   "cell_type": "markdown",
   "metadata": {},
   "source": [
    "Lastly: predict trips that only were in Manhattan with double rate model (same as outer trips)"
   ]
  },
  {
   "cell_type": "code",
   "execution_count": 95,
   "metadata": {},
   "outputs": [],
   "source": [
    "code4_test_wrong_pred = code4_model_out.predict(code4test_wrong[features])\n",
    "code4test_wrong[\"fare_amount_prediction\"]=np.round(code4_test_wrong_pred*2)/2+2.5"
   ]
  },
  {
   "cell_type": "code",
   "execution_count": 96,
   "metadata": {},
   "outputs": [],
   "source": [
    "#combine all code 4 dataframes with predictions\n",
    "code4test = pd.concat([code4test_mixed,code4test_out,code4test_wrong])"
   ]
  },
  {
   "cell_type": "markdown",
   "metadata": {},
   "source": [
    "# Ratecode 5 (Negotiated Fares)"
   ]
  },
  {
   "cell_type": "markdown",
   "metadata": {},
   "source": [
    "## Building the Model"
   ]
  },
  {
   "cell_type": "code",
   "execution_count": 150,
   "metadata": {},
   "outputs": [],
   "source": [
    "code5data = train[train.RatecodeID == 5]\n",
    "code5data = code5data.assign(fare_to_distance_ratio = code5data.fare_amount/code5data.trip_distance)\n",
    "code5data = code5data[(code5data.fare_to_distance_ratio<15) & (code5data.fare_to_distance_ratio>=2)]\n",
    "code5test = test[test.RatecodeID == 5]"
   ]
  },
  {
   "cell_type": "code",
   "execution_count": 151,
   "metadata": {
    "scrolled": true
   },
   "outputs": [
    {
     "name": "stdout",
     "output_type": "stream",
     "text": [
      "Total parameter combinations to run: 4\n",
      "Starting run 1\n",
      "{'bagging_fraction': 0.8, 'boosting': 'gbdt', 'feature_fraction': 0.8, 'learning_rate': 0.003, 'num_leaves': 7, 'num_threads': 4, 'objective': 'mae', 'verbose': -1}\n",
      "[100]\tcv_agg's l1: 27.4969 + 0.0181512\n",
      "[200]\tcv_agg's l1: 23.6753 + 0.0510095\n",
      "[300]\tcv_agg's l1: 21.051 + 0.0840338\n",
      "[400]\tcv_agg's l1: 19.4281 + 0.121462\n",
      "[500]\tcv_agg's l1: 18.4446 + 0.119145\n",
      "[600]\tcv_agg's l1: 17.7986 + 0.104022\n",
      "[700]\tcv_agg's l1: 17.3086 + 0.11835\n",
      "[800]\tcv_agg's l1: 16.9593 + 0.141342\n",
      "[900]\tcv_agg's l1: 16.7036 + 0.167977\n",
      "[1000]\tcv_agg's l1: 16.5201 + 0.173383\n",
      "[1100]\tcv_agg's l1: 16.4045 + 0.171815\n",
      "[1200]\tcv_agg's l1: 16.3285 + 0.174644\n",
      "[1300]\tcv_agg's l1: 16.2697 + 0.183256\n",
      "[1400]\tcv_agg's l1: 16.2269 + 0.18765\n",
      "[1500]\tcv_agg's l1: 16.1881 + 0.188317\n",
      "[1600]\tcv_agg's l1: 16.154 + 0.185616\n",
      "[1700]\tcv_agg's l1: 16.1274 + 0.18473\n",
      "[1800]\tcv_agg's l1: 16.1096 + 0.183592\n",
      "[1900]\tcv_agg's l1: 16.0973 + 0.182676\n",
      "[2000]\tcv_agg's l1: 16.0896 + 0.185755\n",
      "[2100]\tcv_agg's l1: 16.083 + 0.186178\n",
      "[2200]\tcv_agg's l1: 16.0785 + 0.187327\n",
      "[2300]\tcv_agg's l1: 16.0744 + 0.186777\n",
      "[2400]\tcv_agg's l1: 16.072 + 0.185973\n",
      "[2500]\tcv_agg's l1: 16.0701 + 0.185259\n",
      "[2600]\tcv_agg's l1: 16.0671 + 0.183921\n",
      "[2700]\tcv_agg's l1: 16.0641 + 0.181792\n",
      "[2800]\tcv_agg's l1: 16.0622 + 0.18075\n",
      "[2900]\tcv_agg's l1: 16.0611 + 0.180133\n",
      "Run done, took: 2.35 s\n",
      "Starting run 2\n",
      "{'bagging_fraction': 0.8, 'boosting': 'gbdt', 'feature_fraction': 0.8, 'learning_rate': 0.003, 'num_leaves': 31, 'num_threads': 4, 'objective': 'mae', 'verbose': -1}\n",
      "[100]\tcv_agg's l1: 27.1634 + 0.090638\n",
      "[200]\tcv_agg's l1: 23.1675 + 0.0758734\n",
      "[300]\tcv_agg's l1: 20.5331 + 0.126413\n",
      "[400]\tcv_agg's l1: 18.9235 + 0.165992\n",
      "[500]\tcv_agg's l1: 17.9269 + 0.178851\n",
      "[600]\tcv_agg's l1: 17.2673 + 0.19587\n",
      "[700]\tcv_agg's l1: 16.8576 + 0.191949\n",
      "[800]\tcv_agg's l1: 16.6064 + 0.204896\n",
      "[900]\tcv_agg's l1: 16.4309 + 0.212047\n",
      "[1000]\tcv_agg's l1: 16.32 + 0.21992\n",
      "[1100]\tcv_agg's l1: 16.2433 + 0.226067\n",
      "[1200]\tcv_agg's l1: 16.1933 + 0.233868\n",
      "[1300]\tcv_agg's l1: 16.1627 + 0.239983\n",
      "[1400]\tcv_agg's l1: 16.1437 + 0.239295\n",
      "[1500]\tcv_agg's l1: 16.1332 + 0.23768\n",
      "[1600]\tcv_agg's l1: 16.1283 + 0.236046\n",
      "[1700]\tcv_agg's l1: 16.1261 + 0.235445\n",
      "Run done, took: 3.14 s\n",
      "Starting run 3\n",
      "{'bagging_fraction': 0.8, 'boosting': 'gbdt', 'feature_fraction': 0.8, 'learning_rate': 0.003, 'num_leaves': 150, 'num_threads': 4, 'objective': 'mae', 'verbose': -1}\n",
      "[100]\tcv_agg's l1: 26.8895 + 0.144307\n",
      "[200]\tcv_agg's l1: 22.8498 + 0.161476\n",
      "[300]\tcv_agg's l1: 20.2889 + 0.173994\n",
      "[400]\tcv_agg's l1: 18.784 + 0.194134\n",
      "[500]\tcv_agg's l1: 17.824 + 0.197468\n",
      "[600]\tcv_agg's l1: 17.2343 + 0.196768\n",
      "[700]\tcv_agg's l1: 16.8841 + 0.197731\n",
      "[800]\tcv_agg's l1: 16.6605 + 0.20616\n",
      "[900]\tcv_agg's l1: 16.5276 + 0.21702\n",
      "[1000]\tcv_agg's l1: 16.4506 + 0.223171\n",
      "[1100]\tcv_agg's l1: 16.4042 + 0.22384\n",
      "[1200]\tcv_agg's l1: 16.3832 + 0.221005\n",
      "[1300]\tcv_agg's l1: 16.3758 + 0.21926\n",
      "Run done, took: 6.96 s\n",
      "Starting run 4\n",
      "{'bagging_fraction': 0.8, 'boosting': 'gbdt', 'feature_fraction': 0.8, 'learning_rate': 0.003, 'num_leaves': 500, 'num_threads': 4, 'objective': 'mae', 'verbose': -1}\n",
      "[100]\tcv_agg's l1: 26.8606 + 0.133225\n",
      "[200]\tcv_agg's l1: 22.7714 + 0.170441\n",
      "[300]\tcv_agg's l1: 20.2088 + 0.19041\n",
      "[400]\tcv_agg's l1: 18.694 + 0.211606\n",
      "[500]\tcv_agg's l1: 17.7618 + 0.212779\n",
      "[600]\tcv_agg's l1: 17.206 + 0.189912\n",
      "[700]\tcv_agg's l1: 16.8794 + 0.190937\n",
      "[800]\tcv_agg's l1: 16.6868 + 0.199419\n",
      "[900]\tcv_agg's l1: 16.5756 + 0.201065\n",
      "[1000]\tcv_agg's l1: 16.5101 + 0.201919\n",
      "[1100]\tcv_agg's l1: 16.4786 + 0.197582\n",
      "[1200]\tcv_agg's l1: 16.4658 + 0.192885\n",
      "[1300]\tcv_agg's l1: 16.4658 + 0.18855\n",
      "Run done, took: 10.21 s\n",
      "Best params: ({'bagging_fraction': 0.8, 'boosting': 'gbdt', 'feature_fraction': 0.8, 'learning_rate': 0.003, 'num_leaves': 7, 'num_threads': 4, 'objective': 'mae', 'verbose': -1, 'optimal_number_of_trees': 2873}, 16.06055081853206)\n",
      "Wall time: 23.4 s\n"
     ]
    }
   ],
   "source": [
    "%%time\n",
    "features = [\"duration\",\"trip_distance\",\"avg_speed\",\"ridesAtPickupHour\"]\n",
    "\n",
    "code5_model = optimisedLGM(param_grid,code5data[features],code5data[\"fare_amount\"]-2.5)"
   ]
  },
  {
   "cell_type": "markdown",
   "metadata": {},
   "source": [
    "## Prediction"
   ]
  },
  {
   "cell_type": "code",
   "execution_count": 148,
   "metadata": {},
   "outputs": [],
   "source": [
    "code5prediction = code5_model.predict(code5test[features])\n",
    "code5test = code5test.assign(fare_amount_prediction = code5prediction)"
   ]
  },
  {
   "cell_type": "markdown",
   "metadata": {},
   "source": [
    "# Recombine all predictions and save"
   ]
  },
  {
   "cell_type": "code",
   "execution_count": 100,
   "metadata": {},
   "outputs": [],
   "source": [
    "testResult = pd.concat([code1test,code2test,code3test,code4test,code5test])"
   ]
  },
  {
   "cell_type": "code",
   "execution_count": 101,
   "metadata": {},
   "outputs": [],
   "source": [
    "testResult.to_csv(\"C:\\\\Users\\\\Leo\\\\Dropbox\\\\Info Göttingen\\\\Practical Course Data Science\\\\Task 2\\\\data\\\\test_prediction.csv\")"
   ]
  },
  {
   "cell_type": "code",
   "execution_count": 102,
   "metadata": {},
   "outputs": [
    {
     "data": {
      "text/plain": [
       "count    64000.000000\n",
       "mean        22.987070\n",
       "std         23.388376\n",
       "min          3.000000\n",
       "25%          7.500000\n",
       "50%         12.000000\n",
       "75%         31.500000\n",
       "max        244.000000\n",
       "Name: fare_amount_prediction, dtype: float64"
      ]
     },
     "execution_count": 102,
     "metadata": {},
     "output_type": "execute_result"
    }
   ],
   "source": [
    "testResult.fare_amount_prediction.describe()"
   ]
  },
  {
   "cell_type": "code",
   "execution_count": 103,
   "metadata": {
    "scrolled": true
   },
   "outputs": [
    {
     "data": {
      "text/html": [
       "<div>\n",
       "<style scoped>\n",
       "    .dataframe tbody tr th:only-of-type {\n",
       "        vertical-align: middle;\n",
       "    }\n",
       "\n",
       "    .dataframe tbody tr th {\n",
       "        vertical-align: top;\n",
       "    }\n",
       "\n",
       "    .dataframe thead th {\n",
       "        text-align: right;\n",
       "    }\n",
       "</style>\n",
       "<table border=\"1\" class=\"dataframe\">\n",
       "  <thead>\n",
       "    <tr style=\"text-align: right;\">\n",
       "      <th></th>\n",
       "      <th>RatecodeID</th>\n",
       "      <th>VendorID</th>\n",
       "      <th>avg_speed</th>\n",
       "      <th>bridge</th>\n",
       "      <th>dropoff_latitude</th>\n",
       "      <th>dropoff_longitude</th>\n",
       "      <th>duration</th>\n",
       "      <th>fare_amount_prediction</th>\n",
       "      <th>id</th>\n",
       "      <th>improvement_surcharge</th>\n",
       "      <th>...</th>\n",
       "      <th>outCityTripDistanceExtreme</th>\n",
       "      <th>out_of_city_distance</th>\n",
       "      <th>passenger_count</th>\n",
       "      <th>payment_type</th>\n",
       "      <th>pickup_latitude</th>\n",
       "      <th>pickup_longitude</th>\n",
       "      <th>ridesAtPickupHour</th>\n",
       "      <th>tolls_amount</th>\n",
       "      <th>total_over_bridge_distance</th>\n",
       "      <th>trip_distance</th>\n",
       "    </tr>\n",
       "  </thead>\n",
       "  <tbody>\n",
       "    <tr>\n",
       "      <th>count</th>\n",
       "      <td>64000.000000</td>\n",
       "      <td>64000.000000</td>\n",
       "      <td>64000.000000</td>\n",
       "      <td>238.00000</td>\n",
       "      <td>64000.000000</td>\n",
       "      <td>64000.000000</td>\n",
       "      <td>64000.000000</td>\n",
       "      <td>64000.000000</td>\n",
       "      <td>64000.000000</td>\n",
       "      <td>64000.000000</td>\n",
       "      <td>...</td>\n",
       "      <td>238.000000</td>\n",
       "      <td>238.000000</td>\n",
       "      <td>64000.000000</td>\n",
       "      <td>64000.000000</td>\n",
       "      <td>64000.000000</td>\n",
       "      <td>64000.000000</td>\n",
       "      <td>64000.000000</td>\n",
       "      <td>64000.00000</td>\n",
       "      <td>238.000000</td>\n",
       "      <td>64000.000000</td>\n",
       "    </tr>\n",
       "    <tr>\n",
       "      <th>mean</th>\n",
       "      <td>1.406250</td>\n",
       "      <td>1.537047</td>\n",
       "      <td>14.546904</td>\n",
       "      <td>9.89916</td>\n",
       "      <td>40.746855</td>\n",
       "      <td>-73.975568</td>\n",
       "      <td>1230.515344</td>\n",
       "      <td>22.987070</td>\n",
       "      <td>32000.500000</td>\n",
       "      <td>0.299991</td>\n",
       "      <td>...</td>\n",
       "      <td>18.743958</td>\n",
       "      <td>12.461605</td>\n",
       "      <td>1.671188</td>\n",
       "      <td>1.337031</td>\n",
       "      <td>40.744481</td>\n",
       "      <td>-73.960769</td>\n",
       "      <td>14415.856201</td>\n",
       "      <td>1.74787</td>\n",
       "      <td>16.208426</td>\n",
       "      <td>5.896713</td>\n",
       "    </tr>\n",
       "    <tr>\n",
       "      <th>std</th>\n",
       "      <td>0.913769</td>\n",
       "      <td>0.498630</td>\n",
       "      <td>9.388043</td>\n",
       "      <td>4.81803</td>\n",
       "      <td>0.047903</td>\n",
       "      <td>0.084823</td>\n",
       "      <td>1080.955692</td>\n",
       "      <td>23.388376</td>\n",
       "      <td>18475.352951</td>\n",
       "      <td>0.001677</td>\n",
       "      <td>...</td>\n",
       "      <td>9.182369</td>\n",
       "      <td>6.509709</td>\n",
       "      <td>1.303686</td>\n",
       "      <td>0.492926</td>\n",
       "      <td>0.037676</td>\n",
       "      <td>0.060701</td>\n",
       "      <td>3799.740583</td>\n",
       "      <td>4.14628</td>\n",
       "      <td>6.321360</td>\n",
       "      <td>7.234262</td>\n",
       "    </tr>\n",
       "    <tr>\n",
       "      <th>min</th>\n",
       "      <td>1.000000</td>\n",
       "      <td>1.000000</td>\n",
       "      <td>0.014337</td>\n",
       "      <td>0.00000</td>\n",
       "      <td>40.045311</td>\n",
       "      <td>-74.833679</td>\n",
       "      <td>40.000000</td>\n",
       "      <td>3.000000</td>\n",
       "      <td>1.000000</td>\n",
       "      <td>0.000000</td>\n",
       "      <td>...</td>\n",
       "      <td>1.658264</td>\n",
       "      <td>0.662656</td>\n",
       "      <td>0.000000</td>\n",
       "      <td>1.000000</td>\n",
       "      <td>40.535580</td>\n",
       "      <td>-74.527763</td>\n",
       "      <td>1696.000000</td>\n",
       "      <td>0.00000</td>\n",
       "      <td>1.763670</td>\n",
       "      <td>0.010000</td>\n",
       "    </tr>\n",
       "    <tr>\n",
       "      <th>25%</th>\n",
       "      <td>1.000000</td>\n",
       "      <td>1.000000</td>\n",
       "      <td>8.153310</td>\n",
       "      <td>7.00000</td>\n",
       "      <td>40.725780</td>\n",
       "      <td>-73.993828</td>\n",
       "      <td>468.000000</td>\n",
       "      <td>7.500000</td>\n",
       "      <td>16000.750000</td>\n",
       "      <td>0.300000</td>\n",
       "      <td>...</td>\n",
       "      <td>12.923967</td>\n",
       "      <td>8.278194</td>\n",
       "      <td>1.000000</td>\n",
       "      <td>1.000000</td>\n",
       "      <td>40.732536</td>\n",
       "      <td>-73.991264</td>\n",
       "      <td>13251.750000</td>\n",
       "      <td>0.00000</td>\n",
       "      <td>12.896369</td>\n",
       "      <td>1.200000</td>\n",
       "    </tr>\n",
       "    <tr>\n",
       "      <th>50%</th>\n",
       "      <td>1.000000</td>\n",
       "      <td>2.000000</td>\n",
       "      <td>11.716077</td>\n",
       "      <td>10.00000</td>\n",
       "      <td>40.751484</td>\n",
       "      <td>-73.980309</td>\n",
       "      <td>858.000000</td>\n",
       "      <td>12.000000</td>\n",
       "      <td>32000.500000</td>\n",
       "      <td>0.300000</td>\n",
       "      <td>...</td>\n",
       "      <td>17.606952</td>\n",
       "      <td>11.964156</td>\n",
       "      <td>1.000000</td>\n",
       "      <td>1.000000</td>\n",
       "      <td>40.752197</td>\n",
       "      <td>-73.980370</td>\n",
       "      <td>14940.000000</td>\n",
       "      <td>0.00000</td>\n",
       "      <td>15.435084</td>\n",
       "      <td>2.260000</td>\n",
       "    </tr>\n",
       "    <tr>\n",
       "      <th>75%</th>\n",
       "      <td>1.000000</td>\n",
       "      <td>2.000000</td>\n",
       "      <td>18.140034</td>\n",
       "      <td>12.00000</td>\n",
       "      <td>40.768697</td>\n",
       "      <td>-73.960541</td>\n",
       "      <td>1659.000000</td>\n",
       "      <td>31.500000</td>\n",
       "      <td>48000.250000</td>\n",
       "      <td>0.300000</td>\n",
       "      <td>...</td>\n",
       "      <td>23.086686</td>\n",
       "      <td>15.545136</td>\n",
       "      <td>2.000000</td>\n",
       "      <td>2.000000</td>\n",
       "      <td>40.766815</td>\n",
       "      <td>-73.962111</td>\n",
       "      <td>16814.500000</td>\n",
       "      <td>0.00000</td>\n",
       "      <td>18.683674</td>\n",
       "      <td>8.080000</td>\n",
       "    </tr>\n",
       "    <tr>\n",
       "      <th>max</th>\n",
       "      <td>5.000000</td>\n",
       "      <td>2.000000</td>\n",
       "      <td>176.170213</td>\n",
       "      <td>19.00000</td>\n",
       "      <td>41.525589</td>\n",
       "      <td>-72.551582</td>\n",
       "      <td>9931.000000</td>\n",
       "      <td>244.000000</td>\n",
       "      <td>64000.000000</td>\n",
       "      <td>0.300000</td>\n",
       "      <td>...</td>\n",
       "      <td>59.300306</td>\n",
       "      <td>37.757120</td>\n",
       "      <td>9.000000</td>\n",
       "      <td>4.000000</td>\n",
       "      <td>41.255787</td>\n",
       "      <td>-72.659561</td>\n",
       "      <td>20311.800000</td>\n",
       "      <td>82.50000</td>\n",
       "      <td>39.327866</td>\n",
       "      <td>86.600000</td>\n",
       "    </tr>\n",
       "  </tbody>\n",
       "</table>\n",
       "<p>8 rows × 25 columns</p>\n",
       "</div>"
      ],
      "text/plain": [
       "         RatecodeID      VendorID     avg_speed     bridge  dropoff_latitude  \\\n",
       "count  64000.000000  64000.000000  64000.000000  238.00000      64000.000000   \n",
       "mean       1.406250      1.537047     14.546904    9.89916         40.746855   \n",
       "std        0.913769      0.498630      9.388043    4.81803          0.047903   \n",
       "min        1.000000      1.000000      0.014337    0.00000         40.045311   \n",
       "25%        1.000000      1.000000      8.153310    7.00000         40.725780   \n",
       "50%        1.000000      2.000000     11.716077   10.00000         40.751484   \n",
       "75%        1.000000      2.000000     18.140034   12.00000         40.768697   \n",
       "max        5.000000      2.000000    176.170213   19.00000         41.525589   \n",
       "\n",
       "       dropoff_longitude      duration  fare_amount_prediction            id  \\\n",
       "count       64000.000000  64000.000000            64000.000000  64000.000000   \n",
       "mean          -73.975568   1230.515344               22.987070  32000.500000   \n",
       "std             0.084823   1080.955692               23.388376  18475.352951   \n",
       "min           -74.833679     40.000000                3.000000      1.000000   \n",
       "25%           -73.993828    468.000000                7.500000  16000.750000   \n",
       "50%           -73.980309    858.000000               12.000000  32000.500000   \n",
       "75%           -73.960541   1659.000000               31.500000  48000.250000   \n",
       "max           -72.551582   9931.000000              244.000000  64000.000000   \n",
       "\n",
       "       improvement_surcharge      ...        outCityTripDistanceExtreme  \\\n",
       "count           64000.000000      ...                        238.000000   \n",
       "mean                0.299991      ...                         18.743958   \n",
       "std                 0.001677      ...                          9.182369   \n",
       "min                 0.000000      ...                          1.658264   \n",
       "25%                 0.300000      ...                         12.923967   \n",
       "50%                 0.300000      ...                         17.606952   \n",
       "75%                 0.300000      ...                         23.086686   \n",
       "max                 0.300000      ...                         59.300306   \n",
       "\n",
       "       out_of_city_distance  passenger_count  payment_type  pickup_latitude  \\\n",
       "count            238.000000     64000.000000  64000.000000     64000.000000   \n",
       "mean              12.461605         1.671188      1.337031        40.744481   \n",
       "std                6.509709         1.303686      0.492926         0.037676   \n",
       "min                0.662656         0.000000      1.000000        40.535580   \n",
       "25%                8.278194         1.000000      1.000000        40.732536   \n",
       "50%               11.964156         1.000000      1.000000        40.752197   \n",
       "75%               15.545136         2.000000      2.000000        40.766815   \n",
       "max               37.757120         9.000000      4.000000        41.255787   \n",
       "\n",
       "       pickup_longitude  ridesAtPickupHour  tolls_amount  \\\n",
       "count      64000.000000       64000.000000   64000.00000   \n",
       "mean         -73.960769       14415.856201       1.74787   \n",
       "std            0.060701        3799.740583       4.14628   \n",
       "min          -74.527763        1696.000000       0.00000   \n",
       "25%          -73.991264       13251.750000       0.00000   \n",
       "50%          -73.980370       14940.000000       0.00000   \n",
       "75%          -73.962111       16814.500000       0.00000   \n",
       "max          -72.659561       20311.800000      82.50000   \n",
       "\n",
       "       total_over_bridge_distance  trip_distance  \n",
       "count                  238.000000   64000.000000  \n",
       "mean                    16.208426       5.896713  \n",
       "std                      6.321360       7.234262  \n",
       "min                      1.763670       0.010000  \n",
       "25%                     12.896369       1.200000  \n",
       "50%                     15.435084       2.260000  \n",
       "75%                     18.683674       8.080000  \n",
       "max                     39.327866      86.600000  \n",
       "\n",
       "[8 rows x 25 columns]"
      ]
     },
     "execution_count": 103,
     "metadata": {},
     "output_type": "execute_result"
    }
   ],
   "source": [
    "testResult.describe()"
   ]
  },
  {
   "cell_type": "code",
   "execution_count": 104,
   "metadata": {
    "scrolled": true
   },
   "outputs": [
    {
     "data": {
      "text/html": [
       "<div>\n",
       "<style scoped>\n",
       "    .dataframe tbody tr th:only-of-type {\n",
       "        vertical-align: middle;\n",
       "    }\n",
       "\n",
       "    .dataframe tbody tr th {\n",
       "        vertical-align: top;\n",
       "    }\n",
       "\n",
       "    .dataframe thead th {\n",
       "        text-align: right;\n",
       "    }\n",
       "</style>\n",
       "<table border=\"1\" class=\"dataframe\">\n",
       "  <thead>\n",
       "    <tr style=\"text-align: right;\">\n",
       "      <th></th>\n",
       "      <th>RatecodeID</th>\n",
       "      <th>VendorID</th>\n",
       "      <th>avg_speed</th>\n",
       "      <th>bridge</th>\n",
       "      <th>day</th>\n",
       "      <th>dropoff_latitude</th>\n",
       "      <th>dropoff_longitude</th>\n",
       "      <th>duration</th>\n",
       "      <th>endsInManhattan</th>\n",
       "      <th>fare_amount_prediction</th>\n",
       "      <th>...</th>\n",
       "      <th>pickup_latitude</th>\n",
       "      <th>pickup_longitude</th>\n",
       "      <th>ridesAtPickupHour</th>\n",
       "      <th>startsInManhattan</th>\n",
       "      <th>store_and_fwd_flag</th>\n",
       "      <th>tolls_amount</th>\n",
       "      <th>total_over_bridge_distance</th>\n",
       "      <th>tpep_dropoff_datetime</th>\n",
       "      <th>tpep_pickup_datetime</th>\n",
       "      <th>trip_distance</th>\n",
       "    </tr>\n",
       "  </thead>\n",
       "  <tbody>\n",
       "    <tr>\n",
       "      <th>62639</th>\n",
       "      <td>5</td>\n",
       "      <td>2</td>\n",
       "      <td>38.586170</td>\n",
       "      <td>NaN</td>\n",
       "      <td>Monday</td>\n",
       "      <td>40.866489</td>\n",
       "      <td>-74.398529</td>\n",
       "      <td>5582.0</td>\n",
       "      <td>NaN</td>\n",
       "      <td>244.0</td>\n",
       "      <td>...</td>\n",
       "      <td>40.644939</td>\n",
       "      <td>-73.781883</td>\n",
       "      <td>15776.75</td>\n",
       "      <td>NaN</td>\n",
       "      <td>N</td>\n",
       "      <td>18.04</td>\n",
       "      <td>NaN</td>\n",
       "      <td>2016-05-30 18:35:11</td>\n",
       "      <td>2016-05-30 17:02:09</td>\n",
       "      <td>59.83</td>\n",
       "    </tr>\n",
       "    <tr>\n",
       "      <th>62698</th>\n",
       "      <td>5</td>\n",
       "      <td>1</td>\n",
       "      <td>40.170991</td>\n",
       "      <td>NaN</td>\n",
       "      <td>Sunday</td>\n",
       "      <td>40.754742</td>\n",
       "      <td>-73.995575</td>\n",
       "      <td>6784.0</td>\n",
       "      <td>NaN</td>\n",
       "      <td>244.0</td>\n",
       "      <td>...</td>\n",
       "      <td>40.742401</td>\n",
       "      <td>-74.000648</td>\n",
       "      <td>15583.00</td>\n",
       "      <td>NaN</td>\n",
       "      <td>N</td>\n",
       "      <td>10.50</td>\n",
       "      <td>NaN</td>\n",
       "      <td>2016-05-08 03:19:36</td>\n",
       "      <td>2016-05-08 01:26:32</td>\n",
       "      <td>75.70</td>\n",
       "    </tr>\n",
       "  </tbody>\n",
       "</table>\n",
       "<p>2 rows × 32 columns</p>\n",
       "</div>"
      ],
      "text/plain": [
       "       RatecodeID  VendorID  avg_speed  bridge     day  dropoff_latitude  \\\n",
       "62639           5         2  38.586170     NaN  Monday         40.866489   \n",
       "62698           5         1  40.170991     NaN  Sunday         40.754742   \n",
       "\n",
       "       dropoff_longitude  duration endsInManhattan  fare_amount_prediction  \\\n",
       "62639         -74.398529    5582.0             NaN                   244.0   \n",
       "62698         -73.995575    6784.0             NaN                   244.0   \n",
       "\n",
       "           ...        pickup_latitude  pickup_longitude  ridesAtPickupHour  \\\n",
       "62639      ...              40.644939        -73.781883           15776.75   \n",
       "62698      ...              40.742401        -74.000648           15583.00   \n",
       "\n",
       "       startsInManhattan  store_and_fwd_flag  tolls_amount  \\\n",
       "62639                NaN                   N         18.04   \n",
       "62698                NaN                   N         10.50   \n",
       "\n",
       "       total_over_bridge_distance  tpep_dropoff_datetime  \\\n",
       "62639                         NaN    2016-05-30 18:35:11   \n",
       "62698                         NaN    2016-05-08 03:19:36   \n",
       "\n",
       "       tpep_pickup_datetime  trip_distance  \n",
       "62639   2016-05-30 17:02:09          59.83  \n",
       "62698   2016-05-08 01:26:32          75.70  \n",
       "\n",
       "[2 rows x 32 columns]"
      ]
     },
     "execution_count": 104,
     "metadata": {},
     "output_type": "execute_result"
    }
   ],
   "source": [
    "testResult[testResult.fare_amount_prediction == testResult.fare_amount_prediction.max()]"
   ]
  },
  {
   "cell_type": "code",
   "execution_count": 105,
   "metadata": {},
   "outputs": [
    {
     "data": {
      "text/html": [
       "<div>\n",
       "<style scoped>\n",
       "    .dataframe tbody tr th:only-of-type {\n",
       "        vertical-align: middle;\n",
       "    }\n",
       "\n",
       "    .dataframe tbody tr th {\n",
       "        vertical-align: top;\n",
       "    }\n",
       "\n",
       "    .dataframe thead th {\n",
       "        text-align: right;\n",
       "    }\n",
       "</style>\n",
       "<table border=\"1\" class=\"dataframe\">\n",
       "  <thead>\n",
       "    <tr style=\"text-align: right;\">\n",
       "      <th></th>\n",
       "      <th>RatecodeID</th>\n",
       "      <th>VendorID</th>\n",
       "      <th>avg_speed</th>\n",
       "      <th>bridge</th>\n",
       "      <th>day</th>\n",
       "      <th>dropoff_latitude</th>\n",
       "      <th>dropoff_longitude</th>\n",
       "      <th>duration</th>\n",
       "      <th>endsInManhattan</th>\n",
       "      <th>fare_amount_prediction</th>\n",
       "      <th>...</th>\n",
       "      <th>pickup_latitude</th>\n",
       "      <th>pickup_longitude</th>\n",
       "      <th>ridesAtPickupHour</th>\n",
       "      <th>startsInManhattan</th>\n",
       "      <th>store_and_fwd_flag</th>\n",
       "      <th>tolls_amount</th>\n",
       "      <th>total_over_bridge_distance</th>\n",
       "      <th>tpep_dropoff_datetime</th>\n",
       "      <th>tpep_pickup_datetime</th>\n",
       "      <th>trip_distance</th>\n",
       "    </tr>\n",
       "  </thead>\n",
       "  <tbody>\n",
       "    <tr>\n",
       "      <th>62191</th>\n",
       "      <td>5</td>\n",
       "      <td>1</td>\n",
       "      <td>40.577899</td>\n",
       "      <td>NaN</td>\n",
       "      <td>Saturday</td>\n",
       "      <td>41.460213</td>\n",
       "      <td>-73.235245</td>\n",
       "      <td>7683.0</td>\n",
       "      <td>NaN</td>\n",
       "      <td>240.0</td>\n",
       "      <td>...</td>\n",
       "      <td>40.643486</td>\n",
       "      <td>-73.789948</td>\n",
       "      <td>16038.5</td>\n",
       "      <td>NaN</td>\n",
       "      <td>N</td>\n",
       "      <td>7.62</td>\n",
       "      <td>NaN</td>\n",
       "      <td>2016-05-21 16:49:42</td>\n",
       "      <td>2016-05-21 14:41:39</td>\n",
       "      <td>86.6</td>\n",
       "    </tr>\n",
       "  </tbody>\n",
       "</table>\n",
       "<p>1 rows × 32 columns</p>\n",
       "</div>"
      ],
      "text/plain": [
       "       RatecodeID  VendorID  avg_speed  bridge       day  dropoff_latitude  \\\n",
       "62191           5         1  40.577899     NaN  Saturday         41.460213   \n",
       "\n",
       "       dropoff_longitude  duration endsInManhattan  fare_amount_prediction  \\\n",
       "62191         -73.235245    7683.0             NaN                   240.0   \n",
       "\n",
       "           ...        pickup_latitude  pickup_longitude  ridesAtPickupHour  \\\n",
       "62191      ...              40.643486        -73.789948            16038.5   \n",
       "\n",
       "       startsInManhattan  store_and_fwd_flag  tolls_amount  \\\n",
       "62191                NaN                   N          7.62   \n",
       "\n",
       "       total_over_bridge_distance  tpep_dropoff_datetime  \\\n",
       "62191                         NaN    2016-05-21 16:49:42   \n",
       "\n",
       "       tpep_pickup_datetime  trip_distance  \n",
       "62191   2016-05-21 14:41:39           86.6  \n",
       "\n",
       "[1 rows x 32 columns]"
      ]
     },
     "execution_count": 105,
     "metadata": {},
     "output_type": "execute_result"
    }
   ],
   "source": [
    "testResult[testResult.trip_distance == testResult.trip_distance.max()]"
   ]
  },
  {
   "cell_type": "code",
   "execution_count": 106,
   "metadata": {},
   "outputs": [
    {
     "data": {
      "text/plain": [
       "1    50000\n",
       "2     7000\n",
       "3     4000\n",
       "5     2000\n",
       "4     1000\n",
       "Name: RatecodeID, dtype: int64"
      ]
     },
     "execution_count": 106,
     "metadata": {},
     "output_type": "execute_result"
    }
   ],
   "source": [
    "testResult.RatecodeID.value_counts()"
   ]
  },
  {
   "cell_type": "markdown",
   "metadata": {},
   "source": [
    "# Archive"
   ]
  },
  {
   "cell_type": "markdown",
   "metadata": {},
   "source": [
    "### Ratecode 1"
   ]
  },
  {
   "cell_type": "raw",
   "metadata": {},
   "source": [
    "import lightgbm as lgb\n",
    "\n",
    "features = [\"duration\",\"passenger_count\",\"trip_distance\",\"payment_type\",\"avg_speed\"]\n",
    "\n",
    "code1lgb_dataset = lgb.Dataset(code1data[features], label=code1data[\"fare_amount\"])\n",
    "\n",
    "params = {}\n",
    "params['learning_rate'] = .05\n",
    "params['boosting_type'] = 'gbdt'\n",
    "params[\"objective\"] = \"regression\"\n",
    "params['min_samples_split'] = 3\n",
    "params['min_samples_leaf'] = 15\n",
    "params['max_features'] = 'sqrt'\n",
    "params['max_depth'] = 10\n",
    "params['subsample'] = 0.8\n",
    "\n",
    "code1_model = lgb.train(params, code1lgb_dataset, 300)"
   ]
  },
  {
   "cell_type": "markdown",
   "metadata": {},
   "source": [
    "### Ratecode 4"
   ]
  },
  {
   "cell_type": "raw",
   "metadata": {},
   "source": [
    "#train models for the in city and out of city parts\n",
    "code4_model_inner = RandomForestRegressor(random_state=1337)\n",
    "code4_model_outer = RandomForestRegressor(random_state=1338)\n",
    "\n",
    "#chose features\n",
    "features_inner = [\"passenger_count\",\"in_city_distance\",\"inCityTripDistanceExtreme\",\"inCityTripDistance\",\"payment_type\"]\n",
    "features_outer = [\"passenger_count\", \"out_of_city_distance\",\"outCityTripDistanceExtreme\",\"payment_type\"]\n",
    "\n",
    "mixed_inner_train = code4data_mixed[features_inner]\n",
    "mixed_outer_train = code4data_mixed[features_outer]\n",
    "\n",
    "#fit the models\n",
    "code4_model_inner.fit(mixed_inner_train,code4data_mixed[\"inCityFare\"])\n",
    "code4_model_outer.fit(mixed_outer_train,code4data_mixed[\"outCityFare\"]);"
   ]
  }
 ],
 "metadata": {
  "kernelspec": {
   "display_name": "Python 3",
   "language": "python",
   "name": "python3"
  },
  "language_info": {
   "codemirror_mode": {
    "name": "ipython",
    "version": 3
   },
   "file_extension": ".py",
   "mimetype": "text/x-python",
   "name": "python",
   "nbconvert_exporter": "python",
   "pygments_lexer": "ipython3",
   "version": "3.6.4"
  }
 },
 "nbformat": 4,
 "nbformat_minor": 2
}
