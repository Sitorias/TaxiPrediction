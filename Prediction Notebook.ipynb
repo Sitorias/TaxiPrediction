{
 "cells": [
  {
   "cell_type": "markdown",
   "metadata": {},
   "source": [
    "# Load Data (already cleaned)"
   ]
  },
  {
   "cell_type": "code",
   "execution_count": 80,
   "metadata": {},
   "outputs": [],
   "source": [
    "# Manage imports\n",
    "import numpy as np\n",
    "import pandas as pd\n",
    "import seaborn as sns  \n",
    "import matplotlib.pyplot as plt\n",
    "\n",
    "pd.options.mode.chained_assignment = None  # default='warn'"
   ]
  },
  {
   "cell_type": "code",
   "execution_count": 116,
   "metadata": {},
   "outputs": [
    {
     "name": "stderr",
     "output_type": "stream",
     "text": [
      "E:\\Anaconda\\lib\\site-packages\\numpy\\lib\\arraysetops.py:466: FutureWarning: elementwise comparison failed; returning scalar instead, but in the future will perform elementwise comparison\n",
      "  mask |= (ar1 == a)\n"
     ]
    }
   ],
   "source": [
    "# read data in memory\n",
    "train = pd.read_csv(\"C:\\\\Users\\\\Leo\\\\TaxiData\\\\clean_v2.csv\",index_col=0)"
   ]
  },
  {
   "cell_type": "code",
   "execution_count": 9,
   "metadata": {},
   "outputs": [
    {
     "data": {
      "text/html": [
       "<div>\n",
       "<style scoped>\n",
       "    .dataframe tbody tr th:only-of-type {\n",
       "        vertical-align: middle;\n",
       "    }\n",
       "\n",
       "    .dataframe tbody tr th {\n",
       "        vertical-align: top;\n",
       "    }\n",
       "\n",
       "    .dataframe thead th {\n",
       "        text-align: right;\n",
       "    }\n",
       "</style>\n",
       "<table border=\"1\" class=\"dataframe\">\n",
       "  <thead>\n",
       "    <tr style=\"text-align: right;\">\n",
       "      <th></th>\n",
       "      <th>tpep_pickup_datetime</th>\n",
       "      <th>tpep_dropoff_datetime</th>\n",
       "      <th>passenger_count</th>\n",
       "      <th>trip_distance</th>\n",
       "      <th>pickup_longitude</th>\n",
       "      <th>pickup_latitude</th>\n",
       "      <th>RatecodeID</th>\n",
       "      <th>dropoff_longitude</th>\n",
       "      <th>dropoff_latitude</th>\n",
       "      <th>payment_type</th>\n",
       "      <th>...</th>\n",
       "      <th>mta_tax</th>\n",
       "      <th>tip_amount</th>\n",
       "      <th>tolls_amount</th>\n",
       "      <th>total_amount</th>\n",
       "      <th>duration</th>\n",
       "      <th>duration_seconds</th>\n",
       "      <th>pickupDay</th>\n",
       "      <th>pickupHour</th>\n",
       "      <th>ridesAtPickupHour</th>\n",
       "      <th>avg_speed</th>\n",
       "    </tr>\n",
       "  </thead>\n",
       "  <tbody>\n",
       "    <tr>\n",
       "      <th>0</th>\n",
       "      <td>2016-06-09 21:06:36</td>\n",
       "      <td>2016-06-09 21:13:08</td>\n",
       "      <td>2</td>\n",
       "      <td>0.79</td>\n",
       "      <td>-73.983360</td>\n",
       "      <td>40.760937</td>\n",
       "      <td>1</td>\n",
       "      <td>-73.977463</td>\n",
       "      <td>40.753979</td>\n",
       "      <td>2</td>\n",
       "      <td>...</td>\n",
       "      <td>0.5</td>\n",
       "      <td>0.00</td>\n",
       "      <td>0.0</td>\n",
       "      <td>7.30</td>\n",
       "      <td>0 days 00:06:32.000000000</td>\n",
       "      <td>392</td>\n",
       "      <td>9</td>\n",
       "      <td>21</td>\n",
       "      <td>21285</td>\n",
       "      <td>7.255102</td>\n",
       "    </tr>\n",
       "    <tr>\n",
       "      <th>1</th>\n",
       "      <td>2016-06-09 21:06:36</td>\n",
       "      <td>2016-06-09 21:35:11</td>\n",
       "      <td>1</td>\n",
       "      <td>5.22</td>\n",
       "      <td>-73.981720</td>\n",
       "      <td>40.736668</td>\n",
       "      <td>1</td>\n",
       "      <td>-73.981636</td>\n",
       "      <td>40.670242</td>\n",
       "      <td>1</td>\n",
       "      <td>...</td>\n",
       "      <td>0.5</td>\n",
       "      <td>4.00</td>\n",
       "      <td>0.0</td>\n",
       "      <td>27.30</td>\n",
       "      <td>0 days 00:28:35.000000000</td>\n",
       "      <td>1715</td>\n",
       "      <td>9</td>\n",
       "      <td>21</td>\n",
       "      <td>21285</td>\n",
       "      <td>10.957434</td>\n",
       "    </tr>\n",
       "    <tr>\n",
       "      <th>3</th>\n",
       "      <td>2016-06-09 21:06:36</td>\n",
       "      <td>2016-06-09 21:36:10</td>\n",
       "      <td>1</td>\n",
       "      <td>7.39</td>\n",
       "      <td>-73.982361</td>\n",
       "      <td>40.773891</td>\n",
       "      <td>1</td>\n",
       "      <td>-73.929466</td>\n",
       "      <td>40.851540</td>\n",
       "      <td>1</td>\n",
       "      <td>...</td>\n",
       "      <td>0.5</td>\n",
       "      <td>1.00</td>\n",
       "      <td>0.0</td>\n",
       "      <td>28.30</td>\n",
       "      <td>0 days 00:29:34.000000000</td>\n",
       "      <td>1774</td>\n",
       "      <td>9</td>\n",
       "      <td>21</td>\n",
       "      <td>21285</td>\n",
       "      <td>14.996618</td>\n",
       "    </tr>\n",
       "    <tr>\n",
       "      <th>4</th>\n",
       "      <td>2016-06-09 21:06:36</td>\n",
       "      <td>2016-06-09 21:23:23</td>\n",
       "      <td>1</td>\n",
       "      <td>3.10</td>\n",
       "      <td>-73.987106</td>\n",
       "      <td>40.733173</td>\n",
       "      <td>1</td>\n",
       "      <td>-73.985909</td>\n",
       "      <td>40.766445</td>\n",
       "      <td>1</td>\n",
       "      <td>...</td>\n",
       "      <td>0.5</td>\n",
       "      <td>2.96</td>\n",
       "      <td>0.0</td>\n",
       "      <td>17.76</td>\n",
       "      <td>0 days 00:16:47.000000000</td>\n",
       "      <td>1007</td>\n",
       "      <td>9</td>\n",
       "      <td>21</td>\n",
       "      <td>21285</td>\n",
       "      <td>11.082423</td>\n",
       "    </tr>\n",
       "    <tr>\n",
       "      <th>5</th>\n",
       "      <td>2016-06-09 21:06:36</td>\n",
       "      <td>2016-06-09 21:19:21</td>\n",
       "      <td>1</td>\n",
       "      <td>2.17</td>\n",
       "      <td>-73.995201</td>\n",
       "      <td>40.739491</td>\n",
       "      <td>1</td>\n",
       "      <td>-73.993202</td>\n",
       "      <td>40.762642</td>\n",
       "      <td>1</td>\n",
       "      <td>...</td>\n",
       "      <td>0.5</td>\n",
       "      <td>2.36</td>\n",
       "      <td>0.0</td>\n",
       "      <td>14.16</td>\n",
       "      <td>0 days 00:12:45.000000000</td>\n",
       "      <td>765</td>\n",
       "      <td>9</td>\n",
       "      <td>21</td>\n",
       "      <td>21285</td>\n",
       "      <td>10.211765</td>\n",
       "    </tr>\n",
       "  </tbody>\n",
       "</table>\n",
       "<p>5 rows × 22 columns</p>\n",
       "</div>"
      ],
      "text/plain": [
       "  tpep_pickup_datetime tpep_dropoff_datetime  passenger_count  trip_distance  \\\n",
       "0  2016-06-09 21:06:36   2016-06-09 21:13:08                2           0.79   \n",
       "1  2016-06-09 21:06:36   2016-06-09 21:35:11                1           5.22   \n",
       "3  2016-06-09 21:06:36   2016-06-09 21:36:10                1           7.39   \n",
       "4  2016-06-09 21:06:36   2016-06-09 21:23:23                1           3.10   \n",
       "5  2016-06-09 21:06:36   2016-06-09 21:19:21                1           2.17   \n",
       "\n",
       "   pickup_longitude  pickup_latitude  RatecodeID  dropoff_longitude  \\\n",
       "0        -73.983360        40.760937           1         -73.977463   \n",
       "1        -73.981720        40.736668           1         -73.981636   \n",
       "3        -73.982361        40.773891           1         -73.929466   \n",
       "4        -73.987106        40.733173           1         -73.985909   \n",
       "5        -73.995201        40.739491           1         -73.993202   \n",
       "\n",
       "   dropoff_latitude  payment_type    ...      mta_tax  tip_amount  \\\n",
       "0         40.753979             2    ...          0.5        0.00   \n",
       "1         40.670242             1    ...          0.5        4.00   \n",
       "3         40.851540             1    ...          0.5        1.00   \n",
       "4         40.766445             1    ...          0.5        2.96   \n",
       "5         40.762642             1    ...          0.5        2.36   \n",
       "\n",
       "   tolls_amount  total_amount                   duration  duration_seconds  \\\n",
       "0           0.0          7.30  0 days 00:06:32.000000000               392   \n",
       "1           0.0         27.30  0 days 00:28:35.000000000              1715   \n",
       "3           0.0         28.30  0 days 00:29:34.000000000              1774   \n",
       "4           0.0         17.76  0 days 00:16:47.000000000              1007   \n",
       "5           0.0         14.16  0 days 00:12:45.000000000               765   \n",
       "\n",
       "  pickupDay  pickupHour  ridesAtPickupHour  avg_speed  \n",
       "0         9          21              21285   7.255102  \n",
       "1         9          21              21285  10.957434  \n",
       "3         9          21              21285  14.996618  \n",
       "4         9          21              21285  11.082423  \n",
       "5         9          21              21285  10.211765  \n",
       "\n",
       "[5 rows x 22 columns]"
      ]
     },
     "execution_count": 9,
     "metadata": {},
     "output_type": "execute_result"
    }
   ],
   "source": [
    "train.head()"
   ]
  },
  {
   "cell_type": "code",
   "execution_count": 19,
   "metadata": {},
   "outputs": [
    {
     "data": {
      "text/plain": [
       "'2016-05-31 23:59:36'"
      ]
     },
     "execution_count": 19,
     "metadata": {},
     "output_type": "execute_result"
    }
   ],
   "source": [
    "max(test.tpep_pickup_datetime)"
   ]
  },
  {
   "cell_type": "code",
   "execution_count": 126,
   "metadata": {},
   "outputs": [],
   "source": [
    "test = pd.read_csv(\"C:\\\\Users\\\\Leo\\\\Dropbox\\\\Info Göttingen\\\\Practical Course Data Science\\\\Task 2\\\\data\\\\test_data_v2.csv\",engine=\"python\")"
   ]
  },
  {
   "cell_type": "markdown",
   "metadata": {},
   "source": [
    "# Prepare the Test set (add features)"
   ]
  },
  {
   "cell_type": "markdown",
   "metadata": {},
   "source": [
    "## Traffic at pick up time (has to be changed?)"
   ]
  },
  {
   "cell_type": "code",
   "execution_count": 20,
   "metadata": {},
   "outputs": [],
   "source": [
    "traffic = train.groupby([\"pickupDay\",\"pickupHour\"])"
   ]
  },
  {
   "cell_type": "code",
   "execution_count": 21,
   "metadata": {},
   "outputs": [
    {
     "data": {
      "text/plain": [
       "<pandas.core.groupby.DataFrameGroupBy object at 0x000002318FB8D860>"
      ]
     },
     "execution_count": 21,
     "metadata": {},
     "output_type": "execute_result"
    }
   ],
   "source": [
    "traffic"
   ]
  },
  {
   "cell_type": "code",
   "execution_count": null,
   "metadata": {},
   "outputs": [],
   "source": [
    "%%time\n",
    "test[\"ridesAtPickupHour\"] = test.apply(lambda x: traffic.trip_distance.get_group((x.pickupDay,x.pickupHour)).shape[0],axis=1 )"
   ]
  },
  {
   "cell_type": "markdown",
   "metadata": {},
   "source": [
    "Problem: does not make sense, should be done per weekday average?"
   ]
  },
  {
   "cell_type": "markdown",
   "metadata": {},
   "source": [
    "## Add duration in seconds"
   ]
  },
  {
   "cell_type": "code",
   "execution_count": 162,
   "metadata": {},
   "outputs": [],
   "source": [
    "test[\"tpep_pickup_datetime\"] = pd.to_datetime(test.tpep_pickup_datetime)\n",
    "test['tpep_dropoff_datetime'] = pd.to_datetime(test.tpep_dropoff_datetime)"
   ]
  },
  {
   "cell_type": "code",
   "execution_count": 163,
   "metadata": {},
   "outputs": [],
   "source": [
    "# Get duration\n",
    "test['duration'] = pd.to_datetime(test[\"tpep_dropoff_datetime\"])-pd.to_datetime(test[\"tpep_pickup_datetime\"])"
   ]
  },
  {
   "cell_type": "code",
   "execution_count": 164,
   "metadata": {},
   "outputs": [
    {
     "name": "stdout",
     "output_type": "stream",
     "text": [
      "Wall time: 3.62 s\n"
     ]
    }
   ],
   "source": [
    "%%time\n",
    "test[\"duration_seconds\"] = test.apply(lambda x : x.duration.total_seconds(),axis=1)"
   ]
  },
  {
   "cell_type": "markdown",
   "metadata": {},
   "source": [
    "## Calculate average speed"
   ]
  },
  {
   "cell_type": "code",
   "execution_count": 165,
   "metadata": {},
   "outputs": [],
   "source": [
    "test = test.assign(avg_speed = test.trip_distance/test.duration_seconds*60*60)"
   ]
  },
  {
   "cell_type": "code",
   "execution_count": 166,
   "metadata": {},
   "outputs": [
    {
     "data": {
      "text/plain": [
       "count    64000.000000\n",
       "mean        14.546904\n",
       "std          9.388043\n",
       "min          0.014337\n",
       "25%          8.153310\n",
       "50%         11.716077\n",
       "75%         18.140034\n",
       "max        176.170213\n",
       "Name: avg_speed, dtype: float64"
      ]
     },
     "execution_count": 166,
     "metadata": {},
     "output_type": "execute_result"
    }
   ],
   "source": [
    "test.avg_speed.describe()"
   ]
  },
  {
   "cell_type": "markdown",
   "metadata": {},
   "source": [
    "# Ratecode 1 (Standard rate)"
   ]
  },
  {
   "cell_type": "markdown",
   "metadata": {},
   "source": [
    "## Building the Model"
   ]
  },
  {
   "cell_type": "code",
   "execution_count": 12,
   "metadata": {},
   "outputs": [],
   "source": [
    "code1data = train[train.RatecodeID == 1]"
   ]
  },
  {
   "cell_type": "code",
   "execution_count": 37,
   "metadata": {},
   "outputs": [],
   "source": [
    "code1test = test[test.RatecodeID == 1]"
   ]
  },
  {
   "cell_type": "code",
   "execution_count": 45,
   "metadata": {},
   "outputs": [],
   "source": [
    "import lightgbm as lgb\n",
    "\n",
    "features = [\"duration_seconds\",\"passenger_count\",\"trip_distance\",\"payment_type\",\"avg_speed\"]\n",
    "\n",
    "code1lgb_dataset = lgb.Dataset(code1data[features], label=code1data[\"fare_amount\"])\n",
    "\n",
    "params = {}\n",
    "params['learning_rate'] = .05\n",
    "params['boosting_type'] = 'gbdt'\n",
    "params['min_samples_split'] = 3\n",
    "params['min_samples_leaf'] = 15\n",
    "params['max_features'] = 'sqrt'\n",
    "params['max_depth'] = 10\n",
    "params['subsample'] = 0.8\n",
    "\n",
    "code1_model = lgb.train(params, code1lgb_dataset, 300)\n"
   ]
  },
  {
   "cell_type": "markdown",
   "metadata": {},
   "source": [
    "## Prediction"
   ]
  },
  {
   "cell_type": "code",
   "execution_count": 38,
   "metadata": {},
   "outputs": [],
   "source": [
    "code1prediction = np.round(code1_model.predict(code1test[features])*2)/2"
   ]
  },
  {
   "cell_type": "code",
   "execution_count": 39,
   "metadata": {},
   "outputs": [
    {
     "data": {
      "text/plain": [
       "array([ 4. ,  6.5, 10.5, ...,  4.5,  6. , 15. ])"
      ]
     },
     "execution_count": 39,
     "metadata": {},
     "output_type": "execute_result"
    }
   ],
   "source": [
    "code1prediction"
   ]
  },
  {
   "cell_type": "code",
   "execution_count": 40,
   "metadata": {},
   "outputs": [],
   "source": [
    "code1test = code1test.assign(fare_amount_prediction = code1prediction)"
   ]
  },
  {
   "cell_type": "markdown",
   "metadata": {},
   "source": [
    "# Ratecode 2 (JFK)"
   ]
  },
  {
   "cell_type": "markdown",
   "metadata": {},
   "source": [
    "## Building the Model"
   ]
  },
  {
   "cell_type": "markdown",
   "metadata": {},
   "source": [
    "No model building neccessary, all rides cost 52$"
   ]
  },
  {
   "cell_type": "code",
   "execution_count": 118,
   "metadata": {},
   "outputs": [],
   "source": [
    "code2data = train[train.RatecodeID == 2]\n",
    "code2test = test[test.RatecodeID == 2]"
   ]
  },
  {
   "cell_type": "markdown",
   "metadata": {},
   "source": [
    "## Prediction"
   ]
  },
  {
   "cell_type": "code",
   "execution_count": 119,
   "metadata": {},
   "outputs": [],
   "source": [
    "code2test[\"fare_amount_prediction\"] = 52"
   ]
  },
  {
   "cell_type": "markdown",
   "metadata": {},
   "source": [
    "# Ratecode 3 (Newark)"
   ]
  },
  {
   "cell_type": "markdown",
   "metadata": {},
   "source": [
    "## Building the Model"
   ]
  },
  {
   "cell_type": "code",
   "execution_count": 44,
   "metadata": {},
   "outputs": [],
   "source": [
    "code3data = train[train.RatecodeID == 3]"
   ]
  },
  {
   "cell_type": "code",
   "execution_count": 46,
   "metadata": {},
   "outputs": [],
   "source": [
    "code3test = test[test.RatecodeID == 3]"
   ]
  },
  {
   "cell_type": "code",
   "execution_count": 59,
   "metadata": {},
   "outputs": [],
   "source": [
    "features = [\"duration_seconds\",\"passenger_count\",\"trip_distance\",\"payment_type\",\"avg_speed\"]\n",
    "\n",
    "code3lgb_dataset = lgb.Dataset(code3data[features], label=code3data[\"fare_amount\"])\n",
    "\n",
    "params = {}\n",
    "params['learning_rate'] = .05\n",
    "params['boosting_type'] = 'gbdt'\n",
    "params['min_samples_split'] = 3\n",
    "params['min_samples_leaf'] = 15\n",
    "params['max_features'] = 'sqrt'\n",
    "params['max_depth'] = 10\n",
    "params['subsample'] = 0.8\n",
    "\n",
    "code3_model = lgb.train(params, code3lgb_dataset, 300)"
   ]
  },
  {
   "cell_type": "markdown",
   "metadata": {},
   "source": [
    "## Prediction"
   ]
  },
  {
   "cell_type": "code",
   "execution_count": 60,
   "metadata": {},
   "outputs": [],
   "source": [
    "code3prediction = np.round(code3_model.predict(code3test[features])*2)/2\n",
    "code3test = code3test.assign(fare_amount_prediction = code3prediction)"
   ]
  },
  {
   "cell_type": "markdown",
   "metadata": {},
   "source": [
    "# Ratecode 4 (Nassau or Westchester)"
   ]
  },
  {
   "cell_type": "markdown",
   "metadata": {},
   "source": [
    "## Building the Model"
   ]
  },
  {
   "cell_type": "code",
   "execution_count": 167,
   "metadata": {},
   "outputs": [
    {
     "data": {
      "text/plain": [
       "(1000, 18)"
      ]
     },
     "execution_count": 167,
     "metadata": {},
     "output_type": "execute_result"
    }
   ],
   "source": [
    "code4data = train[train.RatecodeID == 4]\n",
    "code4test = test[test.RatecodeID == 4]\n",
    "np.shape(code4test)"
   ]
  },
  {
   "cell_type": "code",
   "execution_count": 168,
   "metadata": {},
   "outputs": [],
   "source": [
    "#shapely can be installed via anaconda -> environments\n",
    "from shapely.geometry import Point\n",
    "from shapely.geometry.polygon import Polygon"
   ]
  },
  {
   "cell_type": "code",
   "execution_count": 169,
   "metadata": {},
   "outputs": [],
   "source": [
    "# returns whether the point given is in the area given\n",
    "def inArea(polygon,lat,long):\n",
    "    point = Point(lat,long);\n",
    "    poly = Polygon(polygon)\n",
    "    return poly.contains(point)    "
   ]
  },
  {
   "cell_type": "code",
   "execution_count": 170,
   "metadata": {},
   "outputs": [],
   "source": [
    "#cords for a polygon around manhatten, manually set via google maps\n",
    "manhattan_cords = [(40.882207, -73.933869), #1\n",
    "         (40.872343, -73.908292), #2\n",
    "         (40.836117, -73.933011), #3\n",
    "         (40.804680, -73.931123), #4\n",
    "         (40.798833, -73.918591), #5\n",
    "         (40.739289, -73.967000), #6\n",
    "         (40.707155, -73.973866), #7\n",
    "         (40.699217, -74.021416), #8\n",
    "         (40.759316, -74.012662)] #9"
   ]
  },
  {
   "cell_type": "code",
   "execution_count": 171,
   "metadata": {},
   "outputs": [],
   "source": [
    "#apply to train set\n",
    "code4data[\"endsInManhattan\"] = code4data.apply(lambda x : inArea(manhattan_cords,x[\"dropoff_latitude\"],x[\"dropoff_longitude\"]),axis=1)\n",
    "code4data[\"startsInManhattan\"] = code4data.apply(lambda x : inArea(manhattan_cords,x[\"pickup_latitude\"],x[\"pickup_longitude\"]),axis=1)"
   ]
  },
  {
   "cell_type": "code",
   "execution_count": 172,
   "metadata": {},
   "outputs": [],
   "source": [
    "from geopy.distance import geodesic\n",
    "from geopy.distance import great_circle"
   ]
  },
  {
   "cell_type": "code",
   "execution_count": 173,
   "metadata": {},
   "outputs": [],
   "source": [
    "# all bridges and tunnels to/from manhattan, bridges marked with ! are highways or tunnels and more likely to be used by taxis\n",
    "bridges = [ (40.877720, -73.922362), # 0 henry hudson bridge !\n",
    "          (40.873648, -73.911075), # 1 broadway !\n",
    "          (40.862840, -73.914986), # 2 university heights bridge\n",
    "          (40.846674, -73.927806), # 3 washington bridge - close to v\n",
    "          (40.845522, -73.928256), # 4 alexander hamilton bridge !\n",
    "          (40.828062, -73.933873), # 5 macombs dam bridge\n",
    "          (40.819489, -73.933058), # 6 145th st bridge - close to v\n",
    "          (40.814081, -73.933187), # 7 madison avenue bridge\n",
    "          (40.807591, -73.932399), # 8 third avenue bridge\n",
    "           (40.803516, -73.928818),# 9 willis ave bridge\n",
    "           (40.800368, -73.927835), # 10 robert f kennedy bridge !\n",
    "           (40.756681, -73.954185), # 11 ed koch queensboro bridge !\n",
    "           (40.745106, -73.964063), # 12 queens midtown tunnel !\n",
    "           (40.713407, -73.972299), # 13 williamsburg bridge\n",
    "           (40.707095, -73.990500), # 14 manhattan bridge\n",
    "           (40.705972, -73.996851), # 15 brooklyn bridge !\n",
    "           (40.701161, -74.015692), # 16 Hugh l Carey Tunnel\n",
    "           (40.727487, -74.020880), # 17 holland tunnel\n",
    "           (40.763370, -74.010028), # 18 lincoln tunnel !\n",
    "           (40.851644, -73.952118), # 19 george washington bridge !\n",
    "          ]"
   ]
  },
  {
   "cell_type": "code",
   "execution_count": 174,
   "metadata": {},
   "outputs": [],
   "source": [
    "# try to find out which bridge is used in a trip \n",
    "# assumption: the bridge is used that minimizes the pickup-bridge-dropoff distance (air-line distance)\n",
    "counter = 1\n",
    "for index, row in code4data.iterrows():\n",
    "    # 4 options:\n",
    "    # starts in city, ends in city --> should not have ratecode 4 -> outlier, ignore\n",
    "    # starts in city, ends out of city -> standard trip\n",
    "    # starts out of city, ends out of city -> no calculations to be done here, use double rate for whole trip\n",
    "    # starts out of city, ends in city -> reverse standard trip\n",
    "    startP = (row[\"pickup_latitude\"],row[\"pickup_longitude\"])\n",
    "    endP = (row[\"dropoff_latitude\"],row[\"dropoff_longitude\"])\n",
    "    \n",
    "    if(row.startsInManhattan and row.endsInManhattan):\n",
    "        #print(\"Outlier found, index\",index)\n",
    "        continue\n",
    "    elif (not row.startsInManhattan and not row.endsInManhattan):\n",
    "        #print(\"Complete out of city trip, index\",index)\n",
    "        code4data.at[index,\"Bridge\"] = None;\n",
    "        code4data.at[index,\"in_city_distance\"] = 0;\n",
    "        code4data.at[index,\"out_of_city_distance\"] = geodesic(startP, endP).miles\n",
    "        code4data.at[index,\"total_over_bridge_distance\"] = geodesic(startP, endP).miles  \n",
    "        continue\n",
    "    elif (not row.startsInManhattan and  row.endsInManhattan): # reverse trip\n",
    "        temp = startP # here we swap start and endpoints so its similar to a standard trip\n",
    "        startP = endP\n",
    "        endP = temp\n",
    "    \n",
    "    #find closest bridge\n",
    "    closest_bridge_index = -1\n",
    "    closest_total_bridge_distance = float('inf')\n",
    "    for i in range(len(bridges)):\n",
    "        distance_to_bridge = geodesic(startP, bridges[i]).miles\n",
    "        distance_to_dest =  geodesic(bridges[i],endP).miles\n",
    "        total = distance_to_bridge + distance_to_dest\n",
    "        if(total < closest_total_bridge_distance):\n",
    "            closest_total_bridge_distance = total\n",
    "            closest_bridge_index = i\n",
    "            closest_distance_to_bridge = distance_to_bridge\n",
    "            closest_distance_to_dest = distance_to_dest\n",
    "            \n",
    "    #print(\"Route {} travels over bridge/tunnel {} (to bridge: {:0.2f}, to dest: {:0.2f}, total: {:0.2f}, trip_distance : {:0.2f})\".format(\n",
    "    #    counter, closest_bridge_index,closest_distance_to_bridge,closest_distance_to_dest,closest_total_bridge_distance,totalDistance))\n",
    "    counter = counter + 1\n",
    "    \n",
    "    code4data.at[index,\"Bridge\"] = closest_bridge_index;\n",
    "    code4data.at[index,\"in_city_distance\"] = closest_distance_to_bridge;\n",
    "    code4data.at[index,\"out_of_city_distance\"] = closest_distance_to_dest\n",
    "    code4data.at[index,\"total_over_bridge_distance\"] = closest_total_bridge_distance       "
   ]
  },
  {
   "cell_type": "code",
   "execution_count": 175,
   "metadata": {},
   "outputs": [],
   "source": [
    "#states how much of the fare was contributed by ride in the city. Calculated by \n",
    "code4data[\"inCityPercentage\"] = code4data.apply(lambda x: x.in_city_distance/(x.in_city_distance+2*x.out_of_city_distance+0.0001),axis=1)"
   ]
  },
  {
   "cell_type": "code",
   "execution_count": 176,
   "metadata": {},
   "outputs": [],
   "source": [
    "#2.5 were subtracted from fare amount (inital charge)\n",
    "code4data[\"inCityFare\"] = code4data.apply(lambda x: x.inCityPercentage*(x.fare_amount-2.5),axis=1)\n",
    "code4data[\"outCityFare\"] = code4data.apply(lambda x: (1-x.inCityPercentage)*(x.fare_amount-2.5),axis=1)"
   ]
  },
  {
   "cell_type": "markdown",
   "metadata": {},
   "source": [
    "Now we have to train three models. Two for trips that start in the city and end out of it and vice versa, thus using both the standard and the doubled rate (one model for each). The predctions are then add up. The third model is for trips that are completly out of the city and therefore only use the doubled rate. Here more information can be used from the dataset, because we do not have to make assumptions on where the trip was split."
   ]
  },
  {
   "cell_type": "code",
   "execution_count": 177,
   "metadata": {},
   "outputs": [
    {
     "data": {
      "text/plain": [
       "(777, 31)"
      ]
     },
     "execution_count": 177,
     "metadata": {},
     "output_type": "execute_result"
    }
   ],
   "source": [
    "code4data_mixed = code4data[code4data.Bridge.notnull()] # trips that used a bridge -> entered/left manhattan\n",
    "np.shape(code4data_mixed)"
   ]
  },
  {
   "cell_type": "code",
   "execution_count": 178,
   "metadata": {},
   "outputs": [
    {
     "data": {
      "text/plain": [
       "(3429, 31)"
      ]
     },
     "execution_count": 178,
     "metadata": {},
     "output_type": "execute_result"
    }
   ],
   "source": [
    "code4data_out = code4data[-code4data.Bridge.notnull()] # trips that not used a bridge -> never were in Manhattan\n",
    "np.shape(code4data_out)"
   ]
  },
  {
   "cell_type": "code",
   "execution_count": 179,
   "metadata": {},
   "outputs": [],
   "source": [
    "#train models for the in city and out of city parts\n",
    "code4_model_inner = RandomForestRegressor(random_state=1337)\n",
    "code4_model_outer = RandomForestRegressor(random_state=1338)\n",
    "\n",
    "#chose features\n",
    "mixed_inner_train = code4data_mixed[[\"passenger_count\",\"in_city_distance\",\"payment_type\"]]\n",
    "mixed_outer_train = code4data_mixed[[\"passenger_count\", \"out_of_city_distance\",\"payment_type\"]]\n",
    "\n",
    "#fit the models\n",
    "code4_model_inner.fit(mixed_inner_train,code4data_mixed[\"inCityFare\"])\n",
    "code4_model_outer.fit(mixed_outer_train,code4data_mixed[\"outCityFare\"]);"
   ]
  },
  {
   "cell_type": "markdown",
   "metadata": {},
   "source": [
    "Next: model for outer trips.\n"
   ]
  },
  {
   "cell_type": "code",
   "execution_count": 180,
   "metadata": {},
   "outputs": [
    {
     "data": {
      "text/plain": [
       "RandomForestRegressor(bootstrap=True, criterion='mse', max_depth=None,\n",
       "           max_features='auto', max_leaf_nodes=None,\n",
       "           min_impurity_decrease=0.0, min_impurity_split=None,\n",
       "           min_samples_leaf=1, min_samples_split=2,\n",
       "           min_weight_fraction_leaf=0.0, n_estimators=10, n_jobs=1,\n",
       "           oob_score=False, random_state=1339, verbose=0, warm_start=False)"
      ]
     },
     "execution_count": 180,
     "metadata": {},
     "output_type": "execute_result"
    }
   ],
   "source": [
    "code4_model_out = RandomForestRegressor(random_state=1339)\n",
    "# make train set\n",
    "features = [\"passenger_count\",\"trip_distance\",\"payment_type\",\"duration_seconds\"]\n",
    "\n",
    "#fit - subtract 2.5 for inital charge, has to be added later\n",
    "code4_model_out.fit(code4data_out[features],code4data_out[\"fare_amount\"]-2.5)"
   ]
  },
  {
   "cell_type": "markdown",
   "metadata": {},
   "source": [
    "## Prediction"
   ]
  },
  {
   "cell_type": "code",
   "execution_count": 181,
   "metadata": {},
   "outputs": [],
   "source": [
    "#apply to test set\n",
    "code4test[\"endsInManhattan\"] = code4test.apply(lambda x : inArea(manhattan_cords,x[\"dropoff_latitude\"],x[\"dropoff_longitude\"]),axis=1)\n",
    "code4test[\"startsInManhattan\"] = code4test.apply(lambda x : inArea(manhattan_cords,x[\"pickup_latitude\"],x[\"pickup_longitude\"]),axis=1)"
   ]
  },
  {
   "cell_type": "markdown",
   "metadata": {},
   "source": [
    "We have four possible trip patterns:\n",
    "    1. starts in city, ends in city --> should not have ratecode 4 -> outlier, ignore\n",
    "    2. starts in city, ends out of city -> standard trip\n",
    "    3. starts out of city, ends out of city -> no calculations to be done here, use double rate for whole trip\n",
    "    4. starts out of city, ends in city -> reverse standard trip"
   ]
  },
  {
   "cell_type": "code",
   "execution_count": 182,
   "metadata": {},
   "outputs": [
    {
     "data": {
      "text/plain": [
       "(1000, 20)"
      ]
     },
     "execution_count": 182,
     "metadata": {},
     "output_type": "execute_result"
    }
   ],
   "source": [
    "np.shape(code4test)"
   ]
  },
  {
   "cell_type": "code",
   "execution_count": 183,
   "metadata": {},
   "outputs": [
    {
     "data": {
      "text/plain": [
       "(35, 20)"
      ]
     },
     "execution_count": 183,
     "metadata": {},
     "output_type": "execute_result"
    }
   ],
   "source": [
    "#option1: how many trips start and end in manhattan, these should not have this ratecode\n",
    "code4test_wrong = code4test[(code4test.startsInManhattan & code4test.endsInManhattan)]\n",
    "np.shape(code4test_wrong)"
   ]
  },
  {
   "cell_type": "code",
   "execution_count": 184,
   "metadata": {},
   "outputs": [
    {
     "data": {
      "text/plain": [
       "(238, 20)"
      ]
     },
     "execution_count": 184,
     "metadata": {},
     "output_type": "execute_result"
    }
   ],
   "source": [
    "#option2 & option 4: \n",
    "code4test_mixed = code4test[code4test.startsInManhattan ^ code4test.endsInManhattan] \n",
    "np.shape(code4test_mixed)"
   ]
  },
  {
   "cell_type": "code",
   "execution_count": 185,
   "metadata": {},
   "outputs": [
    {
     "data": {
      "text/plain": [
       "(727, 20)"
      ]
     },
     "execution_count": 185,
     "metadata": {},
     "output_type": "execute_result"
    }
   ],
   "source": [
    "#option 3:\n",
    "code4test_out = code4test[(code4test.startsInManhattan==False) & (code4test.endsInManhattan==False)] \n",
    "np.shape(code4test_out)"
   ]
  },
  {
   "cell_type": "code",
   "execution_count": 186,
   "metadata": {},
   "outputs": [],
   "source": [
    "# try to find out which bridge is used in a trip \n",
    "# assumption: the bridge is used that minimizes the pickup-bridge-dropoff distance (air-line distance)\n",
    "counter = 1\n",
    "for index, row in code4test_mixed.iterrows():\n",
    "    \n",
    "    startP = (row[\"pickup_latitude\"],row[\"pickup_longitude\"])\n",
    "    endP = (row[\"dropoff_latitude\"],row[\"dropoff_longitude\"])\n",
    "    \n",
    "    if(row.startsInManhattan and row.endsInManhattan):\n",
    "        #print(\"Outlier found, index\",index)\n",
    "        continue\n",
    "    elif (not row.startsInManhattan and not row.endsInManhattan):\n",
    "        #print(\"Complete out of city trip, index\",index)\n",
    "        code4test_mixed.at[index,\"bridge\"] = None;\n",
    "        code4test_mixed.at[index,\"in_city_distance\"] = 0;\n",
    "        code4test_mixed.at[index,\"out_of_city_distance\"] = geodesic(startP, endP).miles\n",
    "        code4test_mixed.at[index,\"total_over_bridge_distance\"] = geodesic(startP, endP).miles  \n",
    "        continue\n",
    "    elif (not row.startsInManhattan and  row.endsInManhattan): # reverse trip\n",
    "        temp = startP # here we swap start and endpoints so its similar to a standard trip\n",
    "        startP = endP\n",
    "        endP = temp\n",
    "    \n",
    "    #find closest bridge\n",
    "    closest_bridge_index = -1\n",
    "    closest_total_bridge_distance = float('inf')\n",
    "    for i in range(len(bridges)):\n",
    "        distance_to_bridge = geodesic(startP, bridges[i]).miles\n",
    "        distance_to_dest =  geodesic(bridges[i],endP).miles\n",
    "        total = distance_to_bridge + distance_to_dest\n",
    "        if(total < closest_total_bridge_distance):\n",
    "            closest_total_bridge_distance = total\n",
    "            closest_bridge_index = i\n",
    "            closest_distance_to_bridge = distance_to_bridge\n",
    "            closest_distance_to_dest = distance_to_dest\n",
    "            \n",
    "    #print(\"Route {} travels over bridge/tunnel {} (to bridge: {:0.2f}, to dest: {:0.2f}, total: {:0.2f}, trip_distance : {:0.2f})\".format(\n",
    "    #    counter, closest_bridge_index,closest_distance_to_bridge,closest_distance_to_dest,closest_total_bridge_distance,totalDistance))\n",
    "    counter = counter + 1\n",
    "    \n",
    "    code4test_mixed.at[index,\"bridge\"] = closest_bridge_index;\n",
    "    code4test_mixed.at[index,\"in_city_distance\"] = closest_distance_to_bridge;\n",
    "    code4test_mixed.at[index,\"out_of_city_distance\"] = closest_distance_to_dest\n",
    "    code4test_mixed.at[index,\"total_over_bridge_distance\"] = closest_total_bridge_distance       "
   ]
  },
  {
   "cell_type": "code",
   "execution_count": 190,
   "metadata": {},
   "outputs": [],
   "source": [
    "#states how much of the fare was contributed by ride in the city. Calculated by \n",
    "code4test_mixed[\"inCityPercentage\"] = code4test_mixed.apply(lambda x: x.in_city_distance/(x.in_city_distance+2*x.out_of_city_distance+0.0001),axis=1)"
   ]
  },
  {
   "cell_type": "code",
   "execution_count": 191,
   "metadata": {},
   "outputs": [],
   "source": [
    "# prediction for the inner city part\n",
    "code4_mixed_inner_pred = code4_model_inner.predict(code4test_mixed[[\"passenger_count\",\"in_city_distance\",\"payment_type\"]])"
   ]
  },
  {
   "cell_type": "code",
   "execution_count": 192,
   "metadata": {},
   "outputs": [],
   "source": [
    "#prediction for out of city part\n",
    "code4_mixed_outer_pred = code4_model_outer.predict(code4test_mixed[[\"passenger_count\",\"out_of_city_distance\",\"payment_type\"]])"
   ]
  },
  {
   "cell_type": "code",
   "execution_count": 193,
   "metadata": {},
   "outputs": [],
   "source": [
    "#combine the results\n",
    "#round comined predictions to closest .5\n",
    "#add 2.5 inital charge which was removed before training\n",
    "code4test_mixed[\"fare_amount_prediction\"]=np.round((code4_mixed_inner_pred+code4_mixed_outer_pred)*2)/2+2.5"
   ]
  },
  {
   "cell_type": "markdown",
   "metadata": {},
   "source": [
    "Next: predict out trips."
   ]
  },
  {
   "cell_type": "code",
   "execution_count": 194,
   "metadata": {},
   "outputs": [],
   "source": [
    "code4test_out_pred = code4_model_out.predict(code4test_out[[\"passenger_count\",\"trip_distance\",\"payment_type\",\"duration_seconds\"]])\n",
    "code4test_out[\"fare_amount_prediction\"]=np.round(code4test_out_pred*2)/2+2.5"
   ]
  },
  {
   "cell_type": "markdown",
   "metadata": {},
   "source": [
    "Lastly: predict trips that only were in Manhattan with double rate model (same as outer trips)"
   ]
  },
  {
   "cell_type": "code",
   "execution_count": 195,
   "metadata": {},
   "outputs": [],
   "source": [
    "code4_test_wrong_pred = code4_model_out.predict(code4test_wrong[[\"passenger_count\",\"trip_distance\",\"payment_type\",\"duration_seconds\"]])\n",
    "code4test_wrong[\"fare_amount_prediction\"]=np.round(code4_test_wrong_pred*2)/2+2.5"
   ]
  },
  {
   "cell_type": "code",
   "execution_count": 196,
   "metadata": {},
   "outputs": [],
   "source": [
    "#combine all code 4 dataframes with predictions\n",
    "code4test = pd.concat([code4test_mixed,code4test_out,code4test_wrong])"
   ]
  },
  {
   "cell_type": "markdown",
   "metadata": {},
   "source": [
    "# Ratecode 5 (Negotiated Fares)"
   ]
  },
  {
   "cell_type": "markdown",
   "metadata": {},
   "source": [
    "## Building the Model"
   ]
  },
  {
   "cell_type": "code",
   "execution_count": 111,
   "metadata": {},
   "outputs": [],
   "source": [
    "code5data = train[train.RatecodeID == 5]\n",
    "code5test = test[test.RatecodeID == 5]"
   ]
  },
  {
   "cell_type": "code",
   "execution_count": 112,
   "metadata": {},
   "outputs": [],
   "source": [
    "features = [\"duration_seconds\",\"passenger_count\",\"trip_distance\",\"payment_type\",\"avg_speed\"]\n",
    "\n",
    "code5lgb_dataset = lgb.Dataset(code5data[features], label=code5data[\"fare_amount\"])\n",
    "\n",
    "params = {}\n",
    "params['learning_rate'] = .05\n",
    "params['boosting_type'] = 'gbdt'\n",
    "params['min_samples_split'] = 3\n",
    "params['min_samples_leaf'] = 15\n",
    "params['max_features'] = 'sqrt'\n",
    "params['max_depth'] = 10\n",
    "params['subsample'] = 0.8\n",
    "\n",
    "code5_model = lgb.train(params, code5lgb_dataset, 300)"
   ]
  },
  {
   "cell_type": "markdown",
   "metadata": {},
   "source": [
    "## Prediction"
   ]
  },
  {
   "cell_type": "code",
   "execution_count": 114,
   "metadata": {},
   "outputs": [],
   "source": [
    "code5prediction = np.round(code5_model.predict(code5test[features])*2)/2\n",
    "code5test = code5test.assign(fare_amount_prediction = code5prediction)"
   ]
  },
  {
   "cell_type": "markdown",
   "metadata": {},
   "source": [
    "# Recombine all predictions and save"
   ]
  },
  {
   "cell_type": "code",
   "execution_count": 197,
   "metadata": {},
   "outputs": [],
   "source": [
    "testResult = pd.concat([code1test,code2test,code3test,code4test,code5test])"
   ]
  },
  {
   "cell_type": "code",
   "execution_count": 198,
   "metadata": {},
   "outputs": [],
   "source": [
    "testResult.to_csv(\"C:\\\\Users\\\\Leo\\\\Dropbox\\\\Info Göttingen\\\\Practical Course Data Science\\\\Task 2\\\\data\\\\test_prediction.csv\")"
   ]
  },
  {
   "cell_type": "code",
   "execution_count": 199,
   "metadata": {},
   "outputs": [
    {
     "data": {
      "text/plain": [
       "count    64000.000000\n",
       "mean        23.213414\n",
       "std         23.945688\n",
       "min          3.500000\n",
       "25%          7.500000\n",
       "50%         12.000000\n",
       "75%         31.500000\n",
       "max        195.500000\n",
       "Name: fare_amount_prediction, dtype: float64"
      ]
     },
     "execution_count": 199,
     "metadata": {},
     "output_type": "execute_result"
    }
   ],
   "source": [
    "testResult.fare_amount_prediction.describe()"
   ]
  },
  {
   "cell_type": "code",
   "execution_count": 200,
   "metadata": {},
   "outputs": [
    {
     "data": {
      "text/html": [
       "<div>\n",
       "<style scoped>\n",
       "    .dataframe tbody tr th:only-of-type {\n",
       "        vertical-align: middle;\n",
       "    }\n",
       "\n",
       "    .dataframe tbody tr th {\n",
       "        vertical-align: top;\n",
       "    }\n",
       "\n",
       "    .dataframe thead th {\n",
       "        text-align: right;\n",
       "    }\n",
       "</style>\n",
       "<table border=\"1\" class=\"dataframe\">\n",
       "  <thead>\n",
       "    <tr style=\"text-align: right;\">\n",
       "      <th></th>\n",
       "      <th>id</th>\n",
       "      <th>VendorID</th>\n",
       "      <th>passenger_count</th>\n",
       "      <th>trip_distance</th>\n",
       "      <th>pickup_longitude</th>\n",
       "      <th>pickup_latitude</th>\n",
       "      <th>RatecodeID</th>\n",
       "      <th>dropoff_longitude</th>\n",
       "      <th>dropoff_latitude</th>\n",
       "      <th>payment_type</th>\n",
       "      <th>tolls_amount</th>\n",
       "      <th>improvement_surcharge</th>\n",
       "      <th>duration</th>\n",
       "      <th>duration_seconds</th>\n",
       "      <th>avg_speed</th>\n",
       "    </tr>\n",
       "  </thead>\n",
       "  <tbody>\n",
       "    <tr>\n",
       "      <th>count</th>\n",
       "      <td>64000.000000</td>\n",
       "      <td>64000.000000</td>\n",
       "      <td>64000.000000</td>\n",
       "      <td>64000.000000</td>\n",
       "      <td>64000.000000</td>\n",
       "      <td>64000.000000</td>\n",
       "      <td>64000.000000</td>\n",
       "      <td>64000.000000</td>\n",
       "      <td>64000.000000</td>\n",
       "      <td>64000.000000</td>\n",
       "      <td>64000.00000</td>\n",
       "      <td>64000.000000</td>\n",
       "      <td>64000</td>\n",
       "      <td>64000.000000</td>\n",
       "      <td>64000.000000</td>\n",
       "    </tr>\n",
       "    <tr>\n",
       "      <th>mean</th>\n",
       "      <td>32000.500000</td>\n",
       "      <td>1.537047</td>\n",
       "      <td>1.671188</td>\n",
       "      <td>5.896713</td>\n",
       "      <td>-73.960769</td>\n",
       "      <td>40.744481</td>\n",
       "      <td>1.406250</td>\n",
       "      <td>-73.975568</td>\n",
       "      <td>40.746855</td>\n",
       "      <td>1.337031</td>\n",
       "      <td>1.74787</td>\n",
       "      <td>0.299991</td>\n",
       "      <td>0 days 00:20:30.515343</td>\n",
       "      <td>1230.515344</td>\n",
       "      <td>14.546904</td>\n",
       "    </tr>\n",
       "    <tr>\n",
       "      <th>std</th>\n",
       "      <td>18475.352951</td>\n",
       "      <td>0.498630</td>\n",
       "      <td>1.303686</td>\n",
       "      <td>7.234262</td>\n",
       "      <td>0.060701</td>\n",
       "      <td>0.037676</td>\n",
       "      <td>0.913769</td>\n",
       "      <td>0.084823</td>\n",
       "      <td>0.047903</td>\n",
       "      <td>0.492926</td>\n",
       "      <td>4.14628</td>\n",
       "      <td>0.001677</td>\n",
       "      <td>0 days 00:18:00.955691</td>\n",
       "      <td>1080.955692</td>\n",
       "      <td>9.388043</td>\n",
       "    </tr>\n",
       "    <tr>\n",
       "      <th>min</th>\n",
       "      <td>1.000000</td>\n",
       "      <td>1.000000</td>\n",
       "      <td>0.000000</td>\n",
       "      <td>0.010000</td>\n",
       "      <td>-74.527763</td>\n",
       "      <td>40.535580</td>\n",
       "      <td>1.000000</td>\n",
       "      <td>-74.833679</td>\n",
       "      <td>40.045311</td>\n",
       "      <td>1.000000</td>\n",
       "      <td>0.00000</td>\n",
       "      <td>0.000000</td>\n",
       "      <td>0 days 00:00:40</td>\n",
       "      <td>40.000000</td>\n",
       "      <td>0.014337</td>\n",
       "    </tr>\n",
       "    <tr>\n",
       "      <th>25%</th>\n",
       "      <td>16000.750000</td>\n",
       "      <td>1.000000</td>\n",
       "      <td>1.000000</td>\n",
       "      <td>1.200000</td>\n",
       "      <td>-73.991264</td>\n",
       "      <td>40.732536</td>\n",
       "      <td>1.000000</td>\n",
       "      <td>-73.993828</td>\n",
       "      <td>40.725780</td>\n",
       "      <td>1.000000</td>\n",
       "      <td>0.00000</td>\n",
       "      <td>0.300000</td>\n",
       "      <td>0 days 00:07:48</td>\n",
       "      <td>468.000000</td>\n",
       "      <td>8.153310</td>\n",
       "    </tr>\n",
       "    <tr>\n",
       "      <th>50%</th>\n",
       "      <td>32000.500000</td>\n",
       "      <td>2.000000</td>\n",
       "      <td>1.000000</td>\n",
       "      <td>2.260000</td>\n",
       "      <td>-73.980370</td>\n",
       "      <td>40.752197</td>\n",
       "      <td>1.000000</td>\n",
       "      <td>-73.980309</td>\n",
       "      <td>40.751484</td>\n",
       "      <td>1.000000</td>\n",
       "      <td>0.00000</td>\n",
       "      <td>0.300000</td>\n",
       "      <td>0 days 00:14:18</td>\n",
       "      <td>858.000000</td>\n",
       "      <td>11.716077</td>\n",
       "    </tr>\n",
       "    <tr>\n",
       "      <th>75%</th>\n",
       "      <td>48000.250000</td>\n",
       "      <td>2.000000</td>\n",
       "      <td>2.000000</td>\n",
       "      <td>8.080000</td>\n",
       "      <td>-73.962111</td>\n",
       "      <td>40.766815</td>\n",
       "      <td>1.000000</td>\n",
       "      <td>-73.960541</td>\n",
       "      <td>40.768697</td>\n",
       "      <td>2.000000</td>\n",
       "      <td>0.00000</td>\n",
       "      <td>0.300000</td>\n",
       "      <td>0 days 00:27:39</td>\n",
       "      <td>1659.000000</td>\n",
       "      <td>18.140034</td>\n",
       "    </tr>\n",
       "    <tr>\n",
       "      <th>max</th>\n",
       "      <td>64000.000000</td>\n",
       "      <td>2.000000</td>\n",
       "      <td>9.000000</td>\n",
       "      <td>86.600000</td>\n",
       "      <td>-72.659561</td>\n",
       "      <td>41.255787</td>\n",
       "      <td>5.000000</td>\n",
       "      <td>-72.551582</td>\n",
       "      <td>41.525589</td>\n",
       "      <td>4.000000</td>\n",
       "      <td>82.50000</td>\n",
       "      <td>0.300000</td>\n",
       "      <td>0 days 02:45:31</td>\n",
       "      <td>9931.000000</td>\n",
       "      <td>176.170213</td>\n",
       "    </tr>\n",
       "  </tbody>\n",
       "</table>\n",
       "</div>"
      ],
      "text/plain": [
       "                 id      VendorID  passenger_count  trip_distance  \\\n",
       "count  64000.000000  64000.000000     64000.000000   64000.000000   \n",
       "mean   32000.500000      1.537047         1.671188       5.896713   \n",
       "std    18475.352951      0.498630         1.303686       7.234262   \n",
       "min        1.000000      1.000000         0.000000       0.010000   \n",
       "25%    16000.750000      1.000000         1.000000       1.200000   \n",
       "50%    32000.500000      2.000000         1.000000       2.260000   \n",
       "75%    48000.250000      2.000000         2.000000       8.080000   \n",
       "max    64000.000000      2.000000         9.000000      86.600000   \n",
       "\n",
       "       pickup_longitude  pickup_latitude    RatecodeID  dropoff_longitude  \\\n",
       "count      64000.000000     64000.000000  64000.000000       64000.000000   \n",
       "mean         -73.960769        40.744481      1.406250         -73.975568   \n",
       "std            0.060701         0.037676      0.913769           0.084823   \n",
       "min          -74.527763        40.535580      1.000000         -74.833679   \n",
       "25%          -73.991264        40.732536      1.000000         -73.993828   \n",
       "50%          -73.980370        40.752197      1.000000         -73.980309   \n",
       "75%          -73.962111        40.766815      1.000000         -73.960541   \n",
       "max          -72.659561        41.255787      5.000000         -72.551582   \n",
       "\n",
       "       dropoff_latitude  payment_type  tolls_amount  improvement_surcharge  \\\n",
       "count      64000.000000  64000.000000   64000.00000           64000.000000   \n",
       "mean          40.746855      1.337031       1.74787               0.299991   \n",
       "std            0.047903      0.492926       4.14628               0.001677   \n",
       "min           40.045311      1.000000       0.00000               0.000000   \n",
       "25%           40.725780      1.000000       0.00000               0.300000   \n",
       "50%           40.751484      1.000000       0.00000               0.300000   \n",
       "75%           40.768697      2.000000       0.00000               0.300000   \n",
       "max           41.525589      4.000000      82.50000               0.300000   \n",
       "\n",
       "                     duration  duration_seconds     avg_speed  \n",
       "count                   64000      64000.000000  64000.000000  \n",
       "mean   0 days 00:20:30.515343       1230.515344     14.546904  \n",
       "std    0 days 00:18:00.955691       1080.955692      9.388043  \n",
       "min           0 days 00:00:40         40.000000      0.014337  \n",
       "25%           0 days 00:07:48        468.000000      8.153310  \n",
       "50%           0 days 00:14:18        858.000000     11.716077  \n",
       "75%           0 days 00:27:39       1659.000000     18.140034  \n",
       "max           0 days 02:45:31       9931.000000    176.170213  "
      ]
     },
     "execution_count": 200,
     "metadata": {},
     "output_type": "execute_result"
    }
   ],
   "source": [
    "test.describe()"
   ]
  },
  {
   "cell_type": "code",
   "execution_count": null,
   "metadata": {},
   "outputs": [],
   "source": []
  }
 ],
 "metadata": {
  "kernelspec": {
   "display_name": "Python 3",
   "language": "python",
   "name": "python3"
  },
  "language_info": {
   "codemirror_mode": {
    "name": "ipython",
    "version": 3
   },
   "file_extension": ".py",
   "mimetype": "text/x-python",
   "name": "python",
   "nbconvert_exporter": "python",
   "pygments_lexer": "ipython3",
   "version": "3.6.4"
  }
 },
 "nbformat": 4,
 "nbformat_minor": 2
}
