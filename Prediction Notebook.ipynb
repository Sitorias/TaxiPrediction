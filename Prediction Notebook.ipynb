{
 "cells": [
  {
   "cell_type": "markdown",
   "metadata": {},
   "source": [
    "# Load Data (already cleaned)"
   ]
  },
  {
   "cell_type": "code",
   "execution_count": 2,
   "metadata": {},
   "outputs": [],
   "source": [
    "# Manage imports\n",
    "import numpy as np\n",
    "import pandas as pd\n",
    "import seaborn as sns  \n",
    "import matplotlib.pyplot as plt\n",
    "from sklearn.ensemble import RandomForestRegressor\n",
    "\n",
    "pd.options.mode.chained_assignment = None  # default='warn'"
   ]
  },
  {
   "cell_type": "code",
   "execution_count": 120,
   "metadata": {},
   "outputs": [
    {
     "name": "stderr",
     "output_type": "stream",
     "text": [
      "E:\\Anaconda\\lib\\site-packages\\numpy\\lib\\arraysetops.py:466: FutureWarning: elementwise comparison failed; returning scalar instead, but in the future will perform elementwise comparison\n",
      "  mask |= (ar1 == a)\n"
     ]
    }
   ],
   "source": [
    "# read data in memory\n",
    "train = pd.read_csv(\"C:\\\\Users\\\\Leo\\\\TaxiData\\\\clean_v2.csv\",index_col=0)"
   ]
  },
  {
   "cell_type": "code",
   "execution_count": 4,
   "metadata": {},
   "outputs": [],
   "source": [
    "test = pd.read_csv(\"C:\\\\Users\\\\Leo\\\\Dropbox\\\\Info Göttingen\\\\Practical Course Data Science\\\\Task 2\\\\data\\\\test_data_v2.csv\",engine=\"python\")"
   ]
  },
  {
   "cell_type": "code",
   "execution_count": 5,
   "metadata": {},
   "outputs": [
    {
     "data": {
      "text/html": [
       "<div>\n",
       "<style scoped>\n",
       "    .dataframe tbody tr th:only-of-type {\n",
       "        vertical-align: middle;\n",
       "    }\n",
       "\n",
       "    .dataframe tbody tr th {\n",
       "        vertical-align: top;\n",
       "    }\n",
       "\n",
       "    .dataframe thead th {\n",
       "        text-align: right;\n",
       "    }\n",
       "</style>\n",
       "<table border=\"1\" class=\"dataframe\">\n",
       "  <thead>\n",
       "    <tr style=\"text-align: right;\">\n",
       "      <th></th>\n",
       "      <th>tpep_pickup_datetime</th>\n",
       "      <th>tpep_dropoff_datetime</th>\n",
       "      <th>passenger_count</th>\n",
       "      <th>trip_distance</th>\n",
       "      <th>pickup_longitude</th>\n",
       "      <th>pickup_latitude</th>\n",
       "      <th>RatecodeID</th>\n",
       "      <th>dropoff_longitude</th>\n",
       "      <th>dropoff_latitude</th>\n",
       "      <th>payment_type</th>\n",
       "      <th>...</th>\n",
       "      <th>subtotal</th>\n",
       "      <th>tip_perc</th>\n",
       "      <th>pickup_hour</th>\n",
       "      <th>pickup_coord</th>\n",
       "      <th>dropoff_coord</th>\n",
       "      <th>avg_speed</th>\n",
       "      <th>holiday</th>\n",
       "      <th>overnight</th>\n",
       "      <th>day</th>\n",
       "      <th>ridesAtPickupHour</th>\n",
       "    </tr>\n",
       "  </thead>\n",
       "  <tbody>\n",
       "    <tr>\n",
       "      <th>0</th>\n",
       "      <td>2016-06-09 21:06:36</td>\n",
       "      <td>2016-06-09 21:13:08</td>\n",
       "      <td>2</td>\n",
       "      <td>0.79</td>\n",
       "      <td>-73.983360</td>\n",
       "      <td>40.760937</td>\n",
       "      <td>1</td>\n",
       "      <td>-73.977463</td>\n",
       "      <td>40.753979</td>\n",
       "      <td>2</td>\n",
       "      <td>...</td>\n",
       "      <td>7.3</td>\n",
       "      <td>0.000000</td>\n",
       "      <td>21</td>\n",
       "      <td>(40.76093673706055, -73.98336029052734)</td>\n",
       "      <td>(40.75397872924805, -73.97746276855469)</td>\n",
       "      <td>7.255102</td>\n",
       "      <td>False</td>\n",
       "      <td>True</td>\n",
       "      <td>Thursday</td>\n",
       "      <td>101559</td>\n",
       "    </tr>\n",
       "    <tr>\n",
       "      <th>1</th>\n",
       "      <td>2016-06-09 21:06:36</td>\n",
       "      <td>2016-06-09 21:35:11</td>\n",
       "      <td>1</td>\n",
       "      <td>5.22</td>\n",
       "      <td>-73.981720</td>\n",
       "      <td>40.736668</td>\n",
       "      <td>1</td>\n",
       "      <td>-73.981636</td>\n",
       "      <td>40.670242</td>\n",
       "      <td>1</td>\n",
       "      <td>...</td>\n",
       "      <td>23.3</td>\n",
       "      <td>0.171674</td>\n",
       "      <td>21</td>\n",
       "      <td>(40.73666763305664, -73.98171997070312)</td>\n",
       "      <td>(40.67024230957031, -73.98163604736328)</td>\n",
       "      <td>10.957434</td>\n",
       "      <td>False</td>\n",
       "      <td>True</td>\n",
       "      <td>Thursday</td>\n",
       "      <td>101559</td>\n",
       "    </tr>\n",
       "    <tr>\n",
       "      <th>3</th>\n",
       "      <td>2016-06-09 21:06:36</td>\n",
       "      <td>2016-06-09 21:36:10</td>\n",
       "      <td>1</td>\n",
       "      <td>7.39</td>\n",
       "      <td>-73.982361</td>\n",
       "      <td>40.773891</td>\n",
       "      <td>1</td>\n",
       "      <td>-73.929466</td>\n",
       "      <td>40.851540</td>\n",
       "      <td>1</td>\n",
       "      <td>...</td>\n",
       "      <td>27.3</td>\n",
       "      <td>0.036630</td>\n",
       "      <td>21</td>\n",
       "      <td>(40.77389144897461, -73.98236083984375)</td>\n",
       "      <td>(40.851539611816406, -73.9294662475586)</td>\n",
       "      <td>14.996618</td>\n",
       "      <td>False</td>\n",
       "      <td>True</td>\n",
       "      <td>Thursday</td>\n",
       "      <td>101559</td>\n",
       "    </tr>\n",
       "    <tr>\n",
       "      <th>4</th>\n",
       "      <td>2016-06-09 21:06:36</td>\n",
       "      <td>2016-06-09 21:23:23</td>\n",
       "      <td>1</td>\n",
       "      <td>3.10</td>\n",
       "      <td>-73.987106</td>\n",
       "      <td>40.733173</td>\n",
       "      <td>1</td>\n",
       "      <td>-73.985909</td>\n",
       "      <td>40.766445</td>\n",
       "      <td>1</td>\n",
       "      <td>...</td>\n",
       "      <td>14.8</td>\n",
       "      <td>0.200000</td>\n",
       "      <td>21</td>\n",
       "      <td>(40.73317337036133, -73.98710632324219)</td>\n",
       "      <td>(40.7664451599121, -73.98590850830078)</td>\n",
       "      <td>11.082423</td>\n",
       "      <td>False</td>\n",
       "      <td>True</td>\n",
       "      <td>Thursday</td>\n",
       "      <td>101559</td>\n",
       "    </tr>\n",
       "    <tr>\n",
       "      <th>5</th>\n",
       "      <td>2016-06-09 21:06:36</td>\n",
       "      <td>2016-06-09 21:19:21</td>\n",
       "      <td>1</td>\n",
       "      <td>2.17</td>\n",
       "      <td>-73.995201</td>\n",
       "      <td>40.739491</td>\n",
       "      <td>1</td>\n",
       "      <td>-73.993202</td>\n",
       "      <td>40.762642</td>\n",
       "      <td>1</td>\n",
       "      <td>...</td>\n",
       "      <td>11.8</td>\n",
       "      <td>0.200000</td>\n",
       "      <td>21</td>\n",
       "      <td>(40.7394905090332, -73.99520111083984)</td>\n",
       "      <td>(40.76264190673828, -73.99320220947266)</td>\n",
       "      <td>10.211765</td>\n",
       "      <td>False</td>\n",
       "      <td>True</td>\n",
       "      <td>Thursday</td>\n",
       "      <td>101559</td>\n",
       "    </tr>\n",
       "  </tbody>\n",
       "</table>\n",
       "<p>5 rows × 27 columns</p>\n",
       "</div>"
      ],
      "text/plain": [
       "  tpep_pickup_datetime tpep_dropoff_datetime  passenger_count  trip_distance  \\\n",
       "0  2016-06-09 21:06:36   2016-06-09 21:13:08                2           0.79   \n",
       "1  2016-06-09 21:06:36   2016-06-09 21:35:11                1           5.22   \n",
       "3  2016-06-09 21:06:36   2016-06-09 21:36:10                1           7.39   \n",
       "4  2016-06-09 21:06:36   2016-06-09 21:23:23                1           3.10   \n",
       "5  2016-06-09 21:06:36   2016-06-09 21:19:21                1           2.17   \n",
       "\n",
       "   pickup_longitude  pickup_latitude  RatecodeID  dropoff_longitude  \\\n",
       "0        -73.983360        40.760937           1         -73.977463   \n",
       "1        -73.981720        40.736668           1         -73.981636   \n",
       "3        -73.982361        40.773891           1         -73.929466   \n",
       "4        -73.987106        40.733173           1         -73.985909   \n",
       "5        -73.995201        40.739491           1         -73.993202   \n",
       "\n",
       "   dropoff_latitude  payment_type        ...          subtotal  tip_perc  \\\n",
       "0         40.753979             2        ...               7.3  0.000000   \n",
       "1         40.670242             1        ...              23.3  0.171674   \n",
       "3         40.851540             1        ...              27.3  0.036630   \n",
       "4         40.766445             1        ...              14.8  0.200000   \n",
       "5         40.762642             1        ...              11.8  0.200000   \n",
       "\n",
       "   pickup_hour                             pickup_coord  \\\n",
       "0           21  (40.76093673706055, -73.98336029052734)   \n",
       "1           21  (40.73666763305664, -73.98171997070312)   \n",
       "3           21  (40.77389144897461, -73.98236083984375)   \n",
       "4           21  (40.73317337036133, -73.98710632324219)   \n",
       "5           21   (40.7394905090332, -73.99520111083984)   \n",
       "\n",
       "                             dropoff_coord  avg_speed  holiday  overnight  \\\n",
       "0  (40.75397872924805, -73.97746276855469)   7.255102    False       True   \n",
       "1  (40.67024230957031, -73.98163604736328)  10.957434    False       True   \n",
       "3  (40.851539611816406, -73.9294662475586)  14.996618    False       True   \n",
       "4   (40.7664451599121, -73.98590850830078)  11.082423    False       True   \n",
       "5  (40.76264190673828, -73.99320220947266)  10.211765    False       True   \n",
       "\n",
       "        day  ridesAtPickupHour  \n",
       "0  Thursday             101559  \n",
       "1  Thursday             101559  \n",
       "3  Thursday             101559  \n",
       "4  Thursday             101559  \n",
       "5  Thursday             101559  \n",
       "\n",
       "[5 rows x 27 columns]"
      ]
     },
     "execution_count": 5,
     "metadata": {},
     "output_type": "execute_result"
    }
   ],
   "source": [
    "train.head()"
   ]
  },
  {
   "cell_type": "markdown",
   "metadata": {},
   "source": [
    "# Prepare the Test set (add features)"
   ]
  },
  {
   "cell_type": "markdown",
   "metadata": {},
   "source": [
    "## Add duration in seconds"
   ]
  },
  {
   "cell_type": "code",
   "execution_count": 6,
   "metadata": {},
   "outputs": [],
   "source": [
    "test[\"tpep_pickup_datetime\"] = pd.to_datetime(test.tpep_pickup_datetime)\n",
    "test['tpep_dropoff_datetime'] = pd.to_datetime(test.tpep_dropoff_datetime)"
   ]
  },
  {
   "cell_type": "code",
   "execution_count": 7,
   "metadata": {},
   "outputs": [],
   "source": [
    "# Get duration\n",
    "test['duration'] = pd.to_datetime(test[\"tpep_dropoff_datetime\"])-pd.to_datetime(test[\"tpep_pickup_datetime\"])"
   ]
  },
  {
   "cell_type": "code",
   "execution_count": 8,
   "metadata": {},
   "outputs": [
    {
     "name": "stdout",
     "output_type": "stream",
     "text": [
      "Wall time: 3.23 s\n"
     ]
    }
   ],
   "source": [
    "%%time\n",
    "test[\"duration\"] = test.apply(lambda x : x.duration.total_seconds(),axis=1)"
   ]
  },
  {
   "cell_type": "markdown",
   "metadata": {},
   "source": [
    "## Calculate average speed"
   ]
  },
  {
   "cell_type": "code",
   "execution_count": 9,
   "metadata": {},
   "outputs": [],
   "source": [
    "test = test.assign(avg_speed = test.trip_distance/test.duration*60*60)"
   ]
  },
  {
   "cell_type": "code",
   "execution_count": 10,
   "metadata": {
    "scrolled": true
   },
   "outputs": [
    {
     "data": {
      "text/plain": [
       "count    64000.000000\n",
       "mean        14.546904\n",
       "std          9.388043\n",
       "min          0.014337\n",
       "25%          8.153310\n",
       "50%         11.716077\n",
       "75%         18.140034\n",
       "max        176.170213\n",
       "Name: avg_speed, dtype: float64"
      ]
     },
     "execution_count": 10,
     "metadata": {},
     "output_type": "execute_result"
    }
   ],
   "source": [
    "test.avg_speed.describe()"
   ]
  },
  {
   "cell_type": "markdown",
   "metadata": {},
   "source": [
    "## Append Traffic data from train set"
   ]
  },
  {
   "cell_type": "code",
   "execution_count": 11,
   "metadata": {},
   "outputs": [],
   "source": [
    "traffic = train.groupby([\"day\"])"
   ]
  },
  {
   "cell_type": "code",
   "execution_count": 12,
   "metadata": {},
   "outputs": [],
   "source": [
    "trafficPerDay = pd.DataFrame()\n",
    "for name, group in traffic:\n",
    "    #group by hour\n",
    "    hours = group.groupby([\"pickup_hour\"]).trip_distance.count()\n",
    "    trafficPerDay = trafficPerDay.append(pd.DataFrame({\"day\":name,\"rides\":hours,\"pickup_hour\":hours.index},index=None))    \n",
    "    "
   ]
  },
  {
   "cell_type": "code",
   "execution_count": 13,
   "metadata": {},
   "outputs": [],
   "source": [
    "test['pickup_hour'] = pd.to_datetime(test.tpep_pickup_datetime).dt.hour.astype('category')"
   ]
  },
  {
   "cell_type": "code",
   "execution_count": 14,
   "metadata": {},
   "outputs": [],
   "source": [
    "test['day'] = (pd.to_datetime(test['tpep_pickup_datetime']).dt.weekday_name)"
   ]
  },
  {
   "cell_type": "code",
   "execution_count": 15,
   "metadata": {},
   "outputs": [
    {
     "name": "stdout",
     "output_type": "stream",
     "text": [
      "Wall time: 48.2 s\n"
     ]
    }
   ],
   "source": [
    "%%time\n",
    "test[\"ridesAtPickupHour\"] = test.apply(lambda x: trafficPerDay[(trafficPerDay.day == x.day) & (trafficPerDay.pickup_hour==x.pickup_hour)].rides.iloc[0],axis=1 )"
   ]
  },
  {
   "cell_type": "markdown",
   "metadata": {},
   "source": [
    "## Remove some more outliers"
   ]
  },
  {
   "cell_type": "code",
   "execution_count": 21,
   "metadata": {},
   "outputs": [],
   "source": [
    "t = train[train.avg_speed > 40]"
   ]
  },
  {
   "cell_type": "code",
   "execution_count": 22,
   "metadata": {},
   "outputs": [
    {
     "data": {
      "text/html": [
       "<div>\n",
       "<style scoped>\n",
       "    .dataframe tbody tr th:only-of-type {\n",
       "        vertical-align: middle;\n",
       "    }\n",
       "\n",
       "    .dataframe tbody tr th {\n",
       "        vertical-align: top;\n",
       "    }\n",
       "\n",
       "    .dataframe thead th {\n",
       "        text-align: right;\n",
       "    }\n",
       "</style>\n",
       "<table border=\"1\" class=\"dataframe\">\n",
       "  <thead>\n",
       "    <tr style=\"text-align: right;\">\n",
       "      <th></th>\n",
       "      <th>passenger_count</th>\n",
       "      <th>trip_distance</th>\n",
       "      <th>pickup_longitude</th>\n",
       "      <th>pickup_latitude</th>\n",
       "      <th>RatecodeID</th>\n",
       "      <th>dropoff_longitude</th>\n",
       "      <th>dropoff_latitude</th>\n",
       "      <th>payment_type</th>\n",
       "      <th>fare_amount</th>\n",
       "      <th>extra</th>\n",
       "      <th>mta_tax</th>\n",
       "      <th>tip_amount</th>\n",
       "      <th>tolls_amount</th>\n",
       "      <th>total_amount</th>\n",
       "      <th>duration</th>\n",
       "      <th>subtotal</th>\n",
       "      <th>tip_perc</th>\n",
       "      <th>pickup_hour</th>\n",
       "      <th>avg_speed</th>\n",
       "      <th>ridesAtPickupHour</th>\n",
       "    </tr>\n",
       "  </thead>\n",
       "  <tbody>\n",
       "    <tr>\n",
       "      <th>count</th>\n",
       "      <td>21435.000000</td>\n",
       "      <td>21435.000000</td>\n",
       "      <td>21435.000000</td>\n",
       "      <td>21435.000000</td>\n",
       "      <td>21435.000000</td>\n",
       "      <td>21435.000000</td>\n",
       "      <td>21435.000000</td>\n",
       "      <td>21435.000000</td>\n",
       "      <td>21435.000000</td>\n",
       "      <td>21435.000000</td>\n",
       "      <td>21435.000000</td>\n",
       "      <td>21435.000000</td>\n",
       "      <td>21435.000000</td>\n",
       "      <td>21435.000000</td>\n",
       "      <td>21435.000000</td>\n",
       "      <td>21435.000000</td>\n",
       "      <td>21435.000000</td>\n",
       "      <td>21435.000000</td>\n",
       "      <td>21435.000000</td>\n",
       "      <td>21435.000000</td>\n",
       "    </tr>\n",
       "    <tr>\n",
       "      <th>mean</th>\n",
       "      <td>1.655050</td>\n",
       "      <td>16.653108</td>\n",
       "      <td>-73.887584</td>\n",
       "      <td>40.707964</td>\n",
       "      <td>1.881969</td>\n",
       "      <td>-73.911413</td>\n",
       "      <td>40.719459</td>\n",
       "      <td>1.268300</td>\n",
       "      <td>51.418793</td>\n",
       "      <td>0.219827</td>\n",
       "      <td>0.435573</td>\n",
       "      <td>7.770273</td>\n",
       "      <td>3.517061</td>\n",
       "      <td>63.661527</td>\n",
       "      <td>1372.414836</td>\n",
       "      <td>55.891254</td>\n",
       "      <td>0.135355</td>\n",
       "      <td>7.130721</td>\n",
       "      <td>44.053253</td>\n",
       "      <td>34690.734686</td>\n",
       "    </tr>\n",
       "    <tr>\n",
       "      <th>std</th>\n",
       "      <td>1.311149</td>\n",
       "      <td>7.235212</td>\n",
       "      <td>0.096631</td>\n",
       "      <td>0.058282</td>\n",
       "      <td>1.094520</td>\n",
       "      <td>0.151482</td>\n",
       "      <td>0.089660</td>\n",
       "      <td>0.491032</td>\n",
       "      <td>28.728417</td>\n",
       "      <td>0.372911</td>\n",
       "      <td>0.167523</td>\n",
       "      <td>7.018051</td>\n",
       "      <td>4.773465</td>\n",
       "      <td>34.491467</td>\n",
       "      <td>579.544965</td>\n",
       "      <td>30.633138</td>\n",
       "      <td>0.108620</td>\n",
       "      <td>7.050564</td>\n",
       "      <td>4.354260</td>\n",
       "      <td>23022.912625</td>\n",
       "    </tr>\n",
       "    <tr>\n",
       "      <th>min</th>\n",
       "      <td>1.000000</td>\n",
       "      <td>0.370000</td>\n",
       "      <td>-74.913620</td>\n",
       "      <td>40.171890</td>\n",
       "      <td>1.000000</td>\n",
       "      <td>-74.984268</td>\n",
       "      <td>39.945095</td>\n",
       "      <td>1.000000</td>\n",
       "      <td>3.000000</td>\n",
       "      <td>0.000000</td>\n",
       "      <td>0.000000</td>\n",
       "      <td>0.000000</td>\n",
       "      <td>0.000000</td>\n",
       "      <td>3.300000</td>\n",
       "      <td>30.000000</td>\n",
       "      <td>3.300000</td>\n",
       "      <td>0.000000</td>\n",
       "      <td>0.000000</td>\n",
       "      <td>40.000000</td>\n",
       "      <td>6784.000000</td>\n",
       "    </tr>\n",
       "    <tr>\n",
       "      <th>25%</th>\n",
       "      <td>1.000000</td>\n",
       "      <td>13.340000</td>\n",
       "      <td>-73.981758</td>\n",
       "      <td>40.645973</td>\n",
       "      <td>1.000000</td>\n",
       "      <td>-73.987576</td>\n",
       "      <td>40.646820</td>\n",
       "      <td>1.000000</td>\n",
       "      <td>39.000000</td>\n",
       "      <td>0.000000</td>\n",
       "      <td>0.500000</td>\n",
       "      <td>0.000000</td>\n",
       "      <td>0.000000</td>\n",
       "      <td>43.800000</td>\n",
       "      <td>1099.000000</td>\n",
       "      <td>40.300000</td>\n",
       "      <td>0.000000</td>\n",
       "      <td>2.000000</td>\n",
       "      <td>41.267221</td>\n",
       "      <td>15194.000000</td>\n",
       "    </tr>\n",
       "    <tr>\n",
       "      <th>50%</th>\n",
       "      <td>1.000000</td>\n",
       "      <td>17.130000</td>\n",
       "      <td>-73.883774</td>\n",
       "      <td>40.718315</td>\n",
       "      <td>2.000000</td>\n",
       "      <td>-73.926231</td>\n",
       "      <td>40.708008</td>\n",
       "      <td>1.000000</td>\n",
       "      <td>52.000000</td>\n",
       "      <td>0.000000</td>\n",
       "      <td>0.500000</td>\n",
       "      <td>8.950000</td>\n",
       "      <td>0.000000</td>\n",
       "      <td>65.300000</td>\n",
       "      <td>1419.000000</td>\n",
       "      <td>56.300000</td>\n",
       "      <td>0.199691</td>\n",
       "      <td>5.000000</td>\n",
       "      <td>42.933516</td>\n",
       "      <td>29195.000000</td>\n",
       "    </tr>\n",
       "    <tr>\n",
       "      <th>75%</th>\n",
       "      <td>2.000000</td>\n",
       "      <td>19.310000</td>\n",
       "      <td>-73.783401</td>\n",
       "      <td>40.761063</td>\n",
       "      <td>2.000000</td>\n",
       "      <td>-73.788940</td>\n",
       "      <td>40.765629</td>\n",
       "      <td>1.000000</td>\n",
       "      <td>52.000000</td>\n",
       "      <td>0.500000</td>\n",
       "      <td>0.500000</td>\n",
       "      <td>11.670000</td>\n",
       "      <td>5.540000</td>\n",
       "      <td>70.010000</td>\n",
       "      <td>1617.000000</td>\n",
       "      <td>58.340000</td>\n",
       "      <td>0.200034</td>\n",
       "      <td>9.000000</td>\n",
       "      <td>45.439425</td>\n",
       "      <td>52775.000000</td>\n",
       "    </tr>\n",
       "    <tr>\n",
       "      <th>max</th>\n",
       "      <td>6.000000</td>\n",
       "      <td>99.960000</td>\n",
       "      <td>-73.212685</td>\n",
       "      <td>41.107155</td>\n",
       "      <td>5.000000</td>\n",
       "      <td>-73.017113</td>\n",
       "      <td>41.706463</td>\n",
       "      <td>4.000000</td>\n",
       "      <td>400.000000</td>\n",
       "      <td>4.500000</td>\n",
       "      <td>0.500000</td>\n",
       "      <td>128.000000</td>\n",
       "      <td>30.000000</td>\n",
       "      <td>483.340000</td>\n",
       "      <td>7755.000000</td>\n",
       "      <td>418.340000</td>\n",
       "      <td>3.703704</td>\n",
       "      <td>23.000000</td>\n",
       "      <td>80.000000</td>\n",
       "      <td>101559.000000</td>\n",
       "    </tr>\n",
       "  </tbody>\n",
       "</table>\n",
       "</div>"
      ],
      "text/plain": [
       "       passenger_count  trip_distance  pickup_longitude  pickup_latitude  \\\n",
       "count     21435.000000   21435.000000      21435.000000     21435.000000   \n",
       "mean          1.655050      16.653108        -73.887584        40.707964   \n",
       "std           1.311149       7.235212          0.096631         0.058282   \n",
       "min           1.000000       0.370000        -74.913620        40.171890   \n",
       "25%           1.000000      13.340000        -73.981758        40.645973   \n",
       "50%           1.000000      17.130000        -73.883774        40.718315   \n",
       "75%           2.000000      19.310000        -73.783401        40.761063   \n",
       "max           6.000000      99.960000        -73.212685        41.107155   \n",
       "\n",
       "         RatecodeID  dropoff_longitude  dropoff_latitude  payment_type  \\\n",
       "count  21435.000000       21435.000000      21435.000000  21435.000000   \n",
       "mean       1.881969         -73.911413         40.719459      1.268300   \n",
       "std        1.094520           0.151482          0.089660      0.491032   \n",
       "min        1.000000         -74.984268         39.945095      1.000000   \n",
       "25%        1.000000         -73.987576         40.646820      1.000000   \n",
       "50%        2.000000         -73.926231         40.708008      1.000000   \n",
       "75%        2.000000         -73.788940         40.765629      1.000000   \n",
       "max        5.000000         -73.017113         41.706463      4.000000   \n",
       "\n",
       "        fare_amount         extra       mta_tax    tip_amount  tolls_amount  \\\n",
       "count  21435.000000  21435.000000  21435.000000  21435.000000  21435.000000   \n",
       "mean      51.418793      0.219827      0.435573      7.770273      3.517061   \n",
       "std       28.728417      0.372911      0.167523      7.018051      4.773465   \n",
       "min        3.000000      0.000000      0.000000      0.000000      0.000000   \n",
       "25%       39.000000      0.000000      0.500000      0.000000      0.000000   \n",
       "50%       52.000000      0.000000      0.500000      8.950000      0.000000   \n",
       "75%       52.000000      0.500000      0.500000     11.670000      5.540000   \n",
       "max      400.000000      4.500000      0.500000    128.000000     30.000000   \n",
       "\n",
       "       total_amount      duration      subtotal      tip_perc   pickup_hour  \\\n",
       "count  21435.000000  21435.000000  21435.000000  21435.000000  21435.000000   \n",
       "mean      63.661527   1372.414836     55.891254      0.135355      7.130721   \n",
       "std       34.491467    579.544965     30.633138      0.108620      7.050564   \n",
       "min        3.300000     30.000000      3.300000      0.000000      0.000000   \n",
       "25%       43.800000   1099.000000     40.300000      0.000000      2.000000   \n",
       "50%       65.300000   1419.000000     56.300000      0.199691      5.000000   \n",
       "75%       70.010000   1617.000000     58.340000      0.200034      9.000000   \n",
       "max      483.340000   7755.000000    418.340000      3.703704     23.000000   \n",
       "\n",
       "          avg_speed  ridesAtPickupHour  \n",
       "count  21435.000000       21435.000000  \n",
       "mean      44.053253       34690.734686  \n",
       "std        4.354260       23022.912625  \n",
       "min       40.000000        6784.000000  \n",
       "25%       41.267221       15194.000000  \n",
       "50%       42.933516       29195.000000  \n",
       "75%       45.439425       52775.000000  \n",
       "max       80.000000      101559.000000  "
      ]
     },
     "execution_count": 22,
     "metadata": {},
     "output_type": "execute_result"
    }
   ],
   "source": [
    "t.describe()"
   ]
  },
  {
   "cell_type": "code",
   "execution_count": 23,
   "metadata": {},
   "outputs": [
    {
     "data": {
      "text/plain": [
       "1    9475\n",
       "2    8346\n",
       "3    1730\n",
       "5    1447\n",
       "4     437\n",
       "Name: RatecodeID, dtype: int64"
      ]
     },
     "execution_count": 23,
     "metadata": {},
     "output_type": "execute_result"
    }
   ],
   "source": [
    "t.RatecodeID.value_counts()"
   ]
  },
  {
   "cell_type": "code",
   "execution_count": 24,
   "metadata": {},
   "outputs": [
    {
     "data": {
      "text/plain": [
       "1    8907479\n",
       "2     127432\n",
       "3      17425\n",
       "5      11165\n",
       "4       3539\n",
       "Name: RatecodeID, dtype: int64"
      ]
     },
     "execution_count": 24,
     "metadata": {},
     "output_type": "execute_result"
    }
   ],
   "source": [
    "train.RatecodeID.value_counts()"
   ]
  },
  {
   "cell_type": "code",
   "execution_count": 27,
   "metadata": {},
   "outputs": [],
   "source": [
    "train = train[(train.trip_distance <= 30) & (train.avg_speed<=40)]"
   ]
  },
  {
   "cell_type": "code",
   "execution_count": 28,
   "metadata": {},
   "outputs": [
    {
     "data": {
      "text/plain": [
       "(9044665, 27)"
      ]
     },
     "execution_count": 28,
     "metadata": {},
     "output_type": "execute_result"
    }
   ],
   "source": [
    "train.shape"
   ]
  },
  {
   "cell_type": "markdown",
   "metadata": {},
   "source": [
    "## Function for parameter optimization for lightGBM"
   ]
  },
  {
   "cell_type": "code",
   "execution_count": 34,
   "metadata": {},
   "outputs": [],
   "source": [
    "#optimization parameters for lightGBM\n",
    "param_grid = {    \n",
    "    'num_leaves':[7,31,150],\n",
    "    \"max_depth\":[-1,10,30,51],    \n",
    "}\n",
    "\n"
   ]
  },
  {
   "cell_type": "code",
   "execution_count": 138,
   "metadata": {},
   "outputs": [],
   "source": [
    "from sklearn.model_selection import ParameterGrid\n",
    "from operator import itemgetter\n",
    "import lightgbm as lgb\n",
    "import timeit\n",
    "import copy\n",
    "\n",
    "def optimisedLGM(param_grid,trainData,labels,stopping=50):\n",
    "    lgb_dataset = lgb.Dataset(trainData, label=labels)\n",
    "    stable_params = {\n",
    "        'learning_rate': [0.01],  \n",
    "        \"objective\": [\"mae\"],\n",
    "        \"bagging_fraction\" : [0.8], \n",
    "        \"feature_fraction\" : [0.8],\n",
    "        \"num_threads\" : [4],\n",
    "        \"verbose\":[-1],\n",
    "        \"boosting\":[\"gbdt\"], #rf does not work\n",
    "    }\n",
    "\n",
    "    cv_results = [(\"x\",2000)]\n",
    "    counter = 0\n",
    "    print(\"Total parameter combinations to run:\",len(ParameterGrid(param_grid)))\n",
    "    for params in ParameterGrid(param_grid): \n",
    "        p = params.extend(stable_params)\n",
    "        start_time = timeit.default_timer()\n",
    "        counter=counter+1\n",
    "        print(\"Starting run\",counter)\n",
    "        print(params)\n",
    "        validation_summary = lgb.cv(p,\n",
    "                                    lgb_dataset,\n",
    "                                    num_boost_round=3000, \n",
    "                                    nfold=3,\n",
    "                                    early_stopping_rounds=stopping,\n",
    "                                    verbose_eval=100,\n",
    "                                    stratified=False)\n",
    "\n",
    "        params[\"optimal_number_of_trees\"] = len(validation_summary[\"l1-mean\"])\n",
    "        cv_results.append((params, validation_summary[\"l1-mean\"][-1]))    \n",
    "        #this currently is buggy. the first element of the results will always be overriden by the last\n",
    "        \n",
    "        elapsed = timeit.default_timer() - start_time\n",
    "        if (counter %1 == 0):\n",
    "            print(\"Run done, took:\",round(elapsed,2),\"s\")\n",
    "            \n",
    "       \n",
    "\n",
    "    param_set = min(cv_results,key=itemgetter(1)) #best params, minimal mae\n",
    "    print(\"Best params:\",param_set)\n",
    "    print(cv_results)\n",
    "    print(\"train params:\",param_set[0].extend(stable_params))\n",
    "    lgb_model = lgb.train(param_set[0].extend(stable_params),lgb_dataset,param_set[0][\"optimal_number_of_trees\"])\n",
    "    return lgb_model"
   ]
  },
  {
   "cell_type": "code",
   "execution_count": 122,
   "metadata": {},
   "outputs": [],
   "source": [
    "from sklearn.model_selection import ParameterGrid\n",
    "from operator import itemgetter\n",
    "import lightgbm as lgb\n",
    "import timeit\n",
    "from sklearn.model_selection import GridSearchCV\n",
    "\n",
    "def optimisedLGM2(param_grid,trainData,labels):\n",
    "\n",
    "    estimator = lgb.LGBMRegressor(objective = \"mae\",n_jobs=2)\n",
    "    param_grid = {\n",
    "        'learning_rate': [0.05],\n",
    "        'n_estimators': [200,400,600,800],\n",
    "        'num_leaves':[7,80],\n",
    "        \"boosting_type\":[\"gbdt\"],\n",
    "        \"max_depth\":[2,63,None],    \n",
    "    }\n",
    "\n",
    "    gbm = GridSearchCV(estimator,param_grid,verbose=2,n_jobs=2)    \n",
    "\n",
    "    gbm.fit(trainData,labels)\n",
    "    print('Best parameters found by grid search are:', gbm.best_params_)\n",
    "    return gbm;"
   ]
  },
  {
   "cell_type": "markdown",
   "metadata": {},
   "source": [
    "# Ratecode 1 (Standard rate)"
   ]
  },
  {
   "cell_type": "markdown",
   "metadata": {},
   "source": [
    "## Building the Model"
   ]
  },
  {
   "cell_type": "code",
   "execution_count": 31,
   "metadata": {},
   "outputs": [],
   "source": [
    "code1data = train[train.RatecodeID == 1]"
   ]
  },
  {
   "cell_type": "code",
   "execution_count": 32,
   "metadata": {},
   "outputs": [],
   "source": [
    "code1test = test[test.RatecodeID == 1]"
   ]
  },
  {
   "cell_type": "code",
   "execution_count": 40,
   "metadata": {
    "scrolled": true
   },
   "outputs": [
    {
     "name": "stdout",
     "output_type": "stream",
     "text": [
      "Total parameter combinations to run: 12\n",
      "Starting run 1\n",
      "{'bagging_fraction': 0.8, 'boosting': 'gbdt', 'feature_fraction': 0.8, 'learning_rate': 0.01, 'max_depth': -1, 'num_leaves': 7, 'num_threads': 4, 'objective': 'mae', 'verbose': -1}\n",
      "[100]\tcv_agg's l1: 2.56252 + 0.00274199\n",
      "[200]\tcv_agg's l1: 1.37534 + 0.00385431\n",
      "[300]\tcv_agg's l1: 0.804597 + 0.00218569\n",
      "[400]\tcv_agg's l1: 0.535471 + 0.00112484\n",
      "[500]\tcv_agg's l1: 0.411355 + 0.00091423\n",
      "[600]\tcv_agg's l1: 0.351527 + 0.000564583\n",
      "[700]\tcv_agg's l1: 0.322686 + 0.000274338\n",
      "[800]\tcv_agg's l1: 0.309851 + 0.000287318\n",
      "[900]\tcv_agg's l1: 0.304911 + 0.000443717\n",
      "[1000]\tcv_agg's l1: 0.302972 + 0.000518641\n",
      "[1100]\tcv_agg's l1: 0.30125 + 0.000552934\n",
      "[1200]\tcv_agg's l1: 0.299946 + 0.000634599\n",
      "[1300]\tcv_agg's l1: 0.298491 + 0.000525385\n",
      "[1400]\tcv_agg's l1: 0.297589 + 0.000439782\n",
      "[1500]\tcv_agg's l1: 0.296645 + 0.00038766\n",
      "[1600]\tcv_agg's l1: 0.295714 + 0.000385898\n",
      "[1700]\tcv_agg's l1: 0.294927 + 0.000335082\n",
      "[1800]\tcv_agg's l1: 0.294267 + 0.000379797\n",
      "[1900]\tcv_agg's l1: 0.293809 + 0.000523159\n",
      "[2000]\tcv_agg's l1: 0.293378 + 0.000622359\n",
      "[2100]\tcv_agg's l1: 0.293056 + 0.000673012\n",
      "[2200]\tcv_agg's l1: 0.292781 + 0.000704092\n",
      "[2300]\tcv_agg's l1: 0.292606 + 0.000750177\n",
      "[2400]\tcv_agg's l1: 0.292443 + 0.000721325\n",
      "[2500]\tcv_agg's l1: 0.292258 + 0.000715854\n",
      "[2600]\tcv_agg's l1: 0.291984 + 0.000619867\n",
      "[2700]\tcv_agg's l1: 0.291693 + 0.000573736\n",
      "[2800]\tcv_agg's l1: 0.291392 + 0.000564612\n",
      "[2900]\tcv_agg's l1: 0.291141 + 0.000493452\n",
      "[3000]\tcv_agg's l1: 0.290935 + 0.000461105\n",
      "Run done, took: 1310.48 s\n",
      "Starting run 2\n",
      "{'bagging_fraction': 0.8, 'boosting': 'gbdt', 'feature_fraction': 0.8, 'learning_rate': 0.01, 'max_depth': -1, 'num_leaves': 31, 'num_threads': 4, 'objective': 'mae', 'verbose': -1}\n",
      "[100]\tcv_agg's l1: 2.44928 + 0.00317739\n",
      "[200]\tcv_agg's l1: 1.22971 + 0.00100082\n",
      "[300]\tcv_agg's l1: 0.683773 + 0.000274352\n",
      "[400]\tcv_agg's l1: 0.459071 + 0.000238147\n",
      "[500]\tcv_agg's l1: 0.361137 + 0.000867161\n",
      "[600]\tcv_agg's l1: 0.318291 + 0.000533128\n",
      "[700]\tcv_agg's l1: 0.300472 + 0.000333045\n",
      "[800]\tcv_agg's l1: 0.293762 + 4.47943e-05\n",
      "[900]\tcv_agg's l1: 0.290805 + 0.000199867\n",
      "[1000]\tcv_agg's l1: 0.289329 + 0.000208631\n",
      "[1100]\tcv_agg's l1: 0.28866 + 0.000417651\n",
      "[1200]\tcv_agg's l1: 0.288066 + 0.000522065\n",
      "[1300]\tcv_agg's l1: 0.287692 + 0.000568796\n",
      "[1400]\tcv_agg's l1: 0.287395 + 0.000556088\n",
      "[1500]\tcv_agg's l1: 0.287167 + 0.000512737\n",
      "[1600]\tcv_agg's l1: 0.286799 + 0.000383391\n",
      "[1700]\tcv_agg's l1: 0.286227 + 0.000331196\n",
      "[1800]\tcv_agg's l1: 0.28577 + 0.000385789\n",
      "[1900]\tcv_agg's l1: 0.28542 + 0.000400075\n",
      "[2000]\tcv_agg's l1: 0.28507 + 0.000362529\n",
      "[2100]\tcv_agg's l1: 0.284741 + 0.000312961\n",
      "[2200]\tcv_agg's l1: 0.284392 + 0.000289501\n",
      "[2300]\tcv_agg's l1: 0.284148 + 0.000328885\n",
      "[2400]\tcv_agg's l1: 0.283853 + 0.000301533\n",
      "[2500]\tcv_agg's l1: 0.283558 + 0.000402865\n",
      "[2600]\tcv_agg's l1: 0.283265 + 0.000427221\n",
      "[2700]\tcv_agg's l1: 0.282983 + 0.000497871\n",
      "[2800]\tcv_agg's l1: 0.282728 + 0.000542115\n",
      "[2900]\tcv_agg's l1: 0.282347 + 0.000577063\n",
      "[3000]\tcv_agg's l1: 0.28197 + 0.000734607\n",
      "Run done, took: 1590.86 s\n",
      "Starting run 3\n",
      "{'bagging_fraction': 0.8, 'boosting': 'gbdt', 'feature_fraction': 0.8, 'learning_rate': 0.01, 'max_depth': -1, 'num_leaves': 150, 'num_threads': 4, 'objective': 'mae', 'verbose': -1}\n",
      "[100]\tcv_agg's l1: 2.39558 + 0.00200201\n",
      "[200]\tcv_agg's l1: 1.166 + 0.000613697\n",
      "[300]\tcv_agg's l1: 0.633523 + 0.00202698\n",
      "[400]\tcv_agg's l1: 0.416013 + 0.00033384\n",
      "[500]\tcv_agg's l1: 0.332466 + 0.000145924\n",
      "[600]\tcv_agg's l1: 0.297535 + 0.000372606\n",
      "[700]\tcv_agg's l1: 0.284075 + 0.000160407\n",
      "[800]\tcv_agg's l1: 0.279682 + 4.44816e-05\n",
      "[900]\tcv_agg's l1: 0.277584 + 0.000114727\n",
      "[1000]\tcv_agg's l1: 0.276581 + 0.000178687\n",
      "[1100]\tcv_agg's l1: 0.275727 + 7.90627e-05\n",
      "[1200]\tcv_agg's l1: 0.275072 + 1.81801e-05\n",
      "[1300]\tcv_agg's l1: 0.274357 + 4.43154e-05\n",
      "[1400]\tcv_agg's l1: 0.273635 + 0.000332719\n",
      "[1500]\tcv_agg's l1: 0.273125 + 0.000411841\n",
      "[1600]\tcv_agg's l1: 0.272605 + 0.000404322\n",
      "[1700]\tcv_agg's l1: 0.272158 + 0.000501089\n",
      "[1800]\tcv_agg's l1: 0.271714 + 0.000425646\n",
      "[1900]\tcv_agg's l1: 0.271293 + 0.0003784\n",
      "[2000]\tcv_agg's l1: 0.27083 + 0.000288023\n",
      "[2100]\tcv_agg's l1: 0.270446 + 0.000298229\n",
      "[2200]\tcv_agg's l1: 0.270092 + 0.000278166\n",
      "[2300]\tcv_agg's l1: 0.269831 + 0.00030694\n",
      "[2400]\tcv_agg's l1: 0.269502 + 0.000327915\n",
      "[2500]\tcv_agg's l1: 0.269121 + 0.000271548\n",
      "[2600]\tcv_agg's l1: 0.268861 + 0.000299535\n",
      "[2700]\tcv_agg's l1: 0.268554 + 0.000343317\n",
      "[2800]\tcv_agg's l1: 0.268336 + 0.000369331\n",
      "[2900]\tcv_agg's l1: 0.268041 + 0.000417122\n",
      "[3000]\tcv_agg's l1: 0.267831 + 0.000493521\n",
      "Run done, took: 2051.75 s\n",
      "Starting run 4\n",
      "{'bagging_fraction': 0.8, 'boosting': 'gbdt', 'feature_fraction': 0.8, 'learning_rate': 0.01, 'max_depth': 10, 'num_leaves': 7, 'num_threads': 4, 'objective': 'mae', 'verbose': -1}\n",
      "[100]\tcv_agg's l1: 2.56252 + 0.00274199\n",
      "[200]\tcv_agg's l1: 1.37534 + 0.00385431\n",
      "[300]\tcv_agg's l1: 0.804597 + 0.00218569\n",
      "[400]\tcv_agg's l1: 0.535471 + 0.00112484\n",
      "[500]\tcv_agg's l1: 0.411355 + 0.00091423\n",
      "[600]\tcv_agg's l1: 0.351527 + 0.000564583\n",
      "[700]\tcv_agg's l1: 0.322686 + 0.000274338\n",
      "[800]\tcv_agg's l1: 0.309851 + 0.000287318\n",
      "[900]\tcv_agg's l1: 0.304911 + 0.000443717\n",
      "[1000]\tcv_agg's l1: 0.302972 + 0.000518641\n",
      "[1100]\tcv_agg's l1: 0.30125 + 0.000552934\n",
      "[1200]\tcv_agg's l1: 0.299946 + 0.000634599\n",
      "[1300]\tcv_agg's l1: 0.298491 + 0.000525385\n",
      "[1400]\tcv_agg's l1: 0.297589 + 0.000439782\n",
      "[1500]\tcv_agg's l1: 0.296645 + 0.00038766\n",
      "[1600]\tcv_agg's l1: 0.295714 + 0.000385898\n",
      "[1700]\tcv_agg's l1: 0.294927 + 0.000335082\n",
      "[1800]\tcv_agg's l1: 0.294267 + 0.000379797\n",
      "[1900]\tcv_agg's l1: 0.293809 + 0.000523159\n",
      "[2000]\tcv_agg's l1: 0.293378 + 0.000622359\n",
      "[2100]\tcv_agg's l1: 0.293056 + 0.000673012\n",
      "[2200]\tcv_agg's l1: 0.292781 + 0.000704092\n",
      "[2300]\tcv_agg's l1: 0.292606 + 0.000750177\n",
      "[2400]\tcv_agg's l1: 0.292443 + 0.000721325\n",
      "[2500]\tcv_agg's l1: 0.292258 + 0.000715854\n",
      "[2600]\tcv_agg's l1: 0.291984 + 0.000619867\n",
      "[2700]\tcv_agg's l1: 0.291693 + 0.000573736\n",
      "[2800]\tcv_agg's l1: 0.291392 + 0.000564612\n",
      "[2900]\tcv_agg's l1: 0.291141 + 0.000493452\n",
      "[3000]\tcv_agg's l1: 0.290935 + 0.000461105\n",
      "Run done, took: 1174.27 s\n",
      "Starting run 5\n",
      "{'bagging_fraction': 0.8, 'boosting': 'gbdt', 'feature_fraction': 0.8, 'learning_rate': 0.01, 'max_depth': 10, 'num_leaves': 31, 'num_threads': 4, 'objective': 'mae', 'verbose': -1}\n",
      "[100]\tcv_agg's l1: 2.44928 + 0.00317739\n",
      "[200]\tcv_agg's l1: 1.22971 + 0.00100082\n",
      "[300]\tcv_agg's l1: 0.683817 + 0.000321309\n",
      "[400]\tcv_agg's l1: 0.459182 + 0.000284889\n",
      "[500]\tcv_agg's l1: 0.361108 + 0.000650515\n",
      "[600]\tcv_agg's l1: 0.317712 + 0.000394484\n",
      "[700]\tcv_agg's l1: 0.300052 + 0.000189447\n",
      "[800]\tcv_agg's l1: 0.293471 + 0.000138423\n",
      "[900]\tcv_agg's l1: 0.290626 + 0.000203496\n",
      "[1000]\tcv_agg's l1: 0.289457 + 0.000269883\n",
      "[1100]\tcv_agg's l1: 0.288834 + 0.000226394\n",
      "[1200]\tcv_agg's l1: 0.288393 + 0.000321819\n",
      "[1300]\tcv_agg's l1: 0.288151 + 0.000241196\n",
      "[1400]\tcv_agg's l1: 0.287863 + 0.000179605\n",
      "[1500]\tcv_agg's l1: 0.287429 + 0.000278981\n",
      "[1600]\tcv_agg's l1: 0.287111 + 0.000190476\n",
      "[1700]\tcv_agg's l1: 0.286658 + 0.000352072\n",
      "[1800]\tcv_agg's l1: 0.286365 + 0.000501532\n",
      "[1900]\tcv_agg's l1: 0.286054 + 0.000566092\n",
      "[2000]\tcv_agg's l1: 0.285824 + 0.000587055\n",
      "[2100]\tcv_agg's l1: 0.285602 + 0.000617533\n",
      "[2200]\tcv_agg's l1: 0.285302 + 0.000560183\n",
      "[2300]\tcv_agg's l1: 0.284963 + 0.000432292\n",
      "[2400]\tcv_agg's l1: 0.284596 + 0.000370836\n",
      "[2500]\tcv_agg's l1: 0.284178 + 0.000348114\n",
      "[2600]\tcv_agg's l1: 0.283857 + 0.000400589\n",
      "[2700]\tcv_agg's l1: 0.283544 + 0.000401565\n",
      "[2800]\tcv_agg's l1: 0.283178 + 0.000340495\n",
      "[2900]\tcv_agg's l1: 0.282741 + 0.000320225\n",
      "[3000]\tcv_agg's l1: 0.282317 + 0.000352808\n",
      "Run done, took: 1402.44 s\n",
      "Starting run 6\n",
      "{'bagging_fraction': 0.8, 'boosting': 'gbdt', 'feature_fraction': 0.8, 'learning_rate': 0.01, 'max_depth': 10, 'num_leaves': 150, 'num_threads': 4, 'objective': 'mae', 'verbose': -1}\n",
      "[100]\tcv_agg's l1: 2.39297 + 0.00119761\n",
      "[200]\tcv_agg's l1: 1.15958 + 0.000819567\n",
      "[300]\tcv_agg's l1: 0.627502 + 0.00063911\n",
      "[400]\tcv_agg's l1: 0.412373 + 8.88378e-05\n",
      "[500]\tcv_agg's l1: 0.328306 + 0.000421104\n",
      "[600]\tcv_agg's l1: 0.295001 + 0.000171953\n",
      "[700]\tcv_agg's l1: 0.283023 + 0.000149307\n",
      "[800]\tcv_agg's l1: 0.278848 + 0.000137432\n",
      "[900]\tcv_agg's l1: 0.276857 + 0.000339587\n",
      "[1000]\tcv_agg's l1: 0.276191 + 0.000351536\n",
      "[1100]\tcv_agg's l1: 0.27557 + 0.000336336\n",
      "[1200]\tcv_agg's l1: 0.274981 + 0.000330476\n"
     ]
    },
    {
     "name": "stdout",
     "output_type": "stream",
     "text": [
      "[1300]\tcv_agg's l1: 0.274531 + 0.000428141\n",
      "[1400]\tcv_agg's l1: 0.273789 + 0.000459751\n",
      "[1500]\tcv_agg's l1: 0.273122 + 0.000483772\n",
      "[1600]\tcv_agg's l1: 0.272505 + 0.000512925\n",
      "[1700]\tcv_agg's l1: 0.271929 + 0.000598105\n",
      "[1800]\tcv_agg's l1: 0.271397 + 0.000729777\n",
      "[1900]\tcv_agg's l1: 0.270986 + 0.000793363\n",
      "[2000]\tcv_agg's l1: 0.270623 + 0.000933776\n",
      "[2100]\tcv_agg's l1: 0.270282 + 0.00107148\n",
      "[2200]\tcv_agg's l1: 0.269932 + 0.00115774\n",
      "[2300]\tcv_agg's l1: 0.269545 + 0.00114361\n",
      "[2400]\tcv_agg's l1: 0.269228 + 0.00115103\n",
      "[2500]\tcv_agg's l1: 0.268901 + 0.00116025\n",
      "[2600]\tcv_agg's l1: 0.268636 + 0.00111938\n",
      "[2700]\tcv_agg's l1: 0.268246 + 0.00112401\n",
      "[2800]\tcv_agg's l1: 0.267977 + 0.00116858\n",
      "[2900]\tcv_agg's l1: 0.267685 + 0.00117914\n",
      "[3000]\tcv_agg's l1: 0.267337 + 0.00115728\n",
      "Run done, took: 2037.07 s\n",
      "Starting run 7\n",
      "{'bagging_fraction': 0.8, 'boosting': 'gbdt', 'feature_fraction': 0.8, 'learning_rate': 0.01, 'max_depth': 30, 'num_leaves': 7, 'num_threads': 4, 'objective': 'mae', 'verbose': -1}\n",
      "[100]\tcv_agg's l1: 2.56252 + 0.00274199\n",
      "[200]\tcv_agg's l1: 1.37534 + 0.00385431\n",
      "[300]\tcv_agg's l1: 0.804597 + 0.00218569\n",
      "[400]\tcv_agg's l1: 0.535471 + 0.00112484\n",
      "[500]\tcv_agg's l1: 0.411355 + 0.00091423\n",
      "[600]\tcv_agg's l1: 0.351527 + 0.000564583\n",
      "[700]\tcv_agg's l1: 0.322686 + 0.000274338\n",
      "[800]\tcv_agg's l1: 0.309851 + 0.000287318\n",
      "[900]\tcv_agg's l1: 0.304911 + 0.000443717\n",
      "[1000]\tcv_agg's l1: 0.302972 + 0.000518641\n",
      "[1100]\tcv_agg's l1: 0.30125 + 0.000552934\n",
      "[1200]\tcv_agg's l1: 0.299946 + 0.000634599\n",
      "[1300]\tcv_agg's l1: 0.298491 + 0.000525385\n",
      "[1400]\tcv_agg's l1: 0.297589 + 0.000439782\n",
      "[1500]\tcv_agg's l1: 0.296645 + 0.00038766\n",
      "[1600]\tcv_agg's l1: 0.295714 + 0.000385898\n",
      "[1700]\tcv_agg's l1: 0.294927 + 0.000335082\n",
      "[1800]\tcv_agg's l1: 0.294267 + 0.000379797\n",
      "[1900]\tcv_agg's l1: 0.293809 + 0.000523159\n",
      "[2000]\tcv_agg's l1: 0.293378 + 0.000622359\n",
      "[2100]\tcv_agg's l1: 0.293056 + 0.000673012\n",
      "[2200]\tcv_agg's l1: 0.292781 + 0.000704092\n",
      "[2300]\tcv_agg's l1: 0.292606 + 0.000750177\n",
      "[2400]\tcv_agg's l1: 0.292443 + 0.000721325\n",
      "[2500]\tcv_agg's l1: 0.292258 + 0.000715854\n",
      "[2600]\tcv_agg's l1: 0.291984 + 0.000619867\n",
      "[2700]\tcv_agg's l1: 0.291693 + 0.000573736\n",
      "[2800]\tcv_agg's l1: 0.291392 + 0.000564612\n",
      "[2900]\tcv_agg's l1: 0.291141 + 0.000493452\n",
      "[3000]\tcv_agg's l1: 0.290935 + 0.000461105\n",
      "Run done, took: 1166.11 s\n",
      "Starting run 8\n",
      "{'bagging_fraction': 0.8, 'boosting': 'gbdt', 'feature_fraction': 0.8, 'learning_rate': 0.01, 'max_depth': 30, 'num_leaves': 31, 'num_threads': 4, 'objective': 'mae', 'verbose': -1}\n",
      "[100]\tcv_agg's l1: 2.44928 + 0.00317739\n",
      "[200]\tcv_agg's l1: 1.22971 + 0.00100082\n",
      "[300]\tcv_agg's l1: 0.683773 + 0.000274352\n",
      "[400]\tcv_agg's l1: 0.459071 + 0.000238147\n",
      "[500]\tcv_agg's l1: 0.361137 + 0.000867161\n",
      "[600]\tcv_agg's l1: 0.318291 + 0.000533128\n",
      "[700]\tcv_agg's l1: 0.300472 + 0.000333045\n",
      "[800]\tcv_agg's l1: 0.293762 + 4.47943e-05\n",
      "[900]\tcv_agg's l1: 0.290805 + 0.000199867\n",
      "[1000]\tcv_agg's l1: 0.289329 + 0.000208631\n",
      "[1100]\tcv_agg's l1: 0.28866 + 0.000417651\n",
      "[1200]\tcv_agg's l1: 0.288066 + 0.000522065\n",
      "[1300]\tcv_agg's l1: 0.287692 + 0.000568796\n",
      "[1400]\tcv_agg's l1: 0.287395 + 0.000556088\n",
      "[1500]\tcv_agg's l1: 0.287167 + 0.000512737\n",
      "[1600]\tcv_agg's l1: 0.286799 + 0.000383391\n",
      "[1700]\tcv_agg's l1: 0.286227 + 0.000331196\n",
      "[1800]\tcv_agg's l1: 0.28577 + 0.000385789\n",
      "[1900]\tcv_agg's l1: 0.28542 + 0.000400075\n",
      "[2000]\tcv_agg's l1: 0.28507 + 0.000362529\n",
      "[2100]\tcv_agg's l1: 0.284741 + 0.000312961\n",
      "[2200]\tcv_agg's l1: 0.284392 + 0.000289501\n",
      "[2300]\tcv_agg's l1: 0.284148 + 0.000328885\n",
      "[2400]\tcv_agg's l1: 0.283853 + 0.000301533\n",
      "[2500]\tcv_agg's l1: 0.283558 + 0.000402865\n",
      "[2600]\tcv_agg's l1: 0.283265 + 0.000427221\n",
      "[2700]\tcv_agg's l1: 0.282983 + 0.000497871\n",
      "[2800]\tcv_agg's l1: 0.282728 + 0.000542115\n",
      "[2900]\tcv_agg's l1: 0.282347 + 0.000577063\n",
      "[3000]\tcv_agg's l1: 0.28197 + 0.000734607\n",
      "Run done, took: 1404.92 s\n",
      "Starting run 9\n",
      "{'bagging_fraction': 0.8, 'boosting': 'gbdt', 'feature_fraction': 0.8, 'learning_rate': 0.01, 'max_depth': 30, 'num_leaves': 150, 'num_threads': 4, 'objective': 'mae', 'verbose': -1}\n",
      "[100]\tcv_agg's l1: 2.39558 + 0.00200201\n",
      "[200]\tcv_agg's l1: 1.166 + 0.000613697\n",
      "[300]\tcv_agg's l1: 0.633523 + 0.00202698\n",
      "[400]\tcv_agg's l1: 0.416013 + 0.00033384\n",
      "[500]\tcv_agg's l1: 0.332466 + 0.000145924\n",
      "[600]\tcv_agg's l1: 0.297535 + 0.000372606\n",
      "[700]\tcv_agg's l1: 0.284075 + 0.000160407\n",
      "[800]\tcv_agg's l1: 0.279682 + 4.44668e-05\n",
      "[900]\tcv_agg's l1: 0.277613 + 0.00013221\n",
      "[1000]\tcv_agg's l1: 0.276624 + 0.000192594\n",
      "[1100]\tcv_agg's l1: 0.275756 + 4.30384e-05\n",
      "[1200]\tcv_agg's l1: 0.275027 + 4.33259e-05\n",
      "[1300]\tcv_agg's l1: 0.274474 + 7.47009e-05\n",
      "[1400]\tcv_agg's l1: 0.273682 + 0.000213718\n",
      "[1500]\tcv_agg's l1: 0.273096 + 0.000300421\n",
      "[1600]\tcv_agg's l1: 0.272621 + 0.000393192\n",
      "[1700]\tcv_agg's l1: 0.272217 + 0.000411942\n",
      "[1800]\tcv_agg's l1: 0.271749 + 0.000418675\n",
      "[1900]\tcv_agg's l1: 0.271342 + 0.000392258\n",
      "[2000]\tcv_agg's l1: 0.270962 + 0.000319079\n",
      "[2100]\tcv_agg's l1: 0.270568 + 0.000302925\n",
      "[2200]\tcv_agg's l1: 0.2702 + 0.000221796\n",
      "[2300]\tcv_agg's l1: 0.269896 + 0.000293528\n",
      "[2400]\tcv_agg's l1: 0.269461 + 0.000181085\n",
      "[2500]\tcv_agg's l1: 0.269123 + 9.67612e-05\n",
      "[2600]\tcv_agg's l1: 0.268759 + 0.000205513\n",
      "[2700]\tcv_agg's l1: 0.268497 + 0.000213373\n",
      "[2800]\tcv_agg's l1: 0.26827 + 0.000199124\n",
      "[2900]\tcv_agg's l1: 0.268045 + 0.000267075\n",
      "[3000]\tcv_agg's l1: 0.267755 + 0.000301862\n",
      "Run done, took: 1895.66 s\n",
      "Starting run 10\n",
      "{'bagging_fraction': 0.8, 'boosting': 'gbdt', 'feature_fraction': 0.8, 'learning_rate': 0.01, 'max_depth': 51, 'num_leaves': 7, 'num_threads': 4, 'objective': 'mae', 'verbose': -1}\n",
      "[100]\tcv_agg's l1: 2.56252 + 0.00274199\n",
      "[200]\tcv_agg's l1: 1.37534 + 0.00385431\n",
      "[300]\tcv_agg's l1: 0.804597 + 0.00218569\n",
      "[400]\tcv_agg's l1: 0.535471 + 0.00112484\n",
      "[500]\tcv_agg's l1: 0.411355 + 0.00091423\n",
      "[600]\tcv_agg's l1: 0.351527 + 0.000564583\n",
      "[700]\tcv_agg's l1: 0.322686 + 0.000274338\n",
      "[800]\tcv_agg's l1: 0.309851 + 0.000287318\n",
      "[900]\tcv_agg's l1: 0.304911 + 0.000443717\n",
      "[1000]\tcv_agg's l1: 0.302972 + 0.000518641\n",
      "[1100]\tcv_agg's l1: 0.30125 + 0.000552934\n",
      "[1200]\tcv_agg's l1: 0.299946 + 0.000634599\n",
      "[1300]\tcv_agg's l1: 0.298491 + 0.000525385\n",
      "[1400]\tcv_agg's l1: 0.297589 + 0.000439782\n",
      "[1500]\tcv_agg's l1: 0.296645 + 0.00038766\n",
      "[1600]\tcv_agg's l1: 0.295714 + 0.000385898\n",
      "[1700]\tcv_agg's l1: 0.294927 + 0.000335082\n",
      "[1800]\tcv_agg's l1: 0.294267 + 0.000379797\n",
      "[1900]\tcv_agg's l1: 0.293809 + 0.000523159\n",
      "[2000]\tcv_agg's l1: 0.293378 + 0.000622359\n",
      "[2100]\tcv_agg's l1: 0.293056 + 0.000673012\n",
      "[2200]\tcv_agg's l1: 0.292781 + 0.000704092\n",
      "[2300]\tcv_agg's l1: 0.292606 + 0.000750177\n",
      "[2400]\tcv_agg's l1: 0.292443 + 0.000721325\n",
      "[2500]\tcv_agg's l1: 0.292258 + 0.000715854\n",
      "[2600]\tcv_agg's l1: 0.291984 + 0.000619867\n",
      "[2700]\tcv_agg's l1: 0.291693 + 0.000573736\n",
      "[2800]\tcv_agg's l1: 0.291392 + 0.000564612\n",
      "[2900]\tcv_agg's l1: 0.291141 + 0.000493452\n",
      "[3000]\tcv_agg's l1: 0.290935 + 0.000461105\n",
      "Run done, took: 1166.01 s\n",
      "Starting run 11\n",
      "{'bagging_fraction': 0.8, 'boosting': 'gbdt', 'feature_fraction': 0.8, 'learning_rate': 0.01, 'max_depth': 51, 'num_leaves': 31, 'num_threads': 4, 'objective': 'mae', 'verbose': -1}\n",
      "[100]\tcv_agg's l1: 2.44928 + 0.00317739\n",
      "[200]\tcv_agg's l1: 1.22971 + 0.00100082\n",
      "[300]\tcv_agg's l1: 0.683773 + 0.000274352\n",
      "[400]\tcv_agg's l1: 0.459071 + 0.000238147\n",
      "[500]\tcv_agg's l1: 0.361137 + 0.000867161\n",
      "[600]\tcv_agg's l1: 0.318291 + 0.000533128\n",
      "[700]\tcv_agg's l1: 0.300472 + 0.000333045\n",
      "[800]\tcv_agg's l1: 0.293762 + 4.47943e-05\n",
      "[900]\tcv_agg's l1: 0.290805 + 0.000199867\n",
      "[1000]\tcv_agg's l1: 0.289329 + 0.000208631\n",
      "[1100]\tcv_agg's l1: 0.28866 + 0.000417651\n",
      "[1200]\tcv_agg's l1: 0.288066 + 0.000522065\n",
      "[1300]\tcv_agg's l1: 0.287692 + 0.000568796\n",
      "[1400]\tcv_agg's l1: 0.287395 + 0.000556088\n",
      "[1500]\tcv_agg's l1: 0.287167 + 0.000512737\n",
      "[1600]\tcv_agg's l1: 0.286799 + 0.000383391\n",
      "[1700]\tcv_agg's l1: 0.286227 + 0.000331196\n",
      "[1800]\tcv_agg's l1: 0.28577 + 0.000385789\n",
      "[1900]\tcv_agg's l1: 0.28542 + 0.000400075\n",
      "[2000]\tcv_agg's l1: 0.28507 + 0.000362529\n",
      "[2100]\tcv_agg's l1: 0.284741 + 0.000312961\n",
      "[2200]\tcv_agg's l1: 0.284392 + 0.000289501\n",
      "[2300]\tcv_agg's l1: 0.284148 + 0.000328885\n",
      "[2400]\tcv_agg's l1: 0.283853 + 0.000301533\n",
      "[2500]\tcv_agg's l1: 0.283558 + 0.000402865\n",
      "[2600]\tcv_agg's l1: 0.283265 + 0.000427221\n",
      "[2700]\tcv_agg's l1: 0.282983 + 0.000497871\n",
      "[2800]\tcv_agg's l1: 0.282728 + 0.000542115\n",
      "[2900]\tcv_agg's l1: 0.282347 + 0.000577063\n"
     ]
    },
    {
     "name": "stdout",
     "output_type": "stream",
     "text": [
      "[3000]\tcv_agg's l1: 0.28197 + 0.000734607\n",
      "Run done, took: 1407.97 s\n",
      "Starting run 12\n",
      "{'bagging_fraction': 0.8, 'boosting': 'gbdt', 'feature_fraction': 0.8, 'learning_rate': 0.01, 'max_depth': 51, 'num_leaves': 150, 'num_threads': 4, 'objective': 'mae', 'verbose': -1}\n",
      "[100]\tcv_agg's l1: 2.39558 + 0.00200201\n",
      "[200]\tcv_agg's l1: 1.166 + 0.000613697\n",
      "[300]\tcv_agg's l1: 0.633523 + 0.00202698\n",
      "[400]\tcv_agg's l1: 0.416013 + 0.00033384\n",
      "[500]\tcv_agg's l1: 0.332466 + 0.000145924\n",
      "[600]\tcv_agg's l1: 0.297535 + 0.000372606\n",
      "[700]\tcv_agg's l1: 0.284075 + 0.000160407\n",
      "[800]\tcv_agg's l1: 0.279682 + 4.44816e-05\n",
      "[900]\tcv_agg's l1: 0.277584 + 0.000114727\n",
      "[1000]\tcv_agg's l1: 0.276581 + 0.000178687\n",
      "[1100]\tcv_agg's l1: 0.275727 + 7.90627e-05\n",
      "[1200]\tcv_agg's l1: 0.275072 + 1.81801e-05\n",
      "[1300]\tcv_agg's l1: 0.274357 + 4.43154e-05\n",
      "[1400]\tcv_agg's l1: 0.273635 + 0.000332719\n",
      "[1500]\tcv_agg's l1: 0.273125 + 0.000411841\n",
      "[1600]\tcv_agg's l1: 0.272605 + 0.000404322\n",
      "[1700]\tcv_agg's l1: 0.272158 + 0.000501089\n",
      "[1800]\tcv_agg's l1: 0.271714 + 0.000425646\n",
      "[1900]\tcv_agg's l1: 0.271293 + 0.0003784\n",
      "[2000]\tcv_agg's l1: 0.27083 + 0.000288023\n",
      "[2100]\tcv_agg's l1: 0.270446 + 0.000298229\n",
      "[2200]\tcv_agg's l1: 0.270092 + 0.000278166\n",
      "[2300]\tcv_agg's l1: 0.269831 + 0.00030694\n",
      "[2400]\tcv_agg's l1: 0.269502 + 0.000327915\n",
      "[2500]\tcv_agg's l1: 0.269121 + 0.000271548\n",
      "[2600]\tcv_agg's l1: 0.268861 + 0.000299535\n",
      "[2700]\tcv_agg's l1: 0.268554 + 0.000343317\n",
      "[2800]\tcv_agg's l1: 0.268336 + 0.000369331\n",
      "[2900]\tcv_agg's l1: 0.268041 + 0.000417122\n",
      "[3000]\tcv_agg's l1: 0.267831 + 0.000493521\n",
      "Run done, took: 1899.32 s\n",
      "Best params: ({'bagging_fraction': 0.8, 'boosting': 'gbdt', 'feature_fraction': 0.8, 'learning_rate': 0.01, 'max_depth': 10, 'num_leaves': 150, 'num_threads': 4, 'objective': 'mae', 'verbose': -1, 'optimal_number_of_trees': 3000}, 0.2673371008058502)\n",
      "Wall time: 5h 21min 46s\n"
     ]
    }
   ],
   "source": [
    "%%time\n",
    "features = [\"duration\",\"trip_distance\",\"avg_speed\",\"ridesAtPickupHour\"]\n",
    "code1_model = optimisedLGM(param_grid,code1data[features],code1data[\"fare_amount\"])"
   ]
  },
  {
   "cell_type": "markdown",
   "metadata": {},
   "source": [
    "## Prediction"
   ]
  },
  {
   "cell_type": "code",
   "execution_count": 41,
   "metadata": {},
   "outputs": [],
   "source": [
    "code1prediction = np.round(code1_model.predict(code1test[features])*2)/2"
   ]
  },
  {
   "cell_type": "code",
   "execution_count": 42,
   "metadata": {},
   "outputs": [
    {
     "data": {
      "text/plain": [
       "array([ 4. ,  6.5, 10. , ...,  4.5,  6. , 15. ])"
      ]
     },
     "execution_count": 42,
     "metadata": {},
     "output_type": "execute_result"
    }
   ],
   "source": [
    "code1prediction"
   ]
  },
  {
   "cell_type": "code",
   "execution_count": 43,
   "metadata": {},
   "outputs": [],
   "source": [
    "code1test = code1test.assign(fare_amount_prediction = code1prediction)"
   ]
  },
  {
   "cell_type": "markdown",
   "metadata": {},
   "source": [
    "# Ratecode 2 (JFK)"
   ]
  },
  {
   "cell_type": "markdown",
   "metadata": {},
   "source": [
    "## Building the Model"
   ]
  },
  {
   "cell_type": "markdown",
   "metadata": {},
   "source": [
    "No model building neccessary, all rides cost 52$"
   ]
  },
  {
   "cell_type": "code",
   "execution_count": 44,
   "metadata": {},
   "outputs": [],
   "source": [
    "code2data = train[train.RatecodeID == 2]\n",
    "code2test = test[test.RatecodeID == 2]"
   ]
  },
  {
   "cell_type": "markdown",
   "metadata": {},
   "source": [
    "## Prediction"
   ]
  },
  {
   "cell_type": "code",
   "execution_count": 45,
   "metadata": {},
   "outputs": [],
   "source": [
    "code2test[\"fare_amount_prediction\"] = 52.0"
   ]
  },
  {
   "cell_type": "markdown",
   "metadata": {},
   "source": [
    "# Ratecode 3 (Newark)"
   ]
  },
  {
   "cell_type": "markdown",
   "metadata": {},
   "source": [
    "## Building the Model"
   ]
  },
  {
   "cell_type": "code",
   "execution_count": 37,
   "metadata": {},
   "outputs": [],
   "source": [
    "code3data = train[train.RatecodeID == 3]"
   ]
  },
  {
   "cell_type": "code",
   "execution_count": 38,
   "metadata": {},
   "outputs": [],
   "source": [
    "code3test = test[test.RatecodeID == 3]"
   ]
  },
  {
   "cell_type": "code",
   "execution_count": 139,
   "metadata": {
    "scrolled": true
   },
   "outputs": [
    {
     "name": "stdout",
     "output_type": "stream",
     "text": [
      "Total parameter combinations to run: 12\n"
     ]
    },
    {
     "ename": "AttributeError",
     "evalue": "'dict' object has no attribute 'extend'",
     "output_type": "error",
     "traceback": [
      "\u001b[1;31m---------------------------------------------------------------------------\u001b[0m",
      "\u001b[1;31mAttributeError\u001b[0m                            Traceback (most recent call last)",
      "\u001b[1;32m<timed exec>\u001b[0m in \u001b[0;36m<module>\u001b[1;34m()\u001b[0m\n",
      "\u001b[1;32m<ipython-input-138-fb7a068b0947>\u001b[0m in \u001b[0;36moptimisedLGM\u001b[1;34m(param_grid, trainData, labels, stopping)\u001b[0m\n\u001b[0;32m     21\u001b[0m     \u001b[0mprint\u001b[0m\u001b[1;33m(\u001b[0m\u001b[1;34m\"Total parameter combinations to run:\"\u001b[0m\u001b[1;33m,\u001b[0m\u001b[0mlen\u001b[0m\u001b[1;33m(\u001b[0m\u001b[0mParameterGrid\u001b[0m\u001b[1;33m(\u001b[0m\u001b[0mparam_grid\u001b[0m\u001b[1;33m)\u001b[0m\u001b[1;33m)\u001b[0m\u001b[1;33m)\u001b[0m\u001b[1;33m\u001b[0m\u001b[0m\n\u001b[0;32m     22\u001b[0m     \u001b[1;32mfor\u001b[0m \u001b[0mparams\u001b[0m \u001b[1;32min\u001b[0m \u001b[0mParameterGrid\u001b[0m\u001b[1;33m(\u001b[0m\u001b[0mparam_grid\u001b[0m\u001b[1;33m)\u001b[0m\u001b[1;33m:\u001b[0m\u001b[1;33m\u001b[0m\u001b[0m\n\u001b[1;32m---> 23\u001b[1;33m         \u001b[0mp\u001b[0m \u001b[1;33m=\u001b[0m \u001b[0mparams\u001b[0m\u001b[1;33m.\u001b[0m\u001b[0mextend\u001b[0m\u001b[1;33m(\u001b[0m\u001b[0mstable_params\u001b[0m\u001b[1;33m)\u001b[0m\u001b[1;33m\u001b[0m\u001b[0m\n\u001b[0m\u001b[0;32m     24\u001b[0m         \u001b[0mstart_time\u001b[0m \u001b[1;33m=\u001b[0m \u001b[0mtimeit\u001b[0m\u001b[1;33m.\u001b[0m\u001b[0mdefault_timer\u001b[0m\u001b[1;33m(\u001b[0m\u001b[1;33m)\u001b[0m\u001b[1;33m\u001b[0m\u001b[0m\n\u001b[0;32m     25\u001b[0m         \u001b[0mcounter\u001b[0m\u001b[1;33m=\u001b[0m\u001b[0mcounter\u001b[0m\u001b[1;33m+\u001b[0m\u001b[1;36m1\u001b[0m\u001b[1;33m\u001b[0m\u001b[0m\n",
      "\u001b[1;31mAttributeError\u001b[0m: 'dict' object has no attribute 'extend'"
     ]
    }
   ],
   "source": [
    "%%time\n",
    "features = [\"duration\",\"passenger_count\",\"trip_distance\",\"payment_type\",\"avg_speed\"]\n",
    "code3_model = optimisedLGM(param_grid,code3data[features],code3data[\"fare_amount\"])"
   ]
  },
  {
   "cell_type": "markdown",
   "metadata": {},
   "source": [
    "## Prediction"
   ]
  },
  {
   "cell_type": "code",
   "execution_count": 46,
   "metadata": {},
   "outputs": [],
   "source": [
    "code3prediction = np.round(code3_model.predict(code3test[features])*2)/2\n",
    "code3test = code3test.assign(fare_amount_prediction = code3prediction)"
   ]
  },
  {
   "cell_type": "markdown",
   "metadata": {},
   "source": [
    "# Ratecode 4 (Nassau or Westchester)"
   ]
  },
  {
   "cell_type": "markdown",
   "metadata": {},
   "source": [
    "## Building the Model"
   ]
  },
  {
   "cell_type": "code",
   "execution_count": 47,
   "metadata": {},
   "outputs": [
    {
     "data": {
      "text/plain": [
       "(1000, 20)"
      ]
     },
     "execution_count": 47,
     "metadata": {},
     "output_type": "execute_result"
    }
   ],
   "source": [
    "code4data = train[train.RatecodeID == 4]\n",
    "code4test = test[test.RatecodeID == 4]\n",
    "np.shape(code4test)"
   ]
  },
  {
   "cell_type": "code",
   "execution_count": 48,
   "metadata": {},
   "outputs": [],
   "source": [
    "#shapely can be installed via anaconda -> environments\n",
    "from shapely.geometry import Point\n",
    "from shapely.geometry.polygon import Polygon"
   ]
  },
  {
   "cell_type": "code",
   "execution_count": 49,
   "metadata": {},
   "outputs": [],
   "source": [
    "# returns whether the point given is in the area given\n",
    "def inArea(polygon,lat,long):\n",
    "    point = Point(lat,long);\n",
    "    poly = Polygon(polygon)\n",
    "    return poly.contains(point)    "
   ]
  },
  {
   "cell_type": "code",
   "execution_count": 50,
   "metadata": {},
   "outputs": [],
   "source": [
    "#cords for a polygon around manhatten, manually set via google maps\n",
    "manhattan_cords = [(40.882207, -73.933869), #1\n",
    "         (40.872343, -73.908292), #2\n",
    "         (40.836117, -73.933011), #3\n",
    "         (40.804680, -73.931123), #4\n",
    "         (40.798833, -73.918591), #5\n",
    "         (40.739289, -73.967000), #6\n",
    "         (40.707155, -73.973866), #7\n",
    "         (40.699217, -74.021416), #8\n",
    "         (40.759316, -74.012662)] #9"
   ]
  },
  {
   "cell_type": "code",
   "execution_count": 51,
   "metadata": {},
   "outputs": [],
   "source": [
    "#apply to train set\n",
    "code4data[\"endsInManhattan\"] = code4data.apply(lambda x : inArea(manhattan_cords,x[\"dropoff_latitude\"],x[\"dropoff_longitude\"]),axis=1)\n",
    "code4data[\"startsInManhattan\"] = code4data.apply(lambda x : inArea(manhattan_cords,x[\"pickup_latitude\"],x[\"pickup_longitude\"]),axis=1)"
   ]
  },
  {
   "cell_type": "code",
   "execution_count": 52,
   "metadata": {},
   "outputs": [],
   "source": [
    "from geopy.distance import geodesic\n",
    "from geopy.distance import great_circle"
   ]
  },
  {
   "cell_type": "code",
   "execution_count": 53,
   "metadata": {},
   "outputs": [],
   "source": [
    "#calculate air line distance for train data set\n",
    "code4data[\"airlineDistance\"] = code4data.apply(lambda x: geodesic((x[\"pickup_latitude\"],x[\"pickup_longitude\"]),\n",
    "                                                                  (x[\"dropoff_latitude\"],x[\"dropoff_longitude\"])).miles,axis=1)"
   ]
  },
  {
   "cell_type": "code",
   "execution_count": 54,
   "metadata": {
    "scrolled": true
   },
   "outputs": [
    {
     "data": {
      "text/plain": [
       "count    3095.000000\n",
       "mean        9.367798\n",
       "std         5.294501\n",
       "min         0.012965\n",
       "25%         4.723011\n",
       "50%         9.153327\n",
       "75%        12.996955\n",
       "max        24.326906\n",
       "Name: airlineDistance, dtype: float64"
      ]
     },
     "execution_count": 54,
     "metadata": {},
     "output_type": "execute_result"
    }
   ],
   "source": [
    "code4data.airlineDistance.describe()"
   ]
  },
  {
   "cell_type": "code",
   "execution_count": 55,
   "metadata": {
    "scrolled": true
   },
   "outputs": [
    {
     "data": {
      "text/plain": [
       "(3095, 2)"
      ]
     },
     "execution_count": 55,
     "metadata": {},
     "output_type": "execute_result"
    }
   ],
   "source": [
    "np.shape(code4data[[\"airlineDistance\",\"trip_distance\"]])"
   ]
  },
  {
   "cell_type": "code",
   "execution_count": 56,
   "metadata": {},
   "outputs": [
    {
     "data": {
      "text/plain": [
       "(44, 30)"
      ]
     },
     "execution_count": 56,
     "metadata": {},
     "output_type": "execute_result"
    }
   ],
   "source": [
    "np.shape(code4data[code4data.trip_distance<code4data.airlineDistance])"
   ]
  },
  {
   "cell_type": "code",
   "execution_count": 57,
   "metadata": {},
   "outputs": [
    {
     "data": {
      "text/plain": [
       "[<matplotlib.lines.Line2D at 0x220e9eab898>]"
      ]
     },
     "execution_count": 57,
     "metadata": {},
     "output_type": "execute_result"
    },
    {
     "data": {
      "image/png": "[encoded data removed]",
      "text/plain": [
       "<matplotlib.figure.Figure at 0x220e9eab9e8>"
      ]
     },
     "metadata": {},
     "output_type": "display_data"
    }
   ],
   "source": [
    "ax = sns.regplot(code4data.trip_distance,code4data.airlineDistance)\n",
    "ax.plot([0,0],[40,40], linewidth=2,color=\"red\")"
   ]
  },
  {
   "cell_type": "code",
   "execution_count": 58,
   "metadata": {},
   "outputs": [],
   "source": [
    "# all bridges and tunnels to/from manhattan, bridges marked with ! are highways or tunnels and more likely to be used by taxis\n",
    "bridges = [ (40.877720, -73.922362), # 0 henry hudson bridge !\n",
    "          (40.873648, -73.911075), # 1 broadway !\n",
    "          (40.862840, -73.914986), # 2 university heights bridge\n",
    "          (40.846674, -73.927806), # 3 washington bridge - close to v\n",
    "          (40.845522, -73.928256), # 4 alexander hamilton bridge !\n",
    "          (40.828062, -73.933873), # 5 macombs dam bridge\n",
    "          (40.819489, -73.933058), # 6 145th st bridge - close to v\n",
    "          (40.814081, -73.933187), # 7 madison avenue bridge\n",
    "          (40.807591, -73.932399), # 8 third avenue bridge\n",
    "           (40.803516, -73.928818),# 9 willis ave bridge\n",
    "           (40.800368, -73.927835), # 10 robert f kennedy bridge !\n",
    "           (40.756681, -73.954185), # 11 ed koch queensboro bridge !\n",
    "           (40.745106, -73.964063), # 12 queens midtown tunnel !\n",
    "           (40.713407, -73.972299), # 13 williamsburg bridge\n",
    "           (40.707095, -73.990500), # 14 manhattan bridge\n",
    "           (40.705972, -73.996851), # 15 brooklyn bridge !\n",
    "           (40.701161, -74.015692), # 16 Hugh l Carey Tunnel\n",
    "           (40.727487, -74.020880), # 17 holland tunnel\n",
    "           (40.763370, -74.010028), # 18 lincoln tunnel !\n",
    "           (40.851644, -73.952118), # 19 george washington bridge !\n",
    "          ]"
   ]
  },
  {
   "cell_type": "code",
   "execution_count": 59,
   "metadata": {},
   "outputs": [],
   "source": [
    "# try to find out which bridge is used in a trip \n",
    "# assumption: the bridge is used that minimizes the pickup-bridge-dropoff distance (air-line distance)\n",
    "counter = 1\n",
    "for index, row in code4data.iterrows():\n",
    "    # 4 options:\n",
    "    # starts in city, ends in city --> should not have ratecode 4 -> outlier, ignore\n",
    "    # starts in city, ends out of city -> standard trip\n",
    "    # starts out of city, ends out of city -> no calculations to be done here, use double rate for whole trip\n",
    "    # starts out of city, ends in city -> reverse standard trip\n",
    "    startP = (row[\"pickup_latitude\"],row[\"pickup_longitude\"])\n",
    "    endP = (row[\"dropoff_latitude\"],row[\"dropoff_longitude\"])\n",
    "    \n",
    "    if(row.startsInManhattan and row.endsInManhattan):\n",
    "        #print(\"Outlier found, index\",index)\n",
    "        continue\n",
    "    elif (not row.startsInManhattan and not row.endsInManhattan):\n",
    "        #print(\"Complete out of city trip, index\",index)\n",
    "        code4data.at[index,\"Bridge\"] = None;\n",
    "        code4data.at[index,\"in_city_distance\"] = 0;\n",
    "        code4data.at[index,\"out_of_city_distance\"] = geodesic(startP, endP).miles\n",
    "        code4data.at[index,\"total_over_bridge_distance\"] = geodesic(startP, endP).miles  \n",
    "        continue\n",
    "    elif (not row.startsInManhattan and  row.endsInManhattan): # reverse trip\n",
    "        temp = startP # here we swap start and endpoints so its similar to a standard trip\n",
    "        startP = endP\n",
    "        endP = temp\n",
    "    \n",
    "    #find closest bridge\n",
    "    closest_bridge_index = -1\n",
    "    closest_total_bridge_distance = float('inf')\n",
    "    for i in range(len(bridges)):\n",
    "        distance_to_bridge = geodesic(startP, bridges[i]).miles\n",
    "        distance_to_dest =  geodesic(bridges[i],endP).miles\n",
    "        total = distance_to_bridge + distance_to_dest\n",
    "        if(total < closest_total_bridge_distance):\n",
    "            closest_total_bridge_distance = total\n",
    "            closest_bridge_index = i\n",
    "            closest_distance_to_bridge = distance_to_bridge\n",
    "            closest_distance_to_dest = distance_to_dest\n",
    "            \n",
    "    #print(\"Route {} travels over bridge/tunnel {} (to bridge: {:0.2f}, to dest: {:0.2f}, total: {:0.2f}, trip_distance : {:0.2f})\".format(\n",
    "    #    counter, closest_bridge_index,closest_distance_to_bridge,closest_distance_to_dest,closest_total_bridge_distance,totalDistance))\n",
    "    counter = counter + 1\n",
    "    \n",
    "    code4data.at[index,\"Bridge\"] = closest_bridge_index;\n",
    "    code4data.at[index,\"in_city_distance\"] = closest_distance_to_bridge;\n",
    "    code4data.at[index,\"out_of_city_distance\"] = closest_distance_to_dest\n",
    "    code4data.at[index,\"total_over_bridge_distance\"] = closest_total_bridge_distance       "
   ]
  },
  {
   "cell_type": "code",
   "execution_count": 60,
   "metadata": {},
   "outputs": [],
   "source": [
    "#states how much of the fare was contributed by ride in the city. Calculated by \n",
    "code4data[\"inCityPercentage\"] = code4data.apply(lambda x: x.in_city_distance/(x.in_city_distance+2*x.out_of_city_distance+0.0001),axis=1)"
   ]
  },
  {
   "cell_type": "code",
   "execution_count": 61,
   "metadata": {},
   "outputs": [],
   "source": [
    "#2.5 were subtracted from fare amount (inital charge)\n",
    "code4data[\"inCityFare\"] = code4data.apply(lambda x: x.inCityPercentage*(x.fare_amount-2.5),axis=1)\n",
    "code4data[\"outCityFare\"] = code4data.apply(lambda x: (1-x.inCityPercentage)*(x.fare_amount-2.5),axis=1)"
   ]
  },
  {
   "cell_type": "code",
   "execution_count": 62,
   "metadata": {},
   "outputs": [],
   "source": [
    "code4data[\"inCityTripDistanceExtreme\"] = code4data.apply(lambda x: x.inCityPercentage*x.trip_distance,axis=1)\n",
    "code4data[\"outCityTripDistanceExtreme\"] = code4data.apply(lambda x: (1-x.inCityPercentage)*x.trip_distance,axis=1)"
   ]
  },
  {
   "cell_type": "code",
   "execution_count": 63,
   "metadata": {},
   "outputs": [],
   "source": [
    "code4data[\"inCityTripDistance\"] = code4data.apply(lambda x: x.in_city_distance/(x.in_city_distance+x.out_of_city_distance),axis=1)\n",
    "code4data[\"outCityTripDistance\"] = code4data.apply(lambda x: x.out_of_city_distance/(x.in_city_distance+x.out_of_city_distance),axis=1)"
   ]
  },
  {
   "cell_type": "markdown",
   "metadata": {},
   "source": [
    "Now we have to train three models. Two for trips that start in the city and end out of it and vice versa, thus using both the standard and the doubled rate (one model for each). The predctions are then add up. The third model is for trips that are completly out of the city and therefore only use the doubled rate. Here more information can be used from the dataset, because we do not have to make assumptions on where the trip was split."
   ]
  },
  {
   "cell_type": "code",
   "execution_count": 64,
   "metadata": {},
   "outputs": [
    {
     "data": {
      "text/plain": [
       "(562, 41)"
      ]
     },
     "execution_count": 64,
     "metadata": {},
     "output_type": "execute_result"
    }
   ],
   "source": [
    "code4data_mixed = code4data[code4data.startsInManhattan ^ code4data.endsInManhattan] # trips that used a bridge -> entered/left manhattan\n",
    "np.shape(code4data_mixed)"
   ]
  },
  {
   "cell_type": "code",
   "execution_count": 65,
   "metadata": {},
   "outputs": [
    {
     "data": {
      "text/plain": [
       "(2365, 41)"
      ]
     },
     "execution_count": 65,
     "metadata": {},
     "output_type": "execute_result"
    }
   ],
   "source": [
    "code4data_out = code4data[(code4data.startsInManhattan==False) & (code4data.endsInManhattan==False)] # trips that not used a bridge -> never were in Manhattan\n",
    "np.shape(code4data_out)"
   ]
  },
  {
   "cell_type": "code",
   "execution_count": 115,
   "metadata": {
    "scrolled": true
   },
   "outputs": [
    {
     "name": "stdout",
     "output_type": "stream",
     "text": [
      "Total parameter combinations to run: 12\n",
      "Starting run 1\n",
      "{'bagging_fraction': 0.8, 'boosting': 'gbdt', 'feature_fraction': 0.8, 'learning_rate': 0.01, 'max_depth': -1, 'num_leaves': 7, 'num_threads': 4, 'objective': 'mae', 'verbose': -1}\n",
      "[100]\tcv_agg's l1: 3.84803 + 0.703804\n",
      "[200]\tcv_agg's l1: 2.66272 + 0.711843\n",
      "[300]\tcv_agg's l1: 2.06046 + 0.632639\n",
      "[400]\tcv_agg's l1: 1.73121 + 0.554856\n",
      "[500]\tcv_agg's l1: 1.60157 + 0.510364\n",
      "[600]\tcv_agg's l1: 1.52966 + 0.480667\n",
      "[700]\tcv_agg's l1: 1.46626 + 0.440233\n",
      "[800]\tcv_agg's l1: 1.42473 + 0.415271\n",
      "[900]\tcv_agg's l1: 1.39477 + 0.395033\n",
      "[1000]\tcv_agg's l1: 1.37481 + 0.383514\n",
      "[1100]\tcv_agg's l1: 1.36129 + 0.378412\n",
      "[1200]\tcv_agg's l1: 1.34869 + 0.368555\n",
      "[1300]\tcv_agg's l1: 1.33808 + 0.36133\n",
      "[1400]\tcv_agg's l1: 1.33137 + 0.3605\n",
      "[1500]\tcv_agg's l1: 1.32567 + 0.360739\n",
      "[1600]\tcv_agg's l1: 1.32025 + 0.359911\n",
      "[1700]\tcv_agg's l1: 1.31391 + 0.35938\n",
      "[1800]\tcv_agg's l1: 1.30981 + 0.358043\n",
      "[1900]\tcv_agg's l1: 1.30623 + 0.356038\n",
      "[2000]\tcv_agg's l1: 1.30202 + 0.352273\n",
      "[2100]\tcv_agg's l1: 1.29832 + 0.35039\n",
      "[2200]\tcv_agg's l1: 1.29594 + 0.350318\n",
      "[2300]\tcv_agg's l1: 1.2936 + 0.350221\n",
      "[2400]\tcv_agg's l1: 1.29112 + 0.349645\n",
      "[2500]\tcv_agg's l1: 1.28898 + 0.349273\n",
      "[2600]\tcv_agg's l1: 1.28625 + 0.347115\n",
      "[2700]\tcv_agg's l1: 1.28505 + 0.347275\n",
      "[2800]\tcv_agg's l1: 1.28399 + 0.346646\n",
      "[2900]\tcv_agg's l1: 1.28291 + 0.346129\n",
      "[3000]\tcv_agg's l1: 1.2818 + 0.345804\n",
      "Run done, took: 0.96 s\n",
      "Starting run 2\n",
      "{'bagging_fraction': 0.8, 'boosting': 'gbdt', 'feature_fraction': 0.8, 'learning_rate': 0.01, 'max_depth': -1, 'num_leaves': 31, 'num_threads': 4, 'objective': 'mae', 'verbose': -1}\n",
      "[100]\tcv_agg's l1: 3.76618 + 0.721686\n",
      "[200]\tcv_agg's l1: 2.49007 + 0.677267\n",
      "[300]\tcv_agg's l1: 1.93041 + 0.549537\n",
      "[400]\tcv_agg's l1: 1.67307 + 0.501652\n",
      "[500]\tcv_agg's l1: 1.56957 + 0.459759\n",
      "[600]\tcv_agg's l1: 1.50437 + 0.425436\n",
      "[700]\tcv_agg's l1: 1.46148 + 0.401266\n",
      "[800]\tcv_agg's l1: 1.43831 + 0.388937\n",
      "[900]\tcv_agg's l1: 1.42497 + 0.383532\n",
      "[1000]\tcv_agg's l1: 1.41514 + 0.373004\n",
      "[1100]\tcv_agg's l1: 1.40802 + 0.365849\n",
      "[1200]\tcv_agg's l1: 1.39904 + 0.358172\n",
      "[1300]\tcv_agg's l1: 1.39157 + 0.350679\n",
      "[1400]\tcv_agg's l1: 1.38843 + 0.347038\n",
      "[1500]\tcv_agg's l1: 1.38379 + 0.344665\n",
      "[1600]\tcv_agg's l1: 1.38107 + 0.34317\n",
      "[1700]\tcv_agg's l1: 1.37905 + 0.343337\n",
      "[1800]\tcv_agg's l1: 1.37606 + 0.341953\n",
      "[1900]\tcv_agg's l1: 1.3742 + 0.340538\n",
      "[2000]\tcv_agg's l1: 1.37278 + 0.340316\n",
      "[2100]\tcv_agg's l1: 1.3708 + 0.338849\n",
      "[2200]\tcv_agg's l1: 1.36935 + 0.337871\n",
      "[2300]\tcv_agg's l1: 1.36796 + 0.336515\n",
      "[2400]\tcv_agg's l1: 1.36672 + 0.336412\n",
      "[2500]\tcv_agg's l1: 1.36481 + 0.335293\n",
      "[2600]\tcv_agg's l1: 1.36313 + 0.334162\n",
      "[2700]\tcv_agg's l1: 1.36248 + 0.33385\n",
      "[2800]\tcv_agg's l1: 1.36082 + 0.334093\n",
      "[2900]\tcv_agg's l1: 1.35965 + 0.333637\n",
      "[3000]\tcv_agg's l1: 1.35882 + 0.333917\n",
      "Run done, took: 1.32 s\n",
      "Starting run 3\n",
      "{'bagging_fraction': 0.8, 'boosting': 'gbdt', 'feature_fraction': 0.8, 'learning_rate': 0.01, 'max_depth': -1, 'num_leaves': 150, 'num_threads': 4, 'objective': 'mae', 'verbose': -1}\n",
      "[100]\tcv_agg's l1: 3.76618 + 0.721686\n",
      "[200]\tcv_agg's l1: 2.49007 + 0.677267\n",
      "[300]\tcv_agg's l1: 1.93041 + 0.549537\n",
      "[400]\tcv_agg's l1: 1.67307 + 0.501652\n",
      "[500]\tcv_agg's l1: 1.56957 + 0.459759\n",
      "[600]\tcv_agg's l1: 1.50437 + 0.425436\n",
      "[700]\tcv_agg's l1: 1.46148 + 0.401266\n",
      "[800]\tcv_agg's l1: 1.43831 + 0.388937\n",
      "[900]\tcv_agg's l1: 1.42497 + 0.383532\n",
      "[1000]\tcv_agg's l1: 1.41514 + 0.373004\n",
      "[1100]\tcv_agg's l1: 1.40802 + 0.365849\n",
      "[1200]\tcv_agg's l1: 1.39904 + 0.358172\n",
      "[1300]\tcv_agg's l1: 1.39157 + 0.350679\n",
      "[1400]\tcv_agg's l1: 1.38843 + 0.347038\n",
      "[1500]\tcv_agg's l1: 1.38379 + 0.344665\n",
      "[1600]\tcv_agg's l1: 1.38107 + 0.34317\n",
      "[1700]\tcv_agg's l1: 1.37905 + 0.343337\n",
      "[1800]\tcv_agg's l1: 1.37606 + 0.341953\n",
      "[1900]\tcv_agg's l1: 1.3742 + 0.340538\n",
      "[2000]\tcv_agg's l1: 1.37278 + 0.340316\n",
      "[2100]\tcv_agg's l1: 1.3708 + 0.338849\n",
      "[2200]\tcv_agg's l1: 1.36935 + 0.337871\n",
      "[2300]\tcv_agg's l1: 1.36796 + 0.336515\n",
      "[2400]\tcv_agg's l1: 1.36672 + 0.336412\n",
      "[2500]\tcv_agg's l1: 1.36481 + 0.335293\n",
      "[2600]\tcv_agg's l1: 1.36313 + 0.334162\n",
      "[2700]\tcv_agg's l1: 1.36248 + 0.33385\n",
      "[2800]\tcv_agg's l1: 1.36082 + 0.334093\n",
      "[2900]\tcv_agg's l1: 1.35965 + 0.333637\n",
      "[3000]\tcv_agg's l1: 1.35882 + 0.333917\n",
      "Run done, took: 1.42 s\n",
      "Starting run 4\n",
      "{'bagging_fraction': 0.8, 'boosting': 'gbdt', 'feature_fraction': 0.8, 'learning_rate': 0.01, 'max_depth': 10, 'num_leaves': 7, 'num_threads': 4, 'objective': 'mae', 'verbose': -1}\n",
      "[100]\tcv_agg's l1: 3.84803 + 0.703804\n",
      "[200]\tcv_agg's l1: 2.66272 + 0.711843\n",
      "[300]\tcv_agg's l1: 2.06046 + 0.632639\n",
      "[400]\tcv_agg's l1: 1.73121 + 0.554856\n",
      "[500]\tcv_agg's l1: 1.60157 + 0.510364\n",
      "[600]\tcv_agg's l1: 1.52966 + 0.480667\n",
      "[700]\tcv_agg's l1: 1.46626 + 0.440233\n",
      "[800]\tcv_agg's l1: 1.42473 + 0.415271\n",
      "[900]\tcv_agg's l1: 1.39477 + 0.395033\n",
      "[1000]\tcv_agg's l1: 1.37481 + 0.383514\n",
      "[1100]\tcv_agg's l1: 1.36129 + 0.378412\n",
      "[1200]\tcv_agg's l1: 1.34869 + 0.368555\n",
      "[1300]\tcv_agg's l1: 1.33808 + 0.36133\n",
      "[1400]\tcv_agg's l1: 1.33137 + 0.3605\n",
      "[1500]\tcv_agg's l1: 1.32567 + 0.360739\n",
      "[1600]\tcv_agg's l1: 1.32025 + 0.359911\n",
      "[1700]\tcv_agg's l1: 1.31391 + 0.35938\n",
      "[1800]\tcv_agg's l1: 1.30981 + 0.358043\n",
      "[1900]\tcv_agg's l1: 1.30623 + 0.356038\n",
      "[2000]\tcv_agg's l1: 1.30202 + 0.352273\n",
      "[2100]\tcv_agg's l1: 1.29832 + 0.35039\n",
      "[2200]\tcv_agg's l1: 1.29594 + 0.350318\n",
      "[2300]\tcv_agg's l1: 1.2936 + 0.350221\n",
      "[2400]\tcv_agg's l1: 1.29112 + 0.349645\n",
      "[2500]\tcv_agg's l1: 1.28898 + 0.349273\n",
      "[2600]\tcv_agg's l1: 1.28625 + 0.347115\n",
      "[2700]\tcv_agg's l1: 1.28505 + 0.347275\n",
      "[2800]\tcv_agg's l1: 1.28399 + 0.346646\n",
      "[2900]\tcv_agg's l1: 1.28291 + 0.346129\n",
      "[3000]\tcv_agg's l1: 1.2818 + 0.345804\n",
      "Run done, took: 0.91 s\n",
      "Starting run 5\n",
      "{'bagging_fraction': 0.8, 'boosting': 'gbdt', 'feature_fraction': 0.8, 'learning_rate': 0.01, 'max_depth': 10, 'num_leaves': 31, 'num_threads': 4, 'objective': 'mae', 'verbose': -1}\n",
      "[100]\tcv_agg's l1: 3.76618 + 0.721686\n",
      "[200]\tcv_agg's l1: 2.49007 + 0.677267\n",
      "[300]\tcv_agg's l1: 1.93029 + 0.549367\n",
      "[400]\tcv_agg's l1: 1.66799 + 0.494491\n",
      "[500]\tcv_agg's l1: 1.56159 + 0.454227\n",
      "[600]\tcv_agg's l1: 1.50417 + 0.431816\n",
      "[700]\tcv_agg's l1: 1.46399 + 0.408212\n",
      "[800]\tcv_agg's l1: 1.43914 + 0.39306\n",
      "[900]\tcv_agg's l1: 1.42836 + 0.387243\n",
      "[1000]\tcv_agg's l1: 1.41914 + 0.378028\n",
      "[1100]\tcv_agg's l1: 1.40741 + 0.369213\n",
      "[1200]\tcv_agg's l1: 1.39565 + 0.358879\n",
      "[1300]\tcv_agg's l1: 1.38889 + 0.352653\n",
      "[1400]\tcv_agg's l1: 1.38483 + 0.35154\n",
      "[1500]\tcv_agg's l1: 1.38058 + 0.349576\n",
      "[1600]\tcv_agg's l1: 1.37737 + 0.347035\n",
      "[1700]\tcv_agg's l1: 1.37461 + 0.345629\n",
      "[1800]\tcv_agg's l1: 1.37183 + 0.344218\n",
      "[1900]\tcv_agg's l1: 1.37037 + 0.343126\n",
      "[2000]\tcv_agg's l1: 1.36703 + 0.340875\n",
      "[2100]\tcv_agg's l1: 1.36548 + 0.340846\n",
      "[2200]\tcv_agg's l1: 1.36486 + 0.340579\n",
      "[2300]\tcv_agg's l1: 1.36363 + 0.340624\n",
      "[2400]\tcv_agg's l1: 1.36213 + 0.340126\n",
      "[2500]\tcv_agg's l1: 1.36065 + 0.339065\n",
      "[2600]\tcv_agg's l1: 1.35786 + 0.337324\n",
      "[2700]\tcv_agg's l1: 1.35554 + 0.335909\n",
      "[2800]\tcv_agg's l1: 1.35426 + 0.336135\n",
      "[2900]\tcv_agg's l1: 1.35356 + 0.335609\n",
      "[3000]\tcv_agg's l1: 1.35195 + 0.335157\n",
      "Run done, took: 1.3 s\n",
      "Starting run 6\n",
      "{'bagging_fraction': 0.8, 'boosting': 'gbdt', 'feature_fraction': 0.8, 'learning_rate': 0.01, 'max_depth': 10, 'num_leaves': 150, 'num_threads': 4, 'objective': 'mae', 'verbose': -1}\n",
      "[100]\tcv_agg's l1: 3.76618 + 0.721686\n",
      "[200]\tcv_agg's l1: 2.49007 + 0.677267\n",
      "[300]\tcv_agg's l1: 1.93029 + 0.549367\n",
      "[400]\tcv_agg's l1: 1.66799 + 0.494491\n",
      "[500]\tcv_agg's l1: 1.56159 + 0.454227\n",
      "[600]\tcv_agg's l1: 1.50417 + 0.431816\n",
      "[700]\tcv_agg's l1: 1.46399 + 0.408212\n",
      "[800]\tcv_agg's l1: 1.43914 + 0.39306\n",
      "[900]\tcv_agg's l1: 1.42836 + 0.387243\n",
      "[1000]\tcv_agg's l1: 1.41914 + 0.378028\n",
      "[1100]\tcv_agg's l1: 1.40741 + 0.369213\n",
      "[1200]\tcv_agg's l1: 1.39565 + 0.358879\n",
      "[1300]\tcv_agg's l1: 1.38889 + 0.352653\n",
      "[1400]\tcv_agg's l1: 1.38483 + 0.35154\n",
      "[1500]\tcv_agg's l1: 1.38058 + 0.349576\n",
      "[1600]\tcv_agg's l1: 1.37737 + 0.347035\n",
      "[1700]\tcv_agg's l1: 1.37461 + 0.345629\n",
      "[1800]\tcv_agg's l1: 1.37183 + 0.344218\n",
      "[1900]\tcv_agg's l1: 1.37037 + 0.343126\n",
      "[2000]\tcv_agg's l1: 1.36703 + 0.340875\n",
      "[2100]\tcv_agg's l1: 1.36548 + 0.340846\n",
      "[2200]\tcv_agg's l1: 1.36486 + 0.340579\n",
      "[2300]\tcv_agg's l1: 1.36363 + 0.340624\n",
      "[2400]\tcv_agg's l1: 1.36213 + 0.340126\n",
      "[2500]\tcv_agg's l1: 1.36065 + 0.339065\n",
      "[2600]\tcv_agg's l1: 1.35786 + 0.337324\n",
      "[2700]\tcv_agg's l1: 1.35554 + 0.335909\n",
      "[2800]\tcv_agg's l1: 1.35426 + 0.336135\n",
      "[2900]\tcv_agg's l1: 1.35356 + 0.335609\n",
      "[3000]\tcv_agg's l1: 1.35195 + 0.335157\n",
      "Run done, took: 1.41 s\n",
      "Starting run 7\n",
      "{'bagging_fraction': 0.8, 'boosting': 'gbdt', 'feature_fraction': 0.8, 'learning_rate': 0.01, 'max_depth': 30, 'num_leaves': 7, 'num_threads': 4, 'objective': 'mae', 'verbose': -1}\n",
      "[100]\tcv_agg's l1: 3.84803 + 0.703804\n",
      "[200]\tcv_agg's l1: 2.66272 + 0.711843\n",
      "[300]\tcv_agg's l1: 2.06046 + 0.632639\n"
     ]
    },
    {
     "name": "stdout",
     "output_type": "stream",
     "text": [
      "[400]\tcv_agg's l1: 1.73121 + 0.554856\n",
      "[500]\tcv_agg's l1: 1.60157 + 0.510364\n",
      "[600]\tcv_agg's l1: 1.52966 + 0.480667\n",
      "[700]\tcv_agg's l1: 1.46626 + 0.440233\n",
      "[800]\tcv_agg's l1: 1.42473 + 0.415271\n",
      "[900]\tcv_agg's l1: 1.39477 + 0.395033\n",
      "[1000]\tcv_agg's l1: 1.37481 + 0.383514\n",
      "[1100]\tcv_agg's l1: 1.36129 + 0.378412\n",
      "[1200]\tcv_agg's l1: 1.34869 + 0.368555\n",
      "[1300]\tcv_agg's l1: 1.33808 + 0.36133\n",
      "[1400]\tcv_agg's l1: 1.33137 + 0.3605\n",
      "[1500]\tcv_agg's l1: 1.32567 + 0.360739\n",
      "[1600]\tcv_agg's l1: 1.32025 + 0.359911\n",
      "[1700]\tcv_agg's l1: 1.31391 + 0.35938\n",
      "[1800]\tcv_agg's l1: 1.30981 + 0.358043\n",
      "[1900]\tcv_agg's l1: 1.30623 + 0.356038\n",
      "[2000]\tcv_agg's l1: 1.30202 + 0.352273\n",
      "[2100]\tcv_agg's l1: 1.29832 + 0.35039\n",
      "[2200]\tcv_agg's l1: 1.29594 + 0.350318\n",
      "[2300]\tcv_agg's l1: 1.2936 + 0.350221\n",
      "[2400]\tcv_agg's l1: 1.29112 + 0.349645\n",
      "[2500]\tcv_agg's l1: 1.28898 + 0.349273\n",
      "[2600]\tcv_agg's l1: 1.28625 + 0.347115\n",
      "[2700]\tcv_agg's l1: 1.28505 + 0.347275\n",
      "[2800]\tcv_agg's l1: 1.28399 + 0.346646\n",
      "[2900]\tcv_agg's l1: 1.28291 + 0.346129\n",
      "[3000]\tcv_agg's l1: 1.2818 + 0.345804\n",
      "Run done, took: 0.93 s\n",
      "Starting run 8\n",
      "{'bagging_fraction': 0.8, 'boosting': 'gbdt', 'feature_fraction': 0.8, 'learning_rate': 0.01, 'max_depth': 30, 'num_leaves': 31, 'num_threads': 4, 'objective': 'mae', 'verbose': -1}\n",
      "[100]\tcv_agg's l1: 3.76618 + 0.721686\n",
      "[200]\tcv_agg's l1: 2.49007 + 0.677267\n",
      "[300]\tcv_agg's l1: 1.93041 + 0.549537\n",
      "[400]\tcv_agg's l1: 1.67307 + 0.501652\n",
      "[500]\tcv_agg's l1: 1.56957 + 0.459759\n",
      "[600]\tcv_agg's l1: 1.50437 + 0.425436\n",
      "[700]\tcv_agg's l1: 1.46148 + 0.401266\n",
      "[800]\tcv_agg's l1: 1.43831 + 0.388937\n",
      "[900]\tcv_agg's l1: 1.42497 + 0.383532\n",
      "[1000]\tcv_agg's l1: 1.41514 + 0.373004\n",
      "[1100]\tcv_agg's l1: 1.40802 + 0.365849\n",
      "[1200]\tcv_agg's l1: 1.39904 + 0.358172\n",
      "[1300]\tcv_agg's l1: 1.39157 + 0.350679\n",
      "[1400]\tcv_agg's l1: 1.38843 + 0.347038\n",
      "[1500]\tcv_agg's l1: 1.38379 + 0.344665\n",
      "[1600]\tcv_agg's l1: 1.38107 + 0.34317\n",
      "[1700]\tcv_agg's l1: 1.37905 + 0.343337\n",
      "[1800]\tcv_agg's l1: 1.37606 + 0.341953\n",
      "[1900]\tcv_agg's l1: 1.3742 + 0.340538\n",
      "[2000]\tcv_agg's l1: 1.37278 + 0.340316\n",
      "[2100]\tcv_agg's l1: 1.3708 + 0.338849\n",
      "[2200]\tcv_agg's l1: 1.36935 + 0.337871\n",
      "[2300]\tcv_agg's l1: 1.36796 + 0.336515\n",
      "[2400]\tcv_agg's l1: 1.36672 + 0.336412\n",
      "[2500]\tcv_agg's l1: 1.36481 + 0.335293\n",
      "[2600]\tcv_agg's l1: 1.36313 + 0.334162\n",
      "[2700]\tcv_agg's l1: 1.36248 + 0.33385\n",
      "[2800]\tcv_agg's l1: 1.36082 + 0.334093\n",
      "[2900]\tcv_agg's l1: 1.35965 + 0.333637\n",
      "[3000]\tcv_agg's l1: 1.35882 + 0.333917\n",
      "Run done, took: 1.3 s\n",
      "Starting run 9\n",
      "{'bagging_fraction': 0.8, 'boosting': 'gbdt', 'feature_fraction': 0.8, 'learning_rate': 0.01, 'max_depth': 30, 'num_leaves': 150, 'num_threads': 4, 'objective': 'mae', 'verbose': -1}\n",
      "[100]\tcv_agg's l1: 3.76618 + 0.721686\n",
      "[200]\tcv_agg's l1: 2.49007 + 0.677267\n",
      "[300]\tcv_agg's l1: 1.93041 + 0.549537\n",
      "[400]\tcv_agg's l1: 1.67307 + 0.501652\n",
      "[500]\tcv_agg's l1: 1.56957 + 0.459759\n",
      "[600]\tcv_agg's l1: 1.50437 + 0.425436\n",
      "[700]\tcv_agg's l1: 1.46148 + 0.401266\n",
      "[800]\tcv_agg's l1: 1.43831 + 0.388937\n",
      "[900]\tcv_agg's l1: 1.42497 + 0.383532\n",
      "[1000]\tcv_agg's l1: 1.41514 + 0.373004\n",
      "[1100]\tcv_agg's l1: 1.40802 + 0.365849\n",
      "[1200]\tcv_agg's l1: 1.39904 + 0.358172\n",
      "[1300]\tcv_agg's l1: 1.39157 + 0.350679\n",
      "[1400]\tcv_agg's l1: 1.38843 + 0.347038\n",
      "[1500]\tcv_agg's l1: 1.38379 + 0.344665\n",
      "[1600]\tcv_agg's l1: 1.38107 + 0.34317\n",
      "[1700]\tcv_agg's l1: 1.37905 + 0.343337\n",
      "[1800]\tcv_agg's l1: 1.37606 + 0.341953\n",
      "[1900]\tcv_agg's l1: 1.3742 + 0.340538\n",
      "[2000]\tcv_agg's l1: 1.37278 + 0.340316\n",
      "[2100]\tcv_agg's l1: 1.3708 + 0.338849\n",
      "[2200]\tcv_agg's l1: 1.36935 + 0.337871\n",
      "[2300]\tcv_agg's l1: 1.36796 + 0.336515\n",
      "[2400]\tcv_agg's l1: 1.36672 + 0.336412\n",
      "[2500]\tcv_agg's l1: 1.36481 + 0.335293\n",
      "[2600]\tcv_agg's l1: 1.36313 + 0.334162\n",
      "[2700]\tcv_agg's l1: 1.36248 + 0.33385\n",
      "[2800]\tcv_agg's l1: 1.36082 + 0.334093\n",
      "[2900]\tcv_agg's l1: 1.35965 + 0.333637\n",
      "[3000]\tcv_agg's l1: 1.35882 + 0.333917\n",
      "Run done, took: 1.4 s\n",
      "Starting run 10\n",
      "{'bagging_fraction': 0.8, 'boosting': 'gbdt', 'feature_fraction': 0.8, 'learning_rate': 0.01, 'max_depth': 51, 'num_leaves': 7, 'num_threads': 4, 'objective': 'mae', 'verbose': -1}\n",
      "[100]\tcv_agg's l1: 3.84803 + 0.703804\n",
      "[200]\tcv_agg's l1: 2.66272 + 0.711843\n",
      "[300]\tcv_agg's l1: 2.06046 + 0.632639\n",
      "[400]\tcv_agg's l1: 1.73121 + 0.554856\n",
      "[500]\tcv_agg's l1: 1.60157 + 0.510364\n",
      "[600]\tcv_agg's l1: 1.52966 + 0.480667\n",
      "[700]\tcv_agg's l1: 1.46626 + 0.440233\n",
      "[800]\tcv_agg's l1: 1.42473 + 0.415271\n",
      "[900]\tcv_agg's l1: 1.39477 + 0.395033\n",
      "[1000]\tcv_agg's l1: 1.37481 + 0.383514\n",
      "[1100]\tcv_agg's l1: 1.36129 + 0.378412\n",
      "[1200]\tcv_agg's l1: 1.34869 + 0.368555\n",
      "[1300]\tcv_agg's l1: 1.33808 + 0.36133\n",
      "[1400]\tcv_agg's l1: 1.33137 + 0.3605\n",
      "[1500]\tcv_agg's l1: 1.32567 + 0.360739\n",
      "[1600]\tcv_agg's l1: 1.32025 + 0.359911\n",
      "[1700]\tcv_agg's l1: 1.31391 + 0.35938\n",
      "[1800]\tcv_agg's l1: 1.30981 + 0.358043\n",
      "[1900]\tcv_agg's l1: 1.30623 + 0.356038\n",
      "[2000]\tcv_agg's l1: 1.30202 + 0.352273\n",
      "[2100]\tcv_agg's l1: 1.29832 + 0.35039\n",
      "[2200]\tcv_agg's l1: 1.29594 + 0.350318\n",
      "[2300]\tcv_agg's l1: 1.2936 + 0.350221\n",
      "[2400]\tcv_agg's l1: 1.29112 + 0.349645\n",
      "[2500]\tcv_agg's l1: 1.28898 + 0.349273\n",
      "[2600]\tcv_agg's l1: 1.28625 + 0.347115\n",
      "[2700]\tcv_agg's l1: 1.28505 + 0.347275\n",
      "[2800]\tcv_agg's l1: 1.28399 + 0.346646\n",
      "[2900]\tcv_agg's l1: 1.28291 + 0.346129\n",
      "[3000]\tcv_agg's l1: 1.2818 + 0.345804\n",
      "Run done, took: 0.92 s\n",
      "Starting run 11\n",
      "{'bagging_fraction': 0.8, 'boosting': 'gbdt', 'feature_fraction': 0.8, 'learning_rate': 0.01, 'max_depth': 51, 'num_leaves': 31, 'num_threads': 4, 'objective': 'mae', 'verbose': -1}\n",
      "[100]\tcv_agg's l1: 3.76618 + 0.721686\n",
      "[200]\tcv_agg's l1: 2.49007 + 0.677267\n",
      "[300]\tcv_agg's l1: 1.93041 + 0.549537\n",
      "[400]\tcv_agg's l1: 1.67307 + 0.501652\n",
      "[500]\tcv_agg's l1: 1.56957 + 0.459759\n",
      "[600]\tcv_agg's l1: 1.50437 + 0.425436\n",
      "[700]\tcv_agg's l1: 1.46148 + 0.401266\n",
      "[800]\tcv_agg's l1: 1.43831 + 0.388937\n",
      "[900]\tcv_agg's l1: 1.42497 + 0.383532\n",
      "[1000]\tcv_agg's l1: 1.41514 + 0.373004\n",
      "[1100]\tcv_agg's l1: 1.40802 + 0.365849\n",
      "[1200]\tcv_agg's l1: 1.39904 + 0.358172\n",
      "[1300]\tcv_agg's l1: 1.39157 + 0.350679\n",
      "[1400]\tcv_agg's l1: 1.38843 + 0.347038\n",
      "[1500]\tcv_agg's l1: 1.38379 + 0.344665\n",
      "[1600]\tcv_agg's l1: 1.38107 + 0.34317\n",
      "[1700]\tcv_agg's l1: 1.37905 + 0.343337\n",
      "[1800]\tcv_agg's l1: 1.37606 + 0.341953\n",
      "[1900]\tcv_agg's l1: 1.3742 + 0.340538\n",
      "[2000]\tcv_agg's l1: 1.37278 + 0.340316\n",
      "[2100]\tcv_agg's l1: 1.3708 + 0.338849\n",
      "[2200]\tcv_agg's l1: 1.36935 + 0.337871\n",
      "[2300]\tcv_agg's l1: 1.36796 + 0.336515\n",
      "[2400]\tcv_agg's l1: 1.36672 + 0.336412\n",
      "[2500]\tcv_agg's l1: 1.36481 + 0.335293\n",
      "[2600]\tcv_agg's l1: 1.36313 + 0.334162\n",
      "[2700]\tcv_agg's l1: 1.36248 + 0.33385\n",
      "[2800]\tcv_agg's l1: 1.36082 + 0.334093\n",
      "[2900]\tcv_agg's l1: 1.35965 + 0.333637\n",
      "[3000]\tcv_agg's l1: 1.35882 + 0.333917\n",
      "Run done, took: 1.3 s\n",
      "Starting run 12\n",
      "{'bagging_fraction': 0.8, 'boosting': 'gbdt', 'feature_fraction': 0.8, 'learning_rate': 0.01, 'max_depth': 51, 'num_leaves': 150, 'num_threads': 4, 'objective': 'mae', 'verbose': -1}\n",
      "[100]\tcv_agg's l1: 3.76618 + 0.721686\n",
      "[200]\tcv_agg's l1: 2.49007 + 0.677267\n",
      "[300]\tcv_agg's l1: 1.93041 + 0.549537\n",
      "[400]\tcv_agg's l1: 1.67307 + 0.501652\n",
      "[500]\tcv_agg's l1: 1.56957 + 0.459759\n",
      "[600]\tcv_agg's l1: 1.50437 + 0.425436\n",
      "[700]\tcv_agg's l1: 1.46148 + 0.401266\n",
      "[800]\tcv_agg's l1: 1.43831 + 0.388937\n",
      "[900]\tcv_agg's l1: 1.42497 + 0.383532\n",
      "[1000]\tcv_agg's l1: 1.41514 + 0.373004\n",
      "[1100]\tcv_agg's l1: 1.40802 + 0.365849\n",
      "[1200]\tcv_agg's l1: 1.39904 + 0.358172\n",
      "[1300]\tcv_agg's l1: 1.39157 + 0.350679\n",
      "[1400]\tcv_agg's l1: 1.38843 + 0.347038\n",
      "[1500]\tcv_agg's l1: 1.38379 + 0.344665\n",
      "[1600]\tcv_agg's l1: 1.38107 + 0.34317\n",
      "[1700]\tcv_agg's l1: 1.37905 + 0.343337\n",
      "[1800]\tcv_agg's l1: 1.37606 + 0.341953\n",
      "[1900]\tcv_agg's l1: 1.3742 + 0.340538\n",
      "[2000]\tcv_agg's l1: 1.37278 + 0.340316\n",
      "[2100]\tcv_agg's l1: 1.3708 + 0.338849\n",
      "[2200]\tcv_agg's l1: 1.36935 + 0.337871\n",
      "[2300]\tcv_agg's l1: 1.36796 + 0.336515\n",
      "[2400]\tcv_agg's l1: 1.36672 + 0.336412\n",
      "[2500]\tcv_agg's l1: 1.36481 + 0.335293\n",
      "[2600]\tcv_agg's l1: 1.36313 + 0.334162\n",
      "[2700]\tcv_agg's l1: 1.36248 + 0.33385\n",
      "[2800]\tcv_agg's l1: 1.36082 + 0.334093\n",
      "[2900]\tcv_agg's l1: 1.35965 + 0.333637\n",
      "[3000]\tcv_agg's l1: 1.35882 + 0.333917\n",
      "Run done, took: 1.4 s\n",
      "Best params: ({'bagging_fraction': 0.8, 'boosting': 'gbdt', 'feature_fraction': 0.8, 'learning_rate': 0.01, 'max_depth': 51, 'num_leaves': 150, 'num_threads': 4, 'objective': 'mae', 'verbose': -1, 'optimal_number_of_trees': 3000}, 1.2818007263691982)\n",
      "[('x', 2000), ({'bagging_fraction': 0.8, 'boosting': 'gbdt', 'feature_fraction': 0.8, 'learning_rate': 0.01, 'max_depth': 51, 'num_leaves': 150, 'num_threads': 4, 'objective': 'mae', 'verbose': -1, 'optimal_number_of_trees': 3000}, 1.2818007263691982), ({'bagging_fraction': 0.8, 'boosting': 'gbdt', 'feature_fraction': 0.8, 'learning_rate': 0.01, 'max_depth': -1, 'num_leaves': 31, 'num_threads': 4, 'objective': 'mae', 'verbose': -1, 'optimal_number_of_trees': 2994}, 1.35881753046631), ({'bagging_fraction': 0.8, 'boosting': 'gbdt', 'feature_fraction': 0.8, 'learning_rate': 0.01, 'max_depth': -1, 'num_leaves': 150, 'num_threads': 4, 'objective': 'mae', 'verbose': -1, 'optimal_number_of_trees': 2994}, 1.35881753046631), ({'bagging_fraction': 0.8, 'boosting': 'gbdt', 'feature_fraction': 0.8, 'learning_rate': 0.01, 'max_depth': 10, 'num_leaves': 7, 'num_threads': 4, 'objective': 'mae', 'verbose': -1, 'optimal_number_of_trees': 3000}, 1.2818007263691982), ({'bagging_fraction': 0.8, 'boosting': 'gbdt', 'feature_fraction': 0.8, 'learning_rate': 0.01, 'max_depth': 10, 'num_leaves': 31, 'num_threads': 4, 'objective': 'mae', 'verbose': -1, 'optimal_number_of_trees': 2990}, 1.351932343903699), ({'bagging_fraction': 0.8, 'boosting': 'gbdt', 'feature_fraction': 0.8, 'learning_rate': 0.01, 'max_depth': 10, 'num_leaves': 150, 'num_threads': 4, 'objective': 'mae', 'verbose': -1, 'optimal_number_of_trees': 2990}, 1.351932343903699), ({'bagging_fraction': 0.8, 'boosting': 'gbdt', 'feature_fraction': 0.8, 'learning_rate': 0.01, 'max_depth': 30, 'num_leaves': 7, 'num_threads': 4, 'objective': 'mae', 'verbose': -1, 'optimal_number_of_trees': 3000}, 1.2818007263691982), ({'bagging_fraction': 0.8, 'boosting': 'gbdt', 'feature_fraction': 0.8, 'learning_rate': 0.01, 'max_depth': 30, 'num_leaves': 31, 'num_threads': 4, 'objective': 'mae', 'verbose': -1, 'optimal_number_of_trees': 2994}, 1.35881753046631), ({'bagging_fraction': 0.8, 'boosting': 'gbdt', 'feature_fraction': 0.8, 'learning_rate': 0.01, 'max_depth': 30, 'num_leaves': 150, 'num_threads': 4, 'objective': 'mae', 'verbose': -1, 'optimal_number_of_trees': 2994}, 1.35881753046631), ({'bagging_fraction': 0.8, 'boosting': 'gbdt', 'feature_fraction': 0.8, 'learning_rate': 0.01, 'max_depth': 51, 'num_leaves': 7, 'num_threads': 4, 'objective': 'mae', 'verbose': -1, 'optimal_number_of_trees': 3000}, 1.2818007263691982), ({'bagging_fraction': 0.8, 'boosting': 'gbdt', 'feature_fraction': 0.8, 'learning_rate': 0.01, 'max_depth': 51, 'num_leaves': 31, 'num_threads': 4, 'objective': 'mae', 'verbose': -1, 'optimal_number_of_trees': 2994}, 1.35881753046631), ({'bagging_fraction': 0.8, 'boosting': 'gbdt', 'feature_fraction': 0.8, 'learning_rate': 0.01, 'max_depth': 51, 'num_leaves': 150, 'num_threads': 4, 'objective': 'mae', 'verbose': -1, 'optimal_number_of_trees': 2994}, 1.35881753046631)]\n"
     ]
    },
    {
     "name": "stdout",
     "output_type": "stream",
     "text": [
      "Wall time: 15.2 s\n"
     ]
    }
   ],
   "source": [
    "%%time\n",
    "#chose features\n",
    "features_inner = [\"inCityTripDistance\",\"trip_distance\",\"duration\",\"ridesAtPickupHour\"]\n",
    "features_outer = [\"outCityTripDistance\",\"trip_distance\",\"duration\",\"ridesAtPickupHour\"]\n",
    "\n",
    "mixed_inner_train = code4data_mixed[features_inner]\n",
    "mixed_outer_train = code4data_mixed[features_outer]\n",
    "\n",
    "code4_model_inner = optimisedLGM(param_grid,mixed_inner_train,code4data_mixed[\"inCityFare\"])"
   ]
  },
  {
   "cell_type": "code",
   "execution_count": 116,
   "metadata": {
    "scrolled": true
   },
   "outputs": [
    {
     "name": "stdout",
     "output_type": "stream",
     "text": [
      "Total parameter combinations to run: 12\n",
      "Starting run 1\n",
      "{'bagging_fraction': 0.8, 'boosting': 'gbdt', 'feature_fraction': 0.8, 'learning_rate': 0.01, 'max_depth': -1, 'num_leaves': 7, 'num_threads': 4, 'objective': 'mae', 'verbose': -1}\n",
      "[100]\tcv_agg's l1: 9.30921 + 0.619201\n",
      "[200]\tcv_agg's l1: 6.40743 + 0.231941\n",
      "[300]\tcv_agg's l1: 5.2512 + 0.0702518\n",
      "[400]\tcv_agg's l1: 4.88719 + 0.118044\n",
      "[500]\tcv_agg's l1: 4.79622 + 0.102954\n",
      "[600]\tcv_agg's l1: 4.76357 + 0.0995917\n",
      "[700]\tcv_agg's l1: 4.755 + 0.0906385\n",
      "Run done, took: 0.26 s\n",
      "Starting run 2\n",
      "{'bagging_fraction': 0.8, 'boosting': 'gbdt', 'feature_fraction': 0.8, 'learning_rate': 0.01, 'max_depth': -1, 'num_leaves': 31, 'num_threads': 4, 'objective': 'mae', 'verbose': -1}\n",
      "[100]\tcv_agg's l1: 8.92528 + 0.487275\n",
      "[200]\tcv_agg's l1: 6.04888 + 0.195064\n",
      "[300]\tcv_agg's l1: 5.10279 + 0.159787\n",
      "[400]\tcv_agg's l1: 4.83507 + 0.180615\n",
      "[500]\tcv_agg's l1: 4.77957 + 0.142949\n",
      "[600]\tcv_agg's l1: 4.76459 + 0.123472\n",
      "Run done, took: 0.29 s\n",
      "Starting run 3\n",
      "{'bagging_fraction': 0.8, 'boosting': 'gbdt', 'feature_fraction': 0.8, 'learning_rate': 0.01, 'max_depth': -1, 'num_leaves': 150, 'num_threads': 4, 'objective': 'mae', 'verbose': -1}\n",
      "[100]\tcv_agg's l1: 8.92528 + 0.487275\n",
      "[200]\tcv_agg's l1: 6.04888 + 0.195064\n",
      "[300]\tcv_agg's l1: 5.10279 + 0.159787\n",
      "[400]\tcv_agg's l1: 4.83507 + 0.180615\n",
      "[500]\tcv_agg's l1: 4.77957 + 0.142949\n",
      "[600]\tcv_agg's l1: 4.76459 + 0.123472\n",
      "Run done, took: 0.32 s\n",
      "Starting run 4\n",
      "{'bagging_fraction': 0.8, 'boosting': 'gbdt', 'feature_fraction': 0.8, 'learning_rate': 0.01, 'max_depth': 10, 'num_leaves': 7, 'num_threads': 4, 'objective': 'mae', 'verbose': -1}\n",
      "[100]\tcv_agg's l1: 9.30921 + 0.619201\n",
      "[200]\tcv_agg's l1: 6.40743 + 0.231941\n",
      "[300]\tcv_agg's l1: 5.2512 + 0.0702518\n",
      "[400]\tcv_agg's l1: 4.88719 + 0.118044\n",
      "[500]\tcv_agg's l1: 4.79622 + 0.102954\n",
      "[600]\tcv_agg's l1: 4.76357 + 0.0995917\n",
      "[700]\tcv_agg's l1: 4.755 + 0.0906385\n",
      "Run done, took: 0.25 s\n",
      "Starting run 5\n",
      "{'bagging_fraction': 0.8, 'boosting': 'gbdt', 'feature_fraction': 0.8, 'learning_rate': 0.01, 'max_depth': 10, 'num_leaves': 31, 'num_threads': 4, 'objective': 'mae', 'verbose': -1}\n",
      "[100]\tcv_agg's l1: 8.92528 + 0.487275\n",
      "[200]\tcv_agg's l1: 6.04888 + 0.195064\n",
      "[300]\tcv_agg's l1: 5.10143 + 0.160972\n",
      "[400]\tcv_agg's l1: 4.83122 + 0.191143\n",
      "[500]\tcv_agg's l1: 4.77766 + 0.167027\n",
      "[600]\tcv_agg's l1: 4.76538 + 0.138801\n",
      "Run done, took: 0.28 s\n",
      "Starting run 6\n",
      "{'bagging_fraction': 0.8, 'boosting': 'gbdt', 'feature_fraction': 0.8, 'learning_rate': 0.01, 'max_depth': 10, 'num_leaves': 150, 'num_threads': 4, 'objective': 'mae', 'verbose': -1}\n",
      "[100]\tcv_agg's l1: 8.92528 + 0.487275\n",
      "[200]\tcv_agg's l1: 6.04888 + 0.195064\n",
      "[300]\tcv_agg's l1: 5.10143 + 0.160972\n",
      "[400]\tcv_agg's l1: 4.83122 + 0.191143\n",
      "[500]\tcv_agg's l1: 4.77766 + 0.167027\n",
      "[600]\tcv_agg's l1: 4.76538 + 0.138801\n",
      "Run done, took: 0.3 s\n",
      "Starting run 7\n",
      "{'bagging_fraction': 0.8, 'boosting': 'gbdt', 'feature_fraction': 0.8, 'learning_rate': 0.01, 'max_depth': 30, 'num_leaves': 7, 'num_threads': 4, 'objective': 'mae', 'verbose': -1}\n",
      "[100]\tcv_agg's l1: 9.30921 + 0.619201\n",
      "[200]\tcv_agg's l1: 6.40743 + 0.231941\n",
      "[300]\tcv_agg's l1: 5.2512 + 0.0702518\n",
      "[400]\tcv_agg's l1: 4.88719 + 0.118044\n",
      "[500]\tcv_agg's l1: 4.79622 + 0.102954\n",
      "[600]\tcv_agg's l1: 4.76357 + 0.0995917\n",
      "[700]\tcv_agg's l1: 4.755 + 0.0906385\n",
      "Run done, took: 0.24 s\n",
      "Starting run 8\n",
      "{'bagging_fraction': 0.8, 'boosting': 'gbdt', 'feature_fraction': 0.8, 'learning_rate': 0.01, 'max_depth': 30, 'num_leaves': 31, 'num_threads': 4, 'objective': 'mae', 'verbose': -1}\n",
      "[100]\tcv_agg's l1: 8.92528 + 0.487275\n",
      "[200]\tcv_agg's l1: 6.04888 + 0.195064\n",
      "[300]\tcv_agg's l1: 5.10279 + 0.159787\n",
      "[400]\tcv_agg's l1: 4.83507 + 0.180615\n",
      "[500]\tcv_agg's l1: 4.77957 + 0.142949\n",
      "[600]\tcv_agg's l1: 4.76459 + 0.123472\n",
      "Run done, took: 0.29 s\n",
      "Starting run 9\n",
      "{'bagging_fraction': 0.8, 'boosting': 'gbdt', 'feature_fraction': 0.8, 'learning_rate': 0.01, 'max_depth': 30, 'num_leaves': 150, 'num_threads': 4, 'objective': 'mae', 'verbose': -1}\n",
      "[100]\tcv_agg's l1: 8.92528 + 0.487275\n",
      "[200]\tcv_agg's l1: 6.04888 + 0.195064\n",
      "[300]\tcv_agg's l1: 5.10279 + 0.159787\n",
      "[400]\tcv_agg's l1: 4.83507 + 0.180615\n",
      "[500]\tcv_agg's l1: 4.77957 + 0.142949\n",
      "[600]\tcv_agg's l1: 4.76459 + 0.123472\n",
      "Run done, took: 0.32 s\n",
      "Starting run 10\n",
      "{'bagging_fraction': 0.8, 'boosting': 'gbdt', 'feature_fraction': 0.8, 'learning_rate': 0.01, 'max_depth': 51, 'num_leaves': 7, 'num_threads': 4, 'objective': 'mae', 'verbose': -1}\n",
      "[100]\tcv_agg's l1: 9.30921 + 0.619201\n",
      "[200]\tcv_agg's l1: 6.40743 + 0.231941\n",
      "[300]\tcv_agg's l1: 5.2512 + 0.0702518\n",
      "[400]\tcv_agg's l1: 4.88719 + 0.118044\n",
      "[500]\tcv_agg's l1: 4.79622 + 0.102954\n",
      "[600]\tcv_agg's l1: 4.76357 + 0.0995917\n",
      "[700]\tcv_agg's l1: 4.755 + 0.0906385\n",
      "Run done, took: 0.25 s\n",
      "Starting run 11\n",
      "{'bagging_fraction': 0.8, 'boosting': 'gbdt', 'feature_fraction': 0.8, 'learning_rate': 0.01, 'max_depth': 51, 'num_leaves': 31, 'num_threads': 4, 'objective': 'mae', 'verbose': -1}\n",
      "[100]\tcv_agg's l1: 8.92528 + 0.487275\n",
      "[200]\tcv_agg's l1: 6.04888 + 0.195064\n",
      "[300]\tcv_agg's l1: 5.10279 + 0.159787\n",
      "[400]\tcv_agg's l1: 4.83507 + 0.180615\n",
      "[500]\tcv_agg's l1: 4.77957 + 0.142949\n",
      "[600]\tcv_agg's l1: 4.76459 + 0.123472\n",
      "Run done, took: 0.29 s\n",
      "Starting run 12\n",
      "{'bagging_fraction': 0.8, 'boosting': 'gbdt', 'feature_fraction': 0.8, 'learning_rate': 0.01, 'max_depth': 51, 'num_leaves': 150, 'num_threads': 4, 'objective': 'mae', 'verbose': -1}\n",
      "[100]\tcv_agg's l1: 8.92528 + 0.487275\n",
      "[200]\tcv_agg's l1: 6.04888 + 0.195064\n",
      "[300]\tcv_agg's l1: 5.10279 + 0.159787\n",
      "[400]\tcv_agg's l1: 4.83507 + 0.180615\n",
      "[500]\tcv_agg's l1: 4.77957 + 0.142949\n",
      "[600]\tcv_agg's l1: 4.76459 + 0.123472\n",
      "Run done, took: 0.3 s\n",
      "Best params: ({'bagging_fraction': 0.8, 'boosting': 'gbdt', 'feature_fraction': 0.8, 'learning_rate': 0.01, 'max_depth': 51, 'num_leaves': 150, 'num_threads': 4, 'objective': 'mae', 'verbose': -1, 'optimal_number_of_trees': 732}, 4.751927072670203)\n",
      "[('x', 2000), ({'bagging_fraction': 0.8, 'boosting': 'gbdt', 'feature_fraction': 0.8, 'learning_rate': 0.01, 'max_depth': 51, 'num_leaves': 150, 'num_threads': 4, 'objective': 'mae', 'verbose': -1, 'optimal_number_of_trees': 732}, 4.751927072670203), ({'bagging_fraction': 0.8, 'boosting': 'gbdt', 'feature_fraction': 0.8, 'learning_rate': 0.01, 'max_depth': -1, 'num_leaves': 31, 'num_threads': 4, 'objective': 'mae', 'verbose': -1, 'optimal_number_of_trees': 610}, 4.763090390288138), ({'bagging_fraction': 0.8, 'boosting': 'gbdt', 'feature_fraction': 0.8, 'learning_rate': 0.01, 'max_depth': -1, 'num_leaves': 150, 'num_threads': 4, 'objective': 'mae', 'verbose': -1, 'optimal_number_of_trees': 610}, 4.763090390288138), ({'bagging_fraction': 0.8, 'boosting': 'gbdt', 'feature_fraction': 0.8, 'learning_rate': 0.01, 'max_depth': 10, 'num_leaves': 7, 'num_threads': 4, 'objective': 'mae', 'verbose': -1, 'optimal_number_of_trees': 732}, 4.751927072670203), ({'bagging_fraction': 0.8, 'boosting': 'gbdt', 'feature_fraction': 0.8, 'learning_rate': 0.01, 'max_depth': 10, 'num_leaves': 31, 'num_threads': 4, 'objective': 'mae', 'verbose': -1, 'optimal_number_of_trees': 586}, 4.763465519854585), ({'bagging_fraction': 0.8, 'boosting': 'gbdt', 'feature_fraction': 0.8, 'learning_rate': 0.01, 'max_depth': 10, 'num_leaves': 150, 'num_threads': 4, 'objective': 'mae', 'verbose': -1, 'optimal_number_of_trees': 586}, 4.763465519854585), ({'bagging_fraction': 0.8, 'boosting': 'gbdt', 'feature_fraction': 0.8, 'learning_rate': 0.01, 'max_depth': 30, 'num_leaves': 7, 'num_threads': 4, 'objective': 'mae', 'verbose': -1, 'optimal_number_of_trees': 732}, 4.751927072670203), ({'bagging_fraction': 0.8, 'boosting': 'gbdt', 'feature_fraction': 0.8, 'learning_rate': 0.01, 'max_depth': 30, 'num_leaves': 31, 'num_threads': 4, 'objective': 'mae', 'verbose': -1, 'optimal_number_of_trees': 610}, 4.763090390288138), ({'bagging_fraction': 0.8, 'boosting': 'gbdt', 'feature_fraction': 0.8, 'learning_rate': 0.01, 'max_depth': 30, 'num_leaves': 150, 'num_threads': 4, 'objective': 'mae', 'verbose': -1, 'optimal_number_of_trees': 610}, 4.763090390288138), ({'bagging_fraction': 0.8, 'boosting': 'gbdt', 'feature_fraction': 0.8, 'learning_rate': 0.01, 'max_depth': 51, 'num_leaves': 7, 'num_threads': 4, 'objective': 'mae', 'verbose': -1, 'optimal_number_of_trees': 732}, 4.751927072670203), ({'bagging_fraction': 0.8, 'boosting': 'gbdt', 'feature_fraction': 0.8, 'learning_rate': 0.01, 'max_depth': 51, 'num_leaves': 31, 'num_threads': 4, 'objective': 'mae', 'verbose': -1, 'optimal_number_of_trees': 610}, 4.763090390288138), ({'bagging_fraction': 0.8, 'boosting': 'gbdt', 'feature_fraction': 0.8, 'learning_rate': 0.01, 'max_depth': 51, 'num_leaves': 150, 'num_threads': 4, 'objective': 'mae', 'verbose': -1, 'optimal_number_of_trees': 610}, 4.763090390288138)]\n"
     ]
    },
    {
     "name": "stdout",
     "output_type": "stream",
     "text": [
      "Wall time: 3.57 s\n"
     ]
    }
   ],
   "source": [
    "%%time\n",
    "code4_model_outer = optimisedLGM(param_grid,mixed_outer_train,code4data_mixed[\"outCityFare\"])"
   ]
  },
  {
   "cell_type": "code",
   "execution_count": 117,
   "metadata": {},
   "outputs": [
    {
     "name": "stdout",
     "output_type": "stream",
     "text": [
      "Total parameter combinations to run: 12\n",
      "Starting run 1\n",
      "{'bagging_fraction': 0.8, 'boosting': 'gbdt', 'feature_fraction': 0.8, 'learning_rate': 0.01, 'max_depth': -1, 'num_leaves': 7, 'num_threads': 4, 'objective': 'mae', 'verbose': -1}\n",
      "[100]\tcv_agg's l1: 8.98851 + 0.494066\n",
      "[200]\tcv_agg's l1: 6.58571 + 0.467255\n",
      "[300]\tcv_agg's l1: 5.88107 + 0.340197\n",
      "[400]\tcv_agg's l1: 5.66654 + 0.270183\n",
      "[500]\tcv_agg's l1: 5.61851 + 0.235243\n",
      "[600]\tcv_agg's l1: 5.60516 + 0.22554\n",
      "Run done, took: 0.2 s\n",
      "Starting run 2\n",
      "{'bagging_fraction': 0.8, 'boosting': 'gbdt', 'feature_fraction': 0.8, 'learning_rate': 0.01, 'max_depth': -1, 'num_leaves': 31, 'num_threads': 4, 'objective': 'mae', 'verbose': -1}\n",
      "[100]\tcv_agg's l1: 8.70833 + 0.518065\n",
      "[200]\tcv_agg's l1: 6.44635 + 0.454516\n",
      "[300]\tcv_agg's l1: 5.89385 + 0.368656\n",
      "[400]\tcv_agg's l1: 5.74505 + 0.273984\n",
      "[500]\tcv_agg's l1: 5.6691 + 0.214565\n",
      "[600]\tcv_agg's l1: 5.64816 + 0.189004\n",
      "[700]\tcv_agg's l1: 5.63042 + 0.176736\n",
      "[800]\tcv_agg's l1: 5.61781 + 0.163646\n",
      "[900]\tcv_agg's l1: 5.60756 + 0.152596\n",
      "Run done, took: 0.42 s\n",
      "Starting run 3\n",
      "{'bagging_fraction': 0.8, 'boosting': 'gbdt', 'feature_fraction': 0.8, 'learning_rate': 0.01, 'max_depth': -1, 'num_leaves': 150, 'num_threads': 4, 'objective': 'mae', 'verbose': -1}\n",
      "[100]\tcv_agg's l1: 8.70833 + 0.518065\n",
      "[200]\tcv_agg's l1: 6.44635 + 0.454516\n",
      "[300]\tcv_agg's l1: 5.89385 + 0.368656\n",
      "[400]\tcv_agg's l1: 5.74505 + 0.273984\n",
      "[500]\tcv_agg's l1: 5.6691 + 0.214565\n",
      "[600]\tcv_agg's l1: 5.64816 + 0.189004\n",
      "[700]\tcv_agg's l1: 5.63042 + 0.176736\n",
      "[800]\tcv_agg's l1: 5.61781 + 0.163646\n",
      "[900]\tcv_agg's l1: 5.60756 + 0.152596\n",
      "Run done, took: 0.46 s\n",
      "Starting run 4\n",
      "{'bagging_fraction': 0.8, 'boosting': 'gbdt', 'feature_fraction': 0.8, 'learning_rate': 0.01, 'max_depth': 10, 'num_leaves': 7, 'num_threads': 4, 'objective': 'mae', 'verbose': -1}\n",
      "[100]\tcv_agg's l1: 8.98851 + 0.494066\n",
      "[200]\tcv_agg's l1: 6.58571 + 0.467255\n",
      "[300]\tcv_agg's l1: 5.88107 + 0.340197\n",
      "[400]\tcv_agg's l1: 5.66654 + 0.270183\n",
      "[500]\tcv_agg's l1: 5.61851 + 0.235243\n",
      "[600]\tcv_agg's l1: 5.60516 + 0.22554\n",
      "Run done, took: 0.2 s\n",
      "Starting run 5\n",
      "{'bagging_fraction': 0.8, 'boosting': 'gbdt', 'feature_fraction': 0.8, 'learning_rate': 0.01, 'max_depth': 10, 'num_leaves': 31, 'num_threads': 4, 'objective': 'mae', 'verbose': -1}\n",
      "[100]\tcv_agg's l1: 8.70833 + 0.518065\n",
      "[200]\tcv_agg's l1: 6.44635 + 0.454516\n",
      "[300]\tcv_agg's l1: 5.89497 + 0.368365\n",
      "[400]\tcv_agg's l1: 5.74131 + 0.269462\n",
      "[500]\tcv_agg's l1: 5.67219 + 0.210459\n",
      "[600]\tcv_agg's l1: 5.65017 + 0.188284\n",
      "[700]\tcv_agg's l1: 5.63622 + 0.169752\n",
      "[800]\tcv_agg's l1: 5.62625 + 0.158587\n",
      "[900]\tcv_agg's l1: 5.61467 + 0.148461\n",
      "[1000]\tcv_agg's l1: 5.60814 + 0.141349\n",
      "Run done, took: 0.5 s\n",
      "Starting run 6\n",
      "{'bagging_fraction': 0.8, 'boosting': 'gbdt', 'feature_fraction': 0.8, 'learning_rate': 0.01, 'max_depth': 10, 'num_leaves': 150, 'num_threads': 4, 'objective': 'mae', 'verbose': -1}\n",
      "[100]\tcv_agg's l1: 8.70833 + 0.518065\n",
      "[200]\tcv_agg's l1: 6.44635 + 0.454516\n",
      "[300]\tcv_agg's l1: 5.89497 + 0.368365\n",
      "[400]\tcv_agg's l1: 5.74131 + 0.269462\n",
      "[500]\tcv_agg's l1: 5.67219 + 0.210459\n",
      "[600]\tcv_agg's l1: 5.65017 + 0.188284\n",
      "[700]\tcv_agg's l1: 5.63622 + 0.169752\n",
      "[800]\tcv_agg's l1: 5.62625 + 0.158587\n",
      "[900]\tcv_agg's l1: 5.61467 + 0.148461\n",
      "[1000]\tcv_agg's l1: 5.60814 + 0.141349\n",
      "Run done, took: 0.52 s\n",
      "Starting run 7\n",
      "{'bagging_fraction': 0.8, 'boosting': 'gbdt', 'feature_fraction': 0.8, 'learning_rate': 0.01, 'max_depth': 30, 'num_leaves': 7, 'num_threads': 4, 'objective': 'mae', 'verbose': -1}\n",
      "[100]\tcv_agg's l1: 8.98851 + 0.494066\n",
      "[200]\tcv_agg's l1: 6.58571 + 0.467255\n",
      "[300]\tcv_agg's l1: 5.88107 + 0.340197\n",
      "[400]\tcv_agg's l1: 5.66654 + 0.270183\n",
      "[500]\tcv_agg's l1: 5.61851 + 0.235243\n",
      "[600]\tcv_agg's l1: 5.60516 + 0.22554\n",
      "Run done, took: 0.23 s\n",
      "Starting run 8\n",
      "{'bagging_fraction': 0.8, 'boosting': 'gbdt', 'feature_fraction': 0.8, 'learning_rate': 0.01, 'max_depth': 30, 'num_leaves': 31, 'num_threads': 4, 'objective': 'mae', 'verbose': -1}\n",
      "[100]\tcv_agg's l1: 8.70833 + 0.518065\n",
      "[200]\tcv_agg's l1: 6.44635 + 0.454516\n",
      "[300]\tcv_agg's l1: 5.89385 + 0.368656\n",
      "[400]\tcv_agg's l1: 5.74505 + 0.273984\n",
      "[500]\tcv_agg's l1: 5.6691 + 0.214565\n",
      "[600]\tcv_agg's l1: 5.64816 + 0.189004\n",
      "[700]\tcv_agg's l1: 5.63042 + 0.176736\n",
      "[800]\tcv_agg's l1: 5.61781 + 0.163646\n",
      "[900]\tcv_agg's l1: 5.60756 + 0.152596\n",
      "Run done, took: 0.42 s\n",
      "Starting run 9\n",
      "{'bagging_fraction': 0.8, 'boosting': 'gbdt', 'feature_fraction': 0.8, 'learning_rate': 0.01, 'max_depth': 30, 'num_leaves': 150, 'num_threads': 4, 'objective': 'mae', 'verbose': -1}\n",
      "[100]\tcv_agg's l1: 8.70833 + 0.518065\n",
      "[200]\tcv_agg's l1: 6.44635 + 0.454516\n",
      "[300]\tcv_agg's l1: 5.89385 + 0.368656\n",
      "[400]\tcv_agg's l1: 5.74505 + 0.273984\n",
      "[500]\tcv_agg's l1: 5.6691 + 0.214565\n",
      "[600]\tcv_agg's l1: 5.64816 + 0.189004\n",
      "[700]\tcv_agg's l1: 5.63042 + 0.176736\n",
      "[800]\tcv_agg's l1: 5.61781 + 0.163646\n",
      "[900]\tcv_agg's l1: 5.60756 + 0.152596\n",
      "Run done, took: 0.5 s\n",
      "Starting run 10\n",
      "{'bagging_fraction': 0.8, 'boosting': 'gbdt', 'feature_fraction': 0.8, 'learning_rate': 0.01, 'max_depth': 51, 'num_leaves': 7, 'num_threads': 4, 'objective': 'mae', 'verbose': -1}\n",
      "[100]\tcv_agg's l1: 8.98851 + 0.494066\n",
      "[200]\tcv_agg's l1: 6.58571 + 0.467255\n",
      "[300]\tcv_agg's l1: 5.88107 + 0.340197\n",
      "[400]\tcv_agg's l1: 5.66654 + 0.270183\n",
      "[500]\tcv_agg's l1: 5.61851 + 0.235243\n",
      "[600]\tcv_agg's l1: 5.60516 + 0.22554\n",
      "Run done, took: 0.28 s\n",
      "Starting run 11\n",
      "{'bagging_fraction': 0.8, 'boosting': 'gbdt', 'feature_fraction': 0.8, 'learning_rate': 0.01, 'max_depth': 51, 'num_leaves': 31, 'num_threads': 4, 'objective': 'mae', 'verbose': -1}\n",
      "[100]\tcv_agg's l1: 8.70833 + 0.518065\n",
      "[200]\tcv_agg's l1: 6.44635 + 0.454516\n",
      "[300]\tcv_agg's l1: 5.89385 + 0.368656\n",
      "[400]\tcv_agg's l1: 5.74505 + 0.273984\n",
      "[500]\tcv_agg's l1: 5.6691 + 0.214565\n",
      "[600]\tcv_agg's l1: 5.64816 + 0.189004\n",
      "[700]\tcv_agg's l1: 5.63042 + 0.176736\n",
      "[800]\tcv_agg's l1: 5.61781 + 0.163646\n",
      "[900]\tcv_agg's l1: 5.60756 + 0.152596\n",
      "Run done, took: 0.45 s\n",
      "Starting run 12\n",
      "{'bagging_fraction': 0.8, 'boosting': 'gbdt', 'feature_fraction': 0.8, 'learning_rate': 0.01, 'max_depth': 51, 'num_leaves': 150, 'num_threads': 4, 'objective': 'mae', 'verbose': -1}\n",
      "[100]\tcv_agg's l1: 8.70833 + 0.518065\n",
      "[200]\tcv_agg's l1: 6.44635 + 0.454516\n",
      "[300]\tcv_agg's l1: 5.89385 + 0.368656\n",
      "[400]\tcv_agg's l1: 5.74505 + 0.273984\n",
      "[500]\tcv_agg's l1: 5.6691 + 0.214565\n",
      "[600]\tcv_agg's l1: 5.64816 + 0.189004\n",
      "[700]\tcv_agg's l1: 5.63042 + 0.176736\n",
      "[800]\tcv_agg's l1: 5.61781 + 0.163646\n",
      "[900]\tcv_agg's l1: 5.60756 + 0.152596\n",
      "Run done, took: 0.5 s\n",
      "Best params: ({'bagging_fraction': 0.8, 'boosting': 'gbdt', 'feature_fraction': 0.8, 'learning_rate': 0.01, 'max_depth': 51, 'num_leaves': 150, 'num_threads': 4, 'objective': 'mae', 'verbose': -1, 'optimal_number_of_trees': 576}, 5.6030258879667985)\n",
      "[('x', 2000), ({'bagging_fraction': 0.8, 'boosting': 'gbdt', 'feature_fraction': 0.8, 'learning_rate': 0.01, 'max_depth': 51, 'num_leaves': 150, 'num_threads': 4, 'objective': 'mae', 'verbose': -1, 'optimal_number_of_trees': 576}, 5.6030258879667985), ({'bagging_fraction': 0.8, 'boosting': 'gbdt', 'feature_fraction': 0.8, 'learning_rate': 0.01, 'max_depth': -1, 'num_leaves': 31, 'num_threads': 4, 'objective': 'mae', 'verbose': -1, 'optimal_number_of_trees': 896}, 5.607091851767135), ({'bagging_fraction': 0.8, 'boosting': 'gbdt', 'feature_fraction': 0.8, 'learning_rate': 0.01, 'max_depth': -1, 'num_leaves': 150, 'num_threads': 4, 'objective': 'mae', 'verbose': -1, 'optimal_number_of_trees': 896}, 5.607091851767135), ({'bagging_fraction': 0.8, 'boosting': 'gbdt', 'feature_fraction': 0.8, 'learning_rate': 0.01, 'max_depth': 10, 'num_leaves': 7, 'num_threads': 4, 'objective': 'mae', 'verbose': -1, 'optimal_number_of_trees': 576}, 5.6030258879667985), ({'bagging_fraction': 0.8, 'boosting': 'gbdt', 'feature_fraction': 0.8, 'learning_rate': 0.01, 'max_depth': 10, 'num_leaves': 31, 'num_threads': 4, 'objective': 'mae', 'verbose': -1, 'optimal_number_of_trees': 1010}, 5.606892068636038), ({'bagging_fraction': 0.8, 'boosting': 'gbdt', 'feature_fraction': 0.8, 'learning_rate': 0.01, 'max_depth': 10, 'num_leaves': 150, 'num_threads': 4, 'objective': 'mae', 'verbose': -1, 'optimal_number_of_trees': 1010}, 5.606892068636038), ({'bagging_fraction': 0.8, 'boosting': 'gbdt', 'feature_fraction': 0.8, 'learning_rate': 0.01, 'max_depth': 30, 'num_leaves': 7, 'num_threads': 4, 'objective': 'mae', 'verbose': -1, 'optimal_number_of_trees': 576}, 5.6030258879667985), ({'bagging_fraction': 0.8, 'boosting': 'gbdt', 'feature_fraction': 0.8, 'learning_rate': 0.01, 'max_depth': 30, 'num_leaves': 31, 'num_threads': 4, 'objective': 'mae', 'verbose': -1, 'optimal_number_of_trees': 896}, 5.607091851767135), ({'bagging_fraction': 0.8, 'boosting': 'gbdt', 'feature_fraction': 0.8, 'learning_rate': 0.01, 'max_depth': 30, 'num_leaves': 150, 'num_threads': 4, 'objective': 'mae', 'verbose': -1, 'optimal_number_of_trees': 896}, 5.607091851767135), ({'bagging_fraction': 0.8, 'boosting': 'gbdt', 'feature_fraction': 0.8, 'learning_rate': 0.01, 'max_depth': 51, 'num_leaves': 7, 'num_threads': 4, 'objective': 'mae', 'verbose': -1, 'optimal_number_of_trees': 576}, 5.6030258879667985), ({'bagging_fraction': 0.8, 'boosting': 'gbdt', 'feature_fraction': 0.8, 'learning_rate': 0.01, 'max_depth': 51, 'num_leaves': 31, 'num_threads': 4, 'objective': 'mae', 'verbose': -1, 'optimal_number_of_trees': 896}, 5.607091851767135), ({'bagging_fraction': 0.8, 'boosting': 'gbdt', 'feature_fraction': 0.8, 'learning_rate': 0.01, 'max_depth': 51, 'num_leaves': 150, 'num_threads': 4, 'objective': 'mae', 'verbose': -1, 'optimal_number_of_trees': 896}, 5.607091851767135)]\n",
      "Wall time: 4.79 s\n"
     ]
    }
   ],
   "source": [
    "%%time\n",
    "features = [\"inCityTripDistance\",\"outCityTripDistance\",\"duration\",\"trip_distance\"]\n",
    "code4_model_combined = optimisedLGM(param_grid,code4data_mixed[features],code4data_mixed[\"fare_amount\"]-2.5)"
   ]
  },
  {
   "cell_type": "markdown",
   "metadata": {},
   "source": [
    "Next: model for outer trips.\n"
   ]
  },
  {
   "cell_type": "code",
   "execution_count": 118,
   "metadata": {
    "scrolled": true
   },
   "outputs": [
    {
     "name": "stdout",
     "output_type": "stream",
     "text": [
      "Total parameter combinations to run: 12\n",
      "Starting run 1\n",
      "{'bagging_fraction': 0.8, 'boosting': 'gbdt', 'feature_fraction': 0.8, 'learning_rate': 0.01, 'max_depth': -1, 'num_leaves': 7, 'num_threads': 4, 'objective': 'mae', 'verbose': -1}\n",
      "[100]\tcv_agg's l1: 8.80424 + 0.159867\n",
      "[200]\tcv_agg's l1: 6.30027 + 0.0661248\n",
      "[300]\tcv_agg's l1: 5.62051 + 0.0513985\n",
      "[400]\tcv_agg's l1: 5.42636 + 0.0536865\n",
      "[500]\tcv_agg's l1: 5.36216 + 0.0571367\n",
      "[600]\tcv_agg's l1: 5.3395 + 0.0633218\n",
      "[700]\tcv_agg's l1: 5.33213 + 0.0647529\n",
      "[800]\tcv_agg's l1: 5.32751 + 0.0701029\n",
      "[900]\tcv_agg's l1: 5.31943 + 0.0748051\n",
      "Run done, took: 0.4 s\n",
      "Starting run 2\n",
      "{'bagging_fraction': 0.8, 'boosting': 'gbdt', 'feature_fraction': 0.8, 'learning_rate': 0.01, 'max_depth': -1, 'num_leaves': 31, 'num_threads': 4, 'objective': 'mae', 'verbose': -1}\n",
      "[100]\tcv_agg's l1: 8.63319 + 0.111411\n",
      "[200]\tcv_agg's l1: 6.22652 + 0.0712564\n",
      "[300]\tcv_agg's l1: 5.58939 + 0.112884\n",
      "[400]\tcv_agg's l1: 5.43134 + 0.142889\n",
      "[500]\tcv_agg's l1: 5.40721 + 0.163885\n",
      "Run done, took: 0.52 s\n",
      "Starting run 3\n",
      "{'bagging_fraction': 0.8, 'boosting': 'gbdt', 'feature_fraction': 0.8, 'learning_rate': 0.01, 'max_depth': -1, 'num_leaves': 150, 'num_threads': 4, 'objective': 'mae', 'verbose': -1}\n",
      "[100]\tcv_agg's l1: 8.63387 + 0.120594\n",
      "[200]\tcv_agg's l1: 6.20471 + 0.0780361\n",
      "[300]\tcv_agg's l1: 5.59371 + 0.120213\n",
      "[400]\tcv_agg's l1: 5.4714 + 0.145747\n",
      "[500]\tcv_agg's l1: 5.45638 + 0.161009\n",
      "Run done, took: 0.75 s\n",
      "Starting run 4\n",
      "{'bagging_fraction': 0.8, 'boosting': 'gbdt', 'feature_fraction': 0.8, 'learning_rate': 0.01, 'max_depth': 10, 'num_leaves': 7, 'num_threads': 4, 'objective': 'mae', 'verbose': -1}\n",
      "[100]\tcv_agg's l1: 8.80424 + 0.159867\n",
      "[200]\tcv_agg's l1: 6.30027 + 0.0661248\n",
      "[300]\tcv_agg's l1: 5.62051 + 0.0513985\n",
      "[400]\tcv_agg's l1: 5.42636 + 0.0536865\n",
      "[500]\tcv_agg's l1: 5.36216 + 0.0571367\n",
      "[600]\tcv_agg's l1: 5.3395 + 0.0633218\n",
      "[700]\tcv_agg's l1: 5.33213 + 0.0647529\n",
      "[800]\tcv_agg's l1: 5.32751 + 0.0701029\n",
      "[900]\tcv_agg's l1: 5.31943 + 0.0748051\n",
      "Run done, took: 0.41 s\n",
      "Starting run 5\n",
      "{'bagging_fraction': 0.8, 'boosting': 'gbdt', 'feature_fraction': 0.8, 'learning_rate': 0.01, 'max_depth': 10, 'num_leaves': 31, 'num_threads': 4, 'objective': 'mae', 'verbose': -1}\n",
      "[100]\tcv_agg's l1: 8.63438 + 0.112651\n",
      "[200]\tcv_agg's l1: 6.22844 + 0.0646538\n",
      "[300]\tcv_agg's l1: 5.60453 + 0.109972\n",
      "[400]\tcv_agg's l1: 5.44582 + 0.145806\n",
      "[500]\tcv_agg's l1: 5.4131 + 0.161103\n",
      "Run done, took: 0.51 s\n",
      "Starting run 6\n",
      "{'bagging_fraction': 0.8, 'boosting': 'gbdt', 'feature_fraction': 0.8, 'learning_rate': 0.01, 'max_depth': 10, 'num_leaves': 150, 'num_threads': 4, 'objective': 'mae', 'verbose': -1}\n",
      "[100]\tcv_agg's l1: 8.6319 + 0.12019\n",
      "[200]\tcv_agg's l1: 6.19516 + 0.0839913\n",
      "[300]\tcv_agg's l1: 5.57555 + 0.120658\n",
      "[400]\tcv_agg's l1: 5.44674 + 0.144546\n",
      "[500]\tcv_agg's l1: 5.42531 + 0.158483\n",
      "[600]\tcv_agg's l1: 5.42378 + 0.16156\n",
      "Run done, took: 0.69 s\n",
      "Starting run 7\n",
      "{'bagging_fraction': 0.8, 'boosting': 'gbdt', 'feature_fraction': 0.8, 'learning_rate': 0.01, 'max_depth': 30, 'num_leaves': 7, 'num_threads': 4, 'objective': 'mae', 'verbose': -1}\n",
      "[100]\tcv_agg's l1: 8.80424 + 0.159867\n",
      "[200]\tcv_agg's l1: 6.30027 + 0.0661248\n",
      "[300]\tcv_agg's l1: 5.62051 + 0.0513985\n",
      "[400]\tcv_agg's l1: 5.42636 + 0.0536865\n",
      "[500]\tcv_agg's l1: 5.36216 + 0.0571367\n",
      "[600]\tcv_agg's l1: 5.3395 + 0.0633218\n",
      "[700]\tcv_agg's l1: 5.33213 + 0.0647529\n",
      "[800]\tcv_agg's l1: 5.32751 + 0.0701029\n",
      "[900]\tcv_agg's l1: 5.31943 + 0.0748051\n",
      "Run done, took: 0.4 s\n",
      "Starting run 8\n",
      "{'bagging_fraction': 0.8, 'boosting': 'gbdt', 'feature_fraction': 0.8, 'learning_rate': 0.01, 'max_depth': 30, 'num_leaves': 31, 'num_threads': 4, 'objective': 'mae', 'verbose': -1}\n",
      "[100]\tcv_agg's l1: 8.63319 + 0.111411\n",
      "[200]\tcv_agg's l1: 6.22652 + 0.0712564\n",
      "[300]\tcv_agg's l1: 5.58939 + 0.112884\n",
      "[400]\tcv_agg's l1: 5.43134 + 0.142889\n",
      "[500]\tcv_agg's l1: 5.40721 + 0.163885\n",
      "Run done, took: 0.51 s\n",
      "Starting run 9\n",
      "{'bagging_fraction': 0.8, 'boosting': 'gbdt', 'feature_fraction': 0.8, 'learning_rate': 0.01, 'max_depth': 30, 'num_leaves': 150, 'num_threads': 4, 'objective': 'mae', 'verbose': -1}\n",
      "[100]\tcv_agg's l1: 8.63387 + 0.120594\n",
      "[200]\tcv_agg's l1: 6.20471 + 0.0780361\n",
      "[300]\tcv_agg's l1: 5.59371 + 0.120213\n",
      "[400]\tcv_agg's l1: 5.4714 + 0.145747\n",
      "[500]\tcv_agg's l1: 5.45787 + 0.159565\n",
      "Run done, took: 0.73 s\n",
      "Starting run 10\n",
      "{'bagging_fraction': 0.8, 'boosting': 'gbdt', 'feature_fraction': 0.8, 'learning_rate': 0.01, 'max_depth': 51, 'num_leaves': 7, 'num_threads': 4, 'objective': 'mae', 'verbose': -1}\n",
      "[100]\tcv_agg's l1: 8.80424 + 0.159867\n",
      "[200]\tcv_agg's l1: 6.30027 + 0.0661248\n",
      "[300]\tcv_agg's l1: 5.62051 + 0.0513985\n",
      "[400]\tcv_agg's l1: 5.42636 + 0.0536865\n",
      "[500]\tcv_agg's l1: 5.36216 + 0.0571367\n",
      "[600]\tcv_agg's l1: 5.3395 + 0.0633218\n",
      "[700]\tcv_agg's l1: 5.33213 + 0.0647529\n",
      "[800]\tcv_agg's l1: 5.32751 + 0.0701029\n",
      "[900]\tcv_agg's l1: 5.31943 + 0.0748051\n",
      "Run done, took: 0.41 s\n",
      "Starting run 11\n",
      "{'bagging_fraction': 0.8, 'boosting': 'gbdt', 'feature_fraction': 0.8, 'learning_rate': 0.01, 'max_depth': 51, 'num_leaves': 31, 'num_threads': 4, 'objective': 'mae', 'verbose': -1}\n",
      "[100]\tcv_agg's l1: 8.63319 + 0.111411\n",
      "[200]\tcv_agg's l1: 6.22652 + 0.0712564\n",
      "[300]\tcv_agg's l1: 5.58939 + 0.112884\n",
      "[400]\tcv_agg's l1: 5.43134 + 0.142889\n",
      "[500]\tcv_agg's l1: 5.40721 + 0.163885\n",
      "Run done, took: 0.51 s\n",
      "Starting run 12\n",
      "{'bagging_fraction': 0.8, 'boosting': 'gbdt', 'feature_fraction': 0.8, 'learning_rate': 0.01, 'max_depth': 51, 'num_leaves': 150, 'num_threads': 4, 'objective': 'mae', 'verbose': -1}\n",
      "[100]\tcv_agg's l1: 8.63387 + 0.120594\n",
      "[200]\tcv_agg's l1: 6.20471 + 0.0780361\n",
      "[300]\tcv_agg's l1: 5.59371 + 0.120213\n",
      "[400]\tcv_agg's l1: 5.4714 + 0.145747\n",
      "[500]\tcv_agg's l1: 5.45638 + 0.161009\n",
      "Run done, took: 0.74 s\n",
      "Best params: ({'bagging_fraction': 0.8, 'boosting': 'gbdt', 'feature_fraction': 0.8, 'learning_rate': 0.01, 'max_depth': 51, 'num_leaves': 150, 'num_threads': 4, 'objective': 'mae', 'verbose': -1, 'optimal_number_of_trees': 912}, 5.318372046042721)\n",
      "[('x', 2000), ({'bagging_fraction': 0.8, 'boosting': 'gbdt', 'feature_fraction': 0.8, 'learning_rate': 0.01, 'max_depth': 51, 'num_leaves': 150, 'num_threads': 4, 'objective': 'mae', 'verbose': -1, 'optimal_number_of_trees': 912}, 5.318372046042721), ({'bagging_fraction': 0.8, 'boosting': 'gbdt', 'feature_fraction': 0.8, 'learning_rate': 0.01, 'max_depth': -1, 'num_leaves': 31, 'num_threads': 4, 'objective': 'mae', 'verbose': -1, 'optimal_number_of_trees': 497}, 5.406908404699642), ({'bagging_fraction': 0.8, 'boosting': 'gbdt', 'feature_fraction': 0.8, 'learning_rate': 0.01, 'max_depth': -1, 'num_leaves': 150, 'num_threads': 4, 'objective': 'mae', 'verbose': -1, 'optimal_number_of_trees': 495}, 5.456135901931893), ({'bagging_fraction': 0.8, 'boosting': 'gbdt', 'feature_fraction': 0.8, 'learning_rate': 0.01, 'max_depth': 10, 'num_leaves': 7, 'num_threads': 4, 'objective': 'mae', 'verbose': -1, 'optimal_number_of_trees': 912}, 5.318372046042721), ({'bagging_fraction': 0.8, 'boosting': 'gbdt', 'feature_fraction': 0.8, 'learning_rate': 0.01, 'max_depth': 10, 'num_leaves': 31, 'num_threads': 4, 'objective': 'mae', 'verbose': -1, 'optimal_number_of_trees': 517}, 5.41159354771143), ({'bagging_fraction': 0.8, 'boosting': 'gbdt', 'feature_fraction': 0.8, 'learning_rate': 0.01, 'max_depth': 10, 'num_leaves': 150, 'num_threads': 4, 'objective': 'mae', 'verbose': -1, 'optimal_number_of_trees': 579}, 5.422848969782099), ({'bagging_fraction': 0.8, 'boosting': 'gbdt', 'feature_fraction': 0.8, 'learning_rate': 0.01, 'max_depth': 30, 'num_leaves': 7, 'num_threads': 4, 'objective': 'mae', 'verbose': -1, 'optimal_number_of_trees': 912}, 5.318372046042721), ({'bagging_fraction': 0.8, 'boosting': 'gbdt', 'feature_fraction': 0.8, 'learning_rate': 0.01, 'max_depth': 30, 'num_leaves': 31, 'num_threads': 4, 'objective': 'mae', 'verbose': -1, 'optimal_number_of_trees': 497}, 5.406908404699642), ({'bagging_fraction': 0.8, 'boosting': 'gbdt', 'feature_fraction': 0.8, 'learning_rate': 0.01, 'max_depth': 30, 'num_leaves': 150, 'num_threads': 4, 'objective': 'mae', 'verbose': -1, 'optimal_number_of_trees': 470}, 5.45678156074156), ({'bagging_fraction': 0.8, 'boosting': 'gbdt', 'feature_fraction': 0.8, 'learning_rate': 0.01, 'max_depth': 51, 'num_leaves': 7, 'num_threads': 4, 'objective': 'mae', 'verbose': -1, 'optimal_number_of_trees': 912}, 5.318372046042721), ({'bagging_fraction': 0.8, 'boosting': 'gbdt', 'feature_fraction': 0.8, 'learning_rate': 0.01, 'max_depth': 51, 'num_leaves': 31, 'num_threads': 4, 'objective': 'mae', 'verbose': -1, 'optimal_number_of_trees': 497}, 5.406908404699642), ({'bagging_fraction': 0.8, 'boosting': 'gbdt', 'feature_fraction': 0.8, 'learning_rate': 0.01, 'max_depth': 51, 'num_leaves': 150, 'num_threads': 4, 'objective': 'mae', 'verbose': -1, 'optimal_number_of_trees': 495}, 5.456135901931893)]\n"
     ]
    },
    {
     "name": "stdout",
     "output_type": "stream",
     "text": [
      "Wall time: 7.28 s\n"
     ]
    }
   ],
   "source": [
    "%%time\n",
    "# make train set\n",
    "features = [\"passenger_count\",\"trip_distance\",\"payment_type\",\"duration\"]\n",
    "\n",
    "code4_model_out = optimisedLGM(param_grid,code4data_out[features],code4data_out[\"fare_amount\"]-2.5)"
   ]
  },
  {
   "cell_type": "markdown",
   "metadata": {},
   "source": [
    "## Prediction"
   ]
  },
  {
   "cell_type": "code",
   "execution_count": 70,
   "metadata": {},
   "outputs": [],
   "source": [
    "#apply to test set\n",
    "code4test[\"endsInManhattan\"] = code4test.apply(lambda x : inArea(manhattan_cords,x[\"dropoff_latitude\"],x[\"dropoff_longitude\"]),axis=1)\n",
    "code4test[\"startsInManhattan\"] = code4test.apply(lambda x : inArea(manhattan_cords,x[\"pickup_latitude\"],x[\"pickup_longitude\"]),axis=1)"
   ]
  },
  {
   "cell_type": "markdown",
   "metadata": {},
   "source": [
    "We have four possible trip patterns:\n",
    "    1. starts in city, ends in city --> should not have ratecode 4 -> outlier, ignore\n",
    "    2. starts in city, ends out of city -> standard trip\n",
    "    3. starts out of city, ends out of city -> no calculations to be done here, use double rate for whole trip\n",
    "    4. starts out of city, ends in city -> reverse standard trip"
   ]
  },
  {
   "cell_type": "code",
   "execution_count": 71,
   "metadata": {},
   "outputs": [
    {
     "data": {
      "text/plain": [
       "(1000, 22)"
      ]
     },
     "execution_count": 71,
     "metadata": {},
     "output_type": "execute_result"
    }
   ],
   "source": [
    "np.shape(code4test)"
   ]
  },
  {
   "cell_type": "code",
   "execution_count": 72,
   "metadata": {},
   "outputs": [
    {
     "data": {
      "text/plain": [
       "(35, 22)"
      ]
     },
     "execution_count": 72,
     "metadata": {},
     "output_type": "execute_result"
    }
   ],
   "source": [
    "#option1: trips that start and end in manhattan, these should not have this ratecode\n",
    "code4test_wrong = code4test[(code4test.startsInManhattan & code4test.endsInManhattan)]\n",
    "np.shape(code4test_wrong)"
   ]
  },
  {
   "cell_type": "code",
   "execution_count": 73,
   "metadata": {},
   "outputs": [
    {
     "data": {
      "text/plain": [
       "(238, 22)"
      ]
     },
     "execution_count": 73,
     "metadata": {},
     "output_type": "execute_result"
    }
   ],
   "source": [
    "#option2 & option 4: \n",
    "code4test_mixed = code4test[code4test.startsInManhattan ^ code4test.endsInManhattan] \n",
    "np.shape(code4test_mixed)"
   ]
  },
  {
   "cell_type": "code",
   "execution_count": 74,
   "metadata": {},
   "outputs": [
    {
     "data": {
      "text/plain": [
       "(727, 22)"
      ]
     },
     "execution_count": 74,
     "metadata": {},
     "output_type": "execute_result"
    }
   ],
   "source": [
    "#option 3:\n",
    "code4test_out = code4test[(code4test.startsInManhattan==False) & (code4test.endsInManhattan==False)] \n",
    "np.shape(code4test_out)"
   ]
  },
  {
   "cell_type": "code",
   "execution_count": 75,
   "metadata": {},
   "outputs": [],
   "source": [
    "# try to find out which bridge is used in a trip \n",
    "# assumption: the bridge is used that minimizes the pickup-bridge-dropoff distance (air-line distance)\n",
    "counter = 1\n",
    "for index, row in code4test_mixed.iterrows():\n",
    "    \n",
    "    startP = (row[\"pickup_latitude\"],row[\"pickup_longitude\"])\n",
    "    endP = (row[\"dropoff_latitude\"],row[\"dropoff_longitude\"])\n",
    "    \n",
    "    if(row.startsInManhattan and row.endsInManhattan):\n",
    "        #print(\"Outlier found, index\",index)\n",
    "        continue\n",
    "    elif (not row.startsInManhattan and not row.endsInManhattan):\n",
    "        #print(\"Complete out of city trip, index\",index)\n",
    "        code4test_mixed.at[index,\"bridge\"] = None;\n",
    "        code4test_mixed.at[index,\"in_city_distance\"] = 0;\n",
    "        code4test_mixed.at[index,\"out_of_city_distance\"] = geodesic(startP, endP).miles\n",
    "        code4test_mixed.at[index,\"total_over_bridge_distance\"] = geodesic(startP, endP).miles  \n",
    "        continue\n",
    "    elif (not row.startsInManhattan and  row.endsInManhattan): # reverse trip\n",
    "        temp = startP # here we swap start and endpoints so its similar to a standard trip\n",
    "        startP = endP\n",
    "        endP = temp\n",
    "    \n",
    "    #find closest bridge\n",
    "    closest_bridge_index = -1\n",
    "    closest_total_bridge_distance = float('inf')\n",
    "    for i in range(len(bridges)):\n",
    "        distance_to_bridge = geodesic(startP, bridges[i]).miles\n",
    "        distance_to_dest =  geodesic(bridges[i],endP).miles\n",
    "        total = distance_to_bridge + distance_to_dest\n",
    "        if(total < closest_total_bridge_distance):\n",
    "            closest_total_bridge_distance = total\n",
    "            closest_bridge_index = i\n",
    "            closest_distance_to_bridge = distance_to_bridge\n",
    "            closest_distance_to_dest = distance_to_dest\n",
    "            \n",
    "    #print(\"Route {} travels over bridge/tunnel {} (to bridge: {:0.2f}, to dest: {:0.2f}, total: {:0.2f}, trip_distance : {:0.2f})\".format(\n",
    "    #    counter, closest_bridge_index,closest_distance_to_bridge,closest_distance_to_dest,closest_total_bridge_distance,totalDistance))\n",
    "    counter = counter + 1\n",
    "    \n",
    "    code4test_mixed.at[index,\"bridge\"] = closest_bridge_index;\n",
    "    code4test_mixed.at[index,\"in_city_distance\"] = closest_distance_to_bridge;\n",
    "    code4test_mixed.at[index,\"out_of_city_distance\"] = closest_distance_to_dest\n",
    "    code4test_mixed.at[index,\"total_over_bridge_distance\"] = closest_total_bridge_distance       "
   ]
  },
  {
   "cell_type": "code",
   "execution_count": 76,
   "metadata": {},
   "outputs": [],
   "source": [
    "#states how much of the fare was contributed by ride in the city. Calculated by \n",
    "code4test_mixed[\"inCityPercentage\"] = code4test_mixed.apply(lambda x: x.in_city_distance/(x.in_city_distance+2*x.out_of_city_distance+0.0001),axis=1)"
   ]
  },
  {
   "cell_type": "code",
   "execution_count": 77,
   "metadata": {},
   "outputs": [],
   "source": [
    "code4test_mixed[\"inCityTripDistance\"] = code4test_mixed.apply(lambda x: x.in_city_distance/(x.in_city_distance+x.out_of_city_distance),axis=1)\n",
    "code4test_mixed[\"outCityTripDistance\"] = code4test_mixed.apply(lambda x: x.out_of_city_distance/(x.in_city_distance+x.out_of_city_distance),axis=1)"
   ]
  },
  {
   "cell_type": "code",
   "execution_count": 78,
   "metadata": {},
   "outputs": [],
   "source": [
    "code4test_mixed[\"inCityTripDistanceExtreme\"] = code4test_mixed.apply(lambda x: x.inCityPercentage*x.trip_distance,axis=1)\n",
    "code4test_mixed[\"outCityTripDistanceExtreme\"] = code4test_mixed.apply(lambda x: (1-x.inCityPercentage)*x.trip_distance,axis=1)"
   ]
  },
  {
   "cell_type": "code",
   "execution_count": 79,
   "metadata": {},
   "outputs": [],
   "source": [
    "# prediction for the inner city part\n",
    "code4_mixed_inner_pred = code4_model_inner.predict(code4test_mixed[features_inner])"
   ]
  },
  {
   "cell_type": "code",
   "execution_count": 80,
   "metadata": {},
   "outputs": [],
   "source": [
    "#prediction for out of city part\n",
    "code4_mixed_outer_pred = code4_model_outer.predict(code4test_mixed[features_outer])"
   ]
  },
  {
   "cell_type": "code",
   "execution_count": 91,
   "metadata": {},
   "outputs": [],
   "source": [
    "features = [\"inCityTripDistance\",\"outCityTripDistance\",\"duration\",\"trip_distance\"]\n",
    "code4_mixed_combined_pred = code4_model_combined.predict(code4test_mixed[features])"
   ]
  },
  {
   "cell_type": "code",
   "execution_count": 92,
   "metadata": {},
   "outputs": [],
   "source": [
    "#combine the results\n",
    "#round comined predictions to closest .5\n",
    "#add 2.5 inital charge which was removed before training\n",
    "code4test_mixed[\"fare_amount_prediction\"]=np.round((code4_mixed_inner_pred+code4_mixed_outer_pred)*2)/2+2.5"
   ]
  },
  {
   "cell_type": "code",
   "execution_count": 93,
   "metadata": {},
   "outputs": [
    {
     "data": {
      "text/plain": [
       "count    238.000000\n",
       "mean      69.617647\n",
       "std       18.584078\n",
       "min       16.500000\n",
       "25%       58.000000\n",
       "50%       69.250000\n",
       "75%       88.250000\n",
       "max       99.000000\n",
       "Name: fare_amount_prediction, dtype: float64"
      ]
     },
     "execution_count": 93,
     "metadata": {},
     "output_type": "execute_result"
    }
   ],
   "source": [
    "code4test_mixed[\"fare_amount_prediction\"].describe()"
   ]
  },
  {
   "cell_type": "code",
   "execution_count": 94,
   "metadata": {},
   "outputs": [],
   "source": [
    "code4test_mixed[\"fare_amount_prediction\"]=np.round(code4_mixed_combined_pred*2)/2+2.5"
   ]
  },
  {
   "cell_type": "code",
   "execution_count": 95,
   "metadata": {},
   "outputs": [
    {
     "data": {
      "text/plain": [
       "count    238.000000\n",
       "mean      69.661765\n",
       "std       18.716520\n",
       "min       16.500000\n",
       "25%       59.000000\n",
       "50%       68.250000\n",
       "75%       89.000000\n",
       "max       99.000000\n",
       "Name: fare_amount_prediction, dtype: float64"
      ]
     },
     "execution_count": 95,
     "metadata": {},
     "output_type": "execute_result"
    }
   ],
   "source": [
    "code4test_mixed[\"fare_amount_prediction\"].describe()"
   ]
  },
  {
   "cell_type": "markdown",
   "metadata": {},
   "source": [
    "Next: predict out trips."
   ]
  },
  {
   "cell_type": "code",
   "execution_count": 98,
   "metadata": {},
   "outputs": [],
   "source": [
    "code4test_out_pred = code4_model_out.predict(code4test_out[features])\n",
    "code4test_out[\"fare_amount_prediction\"]=np.round(code4test_out_pred*2)/2+2.5"
   ]
  },
  {
   "cell_type": "markdown",
   "metadata": {},
   "source": [
    "Lastly: predict trips that only were in Manhattan with double rate model (same as outer trips)"
   ]
  },
  {
   "cell_type": "code",
   "execution_count": 99,
   "metadata": {},
   "outputs": [],
   "source": [
    "code4_test_wrong_pred = code4_model_out.predict(code4test_wrong[features])\n",
    "code4test_wrong[\"fare_amount_prediction\"]=np.round(code4_test_wrong_pred*2)/2+2.5"
   ]
  },
  {
   "cell_type": "code",
   "execution_count": 100,
   "metadata": {},
   "outputs": [],
   "source": [
    "#combine all code 4 dataframes with predictions\n",
    "code4test = pd.concat([code4test_mixed,code4test_out,code4test_wrong])"
   ]
  },
  {
   "cell_type": "markdown",
   "metadata": {},
   "source": [
    "# Ratecode 5 (Negotiated Fares)"
   ]
  },
  {
   "cell_type": "markdown",
   "metadata": {},
   "source": [
    "## Building the Model"
   ]
  },
  {
   "cell_type": "code",
   "execution_count": 121,
   "metadata": {},
   "outputs": [],
   "source": [
    "code5data = train[train.RatecodeID == 5]\n",
    "code5test = test[test.RatecodeID == 5]"
   ]
  },
  {
   "cell_type": "code",
   "execution_count": 135,
   "metadata": {
    "scrolled": true
   },
   "outputs": [
    {
     "name": "stdout",
     "output_type": "stream",
     "text": [
      "Total parameter combinations to run: 12\n",
      "Starting run 1\n",
      "{'bagging_fraction': 0.8, 'boosting': 'gbdt', 'feature_fraction': 0.8, 'learning_rate': 0.01, 'max_depth': -1, 'num_leaves': 7, 'num_threads': 4, 'objective': 'mae', 'verbose': -1}\n",
      "[100]\tcv_agg's l1: 22.6366 + 0.538672\n",
      "[200]\tcv_agg's l1: 20.033 + 0.390178\n",
      "[300]\tcv_agg's l1: 19.4319 + 0.338101\n",
      "[400]\tcv_agg's l1: 19.2631 + 0.270222\n",
      "[500]\tcv_agg's l1: 19.191 + 0.259863\n",
      "[600]\tcv_agg's l1: 19.1655 + 0.273324\n",
      "[700]\tcv_agg's l1: 19.1471 + 0.292948\n",
      "[800]\tcv_agg's l1: 19.1343 + 0.292049\n",
      "[900]\tcv_agg's l1: 19.1072 + 0.273166\n",
      "Run done, took: 0.84 s\n",
      "Starting run 2\n",
      "{'bagging_fraction': 0.8, 'boosting': 'gbdt', 'feature_fraction': 0.8, 'learning_rate': 0.01, 'max_depth': -1, 'num_leaves': 31, 'num_threads': 4, 'objective': 'mae', 'verbose': -1}\n",
      "[100]\tcv_agg's l1: 22.1045 + 0.412054\n",
      "[200]\tcv_agg's l1: 19.7559 + 0.333923\n",
      "[300]\tcv_agg's l1: 19.3135 + 0.287187\n",
      "[400]\tcv_agg's l1: 19.2102 + 0.27133\n",
      "[500]\tcv_agg's l1: 19.1982 + 0.272157\n",
      "Run done, took: 0.97 s\n",
      "Starting run 3\n",
      "{'bagging_fraction': 0.8, 'boosting': 'gbdt', 'feature_fraction': 0.8, 'learning_rate': 0.01, 'max_depth': -1, 'num_leaves': 150, 'num_threads': 4, 'objective': 'mae', 'verbose': -1}\n",
      "[100]\tcv_agg's l1: 21.99 + 0.384754\n",
      "[200]\tcv_agg's l1: 19.8453 + 0.285159\n",
      "[300]\tcv_agg's l1: 19.513 + 0.261635\n",
      "[400]\tcv_agg's l1: 19.5003 + 0.261115\n",
      "Run done, took: 1.91 s\n",
      "Starting run 4\n",
      "{'bagging_fraction': 0.8, 'boosting': 'gbdt', 'feature_fraction': 0.8, 'learning_rate': 0.01, 'max_depth': 10, 'num_leaves': 7, 'num_threads': 4, 'objective': 'mae', 'verbose': -1}\n",
      "[100]\tcv_agg's l1: 22.6366 + 0.538672\n",
      "[200]\tcv_agg's l1: 20.033 + 0.390178\n",
      "[300]\tcv_agg's l1: 19.4319 + 0.338101\n",
      "[400]\tcv_agg's l1: 19.2631 + 0.270222\n",
      "[500]\tcv_agg's l1: 19.191 + 0.259863\n",
      "[600]\tcv_agg's l1: 19.1655 + 0.273324\n",
      "[700]\tcv_agg's l1: 19.1471 + 0.292948\n",
      "[800]\tcv_agg's l1: 19.1343 + 0.292049\n",
      "[900]\tcv_agg's l1: 19.1072 + 0.273166\n",
      "Run done, took: 0.86 s\n",
      "Starting run 5\n",
      "{'bagging_fraction': 0.8, 'boosting': 'gbdt', 'feature_fraction': 0.8, 'learning_rate': 0.01, 'max_depth': 10, 'num_leaves': 31, 'num_threads': 4, 'objective': 'mae', 'verbose': -1}\n",
      "[100]\tcv_agg's l1: 22.1052 + 0.410721\n",
      "[200]\tcv_agg's l1: 19.7547 + 0.33036\n",
      "[300]\tcv_agg's l1: 19.3037 + 0.270508\n",
      "[400]\tcv_agg's l1: 19.2014 + 0.270108\n",
      "Run done, took: 0.89 s\n",
      "Starting run 6\n",
      "{'bagging_fraction': 0.8, 'boosting': 'gbdt', 'feature_fraction': 0.8, 'learning_rate': 0.01, 'max_depth': 10, 'num_leaves': 150, 'num_threads': 4, 'objective': 'mae', 'verbose': -1}\n",
      "[100]\tcv_agg's l1: 21.8541 + 0.368731\n",
      "[200]\tcv_agg's l1: 19.7821 + 0.290619\n",
      "[300]\tcv_agg's l1: 19.4724 + 0.271734\n",
      "[400]\tcv_agg's l1: 19.4529 + 0.276136\n",
      "Run done, took: 1.81 s\n",
      "Starting run 7\n",
      "{'bagging_fraction': 0.8, 'boosting': 'gbdt', 'feature_fraction': 0.8, 'learning_rate': 0.01, 'max_depth': 30, 'num_leaves': 7, 'num_threads': 4, 'objective': 'mae', 'verbose': -1}\n",
      "[100]\tcv_agg's l1: 22.6366 + 0.538672\n",
      "[200]\tcv_agg's l1: 20.033 + 0.390178\n",
      "[300]\tcv_agg's l1: 19.4319 + 0.338101\n",
      "[400]\tcv_agg's l1: 19.2631 + 0.270222\n",
      "[500]\tcv_agg's l1: 19.191 + 0.259863\n",
      "[600]\tcv_agg's l1: 19.1655 + 0.273324\n",
      "[700]\tcv_agg's l1: 19.1471 + 0.292948\n",
      "[800]\tcv_agg's l1: 19.1343 + 0.292049\n",
      "[900]\tcv_agg's l1: 19.1072 + 0.273166\n",
      "Run done, took: 1.01 s\n",
      "Starting run 8\n",
      "{'bagging_fraction': 0.8, 'boosting': 'gbdt', 'feature_fraction': 0.8, 'learning_rate': 0.01, 'max_depth': 30, 'num_leaves': 31, 'num_threads': 4, 'objective': 'mae', 'verbose': -1}\n",
      "[100]\tcv_agg's l1: 22.1045 + 0.412054\n",
      "[200]\tcv_agg's l1: 19.7559 + 0.333923\n",
      "[300]\tcv_agg's l1: 19.3135 + 0.287187\n",
      "[400]\tcv_agg's l1: 19.2102 + 0.27133\n",
      "[500]\tcv_agg's l1: 19.1982 + 0.272157\n",
      "Run done, took: 1.18 s\n",
      "Starting run 9\n",
      "{'bagging_fraction': 0.8, 'boosting': 'gbdt', 'feature_fraction': 0.8, 'learning_rate': 0.01, 'max_depth': 30, 'num_leaves': 150, 'num_threads': 4, 'objective': 'mae', 'verbose': -1}\n",
      "[100]\tcv_agg's l1: 21.99 + 0.384754\n",
      "[200]\tcv_agg's l1: 19.8453 + 0.285159\n",
      "[300]\tcv_agg's l1: 19.5105 + 0.265337\n",
      "[400]\tcv_agg's l1: 19.4953 + 0.263131\n",
      "Run done, took: 2.13 s\n",
      "Starting run 10\n",
      "{'bagging_fraction': 0.8, 'boosting': 'gbdt', 'feature_fraction': 0.8, 'learning_rate': 0.01, 'max_depth': 51, 'num_leaves': 7, 'num_threads': 4, 'objective': 'mae', 'verbose': -1}\n",
      "[100]\tcv_agg's l1: 22.6366 + 0.538672\n",
      "[200]\tcv_agg's l1: 20.033 + 0.390178\n",
      "[300]\tcv_agg's l1: 19.4319 + 0.338101\n",
      "[400]\tcv_agg's l1: 19.2631 + 0.270222\n",
      "[500]\tcv_agg's l1: 19.191 + 0.259863\n",
      "[600]\tcv_agg's l1: 19.1655 + 0.273324\n",
      "[700]\tcv_agg's l1: 19.1471 + 0.292948\n",
      "[800]\tcv_agg's l1: 19.1343 + 0.292049\n",
      "[900]\tcv_agg's l1: 19.1072 + 0.273166\n",
      "Run done, took: 0.85 s\n",
      "Starting run 11\n",
      "{'bagging_fraction': 0.8, 'boosting': 'gbdt', 'feature_fraction': 0.8, 'learning_rate': 0.01, 'max_depth': 51, 'num_leaves': 31, 'num_threads': 4, 'objective': 'mae', 'verbose': -1}\n",
      "[100]\tcv_agg's l1: 22.1045 + 0.412054\n",
      "[200]\tcv_agg's l1: 19.7559 + 0.333923\n",
      "[300]\tcv_agg's l1: 19.3135 + 0.287187\n",
      "[400]\tcv_agg's l1: 19.2102 + 0.27133\n",
      "[500]\tcv_agg's l1: 19.1982 + 0.272157\n",
      "Run done, took: 1.09 s\n",
      "Starting run 12\n",
      "{'bagging_fraction': 0.8, 'boosting': 'gbdt', 'feature_fraction': 0.8, 'learning_rate': 0.01, 'max_depth': 51, 'num_leaves': 150, 'num_threads': 4, 'objective': 'mae', 'verbose': -1}\n",
      "[100]\tcv_agg's l1: 21.99 + 0.384754\n",
      "[200]\tcv_agg's l1: 19.8453 + 0.285159\n",
      "[300]\tcv_agg's l1: 19.513 + 0.261635\n",
      "[400]\tcv_agg's l1: 19.5003 + 0.261115\n",
      "Run done, took: 1.99 s\n",
      "Best params: ({'bagging_fraction': 0.8, 'boosting': 'gbdt', 'feature_fraction': 0.8, 'learning_rate': 0.01, 'max_depth': 51, 'num_leaves': 150, 'num_threads': 4, 'objective': 'mae', 'verbose': -1, 'optimal_number_of_trees': 926}, 19.10654141235498)\n",
      "[('x', 2000), ({'bagging_fraction': 0.8, 'boosting': 'gbdt', 'feature_fraction': 0.8, 'learning_rate': 0.01, 'max_depth': 51, 'num_leaves': 150, 'num_threads': 4, 'objective': 'mae', 'verbose': -1, 'optimal_number_of_trees': 926}, 19.10654141235498), ({'bagging_fraction': 0.8, 'boosting': 'gbdt', 'feature_fraction': 0.8, 'learning_rate': 0.01, 'max_depth': -1, 'num_leaves': 31, 'num_threads': 4, 'objective': 'mae', 'verbose': -1, 'optimal_number_of_trees': 507}, 19.19725967950286), ({'bagging_fraction': 0.8, 'boosting': 'gbdt', 'feature_fraction': 0.8, 'learning_rate': 0.01, 'max_depth': -1, 'num_leaves': 150, 'num_threads': 4, 'objective': 'mae', 'verbose': -1, 'optimal_number_of_trees': 354}, 19.492933156993455), ({'bagging_fraction': 0.8, 'boosting': 'gbdt', 'feature_fraction': 0.8, 'learning_rate': 0.01, 'max_depth': 10, 'num_leaves': 7, 'num_threads': 4, 'objective': 'mae', 'verbose': -1, 'optimal_number_of_trees': 926}, 19.10654141235498), ({'bagging_fraction': 0.8, 'boosting': 'gbdt', 'feature_fraction': 0.8, 'learning_rate': 0.01, 'max_depth': 10, 'num_leaves': 31, 'num_threads': 4, 'objective': 'mae', 'verbose': -1, 'optimal_number_of_trees': 440}, 19.194173126322134), ({'bagging_fraction': 0.8, 'boosting': 'gbdt', 'feature_fraction': 0.8, 'learning_rate': 0.01, 'max_depth': 10, 'num_leaves': 150, 'num_threads': 4, 'objective': 'mae', 'verbose': -1, 'optimal_number_of_trees': 373}, 19.449329266448622), ({'bagging_fraction': 0.8, 'boosting': 'gbdt', 'feature_fraction': 0.8, 'learning_rate': 0.01, 'max_depth': 30, 'num_leaves': 7, 'num_threads': 4, 'objective': 'mae', 'verbose': -1, 'optimal_number_of_trees': 926}, 19.10654141235498), ({'bagging_fraction': 0.8, 'boosting': 'gbdt', 'feature_fraction': 0.8, 'learning_rate': 0.01, 'max_depth': 30, 'num_leaves': 31, 'num_threads': 4, 'objective': 'mae', 'verbose': -1, 'optimal_number_of_trees': 507}, 19.19725967950286), ({'bagging_fraction': 0.8, 'boosting': 'gbdt', 'feature_fraction': 0.8, 'learning_rate': 0.01, 'max_depth': 30, 'num_leaves': 150, 'num_threads': 4, 'objective': 'mae', 'verbose': -1, 'optimal_number_of_trees': 355}, 19.48955353912936), ({'bagging_fraction': 0.8, 'boosting': 'gbdt', 'feature_fraction': 0.8, 'learning_rate': 0.01, 'max_depth': 51, 'num_leaves': 7, 'num_threads': 4, 'objective': 'mae', 'verbose': -1, 'optimal_number_of_trees': 926}, 19.10654141235498), ({'bagging_fraction': 0.8, 'boosting': 'gbdt', 'feature_fraction': 0.8, 'learning_rate': 0.01, 'max_depth': 51, 'num_leaves': 31, 'num_threads': 4, 'objective': 'mae', 'verbose': -1, 'optimal_number_of_trees': 507}, 19.19725967950286), ({'bagging_fraction': 0.8, 'boosting': 'gbdt', 'feature_fraction': 0.8, 'learning_rate': 0.01, 'max_depth': 51, 'num_leaves': 150, 'num_threads': 4, 'objective': 'mae', 'verbose': -1, 'optimal_number_of_trees': 354}, 19.492933156993455)]\n"
     ]
    },
    {
     "name": "stdout",
     "output_type": "stream",
     "text": [
      "Wall time: 17.2 s\n"
     ]
    }
   ],
   "source": [
    "%%time\n",
    "features = [\"duration\",\"passenger_count\",\"trip_distance\",\"payment_type\",\"avg_speed\"]\n",
    "\n",
    "code5_model = optimisedLGM(param_grid,code5data[features],code5data[\"fare_amount\"]-2.5)"
   ]
  },
  {
   "cell_type": "markdown",
   "metadata": {},
   "source": [
    "## Prediction"
   ]
  },
  {
   "cell_type": "code",
   "execution_count": 123,
   "metadata": {},
   "outputs": [],
   "source": [
    "code5prediction = np.round(code5_model.predict(code5test[features])*2)/2\n",
    "code5test = code5test.assign(fare_amount_prediction = code5prediction)"
   ]
  },
  {
   "cell_type": "markdown",
   "metadata": {},
   "source": [
    "# Recombine all predictions and save"
   ]
  },
  {
   "cell_type": "code",
   "execution_count": 124,
   "metadata": {},
   "outputs": [],
   "source": [
    "testResult = pd.concat([code1test,code2test,code3test,code4test,code5test])"
   ]
  },
  {
   "cell_type": "code",
   "execution_count": 105,
   "metadata": {},
   "outputs": [],
   "source": [
    "testResult.to_csv(\"C:\\\\Users\\\\Leo\\\\Dropbox\\\\Info Göttingen\\\\Practical Course Data Science\\\\Task 2\\\\data\\\\test_prediction.csv\")"
   ]
  },
  {
   "cell_type": "code",
   "execution_count": 125,
   "metadata": {},
   "outputs": [
    {
     "data": {
      "text/plain": [
       "count    64000.000000\n",
       "mean        23.675461\n",
       "std         24.956687\n",
       "min          3.000000\n",
       "25%          7.500000\n",
       "50%         12.000000\n",
       "75%         31.500000\n",
       "max        291.000000\n",
       "Name: fare_amount_prediction, dtype: float64"
      ]
     },
     "execution_count": 125,
     "metadata": {},
     "output_type": "execute_result"
    }
   ],
   "source": [
    "testResult.fare_amount_prediction.describe()"
   ]
  },
  {
   "cell_type": "code",
   "execution_count": 126,
   "metadata": {
    "scrolled": true
   },
   "outputs": [
    {
     "data": {
      "text/html": [
       "<div>\n",
       "<style scoped>\n",
       "    .dataframe tbody tr th:only-of-type {\n",
       "        vertical-align: middle;\n",
       "    }\n",
       "\n",
       "    .dataframe tbody tr th {\n",
       "        vertical-align: top;\n",
       "    }\n",
       "\n",
       "    .dataframe thead th {\n",
       "        text-align: right;\n",
       "    }\n",
       "</style>\n",
       "<table border=\"1\" class=\"dataframe\">\n",
       "  <thead>\n",
       "    <tr style=\"text-align: right;\">\n",
       "      <th></th>\n",
       "      <th>RatecodeID</th>\n",
       "      <th>VendorID</th>\n",
       "      <th>avg_speed</th>\n",
       "      <th>bridge</th>\n",
       "      <th>dropoff_latitude</th>\n",
       "      <th>dropoff_longitude</th>\n",
       "      <th>duration</th>\n",
       "      <th>fare_amount_prediction</th>\n",
       "      <th>id</th>\n",
       "      <th>improvement_surcharge</th>\n",
       "      <th>...</th>\n",
       "      <th>outCityTripDistanceExtreme</th>\n",
       "      <th>out_of_city_distance</th>\n",
       "      <th>passenger_count</th>\n",
       "      <th>payment_type</th>\n",
       "      <th>pickup_latitude</th>\n",
       "      <th>pickup_longitude</th>\n",
       "      <th>ridesAtPickupHour</th>\n",
       "      <th>tolls_amount</th>\n",
       "      <th>total_over_bridge_distance</th>\n",
       "      <th>trip_distance</th>\n",
       "    </tr>\n",
       "  </thead>\n",
       "  <tbody>\n",
       "    <tr>\n",
       "      <th>count</th>\n",
       "      <td>64000.000000</td>\n",
       "      <td>64000.000000</td>\n",
       "      <td>64000.000000</td>\n",
       "      <td>238.00000</td>\n",
       "      <td>64000.000000</td>\n",
       "      <td>64000.000000</td>\n",
       "      <td>64000.000000</td>\n",
       "      <td>64000.000000</td>\n",
       "      <td>64000.000000</td>\n",
       "      <td>64000.000000</td>\n",
       "      <td>...</td>\n",
       "      <td>238.000000</td>\n",
       "      <td>238.000000</td>\n",
       "      <td>64000.000000</td>\n",
       "      <td>64000.000000</td>\n",
       "      <td>64000.000000</td>\n",
       "      <td>64000.000000</td>\n",
       "      <td>64000.000000</td>\n",
       "      <td>64000.00000</td>\n",
       "      <td>238.000000</td>\n",
       "      <td>64000.000000</td>\n",
       "    </tr>\n",
       "    <tr>\n",
       "      <th>mean</th>\n",
       "      <td>1.406250</td>\n",
       "      <td>1.537047</td>\n",
       "      <td>14.546904</td>\n",
       "      <td>9.89916</td>\n",
       "      <td>40.746855</td>\n",
       "      <td>-73.975568</td>\n",
       "      <td>1230.515344</td>\n",
       "      <td>23.675461</td>\n",
       "      <td>32000.500000</td>\n",
       "      <td>0.299991</td>\n",
       "      <td>...</td>\n",
       "      <td>18.743958</td>\n",
       "      <td>12.461605</td>\n",
       "      <td>1.671188</td>\n",
       "      <td>1.337031</td>\n",
       "      <td>40.744481</td>\n",
       "      <td>-73.960769</td>\n",
       "      <td>61706.202937</td>\n",
       "      <td>1.74787</td>\n",
       "      <td>16.208426</td>\n",
       "      <td>5.896713</td>\n",
       "    </tr>\n",
       "    <tr>\n",
       "      <th>std</th>\n",
       "      <td>0.913769</td>\n",
       "      <td>0.498630</td>\n",
       "      <td>9.388043</td>\n",
       "      <td>4.81803</td>\n",
       "      <td>0.047903</td>\n",
       "      <td>0.084823</td>\n",
       "      <td>1080.955692</td>\n",
       "      <td>24.956687</td>\n",
       "      <td>18475.352951</td>\n",
       "      <td>0.001677</td>\n",
       "      <td>...</td>\n",
       "      <td>9.182369</td>\n",
       "      <td>6.509709</td>\n",
       "      <td>1.303686</td>\n",
       "      <td>0.492926</td>\n",
       "      <td>0.037676</td>\n",
       "      <td>0.060701</td>\n",
       "      <td>18274.788438</td>\n",
       "      <td>4.14628</td>\n",
       "      <td>6.321360</td>\n",
       "      <td>7.234262</td>\n",
       "    </tr>\n",
       "    <tr>\n",
       "      <th>min</th>\n",
       "      <td>1.000000</td>\n",
       "      <td>1.000000</td>\n",
       "      <td>0.014337</td>\n",
       "      <td>0.00000</td>\n",
       "      <td>40.045311</td>\n",
       "      <td>-74.833679</td>\n",
       "      <td>40.000000</td>\n",
       "      <td>3.000000</td>\n",
       "      <td>1.000000</td>\n",
       "      <td>0.000000</td>\n",
       "      <td>...</td>\n",
       "      <td>1.658264</td>\n",
       "      <td>0.662656</td>\n",
       "      <td>0.000000</td>\n",
       "      <td>1.000000</td>\n",
       "      <td>40.535580</td>\n",
       "      <td>-74.527763</td>\n",
       "      <td>6784.000000</td>\n",
       "      <td>0.00000</td>\n",
       "      <td>1.763670</td>\n",
       "      <td>0.010000</td>\n",
       "    </tr>\n",
       "    <tr>\n",
       "      <th>25%</th>\n",
       "      <td>1.000000</td>\n",
       "      <td>1.000000</td>\n",
       "      <td>8.153310</td>\n",
       "      <td>7.00000</td>\n",
       "      <td>40.725780</td>\n",
       "      <td>-73.993828</td>\n",
       "      <td>468.000000</td>\n",
       "      <td>7.500000</td>\n",
       "      <td>16000.750000</td>\n",
       "      <td>0.300000</td>\n",
       "      <td>...</td>\n",
       "      <td>12.923967</td>\n",
       "      <td>8.278194</td>\n",
       "      <td>1.000000</td>\n",
       "      <td>1.000000</td>\n",
       "      <td>40.732536</td>\n",
       "      <td>-73.991264</td>\n",
       "      <td>54731.000000</td>\n",
       "      <td>0.00000</td>\n",
       "      <td>12.896369</td>\n",
       "      <td>1.200000</td>\n",
       "    </tr>\n",
       "    <tr>\n",
       "      <th>50%</th>\n",
       "      <td>1.000000</td>\n",
       "      <td>2.000000</td>\n",
       "      <td>11.716077</td>\n",
       "      <td>10.00000</td>\n",
       "      <td>40.751484</td>\n",
       "      <td>-73.980309</td>\n",
       "      <td>858.000000</td>\n",
       "      <td>12.000000</td>\n",
       "      <td>32000.500000</td>\n",
       "      <td>0.300000</td>\n",
       "      <td>...</td>\n",
       "      <td>17.606952</td>\n",
       "      <td>11.964156</td>\n",
       "      <td>1.000000</td>\n",
       "      <td>1.000000</td>\n",
       "      <td>40.752197</td>\n",
       "      <td>-73.980370</td>\n",
       "      <td>61849.000000</td>\n",
       "      <td>0.00000</td>\n",
       "      <td>15.435084</td>\n",
       "      <td>2.260000</td>\n",
       "    </tr>\n",
       "    <tr>\n",
       "      <th>75%</th>\n",
       "      <td>1.000000</td>\n",
       "      <td>2.000000</td>\n",
       "      <td>18.140034</td>\n",
       "      <td>12.00000</td>\n",
       "      <td>40.768697</td>\n",
       "      <td>-73.960541</td>\n",
       "      <td>1659.000000</td>\n",
       "      <td>31.500000</td>\n",
       "      <td>48000.250000</td>\n",
       "      <td>0.300000</td>\n",
       "      <td>...</td>\n",
       "      <td>23.086686</td>\n",
       "      <td>15.545136</td>\n",
       "      <td>2.000000</td>\n",
       "      <td>2.000000</td>\n",
       "      <td>40.766815</td>\n",
       "      <td>-73.962111</td>\n",
       "      <td>73550.000000</td>\n",
       "      <td>0.00000</td>\n",
       "      <td>18.683674</td>\n",
       "      <td>8.080000</td>\n",
       "    </tr>\n",
       "    <tr>\n",
       "      <th>max</th>\n",
       "      <td>5.000000</td>\n",
       "      <td>2.000000</td>\n",
       "      <td>176.170213</td>\n",
       "      <td>19.00000</td>\n",
       "      <td>41.525589</td>\n",
       "      <td>-72.551582</td>\n",
       "      <td>9931.000000</td>\n",
       "      <td>291.000000</td>\n",
       "      <td>64000.000000</td>\n",
       "      <td>0.300000</td>\n",
       "      <td>...</td>\n",
       "      <td>59.300306</td>\n",
       "      <td>37.757120</td>\n",
       "      <td>9.000000</td>\n",
       "      <td>4.000000</td>\n",
       "      <td>41.255787</td>\n",
       "      <td>-72.659561</td>\n",
       "      <td>101559.000000</td>\n",
       "      <td>82.50000</td>\n",
       "      <td>39.327866</td>\n",
       "      <td>86.600000</td>\n",
       "    </tr>\n",
       "  </tbody>\n",
       "</table>\n",
       "<p>8 rows × 25 columns</p>\n",
       "</div>"
      ],
      "text/plain": [
       "         RatecodeID      VendorID     avg_speed     bridge  dropoff_latitude  \\\n",
       "count  64000.000000  64000.000000  64000.000000  238.00000      64000.000000   \n",
       "mean       1.406250      1.537047     14.546904    9.89916         40.746855   \n",
       "std        0.913769      0.498630      9.388043    4.81803          0.047903   \n",
       "min        1.000000      1.000000      0.014337    0.00000         40.045311   \n",
       "25%        1.000000      1.000000      8.153310    7.00000         40.725780   \n",
       "50%        1.000000      2.000000     11.716077   10.00000         40.751484   \n",
       "75%        1.000000      2.000000     18.140034   12.00000         40.768697   \n",
       "max        5.000000      2.000000    176.170213   19.00000         41.525589   \n",
       "\n",
       "       dropoff_longitude      duration  fare_amount_prediction            id  \\\n",
       "count       64000.000000  64000.000000            64000.000000  64000.000000   \n",
       "mean          -73.975568   1230.515344               23.675461  32000.500000   \n",
       "std             0.084823   1080.955692               24.956687  18475.352951   \n",
       "min           -74.833679     40.000000                3.000000      1.000000   \n",
       "25%           -73.993828    468.000000                7.500000  16000.750000   \n",
       "50%           -73.980309    858.000000               12.000000  32000.500000   \n",
       "75%           -73.960541   1659.000000               31.500000  48000.250000   \n",
       "max           -72.551582   9931.000000              291.000000  64000.000000   \n",
       "\n",
       "       improvement_surcharge      ...        outCityTripDistanceExtreme  \\\n",
       "count           64000.000000      ...                        238.000000   \n",
       "mean                0.299991      ...                         18.743958   \n",
       "std                 0.001677      ...                          9.182369   \n",
       "min                 0.000000      ...                          1.658264   \n",
       "25%                 0.300000      ...                         12.923967   \n",
       "50%                 0.300000      ...                         17.606952   \n",
       "75%                 0.300000      ...                         23.086686   \n",
       "max                 0.300000      ...                         59.300306   \n",
       "\n",
       "       out_of_city_distance  passenger_count  payment_type  pickup_latitude  \\\n",
       "count            238.000000     64000.000000  64000.000000     64000.000000   \n",
       "mean              12.461605         1.671188      1.337031        40.744481   \n",
       "std                6.509709         1.303686      0.492926         0.037676   \n",
       "min                0.662656         0.000000      1.000000        40.535580   \n",
       "25%                8.278194         1.000000      1.000000        40.732536   \n",
       "50%               11.964156         1.000000      1.000000        40.752197   \n",
       "75%               15.545136         2.000000      2.000000        40.766815   \n",
       "max               37.757120         9.000000      4.000000        41.255787   \n",
       "\n",
       "       pickup_longitude  ridesAtPickupHour  tolls_amount  \\\n",
       "count      64000.000000       64000.000000   64000.00000   \n",
       "mean         -73.960769       61706.202937       1.74787   \n",
       "std            0.060701       18274.788438       4.14628   \n",
       "min          -74.527763        6784.000000       0.00000   \n",
       "25%          -73.991264       54731.000000       0.00000   \n",
       "50%          -73.980370       61849.000000       0.00000   \n",
       "75%          -73.962111       73550.000000       0.00000   \n",
       "max          -72.659561      101559.000000      82.50000   \n",
       "\n",
       "       total_over_bridge_distance  trip_distance  \n",
       "count                  238.000000   64000.000000  \n",
       "mean                    16.208426       5.896713  \n",
       "std                      6.321360       7.234262  \n",
       "min                      1.763670       0.010000  \n",
       "25%                     12.896369       1.200000  \n",
       "50%                     15.435084       2.260000  \n",
       "75%                     18.683674       8.080000  \n",
       "max                     39.327866      86.600000  \n",
       "\n",
       "[8 rows x 25 columns]"
      ]
     },
     "execution_count": 126,
     "metadata": {},
     "output_type": "execute_result"
    }
   ],
   "source": [
    "testResult.describe()"
   ]
  },
  {
   "cell_type": "code",
   "execution_count": 127,
   "metadata": {
    "scrolled": true
   },
   "outputs": [
    {
     "data": {
      "text/html": [
       "<div>\n",
       "<style scoped>\n",
       "    .dataframe tbody tr th:only-of-type {\n",
       "        vertical-align: middle;\n",
       "    }\n",
       "\n",
       "    .dataframe tbody tr th {\n",
       "        vertical-align: top;\n",
       "    }\n",
       "\n",
       "    .dataframe thead th {\n",
       "        text-align: right;\n",
       "    }\n",
       "</style>\n",
       "<table border=\"1\" class=\"dataframe\">\n",
       "  <thead>\n",
       "    <tr style=\"text-align: right;\">\n",
       "      <th></th>\n",
       "      <th>RatecodeID</th>\n",
       "      <th>VendorID</th>\n",
       "      <th>avg_speed</th>\n",
       "      <th>bridge</th>\n",
       "      <th>day</th>\n",
       "      <th>dropoff_latitude</th>\n",
       "      <th>dropoff_longitude</th>\n",
       "      <th>duration</th>\n",
       "      <th>endsInManhattan</th>\n",
       "      <th>fare_amount_prediction</th>\n",
       "      <th>...</th>\n",
       "      <th>pickup_latitude</th>\n",
       "      <th>pickup_longitude</th>\n",
       "      <th>ridesAtPickupHour</th>\n",
       "      <th>startsInManhattan</th>\n",
       "      <th>store_and_fwd_flag</th>\n",
       "      <th>tolls_amount</th>\n",
       "      <th>total_over_bridge_distance</th>\n",
       "      <th>tpep_dropoff_datetime</th>\n",
       "      <th>tpep_pickup_datetime</th>\n",
       "      <th>trip_distance</th>\n",
       "    </tr>\n",
       "  </thead>\n",
       "  <tbody>\n",
       "    <tr>\n",
       "      <th>62740</th>\n",
       "      <td>5</td>\n",
       "      <td>2</td>\n",
       "      <td>53.284661</td>\n",
       "      <td>NaN</td>\n",
       "      <td>Friday</td>\n",
       "      <td>40.847366</td>\n",
       "      <td>-72.551582</td>\n",
       "      <td>5561.0</td>\n",
       "      <td>NaN</td>\n",
       "      <td>291.0</td>\n",
       "      <td>...</td>\n",
       "      <td>40.746029</td>\n",
       "      <td>-73.974525</td>\n",
       "      <td>78053</td>\n",
       "      <td>NaN</td>\n",
       "      <td>N</td>\n",
       "      <td>5.54</td>\n",
       "      <td>NaN</td>\n",
       "      <td>2016-05-27 20:51:57</td>\n",
       "      <td>2016-05-27 19:19:16</td>\n",
       "      <td>82.31</td>\n",
       "    </tr>\n",
       "  </tbody>\n",
       "</table>\n",
       "<p>1 rows × 32 columns</p>\n",
       "</div>"
      ],
      "text/plain": [
       "       RatecodeID  VendorID  avg_speed  bridge     day  dropoff_latitude  \\\n",
       "62740           5         2  53.284661     NaN  Friday         40.847366   \n",
       "\n",
       "       dropoff_longitude  duration endsInManhattan  fare_amount_prediction  \\\n",
       "62740         -72.551582    5561.0             NaN                   291.0   \n",
       "\n",
       "           ...        pickup_latitude  pickup_longitude  ridesAtPickupHour  \\\n",
       "62740      ...              40.746029        -73.974525              78053   \n",
       "\n",
       "       startsInManhattan  store_and_fwd_flag  tolls_amount  \\\n",
       "62740                NaN                   N          5.54   \n",
       "\n",
       "       total_over_bridge_distance  tpep_dropoff_datetime  \\\n",
       "62740                         NaN    2016-05-27 20:51:57   \n",
       "\n",
       "       tpep_pickup_datetime  trip_distance  \n",
       "62740   2016-05-27 19:19:16          82.31  \n",
       "\n",
       "[1 rows x 32 columns]"
      ]
     },
     "execution_count": 127,
     "metadata": {},
     "output_type": "execute_result"
    }
   ],
   "source": [
    "testResult[testResult.fare_amount_prediction == testResult.fare_amount_prediction.max()]"
   ]
  },
  {
   "cell_type": "code",
   "execution_count": 109,
   "metadata": {},
   "outputs": [
    {
     "data": {
      "text/html": [
       "<div>\n",
       "<style scoped>\n",
       "    .dataframe tbody tr th:only-of-type {\n",
       "        vertical-align: middle;\n",
       "    }\n",
       "\n",
       "    .dataframe tbody tr th {\n",
       "        vertical-align: top;\n",
       "    }\n",
       "\n",
       "    .dataframe thead th {\n",
       "        text-align: right;\n",
       "    }\n",
       "</style>\n",
       "<table border=\"1\" class=\"dataframe\">\n",
       "  <thead>\n",
       "    <tr style=\"text-align: right;\">\n",
       "      <th></th>\n",
       "      <th>RatecodeID</th>\n",
       "      <th>VendorID</th>\n",
       "      <th>avg_speed</th>\n",
       "      <th>bridge</th>\n",
       "      <th>day</th>\n",
       "      <th>dropoff_latitude</th>\n",
       "      <th>dropoff_longitude</th>\n",
       "      <th>duration</th>\n",
       "      <th>endsInManhattan</th>\n",
       "      <th>fare_amount_prediction</th>\n",
       "      <th>...</th>\n",
       "      <th>pickup_latitude</th>\n",
       "      <th>pickup_longitude</th>\n",
       "      <th>ridesAtPickupHour</th>\n",
       "      <th>startsInManhattan</th>\n",
       "      <th>store_and_fwd_flag</th>\n",
       "      <th>tolls_amount</th>\n",
       "      <th>total_over_bridge_distance</th>\n",
       "      <th>tpep_dropoff_datetime</th>\n",
       "      <th>tpep_pickup_datetime</th>\n",
       "      <th>trip_distance</th>\n",
       "    </tr>\n",
       "  </thead>\n",
       "  <tbody>\n",
       "    <tr>\n",
       "      <th>62191</th>\n",
       "      <td>5</td>\n",
       "      <td>1</td>\n",
       "      <td>40.577899</td>\n",
       "      <td>NaN</td>\n",
       "      <td>Saturday</td>\n",
       "      <td>41.460213</td>\n",
       "      <td>-73.235245</td>\n",
       "      <td>7683.0</td>\n",
       "      <td>NaN</td>\n",
       "      <td>120.5</td>\n",
       "      <td>...</td>\n",
       "      <td>40.643486</td>\n",
       "      <td>-73.789948</td>\n",
       "      <td>64154</td>\n",
       "      <td>NaN</td>\n",
       "      <td>N</td>\n",
       "      <td>7.62</td>\n",
       "      <td>NaN</td>\n",
       "      <td>2016-05-21 16:49:42</td>\n",
       "      <td>2016-05-21 14:41:39</td>\n",
       "      <td>86.6</td>\n",
       "    </tr>\n",
       "  </tbody>\n",
       "</table>\n",
       "<p>1 rows × 32 columns</p>\n",
       "</div>"
      ],
      "text/plain": [
       "       RatecodeID  VendorID  avg_speed  bridge       day  dropoff_latitude  \\\n",
       "62191           5         1  40.577899     NaN  Saturday         41.460213   \n",
       "\n",
       "       dropoff_longitude  duration endsInManhattan  fare_amount_prediction  \\\n",
       "62191         -73.235245    7683.0             NaN                   120.5   \n",
       "\n",
       "           ...        pickup_latitude  pickup_longitude  ridesAtPickupHour  \\\n",
       "62191      ...              40.643486        -73.789948              64154   \n",
       "\n",
       "       startsInManhattan  store_and_fwd_flag  tolls_amount  \\\n",
       "62191                NaN                   N          7.62   \n",
       "\n",
       "       total_over_bridge_distance  tpep_dropoff_datetime  \\\n",
       "62191                         NaN    2016-05-21 16:49:42   \n",
       "\n",
       "       tpep_pickup_datetime  trip_distance  \n",
       "62191   2016-05-21 14:41:39           86.6  \n",
       "\n",
       "[1 rows x 32 columns]"
      ]
     },
     "execution_count": 109,
     "metadata": {},
     "output_type": "execute_result"
    }
   ],
   "source": [
    "testResult[testResult.trip_distance == testResult.trip_distance.max()]"
   ]
  },
  {
   "cell_type": "markdown",
   "metadata": {},
   "source": [
    "# Archive"
   ]
  },
  {
   "cell_type": "markdown",
   "metadata": {},
   "source": [
    "### Ratecode 1"
   ]
  },
  {
   "cell_type": "code",
   "execution_count": null,
   "metadata": {},
   "outputs": [],
   "source": [
    "import lightgbm as lgb\n",
    "\n",
    "features = [\"duration\",\"passenger_count\",\"trip_distance\",\"payment_type\",\"avg_speed\"]\n",
    "\n",
    "code1lgb_dataset = lgb.Dataset(code1data[features], label=code1data[\"fare_amount\"])\n",
    "\n",
    "params = {}\n",
    "params['learning_rate'] = .05\n",
    "params['boosting_type'] = 'gbdt'\n",
    "params[\"objective\"] = \"regression\"\n",
    "params['min_samples_split'] = 3\n",
    "params['min_samples_leaf'] = 15\n",
    "params['max_features'] = 'sqrt'\n",
    "params['max_depth'] = 10\n",
    "params['subsample'] = 0.8\n",
    "\n",
    "code1_model = lgb.train(params, code1lgb_dataset, 300)"
   ]
  },
  {
   "cell_type": "markdown",
   "metadata": {},
   "source": [
    "### Ratecode 4"
   ]
  },
  {
   "cell_type": "code",
   "execution_count": null,
   "metadata": {},
   "outputs": [],
   "source": [
    "#train models for the in city and out of city parts\n",
    "code4_model_inner = RandomForestRegressor(random_state=1337)\n",
    "code4_model_outer = RandomForestRegressor(random_state=1338)\n",
    "\n",
    "#chose features\n",
    "features_inner = [\"passenger_count\",\"in_city_distance\",\"inCityTripDistanceExtreme\",\"inCityTripDistance\",\"payment_type\"]\n",
    "features_outer = [\"passenger_count\", \"out_of_city_distance\",\"outCityTripDistanceExtreme\",\"payment_type\"]\n",
    "\n",
    "mixed_inner_train = code4data_mixed[features_inner]\n",
    "mixed_outer_train = code4data_mixed[features_outer]\n",
    "\n",
    "#fit the models\n",
    "code4_model_inner.fit(mixed_inner_train,code4data_mixed[\"inCityFare\"])\n",
    "code4_model_outer.fit(mixed_outer_train,code4data_mixed[\"outCityFare\"]);"
   ]
  }
 ],
 "metadata": {
  "kernelspec": {
   "display_name": "Python 3",
   "language": "python",
   "name": "python3"
  },
  "language_info": {
   "codemirror_mode": {
    "name": "ipython",
    "version": 3
   },
   "file_extension": ".py",
   "mimetype": "text/x-python",
   "name": "python",
   "nbconvert_exporter": "python",
   "pygments_lexer": "ipython3",
   "version": "3.6.4"
  }
 },
 "nbformat": 4,
 "nbformat_minor": 2
}
